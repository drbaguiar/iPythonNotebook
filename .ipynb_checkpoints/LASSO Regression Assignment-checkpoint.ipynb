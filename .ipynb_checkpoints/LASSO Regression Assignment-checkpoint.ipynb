{
 "cells": [
  {
   "cell_type": "code",
   "execution_count": 1,
   "metadata": {
    "collapsed": true
   },
   "outputs": [],
   "source": [
    "#from pandas import Series, DataFrame\n",
    "import pandas as pd\n",
    "import numpy as np\n",
    "import matplotlib.pylab as plt\n",
    "%matplotlib inline\n",
    "\n",
    "from sklearn.cross_validation import train_test_split\n",
    "from sklearn.linear_model import LassoLarsCV\n",
    "from sklearn import preprocessing\n",
    "\n",
    "import warnings\n",
    "warnings.filterwarnings('ignore')"
   ]
  },
  {
   "cell_type": "code",
   "execution_count": 2,
   "metadata": {
    "collapsed": false
   },
   "outputs": [
    {
     "data": {
      "text/html": [
       "<div>\n",
       "<table border=\"1\" class=\"dataframe\">\n",
       "  <thead>\n",
       "    <tr style=\"text-align: right;\">\n",
       "      <th></th>\n",
       "      <th>country</th>\n",
       "      <th>incomeperperson</th>\n",
       "      <th>alcconsumption</th>\n",
       "      <th>armedforcesrate</th>\n",
       "      <th>breastcancerper100th</th>\n",
       "      <th>co2emissions</th>\n",
       "      <th>femaleemployrate</th>\n",
       "      <th>hivrate</th>\n",
       "      <th>internetuserate</th>\n",
       "      <th>lifeexpectancy</th>\n",
       "      <th>oilperperson</th>\n",
       "      <th>polityscore</th>\n",
       "      <th>relectricperperson</th>\n",
       "      <th>suicideper100th</th>\n",
       "      <th>employrate</th>\n",
       "      <th>urbanrate</th>\n",
       "    </tr>\n",
       "  </thead>\n",
       "  <tbody>\n",
       "    <tr>\n",
       "      <th>0</th>\n",
       "      <td>Afghanistan</td>\n",
       "      <td></td>\n",
       "      <td>.03</td>\n",
       "      <td>.5696534</td>\n",
       "      <td>26.8</td>\n",
       "      <td>75944000</td>\n",
       "      <td>25.6000003814697</td>\n",
       "      <td></td>\n",
       "      <td>3.65412162280064</td>\n",
       "      <td>48.673</td>\n",
       "      <td></td>\n",
       "      <td>0</td>\n",
       "      <td></td>\n",
       "      <td>6.68438529968262</td>\n",
       "      <td>55.7000007629394</td>\n",
       "      <td>24.04</td>\n",
       "    </tr>\n",
       "    <tr>\n",
       "      <th>1</th>\n",
       "      <td>Albania</td>\n",
       "      <td>1914.99655094922</td>\n",
       "      <td>7.29</td>\n",
       "      <td>1.0247361</td>\n",
       "      <td>57.4</td>\n",
       "      <td>223747333.333333</td>\n",
       "      <td>42.0999984741211</td>\n",
       "      <td></td>\n",
       "      <td>44.9899469578783</td>\n",
       "      <td>76.918</td>\n",
       "      <td></td>\n",
       "      <td>9</td>\n",
       "      <td>636.341383366604</td>\n",
       "      <td>7.69932985305786</td>\n",
       "      <td>51.4000015258789</td>\n",
       "      <td>46.72</td>\n",
       "    </tr>\n",
       "    <tr>\n",
       "      <th>2</th>\n",
       "      <td>Algeria</td>\n",
       "      <td>2231.99333515006</td>\n",
       "      <td>.69</td>\n",
       "      <td>2.306817</td>\n",
       "      <td>23.5</td>\n",
       "      <td>2932108666.66667</td>\n",
       "      <td>31.7000007629394</td>\n",
       "      <td>.1</td>\n",
       "      <td>12.5000733055148</td>\n",
       "      <td>73.131</td>\n",
       "      <td>.42009452521537</td>\n",
       "      <td>2</td>\n",
       "      <td>590.509814347428</td>\n",
       "      <td>4.8487696647644</td>\n",
       "      <td>50.5</td>\n",
       "      <td>65.22</td>\n",
       "    </tr>\n",
       "    <tr>\n",
       "      <th>3</th>\n",
       "      <td>Andorra</td>\n",
       "      <td>21943.3398976022</td>\n",
       "      <td>10.17</td>\n",
       "      <td></td>\n",
       "      <td></td>\n",
       "      <td></td>\n",
       "      <td></td>\n",
       "      <td></td>\n",
       "      <td>81</td>\n",
       "      <td></td>\n",
       "      <td></td>\n",
       "      <td></td>\n",
       "      <td></td>\n",
       "      <td>5.36217880249023</td>\n",
       "      <td></td>\n",
       "      <td>88.92</td>\n",
       "    </tr>\n",
       "    <tr>\n",
       "      <th>4</th>\n",
       "      <td>Angola</td>\n",
       "      <td>1381.00426770244</td>\n",
       "      <td>5.57</td>\n",
       "      <td>1.4613288</td>\n",
       "      <td>23.1</td>\n",
       "      <td>248358000</td>\n",
       "      <td>69.4000015258789</td>\n",
       "      <td>2</td>\n",
       "      <td>9.99995388324075</td>\n",
       "      <td>51.093</td>\n",
       "      <td></td>\n",
       "      <td>-2</td>\n",
       "      <td>172.999227388199</td>\n",
       "      <td>14.5546770095825</td>\n",
       "      <td>75.6999969482422</td>\n",
       "      <td>56.7</td>\n",
       "    </tr>\n",
       "  </tbody>\n",
       "</table>\n",
       "</div>"
      ],
      "text/plain": [
       "       country   incomeperperson alcconsumption armedforcesrate  \\\n",
       "0  Afghanistan                              .03        .5696534   \n",
       "1      Albania  1914.99655094922           7.29       1.0247361   \n",
       "2      Algeria  2231.99333515006            .69        2.306817   \n",
       "3      Andorra  21943.3398976022          10.17                   \n",
       "4       Angola  1381.00426770244           5.57       1.4613288   \n",
       "\n",
       "  breastcancerper100th      co2emissions  femaleemployrate hivrate  \\\n",
       "0                 26.8          75944000  25.6000003814697           \n",
       "1                 57.4  223747333.333333  42.0999984741211           \n",
       "2                 23.5  2932108666.66667  31.7000007629394      .1   \n",
       "3                                                                    \n",
       "4                 23.1         248358000  69.4000015258789       2   \n",
       "\n",
       "    internetuserate lifeexpectancy     oilperperson polityscore  \\\n",
       "0  3.65412162280064         48.673                            0   \n",
       "1  44.9899469578783         76.918                            9   \n",
       "2  12.5000733055148         73.131  .42009452521537           2   \n",
       "3                81                                               \n",
       "4  9.99995388324075         51.093                           -2   \n",
       "\n",
       "  relectricperperson   suicideper100th        employrate urbanrate  \n",
       "0                     6.68438529968262  55.7000007629394     24.04  \n",
       "1   636.341383366604  7.69932985305786  51.4000015258789     46.72  \n",
       "2   590.509814347428   4.8487696647644              50.5     65.22  \n",
       "3                     5.36217880249023                       88.92  \n",
       "4   172.999227388199  14.5546770095825  75.6999969482422      56.7  "
      ]
     },
     "execution_count": 2,
     "metadata": {},
     "output_type": "execute_result"
    }
   ],
   "source": [
    "data = pd.read_csv('D:/Data/CourseraClass/gapminder.csv')\n",
    "len(data)\n",
    "data.head()"
   ]
  },
  {
   "cell_type": "markdown",
   "metadata": {},
   "source": [
    "## Data Management\n",
    "\n",
    "### Remove N/A records"
   ]
  },
  {
   "cell_type": "code",
   "execution_count": 3,
   "metadata": {
    "collapsed": false
   },
   "outputs": [
    {
     "name": "stdout",
     "output_type": "stream",
     "text": [
      "135\n"
     ]
    }
   ],
   "source": [
    "data['suicideper100th'] = data['suicideper100th'].replace(r'\\s+', np.nan, regex=True)\n",
    "data['internetuserate'] = data['internetuserate'].replace(r'\\s+', np.nan, regex=True)\n",
    "data['incomeperperson']= data['incomeperperson'].replace(r'\\s+', np.nan, regex=True)\n",
    "data['employrate']= data['employrate'].replace(r'\\s+', np.nan, regex=True)\n",
    "data['urbanrate']= data['urbanrate'].replace(r'\\s+', np.nan, regex=True)\n",
    "data['alcconsumption']= data['alcconsumption'].replace(r'\\s+', np.nan, regex=True)\n",
    "data['armedforcesrate']= data['armedforcesrate'].replace(r'\\s+', np.nan, regex=True)\n",
    "data['breastcancerper100th']= data['breastcancerper100th'].replace(r'\\s+', np.nan, regex=True)\n",
    "data['co2emissions']= data['co2emissions'].replace(r'\\s+', np.nan, regex=True)\n",
    "data['femaleemployrate']= data['femaleemployrate'].replace(r'\\s+', np.nan, regex=True)\n",
    "data['lifeexpectancy']= data['lifeexpectancy'].replace(r'\\s+', np.nan, regex=True)\n",
    "data['hivrate']= data['hivrate'].replace(r'\\s+', np.nan, regex=True)\n",
    "\n",
    "data_clean = data.dropna()\n",
    "print (len(data_clean))"
   ]
  },
  {
   "cell_type": "markdown",
   "metadata": {},
   "source": [
    "### Make sure the fields are numbers"
   ]
  },
  {
   "cell_type": "code",
   "execution_count": 4,
   "metadata": {
    "collapsed": false
   },
   "outputs": [
    {
     "data": {
      "text/html": [
       "<div>\n",
       "<table border=\"1\" class=\"dataframe\">\n",
       "  <thead>\n",
       "    <tr style=\"text-align: right;\">\n",
       "      <th></th>\n",
       "      <th>country</th>\n",
       "      <th>incomeperperson</th>\n",
       "      <th>alcconsumption</th>\n",
       "      <th>armedforcesrate</th>\n",
       "      <th>breastcancerper100th</th>\n",
       "      <th>co2emissions</th>\n",
       "      <th>femaleemployrate</th>\n",
       "      <th>hivrate</th>\n",
       "      <th>internetuserate</th>\n",
       "      <th>lifeexpectancy</th>\n",
       "      <th>oilperperson</th>\n",
       "      <th>polityscore</th>\n",
       "      <th>relectricperperson</th>\n",
       "      <th>suicideper100th</th>\n",
       "      <th>employrate</th>\n",
       "      <th>urbanrate</th>\n",
       "    </tr>\n",
       "  </thead>\n",
       "  <tbody>\n",
       "    <tr>\n",
       "      <th>2</th>\n",
       "      <td>Algeria</td>\n",
       "      <td>2231.993335</td>\n",
       "      <td>0.69</td>\n",
       "      <td>2.306817</td>\n",
       "      <td>23.5</td>\n",
       "      <td>2.932109e+09</td>\n",
       "      <td>2.932109e+09</td>\n",
       "      <td>2.932109e+09</td>\n",
       "      <td>12.500073</td>\n",
       "      <td>2.932109e+09</td>\n",
       "      <td>.42009452521537</td>\n",
       "      <td>2</td>\n",
       "      <td>590.509814347428</td>\n",
       "      <td>4.848770</td>\n",
       "      <td>50.500000</td>\n",
       "      <td>65.22</td>\n",
       "    </tr>\n",
       "    <tr>\n",
       "      <th>4</th>\n",
       "      <td>Angola</td>\n",
       "      <td>1381.004268</td>\n",
       "      <td>5.57</td>\n",
       "      <td>1.461329</td>\n",
       "      <td>23.1</td>\n",
       "      <td>2.483580e+08</td>\n",
       "      <td>2.483580e+08</td>\n",
       "      <td>2.483580e+08</td>\n",
       "      <td>9.999954</td>\n",
       "      <td>2.483580e+08</td>\n",
       "      <td></td>\n",
       "      <td>-2</td>\n",
       "      <td>172.999227388199</td>\n",
       "      <td>14.554677</td>\n",
       "      <td>75.699997</td>\n",
       "      <td>56.70</td>\n",
       "    </tr>\n",
       "    <tr>\n",
       "      <th>6</th>\n",
       "      <td>Argentina</td>\n",
       "      <td>10749.419238</td>\n",
       "      <td>9.35</td>\n",
       "      <td>0.560987</td>\n",
       "      <td>73.9</td>\n",
       "      <td>5.872119e+09</td>\n",
       "      <td>5.872119e+09</td>\n",
       "      <td>5.872119e+09</td>\n",
       "      <td>36.000335</td>\n",
       "      <td>5.872119e+09</td>\n",
       "      <td>.635943800978195</td>\n",
       "      <td>8</td>\n",
       "      <td>768.428299701347</td>\n",
       "      <td>7.765584</td>\n",
       "      <td>58.400002</td>\n",
       "      <td>92.00</td>\n",
       "    </tr>\n",
       "    <tr>\n",
       "      <th>7</th>\n",
       "      <td>Armenia</td>\n",
       "      <td>1326.741757</td>\n",
       "      <td>13.66</td>\n",
       "      <td>2.618438</td>\n",
       "      <td>51.6</td>\n",
       "      <td>5.121967e+07</td>\n",
       "      <td>5.121967e+07</td>\n",
       "      <td>5.121967e+07</td>\n",
       "      <td>44.001025</td>\n",
       "      <td>5.121967e+07</td>\n",
       "      <td></td>\n",
       "      <td>5</td>\n",
       "      <td>603.763057563433</td>\n",
       "      <td>3.741588</td>\n",
       "      <td>40.099998</td>\n",
       "      <td>63.86</td>\n",
       "    </tr>\n",
       "    <tr>\n",
       "      <th>9</th>\n",
       "      <td>Australia</td>\n",
       "      <td>25249.986061</td>\n",
       "      <td>10.21</td>\n",
       "      <td>0.486280</td>\n",
       "      <td>83.2</td>\n",
       "      <td>1.297009e+10</td>\n",
       "      <td>1.297009e+10</td>\n",
       "      <td>1.297009e+10</td>\n",
       "      <td>75.895654</td>\n",
       "      <td>1.297009e+10</td>\n",
       "      <td>1.91302610912404</td>\n",
       "      <td>10</td>\n",
       "      <td>2825.39109539914</td>\n",
       "      <td>8.470030</td>\n",
       "      <td>61.500000</td>\n",
       "      <td>88.74</td>\n",
       "    </tr>\n",
       "  </tbody>\n",
       "</table>\n",
       "</div>"
      ],
      "text/plain": [
       "     country  incomeperperson  alcconsumption  armedforcesrate  \\\n",
       "2    Algeria      2231.993335            0.69         2.306817   \n",
       "4     Angola      1381.004268            5.57         1.461329   \n",
       "6  Argentina     10749.419238            9.35         0.560987   \n",
       "7    Armenia      1326.741757           13.66         2.618438   \n",
       "9  Australia     25249.986061           10.21         0.486280   \n",
       "\n",
       "   breastcancerper100th  co2emissions  femaleemployrate       hivrate  \\\n",
       "2                  23.5  2.932109e+09      2.932109e+09  2.932109e+09   \n",
       "4                  23.1  2.483580e+08      2.483580e+08  2.483580e+08   \n",
       "6                  73.9  5.872119e+09      5.872119e+09  5.872119e+09   \n",
       "7                  51.6  5.121967e+07      5.121967e+07  5.121967e+07   \n",
       "9                  83.2  1.297009e+10      1.297009e+10  1.297009e+10   \n",
       "\n",
       "   internetuserate  lifeexpectancy      oilperperson polityscore  \\\n",
       "2        12.500073    2.932109e+09   .42009452521537           2   \n",
       "4         9.999954    2.483580e+08                            -2   \n",
       "6        36.000335    5.872119e+09  .635943800978195           8   \n",
       "7        44.001025    5.121967e+07                             5   \n",
       "9        75.895654    1.297009e+10  1.91302610912404          10   \n",
       "\n",
       "  relectricperperson  suicideper100th  employrate  urbanrate  \n",
       "2   590.509814347428         4.848770   50.500000      65.22  \n",
       "4   172.999227388199        14.554677   75.699997      56.70  \n",
       "6   768.428299701347         7.765584   58.400002      92.00  \n",
       "7   603.763057563433         3.741588   40.099998      63.86  \n",
       "9   2825.39109539914         8.470030   61.500000      88.74  "
      ]
     },
     "execution_count": 4,
     "metadata": {},
     "output_type": "execute_result"
    }
   ],
   "source": [
    "data_clean['suicideper100th'] = data_clean['suicideper100th'].convert_objects(convert_numeric=True)\n",
    "data_clean['internetuserate'] = data_clean['internetuserate'].convert_objects(convert_numeric=True)\n",
    "data_clean['incomeperperson'] = data_clean['incomeperperson'].convert_objects(convert_numeric=True)\n",
    "data_clean['employrate'] = data_clean['employrate'].convert_objects(convert_numeric=True)\n",
    "data_clean['urbanrate'] = data_clean['urbanrate'].convert_objects(convert_numeric=True)\n",
    "data_clean['alcconsumption'] = data_clean['alcconsumption'].convert_objects(convert_numeric=True)\n",
    "data_clean['armedforcesrate'] = data_clean['armedforcesrate'].convert_objects(convert_numeric=True)\n",
    "data_clean['breastcancerper100th'] = data_clean['breastcancerper100th'].convert_objects(convert_numeric=True)\n",
    "data_clean['co2emissions'] = data_clean['co2emissions'].convert_objects(convert_numeric=True)\n",
    "data_clean['femaleemployrate'] = data_clean['co2emissions'].convert_objects(convert_numeric=True)\n",
    "data_clean['lifeexpectancy'] = data_clean['co2emissions'].convert_objects(convert_numeric=True)\n",
    "data_clean['hivrate'] = data_clean['co2emissions'].convert_objects(convert_numeric=True)\n",
    "data_clean.head()"
   ]
  },
  {
   "cell_type": "markdown",
   "metadata": {},
   "source": [
    "Create categorial response based on percentiles. Those in the lower 50 percentile will be coded 1 to indicate low rate. Those in the upper 50 percentile will be coded as 2 to indicate high rate."
   ]
  },
  {
   "cell_type": "code",
   "execution_count": 5,
   "metadata": {
    "collapsed": false
   },
   "outputs": [
    {
     "name": "stdout",
     "output_type": "stream",
     "text": [
      "6.0\n",
      "9.0\n",
      "13.0\n"
     ]
    }
   ],
   "source": [
    "print (round(np.percentile(data_clean['suicideper100th'],25)))\n",
    "print (round(np.percentile(data_clean['suicideper100th'],50)))\n",
    "print (round(np.percentile(data_clean['suicideper100th'],75)))"
   ]
  },
  {
   "cell_type": "code",
   "execution_count": 6,
   "metadata": {
    "collapsed": false
   },
   "outputs": [
    {
     "data": {
      "text/plain": [
       "count    135.000000\n",
       "mean       0.518519\n",
       "std        0.501518\n",
       "min        0.000000\n",
       "25%        0.000000\n",
       "50%        1.000000\n",
       "75%        1.000000\n",
       "max        1.000000\n",
       "Name: suiciderate, dtype: float64"
      ]
     },
     "execution_count": 6,
     "metadata": {},
     "output_type": "execute_result"
    }
   ],
   "source": [
    "data_clean['suiciderate'] = 0\n",
    "data_clean['suiciderate'][(data_clean['suicideper100th']>=9)] = 1\n",
    "data_clean['suiciderate'][(data_clean['suicideper100th']< 9)] = 0\n",
    "data_clean['suiciderate'].describe()"
   ]
  },
  {
   "cell_type": "markdown",
   "metadata": {},
   "source": [
    "### Standardize predictors to have mean = 0 and sd = 1"
   ]
  },
  {
   "cell_type": "code",
   "execution_count": 7,
   "metadata": {
    "collapsed": false
   },
   "outputs": [
    {
     "data": {
      "text/html": [
       "<div>\n",
       "<table border=\"1\" class=\"dataframe\">\n",
       "  <thead>\n",
       "    <tr style=\"text-align: right;\">\n",
       "      <th></th>\n",
       "      <th>armedforcesrate</th>\n",
       "      <th>breastcancerper100th</th>\n",
       "      <th>internetuserate</th>\n",
       "      <th>incomeperperson</th>\n",
       "      <th>employrate</th>\n",
       "      <th>urbanrate</th>\n",
       "      <th>alcconsumption</th>\n",
       "      <th>co2emissions</th>\n",
       "      <th>femaleemployrate</th>\n",
       "      <th>lifeexpectancy</th>\n",
       "      <th>hivrate</th>\n",
       "    </tr>\n",
       "  </thead>\n",
       "  <tbody>\n",
       "    <tr>\n",
       "      <th>count</th>\n",
       "      <td>1.350000e+02</td>\n",
       "      <td>1.350000e+02</td>\n",
       "      <td>1.350000e+02</td>\n",
       "      <td>1.350000e+02</td>\n",
       "      <td>1.350000e+02</td>\n",
       "      <td>1.350000e+02</td>\n",
       "      <td>1.350000e+02</td>\n",
       "      <td>1.350000e+02</td>\n",
       "      <td>1.350000e+02</td>\n",
       "      <td>1.350000e+02</td>\n",
       "      <td>1.350000e+02</td>\n",
       "    </tr>\n",
       "    <tr>\n",
       "      <th>mean</th>\n",
       "      <td>-5.684753e-17</td>\n",
       "      <td>-6.085667e-17</td>\n",
       "      <td>-2.796117e-17</td>\n",
       "      <td>-4.934325e-18</td>\n",
       "      <td>-2.228670e-16</td>\n",
       "      <td>-5.016563e-17</td>\n",
       "      <td>1.398059e-16</td>\n",
       "      <td>1.500857e-17</td>\n",
       "      <td>1.500857e-17</td>\n",
       "      <td>1.500857e-17</td>\n",
       "      <td>1.500857e-17</td>\n",
       "    </tr>\n",
       "    <tr>\n",
       "      <th>std</th>\n",
       "      <td>1.003724e+00</td>\n",
       "      <td>1.003724e+00</td>\n",
       "      <td>1.003724e+00</td>\n",
       "      <td>1.003724e+00</td>\n",
       "      <td>1.003724e+00</td>\n",
       "      <td>1.003724e+00</td>\n",
       "      <td>1.003724e+00</td>\n",
       "      <td>1.003724e+00</td>\n",
       "      <td>1.003724e+00</td>\n",
       "      <td>1.003724e+00</td>\n",
       "      <td>1.003724e+00</td>\n",
       "    </tr>\n",
       "    <tr>\n",
       "      <th>min</th>\n",
       "      <td>-9.020279e-01</td>\n",
       "      <td>-1.444561e+00</td>\n",
       "      <td>-1.205987e+00</td>\n",
       "      <td>-6.926610e-01</td>\n",
       "      <td>-1.972443e+00</td>\n",
       "      <td>-2.106308e+00</td>\n",
       "      <td>-1.461419e+00</td>\n",
       "      <td>-2.309139e-01</td>\n",
       "      <td>-2.309139e-01</td>\n",
       "      <td>-2.309139e-01</td>\n",
       "      <td>-2.309139e-01</td>\n",
       "    </tr>\n",
       "    <tr>\n",
       "      <th>25%</th>\n",
       "      <td>-5.998088e-01</td>\n",
       "      <td>-7.598178e-01</td>\n",
       "      <td>-8.853442e-01</td>\n",
       "      <td>-6.486783e-01</td>\n",
       "      <td>-6.515907e-01</td>\n",
       "      <td>-7.820238e-01</td>\n",
       "      <td>-7.836726e-01</td>\n",
       "      <td>-2.284486e-01</td>\n",
       "      <td>-2.284486e-01</td>\n",
       "      <td>-2.284486e-01</td>\n",
       "      <td>-2.284486e-01</td>\n",
       "    </tr>\n",
       "    <tr>\n",
       "      <th>50%</th>\n",
       "      <td>-2.693342e-01</td>\n",
       "      <td>-3.431967e-01</td>\n",
       "      <td>-2.209194e-01</td>\n",
       "      <td>-4.650292e-01</td>\n",
       "      <td>-8.407608e-02</td>\n",
       "      <td>1.233493e-01</td>\n",
       "      <td>-1.653777e-01</td>\n",
       "      <td>-2.201813e-01</td>\n",
       "      <td>-2.201813e-01</td>\n",
       "      <td>-2.201813e-01</td>\n",
       "      <td>-2.201813e-01</td>\n",
       "    </tr>\n",
       "    <tr>\n",
       "      <th>75%</th>\n",
       "      <td>1.878847e-01</td>\n",
       "      <td>5.086077e-01</td>\n",
       "      <td>9.411054e-01</td>\n",
       "      <td>9.862827e-02</td>\n",
       "      <td>5.336607e-01</td>\n",
       "      <td>7.467284e-01</td>\n",
       "      <td>6.510885e-01</td>\n",
       "      <td>-1.443303e-01</td>\n",
       "      <td>-1.443303e-01</td>\n",
       "      <td>-1.443303e-01</td>\n",
       "      <td>-1.443303e-01</td>\n",
       "    </tr>\n",
       "    <tr>\n",
       "      <th>max</th>\n",
       "      <td>6.514267e+00</td>\n",
       "      <td>2.564901e+00</td>\n",
       "      <td>2.109388e+00</td>\n",
       "      <td>4.018560e+00</td>\n",
       "      <td>2.356738e+00</td>\n",
       "      <td>1.955857e+00</td>\n",
       "      <td>3.088597e+00</td>\n",
       "      <td>1.054805e+01</td>\n",
       "      <td>1.054805e+01</td>\n",
       "      <td>1.054805e+01</td>\n",
       "      <td>1.054805e+01</td>\n",
       "    </tr>\n",
       "  </tbody>\n",
       "</table>\n",
       "</div>"
      ],
      "text/plain": [
       "       armedforcesrate  breastcancerper100th  internetuserate  \\\n",
       "count     1.350000e+02          1.350000e+02     1.350000e+02   \n",
       "mean     -5.684753e-17         -6.085667e-17    -2.796117e-17   \n",
       "std       1.003724e+00          1.003724e+00     1.003724e+00   \n",
       "min      -9.020279e-01         -1.444561e+00    -1.205987e+00   \n",
       "25%      -5.998088e-01         -7.598178e-01    -8.853442e-01   \n",
       "50%      -2.693342e-01         -3.431967e-01    -2.209194e-01   \n",
       "75%       1.878847e-01          5.086077e-01     9.411054e-01   \n",
       "max       6.514267e+00          2.564901e+00     2.109388e+00   \n",
       "\n",
       "       incomeperperson    employrate     urbanrate  alcconsumption  \\\n",
       "count     1.350000e+02  1.350000e+02  1.350000e+02    1.350000e+02   \n",
       "mean     -4.934325e-18 -2.228670e-16 -5.016563e-17    1.398059e-16   \n",
       "std       1.003724e+00  1.003724e+00  1.003724e+00    1.003724e+00   \n",
       "min      -6.926610e-01 -1.972443e+00 -2.106308e+00   -1.461419e+00   \n",
       "25%      -6.486783e-01 -6.515907e-01 -7.820238e-01   -7.836726e-01   \n",
       "50%      -4.650292e-01 -8.407608e-02  1.233493e-01   -1.653777e-01   \n",
       "75%       9.862827e-02  5.336607e-01  7.467284e-01    6.510885e-01   \n",
       "max       4.018560e+00  2.356738e+00  1.955857e+00    3.088597e+00   \n",
       "\n",
       "       co2emissions  femaleemployrate  lifeexpectancy       hivrate  \n",
       "count  1.350000e+02      1.350000e+02    1.350000e+02  1.350000e+02  \n",
       "mean   1.500857e-17      1.500857e-17    1.500857e-17  1.500857e-17  \n",
       "std    1.003724e+00      1.003724e+00    1.003724e+00  1.003724e+00  \n",
       "min   -2.309139e-01     -2.309139e-01   -2.309139e-01 -2.309139e-01  \n",
       "25%   -2.284486e-01     -2.284486e-01   -2.284486e-01 -2.284486e-01  \n",
       "50%   -2.201813e-01     -2.201813e-01   -2.201813e-01 -2.201813e-01  \n",
       "75%   -1.443303e-01     -1.443303e-01   -1.443303e-01 -1.443303e-01  \n",
       "max    1.054805e+01      1.054805e+01    1.054805e+01  1.054805e+01  "
      ]
     },
     "execution_count": 7,
     "metadata": {},
     "output_type": "execute_result"
    }
   ],
   "source": [
    "#select predictor variables and target variable as separate data sets  \n",
    "predictors = data_clean[['armedforcesrate','breastcancerper100th','internetuserate', 'incomeperperson', 'employrate', \n",
    "                         'urbanrate','alcconsumption','co2emissions','femaleemployrate','lifeexpectancy','hivrate']]\n",
    "target = data_clean.suiciderate\n",
    "#predictors=predvar.copy()\n",
    "predictors['internetuserate']=preprocessing.scale(predictors['internetuserate'].astype('float64'))\n",
    "predictors['incomeperperson']=preprocessing.scale(predictors['incomeperperson'].astype('float64'))\n",
    "predictors['employrate']=preprocessing.scale(predictors['employrate'].astype('float64'))\n",
    "predictors['urbanrate']=preprocessing.scale(predictors['urbanrate'].astype('float64'))\n",
    "predictors['alcconsumption']=preprocessing.scale(predictors['alcconsumption'].astype('float64'))\n",
    "predictors['armedforcesrate']=preprocessing.scale(predictors['armedforcesrate'].astype('float64'))\n",
    "predictors['breastcancerper100th']=preprocessing.scale(predictors['breastcancerper100th'].astype('float64'))\n",
    "predictors['co2emissions']=preprocessing.scale(predictors['co2emissions'].astype('float64'))\n",
    "predictors['femaleemployrate']=preprocessing.scale(predictors['femaleemployrate'].astype('float64'))\n",
    "predictors['lifeexpectancy']=preprocessing.scale(predictors['lifeexpectancy'].astype('float64'))\n",
    "predictors['hivrate']=preprocessing.scale(predictors['hivrate'].astype('float64'))\n",
    "predictors.describe()"
   ]
  },
  {
   "cell_type": "markdown",
   "metadata": {},
   "source": [
    "## Modeling and Prediction\n",
    "\n",
    "### Split into training and testing sets"
   ]
  },
  {
   "cell_type": "code",
   "execution_count": 8,
   "metadata": {
    "collapsed": false
   },
   "outputs": [],
   "source": [
    "pred_train, pred_test, tar_train, tar_test  =   train_test_split(predictors, target, test_size=.3, random_state=123)"
   ]
  },
  {
   "cell_type": "markdown",
   "metadata": {},
   "source": [
    "### View the splits"
   ]
  },
  {
   "cell_type": "code",
   "execution_count": 9,
   "metadata": {
    "collapsed": false
   },
   "outputs": [
    {
     "name": "stdout",
     "output_type": "stream",
     "text": [
      "(94, 11)\n",
      "(41, 11)\n",
      "(94,)\n",
      "(41,)\n"
     ]
    }
   ],
   "source": [
    "print (pred_train.shape)\n",
    "print (pred_test.shape)\n",
    "print (tar_train.shape)\n",
    "print (tar_test.shape)"
   ]
  },
  {
   "cell_type": "markdown",
   "metadata": {},
   "source": [
    "### Build model on training data"
   ]
  },
  {
   "cell_type": "code",
   "execution_count": 10,
   "metadata": {
    "collapsed": false
   },
   "outputs": [],
   "source": [
    "# specify the lasso regression model\n",
    "model=LassoLarsCV(cv=10, precompute=False).fit(pred_train,tar_train)"
   ]
  },
  {
   "cell_type": "markdown",
   "metadata": {},
   "source": [
    "### Print variable names and regression coefficient"
   ]
  },
  {
   "cell_type": "code",
   "execution_count": 11,
   "metadata": {
    "collapsed": false
   },
   "outputs": [
    {
     "data": {
      "text/plain": [
       "{'alcconsumption': 0.13034640675905282,\n",
       " 'armedforcesrate': -0.0034354488729439088,\n",
       " 'breastcancerper100th': 0.0,\n",
       " 'co2emissions': 0.025058938503379646,\n",
       " 'employrate': 0.0,\n",
       " 'femaleemployrate': 0.0,\n",
       " 'hivrate': 0.0,\n",
       " 'incomeperperson': 0.022481114705785139,\n",
       " 'internetuserate': 0.092372551437067171,\n",
       " 'lifeexpectancy': 0.0,\n",
       " 'urbanrate': -0.12163780167931562}"
      ]
     },
     "execution_count": 11,
     "metadata": {},
     "output_type": "execute_result"
    }
   ],
   "source": [
    "dict(zip(predictors.columns, model.coef_))"
   ]
  },
  {
   "cell_type": "markdown",
   "metadata": {},
   "source": [
    "### Plot coefficient progression"
   ]
  },
  {
   "cell_type": "code",
   "execution_count": 12,
   "metadata": {
    "collapsed": false
   },
   "outputs": [
    {
     "data": {
      "text/plain": [
       "<matplotlib.text.Text at 0x1a083622e8>"
      ]
     },
     "execution_count": 12,
     "metadata": {},
     "output_type": "execute_result"
    },
    {
     "data": {
      "image/png": "[encoded data removed]",
      "text/plain": [
       "<matplotlib.figure.Figure at 0x1a0307aa90>"
      ]
     },
     "metadata": {},
     "output_type": "display_data"
    }
   ],
   "source": [
    "m_log_alphas = -np.log10(model.alphas_)\n",
    "ax = plt.gca()\n",
    "plt.plot(m_log_alphas, model.coef_path_.T)\n",
    "plt.axvline(-np.log10(model.alpha_), linestyle='--', color='k',\n",
    "            label='alpha CV')\n",
    "plt.ylabel('Regression Coefficients')\n",
    "plt.xlabel('-log(alpha)')\n",
    "plt.title('Regression Coefficients Progression for Lasso Paths')"
   ]
  },
  {
   "cell_type": "code",
   "execution_count": 13,
   "metadata": {
    "collapsed": false
   },
   "outputs": [
    {
     "data": {
      "text/plain": [
       "<matplotlib.text.Text at 0x1a084436d8>"
      ]
     },
     "execution_count": 13,
     "metadata": {},
     "output_type": "execute_result"
    },
    {
     "data": {
      "image/png": "[encoded data removed]",
      "text/plain": [
       "<matplotlib.figure.Figure at 0x1a08407be0>"
      ]
     },
     "metadata": {},
     "output_type": "display_data"
    }
   ],
   "source": [
    "# plot mean square error for each fold\n",
    "m_log_alphascv = -np.log10(model.cv_alphas_)\n",
    "plt.figure()\n",
    "plt.plot(m_log_alphascv, model.cv_mse_path_, ':')\n",
    "plt.plot(m_log_alphascv, model.cv_mse_path_.mean(axis=-1), 'k',\n",
    "         label='Average across the folds', linewidth=2)\n",
    "plt.axvline(-np.log10(model.alpha_), linestyle='--', color='k',\n",
    "            label='alpha CV')\n",
    "plt.legend()\n",
    "plt.xlabel('-log(alpha)')\n",
    "plt.ylabel('Mean squared error')\n",
    "plt.title('Mean squared error on each fold')"
   ]
  },
  {
   "cell_type": "code",
   "execution_count": 14,
   "metadata": {
    "collapsed": false
   },
   "outputs": [
    {
     "name": "stdout",
     "output_type": "stream",
     "text": [
      "training data MSE\n",
      "0.205714910399\n",
      "test data MSE\n",
      "0.204387479178\n"
     ]
    }
   ],
   "source": [
    "# MSE from training and test data\n",
    "from sklearn.metrics import mean_squared_error\n",
    "train_error = mean_squared_error(tar_train, model.predict(pred_train))\n",
    "test_error = mean_squared_error(tar_test, model.predict(pred_test))\n",
    "print ('training data MSE')\n",
    "print(train_error)\n",
    "print ('test data MSE')\n",
    "print(test_error)"
   ]
  },
  {
   "cell_type": "code",
   "execution_count": 15,
   "metadata": {
    "collapsed": false
   },
   "outputs": [
    {
     "name": "stdout",
     "output_type": "stream",
     "text": [
      "training data R-square\n",
      "0.173774114414\n",
      "test data R-square\n",
      "0.181963446432\n"
     ]
    }
   ],
   "source": [
    "# R-square from training and test data\n",
    "rsquared_train=model.score(pred_train,tar_train)\n",
    "rsquared_test=model.score(pred_test,tar_test)\n",
    "print ('training data R-square')\n",
    "print(rsquared_train)\n",
    "print ('test data R-square')\n",
    "print(rsquared_test)"
   ]
  },
  {
   "cell_type": "markdown",
   "metadata": {},
   "source": [
    "## Conclusion"
   ]
  },
  {
   "cell_type": "markdown",
   "metadata": {},
   "source": [
    "A lasso regression analysis was conducted to identify a subset of variables from a pool of 11 quantitative predictor variables that best predicted a quantitative response variable measuring high suicide rates. Quantitative predictor variables include armed forces rate, breast cancer rate, internet usage rate, income per person, employment rate, urban rate, alcohol consumption, co2 emissions, female employment rate, life expectancy, and HIV rate. \n",
    "\n",
    "Data were randomly split into a training set that included 70% of the observations (N=94) and a test set that included 30% of the observations (N=41). The least angle regression algorithm with k=10 fold cross validation was used to estimate the lasso regression model in the training set, and the model was validated using the test set. The change in the cross validation average (mean) squared error at each step was used to identify the best subset of predictor variables.\n",
    "\n",
    "Of the 11 predictor variables, 6 were retained in the selected model. During the estimation process, urban rate and alcohol consumption were most strongly associated with high suicide rates, followed by urban rate and internet usage. Urban rate was negatively associated with suicide rate while alcohol consumption and internet rate were positively associated with high suicide rates. Other predictors associated with high suicide rates included co2 emissions and employment rate. Other predictors associated with lower suicide rates included armed forces rates. \n",
    "\n",
    "These 6 variables accounted for 18.2% of the variance in the high suicide rate response variable."
   ]
  }
 ],
 "metadata": {
  "kernelspec": {
   "display_name": "Python 3",
   "language": "python",
   "name": "python3"
  },
  "language_info": {
   "codemirror_mode": {
    "name": "ipython",
    "version": 3
   },
   "file_extension": ".py",
   "mimetype": "text/x-python",
   "name": "python",
   "nbconvert_exporter": "python",
   "pygments_lexer": "ipython3",
   "version": "3.5.1"
  }
 },
 "nbformat": 4,
 "nbformat_minor": 0
}
