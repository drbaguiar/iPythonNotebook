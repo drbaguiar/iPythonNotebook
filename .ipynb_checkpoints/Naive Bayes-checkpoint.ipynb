{
 "cells": [
  {
   "cell_type": "markdown",
   "metadata": {},
   "source": [
    "##Question\n",
    "\n",
    "1% of people 65 + years old have a disease\n",
    "\n",
    "80% of the people with the disease will get a positive result on a test for the disease (true positive)\n",
    "\n",
    "9.6% of people without the dissease will get a positive result on a test for the disease (false positive)\n",
    "\n",
    "Someone who takes the test gets a positive result.  What is the probability this person actually has the disease? \n",
    "\n",
    "In studies, about 15% of doctors get this correct.\n"
   ]
  },
  {
   "cell_type": "markdown",
   "metadata": {},
   "source": [
    " | Have Disease | No Disease\n",
    "--- | --- | ---\n",
    "Positive Test |True Positive| False Positive\n",
    "Negative Test | False Negative| True Negative"
   ]
  },
  {
   "cell_type": "markdown",
   "metadata": {},
   "source": [
    "We can fill out part of the table based on the information given in the problem\n",
    "\n",
    "| Have Disease 1%| No Disease\n",
    "--- | --- | ---\n",
    "Positive Test |True Positive 80%| False Positive 9.6%\n",
    "Negative Test | False Negative| True Negative"
   ]
  },
  {
   "cell_type": "markdown",
   "metadata": {},
   "source": [
    "We can fill out the rest of the table based on the rules of probability:\n",
    "\n",
    "| Have Disease 1%| No Disease **99%**\n",
    "--- | --- | ---\n",
    "Positive Test |True Positive 80%| False Positive 9.6%\n",
    "Negative Test | False Negative **20%**| True Negative **90.4%**"
   ]
  },
  {
   "cell_type": "markdown",
   "metadata": {},
   "source": [
    "We can calculate probabilities using the following:\n",
    "\n",
    "| Have Disease 1%| No Disease **99%**\n",
    "--- | --- | ---\n",
    "Positive Test |True Positive 1% x 80%| False Positive 99% x 9.6%\n",
    "Negative Test | False Negative 1% x **20%**| True Negative 99% x **90.4%**"
   ]
  },
  {
   "cell_type": "markdown",
   "metadata": {},
   "source": [
    "We can calculate probabilities using the following:\n",
    "\n",
    "| Have Disease 1% P(Dis)| No Disease **99%** P(No Dis)|P\n",
    "--- | --- | ---\n",
    "Positive Test |.008 P(Pos given Dis)| .09504 P(Pos given No Dis)|.10304 P(Pos)\n",
    "Negative Test |.002 P(Neg given Dis)| .89496 P(Neg given No Dis)|.89696 P(Neg)"
   ]
  },
  {
   "cell_type": "markdown",
   "metadata": {},
   "source": [
    "We want to know the probability of having the disease given a positive test, which from the table above is .008 / .10304 or about 7.76%"
   ]
  },
  {
   "cell_type": "code",
   "execution_count": 26,
   "metadata": {
    "collapsed": false
   },
   "outputs": [
    {
     "data": {
      "text/html": [
       "0.077639751552795"
      ],
      "text/latex": [
       "0.077639751552795"
      ],
      "text/markdown": [
       "0.077639751552795"
      ],
      "text/plain": [
       "[1] 0.07763975"
      ]
     },
     "execution_count": 26,
     "metadata": {},
     "output_type": "execute_result"
    }
   ],
   "source": [
    ".008/.10304"
   ]
  },
  {
   "cell_type": "code",
   "execution_count": null,
   "metadata": {
    "collapsed": true
   },
   "outputs": [],
   "source": []
  }
 ],
 "metadata": {
  "kernelspec": {
   "display_name": "R",
   "language": "R",
   "name": "ir"
  },
  "language_info": {
   "codemirror_mode": "r",
   "file_extension": ".r",
   "mimetype": "text/x-r-source",
   "name": "R",
   "pygments_lexer": "r",
   "version": "3.2.1"
  }
 },
 "nbformat": 4,
 "nbformat_minor": 0
}
