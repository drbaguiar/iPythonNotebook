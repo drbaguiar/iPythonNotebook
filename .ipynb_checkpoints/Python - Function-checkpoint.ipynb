{
 "cells": [
  {
   "cell_type": "markdown",
   "metadata": {},
   "source": [
    "Write a function that accepts a positive integer 'k' and adds 5 to it and returns the resulting integer."
   ]
  },
  {
   "cell_type": "code",
   "execution_count": 20,
   "metadata": {
    "collapsed": false
   },
   "outputs": [
    {
     "data": {
      "text/plain": [
       "10"
      ]
     },
     "execution_count": 20,
     "metadata": {},
     "output_type": "execute_result"
    }
   ],
   "source": [
    "def my_fun(x):\n",
    "   return (x+5)\n",
    "\n",
    "my_fun(5)"
   ]
  },
  {
   "cell_type": "markdown",
   "metadata": {},
   "source": [
    "Write a function that accepts two integers and calculates their product and returns it."
   ]
  },
  {
   "cell_type": "code",
   "execution_count": 23,
   "metadata": {
    "collapsed": false
   },
   "outputs": [
    {
     "data": {
      "text/plain": [
       "15"
      ]
     },
     "execution_count": 23,
     "metadata": {},
     "output_type": "execute_result"
    }
   ],
   "source": [
    "def my_fun(x,y):\n",
    "   return (x*y)\n",
    "\n",
    "my_fun(5,3)"
   ]
  },
  {
   "cell_type": "markdown",
   "metadata": {},
   "source": [
    "Write a function that accepts two positive integers which are the height and width of a rectangle and returns a list that contains the area and perimeter of that rectangle."
   ]
  },
  {
   "cell_type": "code",
   "execution_count": 29,
   "metadata": {
    "collapsed": false
   },
   "outputs": [
    {
     "data": {
      "text/plain": [
       "[380, 78]"
      ]
     },
     "execution_count": 29,
     "metadata": {},
     "output_type": "execute_result"
    }
   ],
   "source": [
    "def my_fun(h,w):\n",
    "    my_list=list()\n",
    "    #area\n",
    "    my_list.append(h*w)\n",
    "    #perm \n",
    "    my_list.append(2*h+2*w)\n",
    "    return (my_list)\n",
    "\n",
    "my_fun(19,20)"
   ]
  },
  {
   "cell_type": "markdown",
   "metadata": {},
   "source": [
    "Write a function that a accepts a positive number 'r' as the radius of a circle and calculates and returns the area of the circle. Use the value of pi as 3.14"
   ]
  },
  {
   "cell_type": "code",
   "execution_count": 37,
   "metadata": {
    "collapsed": false
   },
   "outputs": [
    {
     "data": {
      "text/plain": [
       "12.56"
      ]
     },
     "execution_count": 37,
     "metadata": {},
     "output_type": "execute_result"
    }
   ],
   "source": [
    "def my_fun(r):\n",
    "    return (3.14 *float(r**2))\n",
    "\n",
    "my_fun(2)"
   ]
  },
  {
   "cell_type": "code",
   "execution_count": 45,
   "metadata": {
    "collapsed": false
   },
   "outputs": [
    {
     "name": "stdout",
     "output_type": "stream",
     "text": [
      "Input the starting number: 1\n",
      "Input the ending number: 25\n",
      "The square root of 1 is 1.0003048780487804\n",
      "The square root of 2 is 1.4142156862745097\n",
      "The square root of 3 is 1.7321428571428572\n",
      "The square root of 4 is 2.0\n",
      "The square root of 5 is 2.236111111111111\n",
      "The square root of 6 is 2.4494897959183675\n",
      "The square root of 7 is 2.6457520483808037\n",
      "The square root of 8 is 2.8284313725490193\n",
      "The square root of 9 is 3.000015360039322\n",
      "The square root of 10 is 3.162319422150883\n",
      "The square root of 11 is 3.316718620116376\n",
      "The square root of 12 is 3.4641016200294548\n",
      "The square root of 13 is 3.6055512902583184\n",
      "The square root of 14 is 3.7416574252243757\n",
      "The square root of 15 is 3.872983434898095\n",
      "The square root of 16 is 4.0000001858445895\n",
      "The square root of 17 is 4.123105985575862\n",
      "The square root of 18 is 4.242641340141592\n",
      "The square root of 19 is 4.35890006464352\n",
      "The square root of 20 is 4.472137791286727\n",
      "The square root of 21 is 4.582578583339913\n",
      "The square root of 22 is 4.690420146162532\n",
      "The square root of 23 is 4.795837982658063\n",
      "The square root of 24 is 4.8989887432139305\n",
      "The square root of 25 is 5.000012953048684\n"
     ]
    }
   ],
   "source": [
    "## Calculate square root\n",
    "def my_fun(x):\n",
    "    square_root = x /2\n",
    "    accuracy =.001\n",
    "    while abs(x - (square_root**2))>accuracy:\n",
    "        square_root = (square_root +(x/square_root))/2\n",
    "    \n",
    "    return (square_root)\n",
    "    \n",
    "start = int(input(\"Input the starting number: \"))\n",
    "end = int(input(\"Input the ending number: \"))\n",
    "\n",
    "for x in range(start,end+1):\n",
    "    y=my_fun(x)\n",
    "    print (\"The square root of\", x, \"is\", y) "
   ]
  },
  {
   "cell_type": "markdown",
   "metadata": {},
   "source": [
    "Write a function that accepts a list of integers and returns the sum of all the numbers in the list. Assume that the input list contains only numbers. Do NOT use the built-in sum() function."
   ]
  },
  {
   "cell_type": "code",
   "execution_count": 53,
   "metadata": {
    "collapsed": false
   },
   "outputs": [
    {
     "data": {
      "text/plain": [
       "66"
      ]
     },
     "execution_count": 53,
     "metadata": {},
     "output_type": "execute_result"
    }
   ],
   "source": [
    "def my_fun(my_list):\n",
    "    z = 0\n",
    "    for x in my_list:\n",
    "        z = z + x\n",
    "    \n",
    "    return (z)\n",
    "\n",
    "my_fun([-1, -1, -3, 4, 55, 12])"
   ]
  },
  {
   "cell_type": "markdown",
   "metadata": {},
   "source": [
    "Write a function that accepts a list of integers and returns the average. Assume that the input list contains only numbers. Do NOT use the built-in sum() function."
   ]
  },
  {
   "cell_type": "code",
   "execution_count": 54,
   "metadata": {
    "collapsed": false
   },
   "outputs": [
    {
     "data": {
      "text/plain": [
       "11.0"
      ]
     },
     "execution_count": 54,
     "metadata": {},
     "output_type": "execute_result"
    }
   ],
   "source": [
    "def my_fun(my_list):\n",
    "    z = 0\n",
    "    for x in my_list:\n",
    "        z = z + x\n",
    "    \n",
    "    return (z/len(my_list))\n",
    "\n",
    "my_fun([-1, -1, -3, 4, 55, 12])"
   ]
  },
  {
   "cell_type": "markdown",
   "metadata": {},
   "source": [
    "Write a function which accepts an input list of numbers and returns the largest number in the list (Do not use python's built-in max() function)."
   ]
  },
  {
   "cell_type": "code",
   "execution_count": 95,
   "metadata": {
    "collapsed": false
   },
   "outputs": [
    {
     "data": {
      "text/plain": [
       "55"
      ]
     },
     "execution_count": 95,
     "metadata": {},
     "output_type": "execute_result"
    }
   ],
   "source": [
    "def my_fun(my_list):\n",
    "    z = -1000000\n",
    "    for x in my_list:\n",
    "        if x > z :\n",
    "            z = x \n",
    "    return (z)\n",
    "\n",
    "my_fun([-1, -1, -3, 4, 55, 12])\n",
    "#my_fun([-2, -3, -4, -5])"
   ]
  },
  {
   "cell_type": "markdown",
   "metadata": {},
   "source": [
    "Write a function which accepts an input list of numbers and returns the smallest number in the list (Do not use python's built-in min() function)."
   ]
  },
  {
   "cell_type": "code",
   "execution_count": 98,
   "metadata": {
    "collapsed": false
   },
   "outputs": [
    {
     "data": {
      "text/plain": [
       "-5"
      ]
     },
     "execution_count": 98,
     "metadata": {},
     "output_type": "execute_result"
    }
   ],
   "source": [
    "def my_fun(my_list):\n",
    "    z = 0\n",
    "    for x in my_list:\n",
    "        if x < z :\n",
    "            z = x \n",
    "    return (z)\n",
    "\n",
    "#my_fun([-1, -1, -3, 4, 55, 12])\n",
    "my_fun([-2, -3, -4, -5])"
   ]
  },
  {
   "cell_type": "markdown",
   "metadata": {},
   "source": [
    "Write a function that accepts a number x\n",
    "x and evaluates the following expression:\n",
    "\n",
    "y=x4−12x3+13x2+11\n",
    "and returns the value of y\n",
    "\n"
   ]
  },
  {
   "cell_type": "code",
   "execution_count": 100,
   "metadata": {
    "collapsed": false
   },
   "outputs": [
    {
     "data": {
      "text/plain": [
       "-17"
      ]
     },
     "execution_count": 100,
     "metadata": {},
     "output_type": "execute_result"
    }
   ],
   "source": [
    "def my_fun(x):\n",
    "    first = x**4\n",
    "    second = -12 *(x**3)\n",
    "    third = 13 *(x**2)\n",
    "    \n",
    "    return (first+second+third+11)\n",
    "\n",
    "my_fun(2)"
   ]
  },
  {
   "cell_type": "markdown",
   "metadata": {},
   "source": [
    "Write a function that finds the magnitude of a given vector. The magnitude of a vector is the square root of sum of squares of all the components of the vector. Your input for this function will be a (vector with x,y,z components) 1 dimensional list containing 3 integers. For example if the input list is:\n",
    "\n",
    "vector = [2, 3, -4]\n",
    "\n",
    "Then you should return the magnitude (as a floating point number) of this vector:\n",
    "\n",
    "5.385164807134504"
   ]
  },
  {
   "cell_type": "code",
   "execution_count": 114,
   "metadata": {
    "collapsed": false
   },
   "outputs": [
    {
     "data": {
      "text/plain": [
       "5.385164807134504"
      ]
     },
     "execution_count": 114,
     "metadata": {},
     "output_type": "execute_result"
    }
   ],
   "source": [
    "def my_fun(my_vector):\n",
    "    ss = 0\n",
    "    my_list = list()\n",
    "    for x in my_vector:\n",
    "        z = x **2\n",
    "        ss = ss + z\n",
    "        \n",
    "    return (ss**.5)\n",
    "\n",
    "my_fun([2, 3, -4])"
   ]
  },
  {
   "cell_type": "markdown",
   "metadata": {},
   "source": [
    "Write a function that normalizes a vector (finds the unit vector). A vector can be normalized by dividing each individual component of the vector by its magnitude. Your input for this function will be a vector i.e. 1 dimensional list containing 3 integers. For example if the input list is:\n",
    "\n",
    "vector = [2, 3, -4]\n",
    "\n",
    "Then you should return the unit vector(1-Dimensional list) such as:\n",
    "[0.3713906763541037, 0.5570860145311556, -0.7427813527082074]"
   ]
  },
  {
   "cell_type": "code",
   "execution_count": 116,
   "metadata": {
    "collapsed": false
   },
   "outputs": [
    {
     "data": {
      "text/plain": [
       "[0.3713906763541037, 0.5570860145311556, -0.7427813527082074]"
      ]
     },
     "execution_count": 116,
     "metadata": {},
     "output_type": "execute_result"
    }
   ],
   "source": [
    "def my_fun(my_vector):\n",
    "    ss = 0\n",
    "    my_list = list()\n",
    "    \n",
    "    for x in my_vector:\n",
    "        z = x **2\n",
    "        ss = ss + z\n",
    "    \n",
    "    for z in my_vector:\n",
    "        my_list.append(z/(ss**.5))\n",
    "        \n",
    "    return (my_list)\n",
    "\n",
    "my_fun([2, 3, -4])"
   ]
  },
  {
   "cell_type": "code",
   "execution_count": null,
   "metadata": {
    "collapsed": true
   },
   "outputs": [],
   "source": []
  },
  {
   "cell_type": "code",
   "execution_count": null,
   "metadata": {
    "collapsed": true
   },
   "outputs": [],
   "source": []
  },
  {
   "cell_type": "code",
   "execution_count": 19,
   "metadata": {
    "collapsed": false
   },
   "outputs": [
    {
     "name": "stdout",
     "output_type": "stream",
     "text": [
      "Enter the start number: 2\n",
      "Enter the end number: 2000\n",
      "2 is prime!\n",
      "3 is prime!\n",
      "5 is prime!\n",
      "7 is prime!\n",
      "11 is prime!\n",
      "13 is prime!\n",
      "17 is prime!\n",
      "19 is prime!\n",
      "23 is prime!\n",
      "29 is prime!\n",
      "31 is prime!\n",
      "37 is prime!\n",
      "41 is prime!\n",
      "43 is prime!\n",
      "47 is prime!\n",
      "53 is prime!\n",
      "59 is prime!\n",
      "61 is prime!\n",
      "67 is prime!\n",
      "71 is prime!\n",
      "73 is prime!\n",
      "79 is prime!\n",
      "83 is prime!\n",
      "89 is prime!\n",
      "97 is prime!\n",
      "101 is prime!\n",
      "103 is prime!\n",
      "107 is prime!\n",
      "109 is prime!\n",
      "113 is prime!\n",
      "127 is prime!\n",
      "131 is prime!\n",
      "137 is prime!\n",
      "139 is prime!\n",
      "149 is prime!\n",
      "151 is prime!\n",
      "157 is prime!\n",
      "163 is prime!\n",
      "167 is prime!\n",
      "173 is prime!\n",
      "179 is prime!\n",
      "181 is prime!\n",
      "191 is prime!\n",
      "193 is prime!\n",
      "197 is prime!\n",
      "199 is prime!\n",
      "211 is prime!\n",
      "223 is prime!\n",
      "227 is prime!\n",
      "229 is prime!\n",
      "233 is prime!\n",
      "239 is prime!\n",
      "241 is prime!\n",
      "251 is prime!\n",
      "257 is prime!\n",
      "263 is prime!\n",
      "269 is prime!\n",
      "271 is prime!\n",
      "277 is prime!\n",
      "281 is prime!\n",
      "283 is prime!\n",
      "293 is prime!\n",
      "307 is prime!\n",
      "311 is prime!\n",
      "313 is prime!\n",
      "317 is prime!\n",
      "331 is prime!\n",
      "337 is prime!\n",
      "347 is prime!\n",
      "349 is prime!\n",
      "353 is prime!\n",
      "359 is prime!\n",
      "367 is prime!\n",
      "373 is prime!\n",
      "379 is prime!\n",
      "383 is prime!\n",
      "389 is prime!\n",
      "397 is prime!\n",
      "401 is prime!\n",
      "409 is prime!\n",
      "419 is prime!\n",
      "421 is prime!\n",
      "431 is prime!\n",
      "433 is prime!\n",
      "439 is prime!\n",
      "443 is prime!\n",
      "449 is prime!\n",
      "457 is prime!\n",
      "461 is prime!\n",
      "463 is prime!\n",
      "467 is prime!\n",
      "479 is prime!\n",
      "487 is prime!\n",
      "491 is prime!\n",
      "499 is prime!\n",
      "503 is prime!\n",
      "509 is prime!\n",
      "521 is prime!\n",
      "523 is prime!\n",
      "541 is prime!\n",
      "547 is prime!\n",
      "557 is prime!\n",
      "563 is prime!\n",
      "569 is prime!\n",
      "571 is prime!\n",
      "577 is prime!\n",
      "587 is prime!\n",
      "593 is prime!\n",
      "599 is prime!\n",
      "601 is prime!\n",
      "607 is prime!\n",
      "613 is prime!\n",
      "617 is prime!\n",
      "619 is prime!\n",
      "631 is prime!\n",
      "641 is prime!\n",
      "643 is prime!\n",
      "647 is prime!\n",
      "653 is prime!\n",
      "659 is prime!\n",
      "661 is prime!\n",
      "673 is prime!\n",
      "677 is prime!\n",
      "683 is prime!\n",
      "691 is prime!\n",
      "701 is prime!\n",
      "709 is prime!\n",
      "719 is prime!\n",
      "727 is prime!\n",
      "733 is prime!\n",
      "739 is prime!\n",
      "743 is prime!\n",
      "751 is prime!\n",
      "757 is prime!\n",
      "761 is prime!\n",
      "769 is prime!\n",
      "773 is prime!\n",
      "787 is prime!\n",
      "797 is prime!\n",
      "809 is prime!\n",
      "811 is prime!\n",
      "821 is prime!\n",
      "823 is prime!\n",
      "827 is prime!\n",
      "829 is prime!\n",
      "839 is prime!\n",
      "853 is prime!\n",
      "857 is prime!\n",
      "859 is prime!\n",
      "863 is prime!\n",
      "877 is prime!\n",
      "881 is prime!\n",
      "883 is prime!\n",
      "887 is prime!\n",
      "907 is prime!\n",
      "911 is prime!\n",
      "919 is prime!\n",
      "929 is prime!\n",
      "937 is prime!\n",
      "941 is prime!\n",
      "947 is prime!\n",
      "953 is prime!\n",
      "967 is prime!\n",
      "971 is prime!\n",
      "977 is prime!\n",
      "983 is prime!\n",
      "991 is prime!\n",
      "997 is prime!\n",
      "1009 is prime!\n",
      "1013 is prime!\n",
      "1019 is prime!\n",
      "1021 is prime!\n",
      "1031 is prime!\n",
      "1033 is prime!\n",
      "1039 is prime!\n",
      "1049 is prime!\n",
      "1051 is prime!\n",
      "1061 is prime!\n",
      "1063 is prime!\n",
      "1069 is prime!\n",
      "1087 is prime!\n",
      "1091 is prime!\n",
      "1093 is prime!\n",
      "1097 is prime!\n",
      "1103 is prime!\n",
      "1109 is prime!\n",
      "1117 is prime!\n",
      "1123 is prime!\n",
      "1129 is prime!\n",
      "1151 is prime!\n",
      "1153 is prime!\n",
      "1163 is prime!\n",
      "1171 is prime!\n",
      "1181 is prime!\n",
      "1187 is prime!\n",
      "1193 is prime!\n",
      "1201 is prime!\n",
      "1213 is prime!\n",
      "1217 is prime!\n",
      "1223 is prime!\n",
      "1229 is prime!\n",
      "1231 is prime!\n",
      "1237 is prime!\n",
      "1249 is prime!\n",
      "1259 is prime!\n",
      "1277 is prime!\n",
      "1279 is prime!\n",
      "1283 is prime!\n",
      "1289 is prime!\n",
      "1291 is prime!\n",
      "1297 is prime!\n",
      "1301 is prime!\n",
      "1303 is prime!\n",
      "1307 is prime!\n",
      "1319 is prime!\n",
      "1321 is prime!\n",
      "1327 is prime!\n",
      "1361 is prime!\n",
      "1367 is prime!\n",
      "1373 is prime!\n",
      "1381 is prime!\n",
      "1399 is prime!\n",
      "1409 is prime!\n",
      "1423 is prime!\n",
      "1427 is prime!\n",
      "1429 is prime!\n",
      "1433 is prime!\n",
      "1439 is prime!\n",
      "1447 is prime!\n",
      "1451 is prime!\n",
      "1453 is prime!\n",
      "1459 is prime!\n",
      "1471 is prime!\n",
      "1481 is prime!\n",
      "1483 is prime!\n",
      "1487 is prime!\n",
      "1489 is prime!\n",
      "1493 is prime!\n",
      "1499 is prime!\n",
      "1511 is prime!\n",
      "1523 is prime!\n",
      "1531 is prime!\n",
      "1543 is prime!\n",
      "1549 is prime!\n",
      "1553 is prime!\n",
      "1559 is prime!\n",
      "1567 is prime!\n",
      "1571 is prime!\n",
      "1579 is prime!\n",
      "1583 is prime!\n",
      "1597 is prime!\n",
      "1601 is prime!\n",
      "1607 is prime!\n",
      "1609 is prime!\n",
      "1613 is prime!\n",
      "1619 is prime!\n",
      "1621 is prime!\n",
      "1627 is prime!\n",
      "1637 is prime!\n",
      "1657 is prime!\n",
      "1663 is prime!\n",
      "1667 is prime!\n",
      "1669 is prime!\n",
      "1693 is prime!\n",
      "1697 is prime!\n",
      "1699 is prime!\n",
      "1709 is prime!\n",
      "1721 is prime!\n",
      "1723 is prime!\n",
      "1733 is prime!\n",
      "1741 is prime!\n",
      "1747 is prime!\n",
      "1753 is prime!\n",
      "1759 is prime!\n",
      "1777 is prime!\n",
      "1783 is prime!\n",
      "1787 is prime!\n",
      "1789 is prime!\n",
      "1801 is prime!\n",
      "1811 is prime!\n",
      "1823 is prime!\n",
      "1831 is prime!\n",
      "1847 is prime!\n",
      "1861 is prime!\n",
      "1867 is prime!\n",
      "1871 is prime!\n",
      "1873 is prime!\n",
      "1877 is prime!\n",
      "1879 is prime!\n",
      "1889 is prime!\n",
      "1901 is prime!\n",
      "1907 is prime!\n",
      "1913 is prime!\n",
      "1931 is prime!\n",
      "1933 is prime!\n",
      "1949 is prime!\n",
      "1951 is prime!\n",
      "1973 is prime!\n",
      "1979 is prime!\n",
      "1987 is prime!\n",
      "1993 is prime!\n",
      "1997 is prime!\n",
      "1999 is prime!\n",
      "\n",
      "Done!\n"
     ]
    }
   ],
   "source": [
    "def find_prime(x,y):\n",
    "    ## Check for prime numbers between start and end using for loops\n",
    "    start_number = x\n",
    "    end_number = y\n",
    "    \n",
    "    if x > y:\n",
    "        print (\"Start must be less than end\")\n",
    "        return\n",
    "    \n",
    "    current_number = start_number\n",
    "\n",
    "    for current_number in range (start_number,end_number+1) :\n",
    "        is_current_number_prime = True\n",
    "\n",
    "        for current_divsor in range (2,current_number):\n",
    "            if current_number%current_divsor == 0:\n",
    "                is_current_number_prime = False\n",
    "                break\n",
    "\n",
    "        if is_current_number_prime:\n",
    "            print (current_number, \"is prime!\")\n",
    "\n",
    "\n",
    "   \n",
    "x=int(input(\"Enter the start number: \"))\n",
    "y =int(input(\"Enter the end number: \"))\n",
    "\n",
    "find_prime(x,y) \n",
    "print (\"\\nDone!\")"
   ]
  },
  {
   "cell_type": "code",
   "execution_count": 11,
   "metadata": {
    "collapsed": false
   },
   "outputs": [
    {
     "data": {
      "text/plain": [
       "20.0"
      ]
     },
     "execution_count": 11,
     "metadata": {},
     "output_type": "execute_result"
    }
   ],
   "source": [
    "x = 20\n",
    "float(x)"
   ]
  },
  {
   "cell_type": "code",
   "execution_count": null,
   "metadata": {
    "collapsed": true
   },
   "outputs": [],
   "source": []
  }
 ],
 "metadata": {
  "kernelspec": {
   "display_name": "Python 3",
   "language": "python",
   "name": "python3"
  },
  "language_info": {
   "codemirror_mode": {
    "name": "ipython",
    "version": 3
   },
   "file_extension": ".py",
   "mimetype": "text/x-python",
   "name": "python",
   "nbconvert_exporter": "python",
   "pygments_lexer": "ipython3",
   "version": "3.5.1"
  }
 },
 "nbformat": 4,
 "nbformat_minor": 0
}
