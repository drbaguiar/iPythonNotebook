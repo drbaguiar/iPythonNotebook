{
 "cells": [
  {
   "cell_type": "code",
   "execution_count": 1,
   "metadata": {
    "collapsed": true
   },
   "outputs": [],
   "source": [
    "# Create socket\n",
    "import socket\n",
    "import sys"
   ]
  },
  {
   "cell_type": "code",
   "execution_count": null,
   "metadata": {
    "collapsed": false
   },
   "outputs": [],
   "source": [
    "try:\n",
    "    mysock=socket.socket(socket.AF_INET, socket.SOCK_STREAM)\n",
    "    mysock.bind((\"\",1234))\n",
    "    mysock.listen(5)\n",
    "    \n",
    "except socket.error:\n",
    "    print(\"\\n\",\"Houston we have a problem with the socket!\")\n",
    "    sys.exit() "
   ]
  },
  {
   "cell_type": "code",
   "execution_count": null,
   "metadata": {
    "collapsed": false
   },
   "outputs": [],
   "source": [
    "while True:\n",
    "    conn, addr=mysock.accept()\n",
    "    data = conn.recv(1000000)\n",
    "    \n",
    "    if not data:\n",
    "        break\n",
    "    conn.sendall(data)"
   ]
  },
  {
   "cell_type": "code",
   "execution_count": null,
   "metadata": {
    "collapsed": true
   },
   "outputs": [],
   "source": [
    "#Close socket\n",
    "\n",
    "try:\n",
    "    mysock.close\n",
    "    conn.close\n",
    "    \n",
    "except socket.error:\n",
    "    print(\"\\n\",\"Houston we have a problem with the socket!\")\n",
    "    sys.exit() "
   ]
  },
  {
   "cell_type": "code",
   "execution_count": null,
   "metadata": {
    "collapsed": true
   },
   "outputs": [],
   "source": []
  }
 ],
 "metadata": {
  "kernelspec": {
   "display_name": "Python 3",
   "language": "python",
   "name": "python3"
  },
  "language_info": {
   "codemirror_mode": {
    "name": "ipython",
    "version": 3
   },
   "file_extension": ".py",
   "mimetype": "text/x-python",
   "name": "python",
   "nbconvert_exporter": "python",
   "pygments_lexer": "ipython3",
   "version": "3.5.1"
  }
 },
 "nbformat": 4,
 "nbformat_minor": 0
}
