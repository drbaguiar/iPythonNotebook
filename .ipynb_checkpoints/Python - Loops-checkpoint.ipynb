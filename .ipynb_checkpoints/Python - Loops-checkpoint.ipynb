{
 "cells": [
  {
   "cell_type": "code",
   "execution_count": 6,
   "metadata": {
    "collapsed": false
   },
   "outputs": [
    {
     "name": "stdout",
     "output_type": "stream",
     "text": [
      "Eating a cookie.... 20 \n",
      "\n",
      "Eating a cookie.... 19 \n",
      "\n",
      "Eating a cookie.... 18 \n",
      "\n",
      "Eating a cookie.... 17 \n",
      "\n",
      "Eating a cookie.... 16 \n",
      "\n",
      "Eating a cookie.... 15 \n",
      "\n",
      "Eating a cookie.... 14 \n",
      "\n",
      "Eating a cookie.... 13 \n",
      "\n",
      "Eating a cookie.... 12 \n",
      "\n",
      "Eating a cookie.... 11 \n",
      "\n",
      "Eating a cookie.... 10 \n",
      "\n",
      "Eating a cookie.... 9 \n",
      "\n",
      "Eating a cookie.... 8 \n",
      "\n",
      "Eating a cookie.... 7 \n",
      "\n",
      "Eating a cookie.... 6 \n",
      "\n",
      "Eating a cookie.... 5 \n",
      "\n",
      "Eating a cookie.... 4 \n",
      "\n",
      "Eating a cookie.... 3 \n",
      "\n",
      "Eating a cookie.... 2 \n",
      "\n",
      "Eating a cookie.... 1 \n",
      "\n",
      "\n",
      "No more cookies\n"
     ]
    }
   ],
   "source": [
    "nbr_cookies = 20\n",
    "while nbr_cookies > 0:\n",
    "    print (\"Eating a cookie....\", nbr_cookies,\"\\n\")\n",
    "    nbr_cookies -=1\n",
    "    \n",
    "print (\"\\nNo more cookies\")"
   ]
  },
  {
   "cell_type": "code",
   "execution_count": 33,
   "metadata": {
    "collapsed": false
   },
   "outputs": [
    {
     "name": "stdout",
     "output_type": "stream",
     "text": [
      "Enter a number 1245\n",
      "Guess 1 is: 622.5\n",
      "Guess 2 is: 312.25\n",
      "Guess 3 is: 158.11859487590073\n",
      "Guess 4 is: 82.99621580285594\n",
      "Guess 5 is: 48.99844986254398\n",
      "Guess 6 is: 37.20370847608428\n",
      "Guess 7 is: 35.334057168837674\n",
      "Made six or more guesses.....\n",
      "End.....\n"
     ]
    }
   ],
   "source": [
    "x = float(input(\"Enter a number \"))\n",
    "\n",
    "sqrtx = x/2\n",
    "iter = 0\n",
    "acc = 2.0\n",
    "print (\"Guess\", iter+1, \"is:\",sqrtx)\n",
    "\n",
    "while abs(x - (sqrtx * sqrtx)) > acc:\n",
    "    iter +=1\n",
    "    sqrtx = (sqrtx + x/sqrtx )/2\n",
    "    print (\"Guess\", iter+1, \"is:\",sqrtx)\n",
    "    if iter >=6:\n",
    "        print (\"Made six or more guesses.....\")\n",
    "        break\n",
    "\n",
    "print (\"End.....\")"
   ]
  },
  {
   "cell_type": "markdown",
   "metadata": {},
   "source": [
    "Write a program which prints the sum of numbers from 1 to 101 ( 1 and 101 are included) that are divisible by 5 (Use while loop)"
   ]
  },
  {
   "cell_type": "code",
   "execution_count": 36,
   "metadata": {
    "collapsed": false
   },
   "outputs": [
    {
     "name": "stdout",
     "output_type": "stream",
     "text": [
      "1050\n"
     ]
    }
   ],
   "source": [
    "x = 0\n",
    "\n",
    "while x < 102:\n",
    "    if x % 5 == 0:\n",
    "        sumx = sumx + x\n",
    "    x +=1\n",
    "\n",
    "print (sumx)"
   ]
  },
  {
   "cell_type": "markdown",
   "metadata": {},
   "source": [
    "Write a program using while loop, which asks the user to type a positive integer, n, and then prints the factorial of n. A factorial is defined as the product of all the numbers from 1 to n (1 and n inclusive)"
   ]
  },
  {
   "cell_type": "code",
   "execution_count": 107,
   "metadata": {
    "collapsed": false
   },
   "outputs": [
    {
     "name": "stdout",
     "output_type": "stream",
     "text": [
      "Enter a positive integer 5\n",
      "120\n"
     ]
    }
   ],
   "source": [
    "x = int(input(\"Enter a positive integer \"))\n",
    "y = 1\n",
    "sumx = 1\n",
    "\n",
    "while y < x+1:\n",
    "    sumx = sumx * y\n",
    "    #print (y,sumx)\n",
    "    y +=1\n",
    "\n",
    "print (sumx)    "
   ]
  },
  {
   "cell_type": "markdown",
   "metadata": {},
   "source": [
    "Write a program using while loop, which prints the sum of every third numbers from 1 to 1001 ( both 1 and 1001 are included) (1 + 4 + 7 + 10 + ....)"
   ]
  },
  {
   "cell_type": "code",
   "execution_count": 108,
   "metadata": {
    "collapsed": false
   },
   "outputs": [
    {
     "name": "stdout",
     "output_type": "stream",
     "text": [
      "167167\n"
     ]
    }
   ],
   "source": [
    "x = 1\n",
    "sumx= 0\n",
    "\n",
    "while x < 1002:\n",
    "    sumx = sumx + x\n",
    "    x +=3\n",
    "\n",
    "print (sumx)"
   ]
  },
  {
   "cell_type": "markdown",
   "metadata": {},
   "source": [
    "Using a for loop, write a program which prints the sum of all the even numbers from 1 to 101."
   ]
  },
  {
   "cell_type": "code",
   "execution_count": 120,
   "metadata": {
    "collapsed": false
   },
   "outputs": [
    {
     "name": "stdout",
     "output_type": "stream",
     "text": [
      "2550\n"
     ]
    }
   ],
   "source": [
    "sum_nbr = 0\n",
    "\n",
    "for nbr in range(1,102):\n",
    "    if nbr % 2 ==0:\n",
    "        sum_nbr += nbr\n",
    "\n",
    "print (sum_nbr)"
   ]
  },
  {
   "cell_type": "markdown",
   "metadata": {},
   "source": [
    "Using a for loop, write a program which asks the user to type an integer, n, and then prints the sum of all numbers from 1 to n (including both 1 and n)."
   ]
  },
  {
   "cell_type": "code",
   "execution_count": 123,
   "metadata": {
    "collapsed": false
   },
   "outputs": [
    {
     "name": "stdout",
     "output_type": "stream",
     "text": [
      "Enter a positive integer 100\n",
      "5050\n"
     ]
    }
   ],
   "source": [
    "x = int(input(\"Enter a positive integer \"))\n",
    "sumx = 0\n",
    "\n",
    "for nbr in range(1,x+1):\n",
    "    sumx += nbr\n",
    "\n",
    "print (sumx)    "
   ]
  },
  {
   "cell_type": "markdown",
   "metadata": {},
   "source": [
    "Using a for loop, write a program which asks the user to type an integer, n, and then prints the sum of the square of all numbers form 1 to n (including both 1 and n).\n",
    "\n",
    "For example if the user type 3, the answer should be (3 \\*\\* 2) + (2 \\*\\* 2) + (1 ** 2) = 14"
   ]
  },
  {
   "cell_type": "code",
   "execution_count": 3,
   "metadata": {
    "collapsed": false
   },
   "outputs": [
    {
     "name": "stdout",
     "output_type": "stream",
     "text": [
      "Enter a positive integer 4\n",
      "30\n"
     ]
    }
   ],
   "source": [
    "x = int(input(\"Enter a positive integer \"))\n",
    "sumx = 0\n",
    "\n",
    "for nbr in range(1,x+1):\n",
    "    sumx =sumx + (nbr **2)\n",
    "\n",
    "print (sumx)    "
   ]
  },
  {
   "cell_type": "markdown",
   "metadata": {},
   "source": [
    "Write a program that asks the user for an input 'n' (assume that the user enters a positive integer) and prints a sequence of powers of 10 from 10^0 to 10^n in separate lines. For example if 'n' is equal to 4 then the output should look like the following:\n",
    "\n",
    "1\n",
    "\n",
    "10\n",
    "\n",
    "100\n",
    "\n",
    "1000\n",
    "\n",
    "10000"
   ]
  },
  {
   "cell_type": "code",
   "execution_count": 18,
   "metadata": {
    "collapsed": false
   },
   "outputs": [
    {
     "name": "stdout",
     "output_type": "stream",
     "text": [
      "Enter a positive integer 4\n",
      "1\n",
      "10\n",
      "100\n",
      "1000\n",
      "10000\n"
     ]
    }
   ],
   "source": [
    "x = int(input(\"Enter a positive integer \"))\n",
    "\n",
    "for nbr in range(0,x+1):\n",
    "    print (10**nbr)   "
   ]
  },
  {
   "cell_type": "code",
   "execution_count": 19,
   "metadata": {
    "collapsed": false
   },
   "outputs": [
    {
     "name": "stdout",
     "output_type": "stream",
     "text": [
      "17\n"
     ]
    }
   ],
   "source": [
    "count = 20\n",
    "for x in range(0,10):\n",
    "    count = count - 1\n",
    "    if x == 2:\n",
    "        break\n",
    "print(count)"
   ]
  },
  {
   "cell_type": "code",
   "execution_count": 20,
   "metadata": {
    "collapsed": false
   },
   "outputs": [
    {
     "name": "stdout",
     "output_type": "stream",
     "text": [
      "5\n"
     ]
    }
   ],
   "source": [
    "k = 1\n",
    "while k<5:\n",
    "    if k % 7 == 0:\n",
    "        break\n",
    "    k = k + 2\n",
    "print(k)\n"
   ]
  },
  {
   "cell_type": "code",
   "execution_count": 21,
   "metadata": {
    "collapsed": false
   },
   "outputs": [
    {
     "name": "stdout",
     "output_type": "stream",
     "text": [
      "3\n"
     ]
    }
   ],
   "source": [
    "my_list = [\"dog\", 24, \"cat\", 12]\n",
    "count = 0\n",
    "for element in my_list:\n",
    "    if element == \"cat\":\n",
    "        continue\n",
    "    count = count + 1\n",
    "print(count)"
   ]
  },
  {
   "cell_type": "code",
   "execution_count": 22,
   "metadata": {
    "collapsed": false
   },
   "outputs": [
    {
     "name": "stdout",
     "output_type": "stream",
     "text": [
      "8\n"
     ]
    }
   ],
   "source": [
    "my_str = \"university\"\n",
    "count = 0\n",
    "for char in my_str:\n",
    "    if char == \"i\":\n",
    "        continue\n",
    "    else:\n",
    "        count = count + 1\n",
    "print(count)"
   ]
  },
  {
   "cell_type": "code",
   "execution_count": 23,
   "metadata": {
    "collapsed": false
   },
   "outputs": [
    {
     "name": "stdout",
     "output_type": "stream",
     "text": [
      "5\n"
     ]
    }
   ],
   "source": [
    "my_str = \"university\"\n",
    "count = 0\n",
    "for char in my_str:\n",
    "    count = count + 1\n",
    "    if char == \"e\":\n",
    "        break  \n",
    "print(count)"
   ]
  },
  {
   "cell_type": "code",
   "execution_count": 24,
   "metadata": {
    "collapsed": false
   },
   "outputs": [
    {
     "name": "stdout",
     "output_type": "stream",
     "text": [
      "19\n"
     ]
    }
   ],
   "source": [
    "my_list = [6, 5, 7, 2, 3, 5, 7, 8] \n",
    "count = 0\n",
    "for number in my_list:\n",
    "    if number == 5 or number == 7:\n",
    "        continue\n",
    "    else:\n",
    "        count = count + number\n",
    "print(count)\n"
   ]
  },
  {
   "cell_type": "code",
   "execution_count": 2,
   "metadata": {
    "collapsed": false
   },
   "outputs": [
    {
     "name": "stdout",
     "output_type": "stream",
     "text": [
      "24 is NOT prime!\n",
      "Done!\n"
     ]
    }
   ],
   "source": [
    "## Check for prime number\n",
    "current_number = 24\n",
    "current_divsor = 2\n",
    "is_current_number_prime = True\n",
    "\n",
    "while(current_divsor < current_number):\n",
    "    if current_number%current_divsor == 0:\n",
    "        is_current_number_prime = False\n",
    "        break\n",
    "    current_divsor += 1\n",
    "    \n",
    "if is_current_number_prime:\n",
    "    print (current_number, \"is prime!\")\n",
    "else:\n",
    "    print(current_number, \"is NOT prime!\")\n",
    "    \n",
    "print (\"Done!\")"
   ]
  },
  {
   "cell_type": "code",
   "execution_count": 15,
   "metadata": {
    "collapsed": false
   },
   "outputs": [
    {
     "name": "stdout",
     "output_type": "stream",
     "text": [
      "2 is prime!\n",
      "3 is prime!\n",
      "5 is prime!\n",
      "7 is prime!\n",
      "11 is prime!\n",
      "13 is prime!\n",
      "Done!\n"
     ]
    }
   ],
   "source": [
    "## Check for prime numbers between start and end using while loops\n",
    "start_number = 2\n",
    "end_number = 13\n",
    "current_number = start_number\n",
    "\n",
    "while current_number <= end_number:\n",
    "    current_divsor = 2\n",
    "    is_current_number_prime = True\n",
    "\n",
    "    while(current_divsor < current_number):\n",
    "        if current_number%current_divsor == 0:\n",
    "            is_current_number_prime = False\n",
    "            break\n",
    "        current_divsor += 1\n",
    "\n",
    "    if is_current_number_prime:\n",
    "        print (current_number, \"is prime!\")\n",
    "    \n",
    "    current_number +=1\n",
    "    \n",
    "print (\"Done!\")"
   ]
  },
  {
   "cell_type": "code",
   "execution_count": 16,
   "metadata": {
    "collapsed": false
   },
   "outputs": [
    {
     "name": "stdout",
     "output_type": "stream",
     "text": [
      "2 is prime!\n",
      "3 is prime!\n",
      "5 is prime!\n",
      "7 is prime!\n",
      "11 is prime!\n",
      "13 is prime!\n",
      "Done!\n"
     ]
    }
   ],
   "source": [
    "## Check for prime numbers between start and end using for loops\n",
    "start_number = 2\n",
    "end_number = 13\n",
    "current_number = start_number\n",
    "\n",
    "for current_number in range (start_number,end_number+1) :\n",
    "    is_current_number_prime = True\n",
    "\n",
    "    for current_divsor in range (2,current_number):\n",
    "        if current_number%current_divsor == 0:\n",
    "            is_current_number_prime = False\n",
    "            break\n",
    "\n",
    "    if is_current_number_prime:\n",
    "        print (current_number, \"is prime!\")\n",
    "    \n",
    "print (\"Done!\")"
   ]
  },
  {
   "cell_type": "code",
   "execution_count": null,
   "metadata": {
    "collapsed": true
   },
   "outputs": [],
   "source": []
  }
 ],
 "metadata": {
  "kernelspec": {
   "display_name": "Python 3",
   "language": "python",
   "name": "python3"
  },
  "language_info": {
   "codemirror_mode": {
    "name": "ipython",
    "version": 3
   },
   "file_extension": ".py",
   "mimetype": "text/x-python",
   "name": "python",
   "nbconvert_exporter": "python",
   "pygments_lexer": "ipython3",
   "version": "3.5.1"
  }
 },
 "nbformat": 4,
 "nbformat_minor": 0
}
