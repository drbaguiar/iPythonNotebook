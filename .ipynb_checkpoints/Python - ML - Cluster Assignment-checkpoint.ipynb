{
 "cells": [
  {
   "cell_type": "markdown",
   "metadata": {},
   "source": [
    "A k-means cluster analysis was conducted to identify underlying subgroups of suicide rates. All clustering variables were standardized to have a mean of 0 and a standard deviation of 1.\n",
    "\n",
    "Data were randomly split into a training set that included 70% of the observations and a test set that included 30% of the observations. A series of k-means cluster analyses were conducted on the training data specifying k=1-9 clusters, using Euclidean distance. The variance in the clustering variables that was accounted for by the clusters (r-square) was plotted for each of the nine cluster solutions in an elbow curve to provide guidance for choosing the number of clusters to interpret.\n",
    "The elbow curve suggested that a 3-cluster solutions might be interpreted. The results below are for an interpretation of the 3-cluster solution.\n",
    "\n",
    "Canonical discriminant analyses was used to reduce the clustering variable down a few variables that accounted for most of the variance in the clustering variables. A scatterplot of the first two canonical variables by cluster indicated that the observations in clusters 1 and 3 were densely packed with relatively low within cluster variance, and did not overlap very much with each ither. Cluster 2 was generally distinct, but the observations had greater spread suggesting higher within cluster variance. \n",
    "\n"
   ]
  },
  {
   "cell_type": "code",
   "execution_count": 88,
   "metadata": {
    "collapsed": true
   },
   "outputs": [],
   "source": [
    "from pandas import Series, DataFrame\n",
    "import pandas as pd\n",
    "import numpy as np\n",
    "import os\n",
    "\n",
    "import matplotlib.pylab as plt\n",
    "%matplotlib inline\n",
    "\n",
    "from sklearn.cross_validation import train_test_split\n",
    "from sklearn import preprocessing\n",
    "from sklearn.cluster import KMeans\n",
    "\n",
    "import warnings\n",
    "warnings.filterwarnings('ignore')"
   ]
  },
  {
   "cell_type": "code",
   "execution_count": 89,
   "metadata": {
    "collapsed": false
   },
   "outputs": [],
   "source": [
    "data = pd.read_csv(\"D:/Data/CourseraClass/gapminder.csv\") "
   ]
  },
  {
   "cell_type": "code",
   "execution_count": 90,
   "metadata": {
    "collapsed": false,
    "scrolled": false
   },
   "outputs": [
    {
     "data": {
      "text/html": [
       "<div>\n",
       "<table border=\"1\" class=\"dataframe\">\n",
       "  <thead>\n",
       "    <tr style=\"text-align: right;\">\n",
       "      <th></th>\n",
       "      <th>suicideper100th</th>\n",
       "      <th>internetuserate</th>\n",
       "      <th>incomeperperson</th>\n",
       "      <th>employrate</th>\n",
       "      <th>urbanrate</th>\n",
       "      <th>alcconsumption</th>\n",
       "    </tr>\n",
       "  </thead>\n",
       "  <tbody>\n",
       "    <tr>\n",
       "      <th>1</th>\n",
       "      <td>7.69932985305786</td>\n",
       "      <td>44.9899469578783</td>\n",
       "      <td>1914.99655094922</td>\n",
       "      <td>51.4000015258789</td>\n",
       "      <td>46.72</td>\n",
       "      <td>7.29</td>\n",
       "    </tr>\n",
       "    <tr>\n",
       "      <th>2</th>\n",
       "      <td>4.8487696647644</td>\n",
       "      <td>12.5000733055148</td>\n",
       "      <td>2231.99333515006</td>\n",
       "      <td>50.5</td>\n",
       "      <td>65.22</td>\n",
       "      <td>.69</td>\n",
       "    </tr>\n",
       "    <tr>\n",
       "      <th>4</th>\n",
       "      <td>14.5546770095825</td>\n",
       "      <td>9.99995388324075</td>\n",
       "      <td>1381.00426770244</td>\n",
       "      <td>75.6999969482422</td>\n",
       "      <td>56.7</td>\n",
       "      <td>5.57</td>\n",
       "    </tr>\n",
       "    <tr>\n",
       "      <th>6</th>\n",
       "      <td>7.765584</td>\n",
       "      <td>36.0003349500148</td>\n",
       "      <td>10749.4192379463</td>\n",
       "      <td>58.4000015258789</td>\n",
       "      <td>92</td>\n",
       "      <td>9.35</td>\n",
       "    </tr>\n",
       "    <tr>\n",
       "      <th>7</th>\n",
       "      <td>3.74158787727356</td>\n",
       "      <td>44.0010245795602</td>\n",
       "      <td>1326.74175718861</td>\n",
       "      <td>40.0999984741211</td>\n",
       "      <td>63.86</td>\n",
       "      <td>13.66</td>\n",
       "    </tr>\n",
       "  </tbody>\n",
       "</table>\n",
       "</div>"
      ],
      "text/plain": [
       "    suicideper100th   internetuserate   incomeperperson        employrate  \\\n",
       "1  7.69932985305786  44.9899469578783  1914.99655094922  51.4000015258789   \n",
       "2   4.8487696647644  12.5000733055148  2231.99333515006              50.5   \n",
       "4  14.5546770095825  9.99995388324075  1381.00426770244  75.6999969482422   \n",
       "6          7.765584  36.0003349500148  10749.4192379463  58.4000015258789   \n",
       "7  3.74158787727356  44.0010245795602  1326.74175718861  40.0999984741211   \n",
       "\n",
       "  urbanrate alcconsumption  \n",
       "1     46.72           7.29  \n",
       "2     65.22            .69  \n",
       "4      56.7           5.57  \n",
       "6        92           9.35  \n",
       "7     63.86          13.66  "
      ]
     },
     "execution_count": 90,
     "metadata": {},
     "output_type": "execute_result"
    }
   ],
   "source": [
    "# Data Management\n",
    "data['suicideper100th'] = data['suicideper100th'].replace(r'\\s+', np.nan, regex=True)\n",
    "data['internetuserate'] = data['internetuserate'].replace(r'\\s+', np.nan, regex=True)\n",
    "data['incomeperperson']= data['incomeperperson'].replace(r'\\s+', np.nan, regex=True)\n",
    "data['employrate']= data['employrate'].replace(r'\\s+', np.nan, regex=True)\n",
    "data['urbanrate']= data['urbanrate'].replace(r'\\s+', np.nan, regex=True)\n",
    "data['alcconsumption']= data['alcconsumption'].replace(r'\\s+', np.nan, regex=True)\n",
    "data_clean = data.dropna(subset = ['suicideper100th', 'internetuserate', 'incomeperperson', 'employrate', 'urbanrate','alcconsumption'])\n",
    "\n",
    "# subset clustering variables\n",
    "cluster=data_clean[['suicideper100th','internetuserate','incomeperperson','employrate','urbanrate','alcconsumption']]\n",
    "cluster.head()\n"
   ]
  },
  {
   "cell_type": "code",
   "execution_count": 91,
   "metadata": {
    "collapsed": false,
    "scrolled": true
   },
   "outputs": [],
   "source": [
    "# standardize clustering variables to have mean=0 and sd=1\n",
    "clustervar=cluster.copy()\n",
    "clustervar['incomeperperson']=preprocessing.scale(clustervar['incomeperperson'].astype('float64'))\n",
    "clustervar['alcconsumption']=preprocessing.scale(clustervar['alcconsumption'].astype('float64'))\n",
    "clustervar['urbanrate']=preprocessing.scale(clustervar['urbanrate'].astype('float64'))\n",
    "clustervar['employrate']=preprocessing.scale(clustervar['employrate'].astype('float64'))\n",
    "clustervar['internetuserate']=preprocessing.scale(clustervar['internetuserate'].astype('float64'))\n",
    "clustervar['suicideper100th']=preprocessing.scale(clustervar['suicideper100th'].astype('float64'))"
   ]
  },
  {
   "cell_type": "code",
   "execution_count": 92,
   "metadata": {
    "collapsed": false,
    "scrolled": true
   },
   "outputs": [
    {
     "data": {
      "text/html": [
       "<div>\n",
       "<table border=\"1\" class=\"dataframe\">\n",
       "  <thead>\n",
       "    <tr style=\"text-align: right;\">\n",
       "      <th></th>\n",
       "      <th>suicideper100th</th>\n",
       "      <th>internetuserate</th>\n",
       "      <th>incomeperperson</th>\n",
       "      <th>employrate</th>\n",
       "      <th>urbanrate</th>\n",
       "      <th>alcconsumption</th>\n",
       "    </tr>\n",
       "  </thead>\n",
       "  <tbody>\n",
       "    <tr>\n",
       "      <th>count</th>\n",
       "      <td>1.600000e+02</td>\n",
       "      <td>1.600000e+02</td>\n",
       "      <td>1.600000e+02</td>\n",
       "      <td>1.600000e+02</td>\n",
       "      <td>1.600000e+02</td>\n",
       "      <td>1.600000e+02</td>\n",
       "    </tr>\n",
       "    <tr>\n",
       "      <th>mean</th>\n",
       "      <td>-2.546574e-16</td>\n",
       "      <td>-1.207368e-16</td>\n",
       "      <td>-1.665335e-17</td>\n",
       "      <td>-8.187895e-17</td>\n",
       "      <td>6.106227e-17</td>\n",
       "      <td>-1.304512e-16</td>\n",
       "    </tr>\n",
       "    <tr>\n",
       "      <th>std</th>\n",
       "      <td>1.003140e+00</td>\n",
       "      <td>1.003140e+00</td>\n",
       "      <td>1.003140e+00</td>\n",
       "      <td>1.003140e+00</td>\n",
       "      <td>1.003140e+00</td>\n",
       "      <td>1.003140e+00</td>\n",
       "    </tr>\n",
       "    <tr>\n",
       "      <th>min</th>\n",
       "      <td>-1.529914e+00</td>\n",
       "      <td>-1.209532e+00</td>\n",
       "      <td>-6.882449e-01</td>\n",
       "      <td>-2.340318e+00</td>\n",
       "      <td>-2.023808e+00</td>\n",
       "      <td>-1.355663e+00</td>\n",
       "    </tr>\n",
       "    <tr>\n",
       "      <th>25%</th>\n",
       "      <td>-6.583824e-01</td>\n",
       "      <td>-8.781754e-01</td>\n",
       "      <td>-6.400026e-01</td>\n",
       "      <td>-6.951501e-01</td>\n",
       "      <td>-8.506727e-01</td>\n",
       "      <td>-8.166860e-01</td>\n",
       "    </tr>\n",
       "    <tr>\n",
       "      <th>50%</th>\n",
       "      <td>-1.528109e-01</td>\n",
       "      <td>-1.831951e-01</td>\n",
       "      <td>-4.643336e-01</td>\n",
       "      <td>-2.596995e-02</td>\n",
       "      <td>1.192491e-01</td>\n",
       "      <td>-1.445906e-01</td>\n",
       "    </tr>\n",
       "    <tr>\n",
       "      <th>75%</th>\n",
       "      <td>4.658426e-01</td>\n",
       "      <td>6.884989e-01</td>\n",
       "      <td>1.373086e-01</td>\n",
       "      <td>5.683199e-01</td>\n",
       "      <td>7.743678e-01</td>\n",
       "      <td>6.340992e-01</td>\n",
       "    </tr>\n",
       "    <tr>\n",
       "      <th>max</th>\n",
       "      <td>4.070540e+00</td>\n",
       "      <td>2.208345e+00</td>\n",
       "      <td>4.285616e+00</td>\n",
       "      <td>2.327031e+00</td>\n",
       "      <td>1.951718e+00</td>\n",
       "      <td>3.240408e+00</td>\n",
       "    </tr>\n",
       "  </tbody>\n",
       "</table>\n",
       "</div>"
      ],
      "text/plain": [
       "       suicideper100th  internetuserate  incomeperperson    employrate  \\\n",
       "count     1.600000e+02     1.600000e+02     1.600000e+02  1.600000e+02   \n",
       "mean     -2.546574e-16    -1.207368e-16    -1.665335e-17 -8.187895e-17   \n",
       "std       1.003140e+00     1.003140e+00     1.003140e+00  1.003140e+00   \n",
       "min      -1.529914e+00    -1.209532e+00    -6.882449e-01 -2.340318e+00   \n",
       "25%      -6.583824e-01    -8.781754e-01    -6.400026e-01 -6.951501e-01   \n",
       "50%      -1.528109e-01    -1.831951e-01    -4.643336e-01 -2.596995e-02   \n",
       "75%       4.658426e-01     6.884989e-01     1.373086e-01  5.683199e-01   \n",
       "max       4.070540e+00     2.208345e+00     4.285616e+00  2.327031e+00   \n",
       "\n",
       "          urbanrate  alcconsumption  \n",
       "count  1.600000e+02    1.600000e+02  \n",
       "mean   6.106227e-17   -1.304512e-16  \n",
       "std    1.003140e+00    1.003140e+00  \n",
       "min   -2.023808e+00   -1.355663e+00  \n",
       "25%   -8.506727e-01   -8.166860e-01  \n",
       "50%    1.192491e-01   -1.445906e-01  \n",
       "75%    7.743678e-01    6.340992e-01  \n",
       "max    1.951718e+00    3.240408e+00  "
      ]
     },
     "execution_count": 92,
     "metadata": {},
     "output_type": "execute_result"
    }
   ],
   "source": [
    "clustervar.describe()"
   ]
  },
  {
   "cell_type": "code",
   "execution_count": 93,
   "metadata": {
    "collapsed": true
   },
   "outputs": [],
   "source": [
    "# split data into train and test sets\n",
    "clus_train, clus_test = train_test_split(clustervar, test_size=.3, random_state=123)"
   ]
  },
  {
   "cell_type": "code",
   "execution_count": 94,
   "metadata": {
    "collapsed": false
   },
   "outputs": [
    {
     "data": {
      "text/html": [
       "<div>\n",
       "<table border=\"1\" class=\"dataframe\">\n",
       "  <thead>\n",
       "    <tr style=\"text-align: right;\">\n",
       "      <th></th>\n",
       "      <th>country</th>\n",
       "      <th>incomeperperson</th>\n",
       "      <th>alcconsumption</th>\n",
       "      <th>armedforcesrate</th>\n",
       "      <th>breastcancerper100th</th>\n",
       "      <th>co2emissions</th>\n",
       "      <th>femaleemployrate</th>\n",
       "      <th>hivrate</th>\n",
       "      <th>internetuserate</th>\n",
       "      <th>lifeexpectancy</th>\n",
       "      <th>oilperperson</th>\n",
       "      <th>polityscore</th>\n",
       "      <th>relectricperperson</th>\n",
       "      <th>suicideper100th</th>\n",
       "      <th>employrate</th>\n",
       "      <th>urbanrate</th>\n",
       "    </tr>\n",
       "  </thead>\n",
       "  <tbody>\n",
       "    <tr>\n",
       "      <th>1</th>\n",
       "      <td>Albania</td>\n",
       "      <td>1914.99655094922</td>\n",
       "      <td>7.29</td>\n",
       "      <td>1.0247361</td>\n",
       "      <td>57.4</td>\n",
       "      <td>223747333.333333</td>\n",
       "      <td>42.0999984741211</td>\n",
       "      <td></td>\n",
       "      <td>44.9899469578783</td>\n",
       "      <td>76.918</td>\n",
       "      <td></td>\n",
       "      <td>9</td>\n",
       "      <td>636.341383366604</td>\n",
       "      <td>7.69932985305786</td>\n",
       "      <td>51.4000015258789</td>\n",
       "      <td>46.72</td>\n",
       "    </tr>\n",
       "    <tr>\n",
       "      <th>2</th>\n",
       "      <td>Algeria</td>\n",
       "      <td>2231.99333515006</td>\n",
       "      <td>.69</td>\n",
       "      <td>2.306817</td>\n",
       "      <td>23.5</td>\n",
       "      <td>2932108666.66667</td>\n",
       "      <td>31.7000007629394</td>\n",
       "      <td>.1</td>\n",
       "      <td>12.5000733055148</td>\n",
       "      <td>73.131</td>\n",
       "      <td>.42009452521537</td>\n",
       "      <td>2</td>\n",
       "      <td>590.509814347428</td>\n",
       "      <td>4.8487696647644</td>\n",
       "      <td>50.5</td>\n",
       "      <td>65.22</td>\n",
       "    </tr>\n",
       "    <tr>\n",
       "      <th>4</th>\n",
       "      <td>Angola</td>\n",
       "      <td>1381.00426770244</td>\n",
       "      <td>5.57</td>\n",
       "      <td>1.4613288</td>\n",
       "      <td>23.1</td>\n",
       "      <td>248358000</td>\n",
       "      <td>69.4000015258789</td>\n",
       "      <td>2</td>\n",
       "      <td>9.99995388324075</td>\n",
       "      <td>51.093</td>\n",
       "      <td></td>\n",
       "      <td>-2</td>\n",
       "      <td>172.999227388199</td>\n",
       "      <td>14.5546770095825</td>\n",
       "      <td>75.6999969482422</td>\n",
       "      <td>56.7</td>\n",
       "    </tr>\n",
       "    <tr>\n",
       "      <th>6</th>\n",
       "      <td>Argentina</td>\n",
       "      <td>10749.4192379463</td>\n",
       "      <td>9.35</td>\n",
       "      <td>.560987</td>\n",
       "      <td>73.9</td>\n",
       "      <td>5872119000</td>\n",
       "      <td>45.9000015258789</td>\n",
       "      <td>.5</td>\n",
       "      <td>36.0003349500148</td>\n",
       "      <td>75.901</td>\n",
       "      <td>.635943800978195</td>\n",
       "      <td>8</td>\n",
       "      <td>768.428299701347</td>\n",
       "      <td>7.765584</td>\n",
       "      <td>58.4000015258789</td>\n",
       "      <td>92</td>\n",
       "    </tr>\n",
       "    <tr>\n",
       "      <th>7</th>\n",
       "      <td>Armenia</td>\n",
       "      <td>1326.74175718861</td>\n",
       "      <td>13.66</td>\n",
       "      <td>2.6184384</td>\n",
       "      <td>51.6</td>\n",
       "      <td>51219666.6666667</td>\n",
       "      <td>34.2000007629394</td>\n",
       "      <td>.1</td>\n",
       "      <td>44.0010245795602</td>\n",
       "      <td>74.241</td>\n",
       "      <td></td>\n",
       "      <td>5</td>\n",
       "      <td>603.763057563433</td>\n",
       "      <td>3.74158787727356</td>\n",
       "      <td>40.0999984741211</td>\n",
       "      <td>63.86</td>\n",
       "    </tr>\n",
       "  </tbody>\n",
       "</table>\n",
       "</div>"
      ],
      "text/plain": [
       "     country   incomeperperson alcconsumption armedforcesrate  \\\n",
       "1    Albania  1914.99655094922           7.29       1.0247361   \n",
       "2    Algeria  2231.99333515006            .69        2.306817   \n",
       "4     Angola  1381.00426770244           5.57       1.4613288   \n",
       "6  Argentina  10749.4192379463           9.35         .560987   \n",
       "7    Armenia  1326.74175718861          13.66       2.6184384   \n",
       "\n",
       "  breastcancerper100th      co2emissions  femaleemployrate hivrate  \\\n",
       "1                 57.4  223747333.333333  42.0999984741211           \n",
       "2                 23.5  2932108666.66667  31.7000007629394      .1   \n",
       "4                 23.1         248358000  69.4000015258789       2   \n",
       "6                 73.9        5872119000  45.9000015258789      .5   \n",
       "7                 51.6  51219666.6666667  34.2000007629394      .1   \n",
       "\n",
       "    internetuserate lifeexpectancy      oilperperson polityscore  \\\n",
       "1  44.9899469578783         76.918                             9   \n",
       "2  12.5000733055148         73.131   .42009452521537           2   \n",
       "4  9.99995388324075         51.093                            -2   \n",
       "6  36.0003349500148         75.901  .635943800978195           8   \n",
       "7  44.0010245795602         74.241                             5   \n",
       "\n",
       "  relectricperperson   suicideper100th        employrate urbanrate  \n",
       "1   636.341383366604  7.69932985305786  51.4000015258789     46.72  \n",
       "2   590.509814347428   4.8487696647644              50.5     65.22  \n",
       "4   172.999227388199  14.5546770095825  75.6999969482422      56.7  \n",
       "6   768.428299701347          7.765584  58.4000015258789        92  \n",
       "7   603.763057563433  3.74158787727356  40.0999984741211     63.86  "
      ]
     },
     "execution_count": 94,
     "metadata": {},
     "output_type": "execute_result"
    }
   ],
   "source": [
    "data_clean.head()"
   ]
  },
  {
   "cell_type": "code",
   "execution_count": 95,
   "metadata": {
    "collapsed": false,
    "scrolled": true
   },
   "outputs": [],
   "source": [
    "# k-means cluster analysis for 1-9 clusters                                                           \n",
    "from scipy.spatial.distance import cdist\n",
    "clusters=range(1,10)\n",
    "meandist=[]\n",
    "\n",
    "for k in clusters:\n",
    "    model=KMeans(n_clusters=k)\n",
    "    model.fit(clus_train)\n",
    "    clusassign=model.predict(clus_train)\n",
    "    meandist.append(sum(np.min(cdist(clus_train, model.cluster_centers_, 'euclidean'), axis=1)) \n",
    "    / clus_train.shape[0])"
   ]
  },
  {
   "cell_type": "code",
   "execution_count": 96,
   "metadata": {
    "collapsed": false
   },
   "outputs": [
    {
     "data": {
      "text/plain": [
       "<matplotlib.text.Text at 0xe29de70>"
      ]
     },
     "execution_count": 96,
     "metadata": {},
     "output_type": "execute_result"
    },
    {
     "data": {
      "image/png": "[encoded data removed]",
      "text/plain": [
       "<matplotlib.figure.Figure at 0xe2cec30>"
      ]
     },
     "metadata": {},
     "output_type": "display_data"
    }
   ],
   "source": [
    "\"\"\"\n",
    "Plot average distance from observations from the cluster centroid\n",
    "to use the Elbow Method to identify number of clusters to choose\n",
    "\"\"\"\n",
    "\n",
    "plt.plot(clusters, meandist)\n",
    "plt.xlabel('Number of clusters')\n",
    "plt.ylabel('Average distance')\n",
    "plt.title('Selecting k with the Elbow Method')"
   ]
  },
  {
   "cell_type": "code",
   "execution_count": 97,
   "metadata": {
    "collapsed": false
   },
   "outputs": [],
   "source": [
    "# Interpret 3 cluster solution\n",
    "model3=KMeans(n_clusters=3)\n",
    "model3.fit(clus_train)\n",
    "clusassign=model3.predict(clus_train)"
   ]
  },
  {
   "cell_type": "code",
   "execution_count": 98,
   "metadata": {
    "collapsed": false,
    "scrolled": true
   },
   "outputs": [
    {
     "data": {
      "image/png": "[encoded data removed]",
      "text/plain": [
       "<matplotlib.figure.Figure at 0xe2d1050>"
      ]
     },
     "metadata": {},
     "output_type": "display_data"
    }
   ],
   "source": [
    "# plot clusters\n",
    "\n",
    "from sklearn.decomposition import PCA\n",
    "pca_2 = PCA(2)\n",
    "plot_columns = pca_2.fit_transform(clus_train)\n",
    "plt.scatter(x=plot_columns[:,0], y=plot_columns[:,1], c=model3.labels_,)\n",
    "plt.xlabel('Canonical variable 1')\n",
    "plt.ylabel('Canonical variable 2')\n",
    "plt.title('Scatterplot of Canonical Variables for 3 Clusters')\n",
    "plt.show()"
   ]
  },
  {
   "cell_type": "code",
   "execution_count": 99,
   "metadata": {
    "collapsed": false
   },
   "outputs": [
    {
     "data": {
      "text/plain": [
       "1    67\n",
       "2    26\n",
       "0    19\n",
       "Name: cluster, dtype: int64"
      ]
     },
     "execution_count": 99,
     "metadata": {},
     "output_type": "execute_result"
    }
   ],
   "source": [
    "# create a unique identifier variable from the index for the \n",
    "# cluster training data to merge with the cluster assignment variable\n",
    "clus_train.reset_index(level=0, inplace=True)\n",
    "\n",
    "# create a list that has the new index variable\n",
    "cluslist=list(clus_train['index'])\n",
    "\n",
    "# create a list of cluster assignments\n",
    "labels=list(model3.labels_)\n",
    "\n",
    "# combine index variable list with cluster assignment list into a dictionary\n",
    "newlist=dict(zip(cluslist, labels))\n",
    "newlist\n",
    "\n",
    "# convert newlist dictionary to a dataframe\n",
    "newclus=DataFrame.from_dict(newlist, orient='index')\n",
    "newclus\n",
    "\n",
    "# rename the cluster assignment column\n",
    "newclus.columns = ['cluster']\n",
    "\n",
    "# now do the same for the cluster assignment variable\n",
    "# create a unique identifier variable from the index for the \n",
    "# cluster assignment dataframe \n",
    "# to merge with cluster training data\n",
    "newclus.reset_index(level=0, inplace=True)\n",
    "\n",
    "# merge the cluster assignment dataframe with the cluster training variable dataframe\n",
    "# by the index variable\n",
    "merged_train=pd.merge(clus_train, newclus, on='index')\n",
    "merged_train.head(n=100)\n",
    "\n",
    "# cluster frequencies\n",
    "merged_train.cluster.value_counts()"
   ]
  },
  {
   "cell_type": "code",
   "execution_count": 100,
   "metadata": {
    "collapsed": false,
    "scrolled": false
   },
   "outputs": [
    {
     "data": {
      "text/plain": [
       "1      76.918\n",
       "2      73.131\n",
       "4      51.093\n",
       "6      75.901\n",
       "7      74.241\n",
       "9      81.907\n",
       "10     80.854\n",
       "11     70.739\n",
       "12      75.62\n",
       "13     75.057\n",
       "14     68.944\n",
       "15     76.835\n",
       "16     70.349\n",
       "17     80.009\n",
       "18     76.072\n",
       "19     56.081\n",
       "21     67.185\n",
       "22     66.618\n",
       "23      75.67\n",
       "24     53.183\n",
       "25     73.488\n",
       "26     78.005\n",
       "27     73.371\n",
       "28     55.439\n",
       "29     50.411\n",
       "30     63.125\n",
       "31      51.61\n",
       "32     81.012\n",
       "33     74.156\n",
       "35     48.398\n",
       "        ...  \n",
       "176    67.852\n",
       "178    52.797\n",
       "179    81.404\n",
       "180    74.941\n",
       "182    70.563\n",
       "183    48.718\n",
       "184    81.439\n",
       "185    82.338\n",
       "186     75.85\n",
       "188    67.529\n",
       "189    58.199\n",
       "190    74.126\n",
       "191    62.475\n",
       "192    57.062\n",
       "194    70.124\n",
       "195    74.515\n",
       "196    73.979\n",
       "197    64.986\n",
       "199    54.116\n",
       "200    68.494\n",
       "201    76.546\n",
       "202     80.17\n",
       "203    78.531\n",
       "204    77.005\n",
       "205    68.287\n",
       "207    74.402\n",
       "208    75.181\n",
       "210    65.493\n",
       "211    49.025\n",
       "212    51.384\n",
       "Name: lifeexpectancy, dtype: object"
      ]
     },
     "execution_count": 100,
     "metadata": {},
     "output_type": "execute_result"
    }
   ],
   "source": [
    "data_clean['lifeexpectancy']"
   ]
  },
  {
   "cell_type": "code",
   "execution_count": 119,
   "metadata": {
    "collapsed": false,
    "scrolled": false
   },
   "outputs": [
    {
     "name": "stdout",
     "output_type": "stream",
     "text": [
      "Clustering variable means by cluster\n",
      "              index  suicideper100th  internetuserate  incomeperperson  \\\n",
      "cluster                                                                  \n",
      "0        113.789474         1.104782         0.646370        -0.159933   \n",
      "1        101.432836        -0.164724        -0.636369        -0.517051   \n",
      "2        106.923077        -0.310800         1.362183         1.624841   \n",
      "\n",
      "         employrate  urbanrate  alcconsumption  \n",
      "cluster                                         \n",
      "0         -0.702652   0.224522        1.514142  \n",
      "1          0.179338  -0.459279       -0.624419  \n",
      "2          0.059513   1.157261        0.216653  \n"
     ]
    }
   ],
   "source": [
    "\n",
    "\n",
    "# FINALLY calculate clustering variable means by cluster\n",
    "clustergrp = merged_train.groupby('cluster').mean()\n",
    "print (\"Clustering variable means by cluster\")\n",
    "print(clustergrp)\n",
    "\n",
    "\n",
    "# validate clusters in training data by examining cluster differences in GPA using ANOVA\n",
    "# first have to merge GPA with clustering variables and cluster assignment data \n",
    "gpa_data=data_clean['lifeexpectancy']\n",
    "\n",
    "# split GPA data into train and test sets\n",
    "gpa_train, gpa_test = train_test_split(gpa_data, test_size=.3, random_state=123)\n",
    "gpa_train1=pd.DataFrame(gpa_train)\n",
    "gpa_train1.reset_index(level=0, inplace=True)\n",
    "merged_train_all=pd.merge(gpa_train1, merged_train, on='index')\n",
    "sub1 = merged_train_all[['lifeexpectancy', 'cluster']].dropna()\n"
   ]
  },
  {
   "cell_type": "code",
   "execution_count": null,
   "metadata": {
    "collapsed": true
   },
   "outputs": [],
   "source": []
  },
  {
   "cell_type": "code",
   "execution_count": null,
   "metadata": {
    "collapsed": false,
    "scrolled": true
   },
   "outputs": [],
   "source": []
  },
  {
   "cell_type": "code",
   "execution_count": null,
   "metadata": {
    "collapsed": false
   },
   "outputs": [],
   "source": []
  },
  {
   "cell_type": "code",
   "execution_count": null,
   "metadata": {
    "collapsed": false,
    "scrolled": true
   },
   "outputs": [],
   "source": []
  },
  {
   "cell_type": "code",
   "execution_count": null,
   "metadata": {
    "collapsed": false,
    "scrolled": true
   },
   "outputs": [],
   "source": []
  },
  {
   "cell_type": "code",
   "execution_count": null,
   "metadata": {
    "collapsed": true
   },
   "outputs": [],
   "source": []
  },
  {
   "cell_type": "code",
   "execution_count": null,
   "metadata": {
    "collapsed": false
   },
   "outputs": [],
   "source": []
  },
  {
   "cell_type": "code",
   "execution_count": null,
   "metadata": {
    "collapsed": true
   },
   "outputs": [],
   "source": []
  }
 ],
 "metadata": {
  "kernelspec": {
   "display_name": "Python 3",
   "language": "python",
   "name": "python3"
  },
  "language_info": {
   "codemirror_mode": {
    "name": "ipython",
    "version": 3
   },
   "file_extension": ".py",
   "mimetype": "text/x-python",
   "name": "python",
   "nbconvert_exporter": "python",
   "pygments_lexer": "ipython3",
   "version": "3.5.1"
  }
 },
 "nbformat": 4,
 "nbformat_minor": 0
}
