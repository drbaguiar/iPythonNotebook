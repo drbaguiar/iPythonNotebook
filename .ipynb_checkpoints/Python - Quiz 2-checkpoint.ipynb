{
 "cells": [
  {
   "cell_type": "code",
   "execution_count": null,
   "metadata": {
    "collapsed": false
   },
   "outputs": [],
   "source": [
    "print(15//4)"
   ]
  },
  {
   "cell_type": "code",
   "execution_count": null,
   "metadata": {
    "collapsed": false
   },
   "outputs": [],
   "source": [
    "print(24 % 5)"
   ]
  },
  {
   "cell_type": "code",
   "execution_count": null,
   "metadata": {
    "collapsed": false
   },
   "outputs": [],
   "source": [
    "print( 24 / 3 * 4 + 2 )"
   ]
  },
  {
   "cell_type": "code",
   "execution_count": null,
   "metadata": {
    "collapsed": false
   },
   "outputs": [],
   "source": [
    "print( 3 * 2 ** 4 - 8)"
   ]
  },
  {
   "cell_type": "code",
   "execution_count": null,
   "metadata": {
    "collapsed": false
   },
   "outputs": [],
   "source": [
    "x = 5.1\n",
    "print(x >= 5.0)"
   ]
  },
  {
   "cell_type": "code",
   "execution_count": null,
   "metadata": {
    "collapsed": false
   },
   "outputs": [],
   "source": [
    "x = 4\n",
    "print(x == 3 + 2 )"
   ]
  },
  {
   "cell_type": "code",
   "execution_count": null,
   "metadata": {
    "collapsed": false
   },
   "outputs": [],
   "source": [
    "x = 6\n",
    "print(4 * 2 - 2 != x)"
   ]
  },
  {
   "cell_type": "code",
   "execution_count": null,
   "metadata": {
    "collapsed": false
   },
   "outputs": [],
   "source": [
    "x = 100\n",
    "y = x > 10\n",
    "print(y)"
   ]
  },
  {
   "cell_type": "code",
   "execution_count": null,
   "metadata": {
    "collapsed": false
   },
   "outputs": [],
   "source": [
    "print(True and (3 <= 5))"
   ]
  },
  {
   "cell_type": "code",
   "execution_count": null,
   "metadata": {
    "collapsed": false
   },
   "outputs": [],
   "source": [
    "# This should produce an error is it is run alone\n",
    "x == 0\n",
    "print(not x)"
   ]
  },
  {
   "cell_type": "code",
   "execution_count": null,
   "metadata": {
    "collapsed": false
   },
   "outputs": [],
   "source": [
    "a = 14 // 3\n",
    "b = 4 > 5\n",
    "print( a and b)"
   ]
  },
  {
   "cell_type": "code",
   "execution_count": null,
   "metadata": {
    "collapsed": false
   },
   "outputs": [],
   "source": [
    "x = False\n",
    "y = 0 > 10\n",
    "print(y or x)"
   ]
  },
  {
   "cell_type": "code",
   "execution_count": null,
   "metadata": {
    "collapsed": false
   },
   "outputs": [],
   "source": [
    "x = ['cat', 2.5, 'dog']\n",
    "y = 'cat' in x\n",
    "print(y)"
   ]
  },
  {
   "cell_type": "code",
   "execution_count": null,
   "metadata": {
    "collapsed": false
   },
   "outputs": [],
   "source": [
    "x = \"python course\"\n",
    "print(\"cours\" not in x )"
   ]
  },
  {
   "cell_type": "code",
   "execution_count": null,
   "metadata": {
    "collapsed": false
   },
   "outputs": [],
   "source": [
    "my_list = [ 'dog', 'cat', 'worm', 2.3]\n",
    "if 'doc' in my_list:\n",
    "    my_list[1] = 4\n",
    "else:\n",
    "    my_list[2] = 6\n",
    "print (my_list[1],my_list[2])"
   ]
  },
  {
   "cell_type": "code",
   "execution_count": null,
   "metadata": {
    "collapsed": false
   },
   "outputs": [],
   "source": [
    "x = 10\n",
    "if x > 5 :\n",
    "    x = x + 5\n",
    "if x < 12 :\n",
    "    x = x + 5\n",
    "if x == 15 :\n",
    "    x = x + 5\n",
    "print(x)"
   ]
  },
  {
   "cell_type": "code",
   "execution_count": null,
   "metadata": {
    "collapsed": false
   },
   "outputs": [],
   "source": [
    "x = 20\n",
    "if True :\n",
    "    x = x + 10\n",
    "if x == 20:\n",
    "    x = x + 30\n",
    "else:\n",
    "    x = x + 40\n",
    "print(x)"
   ]
  },
  {
   "cell_type": "code",
   "execution_count": null,
   "metadata": {
    "collapsed": false
   },
   "outputs": [],
   "source": [
    "x = 4\n",
    "if \"z\" in \"computer science\":\n",
    "    x = x + 10\n",
    "elif 5 % 3 == 2:\n",
    "    x = x + 18\n",
    "elif 5>4:\n",
    "    x = x + 30\n",
    "else:\n",
    "    x = x + 5\n",
    "print (x)\n"
   ]
  },
  {
   "cell_type": "code",
   "execution_count": null,
   "metadata": {
    "collapsed": false
   },
   "outputs": [],
   "source": [
    "x = \"c\"\n",
    "y = 3\n",
    "if \"x\" in \"computer science\":\n",
    "    y = y + 5\n",
    "else:\n",
    "    y = y + 10\n",
    "if x in \"computer science\":\n",
    "    y = y + 20\n",
    "else:\n",
    "    y = y + 40\n",
    "print (y)\n"
   ]
  },
  {
   "cell_type": "code",
   "execution_count": null,
   "metadata": {
    "collapsed": false
   },
   "outputs": [],
   "source": [
    "my_list = [ 13, 'cat', 5.6, 'cow']\n",
    "if 'dog' in my_list:\n",
    "    print('bark')\n",
    "else:\n",
    "    print('meow')"
   ]
  },
  {
   "cell_type": "markdown",
   "metadata": {},
   "source": [
    "Write a program which asks the user to enter their age in years (Assume that the user always enters an integer) and based on the following conditions, \n",
    "prints the output exactly as in the following format: \n",
    "\n",
    "When age is less than or equal to 0, your program should print UNBORN\n",
    "\n",
    "When age is greater than 0 and less than or equal to 150, your program should print ALIVE\n",
    "\n",
    "When age is greater than 150, your program should print VAMPIRE\n",
    "\n",
    "Note that your printed output should be in capital letters and there should be no extra spaces."
   ]
  },
  {
   "cell_type": "code",
   "execution_count": null,
   "metadata": {
    "collapsed": false
   },
   "outputs": [],
   "source": [
    "x = int(input (\"Enter your age \"))\n",
    "\n",
    "if x > 150:\n",
    "    print (\"VAMPIRE\")\n",
    "\n",
    "elif x > 0:\n",
    "    print (\"ALIVE\")\n",
    "    \n",
    "else:\n",
    "    print (\"UNBORN\")"
   ]
  },
  {
   "cell_type": "markdown",
   "metadata": {},
   "source": [
    "Write a program which asks the user to enter a positive integer 'n' (Assume that the user always enters a positive integer) and based on the following conditions, prints the appropriate results exactly as shown in the following format. \n",
    "\n",
    "when 'n' is divisible by both 2 and 3 (for example 12), then your program should print BOTH\n",
    "\n",
    "when 'n' is divisible by only one of the numbers i.e divisible by 2 but not divisible by 3 (for example 8), or divisible by 3 but not divisible by 2 (for example 9), your program should print ONE\n",
    "\n",
    "when 'n' is neither divisible by 2 nor divisible by 3 (for example 25), your program should print NEITHER"
   ]
  },
  {
   "cell_type": "code",
   "execution_count": null,
   "metadata": {
    "collapsed": false
   },
   "outputs": [],
   "source": [
    "x = int(input (\"Enter a positive integer\"))\n",
    "\n",
    "if (x%2 == 0) and (x%3 == 0):\n",
    "    print (\"BOTH\")\n",
    "\n",
    "elif (x%2 == 0) or  (x%3 == 0):\n",
    "    print (\"ONE\")\n",
    "    \n",
    "else:\n",
    "    print (\"NEITHER\")"
   ]
  },
  {
   "cell_type": "markdown",
   "metadata": {},
   "source": [
    "Write a program which asks the user to enter an integer 'n' which would be the total numbers of hours the user worked in a week and calculates and prints the total amount of money the user made during that week. \n",
    "\n",
    "If the user enters any number less than 0 or greater than 168 (n < 0 or n > 168) then your program should print INVALID \n",
    "\n",
    "Assume that hourly rate for the first 40 hours is $8 per hour. \n",
    "\n",
    "Hourly rate for extra hours between 41 and 50 (41 <= n <= 50 ) is $9 per hour. \n",
    "\n",
    "Hourly rate for extra hours greater than 50 is $10 per hour. \n",
    "\n",
    "Here are a few examples:\n",
    "\n",
    "if the user enters -5, then your program should print INVALID\n",
    "\n",
    "if the user enters 34, then your program should print YOU MADE 272 DOLLARS THIS WEEK\n",
    "\n",
    "if the user enters 45, then your program should print YOU MADE 365 DOLLARS THIS WEEK\n",
    "\n",
    "if the user enters 67, then your program should print YOU MADE 580 DOLLARS THIS WEEK"
   ]
  },
  {
   "cell_type": "code",
   "execution_count": null,
   "metadata": {
    "collapsed": false
   },
   "outputs": [],
   "source": [
    "x = int(input (\"Enter the number of hours worked \"))\n",
    "\n",
    "if (x < 0 or x > 168):\n",
    "    print (\"INVALID\")\n",
    "\n",
    "elif (x < 41):\n",
    "    print (\"YOU MADE\", x*8 , \"DOLLARS THIS WEEK\")\n",
    "     \n",
    "elif (x < 51):\n",
    "    print (\"YOU MADE\", (40*8)+((x-40)*9), \"DOLLARS THIS WEEK\")\n",
    "\n",
    "else:\n",
    "    print (\"YOU MADE\",(40*8)+(10*9)+((x-50)*10), \"DOLLARS THIS WEEK\")"
   ]
  },
  {
   "cell_type": "markdown",
   "metadata": {},
   "source": [
    "Write a program that asks the user to enter a positive integer n. Assuming that this integer is in seconds, your program should convert the number of seconds into days, hours, minutes, and seconds and prints them exactly in the format specified below. \n",
    "\n",
    "Here are a few sample runs of what your program is supposed to do: \n",
    "\n",
    "when user enters 369121517 your program should print: 4272 days 5 hours 45 minutes 17 seconds\n",
    "\n",
    "when user enters 24680 your program should print: 0 days 6 hours 51 minutes 20 seconds\n",
    "\n",
    "when user enters 129600 your program should print: 1 days 12 hours 0 minutes 0 seconds\n",
    "\n"
   ]
  },
  {
   "cell_type": "code",
   "execution_count": null,
   "metadata": {
    "collapsed": false
   },
   "outputs": [],
   "source": [
    "x = int(input (\"Enter a number to be converted to days hours weeks and seconds \"))\n",
    "\n",
    "days = x//86400\n",
    "x = x-(days*86400)\n",
    "if x == 0 :\n",
    "    hours = 0\n",
    "    minutes = 0\n",
    "    seconds = 0\n",
    "\n",
    "hours = x//3600\n",
    "x = x-(hours*3600)\n",
    "if x == 0 :\n",
    "    minutes = 0\n",
    "    seconds = 0\n",
    "\n",
    "minutes = x //60\n",
    "x = x-(minutes*60)\n",
    "\n",
    "print (days,\"days\",hours,\"hours\",minutes,\"minutes\",x,\"seconds\")"
   ]
  },
  {
   "cell_type": "code",
   "execution_count": null,
   "metadata": {
    "collapsed": false
   },
   "outputs": [],
   "source": [
    "\n",
    "\n"
   ]
  },
  {
   "cell_type": "code",
   "execution_count": null,
   "metadata": {
    "collapsed": true
   },
   "outputs": [],
   "source": []
  }
 ],
 "metadata": {
  "kernelspec": {
   "display_name": "Python 3",
   "language": "python",
   "name": "python3"
  },
  "language_info": {
   "codemirror_mode": {
    "name": "ipython",
    "version": 3
   },
   "file_extension": ".py",
   "mimetype": "text/x-python",
   "name": "python",
   "nbconvert_exporter": "python",
   "pygments_lexer": "ipython3",
   "version": "3.5.1"
  }
 },
 "nbformat": 4,
 "nbformat_minor": 0
}
