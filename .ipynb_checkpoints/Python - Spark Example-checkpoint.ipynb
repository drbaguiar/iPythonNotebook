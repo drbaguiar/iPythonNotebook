{
 "cells": [
  {
   "cell_type": "raw",
   "metadata": {},
   "source": [
    "The requirements: you need to find out grouped by type of customer how many of each type are in each country with the name of the country listed in the countries.dat in the final result (and not the 2 digit country name).\n",
    "\n",
    "To-do this you need to:\n",
    "\n",
    "1) Join the data sets\n",
    "2) Key on country\n",
    "3) Count type of customer per country\n",
    "4) Output the results"
   ]
  },
  {
   "cell_type": "markdown",
   "metadata": {},
   "source": [
    "Data set 1:  countries.dat\n",
    "\n",
    "United States|US\n",
    "Canada|CA\n",
    "United Kingdom|UK\n",
    "Italy|IT"
   ]
  },
  {
   "cell_type": "markdown",
   "metadata": {},
   "source": [
    "Data set 2: customers.dat\n",
    "\n",
    "Alice Bob|not bad|US\n",
    "Sam Sneed|valued|CA\n",
    "Jon Sneed|valued|CA\n",
    "Arnold Wesise|not so good|UK\n",
    "Henry Bob|not bad|US\n",
    "Yo Yo Ma|not so good|CA\n",
    "Jon York|valued|CA\n",
    "Alex Ball|valued|UK\n",
    "Jim Davis|not so bad|JA"
   ]
  },
  {
   "cell_type": "code",
   "execution_count": 5,
   "metadata": {
    "collapsed": false
   },
   "outputs": [
    {
     "name": "stdout",
     "output_type": "stream",
     "text": [
      "\t0\n"
     ]
    }
   ],
   "source": [
    "#!/usr/bin/env python\n",
    "### smplReducer.py\n",
    "  \n",
    "import sys\n",
    "  \n",
    "# maps words to their counts\n",
    "foundKey = \"\"\n",
    "foundValue = \"\"\n",
    "isFirst = 1\n",
    "currentCount = 0\n",
    "currentCountry2digit = \"-1\"\n",
    "currentCountryName = \"-1\"\n",
    "isCountryMappingLine = False\n",
    " \n",
    "# input comes from STDIN\n",
    "for line in sys.stdin:\n",
    "    # remove leading and trailing whitespace\n",
    "    line = line.strip()\n",
    "     \n",
    "    try:\n",
    "        # parse the input we got from mapper.py\n",
    "        country2digit,personType,personName,countryName = line.split('^')\n",
    "         \n",
    "        #the first line should be a mapping line, otherwise we need to set the currentCountryName to not known\n",
    "        if personName == \"-1\": #this is a new country which may or may not have people in it\n",
    "            currentCountryName = countryName\n",
    "            currentCountry2digit = country2digit\n",
    "            isCountryMappingLine = True\n",
    "        else:\n",
    "            isCountryMappingLine = False # this is a person we want to count\n",
    "         \n",
    "        if not isCountryMappingLine: #we only want to count people but use the country line to get the right name\n",
    " \n",
    "            #first check to see if the 2digit country info matches up, might be unkown country\n",
    "            if currentCountry2digit != country2digit:\n",
    "                currentCountry2digit = country2digit\n",
    "                currentCountryName = '%s - Unkown Country' % currentCountry2digit\n",
    "             \n",
    "            currentKey = '%s\\t%s' % (currentCountryName,personType)\n",
    "             \n",
    "            if foundKey != currentKey: #new combo of keys to count\n",
    "                if isFirst == 0:\n",
    "                    print '%s\\t%s' % (foundKey,currentCount)\n",
    "                    currentCount = 0 #reset the count\n",
    "                else:\n",
    "                    isFirst = 0\n",
    "             \n",
    "                foundKey = currentKey #make the found key what we see so when we loop again can see if we increment or print out\n",
    "             \n",
    "            currentCount += 1 # we increment anything not in the map list\n",
    "    except:\n",
    "        pass\n",
    " \n",
    "try:\n",
    "    print '%s\\t%s' % (foundKey,currentCount)\n",
    "except:\n",
    "    pass"
   ]
  },
  {
   "cell_type": "code",
   "execution_count": 6,
   "metadata": {
    "collapsed": true
   },
   "outputs": [],
   "source": [
    "#!/usr/bin/env python\n",
    "## smplMapper.py\n",
    "import sys\n",
    " \n",
    "# input comes from STDIN (standard input)\n",
    "for line in sys.stdin:\n",
    "    try: #sometimes bad data can cause errors use this how you like to deal with lint and bad data\n",
    "         \n",
    "        personName = \"-1\" #default sorted as first\n",
    "        personType = \"-1\" #default sorted as first\n",
    "        countryName = \"-1\" #default sorted as first\n",
    "        country2digit = \"-1\" #default sorted as first\n",
    "         \n",
    "        # remove leading and trailing whitespace\n",
    "        line = line.strip()\n",
    "         \n",
    "        splits = line.split(\"|\")\n",
    "         \n",
    "        if len(splits) == 2: #country data\n",
    "            countryName = splits[0]\n",
    "            country2digit = splits[1]\n",
    "        else: #people data\n",
    "            personName = splits[0]\n",
    "            personType = splits[1]\n",
    "            country2digit = splits[2]          \n",
    "         \n",
    "        print '%s^%s^%s^%s' % (country2digit,personType,personName,countryName)\n",
    "    except: #errors are going to make your job fail which you may or may not want\n",
    "        pass"
   ]
  },
  {
   "cell_type": "markdown",
   "metadata": {},
   "source": [
    "chmod a+x smplMapper.py\n",
    "\n",
    "chmod a+x smplReducer.py\n",
    "\n",
    "chmod a+x run.sh"
   ]
  },
  {
   "cell_type": "markdown",
   "metadata": {},
   "source": [
    "run.sh\n",
    "\n",
    "cat countries.dat customers.dat |./smplMapper.py |sort|./smplReducer.py "
   ]
  },
  {
   "cell_type": "code",
   "execution_count": null,
   "metadata": {
    "collapsed": true
   },
   "outputs": [],
   "source": []
  }
 ],
 "metadata": {
  "kernelspec": {
   "display_name": "Python 2",
   "language": "python",
   "name": "python2"
  },
  "language_info": {
   "codemirror_mode": {
    "name": "ipython",
    "version": 2
   },
   "file_extension": ".py",
   "mimetype": "text/x-python",
   "name": "python",
   "nbconvert_exporter": "python",
   "pygments_lexer": "ipython2",
   "version": "2.7.10"
  }
 },
 "nbformat": 4,
 "nbformat_minor": 0
}
