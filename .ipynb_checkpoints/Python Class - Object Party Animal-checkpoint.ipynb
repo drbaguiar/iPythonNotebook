{
 "cells": [
  {
   "cell_type": "code",
   "execution_count": 83,
   "metadata": {
    "collapsed": false
   },
   "outputs": [],
   "source": [
    "class PartyAnimal:\n",
    "    x = 0\n",
    "    def __init__(self):\n",
    "        print \"I am the constuctor \", self.x\n",
    "        \n",
    "    def party(self):\n",
    "        # Note: self is an alias for a specific instance\n",
    "        self.x = self.x + 1\n",
    "        print \"So far \", self.x\n",
    "        \n",
    "    def __del__(self):\n",
    "        print \"Im the desctuctor\", self.x\n",
    "        "
   ]
  },
  {
   "cell_type": "code",
   "execution_count": 84,
   "metadata": {
    "collapsed": false
   },
   "outputs": [
    {
     "name": "stdout",
     "output_type": "stream",
     "text": [
      "I am the constuctor  0\n",
      "Im the desctuctor 4\n"
     ]
    }
   ],
   "source": [
    "# Create an instance of parrty animal\n",
    "an=PartyAnimal()"
   ]
  },
  {
   "cell_type": "code",
   "execution_count": 85,
   "metadata": {
    "collapsed": false
   },
   "outputs": [
    {
     "name": "stdout",
     "output_type": "stream",
     "text": [
      "So far  1\n"
     ]
    }
   ],
   "source": [
    "# Run the party\n",
    "an.party()"
   ]
  },
  {
   "cell_type": "code",
   "execution_count": 86,
   "metadata": {
    "collapsed": false
   },
   "outputs": [
    {
     "name": "stdout",
     "output_type": "stream",
     "text": [
      "So far  2\n"
     ]
    }
   ],
   "source": [
    "# Run the party\n",
    "an.party()"
   ]
  },
  {
   "cell_type": "code",
   "execution_count": 87,
   "metadata": {
    "collapsed": false
   },
   "outputs": [
    {
     "name": "stdout",
     "output_type": "stream",
     "text": [
      "So far  3\n"
     ]
    }
   ],
   "source": [
    "# Run the party\n",
    "an.party()"
   ]
  },
  {
   "cell_type": "code",
   "execution_count": 88,
   "metadata": {
    "collapsed": false
   },
   "outputs": [
    {
     "name": "stdout",
     "output_type": "stream",
     "text": [
      "So far  4\n"
     ]
    }
   ],
   "source": [
    "# Alternative wasy to run the party\n",
    "PartyAnimal.party(an)"
   ]
  },
  {
   "cell_type": "code",
   "execution_count": 89,
   "metadata": {
    "collapsed": false
   },
   "outputs": [
    {
     "name": "stdout",
     "output_type": "stream",
     "text": [
      "<type 'instance'>\n",
      "['__del__', '__doc__', '__init__', '__module__', 'party', 'x']\n"
     ]
    }
   ],
   "source": [
    "# What is an\n",
    "print type(an)\n",
    "# What methods are in the party animal class\n",
    "print dir(an)"
   ]
  },
  {
   "cell_type": "code",
   "execution_count": 90,
   "metadata": {
    "collapsed": false
   },
   "outputs": [
    {
     "name": "stdout",
     "output_type": "stream",
     "text": [
      "I am the constuctor  0\n",
      "Im the desctuctor 2\n",
      "So far  1\n",
      "So far  2\n"
     ]
    }
   ],
   "source": [
    "# Create an instance of parrty animal\n",
    "bn=PartyAnimal()\n",
    "PartyAnimal.party(bn)\n",
    "PartyAnimal.party(bn)"
   ]
  },
  {
   "cell_type": "code",
   "execution_count": 91,
   "metadata": {
    "collapsed": true
   },
   "outputs": [],
   "source": [
    "class PartyAnimal:\n",
    "    x = 0\n",
    "    name = \"\"\n",
    "    def __init__(self,z):\n",
    "        self.name=z\n",
    "        print self.name, \" constructed\"\n",
    "        \n",
    "    def party(self):\n",
    "        # Note: self is an alias for a specific instance\n",
    "        self.x = self.x + 1\n",
    "        print self.name, \" party count \",self.x\n",
    "        \n",
    "    def __del__(self):\n",
    "        print \"Im the desctuctor\", self.x"
   ]
  },
  {
   "cell_type": "code",
   "execution_count": 92,
   "metadata": {
    "collapsed": false
   },
   "outputs": [
    {
     "name": "stdout",
     "output_type": "stream",
     "text": [
      "Sally  constructed\n",
      "Im the desctuctor 1\n",
      "Sally  party count  1\n"
     ]
    }
   ],
   "source": [
    "s = PartyAnimal(\"Sally\")\n",
    "PartyAnimal.party(s)"
   ]
  },
  {
   "cell_type": "code",
   "execution_count": 93,
   "metadata": {
    "collapsed": false
   },
   "outputs": [
    {
     "name": "stdout",
     "output_type": "stream",
     "text": [
      "Jim  constructed\n",
      "Im the desctuctor 2\n",
      "Jim  party count  1\n"
     ]
    }
   ],
   "source": [
    "j = PartyAnimal(\"Jim\")\n",
    "j.party()"
   ]
  },
  {
   "cell_type": "code",
   "execution_count": 94,
   "metadata": {
    "collapsed": true
   },
   "outputs": [],
   "source": [
    "# Child classs.  This inheriets all the stuff from the party class and adds a method\n",
    "class FootballFan(PartyAnimal):\n",
    "    points = 0\n",
    "    def touchdown(self):\n",
    "        self.points = self.points + 7\n",
    "        self.party()\n",
    "        print self.name, \" points\", self.points"
   ]
  },
  {
   "cell_type": "code",
   "execution_count": 95,
   "metadata": {
    "collapsed": false
   },
   "outputs": [
    {
     "name": "stdout",
     "output_type": "stream",
     "text": [
      "Bryan  constructed\n",
      "Im the desctuctor 5\n"
     ]
    }
   ],
   "source": [
    "b = FootballFan(\"Bryan\")"
   ]
  },
  {
   "cell_type": "code",
   "execution_count": 96,
   "metadata": {
    "collapsed": false
   },
   "outputs": [
    {
     "name": "stdout",
     "output_type": "stream",
     "text": [
      "Bryan  party count  1\n",
      "Bryan  points 7\n",
      "None\n",
      "Bryan  party count  2\n",
      "None\n"
     ]
    }
   ],
   "source": [
    "print b.touchdown()\n",
    "print b.party()"
   ]
  },
  {
   "cell_type": "code",
   "execution_count": 97,
   "metadata": {
    "collapsed": false
   },
   "outputs": [
    {
     "name": "stdout",
     "output_type": "stream",
     "text": [
      "Bryan\n",
      "2\n",
      "7\n"
     ]
    }
   ],
   "source": [
    "print b.name\n",
    "print b.x\n",
    "print b.points"
   ]
  },
  {
   "cell_type": "code",
   "execution_count": null,
   "metadata": {
    "collapsed": false
   },
   "outputs": [],
   "source": []
  },
  {
   "cell_type": "code",
   "execution_count": null,
   "metadata": {
    "collapsed": true
   },
   "outputs": [],
   "source": []
  }
 ],
 "metadata": {
  "kernelspec": {
   "display_name": "Python 2",
   "language": "python",
   "name": "python2"
  },
  "language_info": {
   "codemirror_mode": {
    "name": "ipython",
    "version": 2
   },
   "file_extension": ".py",
   "mimetype": "text/x-python",
   "name": "python",
   "nbconvert_exporter": "python",
   "pygments_lexer": "ipython2",
   "version": "2.7.10"
  }
 },
 "nbformat": 4,
 "nbformat_minor": 0
}
