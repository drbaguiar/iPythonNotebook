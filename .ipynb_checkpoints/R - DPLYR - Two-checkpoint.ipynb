{
 "cells": [
  {
   "cell_type": "code",
   "execution_count": null,
   "metadata": {
    "collapsed": false
   },
   "outputs": [],
   "source": [
    "library(dplyr)\n",
    "library(ggplot2)\n",
    "library(statsr)"
   ]
  },
  {
   "cell_type": "markdown",
   "metadata": {},
   "source": [
    "### Seven verbs\n",
    "\n",
    "The `dplyr` package offers seven verbs (functions) for basic data \n",
    "manipulation:\n",
    "\n",
    "- `filter()`\n",
    "- `arrange()`\n",
    "- `select()` \n",
    "- `distinct()`\n",
    "- `mutate()`\n",
    "- `summarise()`\n",
    "- `sample_n()`"
   ]
  },
  {
   "cell_type": "code",
   "execution_count": null,
   "metadata": {
    "collapsed": true
   },
   "outputs": [],
   "source": [
    "data(nycflights)"
   ]
  },
  {
   "cell_type": "code",
   "execution_count": null,
   "metadata": {
    "collapsed": false
   },
   "outputs": [],
   "source": [
    "names(nycflights)"
   ]
  },
  {
   "cell_type": "code",
   "execution_count": null,
   "metadata": {
    "collapsed": false
   },
   "outputs": [],
   "source": [
    "str(nycflights)"
   ]
  },
  {
   "cell_type": "code",
   "execution_count": null,
   "metadata": {
    "collapsed": false
   },
   "outputs": [],
   "source": [
    "ggplot(data = nycflights, aes(x = dep_delay)) + geom_histogram()"
   ]
  },
  {
   "cell_type": "markdown",
   "metadata": {},
   "source": [
    "### Filter\n",
    "If we want to focus on departure delays of flights headed to RDU only, we need to\n",
    "first `filter` the data for flights headed to RDU (`dest == \"RDU\"`) and then make\n",
    "a histogram of only departure delays of only those flights.\n",
    "\n",
    "**Logical operators: ** Filtering for certain observations (e.g. flights from a \n",
    "particular airport) is often of interest in data frames where we might want to \n",
    "examine observations with certain characteristics separately from the rest of \n",
    "the data. To do so we use the `filter` function and a series of \n",
    "**logical operators**. The most commonly used logical operators for data \n",
    "analysis are as follows:\n",
    "\n",
    "- `==` means \"equal to\"\n",
    "- `!=` means \"not equal to\"\n",
    "- `>` or `<` means \"greater than\" or \"less than\"\n",
    "- `>=` or `<=` means \"greater than or equal to\" or \"less than or equal to\"\n"
   ]
  },
  {
   "cell_type": "markdown",
   "metadata": {
    "collapsed": false
   },
   "source": [
    "If we want to focus on departure delays of flights headed to RDU only, we need to\n",
    "first `filter` the data for flights headed to RDU (`dest == \"RDU\"`) and then make\n",
    "a histogram of only departure delays of only those flights."
   ]
  },
  {
   "cell_type": "code",
   "execution_count": null,
   "metadata": {
    "collapsed": false
   },
   "outputs": [],
   "source": [
    "rdu_flights <- nycflights %>%\n",
    "  filter(dest == \"RDU\")\n",
    "ggplot(data = rdu_flights, aes(x = dep_delay)) + geom_histogram()"
   ]
  },
  {
   "cell_type": "code",
   "execution_count": null,
   "metadata": {
    "collapsed": false
   },
   "outputs": [],
   "source": [
    "rdu_flights %>%\n",
    "  summarise(mean_dd = mean(dep_delay), sd_dd = sd(dep_delay), n = n())"
   ]
  },
  {
   "cell_type": "markdown",
   "metadata": {
    "collapsed": false
   },
   "source": [
    "We can also filter based on multiple criteria. Suppose we are interested in flights headed to San Francisco (SFO) in February:\n",
    "\n",
    "Note that we can separate the conditions using commas if we want flights that are both headed to SFO **and** in February. If we are interested in either\n",
    "flights headed to SFO **or** in February we can use the `|` instead of the comma."
   ]
  },
  {
   "cell_type": "code",
   "execution_count": null,
   "metadata": {
    "collapsed": false
   },
   "outputs": [],
   "source": [
    "sfo_feb_flights <- nycflights %>%\n",
    "  filter(dest == \"SFO\", month == 2)"
   ]
  },
  {
   "cell_type": "code",
   "execution_count": null,
   "metadata": {
    "collapsed": false
   },
   "outputs": [],
   "source": [
    "head(sfo_feb_flights)"
   ]
  },
  {
   "cell_type": "markdown",
   "metadata": {
    "collapsed": true
   },
   "source": [
    "### Summarise\n",
    "\n",
    "\n",
    "Note that in the `summarise` function we created a list of two elements. The \n",
    "names of these elements are user defined, like `mean_dd`, `sd_dd`, `n`, and \n",
    "you could customize these names as you like (just don't use spaces in your \n",
    "names). Calculating these summary statistics also require that you know the \n",
    "function calls. Note that `n()` reports the sample size.\n",
    "\n",
    "\n",
    "**Summary statistics: ** Some useful function calls for summary statistics for a \n",
    "single numerical variable are as follows:\n",
    "\n",
    "- `mean`\n",
    "- `median`\n",
    "- `sd`\n",
    "- `var`\n",
    "- `IQR`\n",
    "- `range`\n",
    "- `min`\n",
    "- `max`"
   ]
  },
  {
   "cell_type": "code",
   "execution_count": null,
   "metadata": {
    "collapsed": false
   },
   "outputs": [],
   "source": [
    "sfo_feb_flights %>%\n",
    "  summarise(mean_dd = mean(dep_delay), sd_dd = sd(dep_delay), n = n(), IQR_dd=IQR(dep_delay))"
   ]
  },
  {
   "cell_type": "markdown",
   "metadata": {
    "collapsed": false
   },
   "source": [
    "Another useful functionality is being able to quickly calculate summary statistics for various groups in your data frame. For example, we can modify the \n",
    "above command using the `group_by` function to get the same summary stats for each origin airport:"
   ]
  },
  {
   "cell_type": "code",
   "execution_count": null,
   "metadata": {
    "collapsed": false
   },
   "outputs": [],
   "source": [
    "sfo_feb_flights %>%\n",
    "  group_by(origin) %>%\n",
    "  summarise(mean_ad = mean(arr_delay), median_ad=median(arr_delay),sd_ad = sd(arr_delay), IQR_ad=IQR(arr_delay),n = n())"
   ]
  },
  {
   "cell_type": "code",
   "execution_count": null,
   "metadata": {
    "collapsed": false
   },
   "outputs": [],
   "source": [
    "sfo_feb_flights %>%\n",
    "  group_by(carrier) %>%\n",
    "  summarise(mean_ad = mean(arr_delay), median_ad=median(arr_delay),sd_ad = sd(arr_delay), IQR_ad=IQR(arr_delay),n = n())"
   ]
  },
  {
   "cell_type": "markdown",
   "metadata": {},
   "source": [
    "Which month would you expect to have the highest average delay departing \n",
    "from an NYC airport?\n",
    "\n",
    "Let's think about how we would answer this question:\n",
    "\n",
    "- First, calculate monthly averages for departure delays. With the new language\n",
    "we are learning, we need to\n",
    "    + `group_by` months, then\n",
    "    + `summarise` mean departure delays.\n",
    "- Then, we need to `arrange` these average delays in `desc`ending order"
   ]
  },
  {
   "cell_type": "code",
   "execution_count": null,
   "metadata": {
    "collapsed": false
   },
   "outputs": [],
   "source": [
    "nycflights %>%\n",
    "  group_by(month) %>%\n",
    "  summarise(mean_dd = mean(dep_delay)) %>%\n",
    "  arrange(desc(mean_dd))"
   ]
  },
  {
   "cell_type": "code",
   "execution_count": null,
   "metadata": {
    "collapsed": false
   },
   "outputs": [],
   "source": [
    "nycflights %>%\n",
    "  group_by(month) %>%\n",
    "  summarise(median_dd = median(dep_delay)) %>%\n",
    "  arrange(desc(median_dd))"
   ]
  },
  {
   "cell_type": "markdown",
   "metadata": {},
   "source": [
    "We can also visualize the distributions of departure delays across months using \n",
    "side-by-side box plots:\n",
    "\n",
    "There is some new syntax here: We want departure delays on the y-axis and the\n",
    "months on the x-axis to produce side-by-side box plots. Side-by-side box plots\n",
    "require a categorical variable on the x-axis, however in the data frame `month` is \n",
    "stored as a numerical variable (numbers 1 - 12). Therefore we can force R to treat\n",
    "this variable as categorical, what R calls a **factor**, variable with \n",
    "`factor(month)`."
   ]
  },
  {
   "cell_type": "code",
   "execution_count": null,
   "metadata": {
    "collapsed": false
   },
   "outputs": [],
   "source": [
    "ggplot(nycflights, aes(x = factor(month), y = dep_delay)) +\n",
    "  geom_boxplot()"
   ]
  },
  {
   "cell_type": "markdown",
   "metadata": {},
   "source": [
    "### Mutate\n",
    "\n",
    "Suppose you will be flying out of NYC and want to know which of the three major NYC airports has the best on time departure rate of departing flights. Suppose also that for you a flight that is delayed for less than 5 minutes is basically \"on time\". You consider any flight delayed for 5 minutes of more to be \"delayed\".\n",
    "\n",
    "In order to determine which airport has the best on time departure rate, \n",
    "we need to \n",
    "\n",
    "- first classify each flight as \"on time\" or \"delayed\",\n",
    "- then group flights by origin airport,\n",
    "- then calculate on time departure rates for each origin airport,\n",
    "- and finally arrange the airports in descending order for on time departure\n",
    "percentage.\n",
    "\n",
    "Let's start with classifying each flight as \"on time\" or \"delayed\" by creating a new variable with the `mutate` function."
   ]
  },
  {
   "cell_type": "code",
   "execution_count": null,
   "metadata": {
    "collapsed": true
   },
   "outputs": [],
   "source": [
    "nycflights <- nycflights %>%\n",
    "  mutate(dep_type = ifelse(dep_delay < 5, \"on time\", \"delayed\"))"
   ]
  },
  {
   "cell_type": "markdown",
   "metadata": {},
   "source": [
    "The first argument in the `mutate` function is the name of the new variablewe want to create, in this case `dep_type`. Then if `dep_delay < 5` we classify the flight as `\"on time\"` and `\"delayed\"` if not, i.e. if the flight is delayed for 5 or more minutes.\n",
    "\n",
    "Note that we are also overwriting the `nycflights` data frame with the new version of this data frame that includes the new `dep_type` variable.\n",
    "\n",
    "We can handle all the remaining steps in one code chunk:"
   ]
  },
  {
   "cell_type": "code",
   "execution_count": null,
   "metadata": {
    "collapsed": false
   },
   "outputs": [],
   "source": [
    "nycflights %>%\n",
    "  group_by(origin) %>%\n",
    "  summarise(ot_dep_rate = sum(dep_type == \"on time\") / n()) %>%\n",
    "  arrange(desc(ot_dep_rate))"
   ]
  },
  {
   "cell_type": "markdown",
   "metadata": {},
   "source": [
    "We can also visualize the distribution of on on time departure rate across the three airports using a segmented bar plot."
   ]
  },
  {
   "cell_type": "code",
   "execution_count": null,
   "metadata": {
    "collapsed": false
   },
   "outputs": [],
   "source": [
    "ggplot(data = nycflights, aes(x = origin, fill = dep_type)) + geom_bar()"
   ]
  },
  {
   "cell_type": "markdown",
   "metadata": {},
   "source": [
    "Mutate the data frame so that it includes a new variable that contains the average speed, `avg_speed` traveled by the plane for each flight (in mph). What is the tail number of the plane with the fastest `avg_speed`? **Hint:** Average speed can be calculated as distance divided by number of hours of travel, and note that `air_time` is given in minutes. If you just want to show the `avg_speed` and `tailnum` and none of the other variables, use the select function at the end of your pipe to select just these two variables with `select(avg_speed, tailnum)`. You can Google this tail number to find out more about the aircraft. "
   ]
  },
  {
   "cell_type": "code",
   "execution_count": null,
   "metadata": {
    "collapsed": true
   },
   "outputs": [],
   "source": [
    "nycflights <- nycflights %>%\n",
    "  mutate(avg_speed = distance /(air_time/60))"
   ]
  },
  {
   "cell_type": "code",
   "execution_count": null,
   "metadata": {
    "collapsed": true
   },
   "outputs": [],
   "source": [
    "maxflight <- nycflights %>%\n",
    "    select (max(avg_speed))"
   ]
  },
  {
   "cell_type": "code",
   "execution_count": null,
   "metadata": {
    "collapsed": true
   },
   "outputs": [],
   "source": [
    "# maxflight"
   ]
  },
  {
   "cell_type": "code",
   "execution_count": null,
   "metadata": {
    "collapsed": true
   },
   "outputs": [],
   "source": []
  }
 ],
 "metadata": {
  "kernelspec": {
   "display_name": "R",
   "language": "R",
   "name": "ir"
  },
  "language_info": {
   "codemirror_mode": "r",
   "file_extension": ".r",
   "mimetype": "text/x-r-source",
   "name": "R",
   "pygments_lexer": "r",
   "version": "3.1.3"
  }
 },
 "nbformat": 4,
 "nbformat_minor": 0
}
