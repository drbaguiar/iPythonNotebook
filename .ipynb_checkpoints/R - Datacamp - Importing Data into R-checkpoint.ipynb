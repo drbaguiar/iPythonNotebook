{
 "cells": [
  {
   "cell_type": "code",
   "execution_count": 2,
   "metadata": {
    "collapsed": false
   },
   "outputs": [
    {
     "name": "stderr",
     "output_type": "stream",
     "text": [
      "also installing the dependencies 'Rcpp', 'curl'\n",
      "\n"
     ]
    },
    {
     "name": "stdout",
     "output_type": "stream",
     "text": [
      "package 'Rcpp' successfully unpacked and MD5 sums checked\n",
      "package 'curl' successfully unpacked and MD5 sums checked\n",
      "package 'readr' successfully unpacked and MD5 sums checked\n",
      "\n",
      "The downloaded binary packages are in\n",
      "\tC:\\Users\\Bryan\\AppData\\Local\\Temp\\RtmpYHQgi3\\downloaded_packages\n"
     ]
    }
   ],
   "source": [
    "install.packages(\"readr\", repos='http://cran.us.r-project.org')"
   ]
  },
  {
   "cell_type": "markdown",
   "metadata": {},
   "source": [
    "Time to switch to .csv files! Similar to utils, the read_csv() in the readr package uses read_delim() behind the scenes. If you use read_csv(), however, you are not free to choose the delim argument; readr handles that for you.\n",
    "\n",
    "Instead of a .txt, the potatoes data comes to you in the form of a .csv file. It uses commas to delimit fields in a record, but does not contain the column names in the first row anymore. The file potatoes.csv is available in your workspace. You'll have to specify the column names manually; you can use the properties variable that's already pre-coded."
   ]
  },
  {
   "cell_type": "markdown",
   "metadata": {},
   "source": [
    "## read_csv\n",
    "Import \"potatoes.csv\" using read_csv(). Assign the properties vector to the col_names argument. Name the resulting data frame potatoes.\n"
   ]
  },
  {
   "cell_type": "code",
   "execution_count": 7,
   "metadata": {
    "collapsed": false
   },
   "outputs": [],
   "source": [
    "# readr is already loaded\n",
    "library(readr)\n",
    "# Column names\n",
    "properties <- c(\"area\", \"temp\", \"size\", \"storage\", \"method\", \n",
    "                \"texture\", \"flavor\", \"moistness\")\n",
    "\n",
    "# Import potatoes.csv with read_csv(): potatoes\n",
    "potatoes<- read_csv(\"D:/Data/potatoes.csv\", col_names=properties)"
   ]
  },
  {
   "cell_type": "markdown",
   "metadata": {},
   "source": [
    "Create a copy of potatoes, potatoes2."
   ]
  },
  {
   "cell_type": "code",
   "execution_count": 9,
   "metadata": {
    "collapsed": true
   },
   "outputs": [],
   "source": [
    "# Create a copy of potatoes: potatoes2\n",
    "potatoes2<-potatoes"
   ]
  },
  {
   "cell_type": "markdown",
   "metadata": {},
   "source": [
    "Turn the method column of potatoes2 into a factor with the factor() function."
   ]
  },
  {
   "cell_type": "code",
   "execution_count": 11,
   "metadata": {
    "collapsed": false
   },
   "outputs": [
    {
     "name": "stdout",
     "output_type": "stream",
     "text": [
      "Classes 'tbl_df', 'tbl' and 'data.frame':\t160 obs. of  8 variables:\n",
      " $ area     : int  1 1 1 1 1 1 1 1 1 1 ...\n",
      " $ temp     : int  1 1 1 1 1 1 1 1 1 1 ...\n",
      " $ size     : int  1 1 1 1 1 1 1 1 1 1 ...\n",
      " $ storage  : int  1 1 1 1 1 2 2 2 2 2 ...\n",
      " $ method   : Factor w/ 5 levels \"1\",\"2\",\"3\",\"4\",..: 1 2 3 4 5 1 2 3 4 5 ...\n",
      " $ texture  : num  2.9 2.3 2.5 2.1 1.9 1.8 2.6 3 2.2 2 ...\n",
      " $ flavor   : num  3.2 2.5 2.8 2.9 2.8 3 3.1 3 3.2 2.8 ...\n",
      " $ moistness: num  3 2.6 2.8 2.4 2.2 1.7 2.4 2.9 2.5 1.9 ...\n"
     ]
    }
   ],
   "source": [
    "# Convert the method column of potatoes2 to a factor\n",
    "potatoes2$method<-as.factor(potatoes2$method)\n",
    "str(potatoes2)"
   ]
  },
  {
   "cell_type": "markdown",
   "metadata": {},
   "source": [
    "## col_types, skip and n_max\n",
    "\n",
    "Apart from controlling how columns are named, you can also specify which types the columns should be in your imported data frame. You can do this with col_types. If set to NULL, which is the default, functions from the readr package will try to find the correct types themselves. If you want to manually set the types, you can use a string between \"\", with one character for each column that is imported. Each character corresponds to a type:\n",
    "\n",
    "c to a character\n",
    "\n",
    "d to a double\n",
    "\n",
    "i to an integer\n",
    "\n",
    "l to a logical\n",
    "\n",
    "_ skips the column\n",
    "\n",
    "But that's not all: \n",
    "\n",
    "Through skip and n_max, which should be set to integers, you can also control which part of your flat file you're actually importing into R. It's important here that once you skip some lines, this inevitably leads to also skipping the column names in the first line, if they are available. n_max will be the maximum number of records to read.\n",
    "\n",
    "You'll be working with the potatoes.txt data frame again. It contains tab-delimited records and the first line contains the column names. For change, use read_tsv() this time; it's a wrapper around read_delim() that's easy to use for tab-delimited files. The column names are available as the properties vector; if you think you should need them."
   ]
  },
  {
   "cell_type": "markdown",
   "metadata": {},
   "source": [
    "Use read_tsv() to import observations 7, 8, 9, 10 and 11 from potatoes.txt. Make sure that the columns have the appropriate names. Store the result in potatoes_fragment."
   ]
  },
  {
   "cell_type": "code",
   "execution_count": 13,
   "metadata": {
    "collapsed": false
   },
   "outputs": [],
   "source": [
    "# readr is already loaded\n",
    "library(readr)\n",
    "# Column names\n",
    "properties <- c(\"area\", \"temp\", \"size\", \"storage\", \"method\", \n",
    "                \"texture\", \"flavor\", \"moistness\")\n",
    "\n",
    "# Import 5 observations from potatoes.txt: potatoes_fragment\n",
    "potatoes_fragment <-read_tsv(\"D:/Data/potatoes.txt\", skip=7, n_max=5, col_names=properties)"
   ]
  },
  {
   "cell_type": "markdown",
   "metadata": {},
   "source": [
    "Use read_tsv() once more, this time importing all data. Use the col_types argument to import all columns as characters. Store the resulting data frame in potatoes_char."
   ]
  },
  {
   "cell_type": "code",
   "execution_count": 15,
   "metadata": {
    "collapsed": false
   },
   "outputs": [],
   "source": [
    "# Import all data, but force all columns to be character: potatoes_char\n",
    "potatoes_char<- read_tsv(\"D:/Data/potatoes.txt\", col_types=\"cccccccc\")"
   ]
  },
  {
   "cell_type": "markdown",
   "metadata": {},
   "source": [
    "Display the structure of potatoes_char with str()."
   ]
  },
  {
   "cell_type": "code",
   "execution_count": 16,
   "metadata": {
    "collapsed": false
   },
   "outputs": [
    {
     "name": "stdout",
     "output_type": "stream",
     "text": [
      "Classes 'tbl_df', 'tbl' and 'data.frame':\t160 obs. of  8 variables:\n",
      " $ area     : chr  \"1\" \"1\" \"1\" \"1\" ...\n",
      " $ temp     : chr  \"1\" \"1\" \"1\" \"1\" ...\n",
      " $ size     : chr  \"1\" \"1\" \"1\" \"1\" ...\n",
      " $ storage  : chr  \"1\" \"1\" \"1\" \"1\" ...\n",
      " $ method   : chr  \"1\" \"2\" \"3\" \"4\" ...\n",
      " $ texture  : chr  \"2.9\" \"2.3\" \"2.5\" \"2.1\" ...\n",
      " $ flavor   : chr  \"3.2\" \"2.5\" \"2.8\" \"2.9\" ...\n",
      " $ moistness: chr  \"3.0\" \"2.6\" \"2.8\" \"2.4\" ...\n"
     ]
    }
   ],
   "source": [
    "# Display the structure of potatoes_char\n",
    "str(potatoes_char)"
   ]
  },
  {
   "cell_type": "markdown",
   "metadata": {},
   "source": [
    "## col_types with collectors\n",
    "\n",
    "As Filip mentioned in the video, another way of setting the types of the imported columns is using collectors. Collector functions can be passed in a list() to the col_types argument of read_ functions to tell them how to interpret values in a column.\n",
    "\n",
    "For a complete list of collector functions, you can take a look at the collector documentation. For this exercise you will need two collector functions:\n",
    "\n",
    "col_integer(): the column should be interpreted as an integer\n",
    "\n",
    "col_factor(levels, ordered = FALSE): the column should be interpreted as a factor with levels. By default, the values are not seen as ordered values.\n",
    "\n",
    "In this exercise, you will work with hotdogs.txt, which is a tab-delimited file without column names in the first row."
   ]
  },
  {
   "cell_type": "markdown",
   "metadata": {},
   "source": [
    "hotdogs is created for you without setting the column types, inspect its summary using the summary() function."
   ]
  },
  {
   "cell_type": "code",
   "execution_count": 17,
   "metadata": {
    "collapsed": true
   },
   "outputs": [],
   "source": [
    "# readr is already loaded\n",
    "library(readr)\n",
    "\n",
    "# Import without col_types\n",
    "hotdogs <- read_tsv(\"D:/Data/hotdogs.txt\", col_names = c(\"type\", \"calories\", \"sodium\"))"
   ]
  },
  {
   "cell_type": "code",
   "execution_count": 18,
   "metadata": {
    "collapsed": false
   },
   "outputs": [
    {
     "data": {
      "text/plain": [
       "     type              calories         sodium     \n",
       " Length:54          Min.   : 86.0   Min.   :144.0  \n",
       " Class :character   1st Qu.:132.0   1st Qu.:362.5  \n",
       " Mode  :character   Median :145.0   Median :405.0  \n",
       "                    Mean   :145.4   Mean   :424.8  \n",
       "                    3rd Qu.:172.8   3rd Qu.:503.5  \n",
       "                    Max.   :195.0   Max.   :645.0  "
      ]
     },
     "execution_count": 18,
     "metadata": {},
     "output_type": "execute_result"
    }
   ],
   "source": [
    "# Display the summary of hotdogs\n",
    "summary(hotdogs)"
   ]
  },
  {
   "cell_type": "markdown",
   "metadata": {},
   "source": [
    "Two collector functions are defined for you: fac and int. You don't have to change them. Take a look at them, do you understand what they're collecting?"
   ]
  },
  {
   "cell_type": "code",
   "execution_count": 19,
   "metadata": {
    "collapsed": true
   },
   "outputs": [],
   "source": [
    "# The collectors you will need to import the data\n",
    "fac <- col_factor(levels = c(\"Beef\", \"Meat\", \"Poultry\"))\n",
    "int <- col_integer()\n"
   ]
  },
  {
   "cell_type": "markdown",
   "metadata": {},
   "source": [
    "The second read_tsv() call contains the wrong setting for the col_types argument. You should correct it using fac and int. The values of first column of the imported data should be a factors, the data in the second and third column should be integers. Watch out, you should use a list() here. This time the imported data is called hotdogs_factor."
   ]
  },
  {
   "cell_type": "code",
   "execution_count": 23,
   "metadata": {
    "collapsed": false
   },
   "outputs": [],
   "source": [
    "# Edit the col_types argument to import the data correctly: hotdogs_factor\n",
    "hotdogs_factor <- read_tsv(\"D:/Data/hotdogs.txt\", \n",
    "                           col_names = c(\"type\", \"calories\", \"sodium\"),\n",
    "                           # Change col_types to the correct vector of collectors\n",
    "                           col_types = NULL)"
   ]
  },
  {
   "cell_type": "code",
   "execution_count": 27,
   "metadata": {
    "collapsed": false
   },
   "outputs": [],
   "source": [
    "# Edit the col_types argument to import the data correctly: hotdogs_factor\n",
    "hotdogs_factor <- read_tsv(\"D:/Data/hotdogs.txt\", \n",
    "                           col_names = c(\"type\", \"calories\", \"sodium\"),\n",
    "                           # Change col_types to the correct vector of collectors\n",
    "                           col_types = list(fac,int,int))"
   ]
  },
  {
   "cell_type": "markdown",
   "metadata": {},
   "source": [
    "Take a look at the summary() of hotdogs_factor. Compare this to the summary of hotdogs. The second summary clearly contains more interesting information in the first column, type."
   ]
  },
  {
   "cell_type": "code",
   "execution_count": 28,
   "metadata": {
    "collapsed": false
   },
   "outputs": [
    {
     "data": {
      "text/plain": [
       "      type       calories         sodium     \n",
       " Beef   :20   Min.   : 86.0   Min.   :144.0  \n",
       " Meat   :17   1st Qu.:132.0   1st Qu.:362.5  \n",
       " Poultry:17   Median :145.0   Median :405.0  \n",
       "              Mean   :145.4   Mean   :424.8  \n",
       "              3rd Qu.:172.8   3rd Qu.:503.5  \n",
       "              Max.   :195.0   Max.   :645.0  "
      ]
     },
     "execution_count": 28,
     "metadata": {},
     "output_type": "execute_result"
    }
   ],
   "source": [
    "summary(hotdogs_factor)"
   ]
  },
  {
   "cell_type": "markdown",
   "metadata": {},
   "source": [
    "## fread\n",
    "\n",
    "Let's shift focus to the data.table package. You still remember how to use read.table(), right? Well, fread() is a function in data.table that does the same job with very similar arguments. It is extremely easy to use and blazingly fast! Often, simply specifying the path to the file is enough to successfully import your flat file data as a data frame.\n",
    "\n",
    "Don't take our word for it, try it yourself! You'll again be working with the potatoes.txt file, that's available in your workspace. It's in the same format as before; fields are delimited by tabs."
   ]
  },
  {
   "cell_type": "markdown",
   "metadata": {},
   "source": [
    "Load the data.table package using library(); it is already installed on DataCamp's servers."
   ]
  },
  {
   "cell_type": "code",
   "execution_count": 30,
   "metadata": {
    "collapsed": true
   },
   "outputs": [],
   "source": [
    "library(data.table)"
   ]
  },
  {
   "cell_type": "markdown",
   "metadata": {},
   "source": [
    "Import \"potatoes.txt\" with fread(). Simply pass it the file path and see if it worked. Store the result in a variable potatoes.\n"
   ]
  },
  {
   "cell_type": "code",
   "execution_count": 31,
   "metadata": {
    "collapsed": true
   },
   "outputs": [],
   "source": [
    "potatoes<- fread(\"D:/Data/potatoes.txt\")"
   ]
  },
  {
   "cell_type": "markdown",
   "metadata": {},
   "source": [
    "Print out the potatoes data frame, arranged by increasing moistness. Use the order() function in combination with data frame indexing.\n"
   ]
  },
  {
   "cell_type": "code",
   "execution_count": 36,
   "metadata": {
    "collapsed": false
   },
   "outputs": [
    {
     "data": {
      "text/html": [
       "<table>\n",
       "<thead><tr><th></th><th scope=col>area</th><th scope=col>temp</th><th scope=col>size</th><th scope=col>storage</th><th scope=col>method</th><th scope=col>texture</th><th scope=col>flavor</th><th scope=col>moistness</th></tr></thead>\n",
       "<tbody>\n",
       "\t<tr><th scope=row>1</th><td>1</td><td>1</td><td>2</td><td>4</td><td>1</td><td>1.5</td><td>2.6</td><td>1.3</td></tr>\n",
       "\t<tr><th scope=row>2</th><td>1</td><td>1</td><td>2</td><td>4</td><td>2</td><td>1.4</td><td>2.6</td><td>1.3</td></tr>\n",
       "\t<tr><th scope=row>3</th><td>1</td><td>2</td><td>2</td><td>4</td><td>1</td><td>1.4</td><td>2.9</td><td>1.4</td></tr>\n",
       "\t<tr><th scope=row>4</th><td>1</td><td>1</td><td>1</td><td>3</td><td>1</td><td>1.8</td><td>2.6</td><td>1.5</td></tr>\n",
       "\t<tr><th scope=row>5</th><td>1</td><td>2</td><td>2</td><td>4</td><td>5</td><td>1.5</td><td>2.4</td><td>1.5</td></tr>\n",
       "\t<tr><th scope=row>6</th><td>2</td><td>1</td><td>2</td><td>3</td><td>1</td><td>1.7</td><td>3.2</td><td>1.5</td></tr>\n",
       "\t<tr><th scope=row>7</th><td>1</td><td>2</td><td>2</td><td>4</td><td>2</td><td>2.1</td><td>2.5</td><td>1.6</td></tr>\n",
       "\t<tr><th scope=row>8</th><td>1</td><td>2</td><td>2</td><td>4</td><td>4</td><td>1.8</td><td>2.9</td><td>1.6</td></tr>\n",
       "\t<tr><th scope=row>9</th><td>1</td><td>1</td><td>1</td><td>2</td><td>1</td><td>1.8</td><td>3</td><td>1.7</td></tr>\n",
       "\t<tr><th scope=row>10</th><td>1</td><td>1</td><td>2</td><td>4</td><td>4</td><td>1.8</td><td>3.1</td><td>1.7</td></tr>\n",
       "\t<tr><th scope=row>11</th><td>1</td><td>1</td><td>2</td><td>4</td><td>5</td><td>1.7</td><td>2.7</td><td>1.7</td></tr>\n",
       "\t<tr><th scope=row>12</th><td>1</td><td>2</td><td>2</td><td>1</td><td>5</td><td>1.4</td><td>2.4</td><td>1.7</td></tr>\n",
       "\t<tr><th scope=row>13</th><td>1</td><td>1</td><td>2</td><td>2</td><td>1</td><td>1.8</td><td>2.6</td><td>1.8</td></tr>\n",
       "\t<tr><th scope=row>14</th><td>1</td><td>1</td><td>2</td><td>3</td><td>1</td><td>1.9</td><td>3</td><td>1.8</td></tr>\n",
       "\t<tr><th scope=row>15</th><td>1</td><td>1</td><td>2</td><td>3</td><td>2</td><td>1.8</td><td>2.7</td><td>1.8</td></tr>\n",
       "\t<tr><th scope=row>16</th><td>1</td><td>2</td><td>1</td><td>3</td><td>5</td><td>2.6</td><td>2.8</td><td>1.8</td></tr>\n",
       "\t<tr><th scope=row>17</th><td>1</td><td>2</td><td>2</td><td>4</td><td>3</td><td>2.3</td><td>2.6</td><td>1.8</td></tr>\n",
       "\t<tr><th scope=row>18</th><td>2</td><td>1</td><td>1</td><td>2</td><td>3</td><td>1.6</td><td>3.1</td><td>1.8</td></tr>\n",
       "\t<tr><th scope=row>19</th><td>1</td><td>1</td><td>1</td><td>2</td><td>5</td><td>2</td><td>2.8</td><td>1.9</td></tr>\n",
       "\t<tr><th scope=row>20</th><td>1</td><td>1</td><td>1</td><td>3</td><td>2</td><td>2</td><td>2.8</td><td>1.9</td></tr>\n",
       "\t<tr><th scope=row>21</th><td>1</td><td>2</td><td>1</td><td>2</td><td>1</td><td>2.3</td><td>2.9</td><td>1.9</td></tr>\n",
       "\t<tr><th scope=row>22</th><td>1</td><td>2</td><td>2</td><td>2</td><td>1</td><td>2.5</td><td>2.6</td><td>1.9</td></tr>\n",
       "\t<tr><th scope=row>23</th><td>1</td><td>2</td><td>2</td><td>2</td><td>3</td><td>3</td><td>3.1</td><td>1.9</td></tr>\n",
       "\t<tr><th scope=row>24</th><td>2</td><td>1</td><td>2</td><td>2</td><td>1</td><td>2</td><td>3</td><td>1.9</td></tr>\n",
       "\t<tr><th scope=row>25</th><td>1</td><td>1</td><td>2</td><td>1</td><td>5</td><td>1.9</td><td>2.9</td><td>2</td></tr>\n",
       "\t<tr><th scope=row>26</th><td>1</td><td>1</td><td>2</td><td>2</td><td>5</td><td>2</td><td>3</td><td>2</td></tr>\n",
       "\t<tr><th scope=row>27</th><td>1</td><td>1</td><td>2</td><td>4</td><td>3</td><td>2.1</td><td>2.5</td><td>2</td></tr>\n",
       "\t<tr><th scope=row>28</th><td>1</td><td>2</td><td>1</td><td>3</td><td>1</td><td>2.4</td><td>2.7</td><td>2</td></tr>\n",
       "\t<tr><th scope=row>29</th><td>1</td><td>2</td><td>2</td><td>1</td><td>4</td><td>2</td><td>2.5</td><td>2</td></tr>\n",
       "\t<tr><th scope=row>30</th><td>2</td><td>1</td><td>2</td><td>3</td><td>2</td><td>2.2</td><td>3.2</td><td>2</td></tr>\n",
       "\t<tr><th scope=row>31</th><td>2</td><td>1</td><td>2</td><td>3</td><td>3</td><td>1.7</td><td>3.1</td><td>2</td></tr>\n",
       "\t<tr><th scope=row>32</th><td>2</td><td>1</td><td>2</td><td>4</td><td>2</td><td>1.8</td><td>3</td><td>2</td></tr>\n",
       "\t<tr><th scope=row>33</th><td>1</td><td>1</td><td>1</td><td>3</td><td>4</td><td>2.1</td><td>3.2</td><td>2.1</td></tr>\n",
       "\t<tr><th scope=row>34</th><td>1</td><td>1</td><td>1</td><td>3</td><td>5</td><td>2.5</td><td>3</td><td>2.1</td></tr>\n",
       "\t<tr><th scope=row>35</th><td>1</td><td>1</td><td>2</td><td>2</td><td>2</td><td>2.2</td><td>2.9</td><td>2.1</td></tr>\n",
       "\t<tr><th scope=row>36</th><td>1</td><td>2</td><td>1</td><td>3</td><td>2</td><td>2.7</td><td>2.5</td><td>2.1</td></tr>\n",
       "\t<tr><th scope=row>37</th><td>2</td><td>1</td><td>1</td><td>3</td><td>2</td><td>2.4</td><td>2.9</td><td>2.1</td></tr>\n",
       "\t<tr><th scope=row>38</th><td>2</td><td>1</td><td>2</td><td>1</td><td>5</td><td>2</td><td>2.9</td><td>2.1</td></tr>\n",
       "\t<tr><th scope=row>39</th><td>2</td><td>1</td><td>2</td><td>2</td><td>5</td><td>2.2</td><td>2.9</td><td>2.1</td></tr>\n",
       "\t<tr><th scope=row>40</th><td>2</td><td>1</td><td>2</td><td>4</td><td>3</td><td>1.6</td><td>3.4</td><td>2.1</td></tr>\n",
       "\t<tr><th scope=row>41</th><td>1</td><td>1</td><td>1</td><td>1</td><td>5</td><td>1.9</td><td>2.8</td><td>2.2</td></tr>\n",
       "\t<tr><th scope=row>42</th><td>1</td><td>1</td><td>2</td><td>3</td><td>4</td><td>2.5</td><td>3.1</td><td>2.2</td></tr>\n",
       "\t<tr><th scope=row>43</th><td>1</td><td>2</td><td>1</td><td>1</td><td>5</td><td>2</td><td>2.5</td><td>2.2</td></tr>\n",
       "\t<tr><th scope=row>44</th><td>1</td><td>2</td><td>1</td><td>3</td><td>4</td><td>2.6</td><td>2.8</td><td>2.2</td></tr>\n",
       "\t<tr><th scope=row>45</th><td>1</td><td>2</td><td>2</td><td>2</td><td>5</td><td>2.6</td><td>3.1</td><td>2.2</td></tr>\n",
       "\t<tr><th scope=row>46</th><td>1</td><td>2</td><td>2</td><td>3</td><td>1</td><td>2.4</td><td>3</td><td>2.2</td></tr>\n",
       "\t<tr><th scope=row>47</th><td>2</td><td>1</td><td>2</td><td>4</td><td>1</td><td>2</td><td>3.5</td><td>2.2</td></tr>\n",
       "\t<tr><th scope=row>48</th><td>1</td><td>1</td><td>1</td><td>4</td><td>3</td><td>2.2</td><td>3.1</td><td>2.3</td></tr>\n",
       "\t<tr><th scope=row>49</th><td>1</td><td>1</td><td>2</td><td>1</td><td>4</td><td>2.2</td><td>2.9</td><td>2.3</td></tr>\n",
       "\t<tr><th scope=row>50</th><td>1</td><td>1</td><td>2</td><td>3</td><td>5</td><td>2.5</td><td>3.4</td><td>2.3</td></tr>\n",
       "\t<tr><th scope=row>51</th><td>1</td><td>2</td><td>1</td><td>2</td><td>5</td><td>2.6</td><td>2.6</td><td>2.3</td></tr>\n",
       "\t<tr><th scope=row>52</th><td>2</td><td>1</td><td>1</td><td>1</td><td>5</td><td>2.7</td><td>3</td><td>2.3</td></tr>\n",
       "\t<tr><th scope=row>53</th><td>2</td><td>1</td><td>1</td><td>2</td><td>4</td><td>2.5</td><td>3.2</td><td>2.3</td></tr>\n",
       "\t<tr><th scope=row>54</th><td>2</td><td>1</td><td>1</td><td>3</td><td>1</td><td>2.2</td><td>2.8</td><td>2.3</td></tr>\n",
       "\t<tr><th scope=row>55</th><td>2</td><td>1</td><td>1</td><td>3</td><td>3</td><td>2.2</td><td>3.1</td><td>2.3</td></tr>\n",
       "\t<tr><th scope=row>56</th><td>2</td><td>1</td><td>2</td><td>2</td><td>2</td><td>2.3</td><td>3.1</td><td>2.3</td></tr>\n",
       "\t<tr><th scope=row>57</th><td>2</td><td>2</td><td>1</td><td>3</td><td>3</td><td>2.5</td><td>3.2</td><td>2.3</td></tr>\n",
       "\t<tr><th scope=row>58</th><td>2</td><td>2</td><td>2</td><td>1</td><td>2</td><td>2.5</td><td>2.7</td><td>2.3</td></tr>\n",
       "\t<tr><th scope=row>59</th><td>2</td><td>2</td><td>2</td><td>1</td><td>5</td><td>2.7</td><td>2.1</td><td>2.3</td></tr>\n",
       "\t<tr><th scope=row>60</th><td>2</td><td>2</td><td>2</td><td>2</td><td>1</td><td>2.2</td><td>2.7</td><td>2.3</td></tr>\n",
       "\t<tr><th scope=row>61</th><td>2</td><td>2</td><td>2</td><td>3</td><td>1</td><td>2.5</td><td>3.2</td><td>2.3</td></tr>\n",
       "\t<tr><th scope=row>62</th><td>2</td><td>2</td><td>2</td><td>4</td><td>2</td><td>2.6</td><td>2.8</td><td>2.3</td></tr>\n",
       "\t<tr><th scope=row>63</th><td>2</td><td>2</td><td>2</td><td>4</td><td>5</td><td>2.5</td><td>2.8</td><td>2.3</td></tr>\n",
       "\t<tr><th scope=row>64</th><td>1</td><td>1</td><td>1</td><td>1</td><td>4</td><td>2.1</td><td>2.9</td><td>2.4</td></tr>\n",
       "\t<tr><th scope=row>65</th><td>1</td><td>1</td><td>1</td><td>2</td><td>2</td><td>2.6</td><td>3.1</td><td>2.4</td></tr>\n",
       "\t<tr><th scope=row>66</th><td>1</td><td>1</td><td>1</td><td>4</td><td>1</td><td>2.6</td><td>3.1</td><td>2.4</td></tr>\n",
       "\t<tr><th scope=row>67</th><td>1</td><td>1</td><td>1</td><td>4</td><td>2</td><td>2.7</td><td>2.9</td><td>2.4</td></tr>\n",
       "\t<tr><th scope=row>68</th><td>1</td><td>1</td><td>2</td><td>2</td><td>4</td><td>2.3</td><td>3.2</td><td>2.4</td></tr>\n",
       "\t<tr><th scope=row>69</th><td>1</td><td>2</td><td>1</td><td>4</td><td>1</td><td>3</td><td>3.2</td><td>2.4</td></tr>\n",
       "\t<tr><th scope=row>70</th><td>1</td><td>2</td><td>2</td><td>1</td><td>2</td><td>2.3</td><td>2.3</td><td>2.4</td></tr>\n",
       "\t<tr><th scope=row>71</th><td>1</td><td>2</td><td>2</td><td>3</td><td>5</td><td>2.9</td><td>2.9</td><td>2.4</td></tr>\n",
       "\t<tr><th scope=row>72</th><td>2</td><td>1</td><td>1</td><td>1</td><td>4</td><td>2.5</td><td>3.1</td><td>2.4</td></tr>\n",
       "\t<tr><th scope=row>73</th><td>2</td><td>1</td><td>1</td><td>2</td><td>1</td><td>2.7</td><td>2.8</td><td>2.4</td></tr>\n",
       "\t<tr><th scope=row>74</th><td>2</td><td>1</td><td>1</td><td>4</td><td>1</td><td>2.4</td><td>3.4</td><td>2.4</td></tr>\n",
       "\t<tr><th scope=row>75</th><td>2</td><td>1</td><td>2</td><td>2</td><td>3</td><td>1.7</td><td>3.1</td><td>2.4</td></tr>\n",
       "\t<tr><th scope=row>76</th><td>1</td><td>1</td><td>1</td><td>2</td><td>4</td><td>2.2</td><td>3.2</td><td>2.5</td></tr>\n",
       "\t<tr><th scope=row>77</th><td>1</td><td>2</td><td>1</td><td>2</td><td>2</td><td>2.8</td><td>2.7</td><td>2.5</td></tr>\n",
       "\t<tr><th scope=row>78</th><td>1</td><td>2</td><td>1</td><td>2</td><td>4</td><td>2.8</td><td>2.7</td><td>2.5</td></tr>\n",
       "\t<tr><th scope=row>79</th><td>1</td><td>2</td><td>2</td><td>3</td><td>2</td><td>2.8</td><td>2.8</td><td>2.5</td></tr>\n",
       "\t<tr><th scope=row>80</th><td>2</td><td>1</td><td>1</td><td>2</td><td>5</td><td>2.5</td><td>2.9</td><td>2.5</td></tr>\n",
       "\t<tr><th scope=row>81</th><td>2</td><td>1</td><td>1</td><td>4</td><td>3</td><td>2.3</td><td>3.2</td><td>2.5</td></tr>\n",
       "\t<tr><th scope=row>82</th><td>2</td><td>1</td><td>2</td><td>1</td><td>4</td><td>2.4</td><td>3</td><td>2.5</td></tr>\n",
       "\t<tr><th scope=row>83</th><td>2</td><td>1</td><td>2</td><td>2</td><td>4</td><td>2.6</td><td>3.1</td><td>2.5</td></tr>\n",
       "\t<tr><th scope=row>84</th><td>2</td><td>2</td><td>1</td><td>1</td><td>1</td><td>2.8</td><td>2.6</td><td>2.5</td></tr>\n",
       "\t<tr><th scope=row>85</th><td>2</td><td>2</td><td>1</td><td>1</td><td>4</td><td>2.6</td><td>3</td><td>2.5</td></tr>\n",
       "\t<tr><th scope=row>86</th><td>2</td><td>2</td><td>1</td><td>2</td><td>3</td><td>2.6</td><td>2.8</td><td>2.5</td></tr>\n",
       "\t<tr><th scope=row>87</th><td>2</td><td>2</td><td>1</td><td>2</td><td>5</td><td>2</td><td>2.8</td><td>2.5</td></tr>\n",
       "\t<tr><th scope=row>88</th><td>2</td><td>2</td><td>1</td><td>4</td><td>1</td><td>3.2</td><td>3.4</td><td>2.5</td></tr>\n",
       "\t<tr><th scope=row>89</th><td>2</td><td>2</td><td>2</td><td>1</td><td>1</td><td>2.7</td><td>2.5</td><td>2.5</td></tr>\n",
       "\t<tr><th scope=row>90</th><td>2</td><td>2</td><td>2</td><td>1</td><td>4</td><td>2.4</td><td>2.7</td><td>2.5</td></tr>\n",
       "\t<tr><th scope=row>91</th><td>2</td><td>2</td><td>2</td><td>3</td><td>3</td><td>2.5</td><td>3.1</td><td>2.5</td></tr>\n",
       "\t<tr><th scope=row>92</th><td>2</td><td>2</td><td>2</td><td>3</td><td>4</td><td>3</td><td>2.9</td><td>2.5</td></tr>\n",
       "\t<tr><th scope=row>93</th><td>1</td><td>1</td><td>1</td><td>1</td><td>2</td><td>2.3</td><td>2.5</td><td>2.6</td></tr>\n",
       "\t<tr><th scope=row>94</th><td>1</td><td>1</td><td>1</td><td>3</td><td>3</td><td>2.6</td><td>2.6</td><td>2.6</td></tr>\n",
       "\t<tr><th scope=row>95</th><td>1</td><td>2</td><td>1</td><td>1</td><td>4</td><td>2.4</td><td>2.4</td><td>2.6</td></tr>\n",
       "\t<tr><th scope=row>96</th><td>1</td><td>2</td><td>1</td><td>4</td><td>5</td><td>2.7</td><td>3</td><td>2.6</td></tr>\n",
       "\t<tr><th scope=row>97</th><td>1</td><td>2</td><td>2</td><td>1</td><td>1</td><td>2.2</td><td>2.6</td><td>2.6</td></tr>\n",
       "\t<tr><th scope=row>98</th><td>1</td><td>2</td><td>2</td><td>3</td><td>4</td><td>2.8</td><td>3.1</td><td>2.6</td></tr>\n",
       "\t<tr><th scope=row>99</th><td>2</td><td>1</td><td>1</td><td>1</td><td>1</td><td>2.5</td><td>2.7</td><td>2.6</td></tr>\n",
       "\t<tr><th scope=row>100</th><td>2</td><td>1</td><td>1</td><td>2</td><td>2</td><td>2.5</td><td>2.9</td><td>2.6</td></tr>\n",
       "\t<tr><th scope=row>101</th><td>2</td><td>1</td><td>1</td><td>3</td><td>4</td><td>3.1</td><td>3.1</td><td>2.6</td></tr>\n",
       "\t<tr><th scope=row>102</th><td>2</td><td>1</td><td>2</td><td>1</td><td>1</td><td>2.6</td><td>3.3</td><td>2.6</td></tr>\n",
       "\t<tr><th scope=row>103</th><td>2</td><td>1</td><td>2</td><td>3</td><td>5</td><td>2.6</td><td>3.3</td><td>2.6</td></tr>\n",
       "\t<tr><th scope=row>104</th><td>2</td><td>1</td><td>2</td><td>4</td><td>4</td><td>2.8</td><td>3.3</td><td>2.6</td></tr>\n",
       "\t<tr><th scope=row>105</th><td>2</td><td>1</td><td>2</td><td>4</td><td>5</td><td>2.7</td><td>2.3</td><td>2.6</td></tr>\n",
       "\t<tr><th scope=row>106</th><td>2</td><td>2</td><td>1</td><td>1</td><td>5</td><td>2.8</td><td>2.2</td><td>2.6</td></tr>\n",
       "\t<tr><th scope=row>107</th><td>2</td><td>2</td><td>1</td><td>3</td><td>1</td><td>2.8</td><td>2.8</td><td>2.6</td></tr>\n",
       "\t<tr><th scope=row>108</th><td>2</td><td>2</td><td>2</td><td>2</td><td>2</td><td>3.1</td><td>2.9</td><td>2.6</td></tr>\n",
       "\t<tr><th scope=row>109</th><td>2</td><td>2</td><td>2</td><td>2</td><td>5</td><td>2.8</td><td>2.7</td><td>2.6</td></tr>\n",
       "\t<tr><th scope=row>110</th><td>2</td><td>2</td><td>2</td><td>4</td><td>1</td><td>2.7</td><td>3.3</td><td>2.6</td></tr>\n",
       "\t<tr><th scope=row>111</th><td>2</td><td>2</td><td>2</td><td>4</td><td>3</td><td>2.5</td><td>3.1</td><td>2.6</td></tr>\n",
       "\t<tr><th scope=row>112</th><td>1</td><td>1</td><td>1</td><td>4</td><td>4</td><td>3.1</td><td>3.4</td><td>2.7</td></tr>\n",
       "\t<tr><th scope=row>113</th><td>1</td><td>1</td><td>1</td><td>4</td><td>5</td><td>3</td><td>2.6</td><td>2.7</td></tr>\n",
       "\t<tr><th scope=row>114</th><td>1</td><td>1</td><td>2</td><td>1</td><td>2</td><td>2.7</td><td>2.8</td><td>2.7</td></tr>\n",
       "\t<tr><th scope=row>115</th><td>1</td><td>2</td><td>1</td><td>3</td><td>3</td><td>2.7</td><td>2.9</td><td>2.7</td></tr>\n",
       "\t<tr><th scope=row>116</th><td>1</td><td>2</td><td>2</td><td>1</td><td>3</td><td>2.7</td><td>2.6</td><td>2.7</td></tr>\n",
       "\t<tr><th scope=row>117</th><td>1</td><td>2</td><td>2</td><td>2</td><td>4</td><td>2.6</td><td>2.8</td><td>2.7</td></tr>\n",
       "\t<tr><th scope=row>118</th><td>2</td><td>1</td><td>1</td><td>1</td><td>2</td><td>2.8</td><td>2.9</td><td>2.7</td></tr>\n",
       "\t<tr><th scope=row>119</th><td>2</td><td>1</td><td>1</td><td>4</td><td>2</td><td>3.1</td><td>3.1</td><td>2.7</td></tr>\n",
       "\t<tr><th scope=row>120</th><td>2</td><td>1</td><td>1</td><td>4</td><td>5</td><td>2.9</td><td>2.7</td><td>2.7</td></tr>\n",
       "\t<tr><th scope=row>121</th><td>2</td><td>1</td><td>2</td><td>1</td><td>2</td><td>2.7</td><td>3</td><td>2.7</td></tr>\n",
       "\t<tr><th scope=row>122</th><td>2</td><td>1</td><td>2</td><td>1</td><td>3</td><td>2.5</td><td>2.9</td><td>2.7</td></tr>\n",
       "\t<tr><th scope=row>123</th><td>2</td><td>1</td><td>2</td><td>3</td><td>4</td><td>2.8</td><td>3.2</td><td>2.7</td></tr>\n",
       "\t<tr><th scope=row>124</th><td>2</td><td>2</td><td>1</td><td>1</td><td>2</td><td>2.9</td><td>2</td><td>2.7</td></tr>\n",
       "\t<tr><th scope=row>125</th><td>2</td><td>2</td><td>1</td><td>3</td><td>4</td><td>3.3</td><td>3</td><td>2.7</td></tr>\n",
       "\t<tr><th scope=row>126</th><td>2</td><td>2</td><td>2</td><td>2</td><td>4</td><td>2.9</td><td>3</td><td>2.7</td></tr>\n",
       "\t<tr><th scope=row>127</th><td>2</td><td>2</td><td>2</td><td>3</td><td>2</td><td>2.9</td><td>3.3</td><td>2.7</td></tr>\n",
       "\t<tr><th scope=row>128</th><td>1</td><td>1</td><td>1</td><td>1</td><td>3</td><td>2.5</td><td>2.8</td><td>2.8</td></tr>\n",
       "\t<tr><th scope=row>129</th><td>1</td><td>1</td><td>2</td><td>1</td><td>1</td><td>3.1</td><td>3</td><td>2.8</td></tr>\n",
       "\t<tr><th scope=row>130</th><td>1</td><td>1</td><td>2</td><td>2</td><td>3</td><td>2.8</td><td>3.2</td><td>2.8</td></tr>\n",
       "\t<tr><th scope=row>131</th><td>1</td><td>2</td><td>1</td><td>1</td><td>2</td><td>2.5</td><td>2.4</td><td>2.8</td></tr>\n",
       "\t<tr><th scope=row>132</th><td>1</td><td>2</td><td>1</td><td>4</td><td>2</td><td>3.1</td><td>3.1</td><td>2.8</td></tr>\n",
       "\t<tr><th scope=row>133</th><td>2</td><td>1</td><td>1</td><td>3</td><td>5</td><td>2.9</td><td>3.3</td><td>2.8</td></tr>\n",
       "\t<tr><th scope=row>134</th><td>2</td><td>2</td><td>1</td><td>2</td><td>1</td><td>3.4</td><td>3.2</td><td>2.8</td></tr>\n",
       "\t<tr><th scope=row>135</th><td>2</td><td>2</td><td>1</td><td>4</td><td>2</td><td>3.3</td><td>2.8</td><td>2.8</td></tr>\n",
       "\t<tr><th scope=row>136</th><td>2</td><td>2</td><td>1</td><td>4</td><td>3</td><td>3</td><td>3</td><td>2.8</td></tr>\n",
       "\t<tr><th scope=row>137</th><td>2</td><td>2</td><td>1</td><td>4</td><td>5</td><td>3.4</td><td>3</td><td>2.8</td></tr>\n",
       "\t<tr><th scope=row>138</th><td>1</td><td>1</td><td>1</td><td>2</td><td>3</td><td>3</td><td>3</td><td>2.9</td></tr>\n",
       "\t<tr><th scope=row>139</th><td>1</td><td>1</td><td>2</td><td>1</td><td>3</td><td>2.4</td><td>3</td><td>2.9</td></tr>\n",
       "\t<tr><th scope=row>140</th><td>1</td><td>2</td><td>1</td><td>4</td><td>4</td><td>3.4</td><td>3.4</td><td>2.9</td></tr>\n",
       "\t<tr><th scope=row>141</th><td>1</td><td>2</td><td>2</td><td>2</td><td>2</td><td>3.2</td><td>2.9</td><td>2.9</td></tr>\n",
       "\t<tr><th scope=row>142</th><td>2</td><td>2</td><td>1</td><td>1</td><td>3</td><td>3</td><td>2.7</td><td>2.9</td></tr>\n",
       "\t<tr><th scope=row>143</th><td>2</td><td>2</td><td>1</td><td>3</td><td>5</td><td>3.5</td><td>2.9</td><td>2.9</td></tr>\n",
       "\t<tr><th scope=row>144</th><td>1</td><td>1</td><td>1</td><td>1</td><td>1</td><td>2.9</td><td>3.2</td><td>3</td></tr>\n",
       "\t<tr><th scope=row>145</th><td>1</td><td>2</td><td>1</td><td>1</td><td>1</td><td>2.8</td><td>2.6</td><td>3</td></tr>\n",
       "\t<tr><th scope=row>146</th><td>2</td><td>1</td><td>1</td><td>1</td><td>3</td><td>2.2</td><td>3</td><td>3</td></tr>\n",
       "\t<tr><th scope=row>147</th><td>2</td><td>2</td><td>1</td><td>2</td><td>2</td><td>3.5</td><td>2.9</td><td>3</td></tr>\n",
       "\t<tr><th scope=row>148</th><td>2</td><td>2</td><td>1</td><td>3</td><td>2</td><td>3.5</td><td>2.8</td><td>3</td></tr>\n",
       "\t<tr><th scope=row>149</th><td>2</td><td>2</td><td>2</td><td>1</td><td>3</td><td>3.2</td><td>2.7</td><td>3</td></tr>\n",
       "\t<tr><th scope=row>150</th><td>2</td><td>2</td><td>2</td><td>4</td><td>4</td><td>3.4</td><td>3.3</td><td>3</td></tr>\n",
       "\t<tr><th scope=row>151</th><td>1</td><td>2</td><td>1</td><td>2</td><td>3</td><td>3.7</td><td>3.3</td><td>3.1</td></tr>\n",
       "\t<tr><th scope=row>152</th><td>1</td><td>2</td><td>2</td><td>3</td><td>3</td><td>3.3</td><td>3.1</td><td>3.1</td></tr>\n",
       "\t<tr><th scope=row>153</th><td>2</td><td>1</td><td>1</td><td>4</td><td>4</td><td>3.2</td><td>3.5</td><td>3.1</td></tr>\n",
       "\t<tr><th scope=row>154</th><td>2</td><td>2</td><td>1</td><td>2</td><td>4</td><td>3.3</td><td>3</td><td>3.1</td></tr>\n",
       "\t<tr><th scope=row>155</th><td>2</td><td>2</td><td>1</td><td>4</td><td>4</td><td>3.5</td><td>3.2</td><td>3.1</td></tr>\n",
       "\t<tr><th scope=row>156</th><td>2</td><td>2</td><td>2</td><td>2</td><td>3</td><td>2.2</td><td>2.8</td><td>3.1</td></tr>\n",
       "\t<tr><th scope=row>157</th><td>2</td><td>2</td><td>2</td><td>3</td><td>5</td><td>2.9</td><td>3.1</td><td>3.1</td></tr>\n",
       "\t<tr><th scope=row>158</th><td>1</td><td>1</td><td>2</td><td>3</td><td>3</td><td>3.3</td><td>3.2</td><td>3.2</td></tr>\n",
       "\t<tr><th scope=row>159</th><td>1</td><td>2</td><td>1</td><td>1</td><td>3</td><td>3.2</td><td>2.7</td><td>3.2</td></tr>\n",
       "\t<tr><th scope=row>160</th><td>1</td><td>2</td><td>1</td><td>4</td><td>3</td><td>3.6</td><td>3</td><td>3.3</td></tr>\n",
       "</tbody>\n",
       "</table>\n"
      ],
      "text/latex": [
       "\\begin{tabular}{r|llllllll}\n",
       "  & area & temp & size & storage & method & texture & flavor & moistness\\\\\n",
       "\\hline\n",
       "\t1 & 1 & 1 & 2 & 4 & 1 & 1.5 & 2.6 & 1.3\\\\\n",
       "\t2 & 1 & 1 & 2 & 4 & 2 & 1.4 & 2.6 & 1.3\\\\\n",
       "\t3 & 1 & 2 & 2 & 4 & 1 & 1.4 & 2.9 & 1.4\\\\\n",
       "\t4 & 1 & 1 & 1 & 3 & 1 & 1.8 & 2.6 & 1.5\\\\\n",
       "\t5 & 1 & 2 & 2 & 4 & 5 & 1.5 & 2.4 & 1.5\\\\\n",
       "\t6 & 2 & 1 & 2 & 3 & 1 & 1.7 & 3.2 & 1.5\\\\\n",
       "\t7 & 1 & 2 & 2 & 4 & 2 & 2.1 & 2.5 & 1.6\\\\\n",
       "\t8 & 1 & 2 & 2 & 4 & 4 & 1.8 & 2.9 & 1.6\\\\\n",
       "\t9 & 1 & 1 & 1 & 2 & 1 & 1.8 & 3 & 1.7\\\\\n",
       "\t10 & 1 & 1 & 2 & 4 & 4 & 1.8 & 3.1 & 1.7\\\\\n",
       "\t11 & 1 & 1 & 2 & 4 & 5 & 1.7 & 2.7 & 1.7\\\\\n",
       "\t12 & 1 & 2 & 2 & 1 & 5 & 1.4 & 2.4 & 1.7\\\\\n",
       "\t13 & 1 & 1 & 2 & 2 & 1 & 1.8 & 2.6 & 1.8\\\\\n",
       "\t14 & 1 & 1 & 2 & 3 & 1 & 1.9 & 3 & 1.8\\\\\n",
       "\t15 & 1 & 1 & 2 & 3 & 2 & 1.8 & 2.7 & 1.8\\\\\n",
       "\t16 & 1 & 2 & 1 & 3 & 5 & 2.6 & 2.8 & 1.8\\\\\n",
       "\t17 & 1 & 2 & 2 & 4 & 3 & 2.3 & 2.6 & 1.8\\\\\n",
       "\t18 & 2 & 1 & 1 & 2 & 3 & 1.6 & 3.1 & 1.8\\\\\n",
       "\t19 & 1 & 1 & 1 & 2 & 5 & 2 & 2.8 & 1.9\\\\\n",
       "\t20 & 1 & 1 & 1 & 3 & 2 & 2 & 2.8 & 1.9\\\\\n",
       "\t21 & 1 & 2 & 1 & 2 & 1 & 2.3 & 2.9 & 1.9\\\\\n",
       "\t22 & 1 & 2 & 2 & 2 & 1 & 2.5 & 2.6 & 1.9\\\\\n",
       "\t23 & 1 & 2 & 2 & 2 & 3 & 3 & 3.1 & 1.9\\\\\n",
       "\t24 & 2 & 1 & 2 & 2 & 1 & 2 & 3 & 1.9\\\\\n",
       "\t25 & 1 & 1 & 2 & 1 & 5 & 1.9 & 2.9 & 2\\\\\n",
       "\t26 & 1 & 1 & 2 & 2 & 5 & 2 & 3 & 2\\\\\n",
       "\t27 & 1 & 1 & 2 & 4 & 3 & 2.1 & 2.5 & 2\\\\\n",
       "\t28 & 1 & 2 & 1 & 3 & 1 & 2.4 & 2.7 & 2\\\\\n",
       "\t29 & 1 & 2 & 2 & 1 & 4 & 2 & 2.5 & 2\\\\\n",
       "\t30 & 2 & 1 & 2 & 3 & 2 & 2.2 & 3.2 & 2\\\\\n",
       "\t31 & 2 & 1 & 2 & 3 & 3 & 1.7 & 3.1 & 2\\\\\n",
       "\t32 & 2 & 1 & 2 & 4 & 2 & 1.8 & 3 & 2\\\\\n",
       "\t33 & 1 & 1 & 1 & 3 & 4 & 2.1 & 3.2 & 2.1\\\\\n",
       "\t34 & 1 & 1 & 1 & 3 & 5 & 2.5 & 3 & 2.1\\\\\n",
       "\t35 & 1 & 1 & 2 & 2 & 2 & 2.2 & 2.9 & 2.1\\\\\n",
       "\t36 & 1 & 2 & 1 & 3 & 2 & 2.7 & 2.5 & 2.1\\\\\n",
       "\t37 & 2 & 1 & 1 & 3 & 2 & 2.4 & 2.9 & 2.1\\\\\n",
       "\t38 & 2 & 1 & 2 & 1 & 5 & 2 & 2.9 & 2.1\\\\\n",
       "\t39 & 2 & 1 & 2 & 2 & 5 & 2.2 & 2.9 & 2.1\\\\\n",
       "\t40 & 2 & 1 & 2 & 4 & 3 & 1.6 & 3.4 & 2.1\\\\\n",
       "\t41 & 1 & 1 & 1 & 1 & 5 & 1.9 & 2.8 & 2.2\\\\\n",
       "\t42 & 1 & 1 & 2 & 3 & 4 & 2.5 & 3.1 & 2.2\\\\\n",
       "\t43 & 1 & 2 & 1 & 1 & 5 & 2 & 2.5 & 2.2\\\\\n",
       "\t44 & 1 & 2 & 1 & 3 & 4 & 2.6 & 2.8 & 2.2\\\\\n",
       "\t45 & 1 & 2 & 2 & 2 & 5 & 2.6 & 3.1 & 2.2\\\\\n",
       "\t46 & 1 & 2 & 2 & 3 & 1 & 2.4 & 3 & 2.2\\\\\n",
       "\t47 & 2 & 1 & 2 & 4 & 1 & 2 & 3.5 & 2.2\\\\\n",
       "\t48 & 1 & 1 & 1 & 4 & 3 & 2.2 & 3.1 & 2.3\\\\\n",
       "\t49 & 1 & 1 & 2 & 1 & 4 & 2.2 & 2.9 & 2.3\\\\\n",
       "\t50 & 1 & 1 & 2 & 3 & 5 & 2.5 & 3.4 & 2.3\\\\\n",
       "\t51 & 1 & 2 & 1 & 2 & 5 & 2.6 & 2.6 & 2.3\\\\\n",
       "\t52 & 2 & 1 & 1 & 1 & 5 & 2.7 & 3 & 2.3\\\\\n",
       "\t53 & 2 & 1 & 1 & 2 & 4 & 2.5 & 3.2 & 2.3\\\\\n",
       "\t54 & 2 & 1 & 1 & 3 & 1 & 2.2 & 2.8 & 2.3\\\\\n",
       "\t55 & 2 & 1 & 1 & 3 & 3 & 2.2 & 3.1 & 2.3\\\\\n",
       "\t56 & 2 & 1 & 2 & 2 & 2 & 2.3 & 3.1 & 2.3\\\\\n",
       "\t57 & 2 & 2 & 1 & 3 & 3 & 2.5 & 3.2 & 2.3\\\\\n",
       "\t58 & 2 & 2 & 2 & 1 & 2 & 2.5 & 2.7 & 2.3\\\\\n",
       "\t59 & 2 & 2 & 2 & 1 & 5 & 2.7 & 2.1 & 2.3\\\\\n",
       "\t60 & 2 & 2 & 2 & 2 & 1 & 2.2 & 2.7 & 2.3\\\\\n",
       "\t61 & 2 & 2 & 2 & 3 & 1 & 2.5 & 3.2 & 2.3\\\\\n",
       "\t62 & 2 & 2 & 2 & 4 & 2 & 2.6 & 2.8 & 2.3\\\\\n",
       "\t63 & 2 & 2 & 2 & 4 & 5 & 2.5 & 2.8 & 2.3\\\\\n",
       "\t64 & 1 & 1 & 1 & 1 & 4 & 2.1 & 2.9 & 2.4\\\\\n",
       "\t65 & 1 & 1 & 1 & 2 & 2 & 2.6 & 3.1 & 2.4\\\\\n",
       "\t66 & 1 & 1 & 1 & 4 & 1 & 2.6 & 3.1 & 2.4\\\\\n",
       "\t67 & 1 & 1 & 1 & 4 & 2 & 2.7 & 2.9 & 2.4\\\\\n",
       "\t68 & 1 & 1 & 2 & 2 & 4 & 2.3 & 3.2 & 2.4\\\\\n",
       "\t69 & 1 & 2 & 1 & 4 & 1 & 3 & 3.2 & 2.4\\\\\n",
       "\t70 & 1 & 2 & 2 & 1 & 2 & 2.3 & 2.3 & 2.4\\\\\n",
       "\t71 & 1 & 2 & 2 & 3 & 5 & 2.9 & 2.9 & 2.4\\\\\n",
       "\t72 & 2 & 1 & 1 & 1 & 4 & 2.5 & 3.1 & 2.4\\\\\n",
       "\t73 & 2 & 1 & 1 & 2 & 1 & 2.7 & 2.8 & 2.4\\\\\n",
       "\t74 & 2 & 1 & 1 & 4 & 1 & 2.4 & 3.4 & 2.4\\\\\n",
       "\t75 & 2 & 1 & 2 & 2 & 3 & 1.7 & 3.1 & 2.4\\\\\n",
       "\t76 & 1 & 1 & 1 & 2 & 4 & 2.2 & 3.2 & 2.5\\\\\n",
       "\t77 & 1 & 2 & 1 & 2 & 2 & 2.8 & 2.7 & 2.5\\\\\n",
       "\t78 & 1 & 2 & 1 & 2 & 4 & 2.8 & 2.7 & 2.5\\\\\n",
       "\t79 & 1 & 2 & 2 & 3 & 2 & 2.8 & 2.8 & 2.5\\\\\n",
       "\t80 & 2 & 1 & 1 & 2 & 5 & 2.5 & 2.9 & 2.5\\\\\n",
       "\t81 & 2 & 1 & 1 & 4 & 3 & 2.3 & 3.2 & 2.5\\\\\n",
       "\t82 & 2 & 1 & 2 & 1 & 4 & 2.4 & 3 & 2.5\\\\\n",
       "\t83 & 2 & 1 & 2 & 2 & 4 & 2.6 & 3.1 & 2.5\\\\\n",
       "\t84 & 2 & 2 & 1 & 1 & 1 & 2.8 & 2.6 & 2.5\\\\\n",
       "\t85 & 2 & 2 & 1 & 1 & 4 & 2.6 & 3 & 2.5\\\\\n",
       "\t86 & 2 & 2 & 1 & 2 & 3 & 2.6 & 2.8 & 2.5\\\\\n",
       "\t87 & 2 & 2 & 1 & 2 & 5 & 2 & 2.8 & 2.5\\\\\n",
       "\t88 & 2 & 2 & 1 & 4 & 1 & 3.2 & 3.4 & 2.5\\\\\n",
       "\t89 & 2 & 2 & 2 & 1 & 1 & 2.7 & 2.5 & 2.5\\\\\n",
       "\t90 & 2 & 2 & 2 & 1 & 4 & 2.4 & 2.7 & 2.5\\\\\n",
       "\t91 & 2 & 2 & 2 & 3 & 3 & 2.5 & 3.1 & 2.5\\\\\n",
       "\t92 & 2 & 2 & 2 & 3 & 4 & 3 & 2.9 & 2.5\\\\\n",
       "\t93 & 1 & 1 & 1 & 1 & 2 & 2.3 & 2.5 & 2.6\\\\\n",
       "\t94 & 1 & 1 & 1 & 3 & 3 & 2.6 & 2.6 & 2.6\\\\\n",
       "\t95 & 1 & 2 & 1 & 1 & 4 & 2.4 & 2.4 & 2.6\\\\\n",
       "\t96 & 1 & 2 & 1 & 4 & 5 & 2.7 & 3 & 2.6\\\\\n",
       "\t97 & 1 & 2 & 2 & 1 & 1 & 2.2 & 2.6 & 2.6\\\\\n",
       "\t98 & 1 & 2 & 2 & 3 & 4 & 2.8 & 3.1 & 2.6\\\\\n",
       "\t99 & 2 & 1 & 1 & 1 & 1 & 2.5 & 2.7 & 2.6\\\\\n",
       "\t100 & 2 & 1 & 1 & 2 & 2 & 2.5 & 2.9 & 2.6\\\\\n",
       "\t101 & 2 & 1 & 1 & 3 & 4 & 3.1 & 3.1 & 2.6\\\\\n",
       "\t102 & 2 & 1 & 2 & 1 & 1 & 2.6 & 3.3 & 2.6\\\\\n",
       "\t103 & 2 & 1 & 2 & 3 & 5 & 2.6 & 3.3 & 2.6\\\\\n",
       "\t104 & 2 & 1 & 2 & 4 & 4 & 2.8 & 3.3 & 2.6\\\\\n",
       "\t105 & 2 & 1 & 2 & 4 & 5 & 2.7 & 2.3 & 2.6\\\\\n",
       "\t106 & 2 & 2 & 1 & 1 & 5 & 2.8 & 2.2 & 2.6\\\\\n",
       "\t107 & 2 & 2 & 1 & 3 & 1 & 2.8 & 2.8 & 2.6\\\\\n",
       "\t108 & 2 & 2 & 2 & 2 & 2 & 3.1 & 2.9 & 2.6\\\\\n",
       "\t109 & 2 & 2 & 2 & 2 & 5 & 2.8 & 2.7 & 2.6\\\\\n",
       "\t110 & 2 & 2 & 2 & 4 & 1 & 2.7 & 3.3 & 2.6\\\\\n",
       "\t111 & 2 & 2 & 2 & 4 & 3 & 2.5 & 3.1 & 2.6\\\\\n",
       "\t112 & 1 & 1 & 1 & 4 & 4 & 3.1 & 3.4 & 2.7\\\\\n",
       "\t113 & 1 & 1 & 1 & 4 & 5 & 3 & 2.6 & 2.7\\\\\n",
       "\t114 & 1 & 1 & 2 & 1 & 2 & 2.7 & 2.8 & 2.7\\\\\n",
       "\t115 & 1 & 2 & 1 & 3 & 3 & 2.7 & 2.9 & 2.7\\\\\n",
       "\t116 & 1 & 2 & 2 & 1 & 3 & 2.7 & 2.6 & 2.7\\\\\n",
       "\t117 & 1 & 2 & 2 & 2 & 4 & 2.6 & 2.8 & 2.7\\\\\n",
       "\t118 & 2 & 1 & 1 & 1 & 2 & 2.8 & 2.9 & 2.7\\\\\n",
       "\t119 & 2 & 1 & 1 & 4 & 2 & 3.1 & 3.1 & 2.7\\\\\n",
       "\t120 & 2 & 1 & 1 & 4 & 5 & 2.9 & 2.7 & 2.7\\\\\n",
       "\t121 & 2 & 1 & 2 & 1 & 2 & 2.7 & 3 & 2.7\\\\\n",
       "\t122 & 2 & 1 & 2 & 1 & 3 & 2.5 & 2.9 & 2.7\\\\\n",
       "\t123 & 2 & 1 & 2 & 3 & 4 & 2.8 & 3.2 & 2.7\\\\\n",
       "\t124 & 2 & 2 & 1 & 1 & 2 & 2.9 & 2 & 2.7\\\\\n",
       "\t125 & 2 & 2 & 1 & 3 & 4 & 3.3 & 3 & 2.7\\\\\n",
       "\t126 & 2 & 2 & 2 & 2 & 4 & 2.9 & 3 & 2.7\\\\\n",
       "\t127 & 2 & 2 & 2 & 3 & 2 & 2.9 & 3.3 & 2.7\\\\\n",
       "\t128 & 1 & 1 & 1 & 1 & 3 & 2.5 & 2.8 & 2.8\\\\\n",
       "\t129 & 1 & 1 & 2 & 1 & 1 & 3.1 & 3 & 2.8\\\\\n",
       "\t130 & 1 & 1 & 2 & 2 & 3 & 2.8 & 3.2 & 2.8\\\\\n",
       "\t131 & 1 & 2 & 1 & 1 & 2 & 2.5 & 2.4 & 2.8\\\\\n",
       "\t132 & 1 & 2 & 1 & 4 & 2 & 3.1 & 3.1 & 2.8\\\\\n",
       "\t133 & 2 & 1 & 1 & 3 & 5 & 2.9 & 3.3 & 2.8\\\\\n",
       "\t134 & 2 & 2 & 1 & 2 & 1 & 3.4 & 3.2 & 2.8\\\\\n",
       "\t135 & 2 & 2 & 1 & 4 & 2 & 3.3 & 2.8 & 2.8\\\\\n",
       "\t136 & 2 & 2 & 1 & 4 & 3 & 3 & 3 & 2.8\\\\\n",
       "\t137 & 2 & 2 & 1 & 4 & 5 & 3.4 & 3 & 2.8\\\\\n",
       "\t138 & 1 & 1 & 1 & 2 & 3 & 3 & 3 & 2.9\\\\\n",
       "\t139 & 1 & 1 & 2 & 1 & 3 & 2.4 & 3 & 2.9\\\\\n",
       "\t140 & 1 & 2 & 1 & 4 & 4 & 3.4 & 3.4 & 2.9\\\\\n",
       "\t141 & 1 & 2 & 2 & 2 & 2 & 3.2 & 2.9 & 2.9\\\\\n",
       "\t142 & 2 & 2 & 1 & 1 & 3 & 3 & 2.7 & 2.9\\\\\n",
       "\t143 & 2 & 2 & 1 & 3 & 5 & 3.5 & 2.9 & 2.9\\\\\n",
       "\t144 & 1 & 1 & 1 & 1 & 1 & 2.9 & 3.2 & 3\\\\\n",
       "\t145 & 1 & 2 & 1 & 1 & 1 & 2.8 & 2.6 & 3\\\\\n",
       "\t146 & 2 & 1 & 1 & 1 & 3 & 2.2 & 3 & 3\\\\\n",
       "\t147 & 2 & 2 & 1 & 2 & 2 & 3.5 & 2.9 & 3\\\\\n",
       "\t148 & 2 & 2 & 1 & 3 & 2 & 3.5 & 2.8 & 3\\\\\n",
       "\t149 & 2 & 2 & 2 & 1 & 3 & 3.2 & 2.7 & 3\\\\\n",
       "\t150 & 2 & 2 & 2 & 4 & 4 & 3.4 & 3.3 & 3\\\\\n",
       "\t151 & 1 & 2 & 1 & 2 & 3 & 3.7 & 3.3 & 3.1\\\\\n",
       "\t152 & 1 & 2 & 2 & 3 & 3 & 3.3 & 3.1 & 3.1\\\\\n",
       "\t153 & 2 & 1 & 1 & 4 & 4 & 3.2 & 3.5 & 3.1\\\\\n",
       "\t154 & 2 & 2 & 1 & 2 & 4 & 3.3 & 3 & 3.1\\\\\n",
       "\t155 & 2 & 2 & 1 & 4 & 4 & 3.5 & 3.2 & 3.1\\\\\n",
       "\t156 & 2 & 2 & 2 & 2 & 3 & 2.2 & 2.8 & 3.1\\\\\n",
       "\t157 & 2 & 2 & 2 & 3 & 5 & 2.9 & 3.1 & 3.1\\\\\n",
       "\t158 & 1 & 1 & 2 & 3 & 3 & 3.3 & 3.2 & 3.2\\\\\n",
       "\t159 & 1 & 2 & 1 & 1 & 3 & 3.2 & 2.7 & 3.2\\\\\n",
       "\t160 & 1 & 2 & 1 & 4 & 3 & 3.6 & 3 & 3.3\\\\\n",
       "\\end{tabular}\n"
      ],
      "text/plain": [
       "     area temp size storage method texture flavor moistness\n",
       "  1:    1    1    2       4      1     1.5    2.6       1.3\n",
       "  2:    1    1    2       4      2     1.4    2.6       1.3\n",
       "  3:    1    2    2       4      1     1.4    2.9       1.4\n",
       "  4:    1    1    1       3      1     1.8    2.6       1.5\n",
       "  5:    1    2    2       4      5     1.5    2.4       1.5\n",
       " ---                                                       \n",
       "156:    2    2    2       2      3     2.2    2.8       3.1\n",
       "157:    2    2    2       3      5     2.9    3.1       3.1\n",
       "158:    1    1    2       3      3     3.3    3.2       3.2\n",
       "159:    1    2    1       1      3     3.2    2.7       3.2\n",
       "160:    1    2    1       4      3     3.6    3.0       3.3"
      ]
     },
     "execution_count": 36,
     "metadata": {},
     "output_type": "execute_result"
    }
   ],
   "source": [
    "# Print out arranged version of potatoes\n",
    "potatoes[order(moistness)]"
   ]
  },
  {
   "cell_type": "markdown",
   "metadata": {},
   "source": [
    "Import \"potatoes.txt\" once more, but this time, only import 20 rows; use the nrows argument of fread() for this. Store the result as potatoes_part."
   ]
  },
  {
   "cell_type": "code",
   "execution_count": 34,
   "metadata": {
    "collapsed": false
   },
   "outputs": [],
   "source": [
    "# Import 20 rows of potatoes.txt with fread(): potatoes_part\n",
    "potatoes_part <-fread(\"D:/Data/potatoes.txt\", nrows=20)"
   ]
  },
  {
   "cell_type": "markdown",
   "metadata": {},
   "source": [
    "## fread: more advanced use\n",
    "\n",
    "Now that you know the basics about fread(), you should now about two arguments of the function: drop and select.\n",
    "\n",
    "They enable you to drop or select variables of interest in your flat file. Suppose you have a dataset that contains 5 variables and you want to keep the first and fifth variable, named \"a\" and \"e\". The following options will all do the trick:\n",
    "\n",
    "    fread(\"path/to/file.txt\", drop = 2:4)\n",
    "    fread(\"path/to/file.txt\", select = c(1, 5))\n",
    "    fread(\"path/to/file.txt\", drop = c(\"b\", \"c\", \"d\")\n",
    "    fread(\"path/to/file.txt\", select = c(\"a\", \"e\"))\n",
    "\n",
    "Let's stick with potatoes since we're particularly fond of them here at DataCamp. The data is again available in the file potatoes.txt, containing tab-delimited records."
   ]
  },
  {
   "cell_type": "markdown",
   "metadata": {},
   "source": [
    "Using fread() and select or drop as arguments, only import the texture, flavor and moistness columns of the flat file. They correspond to the columns 6, 7 and 8 in \"potatoes.txt\". Store the result in a variable potatoes."
   ]
  },
  {
   "cell_type": "code",
   "execution_count": 38,
   "metadata": {
    "collapsed": false
   },
   "outputs": [],
   "source": [
    "# fread is already loaded\n",
    "library(data.table)\n",
    "# Import columns 6, 7 and 8 of potatoes.txt: potatoes\n",
    "potatoes<- fread(\"D:/Data/potatoes.txt\", drop = 1:5)"
   ]
  },
  {
   "cell_type": "markdown",
   "metadata": {},
   "source": [
    "Create a subset using subset() to keep observations where flavor is above 3. Store the resulting data frame in a variable tasty_potatoes."
   ]
  },
  {
   "cell_type": "code",
   "execution_count": 43,
   "metadata": {
    "collapsed": false
   },
   "outputs": [],
   "source": [
    "tasty_potatoes<-subset(potatoes, flavor>3)"
   ]
  },
  {
   "cell_type": "markdown",
   "metadata": {},
   "source": [
    "plot() 2 columns of the tasty_potatoes data frame: texture on the x-axis, moistness and the y-axis. Use the dollar sign notation twice. Feel free to name your axes and plot."
   ]
  },
  {
   "cell_type": "code",
   "execution_count": 44,
   "metadata": {
    "collapsed": false
   },
   "outputs": [
    {
     "data": {
      "application/pdf": "[encoded data removed]",
      "image/jpeg": "[encoded data removed]",
      "image/png": "[encoded data removed]",
      "text/plain": [
       "plot without title"
      ]
     },
     "metadata": {
      "image/svg+xml": {
       "isolated": true
      }
     },
     "output_type": "display_data"
    }
   ],
   "source": [
    "plot(tasty_potatoes$texture,tasty_potatoes$moistness)"
   ]
  },
  {
   "cell_type": "code",
   "execution_count": 41,
   "metadata": {
    "collapsed": false
   },
   "outputs": [
    {
     "data": {
      "text/html": [
       "<ol class=list-inline>\n",
       "\t<li>TRUE</li>\n",
       "\t<li>FALSE</li>\n",
       "\t<li>FALSE</li>\n",
       "\t<li>FALSE</li>\n",
       "\t<li>FALSE</li>\n",
       "\t<li>FALSE</li>\n",
       "\t<li>TRUE</li>\n",
       "\t<li>FALSE</li>\n",
       "\t<li>TRUE</li>\n",
       "\t<li>FALSE</li>\n",
       "\t<li>FALSE</li>\n",
       "\t<li>FALSE</li>\n",
       "\t<li>FALSE</li>\n",
       "\t<li>TRUE</li>\n",
       "\t<li>FALSE</li>\n",
       "\t<li>TRUE</li>\n",
       "\t<li>FALSE</li>\n",
       "\t<li>TRUE</li>\n",
       "\t<li>TRUE</li>\n",
       "\t<li>FALSE</li>\n",
       "\t<li>FALSE</li>\n",
       "\t<li>FALSE</li>\n",
       "\t<li>FALSE</li>\n",
       "\t<li>FALSE</li>\n",
       "\t<li>FALSE</li>\n",
       "\t<li>FALSE</li>\n",
       "\t<li>FALSE</li>\n",
       "\t<li>TRUE</li>\n",
       "\t<li>TRUE</li>\n",
       "\t<li>FALSE</li>\n",
       "\t<li>FALSE</li>\n",
       "\t<li>FALSE</li>\n",
       "\t<li>TRUE</li>\n",
       "\t<li>TRUE</li>\n",
       "\t<li>TRUE</li>\n",
       "\t<li>FALSE</li>\n",
       "\t<li>FALSE</li>\n",
       "\t<li>FALSE</li>\n",
       "\t<li>TRUE</li>\n",
       "\t<li>FALSE</li>\n",
       "\t<li>FALSE</li>\n",
       "\t<li>FALSE</li>\n",
       "\t<li>FALSE</li>\n",
       "\t<li>FALSE</li>\n",
       "\t<li>FALSE</li>\n",
       "\t<li>FALSE</li>\n",
       "\t<li>FALSE</li>\n",
       "\t<li>TRUE</li>\n",
       "\t<li>FALSE</li>\n",
       "\t<li>FALSE</li>\n",
       "\t<li>FALSE</li>\n",
       "\t<li>FALSE</li>\n",
       "\t<li>FALSE</li>\n",
       "\t<li>FALSE</li>\n",
       "\t<li>FALSE</li>\n",
       "\t<li>TRUE</li>\n",
       "\t<li>TRUE</li>\n",
       "\t<li>FALSE</li>\n",
       "\t<li>TRUE</li>\n",
       "\t<li>FALSE</li>\n",
       "\t<li>FALSE</li>\n",
       "\t<li>FALSE</li>\n",
       "\t<li>FALSE</li>\n",
       "\t<li>FALSE</li>\n",
       "\t<li>FALSE</li>\n",
       "\t<li>FALSE</li>\n",
       "\t<li>FALSE</li>\n",
       "\t<li>TRUE</li>\n",
       "\t<li>FALSE</li>\n",
       "\t<li>TRUE</li>\n",
       "\t<li>FALSE</li>\n",
       "\t<li>FALSE</li>\n",
       "\t<li>TRUE</li>\n",
       "\t<li>TRUE</li>\n",
       "\t<li>FALSE</li>\n",
       "\t<li>FALSE</li>\n",
       "\t<li>FALSE</li>\n",
       "\t<li>FALSE</li>\n",
       "\t<li>FALSE</li>\n",
       "\t<li>FALSE</li>\n",
       "\t<li>FALSE</li>\n",
       "\t<li>FALSE</li>\n",
       "\t<li>FALSE</li>\n",
       "\t<li>TRUE</li>\n",
       "\t<li>FALSE</li>\n",
       "\t<li>FALSE</li>\n",
       "\t<li>FALSE</li>\n",
       "\t<li>TRUE</li>\n",
       "\t<li>TRUE</li>\n",
       "\t<li>FALSE</li>\n",
       "\t<li>FALSE</li>\n",
       "\t<li>FALSE</li>\n",
       "\t<li>TRUE</li>\n",
       "\t<li>TRUE</li>\n",
       "\t<li>TRUE</li>\n",
       "\t<li>TRUE</li>\n",
       "\t<li>TRUE</li>\n",
       "\t<li>TRUE</li>\n",
       "\t<li>TRUE</li>\n",
       "\t<li>FALSE</li>\n",
       "\t<li>TRUE</li>\n",
       "\t<li>FALSE</li>\n",
       "\t<li>FALSE</li>\n",
       "\t<li>FALSE</li>\n",
       "\t<li>FALSE</li>\n",
       "\t<li>FALSE</li>\n",
       "\t<li>TRUE</li>\n",
       "\t<li>TRUE</li>\n",
       "\t<li>TRUE</li>\n",
       "\t<li>FALSE</li>\n",
       "\t<li>TRUE</li>\n",
       "\t<li>TRUE</li>\n",
       "\t<li>TRUE</li>\n",
       "\t<li>TRUE</li>\n",
       "\t<li>TRUE</li>\n",
       "\t<li>TRUE</li>\n",
       "\t<li>FALSE</li>\n",
       "\t<li>TRUE</li>\n",
       "\t<li>TRUE</li>\n",
       "\t<li>FALSE</li>\n",
       "\t<li>FALSE</li>\n",
       "\t<li>FALSE</li>\n",
       "\t<li>FALSE</li>\n",
       "\t<li>FALSE</li>\n",
       "\t<li>FALSE</li>\n",
       "\t<li>TRUE</li>\n",
       "\t<li>FALSE</li>\n",
       "\t<li>FALSE</li>\n",
       "\t<li>FALSE</li>\n",
       "\t<li>FALSE</li>\n",
       "\t<li>FALSE</li>\n",
       "\t<li>FALSE</li>\n",
       "\t<li>TRUE</li>\n",
       "\t<li>FALSE</li>\n",
       "\t<li>FALSE</li>\n",
       "\t<li>TRUE</li>\n",
       "\t<li>FALSE</li>\n",
       "\t<li>FALSE</li>\n",
       "\t<li>TRUE</li>\n",
       "\t<li>FALSE</li>\n",
       "\t<li>FALSE</li>\n",
       "\t<li>FALSE</li>\n",
       "\t<li>FALSE</li>\n",
       "\t<li>FALSE</li>\n",
       "\t<li>FALSE</li>\n",
       "\t<li>FALSE</li>\n",
       "\t<li>FALSE</li>\n",
       "\t<li>FALSE</li>\n",
       "\t<li>FALSE</li>\n",
       "\t<li>FALSE</li>\n",
       "\t<li>TRUE</li>\n",
       "\t<li>TRUE</li>\n",
       "\t<li>TRUE</li>\n",
       "\t<li>FALSE</li>\n",
       "\t<li>TRUE</li>\n",
       "\t<li>TRUE</li>\n",
       "\t<li>FALSE</li>\n",
       "\t<li>TRUE</li>\n",
       "\t<li>TRUE</li>\n",
       "\t<li>FALSE</li>\n",
       "</ol>\n"
      ],
      "text/latex": [
       "\\begin{enumerate*}\n",
       "\\item TRUE\n",
       "\\item FALSE\n",
       "\\item FALSE\n",
       "\\item FALSE\n",
       "\\item FALSE\n",
       "\\item FALSE\n",
       "\\item TRUE\n",
       "\\item FALSE\n",
       "\\item TRUE\n",
       "\\item FALSE\n",
       "\\item FALSE\n",
       "\\item FALSE\n",
       "\\item FALSE\n",
       "\\item TRUE\n",
       "\\item FALSE\n",
       "\\item TRUE\n",
       "\\item FALSE\n",
       "\\item TRUE\n",
       "\\item TRUE\n",
       "\\item FALSE\n",
       "\\item FALSE\n",
       "\\item FALSE\n",
       "\\item FALSE\n",
       "\\item FALSE\n",
       "\\item FALSE\n",
       "\\item FALSE\n",
       "\\item FALSE\n",
       "\\item TRUE\n",
       "\\item TRUE\n",
       "\\item FALSE\n",
       "\\item FALSE\n",
       "\\item FALSE\n",
       "\\item TRUE\n",
       "\\item TRUE\n",
       "\\item TRUE\n",
       "\\item FALSE\n",
       "\\item FALSE\n",
       "\\item FALSE\n",
       "\\item TRUE\n",
       "\\item FALSE\n",
       "\\item FALSE\n",
       "\\item FALSE\n",
       "\\item FALSE\n",
       "\\item FALSE\n",
       "\\item FALSE\n",
       "\\item FALSE\n",
       "\\item FALSE\n",
       "\\item TRUE\n",
       "\\item FALSE\n",
       "\\item FALSE\n",
       "\\item FALSE\n",
       "\\item FALSE\n",
       "\\item FALSE\n",
       "\\item FALSE\n",
       "\\item FALSE\n",
       "\\item TRUE\n",
       "\\item TRUE\n",
       "\\item FALSE\n",
       "\\item TRUE\n",
       "\\item FALSE\n",
       "\\item FALSE\n",
       "\\item FALSE\n",
       "\\item FALSE\n",
       "\\item FALSE\n",
       "\\item FALSE\n",
       "\\item FALSE\n",
       "\\item FALSE\n",
       "\\item TRUE\n",
       "\\item FALSE\n",
       "\\item TRUE\n",
       "\\item FALSE\n",
       "\\item FALSE\n",
       "\\item TRUE\n",
       "\\item TRUE\n",
       "\\item FALSE\n",
       "\\item FALSE\n",
       "\\item FALSE\n",
       "\\item FALSE\n",
       "\\item FALSE\n",
       "\\item FALSE\n",
       "\\item FALSE\n",
       "\\item FALSE\n",
       "\\item FALSE\n",
       "\\item TRUE\n",
       "\\item FALSE\n",
       "\\item FALSE\n",
       "\\item FALSE\n",
       "\\item TRUE\n",
       "\\item TRUE\n",
       "\\item FALSE\n",
       "\\item FALSE\n",
       "\\item FALSE\n",
       "\\item TRUE\n",
       "\\item TRUE\n",
       "\\item TRUE\n",
       "\\item TRUE\n",
       "\\item TRUE\n",
       "\\item TRUE\n",
       "\\item TRUE\n",
       "\\item FALSE\n",
       "\\item TRUE\n",
       "\\item FALSE\n",
       "\\item FALSE\n",
       "\\item FALSE\n",
       "\\item FALSE\n",
       "\\item FALSE\n",
       "\\item TRUE\n",
       "\\item TRUE\n",
       "\\item TRUE\n",
       "\\item FALSE\n",
       "\\item TRUE\n",
       "\\item TRUE\n",
       "\\item TRUE\n",
       "\\item TRUE\n",
       "\\item TRUE\n",
       "\\item TRUE\n",
       "\\item FALSE\n",
       "\\item TRUE\n",
       "\\item TRUE\n",
       "\\item FALSE\n",
       "\\item FALSE\n",
       "\\item FALSE\n",
       "\\item FALSE\n",
       "\\item FALSE\n",
       "\\item FALSE\n",
       "\\item TRUE\n",
       "\\item FALSE\n",
       "\\item FALSE\n",
       "\\item FALSE\n",
       "\\item FALSE\n",
       "\\item FALSE\n",
       "\\item FALSE\n",
       "\\item TRUE\n",
       "\\item FALSE\n",
       "\\item FALSE\n",
       "\\item TRUE\n",
       "\\item FALSE\n",
       "\\item FALSE\n",
       "\\item TRUE\n",
       "\\item FALSE\n",
       "\\item FALSE\n",
       "\\item FALSE\n",
       "\\item FALSE\n",
       "\\item FALSE\n",
       "\\item FALSE\n",
       "\\item FALSE\n",
       "\\item FALSE\n",
       "\\item FALSE\n",
       "\\item FALSE\n",
       "\\item FALSE\n",
       "\\item TRUE\n",
       "\\item TRUE\n",
       "\\item TRUE\n",
       "\\item FALSE\n",
       "\\item TRUE\n",
       "\\item TRUE\n",
       "\\item FALSE\n",
       "\\item TRUE\n",
       "\\item TRUE\n",
       "\\item FALSE\n",
       "\\end{enumerate*}\n"
      ],
      "text/markdown": [
       "1. TRUE\n",
       "2. FALSE\n",
       "3. FALSE\n",
       "4. FALSE\n",
       "5. FALSE\n",
       "6. FALSE\n",
       "7. TRUE\n",
       "8. FALSE\n",
       "9. TRUE\n",
       "10. FALSE\n",
       "11. FALSE\n",
       "12. FALSE\n",
       "13. FALSE\n",
       "14. TRUE\n",
       "15. FALSE\n",
       "16. TRUE\n",
       "17. FALSE\n",
       "18. TRUE\n",
       "19. TRUE\n",
       "20. FALSE\n",
       "21. FALSE\n",
       "22. FALSE\n",
       "23. FALSE\n",
       "24. FALSE\n",
       "25. FALSE\n",
       "26. FALSE\n",
       "27. FALSE\n",
       "28. TRUE\n",
       "29. TRUE\n",
       "30. FALSE\n",
       "31. FALSE\n",
       "32. FALSE\n",
       "33. TRUE\n",
       "34. TRUE\n",
       "35. TRUE\n",
       "36. FALSE\n",
       "37. FALSE\n",
       "38. FALSE\n",
       "39. TRUE\n",
       "40. FALSE\n",
       "41. FALSE\n",
       "42. FALSE\n",
       "43. FALSE\n",
       "44. FALSE\n",
       "45. FALSE\n",
       "46. FALSE\n",
       "47. FALSE\n",
       "48. TRUE\n",
       "49. FALSE\n",
       "50. FALSE\n",
       "51. FALSE\n",
       "52. FALSE\n",
       "53. FALSE\n",
       "54. FALSE\n",
       "55. FALSE\n",
       "56. TRUE\n",
       "57. TRUE\n",
       "58. FALSE\n",
       "59. TRUE\n",
       "60. FALSE\n",
       "61. FALSE\n",
       "62. FALSE\n",
       "63. FALSE\n",
       "64. FALSE\n",
       "65. FALSE\n",
       "66. FALSE\n",
       "67. FALSE\n",
       "68. TRUE\n",
       "69. FALSE\n",
       "70. TRUE\n",
       "71. FALSE\n",
       "72. FALSE\n",
       "73. TRUE\n",
       "74. TRUE\n",
       "75. FALSE\n",
       "76. FALSE\n",
       "77. FALSE\n",
       "78. FALSE\n",
       "79. FALSE\n",
       "80. FALSE\n",
       "81. FALSE\n",
       "82. FALSE\n",
       "83. FALSE\n",
       "84. TRUE\n",
       "85. FALSE\n",
       "86. FALSE\n",
       "87. FALSE\n",
       "88. TRUE\n",
       "89. TRUE\n",
       "90. FALSE\n",
       "91. FALSE\n",
       "92. FALSE\n",
       "93. TRUE\n",
       "94. TRUE\n",
       "95. TRUE\n",
       "96. TRUE\n",
       "97. TRUE\n",
       "98. TRUE\n",
       "99. TRUE\n",
       "100. FALSE\n",
       "101. TRUE\n",
       "102. FALSE\n",
       "103. FALSE\n",
       "104. FALSE\n",
       "105. FALSE\n",
       "106. FALSE\n",
       "107. TRUE\n",
       "108. TRUE\n",
       "109. TRUE\n",
       "110. FALSE\n",
       "111. TRUE\n",
       "112. TRUE\n",
       "113. TRUE\n",
       "114. TRUE\n",
       "115. TRUE\n",
       "116. TRUE\n",
       "117. FALSE\n",
       "118. TRUE\n",
       "119. TRUE\n",
       "120. FALSE\n",
       "121. FALSE\n",
       "122. FALSE\n",
       "123. FALSE\n",
       "124. FALSE\n",
       "125. FALSE\n",
       "126. TRUE\n",
       "127. FALSE\n",
       "128. FALSE\n",
       "129. FALSE\n",
       "130. FALSE\n",
       "131. FALSE\n",
       "132. FALSE\n",
       "133. TRUE\n",
       "134. FALSE\n",
       "135. FALSE\n",
       "136. TRUE\n",
       "137. FALSE\n",
       "138. FALSE\n",
       "139. TRUE\n",
       "140. FALSE\n",
       "141. FALSE\n",
       "142. FALSE\n",
       "143. FALSE\n",
       "144. FALSE\n",
       "145. FALSE\n",
       "146. FALSE\n",
       "147. FALSE\n",
       "148. FALSE\n",
       "149. FALSE\n",
       "150. FALSE\n",
       "151. TRUE\n",
       "152. TRUE\n",
       "153. TRUE\n",
       "154. FALSE\n",
       "155. TRUE\n",
       "156. TRUE\n",
       "157. FALSE\n",
       "158. TRUE\n",
       "159. TRUE\n",
       "160. FALSE\n",
       "\n",
       "\n"
      ],
      "text/plain": [
       "  [1]  TRUE FALSE FALSE FALSE FALSE FALSE  TRUE FALSE  TRUE FALSE FALSE FALSE\n",
       " [13] FALSE  TRUE FALSE  TRUE FALSE  TRUE  TRUE FALSE FALSE FALSE FALSE FALSE\n",
       " [25] FALSE FALSE FALSE  TRUE  TRUE FALSE FALSE FALSE  TRUE  TRUE  TRUE FALSE\n",
       " [37] FALSE FALSE  TRUE FALSE FALSE FALSE FALSE FALSE FALSE FALSE FALSE  TRUE\n",
       " [49] FALSE FALSE FALSE FALSE FALSE FALSE FALSE  TRUE  TRUE FALSE  TRUE FALSE\n",
       " [61] FALSE FALSE FALSE FALSE FALSE FALSE FALSE  TRUE FALSE  TRUE FALSE FALSE\n",
       " [73]  TRUE  TRUE FALSE FALSE FALSE FALSE FALSE FALSE FALSE FALSE FALSE  TRUE\n",
       " [85] FALSE FALSE FALSE  TRUE  TRUE FALSE FALSE FALSE  TRUE  TRUE  TRUE  TRUE\n",
       " [97]  TRUE  TRUE  TRUE FALSE  TRUE FALSE FALSE FALSE FALSE FALSE  TRUE  TRUE\n",
       "[109]  TRUE FALSE  TRUE  TRUE  TRUE  TRUE  TRUE  TRUE FALSE  TRUE  TRUE FALSE\n",
       "[121] FALSE FALSE FALSE FALSE FALSE  TRUE FALSE FALSE FALSE FALSE FALSE FALSE\n",
       "[133]  TRUE FALSE FALSE  TRUE FALSE FALSE  TRUE FALSE FALSE FALSE FALSE FALSE\n",
       "[145] FALSE FALSE FALSE FALSE FALSE FALSE  TRUE  TRUE  TRUE FALSE  TRUE  TRUE\n",
       "[157] FALSE  TRUE  TRUE FALSE"
      ]
     },
     "execution_count": 41,
     "metadata": {},
     "output_type": "execute_result"
    }
   ],
   "source": [
    "tasty_potatoes\n"
   ]
  },
  {
   "cell_type": "code",
   "execution_count": null,
   "metadata": {
    "collapsed": true
   },
   "outputs": [],
   "source": []
  }
 ],
 "metadata": {
  "kernelspec": {
   "display_name": "R",
   "language": "R",
   "name": "ir"
  },
  "language_info": {
   "codemirror_mode": "r",
   "file_extension": ".r",
   "mimetype": "text/x-r-source",
   "name": "R",
   "pygments_lexer": "r",
   "version": "3.1.3"
  }
 },
 "nbformat": 4,
 "nbformat_minor": 0
}
