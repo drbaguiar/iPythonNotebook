{
 "cells": [
  {
   "cell_type": "markdown",
   "metadata": {},
   "source": [
    "# Using prop.test\n",
    "\n",
    "## Single Proportions"
   ]
  },
  {
   "cell_type": "markdown",
   "metadata": {},
   "source": [
    "### Lower Tail\n",
    "\n",
    "Suppose 60% of citizens voted in last election. 85 out of 148 people in a telephone survey said that they voted in current election. At 0.5 significance level, can we reject the null hypothesis that the proportion of voters in the population is above 60% this year?"
   ]
  },
  {
   "cell_type": "code",
   "execution_count": 15,
   "metadata": {
    "collapsed": false
   },
   "outputs": [
    {
     "data": {
      "text/plain": [
       "\n",
       "\t1-sample proportions test with continuity correction\n",
       "\n",
       "data:  85 out of 148, null probability 0.6\n",
       "X-squared = 0.30659, df = 1, p-value = 0.2899\n",
       "alternative hypothesis: true p is less than 0.6\n",
       "95 percent confidence interval:\n",
       " 0.000000 0.642502\n",
       "sample estimates:\n",
       "        p \n",
       "0.5743243 \n"
      ]
     },
     "metadata": {},
     "output_type": "display_data"
    }
   ],
   "source": [
    "prop.test(85, 148, p=.6, alt=\"less\") "
   ]
  },
  {
   "cell_type": "code",
   "execution_count": 16,
   "metadata": {
    "collapsed": false
   },
   "outputs": [
    {
     "data": {
      "text/plain": [
       "\n",
       "\t1-sample proportions test without continuity correction\n",
       "\n",
       "data:  85 out of 148, null probability 0.6\n",
       "X-squared = 0.40653, df = 1, p-value = 0.2619\n",
       "alternative hypothesis: true p is less than 0.6\n",
       "95 percent confidence interval:\n",
       " 0.0000000 0.6392527\n",
       "sample estimates:\n",
       "        p \n",
       "0.5743243 \n"
      ]
     },
     "metadata": {},
     "output_type": "display_data"
    }
   ],
   "source": [
    "prop.test(85, 148, p=.6, alt=\"less\", correct=FALSE) "
   ]
  },
  {
   "cell_type": "markdown",
   "metadata": {},
   "source": [
    "### Upper Tail\n",
    "\n",
    "Suppose that 12% of apples harvested in an orchard last year was rotten. 30 out of 214 apples in a harvest sample this year turns out to be rotten. At .05 significance level, can we reject the null hypothesis that the proportion of rotten apples in harvest stays below 12% this year?"
   ]
  },
  {
   "cell_type": "code",
   "execution_count": 17,
   "metadata": {
    "collapsed": false
   },
   "outputs": [
    {
     "data": {
      "text/plain": [
       "\n",
       "\t1-sample proportions test with continuity correction\n",
       "\n",
       "data:  30 out of 214, null probability 0.12\n",
       "X-squared = 0.64573, df = 1, p-value = 0.2108\n",
       "alternative hypothesis: true p is greater than 0.12\n",
       "95 percent confidence interval:\n",
       " 0.1035873 1.0000000\n",
       "sample estimates:\n",
       "        p \n",
       "0.1401869 \n"
      ]
     },
     "metadata": {},
     "output_type": "display_data"
    }
   ],
   "source": [
    "prop.test(30, 214, p=.12, alt=\"greater\") "
   ]
  },
  {
   "cell_type": "code",
   "execution_count": 18,
   "metadata": {
    "collapsed": false
   },
   "outputs": [
    {
     "data": {
      "text/plain": [
       "\n",
       "\t1-sample proportions test without continuity correction\n",
       "\n",
       "data:  30 out of 214, null probability 0.12\n",
       "X-squared = 0.82583, df = 1, p-value = 0.1817\n",
       "alternative hypothesis: true p is greater than 0.12\n",
       "95 percent confidence interval:\n",
       " 0.1056274 1.0000000\n",
       "sample estimates:\n",
       "        p \n",
       "0.1401869 \n"
      ]
     },
     "metadata": {},
     "output_type": "display_data"
    }
   ],
   "source": [
    "prop.test(30, 214, p=.12, alt=\"greater\", correct=FALSE) "
   ]
  },
  {
   "cell_type": "markdown",
   "metadata": {},
   "source": [
    "### Two-Tailed Test\n",
    "\n",
    "Suppose a coin toss turns up 12 heads out of 20 trials. At .05 significance level, can one reject the null hypothesis that the coin toss is fair?"
   ]
  },
  {
   "cell_type": "code",
   "execution_count": 19,
   "metadata": {
    "collapsed": false
   },
   "outputs": [
    {
     "data": {
      "text/plain": [
       "\n",
       "\t1-sample proportions test with continuity correction\n",
       "\n",
       "data:  12 out of 20, null probability 0.5\n",
       "X-squared = 0.45, df = 1, p-value = 0.5023\n",
       "alternative hypothesis: true p is not equal to 0.5\n",
       "95 percent confidence interval:\n",
       " 0.3641167 0.8002291\n",
       "sample estimates:\n",
       "  p \n",
       "0.6 \n"
      ]
     },
     "metadata": {},
     "output_type": "display_data"
    }
   ],
   "source": [
    "prop.test(12, 20, p=0.5) "
   ]
  },
  {
   "cell_type": "code",
   "execution_count": 20,
   "metadata": {
    "collapsed": false
   },
   "outputs": [
    {
     "data": {
      "text/plain": [
       "\n",
       "\t1-sample proportions test without continuity correction\n",
       "\n",
       "data:  12 out of 20, null probability 0.5\n",
       "X-squared = 0.8, df = 1, p-value = 0.3711\n",
       "alternative hypothesis: true p is not equal to 0.5\n",
       "95 percent confidence interval:\n",
       " 0.3865815 0.7811935\n",
       "sample estimates:\n",
       "  p \n",
       "0.6 \n"
      ]
     },
     "metadata": {},
     "output_type": "display_data"
    }
   ],
   "source": [
    "prop.test(12, 20, p=0.5, correct=FALSE) "
   ]
  },
  {
   "cell_type": "markdown",
   "metadata": {},
   "source": [
    "## Two Proportions"
   ]
  },
  {
   "cell_type": "markdown",
   "metadata": {},
   "source": [
    "Assuming that the data in quine follows the normal distribution, find the 95% confidence interval estimate of the difference between the female proportion of Aboriginal students and the female proportion of Non-Aboriginal students, each within their own ethnic group."
   ]
  },
  {
   "cell_type": "markdown",
   "metadata": {},
   "source": [
    "In the built-in data set named quine, children from an Australian town is classified by ethnic background, gender, age, learning status and the number of days absent from school."
   ]
  },
  {
   "cell_type": "code",
   "execution_count": 21,
   "metadata": {
    "collapsed": false
   },
   "outputs": [
    {
     "data": {
      "text/plain": [
       "   \n",
       "     F  M\n",
       "  A 38 31\n",
       "  N 42 35"
      ]
     },
     "metadata": {},
     "output_type": "display_data"
    }
   ],
   "source": [
    "library(MASS)         # load the MASS package \n",
    "table(quine$Eth, quine$Sex) "
   ]
  },
  {
   "cell_type": "code",
   "execution_count": 23,
   "metadata": {
    "collapsed": false
   },
   "outputs": [
    {
     "data": {
      "text/plain": [
       "\n",
       "\t2-sample test for equality of proportions with continuity correction\n",
       "\n",
       "data:  table(quine$Eth, quine$Sex)\n",
       "X-squared = 2.606e-30, df = 1, p-value = 1\n",
       "alternative hypothesis: two.sided\n",
       "95 percent confidence interval:\n",
       " -0.1616919  0.1722321\n",
       "sample estimates:\n",
       "   prop 1    prop 2 \n",
       "0.5507246 0.5454545 \n"
      ]
     },
     "metadata": {},
     "output_type": "display_data"
    }
   ],
   "source": [
    "prop.test(table(quine$Eth, quine$Sex)) "
   ]
  },
  {
   "cell_type": "code",
   "execution_count": 24,
   "metadata": {
    "collapsed": false
   },
   "outputs": [
    {
     "data": {
      "text/plain": [
       "\n",
       "\t2-sample test for equality of proportions without continuity\n",
       "\tcorrection\n",
       "\n",
       "data:  table(quine$Eth, quine$Sex)\n",
       "X-squared = 0.0040803, df = 1, p-value = 0.9491\n",
       "alternative hypothesis: two.sided\n",
       "95 percent confidence interval:\n",
       " -0.1564218  0.1669620\n",
       "sample estimates:\n",
       "   prop 1    prop 2 \n",
       "0.5507246 0.5454545 \n"
      ]
     },
     "metadata": {},
     "output_type": "display_data"
    }
   ],
   "source": [
    "prop.test(table(quine$Eth, quine$Sex), correct=FALSE) "
   ]
  },
  {
   "cell_type": "code",
   "execution_count": null,
   "metadata": {
    "collapsed": true
   },
   "outputs": [],
   "source": []
  }
 ],
 "metadata": {
  "kernelspec": {
   "display_name": "R",
   "language": "R",
   "name": "ir"
  },
  "language_info": {
   "codemirror_mode": "r",
   "file_extension": ".r",
   "mimetype": "text/x-r-source",
   "name": "R",
   "pygments_lexer": "r",
   "version": "3.2.4"
  }
 },
 "nbformat": 4,
 "nbformat_minor": 0
}
