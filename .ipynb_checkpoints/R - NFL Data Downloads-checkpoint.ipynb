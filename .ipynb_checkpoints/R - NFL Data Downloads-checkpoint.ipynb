{
 "cells": [
  {
   "cell_type": "code",
   "execution_count": null,
   "metadata": {
    "collapsed": true
   },
   "outputs": [],
   "source": [
    "# If necessary download the file (can be improved to download if > n days old)\n",
    "dbUrl <- \"http://burntsushi.net/stuff/nfldb/nfldb.sql.zip\"\n",
    "dbDir = \"D:/Data\"\n",
    "dbZipPath <- \"D:/Data/nfldb.zip.sql\"\n",
    "dbPath <- \"D:/Data/nfldb.sql\"\n",
    "dateDownloadedFile <- \"D:/Data/dateDownloaded.txt\"\n",
    "\n",
    "if (!file.exists(dbDir)) {\n",
    "  dir.create(dbDir)\n",
    "}\n",
    "\n",
    "if (!file.exists(dbPath)) {\n",
    "  download.file(dbUrl, destfile = dbZipPath)\n",
    "  unzip(dbZipPath, exdir=dbDir)\n",
    "  dateDownloaded <- date()\n",
    "  dateDownloaded\n",
    "  cat(dateDownloaded, file=dateDownloadedFile)\n",
    "  print(paste(\"Downloaded database\", dbPath, \"at\"))\n",
    "  cat(readChar(dateDownloadedFile, 1e5))\n",
    "} else if (file.exists(dateDownloadedFile)) {\n",
    "  print(paste(\"Database\", dbPath, \"downloaded on\"))\n",
    "  cat(readChar(dateDownloadedFile, 1e5))\n",
    "}"
   ]
  }
 ],
 "metadata": {
  "kernelspec": {
   "display_name": "R",
   "language": "R",
   "name": "ir"
  },
  "language_info": {
   "codemirror_mode": "r",
   "file_extension": ".r",
   "mimetype": "text/x-r-source",
   "name": "R",
   "pygments_lexer": "r",
   "version": "3.2.1"
  }
 },
 "nbformat": 4,
 "nbformat_minor": 0
}
