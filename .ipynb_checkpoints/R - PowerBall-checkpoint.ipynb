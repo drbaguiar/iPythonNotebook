{
 "cells": [
  {
   "cell_type": "code",
   "execution_count": null,
   "metadata": {
    "collapsed": false
   },
   "outputs": [],
   "source": [
    "##Clear the environment\n",
    "rm(list=ls())\n",
    "\n",
    "##Turn off scientific notations for numbers\n",
    "options(scipen = 999)  \n",
    "\n",
    "##Set locale\n",
    "Sys.setlocale(\"LC_ALL\", \"English\") \n",
    "\n",
    "##Set seed for reproducibility\n",
    "set.seed(2345)\n",
    "\n",
    "# Turn off warnings\n",
    "options(warn = -1)\n",
    "\n",
    "getstats <- function(cm){\n",
    "  # Sensititvity a.k.a TPR\n",
    "  tpr <-cm[2,2]/(cm[2,2]+cm[2,1])\n",
    "  fpr <-cm[1,2]/(cm[1,2]+cm[1,1])\n",
    "  \n",
    "  # Specificity a.k.a. TNR\n",
    "  tnr <- cm[1,1]/(cm[1,1]+cm[1,2])\n",
    "  fnr <- cm[2,1]/(cm[2,1]+cm[2,2])\n",
    "  \n",
    "  # Calculate accuracy\n",
    "  acc <-(cm[2,2]+cm[1,1])/sum(cm)\n",
    "  err <-(cm[1,2]+cm[2,1])/sum(cm)\n",
    "  \n",
    "  #Precision - Positive Predictive Value\n",
    "  ppv <- cm[2,2]/(cm[2,2]+cm[1,2])\n",
    "  \n",
    "  # Negative Predictive Value\n",
    "  npv <- cm[1,1]/(cm[1,1]+cm[2,1])\n",
    "  \n",
    "  rbind(TruePos_Sensitivity=tpr, FalsePos=fpr, TrueNeg_Specificty=tnr, FalseNeg=fnr, PositivePredictiveValue=ppv, NegativePredictiveValue=npv, Accuracy = acc, Error = err)\n",
    "}\n",
    "\n",
    "# clean the data names and data\n",
    "# Use: df<-cleanit(df)\n",
    "cleanit <-function(df){\n",
    "  names(df) <-tolower(names(df))\n",
    "  names(df) <- gsub(\"\\\\(\",\"\",names(df))\n",
    "  names(df) <- gsub(\"\\\\)\",\"\",names(df))\n",
    "  names(df) <- gsub(\"\\\\.\",\"\",names(df))\n",
    "  names(df) <- gsub(\"_\",\"\",names(df))\n",
    "  names(df) <- gsub(\"-\",\"\",names(df))\n",
    "  names(df) <- gsub(\",\",\"\",names(df))\n",
    "  return(df)\n",
    "}\n"
   ]
  },
  {
   "cell_type": "markdown",
   "metadata": {},
   "source": [
    "Beginning in October, 2015, Powerball® became an even larger combined large jackpot game and cash game. Every Wednesday and Saturday night at 10:59 p.m. Eastern Time, we draw five white balls out of a drum with 69 balls and one red ball out of a drum with 26 red balls. This change means bigger jackpots. It also means that your odds of winning some prize are improved.\n",
    "\n",
    "The jackpot - won by matching all five white balls in any order and the red Powerball - is either an annuitized prize paid out over 29 years (30 payments counting the first immediate payment) or a cash lump sum payment. If you choose the cash, then you get the cash, pay the tax, and can invest what is left over. If you choose the annuity, then we can invest the cash amount pre-tax, less an immediate first payment (more to invest means more earnings). With the annuity, you get an annual payment that is increased by 5% each year to keep up with the cost of living.\n",
    "\n",
    "The second prize - won by matching five white balls in any order - is $1,000,000 paid in cash (no annuity option). You win by matching at least three white ball numbmers. Any time you match the red Powerball, you win a prize. The overall odds of winning a prize in the game are approximately 1 in 25. Players win a prize by matching one of the 9 Ways to Win.\n",
    "\n",
    "Each ticket costs $2. Draw sales cut off at least 59 minutes before the draw, but a state may cut off sales earlier. Check with your state lottery for your cut-off time.\n",
    "\n",
    "To win the grand prize, the ticket must match all five numbers (in any order) and the red Powerball number.\n",
    "\n",
    "10/07/15  Game Change - Powerball 5/69 + 1/26\t\n",
    "5/69 + 1/26 matrix, jackpots start at $40 Million; Match 4 + PB now $50,000; Power Play 10X possible in draws for jackpots up to $150 Million; Still $2 per play; $1 extra for Power Play\n",
    "\n",
    "01/18/12 Game Change - Powerball 5/59 + 1/35\n",
    "5/59 + 1/35 matrix, jackpots start at $40 Million; Match 5 prize now $1 Million cash; Power Play prizes set dollar values; new price point $2 per play; $1 extra for Power Play\n",
    "\n",
    "01/07/09 Game Change - Powerball 5/59 + 1/39\n",
    "5/59 + 1/39 matrix, jackpots start at $20 Million; Power Play now selected using an RNG\n",
    "\n",
    "08/31/05 Game Change - Powerball 5/55 + 1/42\n",
    "5/55 + 1/42 matrix, jackpots start at $15 Million; Power Play wheel changed to 16 slots (2, 3, 4, 5 - four of each number)\n",
    "\n",
    "10/09/02  Game Change - Powerball 5/53 + 1/42\n",
    "5/53 + 1/42 matrix, jackpots start at $10 Million; Power Play wheel changed to 15 slots (3-2's; 3-3's; 3-4's; 6-5's)\n",
    "\n",
    "\n",
    "11/05/97  Game Change - Powerball 5/49 + 1/42\t\n",
    "5/49 + 1/42 matrix, jackpots start at $10 Million\n",
    "\n",
    "04/22/92 New Game - Powerball 5/45 + 1/45\t\n",
    "5/45 + 1/45 matrix, jackpots start at $2 Million"
   ]
  },
  {
   "cell_type": "code",
   "execution_count": null,
   "metadata": {
    "collapsed": false
   },
   "outputs": [],
   "source": [
    "# Choose\n",
    "#fname <- file.choose()\n",
    "df<- read.delim(\"http://www.powerball.com/powerball/winnums-text.txt\",sep = \"\",skip=1,header=FALSE)"
   ]
  },
  {
   "cell_type": "code",
   "execution_count": null,
   "metadata": {
    "collapsed": false
   },
   "outputs": [],
   "source": [
    "summary(df)"
   ]
  },
  {
   "cell_type": "code",
   "execution_count": null,
   "metadata": {
    "collapsed": false
   },
   "outputs": [],
   "source": [
    "# count blanks remove blanks\n",
    "#barplot(colSums(!is.na(df)))\n",
    "colSums(!is.na(df)) ## Count blanks\n",
    "#df <- na.omit(df) ## THis will remove blanks"
   ]
  },
  {
   "cell_type": "code",
   "execution_count": null,
   "metadata": {
    "collapsed": false
   },
   "outputs": [],
   "source": [
    "plot(df[,-1])"
   ]
  },
  {
   "cell_type": "code",
   "execution_count": null,
   "metadata": {
    "collapsed": false
   },
   "outputs": [],
   "source": [
    "par(mfrow=c(3,2))\n",
    "hist(df$V2)\n",
    "abline(v=mean(df$V2),col=\"red\")\n",
    "hist(df$V3)\n",
    "abline(v=mean(df$V3),col=\"red\")\n",
    "hist(df$V4)\n",
    "abline(v=mean(df$V4),col=\"red\")\n",
    "hist(df$V5)\n",
    "abline(v=mean(df$V5),col=\"red\")\n",
    "hist(df$V6)\n",
    "abline(v=mean(df$V6),col=\"red\")\n",
    "hist(df$V7)\n",
    "abline(v=mean(df$V7),col=\"red\")"
   ]
  },
  {
   "cell_type": "code",
   "execution_count": null,
   "metadata": {
    "collapsed": false
   },
   "outputs": [],
   "source": [
    "n1<-head(sort(table(df$V2),decreasing=TRUE))\n",
    "n2<-head(sort(table(df$V3),decreasing=TRUE))\n",
    "n3<-head(sort(table(df$V4),decreasing=TRUE))\n",
    "n4<-head(sort(table(df$V5),decreasing=TRUE))\n",
    "n5<-head(sort(table(df$V6),decreasing=TRUE))\n",
    "n6<-head(sort(table(df$V7),decreasing=TRUE))"
   ]
  },
  {
   "cell_type": "code",
   "execution_count": null,
   "metadata": {
    "collapsed": false
   },
   "outputs": [],
   "source": [
    "c(n1[1],n2[1],n3[1],n4[1],n5[2],n6[1])\n",
    "c(n1[2],n2[2],n3[2],n4[2],n5[1],n6[2])\n",
    "c(n1[3],n2[3],n3[3],n4[3],n5[3],n6[3])\n",
    "c(n1[5],n2[4],n3[4],n4[4],n5[4],n6[4])\n",
    "c(n1[4],n2[5],n3[5],n4[5],n5[5],n6[5])"
   ]
  },
  {
   "cell_type": "code",
   "execution_count": null,
   "metadata": {
    "collapsed": false
   },
   "outputs": [],
   "source": [
    "sort(table(df$V3))"
   ]
  },
  {
   "cell_type": "code",
   "execution_count": null,
   "metadata": {
    "collapsed": false
   },
   "outputs": [],
   "source": [
    "df"
   ]
  },
  {
   "cell_type": "code",
   "execution_count": null,
   "metadata": {
    "collapsed": false
   },
   "outputs": [],
   "source": [
    "sort(table(df$V2))"
   ]
  },
  {
   "cell_type": "code",
   "execution_count": null,
   "metadata": {
    "collapsed": false
   },
   "outputs": [],
   "source": []
  },
  {
   "cell_type": "code",
   "execution_count": null,
   "metadata": {
    "collapsed": true
   },
   "outputs": [],
   "source": []
  }
 ],
 "metadata": {
  "kernelspec": {
   "display_name": "R",
   "language": "R",
   "name": "ir"
  },
  "language_info": {
   "codemirror_mode": "r",
   "file_extension": ".r",
   "mimetype": "text/x-r-source",
   "name": "R",
   "pygments_lexer": "r",
   "version": "3.1.3"
  }
 },
 "nbformat": 4,
 "nbformat_minor": 0
}
