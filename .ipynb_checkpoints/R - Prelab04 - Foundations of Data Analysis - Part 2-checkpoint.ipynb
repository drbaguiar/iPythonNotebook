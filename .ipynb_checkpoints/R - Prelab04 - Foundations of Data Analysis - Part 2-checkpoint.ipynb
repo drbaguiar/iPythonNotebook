{
 "cells": [
  {
   "cell_type": "code",
   "execution_count": 1,
   "metadata": {
    "collapsed": false
   },
   "outputs": [
    {
     "data": {
      "text/html": [
       "\"LC_COLLATE=English_United States.1252;LC_CTYPE=English_United States.1252;LC_MONETARY=English_United States.1252;LC_NUMERIC=C;LC_TIME=English_United States.1252\""
      ],
      "text/latex": [
       "\"LC_COLLATE=English_United States.1252;LC_CTYPE=English_United States.1252;LC_MONETARY=English_United States.1252;LC_NUMERIC=C;LC_TIME=English_United States.1252\""
      ],
      "text/markdown": [
       "\"LC_COLLATE=English_United States.1252;LC_CTYPE=English_United States.1252;LC_MONETARY=English_United States.1252;LC_NUMERIC=C;LC_TIME=English_United States.1252\""
      ],
      "text/plain": [
       "[1] \"LC_COLLATE=English_United States.1252;LC_CTYPE=English_United States.1252;LC_MONETARY=English_United States.1252;LC_NUMERIC=C;LC_TIME=English_United States.1252\""
      ]
     },
     "execution_count": 1,
     "metadata": {},
     "output_type": "execute_result"
    }
   ],
   "source": [
    "##Clear the environment\n",
    "rm(list=ls())\n",
    "\n",
    "##Turn off scientific notations for numbers\n",
    "options(scipen = 999)  \n",
    "\n",
    "##Set locale\n",
    "Sys.setlocale(\"LC_ALL\", \"English\") \n",
    "\n",
    "##Set seed for reproducibility\n",
    "set.seed(2345)\n",
    "\n",
    "# Turn off warnings\n",
    "options(warn = -1)\n",
    "\n",
    "getstats <- function(cm){\n",
    "  # Sensititvity a.k.a TPR\n",
    "  tpr <-cm[2,2]/(cm[2,2]+cm[2,1])\n",
    "  fpr <-cm[1,2]/(cm[1,2]+cm[1,1])\n",
    "  \n",
    "  # Specificity a.k.a. TNR\n",
    "  tnr <- cm[1,1]/(cm[1,1]+cm[1,2])\n",
    "  fnr <- cm[2,1]/(cm[2,1]+cm[2,2])\n",
    "  \n",
    "  # Calculate accuracy\n",
    "  acc <-(cm[2,2]+cm[1,1])/sum(cm)\n",
    "  err <-(cm[1,2]+cm[2,1])/sum(cm)\n",
    "  \n",
    "  #Precision - Positive Predictive Value\n",
    "  ppv <- cm[2,2]/(cm[2,2]+cm[1,2])\n",
    "  \n",
    "  # Negative Predictive Value\n",
    "  npv <- cm[1,1]/(cm[1,1]+cm[2,1])\n",
    "  \n",
    "  rbind(TruePos_Sensitivity=tpr, FalsePos=fpr, TrueNeg_Specificty=tnr, FalseNeg=fnr, PositivePredictiveValue=ppv, NegativePredictiveValue=npv, Accuracy = acc, Error = err)\n",
    "}\n",
    "\n",
    "# clean the data names and data\n",
    "# Use: df<-cleanit(df)\n",
    "cleanit <-function(df){\n",
    "  names(df) <-tolower(names(df))\n",
    "  names(df) <- gsub(\"\\\\(\",\"\",names(df))\n",
    "  names(df) <- gsub(\"\\\\)\",\"\",names(df))\n",
    "  names(df) <- gsub(\"\\\\.\",\"\",names(df))\n",
    "  names(df) <- gsub(\"_\",\"\",names(df))\n",
    "  names(df) <- gsub(\"-\",\"\",names(df))\n",
    "  names(df) <- gsub(\",\",\"\",names(df))\n",
    "  return(df)\n",
    "}\n"
   ]
  },
  {
   "cell_type": "code",
   "execution_count": 2,
   "metadata": {
    "collapsed": true
   },
   "outputs": [],
   "source": [
    "acl <- read.csv(\"D:/Data/AustinCityLimits.csv\")"
   ]
  },
  {
   "cell_type": "code",
   "execution_count": 3,
   "metadata": {
    "collapsed": false
   },
   "outputs": [
    {
     "name": "stdout",
     "output_type": "stream",
     "text": [
      "'data.frame':\t116 obs. of  14 variables:\n",
      " $ Artist       : Factor w/ 116 levels \"Aimee Mann\",\"Alabama Shakes\",..: 1 2 3 4 5 6 7 8 9 10 ...\n",
      " $ Year         : int  2008 2013 2009 2009 2007 2009 2010 2009 2003 2008 ...\n",
      " $ Month        : Factor w/ 6 levels \"December\",\"February\",..: 4 2 3 5 4 4 3 4 3 5 ...\n",
      " $ Season       : Factor w/ 2 levels \"fall\",\"winter\": 1 2 2 1 1 1 2 1 2 1 ...\n",
      " $ Gender       : Factor w/ 2 levels \"F\",\"M\": 1 1 2 2 1 2 2 2 2 1 ...\n",
      " $ Age          : int  52 24 75 39 33 62 37 35 43 67 ...\n",
      " $ Age.Group    : Factor w/ 4 levels \"Fifties or Older\",..: 1 4 1 3 3 1 3 3 2 1 ...\n",
      " $ Grammy       : Factor w/ 2 levels \"N\",\"Y\": 2 1 1 1 2 2 1 1 2 1 ...\n",
      " $ Genre        : Factor w/ 4 levels \"Country\",\"Jazz/Blues\",..: 4 3 2 3 3 1 3 3 3 2 ...\n",
      " $ BB.wk.top10  : int  0 1 NA 1 1 0 1 NA 1 0 ...\n",
      " $ Twitter      : int  101870 73313 308634 56343 404439 3326 125758 8197 158647 690 ...\n",
      " $ Twitter.100k : int  1 0 1 0 1 0 1 0 1 0 ...\n",
      " $ Facebook     : int  113576 298278 10721 318313 1711685 27321 563505 18955 1381051 1715 ...\n",
      " $ Facebook.100k: int  1 1 0 1 1 0 1 0 1 0 ...\n"
     ]
    }
   ],
   "source": [
    "str(acl)"
   ]
  },
  {
   "cell_type": "code",
   "execution_count": 11,
   "metadata": {
    "collapsed": false
   },
   "outputs": [
    {
     "data": {
      "text/html": [
       "<table>\n",
       "<thead><tr><th></th><th scope=col>Artist</th><th scope=col>Year</th><th scope=col>Month</th><th scope=col>Season</th><th scope=col>Gender</th><th scope=col>Age</th><th scope=col>Age.Group</th><th scope=col>Grammy</th><th scope=col>Genre</th><th scope=col>BB.wk.top10</th><th scope=col>Twitter</th><th scope=col>Twitter.100k</th><th scope=col>Facebook</th><th scope=col>Facebook.100k</th></tr></thead>\n",
       "<tbody>\n",
       "\t<tr><th scope=row>3</th><td>Allen Toussaint</td><td>2009</td><td>January</td><td>winter</td><td>M</td><td>75</td><td>Fifties or Older</td><td>N</td><td>Jazz/Blues</td><td>NA</td><td>308634</td><td>1</td><td>10721</td><td>0</td></tr>\n",
       "</tbody>\n",
       "</table>\n"
      ],
      "text/latex": [
       "\\begin{tabular}{r|llllllllllllll}\n",
       "  & Artist & Year & Month & Season & Gender & Age & Age.Group & Grammy & Genre & BB.wk.top10 & Twitter & Twitter.100k & Facebook & Facebook.100k\\\\\n",
       "\\hline\n",
       "\t3 & Allen Toussaint & 2009 & January & winter & M & 75 & Fifties or Older & N & Jazz/Blues & NA & 308634 & 1 & 10721 & 0\\\\\n",
       "\\end{tabular}\n"
      ],
      "text/plain": [
       "           Artist Year   Month Season Gender Age        Age.Group Grammy\n",
       "3 Allen Toussaint 2009 January winter      M  75 Fifties or Older      N\n",
       "       Genre BB.wk.top10 Twitter Twitter.100k Facebook Facebook.100k\n",
       "3 Jazz/Blues          NA  308634            1    10721             0"
      ]
     },
     "execution_count": 11,
     "metadata": {},
     "output_type": "execute_result"
    }
   ],
   "source": [
    "acl[acl$Artist==\"Allen Toussaint\",]"
   ]
  },
  {
   "cell_type": "code",
   "execution_count": 10,
   "metadata": {
    "collapsed": false
   },
   "outputs": [
    {
     "data": {
      "text/html": [
       "<table>\n",
       "<thead><tr><th></th><th scope=col>Artist</th><th scope=col>Year</th><th scope=col>Month</th><th scope=col>Season</th><th scope=col>Gender</th><th scope=col>Age</th><th scope=col>Age.Group</th><th scope=col>Grammy</th><th scope=col>Genre</th><th scope=col>BB.wk.top10</th><th scope=col>Twitter</th><th scope=col>Twitter.100k</th><th scope=col>Facebook</th><th scope=col>Facebook.100k</th></tr></thead>\n",
       "<tbody>\n",
       "\t<tr><th scope=row>1</th><td>Aimee Mann</td><td>2008</td><td>November</td><td>fall</td><td>F</td><td>52</td><td>Fifties or Older</td><td>Y</td><td>Singer-Songwriter</td><td>0</td><td>101870</td><td>1</td><td>113576</td><td>1</td></tr>\n",
       "\t<tr><th scope=row>2</th><td>Alabama Shakes</td><td>2013</td><td>February</td><td>winter</td><td>F</td><td>24</td><td>Twenties</td><td>N</td><td>Rock/Folk/Indie</td><td>1</td><td>73313</td><td>0</td><td>298278</td><td>1</td></tr>\n",
       "\t<tr><th scope=row>3</th><td>Allen Toussaint</td><td>2009</td><td>January</td><td>winter</td><td>M</td><td>75</td><td>Fifties or Older</td><td>N</td><td>Jazz/Blues</td><td>NA</td><td>308634</td><td>1</td><td>10721</td><td>0</td></tr>\n",
       "\t<tr><th scope=row>4</th><td>Andrew Bird</td><td>2009</td><td>October</td><td>fall</td><td>M</td><td>39</td><td>Thirties</td><td>N</td><td>Rock/Folk/Indie</td><td>1</td><td>56343</td><td>0</td><td>318313</td><td>1</td></tr>\n",
       "\t<tr><th scope=row>5</th><td>Arcade Fire</td><td>2007</td><td>November</td><td>fall</td><td>F</td><td>33</td><td>Thirties</td><td>Y</td><td>Rock/Folk/Indie</td><td>1</td><td>404439</td><td>1</td><td>1711685</td><td>1</td></tr>\n",
       "\t<tr><th scope=row>6</th><td>Asleep at the Wheel</td><td>2009</td><td>November</td><td>fall</td><td>M</td><td>62</td><td>Fifties or Older</td><td>Y</td><td>Country</td><td>0</td><td>3326</td><td>0</td><td>27321</td><td>0</td></tr>\n",
       "</tbody>\n",
       "</table>\n"
      ],
      "text/latex": [
       "\\begin{tabular}{r|llllllllllllll}\n",
       "  & Artist & Year & Month & Season & Gender & Age & Age.Group & Grammy & Genre & BB.wk.top10 & Twitter & Twitter.100k & Facebook & Facebook.100k\\\\\n",
       "\\hline\n",
       "\t1 & Aimee Mann & 2008 & November & fall & F & 52 & Fifties or Older & Y & Singer-Songwriter & 0 & 101870 & 1 & 113576 & 1\\\\\n",
       "\t2 & Alabama Shakes & 2013 & February & winter & F & 24 & Twenties & N & Rock/Folk/Indie & 1 & 73313 & 0 & 298278 & 1\\\\\n",
       "\t3 & Allen Toussaint & 2009 & January & winter & M & 75 & Fifties or Older & N & Jazz/Blues & NA & 308634 & 1 & 10721 & 0\\\\\n",
       "\t4 & Andrew Bird & 2009 & October & fall & M & 39 & Thirties & N & Rock/Folk/Indie & 1 & 56343 & 0 & 318313 & 1\\\\\n",
       "\t5 & Arcade Fire & 2007 & November & fall & F & 33 & Thirties & Y & Rock/Folk/Indie & 1 & 404439 & 1 & 1711685 & 1\\\\\n",
       "\t6 & Asleep at the Wheel & 2009 & November & fall & M & 62 & Fifties or Older & Y & Country & 0 & 3326 & 0 & 27321 & 0\\\\\n",
       "\\end{tabular}\n"
      ],
      "text/plain": [
       "               Artist Year    Month Season Gender Age        Age.Group Grammy\n",
       "1          Aimee Mann 2008 November   fall      F  52 Fifties or Older      Y\n",
       "2      Alabama Shakes 2013 February winter      F  24         Twenties      N\n",
       "3     Allen Toussaint 2009  January winter      M  75 Fifties or Older      N\n",
       "4         Andrew Bird 2009  October   fall      M  39         Thirties      N\n",
       "5         Arcade Fire 2007 November   fall      F  33         Thirties      Y\n",
       "6 Asleep at the Wheel 2009 November   fall      M  62 Fifties or Older      Y\n",
       "              Genre BB.wk.top10 Twitter Twitter.100k Facebook Facebook.100k\n",
       "1 Singer-Songwriter           0  101870            1   113576             1\n",
       "2   Rock/Folk/Indie           1   73313            0   298278             1\n",
       "3        Jazz/Blues          NA  308634            1    10721             0\n",
       "4   Rock/Folk/Indie           1   56343            0   318313             1\n",
       "5   Rock/Folk/Indie           1  404439            1  1711685             1\n",
       "6           Country           0    3326            0    27321             0"
      ]
     },
     "execution_count": 10,
     "metadata": {},
     "output_type": "execute_result"
    }
   ],
   "source": [
    "head(acl)"
   ]
  },
  {
   "cell_type": "markdown",
   "metadata": {},
   "source": [
    "Primary Research Questions\n",
    "1. Are there an equal number of male and female performers on Austin City Limits?\n",
    "2. Are male performers just as likely to have had a Top 10 hit as female performers?"
   ]
  },
  {
   "cell_type": "code",
   "execution_count": 13,
   "metadata": {
    "collapsed": false
   },
   "outputs": [
    {
     "data": {
      "text/plain": [
       "\n",
       " F  M \n",
       "35 81 "
      ]
     },
     "execution_count": 13,
     "metadata": {},
     "output_type": "execute_result"
    }
   ],
   "source": [
    "# Create a table of counts for Gender\n",
    "gender_tab <-table(acl$Gender)\n",
    "gender_tab"
   ]
  },
  {
   "cell_type": "code",
   "execution_count": 14,
   "metadata": {
    "collapsed": true
   },
   "outputs": [],
   "source": [
    "# Create vector of expected proportions\n",
    "ExpGender <- c(.50, .50)"
   ]
  },
  {
   "cell_type": "code",
   "execution_count": 15,
   "metadata": {
    "collapsed": false
   },
   "outputs": [
    {
     "data": {
      "text/html": [
       "<dl class=dl-horizontal>\n",
       "\t<dt>F</dt>\n",
       "\t\t<dd>58</dd>\n",
       "\t<dt>M</dt>\n",
       "\t\t<dd>58</dd>\n",
       "</dl>\n"
      ],
      "text/latex": [
       "\\begin{description*}\n",
       "\\item[F] 58\n",
       "\\item[M] 58\n",
       "\\end{description*}\n"
      ],
      "text/markdown": [
       "F\n",
       ":   58M\n",
       ":   58\n",
       "\n"
      ],
      "text/plain": [
       " F  M \n",
       "58 58 "
      ]
     },
     "execution_count": 15,
     "metadata": {},
     "output_type": "execute_result"
    }
   ],
   "source": [
    "# Check expected counts assumption\n",
    "chisq.test(gender_tab, p=ExpGender)$expected"
   ]
  },
  {
   "cell_type": "code",
   "execution_count": 16,
   "metadata": {
    "collapsed": false
   },
   "outputs": [
    {
     "data": {
      "text/plain": [
       "\n",
       "\tChi-squared test for given probabilities\n",
       "\n",
       "data:  gender_tab\n",
       "X-squared = 18.2414, df = 1, p-value = 0.00001946\n"
      ]
     },
     "execution_count": 16,
     "metadata": {},
     "output_type": "execute_result"
    }
   ],
   "source": [
    "# Run goodness of fit\n",
    "chisq.test(gender_tab, p=ExpGender)"
   ]
  },
  {
   "cell_type": "code",
   "execution_count": 18,
   "metadata": {
    "collapsed": false
   },
   "outputs": [
    {
     "data": {
      "text/plain": [
       "   \n",
       "     0  1\n",
       "  F 15 18\n",
       "  M 38 32"
      ]
     },
     "execution_count": 18,
     "metadata": {},
     "output_type": "execute_result"
    }
   ],
   "source": [
    "# Create two-way table\n",
    "gender_top10 <-table(acl$Gender, acl$BB.wk.top10)\n",
    "gender_top10"
   ]
  },
  {
   "cell_type": "code",
   "execution_count": 19,
   "metadata": {
    "collapsed": false
   },
   "outputs": [
    {
     "data": {
      "text/html": [
       "<table>\n",
       "<thead><tr><th></th><th scope=col>0</th><th scope=col>1</th></tr></thead>\n",
       "<tbody>\n",
       "\t<tr><th scope=row>F</th><td>16.98058</td><td>16.01942</td></tr>\n",
       "\t<tr><th scope=row>M</th><td>36.01942</td><td>33.98058</td></tr>\n",
       "</tbody>\n",
       "</table>\n"
      ],
      "text/latex": [
       "\\begin{tabular}{r|ll}\n",
       "  & 0 & 1\\\\\n",
       "\\hline\n",
       "\tF & 16.98058 & 16.01942\\\\\n",
       "\tM & 36.01942 & 33.98058\\\\\n",
       "\\end{tabular}\n"
      ],
      "text/markdown": [
       "1. 16.9805825242718\n",
       "2. 36.0194174757282\n",
       "3. 16.0194174757282\n",
       "4. 33.9805825242718\n",
       "\n",
       "\n"
      ],
      "text/plain": [
       "   \n",
       "           0        1\n",
       "  F 16.98058 16.01942\n",
       "  M 36.01942 33.98058"
      ]
     },
     "execution_count": 19,
     "metadata": {},
     "output_type": "execute_result"
    }
   ],
   "source": [
    "# Generate expected counts\n",
    "chisq.test(gender_top10, correct=FALSE)$expected"
   ]
  },
  {
   "cell_type": "code",
   "execution_count": 20,
   "metadata": {
    "collapsed": false
   },
   "outputs": [
    {
     "data": {
      "text/plain": [
       "\n",
       "\tPearson's Chi-squared test\n",
       "\n",
       "data:  gender_top10\n",
       "X-squared = 0.7002, df = 1, p-value = 0.4027\n"
      ]
     },
     "execution_count": 20,
     "metadata": {},
     "output_type": "execute_result"
    }
   ],
   "source": [
    "\n",
    "# Run test of independence\n",
    "chisq.test(gender_top10, correct=FALSE)"
   ]
  },
  {
   "cell_type": "code",
   "execution_count": 21,
   "metadata": {
    "collapsed": false
   },
   "outputs": [
    {
     "data": {
      "text/plain": [
       "\n",
       "  fall winter \n",
       "    52     64 "
      ]
     },
     "execution_count": 21,
     "metadata": {},
     "output_type": "execute_result"
    }
   ],
   "source": [
    "table(acl$Season)"
   ]
  },
  {
   "cell_type": "code",
   "execution_count": null,
   "metadata": {
    "collapsed": false
   },
   "outputs": [],
   "source": [
    "### Lab Question 1\n",
    "\n",
    "# Make a vector of happiness scores for each sample\n",
    "underclass_happy <- post$happy[post$classification=='Freshman'|post$classification=='Sophomore']\n",
    "upperclass_happy <- post$happy[post$classification=='Junior'|post$classification=='Senior']"
   ]
  },
  {
   "cell_type": "code",
   "execution_count": null,
   "metadata": {
    "collapsed": false
   },
   "outputs": [],
   "source": [
    "# Check the normality assumption\n",
    "hist(underclass_happy, xlab='Underclassman Happiness', main='Percent of Time Happy')\n",
    "hist(upperclass_happy, xlab='Upperclassman Happiness', main='Percent of Time Happy')"
   ]
  },
  {
   "cell_type": "code",
   "execution_count": null,
   "metadata": {
    "collapsed": false,
    "scrolled": true
   },
   "outputs": [],
   "source": [
    "# Run independent t-test\n",
    "t.test(underclass_happy, upperclass_happy)"
   ]
  },
  {
   "cell_type": "code",
   "execution_count": null,
   "metadata": {
    "collapsed": false
   },
   "outputs": [],
   "source": [
    "## Lab Question 2\n",
    "\n",
    "# Make a vector of difference scores\n",
    "post$diff_happy <- post$happy - post$post_happy"
   ]
  },
  {
   "cell_type": "code",
   "execution_count": null,
   "metadata": {
    "collapsed": false
   },
   "outputs": [],
   "source": [
    "# Check the normality assumption\n",
    "hist(post$diff_happy, xlab= 'Difference in Happiness over the Semester', main = 'Happy-Post Happy')"
   ]
  },
  {
   "cell_type": "code",
   "execution_count": null,
   "metadata": {
    "collapsed": false
   },
   "outputs": [],
   "source": [
    "# Run dependent t-test\n",
    "t.test(post$happy, post$post_happy, paired=T)"
   ]
  },
  {
   "cell_type": "code",
   "execution_count": null,
   "metadata": {
    "collapsed": false
   },
   "outputs": [],
   "source": [
    "#Suppose we wanted to test the happiness scores of those who live on campus against those who live off campus. What has caused the error below?\n",
    "\n",
    "on_campus <- post[post$live_campus == 'yes',]\n",
    "off_campus <- post[post$live_campus == 'no',]\n",
    "on_campus_happy <- on_campus$happy\n",
    "off_campus_happy <- off_campus$happy\n",
    "t.test(on_campus_happy, off_campus_happy)\n"
   ]
  },
  {
   "cell_type": "markdown",
   "metadata": {
    "collapsed": true
   },
   "source": [
    "## Lab\n",
    "\n",
    "Let’s break this question down into the different statistics that you will need to construct your answer.  Be sure that your R output includes all of the following components. \n",
    "\n",
    "For each hypothesis test, \n",
    "\n",
    "1. Create vectors of the scores that you wish to analyze.\n",
    "2. Check the assumption of normality by generating a histogram for each variable of interest. \n",
    "3. Find the t-statistic and p-value.\n",
    "4. Interpret the results of each test. \n",
    "\n",
    "\n",
    "NOTE:  If you are running directional hypotheses tests, remember that you must modify the code to reflect this direction.\n",
    "A one-sided test looks like this:   \n",
    "\n",
    "t.test(Variable1, Variable2, alternative = 'less'), when you expect Mean1 < Mean2\n",
    "\n",
    "t.test(Variable1, Variable2, alternative = 'greater'), when you expect Mean1 > Mean2"
   ]
  },
  {
   "cell_type": "code",
   "execution_count": null,
   "metadata": {
    "collapsed": false
   },
   "outputs": [],
   "source": [
    "hs_hours <- post$hw_hours_HS \n",
    "col_hours<- post$hw_hours_college"
   ]
  },
  {
   "cell_type": "code",
   "execution_count": null,
   "metadata": {
    "collapsed": false
   },
   "outputs": [],
   "source": [
    "hist(hs_hours)"
   ]
  },
  {
   "cell_type": "code",
   "execution_count": null,
   "metadata": {
    "collapsed": false
   },
   "outputs": [],
   "source": [
    "hist(col_hours)"
   ]
  },
  {
   "cell_type": "markdown",
   "metadata": {
    "collapsed": false
   },
   "source": [
    "On average, students spent how many hours more on homework each week in college than they did in high school? (round to 2 decimal)"
   ]
  },
  {
   "cell_type": "code",
   "execution_count": null,
   "metadata": {
    "collapsed": false
   },
   "outputs": [],
   "source": [
    "diff_hours <- col_hours - hs_hours"
   ]
  },
  {
   "cell_type": "code",
   "execution_count": null,
   "metadata": {
    "collapsed": false
   },
   "outputs": [],
   "source": [
    "hist(diff_hours)"
   ]
  },
  {
   "cell_type": "code",
   "execution_count": null,
   "metadata": {
    "collapsed": false
   },
   "outputs": [],
   "source": [
    "t.test(diff_hours,alternative = 'greater')"
   ]
  },
  {
   "cell_type": "code",
   "execution_count": null,
   "metadata": {
    "collapsed": false
   },
   "outputs": [],
   "source": [
    "t.test(col_hours,hs_hours,paired=TRUE,alternative = 'greater')"
   ]
  },
  {
   "cell_type": "markdown",
   "metadata": {
    "collapsed": false
   },
   "source": [
    "On average, students who are Greek sleep how many hours less than Non-Greek students on Saturday nights? (report to 1 decimal place)"
   ]
  },
  {
   "cell_type": "code",
   "execution_count": null,
   "metadata": {
    "collapsed": false
   },
   "outputs": [],
   "source": [
    "greek <- post[post$greek == 'yes',]\n",
    "no_greek <- post[post$greek == 'no',]\n",
    "greek_sleep <- greek$sleep_Sat\n",
    "no_greek_sleep <- no_greek$sleep_Sat"
   ]
  },
  {
   "cell_type": "code",
   "execution_count": null,
   "metadata": {
    "collapsed": false
   },
   "outputs": [],
   "source": [
    "hist(greek_sleep)"
   ]
  },
  {
   "cell_type": "code",
   "execution_count": null,
   "metadata": {
    "collapsed": false
   },
   "outputs": [],
   "source": [
    "hist(no_greek_sleep)"
   ]
  },
  {
   "cell_type": "code",
   "execution_count": null,
   "metadata": {
    "collapsed": false
   },
   "outputs": [],
   "source": [
    "t.test(greek_sleep, no_greek_sleep, alternative='less')"
   ]
  },
  {
   "cell_type": "code",
   "execution_count": null,
   "metadata": {
    "collapsed": false
   },
   "outputs": [],
   "source": [
    "mean(greek_sleep - no_greek_sleep)"
   ]
  },
  {
   "cell_type": "markdown",
   "metadata": {},
   "source": [
    "## Problem Set\n",
    "\n",
    "Is the increase in time spent studying from high school to college the same for nursing majors and biology majors?  \n",
    "\n",
    "1. Create a new variable that equals the difference in hours spent studying per week in college versus high school for each student. \n",
    "\n",
    "2. Create two vectors of those differences, one for nursing majors and one for biology majors."
   ]
  },
  {
   "cell_type": "code",
   "execution_count": null,
   "metadata": {
    "collapsed": false
   },
   "outputs": [],
   "source": [
    "post$diff_hours <- post$hw_hours_college - post$hw_hours_HS \n",
    "bio_major <- post[post$major == 'Biology',]\n",
    "nurse_major <- post[post$major == 'Nursing',]\n",
    "bio_diff<-bio_major$diff_hours\n",
    "nurse_diff<-nurse_major$diff_hours"
   ]
  },
  {
   "cell_type": "code",
   "execution_count": null,
   "metadata": {
    "collapsed": false
   },
   "outputs": [],
   "source": [
    "hist(bio_diff)"
   ]
  },
  {
   "cell_type": "code",
   "execution_count": null,
   "metadata": {
    "collapsed": false
   },
   "outputs": [],
   "source": [
    "hist(nurse_diff)"
   ]
  },
  {
   "cell_type": "code",
   "execution_count": null,
   "metadata": {
    "collapsed": false
   },
   "outputs": [],
   "source": [
    "t.test(bio_diff,nurse_diff)"
   ]
  },
  {
   "cell_type": "code",
   "execution_count": null,
   "metadata": {
    "collapsed": true
   },
   "outputs": [],
   "source": []
  }
 ],
 "metadata": {
  "kernelspec": {
   "display_name": "R",
   "language": "R",
   "name": "ir"
  },
  "language_info": {
   "codemirror_mode": "r",
   "file_extension": ".r",
   "mimetype": "text/x-r-source",
   "name": "R",
   "pygments_lexer": "r",
   "version": "3.1.3"
  }
 },
 "nbformat": 4,
 "nbformat_minor": 0
}
