{
 "cells": [
  {
   "cell_type": "code",
   "execution_count": 3,
   "metadata": {
    "collapsed": false
   },
   "outputs": [],
   "source": [
    "# Import  with read_csv(): \n",
    "times<- read.csv(\"D:/Data/NYTimes.csv \")"
   ]
  },
  {
   "cell_type": "code",
   "execution_count": 4,
   "metadata": {
    "collapsed": false
   },
   "outputs": [
    {
     "data": {
      "text/html": [
       "<table>\n",
       "<thead><tr><th></th><th scope=col>FIPS</th><th scope=col>State</th><th scope=col>County</th><th scope=col>Population</th><th scope=col>Recipients</th><th scope=col>PctOnFoodStamps</th><th scope=col>PctOfChildrenOnFoodstamps</th><th scope=col>PctOfBlacksOnFoodstamps</th><th scope=col>PctOfWhitesOnFoodstamps</th><th scope=col>Chg07to09</th></tr></thead>\n",
       "<tbody>\n",
       "\t<tr><th scope=row>1</th><td>2013</td><td>AK</td><td>Aleutians East Borough</td><td>2816</td><td>113</td><td>4</td><td>13</td><td>4</td><td>2</td><td>27</td></tr>\n",
       "\t<tr><th scope=row>2</th><td>2016</td><td>AK</td><td>Aleutians West Census Area</td><td>4392</td><td>144</td><td>3</td><td>12</td><td>3</td><td>1</td><td>92</td></tr>\n",
       "\t<tr><th scope=row>3</th><td>2020</td><td>AK</td><td>Anchorage Municipality</td><td>280954</td><td>23622</td><td>8</td><td>15</td><td>17</td><td>4</td><td>28</td></tr>\n",
       "\t<tr><th scope=row>4</th><td>2050</td><td>AK</td><td>Bethel Census Area</td><td>17342</td><td>6178</td><td>36</td><td>49</td><td>10</td><td>3</td><td>11</td></tr>\n",
       "\t<tr><th scope=row>5</th><td>2060</td><td>AK</td><td>Bristol Bay Borough</td><td>919</td><td>53</td><td>6</td><td>9</td><td>13</td><td>3</td><td>10</td></tr>\n",
       "\t<tr><th scope=row>6</th><td>2068</td><td>AK</td><td>Denali Borough</td><td>1865</td><td>43</td><td>2</td><td>4</td><td>0</td><td>2</td><td>13</td></tr>\n",
       "</tbody>\n",
       "</table>\n"
      ],
      "text/latex": [
       "\\begin{tabular}{r|llllllllll}\n",
       "  & FIPS & State & County & Population & Recipients & PctOnFoodStamps & PctOfChildrenOnFoodstamps & PctOfBlacksOnFoodstamps & PctOfWhitesOnFoodstamps & Chg07to09\\\\\n",
       "\\hline\n",
       "\t1 & 2013 & AK & Aleutians East Borough & 2816 & 113 & 4 & 13 & 4 & 2 & 27\\\\\n",
       "\t2 & 2016 & AK & Aleutians West Census Area & 4392 & 144 & 3 & 12 & 3 & 1 & 92\\\\\n",
       "\t3 & 2020 & AK & Anchorage Municipality & 280954 & 23622 & 8 & 15 & 17 & 4 & 28\\\\\n",
       "\t4 & 2050 & AK & Bethel Census Area & 17342 & 6178 & 36 & 49 & 10 & 3 & 11\\\\\n",
       "\t5 & 2060 & AK & Bristol Bay Borough & 919 & 53 & 6 & 9 & 13 & 3 & 10\\\\\n",
       "\t6 & 2068 & AK & Denali Borough & 1865 & 43 & 2 & 4 & 0 & 2 & 13\\\\\n",
       "\\end{tabular}\n"
      ],
      "text/plain": [
       "  FIPS State                     County Population Recipients PctOnFoodStamps\n",
       "1 2013    AK     Aleutians East Borough       2816        113               4\n",
       "2 2016    AK Aleutians West Census Area       4392        144               3\n",
       "3 2020    AK     Anchorage Municipality     280954      23622               8\n",
       "4 2050    AK         Bethel Census Area      17342       6178              36\n",
       "5 2060    AK        Bristol Bay Borough        919         53               6\n",
       "6 2068    AK             Denali Borough       1865         43               2\n",
       "  PctOfChildrenOnFoodstamps PctOfBlacksOnFoodstamps PctOfWhitesOnFoodstamps\n",
       "1                        13                       4                       2\n",
       "2                        12                       3                       1\n",
       "3                        15                      17                       4\n",
       "4                        49                      10                       3\n",
       "5                         9                      13                       3\n",
       "6                         4                       0                       2\n",
       "  Chg07to09\n",
       "1        27\n",
       "2        92\n",
       "3        28\n",
       "4        11\n",
       "5        10\n",
       "6        13"
      ]
     },
     "execution_count": 4,
     "metadata": {},
     "output_type": "execute_result"
    }
   ],
   "source": [
    "head(times)"
   ]
  },
  {
   "cell_type": "code",
   "execution_count": null,
   "metadata": {
    "collapsed": true
   },
   "outputs": [],
   "source": []
  }
 ],
 "metadata": {
  "kernelspec": {
   "display_name": "R",
   "language": "R",
   "name": "ir"
  },
  "language_info": {
   "codemirror_mode": "r",
   "file_extension": ".r",
   "mimetype": "text/x-r-source",
   "name": "R",
   "pygments_lexer": "r",
   "version": "3.1.3"
  }
 },
 "nbformat": 4,
 "nbformat_minor": 0
}
