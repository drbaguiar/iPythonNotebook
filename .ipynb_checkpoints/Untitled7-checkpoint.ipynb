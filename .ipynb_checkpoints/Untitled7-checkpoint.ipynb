{
 "cells": [
  {
   "cell_type": "markdown",
   "metadata": {},
   "source": [
    "Create a list of dates using the following command:\n",
    "\n",
    "set.seed(449)\n",
    "my.dates<-as.Date(sample(18000:20000,20), origin = \"1960-01-01\")\n",
    "\n",
    "When dates are used as explanatory variables in regression analysis, often one needs to transform the dates into numerical values. \n",
    "\n",
    "For this, R has the function julian(), which converts the dates into so-called Julian dates, which is the number of days passed since a specific time point."
   ]
  },
  {
   "cell_type": "code",
   "execution_count": 8,
   "metadata": {
    "collapsed": true
   },
   "outputs": [],
   "source": [
    "set.seed(449)\n",
    "my.dates<-as.Date(sample(18000:20000,20), origin = \"1960-01-01\")"
   ]
  },
  {
   "cell_type": "code",
   "execution_count": 2,
   "metadata": {
    "collapsed": false
   },
   "outputs": [
    {
     "data": {
      "text/plain": [
       " [1] \"2011-01-29\" \"2012-10-01\" \"2013-12-21\" \"2009-10-23\" \"2010-07-28\"\n",
       " [6] \"2010-03-30\" \"2011-07-20\" \"2012-12-04\" \"2009-12-21\" \"2012-07-10\"\n",
       "[11] \"2010-05-04\" \"2010-11-15\" \"2010-01-12\" \"2012-05-28\" \"2013-11-06\"\n",
       "[16] \"2010-05-30\" \"2011-09-26\" \"2012-04-04\" \"2012-04-05\" \"2009-12-04\""
      ]
     },
     "metadata": {},
     "output_type": "display_data"
    }
   ],
   "source": [
    "my.dates"
   ]
  },
  {
   "cell_type": "markdown",
   "metadata": {},
   "source": [
    "Use the julian() function to convert my.dates into the corresponding number of days passed since January 1st, 1960. Obviously, you results should be between 18000 and 20000.\n",
    "\n",
    "Which command could you use to do so?"
   ]
  },
  {
   "cell_type": "code",
   "execution_count": 9,
   "metadata": {
    "collapsed": false
   },
   "outputs": [],
   "source": [
    "my.days<-c(julian(my.dates,origin=as.Date(\"1960-01-01\")))"
   ]
  },
  {
   "cell_type": "code",
   "execution_count": 10,
   "metadata": {
    "collapsed": false
   },
   "outputs": [
    {
     "data": {
      "text/html": [
       "<ol class=list-inline>\n",
       "\t<li>18656</li>\n",
       "\t<li>19267</li>\n",
       "\t<li>19713</li>\n",
       "\t<li>18193</li>\n",
       "\t<li>18471</li>\n",
       "\t<li>18351</li>\n",
       "\t<li>18828</li>\n",
       "\t<li>19331</li>\n",
       "\t<li>18252</li>\n",
       "\t<li>19184</li>\n",
       "\t<li>18386</li>\n",
       "\t<li>18581</li>\n",
       "\t<li>18274</li>\n",
       "\t<li>19141</li>\n",
       "\t<li>19668</li>\n",
       "\t<li>18412</li>\n",
       "\t<li>18896</li>\n",
       "\t<li>19087</li>\n",
       "\t<li>19088</li>\n",
       "\t<li>18235</li>\n",
       "</ol>\n"
      ],
      "text/latex": [
       "\\begin{enumerate*}\n",
       "\\item 18656\n",
       "\\item 19267\n",
       "\\item 19713\n",
       "\\item 18193\n",
       "\\item 18471\n",
       "\\item 18351\n",
       "\\item 18828\n",
       "\\item 19331\n",
       "\\item 18252\n",
       "\\item 19184\n",
       "\\item 18386\n",
       "\\item 18581\n",
       "\\item 18274\n",
       "\\item 19141\n",
       "\\item 19668\n",
       "\\item 18412\n",
       "\\item 18896\n",
       "\\item 19087\n",
       "\\item 19088\n",
       "\\item 18235\n",
       "\\end{enumerate*}\n"
      ],
      "text/markdown": [
       "1. 18656\n",
       "2. 19267\n",
       "3. 19713\n",
       "4. 18193\n",
       "5. 18471\n",
       "6. 18351\n",
       "7. 18828\n",
       "8. 19331\n",
       "9. 18252\n",
       "10. 19184\n",
       "11. 18386\n",
       "12. 18581\n",
       "13. 18274\n",
       "14. 19141\n",
       "15. 19668\n",
       "16. 18412\n",
       "17. 18896\n",
       "18. 19087\n",
       "19. 19088\n",
       "20. 18235\n",
       "\n",
       "\n"
      ],
      "text/plain": [
       " [1] 18656 19267 19713 18193 18471 18351 18828 19331 18252 19184 18386 18581\n",
       "[13] 18274 19141 19668 18412 18896 19087 19088 18235"
      ]
     },
     "metadata": {},
     "output_type": "display_data"
    }
   ],
   "source": [
    "my.days"
   ]
  },
  {
   "cell_type": "markdown",
   "metadata": {},
   "source": [
    "Create a set of days passed since January 1st, 1960, using the following command:\n",
    "\n",
    "set.seed(119) \n",
    "my.days<-sample(18000:20000,20)\n",
    "\n",
    "You want to construct a data frame that contains the weekday (ie. Monday, Tuesday,…), day in month, month in year and year, for the dates corresponding to my.days. "
   ]
  },
  {
   "cell_type": "code",
   "execution_count": 12,
   "metadata": {
    "collapsed": true
   },
   "outputs": [],
   "source": [
    "set.seed(119) \n",
    "my.days<-sample(18000:20000,20)"
   ]
  },
  {
   "cell_type": "markdown",
   "metadata": {},
   "source": [
    "The weekdays() function can extract the weekdays from the dates. The weekdays will appear in your locale. Thus, they will be expressed in your locale language. Let's say you want to present them in English, but your system locale is not English. First, save the current locale for time objects in old.locale. Then set the locale for time objects to be English. After the programming logic, set the locale for time objects back to the old settings."
   ]
  },
  {
   "cell_type": "markdown",
   "metadata": {},
   "source": [
    "You may benefit from installing the chron package and access the month.day.year() function.\n",
    "\n",
    "Once you've installed and loaded the package chron, you can extract the day, month, and year of the dates using the month.day.year() function.\n",
    "\n",
    "Which command could you use to do so?"
   ]
  },
  {
   "cell_type": "code",
   "execution_count": 14,
   "metadata": {
    "collapsed": false
   },
   "outputs": [
    {
     "name": "stderr",
     "output_type": "stream",
     "text": [
      "Warning message:\n",
      ": package 'chron' was built under R version 3.2.5"
     ]
    }
   ],
   "source": [
    "library(chron)"
   ]
  },
  {
   "cell_type": "code",
   "execution_count": 31,
   "metadata": {
    "collapsed": false
   },
   "outputs": [],
   "source": [
    " my.date.info<-data.frame(Weekday=weekdays(my.dates),my.days.structure)"
   ]
  },
  {
   "cell_type": "code",
   "execution_count": 32,
   "metadata": {
    "collapsed": false
   },
   "outputs": [
    {
     "data": {
      "text/html": [
       "<dl>\n",
       "\t<dt>$month</dt>\n",
       "\t\t<dd><ol class=list-inline>\n",
       "\t<li>5</li>\n",
       "\t<li>12</li>\n",
       "\t<li>7</li>\n",
       "\t<li>8</li>\n",
       "\t<li>8</li>\n",
       "\t<li>7</li>\n",
       "\t<li>12</li>\n",
       "\t<li>9</li>\n",
       "\t<li>6</li>\n",
       "\t<li>3</li>\n",
       "\t<li>2</li>\n",
       "\t<li>7</li>\n",
       "\t<li>7</li>\n",
       "\t<li>3</li>\n",
       "\t<li>5</li>\n",
       "\t<li>2</li>\n",
       "\t<li>7</li>\n",
       "\t<li>1</li>\n",
       "\t<li>10</li>\n",
       "\t<li>4</li>\n",
       "</ol>\n",
       "</dd>\n",
       "\t<dt>$day</dt>\n",
       "\t\t<dd><ol class=list-inline>\n",
       "\t<li>15</li>\n",
       "\t<li>5</li>\n",
       "\t<li>22</li>\n",
       "\t<li>25</li>\n",
       "\t<li>1</li>\n",
       "\t<li>18</li>\n",
       "\t<li>4</li>\n",
       "\t<li>14</li>\n",
       "\t<li>10</li>\n",
       "\t<li>24</li>\n",
       "\t<li>8</li>\n",
       "\t<li>3</li>\n",
       "\t<li>3</li>\n",
       "\t<li>26</li>\n",
       "\t<li>1</li>\n",
       "\t<li>4</li>\n",
       "\t<li>16</li>\n",
       "\t<li>20</li>\n",
       "\t<li>12</li>\n",
       "\t<li>3</li>\n",
       "</ol>\n",
       "</dd>\n",
       "\t<dt>$year</dt>\n",
       "\t\t<dd><ol class=list-inline>\n",
       "\t<li>2009</li>\n",
       "\t<li>2009</li>\n",
       "\t<li>2012</li>\n",
       "\t<li>2014</li>\n",
       "\t<li>2010</li>\n",
       "\t<li>2012</li>\n",
       "\t<li>2012</li>\n",
       "\t<li>2011</li>\n",
       "\t<li>2012</li>\n",
       "\t<li>2013</li>\n",
       "\t<li>2011</li>\n",
       "\t<li>2009</li>\n",
       "\t<li>2012</li>\n",
       "\t<li>2014</li>\n",
       "\t<li>2009</li>\n",
       "\t<li>2011</li>\n",
       "\t<li>2013</li>\n",
       "\t<li>2013</li>\n",
       "\t<li>2012</li>\n",
       "\t<li>2012</li>\n",
       "</ol>\n",
       "</dd>\n",
       "</dl>\n"
      ],
      "text/latex": [
       "\\begin{description}\n",
       "\\item[\\$month] \\begin{enumerate*}\n",
       "\\item 5\n",
       "\\item 12\n",
       "\\item 7\n",
       "\\item 8\n",
       "\\item 8\n",
       "\\item 7\n",
       "\\item 12\n",
       "\\item 9\n",
       "\\item 6\n",
       "\\item 3\n",
       "\\item 2\n",
       "\\item 7\n",
       "\\item 7\n",
       "\\item 3\n",
       "\\item 5\n",
       "\\item 2\n",
       "\\item 7\n",
       "\\item 1\n",
       "\\item 10\n",
       "\\item 4\n",
       "\\end{enumerate*}\n",
       "\n",
       "\\item[\\$day] \\begin{enumerate*}\n",
       "\\item 15\n",
       "\\item 5\n",
       "\\item 22\n",
       "\\item 25\n",
       "\\item 1\n",
       "\\item 18\n",
       "\\item 4\n",
       "\\item 14\n",
       "\\item 10\n",
       "\\item 24\n",
       "\\item 8\n",
       "\\item 3\n",
       "\\item 3\n",
       "\\item 26\n",
       "\\item 1\n",
       "\\item 4\n",
       "\\item 16\n",
       "\\item 20\n",
       "\\item 12\n",
       "\\item 3\n",
       "\\end{enumerate*}\n",
       "\n",
       "\\item[\\$year] \\begin{enumerate*}\n",
       "\\item 2009\n",
       "\\item 2009\n",
       "\\item 2012\n",
       "\\item 2014\n",
       "\\item 2010\n",
       "\\item 2012\n",
       "\\item 2012\n",
       "\\item 2011\n",
       "\\item 2012\n",
       "\\item 2013\n",
       "\\item 2011\n",
       "\\item 2009\n",
       "\\item 2012\n",
       "\\item 2014\n",
       "\\item 2009\n",
       "\\item 2011\n",
       "\\item 2013\n",
       "\\item 2013\n",
       "\\item 2012\n",
       "\\item 2012\n",
       "\\end{enumerate*}\n",
       "\n",
       "\\end{description}\n"
      ],
      "text/markdown": [
       "$month\n",
       ":   1. 5\n",
       "2. 12\n",
       "3. 7\n",
       "4. 8\n",
       "5. 8\n",
       "6. 7\n",
       "7. 12\n",
       "8. 9\n",
       "9. 6\n",
       "10. 3\n",
       "11. 2\n",
       "12. 7\n",
       "13. 7\n",
       "14. 3\n",
       "15. 5\n",
       "16. 2\n",
       "17. 7\n",
       "18. 1\n",
       "19. 10\n",
       "20. 4\n",
       "\n",
       "\n",
       "\n",
       "$day\n",
       ":   1. 15\n",
       "2. 5\n",
       "3. 22\n",
       "4. 25\n",
       "5. 1\n",
       "6. 18\n",
       "7. 4\n",
       "8. 14\n",
       "9. 10\n",
       "10. 24\n",
       "11. 8\n",
       "12. 3\n",
       "13. 3\n",
       "14. 26\n",
       "15. 1\n",
       "16. 4\n",
       "17. 16\n",
       "18. 20\n",
       "19. 12\n",
       "20. 3\n",
       "\n",
       "\n",
       "\n",
       "$year\n",
       ":   1. 2009\n",
       "2. 2009\n",
       "3. 2012\n",
       "4. 2014\n",
       "5. 2010\n",
       "6. 2012\n",
       "7. 2012\n",
       "8. 2011\n",
       "9. 2012\n",
       "10. 2013\n",
       "11. 2011\n",
       "12. 2009\n",
       "13. 2012\n",
       "14. 2014\n",
       "15. 2009\n",
       "16. 2011\n",
       "17. 2013\n",
       "18. 2013\n",
       "19. 2012\n",
       "20. 2012\n",
       "\n",
       "\n",
       "\n",
       "\n",
       "\n"
      ],
      "text/plain": [
       "$month\n",
       " [1]  5 12  7  8  8  7 12  9  6  3  2  7  7  3  5  2  7  1 10  4\n",
       "\n",
       "$day\n",
       " [1] 15  5 22 25  1 18  4 14 10 24  8  3  3 26  1  4 16 20 12  3\n",
       "\n",
       "$year\n",
       " [1] 2009 2009 2012 2014 2010 2012 2012 2011 2012 2013 2011 2009 2012 2014 2009\n",
       "[16] 2011 2013 2013 2012 2012\n"
      ]
     },
     "metadata": {},
     "output_type": "display_data"
    }
   ],
   "source": [
    "my.days.structure"
   ]
  },
  {
   "cell_type": "markdown",
   "metadata": {},
   "source": [
    "You can then create a data frame combining the weekdays extracted using the weekdays() function and the my.days.structure.\n",
    "\n",
    "Which command could you use to do so?"
   ]
  },
  {
   "cell_type": "code",
   "execution_count": 33,
   "metadata": {
    "collapsed": false
   },
   "outputs": [],
   "source": [
    "my.date.info<-data.frame(Weekday=weekdays(my.dates),my.days.structure)"
   ]
  },
  {
   "cell_type": "code",
   "execution_count": 34,
   "metadata": {
    "collapsed": false
   },
   "outputs": [
    {
     "data": {
      "text/html": [
       "<table>\n",
       "<thead><tr><th></th><th scope=col>Weekday</th><th scope=col>month</th><th scope=col>day</th><th scope=col>year</th></tr></thead>\n",
       "<tbody>\n",
       "\t<tr><th scope=row>1</th><td>Saturday</td><td>5       </td><td>15      </td><td>2009    </td></tr>\n",
       "\t<tr><th scope=row>2</th><td>Monday</td><td>12    </td><td>5     </td><td>2009  </td></tr>\n",
       "\t<tr><th scope=row>3</th><td>Saturday</td><td>7       </td><td>22      </td><td>2012    </td></tr>\n",
       "\t<tr><th scope=row>4</th><td>Friday</td><td>8     </td><td>25    </td><td>2014  </td></tr>\n",
       "\t<tr><th scope=row>5</th><td>Wednesday</td><td>8        </td><td>1        </td><td>2010     </td></tr>\n",
       "\t<tr><th scope=row>6</th><td>Tuesday</td><td>7      </td><td>18     </td><td>2012   </td></tr>\n",
       "\t<tr><th scope=row>7</th><td>Wednesday</td><td>12       </td><td>4        </td><td>2012     </td></tr>\n",
       "\t<tr><th scope=row>8</th><td>Tuesday</td><td>9      </td><td>14     </td><td>2011   </td></tr>\n",
       "\t<tr><th scope=row>9</th><td>Monday</td><td>6     </td><td>10    </td><td>2012  </td></tr>\n",
       "\t<tr><th scope=row>10</th><td>Tuesday</td><td>3      </td><td>24     </td><td>2013   </td></tr>\n",
       "\t<tr><th scope=row>11</th><td>Tuesday</td><td>2      </td><td>8      </td><td>2011   </td></tr>\n",
       "\t<tr><th scope=row>12</th><td>Monday</td><td>7     </td><td>3     </td><td>2009  </td></tr>\n",
       "\t<tr><th scope=row>13</th><td>Tuesday</td><td>7      </td><td>3      </td><td>2012   </td></tr>\n",
       "\t<tr><th scope=row>14</th><td>Monday</td><td>3     </td><td>26    </td><td>2014  </td></tr>\n",
       "\t<tr><th scope=row>15</th><td>Wednesday</td><td>5        </td><td>1        </td><td>2009     </td></tr>\n",
       "\t<tr><th scope=row>16</th><td>Sunday</td><td>2     </td><td>4     </td><td>2011  </td></tr>\n",
       "\t<tr><th scope=row>17</th><td>Monday</td><td>7     </td><td>16    </td><td>2013  </td></tr>\n",
       "\t<tr><th scope=row>18</th><td>Wednesday</td><td>1        </td><td>20       </td><td>2013     </td></tr>\n",
       "\t<tr><th scope=row>19</th><td>Thursday</td><td>10      </td><td>12      </td><td>2012    </td></tr>\n",
       "\t<tr><th scope=row>20</th><td>Friday</td><td>4     </td><td>3     </td><td>2012  </td></tr>\n",
       "</tbody>\n",
       "</table>\n"
      ],
      "text/latex": [
       "\\begin{tabular}{r|llll}\n",
       "  & Weekday & month & day & year\\\\\n",
       "\\hline\n",
       "\t1 & Saturday & 5        & 15       & 2009    \\\\\n",
       "\t2 & Monday & 12     & 5      & 2009  \\\\\n",
       "\t3 & Saturday & 7        & 22       & 2012    \\\\\n",
       "\t4 & Friday & 8      & 25     & 2014  \\\\\n",
       "\t5 & Wednesday & 8         & 1         & 2010     \\\\\n",
       "\t6 & Tuesday & 7       & 18      & 2012   \\\\\n",
       "\t7 & Wednesday & 12        & 4         & 2012     \\\\\n",
       "\t8 & Tuesday & 9       & 14      & 2011   \\\\\n",
       "\t9 & Monday & 6      & 10     & 2012  \\\\\n",
       "\t10 & Tuesday & 3       & 24      & 2013   \\\\\n",
       "\t11 & Tuesday & 2       & 8       & 2011   \\\\\n",
       "\t12 & Monday & 7      & 3      & 2009  \\\\\n",
       "\t13 & Tuesday & 7       & 3       & 2012   \\\\\n",
       "\t14 & Monday & 3      & 26     & 2014  \\\\\n",
       "\t15 & Wednesday & 5         & 1         & 2009     \\\\\n",
       "\t16 & Sunday & 2      & 4      & 2011  \\\\\n",
       "\t17 & Monday & 7      & 16     & 2013  \\\\\n",
       "\t18 & Wednesday & 1         & 20        & 2013     \\\\\n",
       "\t19 & Thursday & 10       & 12       & 2012    \\\\\n",
       "\t20 & Friday & 4      & 3      & 2012  \\\\\n",
       "\\end{tabular}\n"
      ],
      "text/plain": [
       "     Weekday month day year\n",
       "1   Saturday     5  15 2009\n",
       "2     Monday    12   5 2009\n",
       "3   Saturday     7  22 2012\n",
       "4     Friday     8  25 2014\n",
       "5  Wednesday     8   1 2010\n",
       "6    Tuesday     7  18 2012\n",
       "7  Wednesday    12   4 2012\n",
       "8    Tuesday     9  14 2011\n",
       "9     Monday     6  10 2012\n",
       "10   Tuesday     3  24 2013\n",
       "11   Tuesday     2   8 2011\n",
       "12    Monday     7   3 2009\n",
       "13   Tuesday     7   3 2012\n",
       "14    Monday     3  26 2014\n",
       "15 Wednesday     5   1 2009\n",
       "16    Sunday     2   4 2011\n",
       "17    Monday     7  16 2013\n",
       "18 Wednesday     1  20 2013\n",
       "19  Thursday    10  12 2012\n",
       "20    Friday     4   3 2012"
      ]
     },
     "metadata": {},
     "output_type": "display_data"
    }
   ],
   "source": [
    "my.date.info"
   ]
  },
  {
   "cell_type": "code",
   "execution_count": null,
   "metadata": {
    "collapsed": true
   },
   "outputs": [],
   "source": []
  }
 ],
 "metadata": {
  "kernelspec": {
   "display_name": "R",
   "language": "R",
   "name": "ir"
  },
  "language_info": {
   "codemirror_mode": "r",
   "file_extension": ".r",
   "mimetype": "text/x-r-source",
   "name": "R",
   "pygments_lexer": "r",
   "version": "3.2.4"
  }
 },
 "nbformat": 4,
 "nbformat_minor": 0
}
