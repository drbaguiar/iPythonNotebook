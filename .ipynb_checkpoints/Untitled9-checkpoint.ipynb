{
 "cells": [
  {
   "cell_type": "code",
   "execution_count": 1,
   "metadata": {
    "collapsed": true
   },
   "outputs": [],
   "source": [
    "dftrain<- read.csv(\"https://raw.githubusercontent.com/MicrosoftLearning/Programming-in-R-for-Data-Science/master/11.Linear%20Models/my.diabetes.data.csv\", sep=\";\", dec=\",\")\n",
    "dftrain$X<-NULL"
   ]
  },
  {
   "cell_type": "code",
   "execution_count": 2,
   "metadata": {
    "collapsed": false
   },
   "outputs": [
    {
     "data": {
      "text/html": [
       "<ol class=list-inline>\n",
       "\t<li>12795</li>\n",
       "\t<li>18</li>\n",
       "</ol>\n"
      ],
      "text/latex": [
       "\\begin{enumerate*}\n",
       "\\item 12795\n",
       "\\item 18\n",
       "\\end{enumerate*}\n"
      ],
      "text/markdown": [
       "1. 12795\n",
       "2. 18\n",
       "\n",
       "\n"
      ],
      "text/plain": [
       "[1] 12795    18"
      ]
     },
     "metadata": {},
     "output_type": "display_data"
    }
   ],
   "source": [
    "dim(dftrain)"
   ]
  },
  {
   "cell_type": "code",
   "execution_count": 3,
   "metadata": {
    "collapsed": true
   },
   "outputs": [],
   "source": [
    "dftest<- read.csv(\"https://raw.githubusercontent.com/MicrosoftLearning/Programming-in-R-for-Data-Science/master/11.Linear%20Models/my.new.diabetes.data.csv\", sep=\";\", dec=\",\")\n",
    "dftest$X<-NULL"
   ]
  },
  {
   "cell_type": "code",
   "execution_count": 4,
   "metadata": {
    "collapsed": false
   },
   "outputs": [
    {
     "data": {
      "text/html": [
       "<ol class=list-inline>\n",
       "\t<li>10000</li>\n",
       "\t<li>18</li>\n",
       "</ol>\n"
      ],
      "text/latex": [
       "\\begin{enumerate*}\n",
       "\\item 10000\n",
       "\\item 18\n",
       "\\end{enumerate*}\n"
      ],
      "text/markdown": [
       "1. 10000\n",
       "2. 18\n",
       "\n",
       "\n"
      ],
      "text/plain": [
       "[1] 10000    18"
      ]
     },
     "metadata": {},
     "output_type": "display_data"
    }
   ],
   "source": [
    "dim(dftest)"
   ]
  },
  {
   "cell_type": "code",
   "execution_count": 6,
   "metadata": {
    "collapsed": false
   },
   "outputs": [],
   "source": [
    "#Build a logistic regression model formula\n",
    "model<- \"gender\"\n",
    "for(i in 2:17){model<-paste(model,\n",
    "                            \"+\",\n",
    "                            names(dftrain)[i])\n",
    "}\n",
    "\n",
    "logmodel<-as.formula(paste(\"readmi_class~\",model))"
   ]
  },
  {
   "cell_type": "code",
   "execution_count": 7,
   "metadata": {
    "collapsed": true
   },
   "outputs": [],
   "source": [
    "fit<-glm(logmodel,family=binomial(link=logit),data=dftrain)"
   ]
  },
  {
   "cell_type": "code",
   "execution_count": 8,
   "metadata": {
    "collapsed": false
   },
   "outputs": [
    {
     "data": {
      "text/plain": [
       "\n",
       "Call:\n",
       "glm(formula = logmodel, family = binomial(link = logit), data = dftrain)\n",
       "\n",
       "Deviance Residuals: \n",
       "    Min       1Q   Median       3Q      Max  \n",
       "-2.9367  -1.0498  -0.7635   1.1696   2.0859  \n",
       "\n",
       "Coefficients:\n",
       "                                          Estimate Std. Error z value Pr(>|z|)\n",
       "(Intercept)                              10.104422 324.744380   0.031 0.975178\n",
       "genderMale                               -0.106912   0.037710  -2.835 0.004581\n",
       "age[10-20)                                0.487456   0.613687   0.794 0.427016\n",
       "age[20-30)                                0.787030   0.595954   1.321 0.186627\n",
       "age[30-40)                                0.589994   0.579110   1.019 0.308301\n",
       "age[40-50)                                0.745734   0.571133   1.306 0.191651\n",
       "age[50-60)                                0.753568   0.569702   1.323 0.185922\n",
       "age[60-70)                                0.821582   0.569323   1.443 0.148996\n",
       "age[70-80)                                0.928982   0.569401   1.632 0.102783\n",
       "age[80-90)                                0.901287   0.570104   1.581 0.113897\n",
       "age[90-100)                               0.510999   0.578916   0.883 0.377408\n",
       "weight[0-25)                              1.609451   0.803433   2.003 0.045154\n",
       "weight[100-125)                           0.584428   0.189887   3.078 0.002086\n",
       "weight[125-150)                           0.220216   0.416310   0.529 0.596825\n",
       "weight[150-175)                           0.574515   0.791816   0.726 0.468104\n",
       "weight[175-200)                          12.729939 324.743727   0.039 0.968731\n",
       "weight[25-50)                            -0.145576   0.488715  -0.298 0.765799\n",
       "weight[50-75)                             0.292334   0.184999   1.580 0.114064\n",
       "weight[75-100)                            0.689133   0.142029   4.852 1.22e-06\n",
       "weight>200                               12.020961 324.743723   0.037 0.970472\n",
       "discharge_disposition_id                 -0.016113   0.003673  -4.387 1.15e-05\n",
       "time_in_hospital                          0.330779   0.090809   3.643 0.000270\n",
       "payer_codeBC                             -0.380073   0.099518  -3.819 0.000134\n",
       "payer_codeCH                             -0.197476   0.426062  -0.463 0.643012\n",
       "payer_codeCM                             -0.392224   0.143196  -2.739 0.006161\n",
       "payer_codeCP                             -0.214839   0.120122  -1.789 0.073693\n",
       "payer_codeDM                             -0.091690   0.330563  -0.277 0.781493\n",
       "payer_codeHM                              0.071910   0.081889   0.878 0.379871\n",
       "payer_codeMC                             -0.013053   0.047745  -0.273 0.784555\n",
       "payer_codeMD                             -0.247501   0.127701  -1.938 0.052608\n",
       "payer_codeMP                              0.206747   0.945530   0.219 0.826917\n",
       "payer_codeOG                              0.034534   0.238132   0.145 0.884694\n",
       "payer_codeOT                              0.172132   1.003188   0.172 0.863764\n",
       "payer_codePO                             -0.076346   0.274688  -0.278 0.781061\n",
       "payer_codeSI                              0.510881   0.674427   0.758 0.448748\n",
       "payer_codeSP                              0.186646   0.089641   2.082 0.037329\n",
       "payer_codeUN                             -0.458157   0.131317  -3.489 0.000485\n",
       "payer_codeWC                             -0.662682   0.570511  -1.162 0.245415\n",
       "num_procedures                           -0.358760   0.073194  -4.901 9.51e-07\n",
       "number_outpatient                         3.283638   0.679781   4.830 1.36e-06\n",
       "number_emergency                         24.310908   3.199019   7.599 2.97e-14\n",
       "number_inpatient                          6.983788   0.414972  16.830  < 2e-16\n",
       "diag_1blood                             -12.040086 324.743761  -0.037 0.970425\n",
       "diag_1circulatory                       -11.852889 324.743708  -0.036 0.970884\n",
       "diag_1congenital                        -24.230941 345.380778  -0.070 0.944069\n",
       "diag_1digestive                         -11.975032 324.743713  -0.037 0.970584\n",
       "diag_1endocrine                         -11.702155 324.743713  -0.036 0.971254\n",
       "diag_1genitourinary                     -11.982970 324.743717  -0.037 0.970565\n",
       "diag_1ill-defined                       -12.007139 324.743714  -0.037 0.970506\n",
       "diag_1infections                        -11.989917 324.743727  -0.037 0.970548\n",
       "diag_1injury                            -11.915395 324.743715  -0.037 0.970731\n",
       "diag_1mental                            -11.977357 324.743732  -0.037 0.970579\n",
       "diag_1musculoskeletal                   -11.982341 324.743719  -0.037 0.970566\n",
       "diag_1neoplasms                         -12.352516 324.743724  -0.038 0.969658\n",
       "diag_1nervous                           -11.991812 324.743768  -0.037 0.970543\n",
       "diag_1pregnancy                         -12.697709 324.743893  -0.039 0.968810\n",
       "diag_1respiratory                       -11.905781 324.743713  -0.037 0.970754\n",
       "diag_1sense                             -11.789233 324.743893  -0.036 0.971041\n",
       "diag_1skin                              -11.885765 324.743729  -0.037 0.970804\n",
       "diag_1suplemental                       -12.020178 324.743738  -0.037 0.970474\n",
       "number_diagnoses                          1.103685   0.165824   6.656 2.82e-11\n",
       "max_glu_serum>300                         0.384449   0.222606   1.727 0.084161\n",
       "max_glu_serumNone                         0.469739   0.165009   2.847 0.004417\n",
       "max_glu_serumNorm                         0.178718   0.189282   0.944 0.345073\n",
       "glipizideNo                              -0.320280   0.269047  -1.190 0.233879\n",
       "glipizideSteady                          -0.148180   0.273014  -0.543 0.587299\n",
       "glipizideUp                              -0.223541   0.342465  -0.653 0.513922\n",
       "insulinNo                                -0.182264   0.068051  -2.678 0.007399\n",
       "insulinSteady                            -0.242129   0.064481  -3.755 0.000173\n",
       "insulinUp                                -0.149470   0.078317  -1.909 0.056325\n",
       "diabetesMedYes                            0.239245   0.056670   4.222 2.42e-05\n",
       "admission_type_descriptionEmergency       0.021660   0.054967   0.394 0.693538\n",
       "admission_type_descriptionNewborn         0.780114   1.416497   0.551 0.581816\n",
       "admission_type_descriptionTrauma Center -11.543463 229.533832  -0.050 0.959891\n",
       "admission_type_descriptionunknown         0.300180   0.081943   3.663 0.000249\n",
       "admission_type_descriptionUrgent          0.077178   0.063006   1.225 0.220601\n",
       "                                           \n",
       "(Intercept)                                \n",
       "genderMale                              ** \n",
       "age[10-20)                                 \n",
       "age[20-30)                                 \n",
       "age[30-40)                                 \n",
       "age[40-50)                                 \n",
       "age[50-60)                                 \n",
       "age[60-70)                                 \n",
       "age[70-80)                                 \n",
       "age[80-90)                                 \n",
       "age[90-100)                                \n",
       "weight[0-25)                            *  \n",
       "weight[100-125)                         ** \n",
       "weight[125-150)                            \n",
       "weight[150-175)                            \n",
       "weight[175-200)                            \n",
       "weight[25-50)                              \n",
       "weight[50-75)                              \n",
       "weight[75-100)                          ***\n",
       "weight>200                                 \n",
       "discharge_disposition_id                ***\n",
       "time_in_hospital                        ***\n",
       "payer_codeBC                            ***\n",
       "payer_codeCH                               \n",
       "payer_codeCM                            ** \n",
       "payer_codeCP                            .  \n",
       "payer_codeDM                               \n",
       "payer_codeHM                               \n",
       "payer_codeMC                               \n",
       "payer_codeMD                            .  \n",
       "payer_codeMP                               \n",
       "payer_codeOG                               \n",
       "payer_codeOT                               \n",
       "payer_codePO                               \n",
       "payer_codeSI                               \n",
       "payer_codeSP                            *  \n",
       "payer_codeUN                            ***\n",
       "payer_codeWC                               \n",
       "num_procedures                          ***\n",
       "number_outpatient                       ***\n",
       "number_emergency                        ***\n",
       "number_inpatient                        ***\n",
       "diag_1blood                                \n",
       "diag_1circulatory                          \n",
       "diag_1congenital                           \n",
       "diag_1digestive                            \n",
       "diag_1endocrine                            \n",
       "diag_1genitourinary                        \n",
       "diag_1ill-defined                          \n",
       "diag_1infections                           \n",
       "diag_1injury                               \n",
       "diag_1mental                               \n",
       "diag_1musculoskeletal                      \n",
       "diag_1neoplasms                            \n",
       "diag_1nervous                              \n",
       "diag_1pregnancy                            \n",
       "diag_1respiratory                          \n",
       "diag_1sense                                \n",
       "diag_1skin                                 \n",
       "diag_1suplemental                          \n",
       "number_diagnoses                        ***\n",
       "max_glu_serum>300                       .  \n",
       "max_glu_serumNone                       ** \n",
       "max_glu_serumNorm                          \n",
       "glipizideNo                                \n",
       "glipizideSteady                            \n",
       "glipizideUp                                \n",
       "insulinNo                               ** \n",
       "insulinSteady                           ***\n",
       "insulinUp                               .  \n",
       "diabetesMedYes                          ***\n",
       "admission_type_descriptionEmergency        \n",
       "admission_type_descriptionNewborn          \n",
       "admission_type_descriptionTrauma Center    \n",
       "admission_type_descriptionunknown       ***\n",
       "admission_type_descriptionUrgent           \n",
       "---\n",
       "Signif. codes:  0 '***' 0.001 '**' 0.01 '*' 0.05 '.' 0.1 ' ' 1\n",
       "\n",
       "(Dispersion parameter for binomial family taken to be 1)\n",
       "\n",
       "    Null deviance: 17690  on 12794  degrees of freedom\n",
       "Residual deviance: 16505  on 12719  degrees of freedom\n",
       "AIC: 16657\n",
       "\n",
       "Number of Fisher Scoring iterations: 11\n"
      ]
     },
     "metadata": {},
     "output_type": "display_data"
    }
   ],
   "source": [
    "summary(fit)"
   ]
  },
  {
   "cell_type": "code",
   "execution_count": 9,
   "metadata": {
    "collapsed": false
   },
   "outputs": [
    {
     "data": {
      "text/html": [
       "<table>\n",
       "<thead><tr><th></th><th scope=col>Df</th><th scope=col>Deviance</th><th scope=col>Resid. Df</th><th scope=col>Resid. Dev</th></tr></thead>\n",
       "<tbody>\n",
       "\t<tr><th scope=row>NULL</th><td>      NA</td><td>      NA</td><td>12794.00</td><td>17690.42</td></tr>\n",
       "\t<tr><th scope=row>gender</th><td>    1.000000</td><td>    9.281287</td><td>12793.000000</td><td>17681.141260</td></tr>\n",
       "\t<tr><th scope=row>age</th><td>    9.00000</td><td>   53.08521</td><td>12784.00000</td><td>17628.05605</td></tr>\n",
       "\t<tr><th scope=row>weight</th><td>    9.00000</td><td>   48.36513</td><td>12775.00000</td><td>17579.69091</td></tr>\n",
       "\t<tr><th scope=row>discharge_disposition_id</th><td>    1.00000</td><td>   10.95725</td><td>12774.00000</td><td>17568.73366</td></tr>\n",
       "\t<tr><th scope=row>time_in_hospital</th><td>    1.00000</td><td>   39.81581</td><td>12773.00000</td><td>17528.91785</td></tr>\n",
       "\t<tr><th scope=row>payer_code</th><td>   16.00000</td><td>   79.91886</td><td>12757.00000</td><td>17448.99899</td></tr>\n",
       "\t<tr><th scope=row>num_procedures</th><td>    1.00000</td><td>   56.87932</td><td>12756.00000</td><td>17392.11966</td></tr>\n",
       "\t<tr><th scope=row>number_outpatient</th><td>    1.00000</td><td>   83.24354</td><td>12755.00000</td><td>17308.87613</td></tr>\n",
       "\t<tr><th scope=row>number_emergency</th><td>    1.0000</td><td>  217.1459</td><td>12754.0000</td><td>17091.7302</td></tr>\n",
       "\t<tr><th scope=row>number_inpatient</th><td>    1.0000</td><td>  385.7089</td><td>12753.0000</td><td>16706.0214</td></tr>\n",
       "\t<tr><th scope=row>diag_1</th><td>   18.00000</td><td>   69.59842</td><td>12735.00000</td><td>16636.42297</td></tr>\n",
       "\t<tr><th scope=row>number_diagnoses</th><td>    1.00000</td><td>   46.41736</td><td>12734.00000</td><td>16590.00560</td></tr>\n",
       "\t<tr><th scope=row>max_glu_serum</th><td>    3.000000</td><td>    4.791081</td><td>12731.000000</td><td>16585.214524</td></tr>\n",
       "\t<tr><th scope=row>glipizide</th><td>    3.00000</td><td>   17.36426</td><td>12728.00000</td><td>16567.85027</td></tr>\n",
       "\t<tr><th scope=row>insulin</th><td>    3.00000</td><td>   26.12003</td><td>12725.00000</td><td>16541.73023</td></tr>\n",
       "\t<tr><th scope=row>diabetesMed</th><td>    1.00000</td><td>   18.47561</td><td>12724.00000</td><td>16523.25462</td></tr>\n",
       "\t<tr><th scope=row>admission_type_description</th><td>    5.00000</td><td>   17.86858</td><td>12719.00000</td><td>16505.38604</td></tr>\n",
       "</tbody>\n",
       "</table>\n"
      ],
      "text/latex": [
       "\\begin{tabular}{r|llll}\n",
       "  & Df & Deviance & Resid. Df & Resid. Dev\\\\\n",
       "\\hline\n",
       "\tNULL &       NA &       NA & 12794.00 & 17690.42\\\\\n",
       "\tgender &     1.000000 &     9.281287 & 12793.000000 & 17681.141260\\\\\n",
       "\tage &     9.00000 &    53.08521 & 12784.00000 & 17628.05605\\\\\n",
       "\tweight &     9.00000 &    48.36513 & 12775.00000 & 17579.69091\\\\\n",
       "\tdischarge\\_disposition\\_id &     1.00000 &    10.95725 & 12774.00000 & 17568.73366\\\\\n",
       "\ttime\\_in\\_hospital &     1.00000 &    39.81581 & 12773.00000 & 17528.91785\\\\\n",
       "\tpayer\\_code &    16.00000 &    79.91886 & 12757.00000 & 17448.99899\\\\\n",
       "\tnum\\_procedures &     1.00000 &    56.87932 & 12756.00000 & 17392.11966\\\\\n",
       "\tnumber\\_outpatient &     1.00000 &    83.24354 & 12755.00000 & 17308.87613\\\\\n",
       "\tnumber\\_emergency &     1.0000 &   217.1459 & 12754.0000 & 17091.7302\\\\\n",
       "\tnumber\\_inpatient &     1.0000 &   385.7089 & 12753.0000 & 16706.0214\\\\\n",
       "\tdiag\\_1 &    18.00000 &    69.59842 & 12735.00000 & 16636.42297\\\\\n",
       "\tnumber\\_diagnoses &     1.00000 &    46.41736 & 12734.00000 & 16590.00560\\\\\n",
       "\tmax\\_glu\\_serum &     3.000000 &     4.791081 & 12731.000000 & 16585.214524\\\\\n",
       "\tglipizide &     3.00000 &    17.36426 & 12728.00000 & 16567.85027\\\\\n",
       "\tinsulin &     3.00000 &    26.12003 & 12725.00000 & 16541.73023\\\\\n",
       "\tdiabetesMed &     1.00000 &    18.47561 & 12724.00000 & 16523.25462\\\\\n",
       "\tadmission\\_type\\_description &     5.00000 &    17.86858 & 12719.00000 & 16505.38604\\\\\n",
       "\\end{tabular}\n"
      ],
      "text/plain": [
       "Analysis of Deviance Table\n",
       "\n",
       "Model: binomial, link: logit\n",
       "\n",
       "Response: readmi_class\n",
       "\n",
       "Terms added sequentially (first to last)\n",
       "\n",
       "\n",
       "                           Df Deviance Resid. Df Resid. Dev\n",
       "NULL                                       12794      17690\n",
       "gender                      1     9.28     12793      17681\n",
       "age                         9    53.09     12784      17628\n",
       "weight                      9    48.37     12775      17580\n",
       "discharge_disposition_id    1    10.96     12774      17569\n",
       "time_in_hospital            1    39.82     12773      17529\n",
       "payer_code                 16    79.92     12757      17449\n",
       "num_procedures              1    56.88     12756      17392\n",
       "number_outpatient           1    83.24     12755      17309\n",
       "number_emergency            1   217.15     12754      17092\n",
       "number_inpatient            1   385.71     12753      16706\n",
       "diag_1                     18    69.60     12735      16636\n",
       "number_diagnoses            1    46.42     12734      16590\n",
       "max_glu_serum               3     4.79     12731      16585\n",
       "glipizide                   3    17.36     12728      16568\n",
       "insulin                     3    26.12     12725      16542\n",
       "diabetesMed                 1    18.48     12724      16523\n",
       "admission_type_description  5    17.87     12719      16505"
      ]
     },
     "metadata": {},
     "output_type": "display_data"
    }
   ],
   "source": []
  },
  {
   "cell_type": "code",
   "execution_count": null,
   "metadata": {
    "collapsed": true
   },
   "outputs": [],
   "source": []
  },
  {
   "cell_type": "code",
   "execution_count": null,
   "metadata": {
    "collapsed": true
   },
   "outputs": [],
   "source": []
  }
 ],
 "metadata": {
  "kernelspec": {
   "display_name": "R",
   "language": "R",
   "name": "ir"
  },
  "language_info": {
   "codemirror_mode": "r",
   "file_extension": ".r",
   "mimetype": "text/x-r-source",
   "name": "R",
   "pygments_lexer": "r",
   "version": "3.2.4"
  }
 },
 "nbformat": 4,
 "nbformat_minor": 0
}
