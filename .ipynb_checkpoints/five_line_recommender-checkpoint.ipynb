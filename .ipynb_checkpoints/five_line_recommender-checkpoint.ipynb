{
 "cells": [
  {
   "cell_type": "markdown",
   "metadata": {},
   "source": [
    "# The Five-Line Recommender, Explained"
   ]
  },
  {
   "cell_type": "markdown",
   "metadata": {},
   "source": [
    "Building a recommender system is easy with GraphLab Create.  Simply import graphlab, load data, create a recommender model, and start making recommendations.  Let's walk through this line by line.\n",
    "\n",
    "<h3>Step 1: Import GraphLab into Python</h3>"
   ]
  },
  {
   "cell_type": "code",
   "execution_count": 1,
   "metadata": {
    "collapsed": false
   },
   "outputs": [],
   "source": [
    "import graphlab"
   ]
  },
  {
   "cell_type": "markdown",
   "metadata": {},
   "source": [
    "<h3>Step 2: Load the dataset</h3>\n",
    "\n",
    "The data is sitting on an AWS S3 bucket as a csv file.  We can load it into a GraphLab SFrame with `read_csv()`, specifying the \"rating\" column to be loaded as integers.  For other ways of creating an SFrame and doing data munging, see the <a href=\"https://dato.com/learn/notebooks/introduction_to_sframes.html\">SFrame tutorial</a>."
   ]
  },
  {
   "cell_type": "code",
   "execution_count": 2,
   "metadata": {
    "collapsed": false
   },
   "outputs": [
    {
     "data": {
      "text/html": [
       "<pre>PROGRESS: Downloading http://s3.amazonaws.com/dato-datasets/movie_ratings/training_data.csv to /var/tmp/graphlab-zach/39733/000000.csv</pre>"
      ],
      "text/plain": [
       "PROGRESS: Downloading http://s3.amazonaws.com/dato-datasets/movie_ratings/training_data.csv to /var/tmp/graphlab-zach/39733/000000.csv"
      ]
     },
     "metadata": {},
     "output_type": "display_data"
    },
    {
     "data": {
      "text/html": [
       "<pre>PROGRESS: Finished parsing file http://s3.amazonaws.com/dato-datasets/movie_ratings/training_data.csv</pre>"
      ],
      "text/plain": [
       "PROGRESS: Finished parsing file http://s3.amazonaws.com/dato-datasets/movie_ratings/training_data.csv"
      ]
     },
     "metadata": {},
     "output_type": "display_data"
    },
    {
     "data": {
      "text/html": [
       "<pre>PROGRESS: Parsing completed. Parsed 100 lines in 0.109583 secs.</pre>"
      ],
      "text/plain": [
       "PROGRESS: Parsing completed. Parsed 100 lines in 0.109583 secs."
      ]
     },
     "metadata": {},
     "output_type": "display_data"
    },
    {
     "data": {
      "text/html": [
       "<pre>PROGRESS: Finished parsing file http://s3.amazonaws.com/dato-datasets/movie_ratings/training_data.csv</pre>"
      ],
      "text/plain": [
       "PROGRESS: Finished parsing file http://s3.amazonaws.com/dato-datasets/movie_ratings/training_data.csv"
      ]
     },
     "metadata": {},
     "output_type": "display_data"
    },
    {
     "data": {
      "text/html": [
       "<pre>PROGRESS: Parsing completed. Parsed 82068 lines in 0.101536 secs.</pre>"
      ],
      "text/plain": [
       "PROGRESS: Parsing completed. Parsed 82068 lines in 0.101536 secs."
      ]
     },
     "metadata": {},
     "output_type": "display_data"
    },
    {
     "data": {
      "text/html": [
       "<div style=\"max-height:1000px;max-width:1500px;overflow:auto;\"><table frame=\"box\" rules=\"cols\">\n",
       "    <tr>\n",
       "        <th style=\"padding-left: 1em; padding-right: 1em; text-align: center\">user</th>\n",
       "        <th style=\"padding-left: 1em; padding-right: 1em; text-align: center\">movie</th>\n",
       "        <th style=\"padding-left: 1em; padding-right: 1em; text-align: center\">rating</th>\n",
       "    </tr>\n",
       "    <tr>\n",
       "        <td style=\"padding-left: 1em; padding-right: 1em; text-align: center; vertical-align: top\">Jacob Smith</td>\n",
       "        <td style=\"padding-left: 1em; padding-right: 1em; text-align: center; vertical-align: top\">Flirting with Disaster</td>\n",
       "        <td style=\"padding-left: 1em; padding-right: 1em; text-align: center; vertical-align: top\">4</td>\n",
       "    </tr>\n",
       "    <tr>\n",
       "        <td style=\"padding-left: 1em; padding-right: 1em; text-align: center; vertical-align: top\">Jacob Smith</td>\n",
       "        <td style=\"padding-left: 1em; padding-right: 1em; text-align: center; vertical-align: top\">Indecent Proposal</td>\n",
       "        <td style=\"padding-left: 1em; padding-right: 1em; text-align: center; vertical-align: top\">3</td>\n",
       "    </tr>\n",
       "    <tr>\n",
       "        <td style=\"padding-left: 1em; padding-right: 1em; text-align: center; vertical-align: top\">Jacob Smith</td>\n",
       "        <td style=\"padding-left: 1em; padding-right: 1em; text-align: center; vertical-align: top\">Runaway Bride</td>\n",
       "        <td style=\"padding-left: 1em; padding-right: 1em; text-align: center; vertical-align: top\">2</td>\n",
       "    </tr>\n",
       "    <tr>\n",
       "        <td style=\"padding-left: 1em; padding-right: 1em; text-align: center; vertical-align: top\">Jacob Smith</td>\n",
       "        <td style=\"padding-left: 1em; padding-right: 1em; text-align: center; vertical-align: top\">Swiss Family Robinson</td>\n",
       "        <td style=\"padding-left: 1em; padding-right: 1em; text-align: center; vertical-align: top\">1</td>\n",
       "    </tr>\n",
       "    <tr>\n",
       "        <td style=\"padding-left: 1em; padding-right: 1em; text-align: center; vertical-align: top\">Jacob Smith</td>\n",
       "        <td style=\"padding-left: 1em; padding-right: 1em; text-align: center; vertical-align: top\">The Mexican</td>\n",
       "        <td style=\"padding-left: 1em; padding-right: 1em; text-align: center; vertical-align: top\">2</td>\n",
       "    </tr>\n",
       "    <tr>\n",
       "        <td style=\"padding-left: 1em; padding-right: 1em; text-align: center; vertical-align: top\">Jacob Smith</td>\n",
       "        <td style=\"padding-left: 1em; padding-right: 1em; text-align: center; vertical-align: top\">Maid in Manhattan</td>\n",
       "        <td style=\"padding-left: 1em; padding-right: 1em; text-align: center; vertical-align: top\">4</td>\n",
       "    </tr>\n",
       "    <tr>\n",
       "        <td style=\"padding-left: 1em; padding-right: 1em; text-align: center; vertical-align: top\">Jacob Smith</td>\n",
       "        <td style=\"padding-left: 1em; padding-right: 1em; text-align: center; vertical-align: top\">A Charlie Brown<br>Thanksgiving / The ...</td>\n",
       "        <td style=\"padding-left: 1em; padding-right: 1em; text-align: center; vertical-align: top\">3</td>\n",
       "    </tr>\n",
       "    <tr>\n",
       "        <td style=\"padding-left: 1em; padding-right: 1em; text-align: center; vertical-align: top\">Jacob Smith</td>\n",
       "        <td style=\"padding-left: 1em; padding-right: 1em; text-align: center; vertical-align: top\">Brazil</td>\n",
       "        <td style=\"padding-left: 1em; padding-right: 1em; text-align: center; vertical-align: top\">1</td>\n",
       "    </tr>\n",
       "    <tr>\n",
       "        <td style=\"padding-left: 1em; padding-right: 1em; text-align: center; vertical-align: top\">Jacob Smith</td>\n",
       "        <td style=\"padding-left: 1em; padding-right: 1em; text-align: center; vertical-align: top\">Forrest Gump</td>\n",
       "        <td style=\"padding-left: 1em; padding-right: 1em; text-align: center; vertical-align: top\">3</td>\n",
       "    </tr>\n",
       "    <tr>\n",
       "        <td style=\"padding-left: 1em; padding-right: 1em; text-align: center; vertical-align: top\">Jacob Smith</td>\n",
       "        <td style=\"padding-left: 1em; padding-right: 1em; text-align: center; vertical-align: top\">It Happened One Night</td>\n",
       "        <td style=\"padding-left: 1em; padding-right: 1em; text-align: center; vertical-align: top\">4</td>\n",
       "    </tr>\n",
       "</table>\n",
       "[10 rows x 3 columns]<br/>\n",
       "</div>"
      ],
      "text/plain": [
       "Columns:\n",
       "\tuser\tstr\n",
       "\tmovie\tstr\n",
       "\trating\tint\n",
       "\n",
       "Rows: 10\n",
       "\n",
       "Data:\n",
       "+-------------+-------------------------------+--------+\n",
       "|     user    |             movie             | rating |\n",
       "+-------------+-------------------------------+--------+\n",
       "| Jacob Smith |     Flirting with Disaster    |   4    |\n",
       "| Jacob Smith |       Indecent Proposal       |   3    |\n",
       "| Jacob Smith |         Runaway Bride         |   2    |\n",
       "| Jacob Smith |     Swiss Family Robinson     |   1    |\n",
       "| Jacob Smith |          The Mexican          |   2    |\n",
       "| Jacob Smith |       Maid in Manhattan       |   4    |\n",
       "| Jacob Smith | A Charlie Brown Thanksgivi... |   3    |\n",
       "| Jacob Smith |             Brazil            |   1    |\n",
       "| Jacob Smith |          Forrest Gump         |   3    |\n",
       "| Jacob Smith |     It Happened One Night     |   4    |\n",
       "+-------------+-------------------------------+--------+\n",
       "[10 rows x 3 columns]"
      ]
     },
     "execution_count": 2,
     "metadata": {},
     "output_type": "execute_result"
    }
   ],
   "source": [
    "data = graphlab.SFrame.read_csv(\"http://s3.amazonaws.com/dato-datasets/movie_ratings/training_data.csv\", column_type_hints={\"rating\":int})\n",
    "data.head()"
   ]
  },
  {
   "cell_type": "markdown",
   "metadata": {},
   "source": [
    "<h3>Step 3: Build a model</h3>\n",
    "\n",
    "We have the data.  It's time to build a model.  Now, have you ever tried typing \"item similarity, matrix factorization, factorization machine, popularity\" ten times in a row?  We have, and we don't recommend it.  (Harhar.)  There are many good models for making recommendations, but sometimes even knowing the right names can be a challenge, much less typing them time after time.\n",
    "\n",
    "This is why GraphLab Create provides a default recommender called ... `recommender`.  You can build a default recommender with `recommender.create()`.  It requires a dataset to use for training the model, as well as the names of the columns that contain the user IDs, the item IDs, and the ratings (if present)."
   ]
  },
  {
   "cell_type": "code",
   "execution_count": 3,
   "metadata": {
    "collapsed": false
   },
   "outputs": [
    {
     "data": {
      "text/html": [
       "<pre>PROGRESS: Recsys training: model = ranking_factorization_recommender</pre>"
      ],
      "text/plain": [
       "PROGRESS: Recsys training: model = ranking_factorization_recommender"
      ]
     },
     "metadata": {},
     "output_type": "display_data"
    },
    {
     "data": {
      "text/html": [
       "<pre>PROGRESS: Preparing data set.</pre>"
      ],
      "text/plain": [
       "PROGRESS: Preparing data set."
      ]
     },
     "metadata": {},
     "output_type": "display_data"
    },
    {
     "data": {
      "text/html": [
       "<pre>PROGRESS:     Data has 82068 observations with 334 users and 7714 items.</pre>"
      ],
      "text/plain": [
       "PROGRESS:     Data has 82068 observations with 334 users and 7714 items."
      ]
     },
     "metadata": {},
     "output_type": "display_data"
    },
    {
     "data": {
      "text/html": [
       "<pre>PROGRESS:     Data prepared in: 0.204213s</pre>"
      ],
      "text/plain": [
       "PROGRESS:     Data prepared in: 0.204213s"
      ]
     },
     "metadata": {},
     "output_type": "display_data"
    },
    {
     "data": {
      "text/html": [
       "<pre>PROGRESS: Training ranking_factorization_recommender for recommendations.</pre>"
      ],
      "text/plain": [
       "PROGRESS: Training ranking_factorization_recommender for recommendations."
      ]
     },
     "metadata": {},
     "output_type": "display_data"
    },
    {
     "data": {
      "text/html": [
       "<pre>PROGRESS: +--------------------------------+--------------------------------------------------+----------+</pre>"
      ],
      "text/plain": [
       "PROGRESS: +--------------------------------+--------------------------------------------------+----------+"
      ]
     },
     "metadata": {},
     "output_type": "display_data"
    },
    {
     "data": {
      "text/html": [
       "<pre>PROGRESS: | Parameter                      | Description                                      | Value    |</pre>"
      ],
      "text/plain": [
       "PROGRESS: | Parameter                      | Description                                      | Value    |"
      ]
     },
     "metadata": {},
     "output_type": "display_data"
    },
    {
     "data": {
      "text/html": [
       "<pre>PROGRESS: +--------------------------------+--------------------------------------------------+----------+</pre>"
      ],
      "text/plain": [
       "PROGRESS: +--------------------------------+--------------------------------------------------+----------+"
      ]
     },
     "metadata": {},
     "output_type": "display_data"
    },
    {
     "data": {
      "text/html": [
       "<pre>PROGRESS: | num_factors                    | Factor Dimension                                 | 32       |</pre>"
      ],
      "text/plain": [
       "PROGRESS: | num_factors                    | Factor Dimension                                 | 32       |"
      ]
     },
     "metadata": {},
     "output_type": "display_data"
    },
    {
     "data": {
      "text/html": [
       "<pre>PROGRESS: | regularization                 | L2 Regularization on Factors                     | 1e-09    |</pre>"
      ],
      "text/plain": [
       "PROGRESS: | regularization                 | L2 Regularization on Factors                     | 1e-09    |"
      ]
     },
     "metadata": {},
     "output_type": "display_data"
    },
    {
     "data": {
      "text/html": [
       "<pre>PROGRESS: | solver                         | Solver used for training                         | sgd      |</pre>"
      ],
      "text/plain": [
       "PROGRESS: | solver                         | Solver used for training                         | sgd      |"
      ]
     },
     "metadata": {},
     "output_type": "display_data"
    },
    {
     "data": {
      "text/html": [
       "<pre>PROGRESS: | linear_regularization          | L2 Regularization on Linear Coefficients         | 1e-09    |</pre>"
      ],
      "text/plain": [
       "PROGRESS: | linear_regularization          | L2 Regularization on Linear Coefficients         | 1e-09    |"
      ]
     },
     "metadata": {},
     "output_type": "display_data"
    },
    {
     "data": {
      "text/html": [
       "<pre>PROGRESS: | ranking_regularization         | Rank-based Regularization Weight                 | 0.25     |</pre>"
      ],
      "text/plain": [
       "PROGRESS: | ranking_regularization         | Rank-based Regularization Weight                 | 0.25     |"
      ]
     },
     "metadata": {},
     "output_type": "display_data"
    },
    {
     "data": {
      "text/html": [
       "<pre>PROGRESS: | max_iterations                 | Maximum Number of Iterations                     | 25       |</pre>"
      ],
      "text/plain": [
       "PROGRESS: | max_iterations                 | Maximum Number of Iterations                     | 25       |"
      ]
     },
     "metadata": {},
     "output_type": "display_data"
    },
    {
     "data": {
      "text/html": [
       "<pre>PROGRESS: +--------------------------------+--------------------------------------------------+----------+</pre>"
      ],
      "text/plain": [
       "PROGRESS: +--------------------------------+--------------------------------------------------+----------+"
      ]
     },
     "metadata": {},
     "output_type": "display_data"
    },
    {
     "data": {
      "text/html": [
       "<pre>PROGRESS:   Optimizing model using SGD; tuning step size.</pre>"
      ],
      "text/plain": [
       "PROGRESS:   Optimizing model using SGD; tuning step size."
      ]
     },
     "metadata": {},
     "output_type": "display_data"
    },
    {
     "data": {
      "text/html": [
       "<pre>PROGRESS:   Using 10258 / 82068 points for tuning the step size.</pre>"
      ],
      "text/plain": [
       "PROGRESS:   Using 10258 / 82068 points for tuning the step size."
      ]
     },
     "metadata": {},
     "output_type": "display_data"
    },
    {
     "data": {
      "text/html": [
       "<pre>PROGRESS: +---------+-------------------+------------------------------------------+</pre>"
      ],
      "text/plain": [
       "PROGRESS: +---------+-------------------+------------------------------------------+"
      ]
     },
     "metadata": {},
     "output_type": "display_data"
    },
    {
     "data": {
      "text/html": [
       "<pre>PROGRESS: | Attempt | Initial Step Size | Estimated Objective Value                |</pre>"
      ],
      "text/plain": [
       "PROGRESS: | Attempt | Initial Step Size | Estimated Objective Value                |"
      ]
     },
     "metadata": {},
     "output_type": "display_data"
    },
    {
     "data": {
      "text/html": [
       "<pre>PROGRESS: +---------+-------------------+------------------------------------------+</pre>"
      ],
      "text/plain": [
       "PROGRESS: +---------+-------------------+------------------------------------------+"
      ]
     },
     "metadata": {},
     "output_type": "display_data"
    },
    {
     "data": {
      "text/html": [
       "<pre>PROGRESS: | 0       | 25                | Not Viable                               |</pre>"
      ],
      "text/plain": [
       "PROGRESS: | 0       | 25                | Not Viable                               |"
      ]
     },
     "metadata": {},
     "output_type": "display_data"
    },
    {
     "data": {
      "text/html": [
       "<pre>PROGRESS: | 1       | 6.25              | Not Viable                               |</pre>"
      ],
      "text/plain": [
       "PROGRESS: | 1       | 6.25              | Not Viable                               |"
      ]
     },
     "metadata": {},
     "output_type": "display_data"
    },
    {
     "data": {
      "text/html": [
       "<pre>PROGRESS: | 2       | 1.5625            | Not Viable                               |</pre>"
      ],
      "text/plain": [
       "PROGRESS: | 2       | 1.5625            | Not Viable                               |"
      ]
     },
     "metadata": {},
     "output_type": "display_data"
    },
    {
     "data": {
      "text/html": [
       "<pre>PROGRESS: | 3       | 0.390625          | Not Viable                               |</pre>"
      ],
      "text/plain": [
       "PROGRESS: | 3       | 0.390625          | Not Viable                               |"
      ]
     },
     "metadata": {},
     "output_type": "display_data"
    },
    {
     "data": {
      "text/html": [
       "<pre>PROGRESS: | 4       | 0.0976562         | 1.61865                                  |</pre>"
      ],
      "text/plain": [
       "PROGRESS: | 4       | 0.0976562         | 1.61865                                  |"
      ]
     },
     "metadata": {},
     "output_type": "display_data"
    },
    {
     "data": {
      "text/html": [
       "<pre>PROGRESS: | 5       | 0.0488281         | 1.66185                                  |</pre>"
      ],
      "text/plain": [
       "PROGRESS: | 5       | 0.0488281         | 1.66185                                  |"
      ]
     },
     "metadata": {},
     "output_type": "display_data"
    },
    {
     "data": {
      "text/html": [
       "<pre>PROGRESS: | 6       | 0.0244141         | 1.72837                                  |</pre>"
      ],
      "text/plain": [
       "PROGRESS: | 6       | 0.0244141         | 1.72837                                  |"
      ]
     },
     "metadata": {},
     "output_type": "display_data"
    },
    {
     "data": {
      "text/html": [
       "<pre>PROGRESS: | 7       | 0.012207          | 1.80785                                  |</pre>"
      ],
      "text/plain": [
       "PROGRESS: | 7       | 0.012207          | 1.80785                                  |"
      ]
     },
     "metadata": {},
     "output_type": "display_data"
    },
    {
     "data": {
      "text/html": [
       "<pre>PROGRESS: +---------+-------------------+------------------------------------------+</pre>"
      ],
      "text/plain": [
       "PROGRESS: +---------+-------------------+------------------------------------------+"
      ]
     },
     "metadata": {},
     "output_type": "display_data"
    },
    {
     "data": {
      "text/html": [
       "<pre>PROGRESS: | Final   | 0.0976562         | 1.61865                                  |</pre>"
      ],
      "text/plain": [
       "PROGRESS: | Final   | 0.0976562         | 1.61865                                  |"
      ]
     },
     "metadata": {},
     "output_type": "display_data"
    },
    {
     "data": {
      "text/html": [
       "<pre>PROGRESS: +---------+-------------------+------------------------------------------+</pre>"
      ],
      "text/plain": [
       "PROGRESS: +---------+-------------------+------------------------------------------+"
      ]
     },
     "metadata": {},
     "output_type": "display_data"
    },
    {
     "data": {
      "text/html": [
       "<pre>PROGRESS: Starting Optimization.</pre>"
      ],
      "text/plain": [
       "PROGRESS: Starting Optimization."
      ]
     },
     "metadata": {},
     "output_type": "display_data"
    },
    {
     "data": {
      "text/html": [
       "<pre>PROGRESS: +---------+--------------+-------------------+-----------------------+-------------+</pre>"
      ],
      "text/plain": [
       "PROGRESS: +---------+--------------+-------------------+-----------------------+-------------+"
      ]
     },
     "metadata": {},
     "output_type": "display_data"
    },
    {
     "data": {
      "text/html": [
       "<pre>PROGRESS: | Iter.   | Elapsed Time | Approx. Objective | Approx. Training RMSE | Step Size   |</pre>"
      ],
      "text/plain": [
       "PROGRESS: | Iter.   | Elapsed Time | Approx. Objective | Approx. Training RMSE | Step Size   |"
      ]
     },
     "metadata": {},
     "output_type": "display_data"
    },
    {
     "data": {
      "text/html": [
       "<pre>PROGRESS: +---------+--------------+-------------------+-----------------------+-------------+</pre>"
      ],
      "text/plain": [
       "PROGRESS: +---------+--------------+-------------------+-----------------------+-------------+"
      ]
     },
     "metadata": {},
     "output_type": "display_data"
    },
    {
     "data": {
      "text/html": [
       "<pre>PROGRESS: | Initial | 339us        | 2.40069           | 1.10654               |             |</pre>"
      ],
      "text/plain": [
       "PROGRESS: | Initial | 339us        | 2.40069           | 1.10654               |             |"
      ]
     },
     "metadata": {},
     "output_type": "display_data"
    },
    {
     "data": {
      "text/html": [
       "<pre>PROGRESS: +---------+--------------+-------------------+-----------------------+-------------+</pre>"
      ],
      "text/plain": [
       "PROGRESS: +---------+--------------+-------------------+-----------------------+-------------+"
      ]
     },
     "metadata": {},
     "output_type": "display_data"
    },
    {
     "data": {
      "text/html": [
       "<pre>PROGRESS: | 1       | 121.209ms    | 2.01682           | 1.13516               | 0.0976562   |</pre>"
      ],
      "text/plain": [
       "PROGRESS: | 1       | 121.209ms    | 2.01682           | 1.13516               | 0.0976562   |"
      ]
     },
     "metadata": {},
     "output_type": "display_data"
    },
    {
     "data": {
      "text/html": [
       "<pre>PROGRESS: | 2       | 236.228ms    | 1.76884           | 1.06319               | 0.0580668   |</pre>"
      ],
      "text/plain": [
       "PROGRESS: | 2       | 236.228ms    | 1.76884           | 1.06319               | 0.0580668   |"
      ]
     },
     "metadata": {},
     "output_type": "display_data"
    },
    {
     "data": {
      "text/html": [
       "<pre>PROGRESS: | 3       | 344.786ms    | 1.55833           | 0.983183              | 0.042841    |</pre>"
      ],
      "text/plain": [
       "PROGRESS: | 3       | 344.786ms    | 1.55833           | 0.983183              | 0.042841    |"
      ]
     },
     "metadata": {},
     "output_type": "display_data"
    },
    {
     "data": {
      "text/html": [
       "<pre>PROGRESS: | 4       | 455.018ms    | 1.36545           | 0.906899              | 0.0345267   |</pre>"
      ],
      "text/plain": [
       "PROGRESS: | 4       | 455.018ms    | 1.36545           | 0.906899              | 0.0345267   |"
      ]
     },
     "metadata": {},
     "output_type": "display_data"
    },
    {
     "data": {
      "text/html": [
       "<pre>PROGRESS: | 5       | 558.047ms    | 1.19205           | 0.832933              | 0.029206    |</pre>"
      ],
      "text/plain": [
       "PROGRESS: | 5       | 558.047ms    | 1.19205           | 0.832933              | 0.029206    |"
      ]
     },
     "metadata": {},
     "output_type": "display_data"
    },
    {
     "data": {
      "text/html": [
       "<pre>PROGRESS: | 6       | 688.083ms    | 1.04541           | 0.765651              | 0.0254734   |</pre>"
      ],
      "text/plain": [
       "PROGRESS: | 6       | 688.083ms    | 1.04541           | 0.765651              | 0.0254734   |"
      ]
     },
     "metadata": {},
     "output_type": "display_data"
    },
    {
     "data": {
      "text/html": [
       "<pre>PROGRESS: | 10      | 1.14s        | 0.718906          | 0.605205              | 0.017366    |</pre>"
      ],
      "text/plain": [
       "PROGRESS: | 10      | 1.14s        | 0.718906          | 0.605205              | 0.017366    |"
      ]
     },
     "metadata": {},
     "output_type": "display_data"
    },
    {
     "data": {
      "text/html": [
       "<pre>PROGRESS: | 11      | 1.23s        | 0.674778          | 0.583149              | 0.016168    |</pre>"
      ],
      "text/plain": [
       "PROGRESS: | 11      | 1.23s        | 0.674778          | 0.583149              | 0.016168    |"
      ]
     },
     "metadata": {},
     "output_type": "display_data"
    },
    {
     "data": {
      "text/html": [
       "<pre>PROGRESS: | 20      | 2.22s        | 0.518888          | 0.497694              | 0.0103259   |</pre>"
      ],
      "text/plain": [
       "PROGRESS: | 20      | 2.22s        | 0.518888          | 0.497694              | 0.0103259   |"
      ]
     },
     "metadata": {},
     "output_type": "display_data"
    },
    {
     "data": {
      "text/html": [
       "<pre>PROGRESS: +---------+--------------+-------------------+-----------------------+-------------+</pre>"
      ],
      "text/plain": [
       "PROGRESS: +---------+--------------+-------------------+-----------------------+-------------+"
      ]
     },
     "metadata": {},
     "output_type": "display_data"
    },
    {
     "data": {
      "text/html": [
       "<pre>PROGRESS: Optimization Complete: Maximum number of passes through the data reached.</pre>"
      ],
      "text/plain": [
       "PROGRESS: Optimization Complete: Maximum number of passes through the data reached."
      ]
     },
     "metadata": {},
     "output_type": "display_data"
    },
    {
     "data": {
      "text/html": [
       "<pre>PROGRESS: Computing final objective value and training RMSE.</pre>"
      ],
      "text/plain": [
       "PROGRESS: Computing final objective value and training RMSE."
      ]
     },
     "metadata": {},
     "output_type": "display_data"
    },
    {
     "data": {
      "text/html": [
       "<pre>PROGRESS:        Final objective value: 0.448549</pre>"
      ],
      "text/plain": [
       "PROGRESS:        Final objective value: 0.448549"
      ]
     },
     "metadata": {},
     "output_type": "display_data"
    },
    {
     "data": {
      "text/html": [
       "<pre>PROGRESS:        Final training RMSE: 0.417582</pre>"
      ],
      "text/plain": [
       "PROGRESS:        Final training RMSE: 0.417582"
      ]
     },
     "metadata": {},
     "output_type": "display_data"
    }
   ],
   "source": [
    "# Build a default recommender (a Matrix Factorization model)\n",
    "# The data needs to contain at least three columns: user, item, and rating.\n",
    "# All other columns in the dataset are ignored by the default recommender.\n",
    "model = graphlab.recommender.create(data, user_id=\"user\", item_id=\"movie\", target=\"rating\")"
   ]
  },
  {
   "cell_type": "markdown",
   "metadata": {},
   "source": [
    "<b>Details</b> (and the small devil therein):\n",
    "\n",
    "Under the hood, the type of recommender is chosen based on the provided data and whether the desired task is ranking (default) or rating prediction.  The default recommender for this type of data and the default ranking task is a matrix factorization model, implemented on top of the disk-backed SFrame data structure.  The default solver is stochastic gradient descent, and the recommender model used is the <a href=\"https://dato.com/products/create/docs/generated/graphlab.recommender.ranking_factorization_model.RankingFactorizationModel.html\"> RankingFactorizationModel </a>, which balances rating prediction with a ranking objective.  The default `create()` function does not allow changes to the default parameters of a specific model, but it is just as easy to build a specific recommender with your own parameters using the appropriate model-specific `create()` function. \n",
    "\n",
    "<h3>Step 4: Make recommendations</h3>\n",
    "\n",
    "The trained model can now make recommendations of new items for users.  To do so, call `recommend()` with an SArray of user ids.  If `users` is set to None, then `recommend()` will make recommendations for all the users seen during training, automatically excluding the items that are observed for each user.  In other words, if `data` contains a row \"Alice, The Great Gatsby\", then `recommend()` will not recommend \"The Great Gatsby\" for user \"Alice\".  It will return at most `k` new items for each user, sorted by their rank.  It will return fewer than `k` items if there are not enough items that the user has not already rated or seen.\n",
    "\n",
    "The `score` column of the output contains the *unnormalized* prediction scores for each user-item pair.  The semantic meanings of these scores may differ between models.  For the linear regression model, for instance, a higher average score for a user means that the model thinks that this user is generally more enthusiastic than others.  See the <a href=\"https://dato.com/learn/notebooks/basic_recommender_functionalities.html\">Basic Recommender Functionalities tutorial</a> for more details."
   ]
  },
  {
   "cell_type": "code",
   "execution_count": 4,
   "metadata": {
    "collapsed": false
   },
   "outputs": [
    {
     "data": {
      "text/html": [
       "<div style=\"max-height:1000px;max-width:1500px;overflow:auto;\"><table frame=\"box\" rules=\"cols\">\n",
       "    <tr>\n",
       "        <th style=\"padding-left: 1em; padding-right: 1em; text-align: center\">user</th>\n",
       "        <th style=\"padding-left: 1em; padding-right: 1em; text-align: center\">movie</th>\n",
       "        <th style=\"padding-left: 1em; padding-right: 1em; text-align: center\">score</th>\n",
       "        <th style=\"padding-left: 1em; padding-right: 1em; text-align: center\">rank</th>\n",
       "    </tr>\n",
       "    <tr>\n",
       "        <td style=\"padding-left: 1em; padding-right: 1em; text-align: center; vertical-align: top\">Jacob Smith</td>\n",
       "        <td style=\"padding-left: 1em; padding-right: 1em; text-align: center; vertical-align: top\">Sex and the City: Season<br>2 ...</td>\n",
       "        <td style=\"padding-left: 1em; padding-right: 1em; text-align: center; vertical-align: top\">5.11639140642</td>\n",
       "        <td style=\"padding-left: 1em; padding-right: 1em; text-align: center; vertical-align: top\">1</td>\n",
       "    </tr>\n",
       "    <tr>\n",
       "        <td style=\"padding-left: 1em; padding-right: 1em; text-align: center; vertical-align: top\">Jacob Smith</td>\n",
       "        <td style=\"padding-left: 1em; padding-right: 1em; text-align: center; vertical-align: top\">Sex and the City: Season<br>1 ...</td>\n",
       "        <td style=\"padding-left: 1em; padding-right: 1em; text-align: center; vertical-align: top\">5.02684734857</td>\n",
       "        <td style=\"padding-left: 1em; padding-right: 1em; text-align: center; vertical-align: top\">2</td>\n",
       "    </tr>\n",
       "    <tr>\n",
       "        <td style=\"padding-left: 1em; padding-right: 1em; text-align: center; vertical-align: top\">Jacob Smith</td>\n",
       "        <td style=\"padding-left: 1em; padding-right: 1em; text-align: center; vertical-align: top\">Sex and the City: Season<br>6: Part 2 ...</td>\n",
       "        <td style=\"padding-left: 1em; padding-right: 1em; text-align: center; vertical-align: top\">4.85449193514</td>\n",
       "        <td style=\"padding-left: 1em; padding-right: 1em; text-align: center; vertical-align: top\">3</td>\n",
       "    </tr>\n",
       "    <tr>\n",
       "        <td style=\"padding-left: 1em; padding-right: 1em; text-align: center; vertical-align: top\">Jacob Smith</td>\n",
       "        <td style=\"padding-left: 1em; padding-right: 1em; text-align: center; vertical-align: top\">Sex and the City: Season<br>3 ...</td>\n",
       "        <td style=\"padding-left: 1em; padding-right: 1em; text-align: center; vertical-align: top\">4.67698882616</td>\n",
       "        <td style=\"padding-left: 1em; padding-right: 1em; text-align: center; vertical-align: top\">4</td>\n",
       "    </tr>\n",
       "    <tr>\n",
       "        <td style=\"padding-left: 1em; padding-right: 1em; text-align: center; vertical-align: top\">Jacob Smith</td>\n",
       "        <td style=\"padding-left: 1em; padding-right: 1em; text-align: center; vertical-align: top\">Doctor Zhivago</td>\n",
       "        <td style=\"padding-left: 1em; padding-right: 1em; text-align: center; vertical-align: top\">4.6545002321</td>\n",
       "        <td style=\"padding-left: 1em; padding-right: 1em; text-align: center; vertical-align: top\">5</td>\n",
       "    </tr>\n",
       "    <tr>\n",
       "        <td style=\"padding-left: 1em; padding-right: 1em; text-align: center; vertical-align: top\">Mason Smith</td>\n",
       "        <td style=\"padding-left: 1em; padding-right: 1em; text-align: center; vertical-align: top\">Mulholland Drive</td>\n",
       "        <td style=\"padding-left: 1em; padding-right: 1em; text-align: center; vertical-align: top\">6.07918380297</td>\n",
       "        <td style=\"padding-left: 1em; padding-right: 1em; text-align: center; vertical-align: top\">1</td>\n",
       "    </tr>\n",
       "    <tr>\n",
       "        <td style=\"padding-left: 1em; padding-right: 1em; text-align: center; vertical-align: top\">Mason Smith</td>\n",
       "        <td style=\"padding-left: 1em; padding-right: 1em; text-align: center; vertical-align: top\">Rushmore</td>\n",
       "        <td style=\"padding-left: 1em; padding-right: 1em; text-align: center; vertical-align: top\">5.84550069368</td>\n",
       "        <td style=\"padding-left: 1em; padding-right: 1em; text-align: center; vertical-align: top\">2</td>\n",
       "    </tr>\n",
       "    <tr>\n",
       "        <td style=\"padding-left: 1em; padding-right: 1em; text-align: center; vertical-align: top\">Mason Smith</td>\n",
       "        <td style=\"padding-left: 1em; padding-right: 1em; text-align: center; vertical-align: top\">The Sound of Music</td>\n",
       "        <td style=\"padding-left: 1em; padding-right: 1em; text-align: center; vertical-align: top\">5.73360227144</td>\n",
       "        <td style=\"padding-left: 1em; padding-right: 1em; text-align: center; vertical-align: top\">3</td>\n",
       "    </tr>\n",
       "    <tr>\n",
       "        <td style=\"padding-left: 1em; padding-right: 1em; text-align: center; vertical-align: top\">Mason Smith</td>\n",
       "        <td style=\"padding-left: 1em; padding-right: 1em; text-align: center; vertical-align: top\">Napoleon Dynamite</td>\n",
       "        <td style=\"padding-left: 1em; padding-right: 1em; text-align: center; vertical-align: top\">5.48369811571</td>\n",
       "        <td style=\"padding-left: 1em; padding-right: 1em; text-align: center; vertical-align: top\">4</td>\n",
       "    </tr>\n",
       "    <tr>\n",
       "        <td style=\"padding-left: 1em; padding-right: 1em; text-align: center; vertical-align: top\">Mason Smith</td>\n",
       "        <td style=\"padding-left: 1em; padding-right: 1em; text-align: center; vertical-align: top\">Six Feet Under: Season 1</td>\n",
       "        <td style=\"padding-left: 1em; padding-right: 1em; text-align: center; vertical-align: top\">5.38490270174</td>\n",
       "        <td style=\"padding-left: 1em; padding-right: 1em; text-align: center; vertical-align: top\">5</td>\n",
       "    </tr>\n",
       "</table>\n",
       "[10 rows x 4 columns]<br/>\n",
       "</div>"
      ],
      "text/plain": [
       "Columns:\n",
       "\tuser\tstr\n",
       "\tmovie\tstr\n",
       "\tscore\tfloat\n",
       "\trank\tint\n",
       "\n",
       "Rows: 10\n",
       "\n",
       "Data:\n",
       "+-------------+-------------------------------+---------------+------+\n",
       "|     user    |             movie             |     score     | rank |\n",
       "+-------------+-------------------------------+---------------+------+\n",
       "| Jacob Smith |   Sex and the City: Season 2  | 5.11639140642 |  1   |\n",
       "| Jacob Smith |   Sex and the City: Season 1  | 5.02684734857 |  2   |\n",
       "| Jacob Smith | Sex and the City: Season 6... | 4.85449193514 |  3   |\n",
       "| Jacob Smith |   Sex and the City: Season 3  | 4.67698882616 |  4   |\n",
       "| Jacob Smith |         Doctor Zhivago        |  4.6545002321 |  5   |\n",
       "| Mason Smith |        Mulholland Drive       | 6.07918380297 |  1   |\n",
       "| Mason Smith |            Rushmore           | 5.84550069368 |  2   |\n",
       "| Mason Smith |       The Sound of Music      | 5.73360227144 |  3   |\n",
       "| Mason Smith |       Napoleon Dynamite       | 5.48369811571 |  4   |\n",
       "| Mason Smith |    Six Feet Under: Season 1   | 5.38490270174 |  5   |\n",
       "+-------------+-------------------------------+---------------+------+\n",
       "[10 rows x 4 columns]"
      ]
     },
     "execution_count": 4,
     "metadata": {},
     "output_type": "execute_result"
    }
   ],
   "source": [
    "# You can now make recommendations for all the users you've just trained on\n",
    "results = model.recommend(users=None, k=5)\n",
    "results.head()"
   ]
  },
  {
   "cell_type": "markdown",
   "metadata": {},
   "source": [
    "<h3>Step 5: Save the model</h3>\n",
    "\n",
    "The model can be saved for later use, either on the local machine or in an AWS S3 bucket.  The saved model sits in its own directory, and can be loaded back in later to make more predictions.\n"
   ]
  },
  {
   "cell_type": "code",
   "execution_count": 5,
   "metadata": {
    "collapsed": false
   },
   "outputs": [],
   "source": [
    "# Save the model for later use\n",
    "model.save(\"my_model\")"
   ]
  },
  {
   "cell_type": "markdown",
   "metadata": {},
   "source": [
    "Et voil&agrave;! You've just built your first recommender with GraphLab Create.  Congratulations!\n",
    "\n",
    "(Looking for more details about the modules and functions? Check out the <a href=\"https://dato.com/products/create/docs/\">API docs</a>.)"
   ]
  }
 ],
 "metadata": {
  "kernelspec": {
   "display_name": "Python 2",
   "language": "python",
   "name": "python2"
  },
  "language_info": {
   "codemirror_mode": {
    "name": "ipython",
    "version": 2
   },
   "file_extension": ".py",
   "mimetype": "text/x-python",
   "name": "python",
   "nbconvert_exporter": "python",
   "pygments_lexer": "ipython2",
   "version": "2.7.10"
  }
 },
 "nbformat": 4,
 "nbformat_minor": 0
}
