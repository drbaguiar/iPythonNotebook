{
 "cells": [
  {
   "cell_type": "markdown",
   "metadata": {},
   "source": [
    "#SQL Lite\n"
   ]
  },
  {
   "cell_type": "markdown",
   "metadata": {},
   "source": [
    "Install\n",
    "\n",
    "    sudo apt-get install sqlite3\n",
    "\n",
    "The SQLite libraries are supplied with an SQLite shell. Use this command to invoke the shell and create a database:\n",
    "\n",
    "    sqlite3 mydatabase.db\n",
    "\n",
    "Create a simple database that could be used for logging temperatures in different parts of a home. The first thing I need to do is create a table:\n",
    "\n",
    "\n",
    "    BEGIN;\n",
    "    CREATE TABLE temps (tdate DATE, ttime TIME, zone TEXT, temperature NUMERIC);\n",
    "    COMMIT;\n",
    "\n",
    "Next we need to add some data:\n",
    "\n",
    "    BEGIN;\n",
    "    INSERT INTO temps values(date('now', '-1 day'), time('now'), \"kitchen\", 20.6);\n",
    "    INSERT INTO temps values(date('now', '-1 day'), time('now'), \"greenhouse\", 26.3);\n",
    "    INSERT INTO temps values(date('now', '-1 day'), time('now'), \"garage\", 18.6);\n",
    "    INSERT INTO temps values(date('now'), time('now', '-12 hours'), \"kitchen\", 19.5);\n",
    "    INSERT INTO temps values(date('now'), time('now', '-12 hours'), \"greenhouse\", 15.1);\n",
    "    INSERT INTO temps values(date('now'), time('now', '-12 hours'), \"garage\", 18.1);\n",
    "    INSERT INTO temps values(date('now'), time('now'), \"kitchen\", 21.2);\n",
    "    INSERT INTO temps values(date('now'), time('now'), \"greenhouse\", 27.1);\n",
    "    INSERT INTO temps values(date('now'), time('now'), \"garage\", 19.1);\n",
    "    COMMIT;\n",
    "    \n",
    "Now we can query the database using the SELECT command:\n",
    "\n",
    "    SELECT * FROM temps WHERE zone=\"garage\";\n",
    "    \n",
    "    SELECT * FROM temps\n",
    "    \n",
    "    SELECT temperature FROM temps WHERE zone=\"garage\";\n",
    "    \n",
    "    SELECT * FROM temps WHERE tdate=date('now','-1 day');\n",
    "    \n",
    "    SELECT * FROM temps WHERE zone=\"kitchen\" AND tdate=date('now','-1 day');\n",
    " "
   ]
  },
  {
   "cell_type": "markdown",
   "metadata": {},
   "source": [
    "Using Python\n",
    "\n",
    "    #!/usr/bin/env python\n",
    "\n",
    "    import sqlite3\n",
    "\n",
    "    conn=sqlite3.connect('mydatabase.db')\n",
    "\n",
    "    curs=conn.cursor()\n",
    "\n",
    "    print \"\\nEntire database contents:\\n\"\n",
    "    for row in curs.execute(\"SELECT * FROM temps\"):\n",
    "        print row\n",
    "\n",
    "    print \"\\nDatabase entries for the garage:\\n\"\n",
    "    for row in curs.execute(\"SELECT * FROM temps WHERE zone='garage'\"):\n",
    "        print row\n",
    "\n",
    "    conn.close()\n",
    "\n",
    "Save this as database.py and make it executable with this command:\n",
    "\n",
    "    chmod +x database.py\n",
    "\n",
    "Each record is printed as a tuple of values, and text is in unicode. Each item in the tuple can be accessed using tuple notation (for example, to access the date from a row in the code above, you would use row[0]. You can convert from unicode using the Python str() function.\n",
    "\n",
    "The example above simple returns database records in the order in they were found. Sometimes you might want to display the data in a particular order. This example selects all entries sorted in ascending order of temperature:\n",
    "\n",
    "    print \"\\nDatabase entries in order of temperature\\n\"\n",
    "    for row in curs.execute(\"SELECT * FROM temps ORDER BY temperature ASC\"):\n",
    "        print row\n",
    "\n",
    "Suppose we plan on using a query repeatedly, but we might want to check for different thresholds. An alternative is to pass a variable to the execute function and let sqlite subsititute that variable in the query:\n",
    "\n",
    "    print \"\\nDatabase entries where the temperature is above x:\\n\"\n",
    "    for row in curs.execute(\"SELECT * FROM temps WHERE temperature>(?)\",(x,)):\n",
    "        print row\n",
    "        \n",
    "Now the query will return any record where the temperature is greater than x. Note that x has to be passed to the execute command as a tuple, not a single variable. In this case we're using a tuple with a single entry, and x is equal to 19.0. \n",
    "\n",
    "Using substitution is useful when writing code to insert a record into a database. In this function, the zone and temperature are passed to the query as variables, and the 'date' and 'time' SQL function is used to generate the current date and time:\n",
    "\n",
    "\n",
    "    def add_temp_reading (zonestr, temp):\n",
    "        # I used triple quotes so that I could break this string into\n",
    "        # two lines for formatting purposes\n",
    "        curs.execute(\"\"\"INSERT INTO temperatures values(date('now'),\n",
    "            time('now'), (?), (?))\"\"\", (zonestr,temp))\n",
    "\n",
    "        # commit the changes\n",
    "        conn.commit()"
   ]
  },
  {
   "cell_type": "code",
   "execution_count": 4,
   "metadata": {
    "collapsed": false
   },
   "outputs": [
    {
     "name": "stdout",
     "output_type": "stream",
     "text": [
      "\n",
      "Entire database contents:\n",
      "\n",
      "(u'2015-11-13', u'19:49:50', u'kitchen', 20.6)\n",
      "(u'2015-11-13', u'19:50:01', u'greenhouse', 26.3)\n",
      "(u'2015-11-13', u'19:50:12', u'garage', 18.6)\n",
      "(u'2015-11-14', u'07:50:27', u'kitchen', 19.5)\n",
      "(u'2015-11-14', u'07:50:38', u'greenhouse', 15.1)\n",
      "(u'2015-11-14', u'07:50:48', u'garage', 18.1)\n",
      "(u'2015-11-14', u'19:51:07', u'kitchen', 21.2)\n",
      "(u'2015-11-14', u'19:51:15', u'greenhouse', 27.1)\n",
      "(u'2015-11-14', u'19:51:24', u'garage', 19.1)\n",
      "\n",
      "Database entries for the garage:\n",
      "\n",
      "(u'2015-11-13', u'19:50:12', u'garage', 18.6)\n",
      "(u'2015-11-14', u'07:50:48', u'garage', 18.1)\n",
      "(u'2015-11-14', u'19:51:24', u'garage', 19.1)\n"
     ]
    }
   ],
   "source": [
    "import sqlite3\n",
    "\n",
    "# Note My sqlite3 database is located and running on raspberry pi 04, which is mapped to s on this computer\n",
    "conn=sqlite3.connect('s:/mydatabase.db')\n",
    "\n",
    "curs=conn.cursor()\n",
    "\n",
    "print \"\\nEntire database contents:\\n\"\n",
    "for row in curs.execute(\"SELECT * FROM temps\"):\n",
    "    print row\n",
    "\n",
    "print \"\\nDatabase entries for the garage:\\n\"\n",
    "for row in curs.execute(\"SELECT * FROM temps WHERE zone='garage'\"):\n",
    "    print row\n",
    "\n",
    "conn.close()"
   ]
  },
  {
   "cell_type": "code",
   "execution_count": 3,
   "metadata": {
    "collapsed": false
   },
   "outputs": [
    {
     "name": "stdout",
     "output_type": "stream",
     "text": [
      "\n",
      "Entire database contents:\n",
      "\n",
      "(u'2015-11-13', u'19:49:50', u'kitchen', 20.6)\n",
      "(u'2015-11-13', u'19:50:01', u'greenhouse', 26.3)\n",
      "(u'2015-11-13', u'19:50:12', u'garage', 18.6)\n",
      "(u'2015-11-14', u'07:50:27', u'kitchen', 19.5)\n",
      "(u'2015-11-14', u'07:50:38', u'greenhouse', 15.1)\n",
      "(u'2015-11-14', u'07:50:48', u'garage', 18.1)\n",
      "(u'2015-11-14', u'19:51:07', u'kitchen', 21.2)\n",
      "(u'2015-11-14', u'19:51:15', u'greenhouse', 27.1)\n",
      "(u'2015-11-14', u'19:51:24', u'garage', 19.1)\n",
      "\n",
      "Database entries for the garage:\n",
      "\n",
      "(u'2015-11-13', u'19:50:12', u'garage', 18.6)\n",
      "(u'2015-11-14', u'07:50:48', u'garage', 18.1)\n",
      "(u'2015-11-14', u'19:51:24', u'garage', 19.1)\n"
     ]
    }
   ],
   "source": [
    "import sqlite3\n",
    "\n",
    "conn=sqlite3.connect('s:/mydatabase.db')\n",
    "\n",
    "curs=conn.cursor()\n",
    "\n",
    "print \"\\nEntire database contents:\\n\"\n",
    "for row in curs.execute(\"SELECT * FROM temps\"):\n",
    "    print row\n",
    "\n",
    "print \"\\nDatabase entries for the garage:\\n\"\n",
    "for row in curs.execute(\"SELECT * FROM temps WHERE zone='garage'\"):\n",
    "    print row\n",
    "\n",
    "conn.close()"
   ]
  },
  {
   "cell_type": "code",
   "execution_count": null,
   "metadata": {
    "collapsed": true
   },
   "outputs": [],
   "source": []
  }
 ],
 "metadata": {
  "kernelspec": {
   "display_name": "Python 2",
   "language": "python",
   "name": "python2"
  },
  "language_info": {
   "codemirror_mode": {
    "name": "ipython",
    "version": 2
   },
   "file_extension": ".py",
   "mimetype": "text/x-python",
   "name": "python",
   "nbconvert_exporter": "python",
   "pygments_lexer": "ipython2",
   "version": "2.7.10"
  }
 },
 "nbformat": 4,
 "nbformat_minor": 0
}
