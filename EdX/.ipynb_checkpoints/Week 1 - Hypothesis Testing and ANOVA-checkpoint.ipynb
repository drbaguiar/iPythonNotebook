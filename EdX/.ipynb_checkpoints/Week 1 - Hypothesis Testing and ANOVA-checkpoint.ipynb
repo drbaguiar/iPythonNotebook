{
 "cells": [
  {
   "cell_type": "markdown",
   "metadata": {},
   "source": [
    "# Class Project\n",
    "\n",
    "##Codebook\n",
    "After a review of the various code books available for the class, I decided to use the Gapminder data set.\n",
    "\n",
    "##Question\n",
    "Is there an association between Internet usage and suicide rates?  I will use the variables Internetuserate and suicideper100TH rate in my code book.  "
   ]
  },
  {
   "cell_type": "markdown",
   "metadata": {},
   "source": [
    "##Literature Review\n",
    "There is concern that the Internet is playing an increasing role in self-harm and suicide. Internet use may exert both positive and negative effects on young people at risk of self-harm or suicide. The internet has created channels of communication that can be misused to 'cyber-bully' peers; both cyber-bullying and general internet use have been found to correlate with increased risk of self-harm, suicidal idealization, and depression.  Youth who self-harm or are suicidal often make use of the internet. It is most commonly used for constructive reasons such as seeking support and coping strategies, but may exert a negative influence, normalizing self-harm and potentially discouraging disclosure or professional help-seeking. Correlations have been found between internet exposure and violent methods of self-harm.\n",
    "\n",
    "Baker D, & Fortune S (2008) Understanding self-harm and suicide websites a qualitative interview study of young adult website users. Crisis 29: 118-122.\n",
    "\n",
    "Daine K, Hawton K, Singaravelu V, Stewart A, Simkin S, Montgomery P (2013) The Power of the Web: A Systematic Review of Studies of the Influence of the Internet on Self-Harm and Suicide in Young People. PLoS ONE 8(10): e77555. doi:10.1371/journal.pone.0077555\n",
    "\n",
    "Dunlop SM, More E, Romer D (2011) Where do youth learn about suicides on the Internet, and what influence does this have on suicidal ideation? J Child Psychol Psychiatry 52: 1073-1080.\n",
    "\n",
    "Durkee T, Hadlaczky G, Westerlund M, Carli V (2011) Internet pathways in suicidality: A review of the evidence. IntJEnvironResPublic Health 8: 3938- 3952.\n",
    "\n",
    "Gould MS, Wallenstein S, Kleinman MH, O'Carroll P, Mercy J (1990) Suicide clusters: an examination of age-specific effects. Am J Public Health 80: 211-212.\n",
    "\n",
    "Hawton K, Saunders KEA, O'Connor RC (2012) Self-harm and suicide in adolescents. Lancet 379: 2373-2382.\n",
    "\n",
    "Kim K, Ryu E, Chon MY, Yeun EJ, Choi SY, et al. (2006) Internet addiction in Korean adolescents and its relation to depression and suicidal ideation: A questionnaire survey. Int J Nurs Stud 43: 185-192.\n",
    "\n",
    "Katsumata Y, Matsumoto T, Kitani M, Takeshima T (2008) Electronic media use and suicidal ideation in Japanese adolescents. Psychiatry Clin Neurosci 62: 744-746.\n",
    "\n",
    "Madge N, Hawton K, McMahon EM, De Leo D, de Wilde EJ, et al. (2011) Psychological characteristics, stressful life events and deliberate self-harm: findings from the Child & Adolescent Self-harm in Europe (CASE) Study. Eur Child Adolesc Psychiatry 20: 499-508.\n",
    "\n",
    "O'Connor RC, Rasmussen S, Hawton K (2012) Distinguishing adolescents who think about self-harm from those who engage in self-harm. Br J Psychiatry 200: 330-335.\n",
    "\n",
    "Patton GC, Coffey C, Sawyer SM, Viner RM, Haller DM, et al. (2009) Global patterns of mortality in young people: a systematic analysis of population health data. Lancet 374: 881-892.\n",
    "\n",
    "##Hypothesis\n",
    "There is a positive relationship between Internet usage rates and suicide rates."
   ]
  },
  {
   "cell_type": "markdown",
   "metadata": {},
   "source": [
    "##Data\n",
    "Before beginning any analysis, I needed to import some python libraries."
   ]
  },
  {
   "cell_type": "code",
   "execution_count": 75,
   "metadata": {
    "collapsed": false
   },
   "outputs": [
    {
     "name": "stdout",
     "output_type": "stream",
     "text": [
      "numpy version:  1.9.2\n",
      "2.7.10 |Anaconda 2.3.0 (64-bit)| (default, May 28 2015, 16:44:52) [MSC v.1500 64 bit (AMD64)]\n"
     ]
    }
   ],
   "source": [
    "import graphlab as gl\n",
    "import numpy as np\n",
    "print \"numpy version: \", np.__version__\n",
    "import sys\n",
    "print sys.version\n",
    "import pylab\n",
    "import matplotlib.pyplot as plt\n",
    "import pandas as pd\n",
    "import statsmodels.formula.api as smf\n",
    "import statsmodels.stats.multicomp as multi \n",
    "import graphlab.numpy\n",
    "import seaborn\n",
    "import scipy\n",
    "\n",
    "gl.canvas.set_target('ipynb') # Print graphlab graphs in line\n",
    "%matplotlib inline"
   ]
  },
  {
   "cell_type": "markdown",
   "metadata": {},
   "source": [
    "I downloaded the data in a CSV file (gapminder.csv) from the course website and saved it to D:/Data/CourseraClass directory on my machine.  I loaded the data in Python from the CSV file. "
   ]
  },
  {
   "cell_type": "code",
   "execution_count": 134,
   "metadata": {
    "collapsed": false
   },
   "outputs": [
    {
     "data": {
      "text/plain": [
       "213"
      ]
     },
     "execution_count": 134,
     "metadata": {},
     "output_type": "execute_result"
    }
   ],
   "source": [
    "data = pd.read_csv('D:/Data/CourseraClass/gapminder.csv')\n",
    "len(data)"
   ]
  },
  {
   "cell_type": "markdown",
   "metadata": {},
   "source": [
    "## Exploratory Analysis\n",
    "Review the top of the data."
   ]
  },
  {
   "cell_type": "code",
   "execution_count": 135,
   "metadata": {
    "collapsed": false
   },
   "outputs": [
    {
     "data": {
      "text/html": [
       "<div>\n",
       "<table border=\"1\" class=\"dataframe\">\n",
       "  <thead>\n",
       "    <tr style=\"text-align: right;\">\n",
       "      <th></th>\n",
       "      <th>country</th>\n",
       "      <th>incomeperperson</th>\n",
       "      <th>alcconsumption</th>\n",
       "      <th>armedforcesrate</th>\n",
       "      <th>breastcancerper100th</th>\n",
       "      <th>co2emissions</th>\n",
       "      <th>femaleemployrate</th>\n",
       "      <th>hivrate</th>\n",
       "      <th>internetuserate</th>\n",
       "      <th>lifeexpectancy</th>\n",
       "      <th>oilperperson</th>\n",
       "      <th>polityscore</th>\n",
       "      <th>relectricperperson</th>\n",
       "      <th>suicideper100th</th>\n",
       "      <th>employrate</th>\n",
       "      <th>urbanrate</th>\n",
       "    </tr>\n",
       "  </thead>\n",
       "  <tbody>\n",
       "    <tr>\n",
       "      <th>0</th>\n",
       "      <td>Afghanistan</td>\n",
       "      <td></td>\n",
       "      <td>.03</td>\n",
       "      <td>.5696534</td>\n",
       "      <td>26.8</td>\n",
       "      <td>75944000</td>\n",
       "      <td>25.6000003814697</td>\n",
       "      <td></td>\n",
       "      <td>3.65412162280064</td>\n",
       "      <td>48.673</td>\n",
       "      <td></td>\n",
       "      <td>0</td>\n",
       "      <td></td>\n",
       "      <td>6.68438529968262</td>\n",
       "      <td>55.7000007629394</td>\n",
       "      <td>24.04</td>\n",
       "    </tr>\n",
       "    <tr>\n",
       "      <th>1</th>\n",
       "      <td>Albania</td>\n",
       "      <td>1914.99655094922</td>\n",
       "      <td>7.29</td>\n",
       "      <td>1.0247361</td>\n",
       "      <td>57.4</td>\n",
       "      <td>223747333.333333</td>\n",
       "      <td>42.0999984741211</td>\n",
       "      <td></td>\n",
       "      <td>44.9899469578783</td>\n",
       "      <td>76.918</td>\n",
       "      <td></td>\n",
       "      <td>9</td>\n",
       "      <td>636.341383366604</td>\n",
       "      <td>7.69932985305786</td>\n",
       "      <td>51.4000015258789</td>\n",
       "      <td>46.72</td>\n",
       "    </tr>\n",
       "    <tr>\n",
       "      <th>2</th>\n",
       "      <td>Algeria</td>\n",
       "      <td>2231.99333515006</td>\n",
       "      <td>.69</td>\n",
       "      <td>2.306817</td>\n",
       "      <td>23.5</td>\n",
       "      <td>2932108666.66667</td>\n",
       "      <td>31.7000007629394</td>\n",
       "      <td>.1</td>\n",
       "      <td>12.5000733055148</td>\n",
       "      <td>73.131</td>\n",
       "      <td>.42009452521537</td>\n",
       "      <td>2</td>\n",
       "      <td>590.509814347428</td>\n",
       "      <td>4.8487696647644</td>\n",
       "      <td>50.5</td>\n",
       "      <td>65.22</td>\n",
       "    </tr>\n",
       "    <tr>\n",
       "      <th>3</th>\n",
       "      <td>Andorra</td>\n",
       "      <td>21943.3398976022</td>\n",
       "      <td>10.17</td>\n",
       "      <td></td>\n",
       "      <td></td>\n",
       "      <td></td>\n",
       "      <td></td>\n",
       "      <td></td>\n",
       "      <td>81</td>\n",
       "      <td></td>\n",
       "      <td></td>\n",
       "      <td></td>\n",
       "      <td></td>\n",
       "      <td>5.36217880249023</td>\n",
       "      <td></td>\n",
       "      <td>88.92</td>\n",
       "    </tr>\n",
       "    <tr>\n",
       "      <th>4</th>\n",
       "      <td>Angola</td>\n",
       "      <td>1381.00426770244</td>\n",
       "      <td>5.57</td>\n",
       "      <td>1.4613288</td>\n",
       "      <td>23.1</td>\n",
       "      <td>248358000</td>\n",
       "      <td>69.4000015258789</td>\n",
       "      <td>2</td>\n",
       "      <td>9.99995388324075</td>\n",
       "      <td>51.093</td>\n",
       "      <td></td>\n",
       "      <td>-2</td>\n",
       "      <td>172.999227388199</td>\n",
       "      <td>14.5546770095825</td>\n",
       "      <td>75.6999969482422</td>\n",
       "      <td>56.7</td>\n",
       "    </tr>\n",
       "  </tbody>\n",
       "</table>\n",
       "</div>"
      ],
      "text/plain": [
       "       country   incomeperperson alcconsumption armedforcesrate  \\\n",
       "0  Afghanistan                              .03        .5696534   \n",
       "1      Albania  1914.99655094922           7.29       1.0247361   \n",
       "2      Algeria  2231.99333515006            .69        2.306817   \n",
       "3      Andorra  21943.3398976022          10.17                   \n",
       "4       Angola  1381.00426770244           5.57       1.4613288   \n",
       "\n",
       "  breastcancerper100th      co2emissions  femaleemployrate hivrate  \\\n",
       "0                 26.8          75944000  25.6000003814697           \n",
       "1                 57.4  223747333.333333  42.0999984741211           \n",
       "2                 23.5  2932108666.66667  31.7000007629394      .1   \n",
       "3                                                                    \n",
       "4                 23.1         248358000  69.4000015258789       2   \n",
       "\n",
       "    internetuserate lifeexpectancy     oilperperson polityscore  \\\n",
       "0  3.65412162280064         48.673                            0   \n",
       "1  44.9899469578783         76.918                            9   \n",
       "2  12.5000733055148         73.131  .42009452521537           2   \n",
       "3                81                                               \n",
       "4  9.99995388324075         51.093                           -2   \n",
       "\n",
       "  relectricperperson   suicideper100th        employrate urbanrate  \n",
       "0                     6.68438529968262  55.7000007629394     24.04  \n",
       "1   636.341383366604  7.69932985305786  51.4000015258789     46.72  \n",
       "2   590.509814347428   4.8487696647644              50.5     65.22  \n",
       "3                     5.36217880249023                       88.92  \n",
       "4   172.999227388199  14.5546770095825  75.6999969482422      56.7  "
      ]
     },
     "execution_count": 135,
     "metadata": {},
     "output_type": "execute_result"
    }
   ],
   "source": [
    "data.head()"
   ]
  },
  {
   "cell_type": "markdown",
   "metadata": {},
   "source": [
    "Review the bottom of the data."
   ]
  },
  {
   "cell_type": "code",
   "execution_count": 136,
   "metadata": {
    "collapsed": false
   },
   "outputs": [
    {
     "data": {
      "text/html": [
       "<div>\n",
       "<table border=\"1\" class=\"dataframe\">\n",
       "  <thead>\n",
       "    <tr style=\"text-align: right;\">\n",
       "      <th></th>\n",
       "      <th>country</th>\n",
       "      <th>incomeperperson</th>\n",
       "      <th>alcconsumption</th>\n",
       "      <th>armedforcesrate</th>\n",
       "      <th>breastcancerper100th</th>\n",
       "      <th>co2emissions</th>\n",
       "      <th>femaleemployrate</th>\n",
       "      <th>hivrate</th>\n",
       "      <th>internetuserate</th>\n",
       "      <th>lifeexpectancy</th>\n",
       "      <th>oilperperson</th>\n",
       "      <th>polityscore</th>\n",
       "      <th>relectricperperson</th>\n",
       "      <th>suicideper100th</th>\n",
       "      <th>employrate</th>\n",
       "      <th>urbanrate</th>\n",
       "    </tr>\n",
       "  </thead>\n",
       "  <tbody>\n",
       "    <tr>\n",
       "      <th>208</th>\n",
       "      <td>Vietnam</td>\n",
       "      <td>722.807558834445</td>\n",
       "      <td>3.91</td>\n",
       "      <td>1.0853671</td>\n",
       "      <td>16.2</td>\n",
       "      <td>1425435000</td>\n",
       "      <td>67.5999984741211</td>\n",
       "      <td>.4</td>\n",
       "      <td>27.8518215557703</td>\n",
       "      <td>75.181</td>\n",
       "      <td></td>\n",
       "      <td>-7</td>\n",
       "      <td>302.725654656034</td>\n",
       "      <td>11.6533222198486</td>\n",
       "      <td>71</td>\n",
       "      <td>27.84</td>\n",
       "    </tr>\n",
       "    <tr>\n",
       "      <th>209</th>\n",
       "      <td>West Bank and Gaza</td>\n",
       "      <td></td>\n",
       "      <td></td>\n",
       "      <td>5.9360854</td>\n",
       "      <td></td>\n",
       "      <td>14241333.3333333</td>\n",
       "      <td>11.3000001907349</td>\n",
       "      <td></td>\n",
       "      <td>36.4227717919075</td>\n",
       "      <td>72.832</td>\n",
       "      <td></td>\n",
       "      <td></td>\n",
       "      <td></td>\n",
       "      <td></td>\n",
       "      <td>32</td>\n",
       "      <td>71.9</td>\n",
       "    </tr>\n",
       "    <tr>\n",
       "      <th>210</th>\n",
       "      <td>Yemen, Rep.</td>\n",
       "      <td>610.3573673206</td>\n",
       "      <td>.2</td>\n",
       "      <td>2.3162346</td>\n",
       "      <td>35.1</td>\n",
       "      <td>234864666.666667</td>\n",
       "      <td>20.2999992370605</td>\n",
       "      <td></td>\n",
       "      <td>12.3497504635596</td>\n",
       "      <td>65.493</td>\n",
       "      <td></td>\n",
       "      <td>-2</td>\n",
       "      <td>130.05783139719</td>\n",
       "      <td>6.26578903198242</td>\n",
       "      <td>39</td>\n",
       "      <td>30.64</td>\n",
       "    </tr>\n",
       "    <tr>\n",
       "      <th>211</th>\n",
       "      <td>Zambia</td>\n",
       "      <td>432.226336974583</td>\n",
       "      <td>3.56</td>\n",
       "      <td>.3413352</td>\n",
       "      <td>13</td>\n",
       "      <td>132025666.666667</td>\n",
       "      <td>53.5</td>\n",
       "      <td>13.5</td>\n",
       "      <td>10.124986462443</td>\n",
       "      <td>49.025</td>\n",
       "      <td></td>\n",
       "      <td>7</td>\n",
       "      <td>168.623030511023</td>\n",
       "      <td>12.0190362930298</td>\n",
       "      <td>61</td>\n",
       "      <td>35.42</td>\n",
       "    </tr>\n",
       "    <tr>\n",
       "      <th>212</th>\n",
       "      <td>Zimbabwe</td>\n",
       "      <td>320.771889948584</td>\n",
       "      <td>4.96</td>\n",
       "      <td>1.0327854</td>\n",
       "      <td>19</td>\n",
       "      <td>590219666.666666</td>\n",
       "      <td>58.0999984741211</td>\n",
       "      <td>14.3</td>\n",
       "      <td>11.5004153209768</td>\n",
       "      <td>51.384</td>\n",
       "      <td></td>\n",
       "      <td>1</td>\n",
       "      <td>297.883200408304</td>\n",
       "      <td>13.9052667617798</td>\n",
       "      <td>66.8000030517578</td>\n",
       "      <td>37.34</td>\n",
       "    </tr>\n",
       "  </tbody>\n",
       "</table>\n",
       "</div>"
      ],
      "text/plain": [
       "                country   incomeperperson alcconsumption armedforcesrate  \\\n",
       "208             Vietnam  722.807558834445           3.91       1.0853671   \n",
       "209  West Bank and Gaza                                        5.9360854   \n",
       "210         Yemen, Rep.    610.3573673206             .2       2.3162346   \n",
       "211              Zambia  432.226336974583           3.56        .3413352   \n",
       "212            Zimbabwe  320.771889948584           4.96       1.0327854   \n",
       "\n",
       "    breastcancerper100th      co2emissions  femaleemployrate hivrate  \\\n",
       "208                 16.2        1425435000  67.5999984741211      .4   \n",
       "209                       14241333.3333333  11.3000001907349           \n",
       "210                 35.1  234864666.666667  20.2999992370605           \n",
       "211                   13  132025666.666667              53.5    13.5   \n",
       "212                   19  590219666.666666  58.0999984741211    14.3   \n",
       "\n",
       "      internetuserate lifeexpectancy oilperperson polityscore  \\\n",
       "208  27.8518215557703         75.181                       -7   \n",
       "209  36.4227717919075         72.832                            \n",
       "210  12.3497504635596         65.493                       -2   \n",
       "211   10.124986462443         49.025                        7   \n",
       "212  11.5004153209768         51.384                        1   \n",
       "\n",
       "    relectricperperson   suicideper100th        employrate urbanrate  \n",
       "208   302.725654656034  11.6533222198486                71     27.84  \n",
       "209                                                     32      71.9  \n",
       "210    130.05783139719  6.26578903198242                39     30.64  \n",
       "211   168.623030511023  12.0190362930298                61     35.42  \n",
       "212   297.883200408304  13.9052667617798  66.8000030517578     37.34  "
      ]
     },
     "execution_count": 136,
     "metadata": {},
     "output_type": "execute_result"
    }
   ],
   "source": [
    "data.tail()"
   ]
  },
  {
   "cell_type": "markdown",
   "metadata": {},
   "source": [
    "Subset the data to remove missing values from the variables of interest."
   ]
  },
  {
   "cell_type": "code",
   "execution_count": 179,
   "metadata": {
    "collapsed": false
   },
   "outputs": [
    {
     "data": {
      "text/plain": [
       "174"
      ]
     },
     "execution_count": 179,
     "metadata": {},
     "output_type": "execute_result"
    }
   ],
   "source": [
    "data['suicideper100th'] = data['suicideper100th'].replace(r'\\s+', np.nan, regex=True)\n",
    "data['internetuserate'] = data['internetuserate'].replace(r'\\s+', np.nan, regex=True)\n",
    "data['incomeperperson']= data['incomeperperson'].replace(r'\\s+', np.nan, regex=True)\n",
    "sub = data.dropna(subset = ['suicideper100th', 'internetuserate', 'incomeperperson'])\n",
    "sub1 = sub[['suicideper100th', 'internetuserate', 'incomeperperson']]\n",
    "len(sub1)"
   ]
  },
  {
   "cell_type": "markdown",
   "metadata": {},
   "source": [
    "Convert fields to numeric"
   ]
  },
  {
   "cell_type": "code",
   "execution_count": 180,
   "metadata": {
    "collapsed": false
   },
   "outputs": [
    {
     "name": "stderr",
     "output_type": "stream",
     "text": [
      "C:\\Users\\bryan_000\\AppData\\Local\\Dato\\Dato Launcher\\lib\\site-packages\\IPython\\kernel\\__main__.py:1: SettingWithCopyWarning: \n",
      "A value is trying to be set on a copy of a slice from a DataFrame.\n",
      "Try using .loc[row_indexer,col_indexer] = value instead\n",
      "\n",
      "See the the caveats in the documentation: http://pandas.pydata.org/pandas-docs/stable/indexing.html#indexing-view-versus-copy\n",
      "  if __name__ == '__main__':\n",
      "C:\\Users\\bryan_000\\AppData\\Local\\Dato\\Dato Launcher\\lib\\site-packages\\IPython\\kernel\\__main__.py:2: SettingWithCopyWarning: \n",
      "A value is trying to be set on a copy of a slice from a DataFrame.\n",
      "Try using .loc[row_indexer,col_indexer] = value instead\n",
      "\n",
      "See the the caveats in the documentation: http://pandas.pydata.org/pandas-docs/stable/indexing.html#indexing-view-versus-copy\n",
      "  from IPython.kernel.zmq import kernelapp as app\n",
      "C:\\Users\\bryan_000\\AppData\\Local\\Dato\\Dato Launcher\\lib\\site-packages\\IPython\\kernel\\__main__.py:3: SettingWithCopyWarning: \n",
      "A value is trying to be set on a copy of a slice from a DataFrame.\n",
      "Try using .loc[row_indexer,col_indexer] = value instead\n",
      "\n",
      "See the the caveats in the documentation: http://pandas.pydata.org/pandas-docs/stable/indexing.html#indexing-view-versus-copy\n",
      "  app.launch_new_instance()\n"
     ]
    }
   ],
   "source": [
    "sub1['suicideper100th'] = sub1['suicideper100th'].convert_objects(convert_numeric=True)\n",
    "sub1['internetuserate'] = sub1['internetuserate'].convert_objects(convert_numeric=True)\n",
    "sub1['incomeperperson'] = sub1['incomeperperson'].convert_objects(convert_numeric=True)"
   ]
  },
  {
   "cell_type": "markdown",
   "metadata": {},
   "source": [
    "Create categorial predictor based on percentiles.  Those in the lowest 25th percentile will be coded 1 to indicate low usage. Those in the upper 75th percentile will be coded as 3 to indicate high usage.  Those in between will be coded as 2 to indicate medium usage."
   ]
  },
  {
   "cell_type": "code",
   "execution_count": 181,
   "metadata": {
    "collapsed": false
   },
   "outputs": [
    {
     "name": "stdout",
     "output_type": "stream",
     "text": [
      "10.0\n",
      "29.0\n",
      "52.0\n"
     ]
    }
   ],
   "source": [
    "print (round(np.percentile(sub1['internetuserate'],25)))\n",
    "print (round(np.percentile(sub1['internetuserate'],50)))\n",
    "print (round(np.percentile(sub1['internetuserate'],75)))"
   ]
  },
  {
   "cell_type": "code",
   "execution_count": 182,
   "metadata": {
    "collapsed": false
   },
   "outputs": [
    {
     "name": "stderr",
     "output_type": "stream",
     "text": [
      "C:\\Users\\bryan_000\\AppData\\Local\\Dato\\Dato Launcher\\lib\\site-packages\\IPython\\kernel\\__main__.py:1: SettingWithCopyWarning: \n",
      "A value is trying to be set on a copy of a slice from a DataFrame.\n",
      "Try using .loc[row_indexer,col_indexer] = value instead\n",
      "\n",
      "See the the caveats in the documentation: http://pandas.pydata.org/pandas-docs/stable/indexing.html#indexing-view-versus-copy\n",
      "  if __name__ == '__main__':\n",
      "C:\\Users\\bryan_000\\AppData\\Local\\Dato\\Dato Launcher\\lib\\site-packages\\IPython\\kernel\\__main__.py:2: SettingWithCopyWarning: \n",
      "A value is trying to be set on a copy of a slice from a DataFrame\n",
      "\n",
      "See the the caveats in the documentation: http://pandas.pydata.org/pandas-docs/stable/indexing.html#indexing-view-versus-copy\n",
      "  from IPython.kernel.zmq import kernelapp as app\n",
      "C:\\Users\\bryan_000\\AppData\\Local\\Dato\\Dato Launcher\\lib\\site-packages\\IPython\\kernel\\__main__.py:3: SettingWithCopyWarning: \n",
      "A value is trying to be set on a copy of a slice from a DataFrame\n",
      "\n",
      "See the the caveats in the documentation: http://pandas.pydata.org/pandas-docs/stable/indexing.html#indexing-view-versus-copy\n",
      "  app.launch_new_instance()\n",
      "C:\\Users\\bryan_000\\AppData\\Local\\Dato\\Dato Launcher\\lib\\site-packages\\IPython\\kernel\\__main__.py:4: SettingWithCopyWarning: \n",
      "A value is trying to be set on a copy of a slice from a DataFrame\n",
      "\n",
      "See the the caveats in the documentation: http://pandas.pydata.org/pandas-docs/stable/indexing.html#indexing-view-versus-copy\n"
     ]
    }
   ],
   "source": [
    "sub1['internetrate'] = 0\n",
    "sub1['internetrate'][(sub1['internetuserate']>70)] = 3\n",
    "sub1['internetrate'][(sub1['internetuserate']<12)] = 1\n",
    "sub1['internetrate'][(sub1['internetuserate']>=12) & (sub1['internetuserate']<=70)] = 2"
   ]
  },
  {
   "cell_type": "markdown",
   "metadata": {},
   "source": [
    "Create categorial response based on percentiles. Those in the lower 50 percentile will be coded 1 to indicate low rate. Those in the upper 50 percentile will be coded as 2 to indicate high rate."
   ]
  },
  {
   "cell_type": "code",
   "execution_count": 183,
   "metadata": {
    "collapsed": false
   },
   "outputs": [
    {
     "name": "stdout",
     "output_type": "stream",
     "text": [
      "5.0\n",
      "8.0\n",
      "12.0\n"
     ]
    }
   ],
   "source": [
    "print (round(np.percentile(sub1['suicideper100th'],25)))\n",
    "print (round(np.percentile(sub1['suicideper100th'],50)))\n",
    "print (round(np.percentile(sub1['suicideper100th'],75)))"
   ]
  },
  {
   "cell_type": "code",
   "execution_count": 184,
   "metadata": {
    "collapsed": false
   },
   "outputs": [
    {
     "name": "stderr",
     "output_type": "stream",
     "text": [
      "C:\\Users\\bryan_000\\AppData\\Local\\Dato\\Dato Launcher\\lib\\site-packages\\IPython\\kernel\\__main__.py:1: SettingWithCopyWarning: \n",
      "A value is trying to be set on a copy of a slice from a DataFrame.\n",
      "Try using .loc[row_indexer,col_indexer] = value instead\n",
      "\n",
      "See the the caveats in the documentation: http://pandas.pydata.org/pandas-docs/stable/indexing.html#indexing-view-versus-copy\n",
      "  if __name__ == '__main__':\n",
      "C:\\Users\\bryan_000\\AppData\\Local\\Dato\\Dato Launcher\\lib\\site-packages\\IPython\\kernel\\__main__.py:2: SettingWithCopyWarning: \n",
      "A value is trying to be set on a copy of a slice from a DataFrame\n",
      "\n",
      "See the the caveats in the documentation: http://pandas.pydata.org/pandas-docs/stable/indexing.html#indexing-view-versus-copy\n",
      "  from IPython.kernel.zmq import kernelapp as app\n",
      "C:\\Users\\bryan_000\\AppData\\Local\\Dato\\Dato Launcher\\lib\\site-packages\\IPython\\kernel\\__main__.py:3: SettingWithCopyWarning: \n",
      "A value is trying to be set on a copy of a slice from a DataFrame\n",
      "\n",
      "See the the caveats in the documentation: http://pandas.pydata.org/pandas-docs/stable/indexing.html#indexing-view-versus-copy\n",
      "  app.launch_new_instance()\n"
     ]
    }
   ],
   "source": [
    "sub1['suiciderate'] = 0\n",
    "sub1['suiciderate'][(sub1['suicideper100th']>=10)] = 2\n",
    "sub1['suiciderate'][(sub1['suicideper100th']< 10)] = 1"
   ]
  },
  {
   "cell_type": "markdown",
   "metadata": {},
   "source": [
    "Create categorial moderator based on percentiles.  Those in the lowest 25th percentile will be coded 1 to indicate low income. Those in the upper 75th percentile will be coded as 3 to indicate high income.  Those in between will be coded as 2 to indicate medium income."
   ]
  },
  {
   "cell_type": "code",
   "execution_count": 174,
   "metadata": {
    "collapsed": false
   },
   "outputs": [
    {
     "name": "stdout",
     "output_type": "stream",
     "text": [
      "726.0\n",
      "2454.0\n",
      "8572.0\n"
     ]
    }
   ],
   "source": [
    "print (round(np.percentile(sub1['incomeperperson'],25)))\n",
    "print (round(np.percentile(sub1['incomeperperson'],50)))\n",
    "print (round(np.percentile(sub1['incomeperperson'],75)))"
   ]
  },
  {
   "cell_type": "code",
   "execution_count": 185,
   "metadata": {
    "collapsed": false
   },
   "outputs": [
    {
     "name": "stderr",
     "output_type": "stream",
     "text": [
      "C:\\Users\\bryan_000\\AppData\\Local\\Dato\\Dato Launcher\\lib\\site-packages\\IPython\\kernel\\__main__.py:1: SettingWithCopyWarning: \n",
      "A value is trying to be set on a copy of a slice from a DataFrame.\n",
      "Try using .loc[row_indexer,col_indexer] = value instead\n",
      "\n",
      "See the the caveats in the documentation: http://pandas.pydata.org/pandas-docs/stable/indexing.html#indexing-view-versus-copy\n",
      "  if __name__ == '__main__':\n",
      "C:\\Users\\bryan_000\\AppData\\Local\\Dato\\Dato Launcher\\lib\\site-packages\\IPython\\kernel\\__main__.py:2: SettingWithCopyWarning: \n",
      "A value is trying to be set on a copy of a slice from a DataFrame\n",
      "\n",
      "See the the caveats in the documentation: http://pandas.pydata.org/pandas-docs/stable/indexing.html#indexing-view-versus-copy\n",
      "  from IPython.kernel.zmq import kernelapp as app\n",
      "C:\\Users\\bryan_000\\AppData\\Local\\Dato\\Dato Launcher\\lib\\site-packages\\IPython\\kernel\\__main__.py:3: SettingWithCopyWarning: \n",
      "A value is trying to be set on a copy of a slice from a DataFrame\n",
      "\n",
      "See the the caveats in the documentation: http://pandas.pydata.org/pandas-docs/stable/indexing.html#indexing-view-versus-copy\n",
      "  app.launch_new_instance()\n",
      "C:\\Users\\bryan_000\\AppData\\Local\\Dato\\Dato Launcher\\lib\\site-packages\\IPython\\kernel\\__main__.py:4: SettingWithCopyWarning: \n",
      "A value is trying to be set on a copy of a slice from a DataFrame\n",
      "\n",
      "See the the caveats in the documentation: http://pandas.pydata.org/pandas-docs/stable/indexing.html#indexing-view-versus-copy\n"
     ]
    },
    {
     "data": {
      "text/html": [
       "<div>\n",
       "<table border=\"1\" class=\"dataframe\">\n",
       "  <thead>\n",
       "    <tr style=\"text-align: right;\">\n",
       "      <th></th>\n",
       "      <th>suicideper100th</th>\n",
       "      <th>internetuserate</th>\n",
       "      <th>incomeperperson</th>\n",
       "      <th>internetrate</th>\n",
       "      <th>suiciderate</th>\n",
       "      <th>ipp</th>\n",
       "    </tr>\n",
       "  </thead>\n",
       "  <tbody>\n",
       "    <tr>\n",
       "      <th>1</th>\n",
       "      <td>7.699330</td>\n",
       "      <td>44.989947</td>\n",
       "      <td>1914.996551</td>\n",
       "      <td>2</td>\n",
       "      <td>1</td>\n",
       "      <td>2</td>\n",
       "    </tr>\n",
       "    <tr>\n",
       "      <th>2</th>\n",
       "      <td>4.848770</td>\n",
       "      <td>12.500073</td>\n",
       "      <td>2231.993335</td>\n",
       "      <td>2</td>\n",
       "      <td>1</td>\n",
       "      <td>2</td>\n",
       "    </tr>\n",
       "    <tr>\n",
       "      <th>3</th>\n",
       "      <td>5.362179</td>\n",
       "      <td>81.000000</td>\n",
       "      <td>21943.339898</td>\n",
       "      <td>3</td>\n",
       "      <td>1</td>\n",
       "      <td>3</td>\n",
       "    </tr>\n",
       "    <tr>\n",
       "      <th>4</th>\n",
       "      <td>14.554677</td>\n",
       "      <td>9.999954</td>\n",
       "      <td>1381.004268</td>\n",
       "      <td>1</td>\n",
       "      <td>2</td>\n",
       "      <td>2</td>\n",
       "    </tr>\n",
       "    <tr>\n",
       "      <th>5</th>\n",
       "      <td>2.161843</td>\n",
       "      <td>80.645455</td>\n",
       "      <td>11894.464075</td>\n",
       "      <td>3</td>\n",
       "      <td>1</td>\n",
       "      <td>2</td>\n",
       "    </tr>\n",
       "    <tr>\n",
       "      <th>6</th>\n",
       "      <td>7.765584</td>\n",
       "      <td>36.000335</td>\n",
       "      <td>10749.419238</td>\n",
       "      <td>2</td>\n",
       "      <td>1</td>\n",
       "      <td>2</td>\n",
       "    </tr>\n",
       "    <tr>\n",
       "      <th>7</th>\n",
       "      <td>3.741588</td>\n",
       "      <td>44.001025</td>\n",
       "      <td>1326.741757</td>\n",
       "      <td>2</td>\n",
       "      <td>1</td>\n",
       "      <td>2</td>\n",
       "    </tr>\n",
       "    <tr>\n",
       "      <th>9</th>\n",
       "      <td>8.470030</td>\n",
       "      <td>75.895654</td>\n",
       "      <td>25249.986061</td>\n",
       "      <td>3</td>\n",
       "      <td>1</td>\n",
       "      <td>3</td>\n",
       "    </tr>\n",
       "    <tr>\n",
       "      <th>10</th>\n",
       "      <td>13.094370</td>\n",
       "      <td>72.731576</td>\n",
       "      <td>26692.984107</td>\n",
       "      <td>3</td>\n",
       "      <td>2</td>\n",
       "      <td>3</td>\n",
       "    </tr>\n",
       "    <tr>\n",
       "      <th>11</th>\n",
       "      <td>1.380965</td>\n",
       "      <td>46.679702</td>\n",
       "      <td>2344.896916</td>\n",
       "      <td>2</td>\n",
       "      <td>1</td>\n",
       "      <td>2</td>\n",
       "    </tr>\n",
       "    <tr>\n",
       "      <th>12</th>\n",
       "      <td>3.374416</td>\n",
       "      <td>42.984580</td>\n",
       "      <td>19630.540547</td>\n",
       "      <td>2</td>\n",
       "      <td>1</td>\n",
       "      <td>2</td>\n",
       "    </tr>\n",
       "    <tr>\n",
       "      <th>13</th>\n",
       "      <td>4.414990</td>\n",
       "      <td>54.992809</td>\n",
       "      <td>12505.212545</td>\n",
       "      <td>2</td>\n",
       "      <td>1</td>\n",
       "      <td>2</td>\n",
       "    </tr>\n",
       "    <tr>\n",
       "      <th>14</th>\n",
       "      <td>14.538357</td>\n",
       "      <td>3.700003</td>\n",
       "      <td>558.062877</td>\n",
       "      <td>1</td>\n",
       "      <td>2</td>\n",
       "      <td>1</td>\n",
       "    </tr>\n",
       "    <tr>\n",
       "      <th>15</th>\n",
       "      <td>3.108603</td>\n",
       "      <td>70.028599</td>\n",
       "      <td>9243.587053</td>\n",
       "      <td>3</td>\n",
       "      <td>1</td>\n",
       "      <td>2</td>\n",
       "    </tr>\n",
       "    <tr>\n",
       "      <th>16</th>\n",
       "      <td>26.874690</td>\n",
       "      <td>32.052144</td>\n",
       "      <td>2737.670379</td>\n",
       "      <td>2</td>\n",
       "      <td>2</td>\n",
       "      <td>2</td>\n",
       "    </tr>\n",
       "    <tr>\n",
       "      <th>17</th>\n",
       "      <td>15.953850</td>\n",
       "      <td>73.733934</td>\n",
       "      <td>24496.048264</td>\n",
       "      <td>3</td>\n",
       "      <td>2</td>\n",
       "      <td>3</td>\n",
       "    </tr>\n",
       "    <tr>\n",
       "      <th>18</th>\n",
       "      <td>9.388796</td>\n",
       "      <td>12.645733</td>\n",
       "      <td>3545.652174</td>\n",
       "      <td>2</td>\n",
       "      <td>1</td>\n",
       "      <td>2</td>\n",
       "    </tr>\n",
       "    <tr>\n",
       "      <th>19</th>\n",
       "      <td>6.057740</td>\n",
       "      <td>3.129962</td>\n",
       "      <td>377.039699</td>\n",
       "      <td>1</td>\n",
       "      <td>1</td>\n",
       "      <td>1</td>\n",
       "    </tr>\n",
       "    <tr>\n",
       "      <th>21</th>\n",
       "      <td>15.542603</td>\n",
       "      <td>13.598876</td>\n",
       "      <td>1324.194906</td>\n",
       "      <td>2</td>\n",
       "      <td>2</td>\n",
       "      <td>2</td>\n",
       "    </tr>\n",
       "    <tr>\n",
       "      <th>22</th>\n",
       "      <td>2.034178</td>\n",
       "      <td>20.001710</td>\n",
       "      <td>1232.794137</td>\n",
       "      <td>2</td>\n",
       "      <td>1</td>\n",
       "      <td>2</td>\n",
       "    </tr>\n",
       "    <tr>\n",
       "      <th>23</th>\n",
       "      <td>11.836716</td>\n",
       "      <td>52.002061</td>\n",
       "      <td>2183.344867</td>\n",
       "      <td>2</td>\n",
       "      <td>2</td>\n",
       "      <td>2</td>\n",
       "    </tr>\n",
       "    <tr>\n",
       "      <th>24</th>\n",
       "      <td>11.213970</td>\n",
       "      <td>5.999836</td>\n",
       "      <td>4189.436587</td>\n",
       "      <td>1</td>\n",
       "      <td>2</td>\n",
       "      <td>2</td>\n",
       "    </tr>\n",
       "    <tr>\n",
       "      <th>25</th>\n",
       "      <td>4.777007</td>\n",
       "      <td>40.650098</td>\n",
       "      <td>4699.411262</td>\n",
       "      <td>2</td>\n",
       "      <td>1</td>\n",
       "      <td>2</td>\n",
       "    </tr>\n",
       "    <tr>\n",
       "      <th>26</th>\n",
       "      <td>1.370002</td>\n",
       "      <td>49.989975</td>\n",
       "      <td>17092.460004</td>\n",
       "      <td>2</td>\n",
       "      <td>1</td>\n",
       "      <td>2</td>\n",
       "    </tr>\n",
       "    <tr>\n",
       "      <th>27</th>\n",
       "      <td>9.216544</td>\n",
       "      <td>45.986590</td>\n",
       "      <td>2549.558474</td>\n",
       "      <td>2</td>\n",
       "      <td>1</td>\n",
       "      <td>2</td>\n",
       "    </tr>\n",
       "    <tr>\n",
       "      <th>28</th>\n",
       "      <td>8.204222</td>\n",
       "      <td>1.400061</td>\n",
       "      <td>276.200413</td>\n",
       "      <td>1</td>\n",
       "      <td>1</td>\n",
       "      <td>1</td>\n",
       "    </tr>\n",
       "    <tr>\n",
       "      <th>29</th>\n",
       "      <td>14.680936</td>\n",
       "      <td>2.100213</td>\n",
       "      <td>115.305996</td>\n",
       "      <td>1</td>\n",
       "      <td>2</td>\n",
       "      <td>1</td>\n",
       "    </tr>\n",
       "    <tr>\n",
       "      <th>30</th>\n",
       "      <td>4.961071</td>\n",
       "      <td>1.259934</td>\n",
       "      <td>557.947513</td>\n",
       "      <td>1</td>\n",
       "      <td>1</td>\n",
       "      <td>1</td>\n",
       "    </tr>\n",
       "    <tr>\n",
       "      <th>31</th>\n",
       "      <td>7.214221</td>\n",
       "      <td>3.999977</td>\n",
       "      <td>713.639303</td>\n",
       "      <td>1</td>\n",
       "      <td>1</td>\n",
       "      <td>1</td>\n",
       "    </tr>\n",
       "    <tr>\n",
       "      <th>32</th>\n",
       "      <td>10.100990</td>\n",
       "      <td>81.338393</td>\n",
       "      <td>25575.352623</td>\n",
       "      <td>3</td>\n",
       "      <td>2</td>\n",
       "      <td>3</td>\n",
       "    </tr>\n",
       "    <tr>\n",
       "      <th>...</th>\n",
       "      <td>...</td>\n",
       "      <td>...</td>\n",
       "      <td>...</td>\n",
       "      <td>...</td>\n",
       "      <td>...</td>\n",
       "      <td>...</td>\n",
       "    </tr>\n",
       "    <tr>\n",
       "      <th>180</th>\n",
       "      <td>28.104046</td>\n",
       "      <td>11.999971</td>\n",
       "      <td>1295.742686</td>\n",
       "      <td>1</td>\n",
       "      <td>2</td>\n",
       "      <td>2</td>\n",
       "    </tr>\n",
       "    <tr>\n",
       "      <th>182</th>\n",
       "      <td>20.747431</td>\n",
       "      <td>31.568098</td>\n",
       "      <td>2668.020519</td>\n",
       "      <td>2</td>\n",
       "      <td>2</td>\n",
       "      <td>2</td>\n",
       "    </tr>\n",
       "    <tr>\n",
       "      <th>183</th>\n",
       "      <td>12.872222</td>\n",
       "      <td>9.007736</td>\n",
       "      <td>1810.230533</td>\n",
       "      <td>1</td>\n",
       "      <td>2</td>\n",
       "      <td>2</td>\n",
       "    </tr>\n",
       "    <tr>\n",
       "      <th>184</th>\n",
       "      <td>11.115830</td>\n",
       "      <td>90.016190</td>\n",
       "      <td>32292.482984</td>\n",
       "      <td>3</td>\n",
       "      <td>2</td>\n",
       "      <td>3</td>\n",
       "    </tr>\n",
       "    <tr>\n",
       "      <th>185</th>\n",
       "      <td>13.239810</td>\n",
       "      <td>82.166660</td>\n",
       "      <td>37662.751250</td>\n",
       "      <td>3</td>\n",
       "      <td>2</td>\n",
       "      <td>3</td>\n",
       "    </tr>\n",
       "    <tr>\n",
       "      <th>186</th>\n",
       "      <td>0.523528</td>\n",
       "      <td>20.663156</td>\n",
       "      <td>1525.780116</td>\n",
       "      <td>2</td>\n",
       "      <td>1</td>\n",
       "      <td>2</td>\n",
       "    </tr>\n",
       "    <tr>\n",
       "      <th>188</th>\n",
       "      <td>2.648981</td>\n",
       "      <td>11.549391</td>\n",
       "      <td>279.180453</td>\n",
       "      <td>1</td>\n",
       "      <td>1</td>\n",
       "      <td>1</td>\n",
       "    </tr>\n",
       "    <tr>\n",
       "      <th>189</th>\n",
       "      <td>12.411181</td>\n",
       "      <td>11.000055</td>\n",
       "      <td>456.385712</td>\n",
       "      <td>1</td>\n",
       "      <td>2</td>\n",
       "      <td>1</td>\n",
       "    </tr>\n",
       "    <tr>\n",
       "      <th>190</th>\n",
       "      <td>9.847460</td>\n",
       "      <td>21.200072</td>\n",
       "      <td>2712.517199</td>\n",
       "      <td>2</td>\n",
       "      <td>1</td>\n",
       "      <td>2</td>\n",
       "    </tr>\n",
       "    <tr>\n",
       "      <th>191</th>\n",
       "      <td>9.633115</td>\n",
       "      <td>0.210066</td>\n",
       "      <td>369.572954</td>\n",
       "      <td>1</td>\n",
       "      <td>1</td>\n",
       "      <td>1</td>\n",
       "    </tr>\n",
       "    <tr>\n",
       "      <th>192</th>\n",
       "      <td>6.369888</td>\n",
       "      <td>5.379820</td>\n",
       "      <td>285.224449</td>\n",
       "      <td>1</td>\n",
       "      <td>1</td>\n",
       "      <td>1</td>\n",
       "    </tr>\n",
       "    <tr>\n",
       "      <th>193</th>\n",
       "      <td>4.527852</td>\n",
       "      <td>12.006692</td>\n",
       "      <td>2025.282665</td>\n",
       "      <td>2</td>\n",
       "      <td>1</td>\n",
       "      <td>2</td>\n",
       "    </tr>\n",
       "    <tr>\n",
       "      <th>194</th>\n",
       "      <td>14.547167</td>\n",
       "      <td>48.516818</td>\n",
       "      <td>10480.817203</td>\n",
       "      <td>2</td>\n",
       "      <td>2</td>\n",
       "      <td>2</td>\n",
       "    </tr>\n",
       "    <tr>\n",
       "      <th>195</th>\n",
       "      <td>3.146814</td>\n",
       "      <td>36.562553</td>\n",
       "      <td>3164.927693</td>\n",
       "      <td>2</td>\n",
       "      <td>1</td>\n",
       "      <td>2</td>\n",
       "    </tr>\n",
       "    <tr>\n",
       "      <th>196</th>\n",
       "      <td>3.563325</td>\n",
       "      <td>39.820178</td>\n",
       "      <td>5348.597192</td>\n",
       "      <td>2</td>\n",
       "      <td>1</td>\n",
       "      <td>2</td>\n",
       "    </tr>\n",
       "    <tr>\n",
       "      <th>197</th>\n",
       "      <td>12.216769</td>\n",
       "      <td>2.199998</td>\n",
       "      <td>2062.125152</td>\n",
       "      <td>1</td>\n",
       "      <td>2</td>\n",
       "      <td>2</td>\n",
       "    </tr>\n",
       "    <tr>\n",
       "      <th>198</th>\n",
       "      <td>7.934812</td>\n",
       "      <td>25.000000</td>\n",
       "      <td>1714.942890</td>\n",
       "      <td>2</td>\n",
       "      <td>1</td>\n",
       "      <td>2</td>\n",
       "    </tr>\n",
       "    <tr>\n",
       "      <th>199</th>\n",
       "      <td>12.289122</td>\n",
       "      <td>12.500255</td>\n",
       "      <td>377.421113</td>\n",
       "      <td>2</td>\n",
       "      <td>2</td>\n",
       "      <td>1</td>\n",
       "    </tr>\n",
       "    <tr>\n",
       "      <th>200</th>\n",
       "      <td>18.954570</td>\n",
       "      <td>44.585355</td>\n",
       "      <td>1036.830725</td>\n",
       "      <td>2</td>\n",
       "      <td>2</td>\n",
       "      <td>2</td>\n",
       "    </tr>\n",
       "    <tr>\n",
       "      <th>201</th>\n",
       "      <td>1.392951</td>\n",
       "      <td>77.996781</td>\n",
       "      <td>21087.394125</td>\n",
       "      <td>3</td>\n",
       "      <td>1</td>\n",
       "      <td>3</td>\n",
       "    </tr>\n",
       "    <tr>\n",
       "      <th>202</th>\n",
       "      <td>6.014659</td>\n",
       "      <td>84.731705</td>\n",
       "      <td>28033.489283</td>\n",
       "      <td>3</td>\n",
       "      <td>1</td>\n",
       "      <td>3</td>\n",
       "    </tr>\n",
       "    <tr>\n",
       "      <th>203</th>\n",
       "      <td>9.927033</td>\n",
       "      <td>74.247572</td>\n",
       "      <td>37491.179523</td>\n",
       "      <td>3</td>\n",
       "      <td>1</td>\n",
       "      <td>3</td>\n",
       "    </tr>\n",
       "    <tr>\n",
       "      <th>204</th>\n",
       "      <td>14.537270</td>\n",
       "      <td>47.867469</td>\n",
       "      <td>9106.327234</td>\n",
       "      <td>2</td>\n",
       "      <td>2</td>\n",
       "      <td>2</td>\n",
       "    </tr>\n",
       "    <tr>\n",
       "      <th>205</th>\n",
       "      <td>5.213720</td>\n",
       "      <td>19.445021</td>\n",
       "      <td>952.827261</td>\n",
       "      <td>2</td>\n",
       "      <td>1</td>\n",
       "      <td>1</td>\n",
       "    </tr>\n",
       "    <tr>\n",
       "      <th>206</th>\n",
       "      <td>4.983422</td>\n",
       "      <td>7.988367</td>\n",
       "      <td>1543.956457</td>\n",
       "      <td>1</td>\n",
       "      <td>1</td>\n",
       "      <td>2</td>\n",
       "    </tr>\n",
       "    <tr>\n",
       "      <th>207</th>\n",
       "      <td>4.119620</td>\n",
       "      <td>35.850437</td>\n",
       "      <td>5528.363114</td>\n",
       "      <td>2</td>\n",
       "      <td>1</td>\n",
       "      <td>2</td>\n",
       "    </tr>\n",
       "    <tr>\n",
       "      <th>208</th>\n",
       "      <td>11.653322</td>\n",
       "      <td>27.851822</td>\n",
       "      <td>722.807559</td>\n",
       "      <td>2</td>\n",
       "      <td>2</td>\n",
       "      <td>1</td>\n",
       "    </tr>\n",
       "    <tr>\n",
       "      <th>210</th>\n",
       "      <td>6.265789</td>\n",
       "      <td>12.349750</td>\n",
       "      <td>610.357367</td>\n",
       "      <td>2</td>\n",
       "      <td>1</td>\n",
       "      <td>1</td>\n",
       "    </tr>\n",
       "    <tr>\n",
       "      <th>211</th>\n",
       "      <td>12.019036</td>\n",
       "      <td>10.124986</td>\n",
       "      <td>432.226337</td>\n",
       "      <td>1</td>\n",
       "      <td>2</td>\n",
       "      <td>1</td>\n",
       "    </tr>\n",
       "    <tr>\n",
       "      <th>212</th>\n",
       "      <td>13.905267</td>\n",
       "      <td>11.500415</td>\n",
       "      <td>320.771890</td>\n",
       "      <td>1</td>\n",
       "      <td>2</td>\n",
       "      <td>1</td>\n",
       "    </tr>\n",
       "  </tbody>\n",
       "</table>\n",
       "<p>174 rows × 6 columns</p>\n",
       "</div>"
      ],
      "text/plain": [
       "     suicideper100th  internetuserate  incomeperperson  internetrate  \\\n",
       "1           7.699330        44.989947      1914.996551             2   \n",
       "2           4.848770        12.500073      2231.993335             2   \n",
       "3           5.362179        81.000000     21943.339898             3   \n",
       "4          14.554677         9.999954      1381.004268             1   \n",
       "5           2.161843        80.645455     11894.464075             3   \n",
       "6           7.765584        36.000335     10749.419238             2   \n",
       "7           3.741588        44.001025      1326.741757             2   \n",
       "9           8.470030        75.895654     25249.986061             3   \n",
       "10         13.094370        72.731576     26692.984107             3   \n",
       "11          1.380965        46.679702      2344.896916             2   \n",
       "12          3.374416        42.984580     19630.540547             2   \n",
       "13          4.414990        54.992809     12505.212545             2   \n",
       "14         14.538357         3.700003       558.062877             1   \n",
       "15          3.108603        70.028599      9243.587053             3   \n",
       "16         26.874690        32.052144      2737.670379             2   \n",
       "17         15.953850        73.733934     24496.048264             3   \n",
       "18          9.388796        12.645733      3545.652174             2   \n",
       "19          6.057740         3.129962       377.039699             1   \n",
       "21         15.542603        13.598876      1324.194906             2   \n",
       "22          2.034178        20.001710      1232.794137             2   \n",
       "23         11.836716        52.002061      2183.344867             2   \n",
       "24         11.213970         5.999836      4189.436587             1   \n",
       "25          4.777007        40.650098      4699.411262             2   \n",
       "26          1.370002        49.989975     17092.460004             2   \n",
       "27          9.216544        45.986590      2549.558474             2   \n",
       "28          8.204222         1.400061       276.200413             1   \n",
       "29         14.680936         2.100213       115.305996             1   \n",
       "30          4.961071         1.259934       557.947513             1   \n",
       "31          7.214221         3.999977       713.639303             1   \n",
       "32         10.100990        81.338393     25575.352623             3   \n",
       "..               ...              ...              ...           ...   \n",
       "180        28.104046        11.999971      1295.742686             1   \n",
       "182        20.747431        31.568098      2668.020519             2   \n",
       "183        12.872222         9.007736      1810.230533             1   \n",
       "184        11.115830        90.016190     32292.482984             3   \n",
       "185        13.239810        82.166660     37662.751250             3   \n",
       "186         0.523528        20.663156      1525.780116             2   \n",
       "188         2.648981        11.549391       279.180453             1   \n",
       "189        12.411181        11.000055       456.385712             1   \n",
       "190         9.847460        21.200072      2712.517199             2   \n",
       "191         9.633115         0.210066       369.572954             1   \n",
       "192         6.369888         5.379820       285.224449             1   \n",
       "193         4.527852        12.006692      2025.282665             2   \n",
       "194        14.547167        48.516818     10480.817203             2   \n",
       "195         3.146814        36.562553      3164.927693             2   \n",
       "196         3.563325        39.820178      5348.597192             2   \n",
       "197        12.216769         2.199998      2062.125152             1   \n",
       "198         7.934812        25.000000      1714.942890             2   \n",
       "199        12.289122        12.500255       377.421113             2   \n",
       "200        18.954570        44.585355      1036.830725             2   \n",
       "201         1.392951        77.996781     21087.394125             3   \n",
       "202         6.014659        84.731705     28033.489283             3   \n",
       "203         9.927033        74.247572     37491.179523             3   \n",
       "204        14.537270        47.867469      9106.327234             2   \n",
       "205         5.213720        19.445021       952.827261             2   \n",
       "206         4.983422         7.988367      1543.956457             1   \n",
       "207         4.119620        35.850437      5528.363114             2   \n",
       "208        11.653322        27.851822       722.807559             2   \n",
       "210         6.265789        12.349750       610.357367             2   \n",
       "211        12.019036        10.124986       432.226337             1   \n",
       "212        13.905267        11.500415       320.771890             1   \n",
       "\n",
       "     suiciderate  ipp  \n",
       "1              1    2  \n",
       "2              1    2  \n",
       "3              1    3  \n",
       "4              2    2  \n",
       "5              1    2  \n",
       "6              1    2  \n",
       "7              1    2  \n",
       "9              1    3  \n",
       "10             2    3  \n",
       "11             1    2  \n",
       "12             1    2  \n",
       "13             1    2  \n",
       "14             2    1  \n",
       "15             1    2  \n",
       "16             2    2  \n",
       "17             2    3  \n",
       "18             1    2  \n",
       "19             1    1  \n",
       "21             2    2  \n",
       "22             1    2  \n",
       "23             2    2  \n",
       "24             2    2  \n",
       "25             1    2  \n",
       "26             1    2  \n",
       "27             1    2  \n",
       "28             1    1  \n",
       "29             2    1  \n",
       "30             1    1  \n",
       "31             1    1  \n",
       "32             2    3  \n",
       "..           ...  ...  \n",
       "180            2    2  \n",
       "182            2    2  \n",
       "183            2    2  \n",
       "184            2    3  \n",
       "185            2    3  \n",
       "186            1    2  \n",
       "188            1    1  \n",
       "189            2    1  \n",
       "190            1    2  \n",
       "191            1    1  \n",
       "192            1    1  \n",
       "193            1    2  \n",
       "194            2    2  \n",
       "195            1    2  \n",
       "196            1    2  \n",
       "197            2    2  \n",
       "198            1    2  \n",
       "199            2    1  \n",
       "200            2    2  \n",
       "201            1    3  \n",
       "202            1    3  \n",
       "203            1    3  \n",
       "204            2    2  \n",
       "205            1    1  \n",
       "206            1    2  \n",
       "207            1    2  \n",
       "208            2    1  \n",
       "210            1    1  \n",
       "211            2    1  \n",
       "212            2    1  \n",
       "\n",
       "[174 rows x 6 columns]"
      ]
     },
     "execution_count": 185,
     "metadata": {},
     "output_type": "execute_result"
    }
   ],
   "source": [
    "sub1['ipp'] = 0\n",
    "sub1['ipp'][(sub1['incomeperperson']>19631.0)] = 3\n",
    "sub1['ipp'][(sub1['incomeperperson']<953.0)] = 1\n",
    "sub1['ipp'][(sub1['incomeperperson']>=953.0) & (sub1['incomeperperson']<=19631.0)] = 2\n",
    "sub1"
   ]
  },
  {
   "cell_type": "markdown",
   "metadata": {},
   "source": [
    "Delete blanks"
   ]
  },
  {
   "cell_type": "code",
   "execution_count": 186,
   "metadata": {
    "collapsed": false
   },
   "outputs": [
    {
     "data": {
      "text/plain": [
       "174"
      ]
     },
     "execution_count": 186,
     "metadata": {},
     "output_type": "execute_result"
    }
   ],
   "source": [
    "sub2 = sub1[ (sub1['internetrate'] > 0) & (sub1['suiciderate']  > 0) & (sub1['ipp']  > 0) ]\n",
    "len(sub2)"
   ]
  },
  {
   "cell_type": "markdown",
   "metadata": {},
   "source": [
    "##Numerical Summaries"
   ]
  },
  {
   "cell_type": "markdown",
   "metadata": {},
   "source": [
    "Compute mean and standard deviation for Internet Usage Rate (Independent Variable)"
   ]
  },
  {
   "cell_type": "code",
   "execution_count": 187,
   "metadata": {
    "collapsed": false
   },
   "outputs": [
    {
     "name": "stdout",
     "output_type": "stream",
     "text": [
      "33.97\n",
      "27.67\n"
     ]
    }
   ],
   "source": [
    "print (round(sub2['internetuserate'].mean(),2))\n",
    "print (round(sub2['internetuserate'].std(),2))"
   ]
  },
  {
   "cell_type": "markdown",
   "metadata": {},
   "source": [
    "Compute mean and standard deviation for Suicide Rate (Dependent Variable)"
   ]
  },
  {
   "cell_type": "code",
   "execution_count": 188,
   "metadata": {
    "collapsed": false
   },
   "outputs": [
    {
     "name": "stdout",
     "output_type": "stream",
     "text": [
      "9.71\n",
      "6.3\n"
     ]
    }
   ],
   "source": [
    "print (round(sub2['suicideper100th'].mean(),2))\n",
    "print (round(sub2['suicideper100th'].std(),2))"
   ]
  },
  {
   "cell_type": "markdown",
   "metadata": {},
   "source": [
    "Compute mean and standard deviation for Income per Person (Potential Moderator)"
   ]
  },
  {
   "cell_type": "code",
   "execution_count": 189,
   "metadata": {
    "collapsed": false
   },
   "outputs": [
    {
     "name": "stdout",
     "output_type": "stream",
     "text": [
      "7165.31\n",
      "10229.44\n"
     ]
    }
   ],
   "source": [
    "print (round(sub2['incomeperperson'].mean(),2))\n",
    "print (round(sub2['incomeperperson'].std(),2))"
   ]
  },
  {
   "cell_type": "markdown",
   "metadata": {},
   "source": [
    "Convert new column to numeric"
   ]
  },
  {
   "cell_type": "code",
   "execution_count": 190,
   "metadata": {
    "collapsed": false
   },
   "outputs": [
    {
     "data": {
      "text/html": [
       "<div>\n",
       "<table border=\"1\" class=\"dataframe\">\n",
       "  <thead>\n",
       "    <tr style=\"text-align: right;\">\n",
       "      <th></th>\n",
       "      <th>suicideper100th</th>\n",
       "      <th>internetuserate</th>\n",
       "      <th>incomeperperson</th>\n",
       "      <th>internetrate</th>\n",
       "      <th>suiciderate</th>\n",
       "      <th>ipp</th>\n",
       "    </tr>\n",
       "  </thead>\n",
       "  <tbody>\n",
       "    <tr>\n",
       "      <th>1</th>\n",
       "      <td>7.699330</td>\n",
       "      <td>44.989947</td>\n",
       "      <td>1914.996551</td>\n",
       "      <td>2</td>\n",
       "      <td>1</td>\n",
       "      <td>2</td>\n",
       "    </tr>\n",
       "    <tr>\n",
       "      <th>2</th>\n",
       "      <td>4.848770</td>\n",
       "      <td>12.500073</td>\n",
       "      <td>2231.993335</td>\n",
       "      <td>2</td>\n",
       "      <td>1</td>\n",
       "      <td>2</td>\n",
       "    </tr>\n",
       "    <tr>\n",
       "      <th>3</th>\n",
       "      <td>5.362179</td>\n",
       "      <td>81.000000</td>\n",
       "      <td>21943.339898</td>\n",
       "      <td>3</td>\n",
       "      <td>1</td>\n",
       "      <td>3</td>\n",
       "    </tr>\n",
       "    <tr>\n",
       "      <th>4</th>\n",
       "      <td>14.554677</td>\n",
       "      <td>9.999954</td>\n",
       "      <td>1381.004268</td>\n",
       "      <td>1</td>\n",
       "      <td>2</td>\n",
       "      <td>2</td>\n",
       "    </tr>\n",
       "    <tr>\n",
       "      <th>5</th>\n",
       "      <td>2.161843</td>\n",
       "      <td>80.645455</td>\n",
       "      <td>11894.464075</td>\n",
       "      <td>3</td>\n",
       "      <td>1</td>\n",
       "      <td>2</td>\n",
       "    </tr>\n",
       "  </tbody>\n",
       "</table>\n",
       "</div>"
      ],
      "text/plain": [
       "   suicideper100th  internetuserate  incomeperperson  internetrate  \\\n",
       "1         7.699330        44.989947      1914.996551             2   \n",
       "2         4.848770        12.500073      2231.993335             2   \n",
       "3         5.362179        81.000000     21943.339898             3   \n",
       "4        14.554677         9.999954      1381.004268             1   \n",
       "5         2.161843        80.645455     11894.464075             3   \n",
       "\n",
       "   suiciderate  ipp  \n",
       "1            1    2  \n",
       "2            1    2  \n",
       "3            1    3  \n",
       "4            2    2  \n",
       "5            1    2  "
      ]
     },
     "execution_count": 190,
     "metadata": {},
     "output_type": "execute_result"
    }
   ],
   "source": [
    "#del sub2['internetuserate']\n",
    "sub2['internetrate']= sub2['internetrate'].convert_objects(convert_numeric=True)\n",
    "sub2.head()"
   ]
  },
  {
   "cell_type": "markdown",
   "metadata": {},
   "source": [
    "## Anova Model\n",
    "Using ols function for calculating the F-statistic and associated p value"
   ]
  },
  {
   "cell_type": "code",
   "execution_count": 191,
   "metadata": {
    "collapsed": false,
    "scrolled": true
   },
   "outputs": [
    {
     "name": "stdout",
     "output_type": "stream",
     "text": [
      "                            OLS Regression Results                            \n",
      "==============================================================================\n",
      "Dep. Variable:        suicideper100th   R-squared:                       0.010\n",
      "Model:                            OLS   Adj. R-squared:                 -0.001\n",
      "Method:                 Least Squares   F-statistic:                    0.8787\n",
      "Date:                Sat, 07 Nov 2015   Prob (F-statistic):              0.417\n",
      "Time:                        21:26:39   Log-Likelihood:                -565.90\n",
      "No. Observations:                 174   AIC:                             1138.\n",
      "Df Residuals:                     171   BIC:                             1147.\n",
      "Df Model:                           2                                         \n",
      "Covariance Type:            nonrobust                                         \n",
      "========================================================================================\n",
      "                           coef    std err          t      P>|t|      [95.0% Conf. Int.]\n",
      "----------------------------------------------------------------------------------------\n",
      "Intercept               10.0267      0.859     11.678      0.000         8.332    11.722\n",
      "C(internetrate)[T.2]    -0.8557      1.082     -0.791      0.430        -2.991     1.279\n",
      "C(internetrate)[T.3]     0.8455      1.469      0.575      0.566        -2.055     3.746\n",
      "==============================================================================\n",
      "Omnibus:                       54.934   Durbin-Watson:                   2.054\n",
      "Prob(Omnibus):                  0.000   Jarque-Bera (JB):              117.865\n",
      "Skew:                           1.435   Prob(JB):                     2.55e-26\n",
      "Kurtosis:                       5.832   Cond. No.                         4.22\n",
      "==============================================================================\n",
      "\n",
      "Warnings:\n",
      "[1] Standard Errors assume that the covariance matrix of the errors is correctly specified.\n"
     ]
    }
   ],
   "source": [
    "model1=smf.ols(formula='suicideper100th ~ C(internetrate)', data=sub2)\n",
    "results1 = model1.fit()\n",
    "print (results1.summary())"
   ]
  },
  {
   "cell_type": "markdown",
   "metadata": {},
   "source": [
    "# Model Interpretation for ANOVA:\n",
    "\n",
    "When examining the association between suicide rate (quantitative response) and internet usage rate, an Analysis of Variance (ANOVA) revealed that suicide rate (Mean=9.7, s.d. ±6.3) was not related to Internet Usage Rate (Mean=33.97, s.d. ±27.7), F(1, 171)=.8787, p>.05."
   ]
  },
  {
   "cell_type": "markdown",
   "metadata": {},
   "source": [
    "Compute group means & group standard deviations"
   ]
  },
  {
   "cell_type": "code",
   "execution_count": 192,
   "metadata": {
    "collapsed": false
   },
   "outputs": [
    {
     "name": "stdout",
     "output_type": "stream",
     "text": [
      "Means for Suicide Rates by Internet Use\n",
      "              suicideper100th\n",
      "internetrate                 \n",
      "1                   10.026689\n",
      "2                    9.170980\n",
      "3                   10.872157\n"
     ]
    }
   ],
   "source": [
    "sub3 = sub2[['suicideper100th', 'internetrate']]\n",
    "print ('Means for Suicide Rates by Internet Use')\n",
    "m2= sub3.groupby('internetrate').mean()\n",
    "print (m2)"
   ]
  },
  {
   "cell_type": "code",
   "execution_count": 193,
   "metadata": {
    "collapsed": false
   },
   "outputs": [
    {
     "name": "stdout",
     "output_type": "stream",
     "text": [
      "Standard deviations for Suicide Rates by Internet Use\n",
      "              suicideper100th\n",
      "internetrate                 \n",
      "1                    5.240442\n",
      "2                    7.088560\n",
      "3                    5.372096\n"
     ]
    }
   ],
   "source": [
    "print ('Standard deviations for Suicide Rates by Internet Use')\n",
    "sd2 = sub3.groupby('internetrate').std()\n",
    "print (sd2)"
   ]
  },
  {
   "cell_type": "markdown",
   "metadata": {},
   "source": [
    "###Post Hoc Analysis\n",
    "Although significant results were not established, a post hoc analysis was conducted to demonstrate ability to run post hoc analysis."
   ]
  },
  {
   "cell_type": "code",
   "execution_count": 194,
   "metadata": {
    "collapsed": false
   },
   "outputs": [
    {
     "name": "stdout",
     "output_type": "stream",
     "text": [
      "Multiple Comparison of Means - Tukey HSD,FWER=0.05\n",
      "============================================\n",
      "group1 group2 meandiff  lower  upper  reject\n",
      "--------------------------------------------\n",
      "  1      2    -0.8557  -3.4132 1.7017 False \n",
      "  1      3     0.8455  -2.6287 4.3197 False \n",
      "  2      3     1.7012  -1.5187 4.9211 False \n",
      "--------------------------------------------\n"
     ]
    }
   ],
   "source": [
    "mc1 = multi.MultiComparison(sub2['suicideper100th'], sub2['internetrate'])\n",
    "res1 = mc1.tukeyhsd()\n",
    "print(res1.summary())"
   ]
  },
  {
   "cell_type": "markdown",
   "metadata": {},
   "source": [
    "###Scatter Plot"
   ]
  },
  {
   "cell_type": "code",
   "execution_count": 195,
   "metadata": {
    "collapsed": false
   },
   "outputs": [
    {
     "data": {
      "text/plain": [
       "<matplotlib.text.Text at 0x1c8f6f60>"
      ]
     },
     "execution_count": 195,
     "metadata": {},
     "output_type": "execute_result"
    },
    {
     "data": {
      "image/png": "[encoded data removed]",
      "text/plain": [
       "<matplotlib.figure.Figure at 0x1c364390>"
      ]
     },
     "metadata": {},
     "output_type": "display_data"
    }
   ],
   "source": [
    "scat1 = seaborn.regplot(x=\"internetuserate\", y=\"suicideper100th\", fit_reg=True, data=sub2)\n",
    "plt.xlabel('Internet Use Rate')\n",
    "plt.ylabel('Suicide Rate')\n",
    "plt.title('Scatterplot for the Association Between Internet Use Rate and Suicide Rate')"
   ]
  },
  {
   "cell_type": "markdown",
   "metadata": {},
   "source": [
    "##Correlation"
   ]
  },
  {
   "cell_type": "code",
   "execution_count": 211,
   "metadata": {
    "collapsed": false
   },
   "outputs": [
    {
     "name": "stdout",
     "output_type": "stream",
     "text": [
      "Association between Internet Use Rate and Suicide Rate\n",
      "(0.068005290313437675, 0.3725975053838978)\n"
     ]
    }
   ],
   "source": [
    "print ('Association between Internet Use Rate and Suicide Rate')\n",
    "r = scipy.stats.pearsonr(sub2['internetuserate'], sub2['suicideper100th'])\n",
    "print r"
   ]
  },
  {
   "cell_type": "code",
   "execution_count": 197,
   "metadata": {
    "collapsed": false
   },
   "outputs": [
    {
     "name": "stdout",
     "output_type": "stream",
     "text": [
      "R Squared = 0.00462471951061\n"
     ]
    }
   ],
   "source": [
    "r_squared = r[0] * r[0]\n",
    "print('R Squared = '+str(r_squared))"
   ]
  },
  {
   "cell_type": "markdown",
   "metadata": {},
   "source": [
    "Pearson R was .06 indicating a weak association.  The result was not statistically significant.  R-squared indicated less that 1% of the variation in suicide rates was explained by internet usage rates."
   ]
  },
  {
   "cell_type": "markdown",
   "metadata": {},
   "source": [
    "##Chi-square"
   ]
  },
  {
   "cell_type": "code",
   "execution_count": 198,
   "metadata": {
    "collapsed": false,
    "scrolled": true
   },
   "outputs": [
    {
     "name": "stdout",
     "output_type": "stream",
     "text": [
      "suiciderate    1   2\n",
      "internetrate        \n",
      "1             30  24\n",
      "2             61  31\n",
      "3             12  16\n"
     ]
    }
   ],
   "source": [
    "# contingency table of observed counts\n",
    "ct1=pd.crosstab(sub2['internetrate'], sub2['suiciderate'])\n",
    "print (ct1)"
   ]
  },
  {
   "cell_type": "code",
   "execution_count": 199,
   "metadata": {
    "collapsed": false
   },
   "outputs": [
    {
     "name": "stdout",
     "output_type": "stream",
     "text": [
      "suiciderate          1         2\n",
      "internetrate                    \n",
      "1             0.291262  0.338028\n",
      "2             0.592233  0.436620\n",
      "3             0.116505  0.225352\n"
     ]
    }
   ],
   "source": [
    "# column percentages\n",
    "colsum=ct1.sum(axis=0)\n",
    "colpct=ct1/colsum\n",
    "print(colpct)"
   ]
  },
  {
   "cell_type": "code",
   "execution_count": 200,
   "metadata": {
    "collapsed": false
   },
   "outputs": [
    {
     "name": "stdout",
     "output_type": "stream",
     "text": [
      "chi-square value, p value, expected counts\n",
      "(5.3154256904873742, 0.070108387244536871, 2L, array([[ 31.96551724,  22.03448276],\n",
      "       [ 54.45977011,  37.54022989],\n",
      "       [ 16.57471264,  11.42528736]]))\n"
     ]
    }
   ],
   "source": [
    "# chi-square\n",
    "print ('chi-square value, p value, expected counts')\n",
    "cs1= scipy.stats.chi2_contingency(ct1)\n",
    "print (cs1)"
   ]
  },
  {
   "cell_type": "markdown",
   "metadata": {},
   "source": [
    "###Model Interpretation for Chi-square:\n",
    "\n",
    "When examining the association between suicide rate (coded as high or low) and internet usage rate (coded as high, medium or low) , a Chi Square test concluded that suicide rate was not related to Internet Usage Rate, p > .05."
   ]
  },
  {
   "cell_type": "markdown",
   "metadata": {},
   "source": [
    "### Bar Plot of Results"
   ]
  },
  {
   "cell_type": "code",
   "execution_count": 201,
   "metadata": {
    "collapsed": false
   },
   "outputs": [],
   "source": [
    "# set rate to category variable type\n",
    "sub2[\"internetrate\"] = sub2[\"internetrate\"].astype('category')"
   ]
  },
  {
   "cell_type": "code",
   "execution_count": 202,
   "metadata": {
    "collapsed": false
   },
   "outputs": [
    {
     "data": {
      "text/plain": [
       "<matplotlib.text.Text at 0x1f107198>"
      ]
     },
     "execution_count": 202,
     "metadata": {},
     "output_type": "execute_result"
    },
    {
     "data": {
      "image/png": "[encoded data removed]",
      "text/plain": [
       "<matplotlib.figure.Figure at 0x1c0d1cf8>"
      ]
     },
     "metadata": {},
     "output_type": "display_data"
    }
   ],
   "source": [
    "seaborn.factorplot(x=\"suiciderate\", y=\"internetrate\", data=sub2, kind=\"bar\", ci=None)\n",
    "plt.xlabel('Suicide Rate ')\n",
    "plt.ylabel('Internet Use (1=Low)')"
   ]
  },
  {
   "cell_type": "markdown",
   "metadata": {},
   "source": [
    "###Post Hoc Analysis\n",
    "Although significant results were not established, a post hoc analysis was conducted to demonstrate ability to run post hoc analysis."
   ]
  },
  {
   "cell_type": "code",
   "execution_count": 203,
   "metadata": {
    "collapsed": false
   },
   "outputs": [
    {
     "name": "stdout",
     "output_type": "stream",
     "text": [
      "suiciderate   1   2\n",
      "COMP1v2            \n",
      "1            30  24\n",
      "2            61  31\n",
      "suiciderate        1         2\n",
      "COMP1v2                       \n",
      "1            0.32967  0.436364\n",
      "2            0.67033  0.563636\n",
      "chi-square value, p value, expected counts\n",
      "(1.247869119608251, 0.26395985446188908, 1L, array([[ 33.65753425,  20.34246575],\n",
      "       [ 57.34246575,  34.65753425]]))\n"
     ]
    }
   ],
   "source": [
    "recode2 = {1: 1, 2: 2}\n",
    "sub2[\"COMP1v2\"] = sub2[\"internetrate\"].map(recode2)\n",
    "\n",
    "# contingency table of observed counts\n",
    "ct2=pd.crosstab(sub2['COMP1v2'], sub2['suiciderate'])\n",
    "print (ct2)\n",
    "\n",
    "# column percentages\n",
    "colsum=ct2.sum(axis=0)\n",
    "colpct=ct2/colsum\n",
    "print(colpct)\n",
    "\n",
    "print ('chi-square value, p value, expected counts')\n",
    "cs2= scipy.stats.chi2_contingency(ct2)\n",
    "print (cs2)"
   ]
  },
  {
   "cell_type": "code",
   "execution_count": 204,
   "metadata": {
    "collapsed": false
   },
   "outputs": [
    {
     "name": "stdout",
     "output_type": "stream",
     "text": [
      "suiciderate   1   2\n",
      "COMP1v3            \n",
      "1            30  24\n",
      "3            12  16\n",
      "suiciderate         1    2\n",
      "COMP1v3                   \n",
      "1            0.714286  0.6\n",
      "3            0.285714  0.4\n",
      "chi-square value, p value, expected counts\n",
      "(0.73604891030486252, 0.39092950016300454, 1L, array([[ 27.65853659,  26.34146341],\n",
      "       [ 14.34146341,  13.65853659]]))\n"
     ]
    }
   ],
   "source": [
    "recode3 = {1: 1, 3: 3}\n",
    "sub2[\"COMP1v3\"] = sub2[\"internetrate\"].map(recode3)\n",
    "\n",
    "# contingency table of observed counts\n",
    "ct3=pd.crosstab(sub2['COMP1v3'], sub2['suiciderate'])\n",
    "print (ct3)\n",
    "\n",
    "# column percentages\n",
    "colsum=ct3.sum(axis=0)\n",
    "colpct=ct3/colsum\n",
    "print(colpct)\n",
    "\n",
    "print ('chi-square value, p value, expected counts')\n",
    "cs3= scipy.stats.chi2_contingency(ct3)\n",
    "print (cs3)"
   ]
  },
  {
   "cell_type": "code",
   "execution_count": 205,
   "metadata": {
    "collapsed": false
   },
   "outputs": [
    {
     "name": "stdout",
     "output_type": "stream",
     "text": [
      "suiciderate   1   2\n",
      "COMP2v3            \n",
      "2            61  31\n",
      "3            12  16\n",
      "suiciderate         1         2\n",
      "COMP2v3                        \n",
      "2            0.835616  0.659574\n",
      "3            0.164384  0.340426\n",
      "chi-square value, p value, expected counts\n",
      "(4.0180234652628304, 0.045016441089820017, 1L, array([[ 55.96666667,  36.03333333],\n",
      "       [ 17.03333333,  10.96666667]]))\n"
     ]
    }
   ],
   "source": [
    "recode4 = {2: 2, 3: 3}\n",
    "sub2[\"COMP2v3\"] = sub2[\"internetrate\"].map(recode4)\n",
    "\n",
    "# contingency table of observed counts\n",
    "ct4=pd.crosstab(sub2['COMP2v3'], sub2['suiciderate'])\n",
    "print (ct4)\n",
    "\n",
    "# column percentages\n",
    "colsum=ct4.sum(axis=0)\n",
    "colpct=ct4/colsum\n",
    "print(colpct)\n",
    "\n",
    "print ('chi-square value, p value, expected counts')\n",
    "cs4= scipy.stats.chi2_contingency(ct4)\n",
    "print (cs4)"
   ]
  },
  {
   "cell_type": "markdown",
   "metadata": {
    "collapsed": true
   },
   "source": [
    "###Interpretation for Post-Hoc Chi-square Analysis:\n",
    "\n",
    "When examining the association between suicide rate (coded as high or low) and internet usage rate (coded as high, medium or low) , a Chi Square test concluded that suicide rate was not related to Internet Usage Rate, p > .05.  The post hoc analysis indicated:\n",
    "\n",
    "Cat 1 (Low) to Cat 2 (Medium) p > .05 nonsignificant results\n",
    "\n",
    "Cat 1 (Low) to Cat 3 (High) p > .05 nonsignificant results\n",
    "\n",
    "Cat 2 (Low) to Cat 3 (High) P < = .05 significant results"
   ]
  },
  {
   "cell_type": "markdown",
   "metadata": {},
   "source": [
    "##Testing a Potential Moderator\n",
    "A moderator variable is a third variable that affects the strength of the relationship between a dependent and independent variable.  I used income per person as a potential moderator for the relationship between Interenet Usage Rate and Sucicide Rates."
   ]
  },
  {
   "cell_type": "markdown",
   "metadata": {},
   "source": [
    "### Correlation"
   ]
  },
  {
   "cell_type": "markdown",
   "metadata": {},
   "source": [
    "Create dataframes for each income group"
   ]
  },
  {
   "cell_type": "code",
   "execution_count": 212,
   "metadata": {
    "collapsed": true
   },
   "outputs": [],
   "source": [
    "sub5=sub2[(sub2['ipp']== 1)]\n",
    "sub6=sub2[(sub2['ipp']== 2)]\n",
    "sub7=sub2[(sub2['ipp']== 3)]"
   ]
  },
  {
   "cell_type": "code",
   "execution_count": 224,
   "metadata": {
    "collapsed": false
   },
   "outputs": [
    {
     "name": "stdout",
     "output_type": "stream",
     "text": [
      "Association between Internet Usage and Suicide Rates for LOW income countries\n",
      "(0.065344298491482031, 0.64869906233837582)\n",
      "R Squared = 0.00426987734534\n",
      "Pearson R was .06 indicating a weak association.  The result was not statistically significant.  R-squared indicated less that 1% of the variation in suicide rates was explained by internet usage rates.\n",
      "       \n",
      "Association between Internet Usage and Suicide Rates for MIDDLE income countries\n",
      "(0.13433202466847963, 0.18270268291298697)\n",
      "R Squared = 0.0180450928515\n",
      "Pearson R was .13 indicating a weak association.  The result was not statistically significant.  R-squared indicated less that 1% of the variation in suicide rates was explained by internet usage rates.\n",
      "       \n",
      "Association between Internet Usage and Suicide Rates for HIGH income countries\n",
      "(0.13433202466847963, 0.18270268291298697)\n",
      "R Squared = 0.0037517738286\n",
      "Pearson R was .13 indicating a weak association.  The result was not statistically significant.  R-squared indicated less that 1% of the variation in suicide rates was explained by internet usage rates.\n"
     ]
    }
   ],
   "source": [
    "print ('Association between Internet Usage and Suicide Rates for LOW income countries')\n",
    "r1 = scipy.stats.pearsonr(sub5['internetuserate'], sub5['suicideper100th'])\n",
    "print (r1)\n",
    "r_squared = r1[0] * r1[0]\n",
    "print('R Squared = '+str(r_squared))\n",
    "print ('Pearson R was .06 indicating a weak association.  The result was not statistically significant.  R-squared indicated less that 1% of the variation in suicide rates was explained by internet usage rates.')\n",
    "\n",
    "\n",
    "print ('       ')\n",
    "print ('Association between Internet Usage and Suicide Rates for MIDDLE income countries')\n",
    "r2 = scipy.stats.pearsonr(sub6['internetuserate'], sub6['suicideper100th'])\n",
    "print (r2)\n",
    "r_squared = r2[0] * r2[0]\n",
    "print('R Squared = '+str(r_squared))\n",
    "print('Pearson R was .13 indicating a weak association.  The result was not statistically significant.  R-squared indicated less that 1% of the variation in suicide rates was explained by internet usage rates.')\n",
    "\n",
    "print ('       ')\n",
    "print ('Association between Internet Usage and Suicide Rates for HIGH income countries')\n",
    "r3 = scipy.stats.pearsonr(sub7['internetuserate'], sub7['suicideper100th'])\n",
    "print (r2)\n",
    "r_squared = r3[0] * r3[0]\n",
    "print('R Squared = '+str(r_squared))\n",
    "print('Pearson R was .13 indicating a weak association.  The result was not statistically significant.  R-squared indicated less that 1% of the variation in suicide rates was explained by internet usage rates.')"
   ]
  },
  {
   "cell_type": "code",
   "execution_count": null,
   "metadata": {
    "collapsed": true
   },
   "outputs": [],
   "source": []
  }
 ],
 "metadata": {
  "kernelspec": {
   "display_name": "Python 2",
   "language": "python",
   "name": "python2"
  },
  "language_info": {
   "codemirror_mode": {
    "name": "ipython",
    "version": 2
   },
   "file_extension": ".py",
   "mimetype": "text/x-python",
   "name": "python",
   "nbconvert_exporter": "python",
   "pygments_lexer": "ipython2",
   "version": "2.7.10"
  }
 },
 "nbformat": 4,
 "nbformat_minor": 0
}
