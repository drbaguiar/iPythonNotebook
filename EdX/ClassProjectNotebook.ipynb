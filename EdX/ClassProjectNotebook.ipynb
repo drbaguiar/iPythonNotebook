{
 "cells": [
  {
   "cell_type": "markdown",
   "metadata": {},
   "source": [
    "#<C>Class Project</C>\n",
    "\n",
    "##Codebook\n",
    "After a review of the various code books available for the class, I decided to use the Gapminder data set.\n",
    "\n",
    "##Research Question\n",
    "Is there an association between Internet usage and suicide rates?  I will use the variables Internetuserate and suicideper100TH rate in my code book.  "
   ]
  },
  {
   "cell_type": "markdown",
   "metadata": {},
   "source": [
    "##Data\n",
    "\n",
    "The mission of Gapminder Foundation is to fight ignorance with a fact-based worldview that everyone can understand. They use surveys to ask representative groups of people simple questions about key-aspects of global development.  When they find large knowledge-gaps, they know what teaching materials we should develop. Gapminder Foundation is a non-profit organization promoting sustainable global development and achievement of the United Nations Millennium Development Goals by increased use and understanding of statistics and other information about social, economic and environmental development at local, national and global levels.  Gapminder was founded in Stockholm by Ola Rosling, Anna Rosling Rönnlund and Hans Rosling on February 25, 2005. \n",
    "\n",
    "Gapminder's data is released under the Creative Commons Attribution 3.0 Unported license. \n",
    "\n",
    "###Sources of Data for Variables\n",
    "\n",
    "<I>Internet Use per 100</I> from the [world bank](http://data.worldbank.org/indicator/IT.NET.USER.P2).  The World Bank defined Internet users as individuals who have used the Internet (from any location) in the last 12 months. Internet can be used via a computer, mobile phone, personal digital assistant, games machine, digital TV etc.  \n",
    "\n",
    "<I>Suicide, age adjusted, per 100 000</I> from the [World Health Organization] (https://www.google.com/url?q=http://www.who.int/violence_injury_prevention/surveillance/databases/mortality/en/index.html&sa=D&ust=1448252492492000&usg=AFQjCNFlYUy92km_25IBO4OsX53Wp_U4sQ). WHO defined Suicide as mortality due to self-inflicted injury, per 100 000 standard population, age adjusted.\n",
    "\n",
    "<I>Income per person.</I> Gapminder complied income per person from several sources.  "
   ]
  },
  {
   "cell_type": "markdown",
   "metadata": {},
   "source": [
    "##Literature Review\n",
    "There is concern that the Internet is playing an increasing role in self-harm and suicide. Internet use may exert both positive and negative effects on young people at risk of self-harm or suicide. The internet has created channels of communication that can be misused to 'cyber-bully' peers; both cyber-bullying and general internet use have been found to correlate with increased risk of self-harm, suicidal idealization, and depression.  Youth who self-harm or are suicidal often make use of the internet. It is most commonly used for constructive reasons such as seeking support and coping strategies, but may exert a negative influence, normalizing self-harm and potentially discouraging disclosure or professional help-seeking. Correlations have been found between internet exposure and violent methods of self-harm.\n",
    "\n",
    "Baker D, & Fortune S (2008) Understanding self-harm and suicide websites a qualitative interview study of young adult website users. Crisis 29: 118-122.\n",
    "\n",
    "Daine K, Hawton K, Singaravelu V, Stewart A, Simkin S, Montgomery P (2013) The Power of the Web: A Systematic Review of Studies of the Influence of the Internet on Self-Harm and Suicide in Young People. PLoS ONE 8(10): e77555. doi:10.1371/journal.pone.0077555\n",
    "\n",
    "Dunlop SM, More E, Romer D (2011) Where do youth learn about suicides on the Internet, and what influence does this have on suicidal ideation? J Child Psychol Psychiatry 52: 1073-1080.\n",
    "\n",
    "Durkee T, Hadlaczky G, Westerlund M, Carli V (2011) Internet pathways in suicidality: A review of the evidence. IntJEnvironResPublic Health 8: 3938- 3952.\n",
    "\n",
    "Gould MS, Wallenstein S, Kleinman MH, O'Carroll P, Mercy J (1990) Suicide clusters: an examination of age-specific effects. Am J Public Health 80: 211-212.\n",
    "\n",
    "Hawton K, Saunders KEA, O'Connor RC (2012) Self-harm and suicide in adolescents. Lancet 379: 2373-2382.\n",
    "\n",
    "Kim K, Ryu E, Chon MY, Yeun EJ, Choi SY, et al. (2006) Internet addiction in Korean adolescents and its relation to depression and suicidal ideation: A questionnaire survey. Int J Nurs Stud 43: 185-192.\n",
    "\n",
    "Katsumata Y, Matsumoto T, Kitani M, Takeshima T (2008) Electronic media use and suicidal ideation in Japanese adolescents. Psychiatry Clin Neurosci 62: 744-746.\n",
    "\n",
    "Madge N, Hawton K, McMahon EM, De Leo D, de Wilde EJ, et al. (2011) Psychological characteristics, stressful life events and deliberate self-harm: findings from the Child & Adolescent Self-harm in Europe (CASE) Study. Eur Child Adolesc Psychiatry 20: 499-508.\n",
    "\n",
    "O'Connor RC, Rasmussen S, Hawton K (2012) Distinguishing adolescents who think about self-harm from those who engage in self-harm. Br J Psychiatry 200: 330-335.\n",
    "\n",
    "Patton GC, Coffey C, Sawyer SM, Viner RM, Haller DM, et al. (2009) Global patterns of mortality in young people: a systematic analysis of population health data. Lancet 374: 881-892.\n",
    "\n",
    "##Hypothesis\n",
    "There is a positive relationship between Internet usage rates and suicide rates."
   ]
  },
  {
   "cell_type": "markdown",
   "metadata": {},
   "source": [
    "##Data\n",
    "Before beginning any analysis, I needed to import some python libraries."
   ]
  },
  {
   "cell_type": "code",
   "execution_count": 7,
   "metadata": {
    "collapsed": false
   },
   "outputs": [
    {
     "name": "stdout",
     "output_type": "stream",
     "text": [
      "numpy version:  1.10.1\n",
      "3.5.1 |Anaconda 2.4.1 (64-bit)| (default, Jan 19 2016, 12:15:43) [MSC v.1900 64 bit (AMD64)]\n"
     ]
    }
   ],
   "source": [
    "#import graphlab as gl\n",
    "import numpy as np\n",
    "print (\"numpy version: \", np.__version__)\n",
    "import sys\n",
    "print (sys.version)\n",
    "import pylab\n",
    "import matplotlib.pyplot as plt\n",
    "import pandas as pd\n",
    "import statsmodels.api as sm\n",
    "import statsmodels.formula.api as smf\n",
    "import statsmodels.stats.multicomp as multi \n",
    "#import graphlab.numpy\n",
    "import seaborn\n",
    "import scipy\n",
    "\n",
    "#gl.canvas.set_target('ipynb') # Print graphlab graphs in line\n",
    "%matplotlib inline"
   ]
  },
  {
   "cell_type": "markdown",
   "metadata": {},
   "source": [
    "I downloaded the data in a CSV file (gapminder.csv) from the course website and saved it to D:/Data/CourseraClass directory on my machine.  I loaded the data in Python from the CSV file. "
   ]
  },
  {
   "cell_type": "code",
   "execution_count": 8,
   "metadata": {
    "collapsed": false
   },
   "outputs": [
    {
     "data": {
      "text/plain": [
       "213"
      ]
     },
     "execution_count": 8,
     "metadata": {},
     "output_type": "execute_result"
    }
   ],
   "source": [
    "data = pd.read_csv('D:/Data/CourseraClass/gapminder.csv')\n",
    "len(data)"
   ]
  },
  {
   "cell_type": "markdown",
   "metadata": {},
   "source": [
    "## Exploratory Analysis\n",
    "Review the top of the data."
   ]
  },
  {
   "cell_type": "code",
   "execution_count": 9,
   "metadata": {
    "collapsed": false
   },
   "outputs": [
    {
     "data": {
      "text/html": [
       "<div>\n",
       "<table border=\"1\" class=\"dataframe\">\n",
       "  <thead>\n",
       "    <tr style=\"text-align: right;\">\n",
       "      <th></th>\n",
       "      <th>country</th>\n",
       "      <th>incomeperperson</th>\n",
       "      <th>alcconsumption</th>\n",
       "      <th>armedforcesrate</th>\n",
       "      <th>breastcancerper100th</th>\n",
       "      <th>co2emissions</th>\n",
       "      <th>femaleemployrate</th>\n",
       "      <th>hivrate</th>\n",
       "      <th>internetuserate</th>\n",
       "      <th>lifeexpectancy</th>\n",
       "      <th>oilperperson</th>\n",
       "      <th>polityscore</th>\n",
       "      <th>relectricperperson</th>\n",
       "      <th>suicideper100th</th>\n",
       "      <th>employrate</th>\n",
       "      <th>urbanrate</th>\n",
       "    </tr>\n",
       "  </thead>\n",
       "  <tbody>\n",
       "    <tr>\n",
       "      <th>0</th>\n",
       "      <td>Afghanistan</td>\n",
       "      <td></td>\n",
       "      <td>.03</td>\n",
       "      <td>.5696534</td>\n",
       "      <td>26.8</td>\n",
       "      <td>75944000</td>\n",
       "      <td>25.6000003814697</td>\n",
       "      <td></td>\n",
       "      <td>3.65412162280064</td>\n",
       "      <td>48.673</td>\n",
       "      <td></td>\n",
       "      <td>0</td>\n",
       "      <td></td>\n",
       "      <td>6.68438529968262</td>\n",
       "      <td>55.7000007629394</td>\n",
       "      <td>24.04</td>\n",
       "    </tr>\n",
       "    <tr>\n",
       "      <th>1</th>\n",
       "      <td>Albania</td>\n",
       "      <td>1914.99655094922</td>\n",
       "      <td>7.29</td>\n",
       "      <td>1.0247361</td>\n",
       "      <td>57.4</td>\n",
       "      <td>223747333.333333</td>\n",
       "      <td>42.0999984741211</td>\n",
       "      <td></td>\n",
       "      <td>44.9899469578783</td>\n",
       "      <td>76.918</td>\n",
       "      <td></td>\n",
       "      <td>9</td>\n",
       "      <td>636.341383366604</td>\n",
       "      <td>7.69932985305786</td>\n",
       "      <td>51.4000015258789</td>\n",
       "      <td>46.72</td>\n",
       "    </tr>\n",
       "    <tr>\n",
       "      <th>2</th>\n",
       "      <td>Algeria</td>\n",
       "      <td>2231.99333515006</td>\n",
       "      <td>.69</td>\n",
       "      <td>2.306817</td>\n",
       "      <td>23.5</td>\n",
       "      <td>2932108666.66667</td>\n",
       "      <td>31.7000007629394</td>\n",
       "      <td>.1</td>\n",
       "      <td>12.5000733055148</td>\n",
       "      <td>73.131</td>\n",
       "      <td>.42009452521537</td>\n",
       "      <td>2</td>\n",
       "      <td>590.509814347428</td>\n",
       "      <td>4.8487696647644</td>\n",
       "      <td>50.5</td>\n",
       "      <td>65.22</td>\n",
       "    </tr>\n",
       "    <tr>\n",
       "      <th>3</th>\n",
       "      <td>Andorra</td>\n",
       "      <td>21943.3398976022</td>\n",
       "      <td>10.17</td>\n",
       "      <td></td>\n",
       "      <td></td>\n",
       "      <td></td>\n",
       "      <td></td>\n",
       "      <td></td>\n",
       "      <td>81</td>\n",
       "      <td></td>\n",
       "      <td></td>\n",
       "      <td></td>\n",
       "      <td></td>\n",
       "      <td>5.36217880249023</td>\n",
       "      <td></td>\n",
       "      <td>88.92</td>\n",
       "    </tr>\n",
       "    <tr>\n",
       "      <th>4</th>\n",
       "      <td>Angola</td>\n",
       "      <td>1381.00426770244</td>\n",
       "      <td>5.57</td>\n",
       "      <td>1.4613288</td>\n",
       "      <td>23.1</td>\n",
       "      <td>248358000</td>\n",
       "      <td>69.4000015258789</td>\n",
       "      <td>2</td>\n",
       "      <td>9.99995388324075</td>\n",
       "      <td>51.093</td>\n",
       "      <td></td>\n",
       "      <td>-2</td>\n",
       "      <td>172.999227388199</td>\n",
       "      <td>14.5546770095825</td>\n",
       "      <td>75.6999969482422</td>\n",
       "      <td>56.7</td>\n",
       "    </tr>\n",
       "  </tbody>\n",
       "</table>\n",
       "</div>"
      ],
      "text/plain": [
       "       country   incomeperperson alcconsumption armedforcesrate  \\\n",
       "0  Afghanistan                              .03        .5696534   \n",
       "1      Albania  1914.99655094922           7.29       1.0247361   \n",
       "2      Algeria  2231.99333515006            .69        2.306817   \n",
       "3      Andorra  21943.3398976022          10.17                   \n",
       "4       Angola  1381.00426770244           5.57       1.4613288   \n",
       "\n",
       "  breastcancerper100th      co2emissions  femaleemployrate hivrate  \\\n",
       "0                 26.8          75944000  25.6000003814697           \n",
       "1                 57.4  223747333.333333  42.0999984741211           \n",
       "2                 23.5  2932108666.66667  31.7000007629394      .1   \n",
       "3                                                                    \n",
       "4                 23.1         248358000  69.4000015258789       2   \n",
       "\n",
       "    internetuserate lifeexpectancy     oilperperson polityscore  \\\n",
       "0  3.65412162280064         48.673                            0   \n",
       "1  44.9899469578783         76.918                            9   \n",
       "2  12.5000733055148         73.131  .42009452521537           2   \n",
       "3                81                                               \n",
       "4  9.99995388324075         51.093                           -2   \n",
       "\n",
       "  relectricperperson   suicideper100th        employrate urbanrate  \n",
       "0                     6.68438529968262  55.7000007629394     24.04  \n",
       "1   636.341383366604  7.69932985305786  51.4000015258789     46.72  \n",
       "2   590.509814347428   4.8487696647644              50.5     65.22  \n",
       "3                     5.36217880249023                       88.92  \n",
       "4   172.999227388199  14.5546770095825  75.6999969482422      56.7  "
      ]
     },
     "execution_count": 9,
     "metadata": {},
     "output_type": "execute_result"
    }
   ],
   "source": [
    "data.head()"
   ]
  },
  {
   "cell_type": "markdown",
   "metadata": {},
   "source": [
    "Review the bottom of the data."
   ]
  },
  {
   "cell_type": "code",
   "execution_count": 10,
   "metadata": {
    "collapsed": false
   },
   "outputs": [
    {
     "data": {
      "text/html": [
       "<div>\n",
       "<table border=\"1\" class=\"dataframe\">\n",
       "  <thead>\n",
       "    <tr style=\"text-align: right;\">\n",
       "      <th></th>\n",
       "      <th>country</th>\n",
       "      <th>incomeperperson</th>\n",
       "      <th>alcconsumption</th>\n",
       "      <th>armedforcesrate</th>\n",
       "      <th>breastcancerper100th</th>\n",
       "      <th>co2emissions</th>\n",
       "      <th>femaleemployrate</th>\n",
       "      <th>hivrate</th>\n",
       "      <th>internetuserate</th>\n",
       "      <th>lifeexpectancy</th>\n",
       "      <th>oilperperson</th>\n",
       "      <th>polityscore</th>\n",
       "      <th>relectricperperson</th>\n",
       "      <th>suicideper100th</th>\n",
       "      <th>employrate</th>\n",
       "      <th>urbanrate</th>\n",
       "    </tr>\n",
       "  </thead>\n",
       "  <tbody>\n",
       "    <tr>\n",
       "      <th>208</th>\n",
       "      <td>Vietnam</td>\n",
       "      <td>722.807558834445</td>\n",
       "      <td>3.91</td>\n",
       "      <td>1.0853671</td>\n",
       "      <td>16.2</td>\n",
       "      <td>1425435000</td>\n",
       "      <td>67.5999984741211</td>\n",
       "      <td>.4</td>\n",
       "      <td>27.8518215557703</td>\n",
       "      <td>75.181</td>\n",
       "      <td></td>\n",
       "      <td>-7</td>\n",
       "      <td>302.725654656034</td>\n",
       "      <td>11.6533222198486</td>\n",
       "      <td>71</td>\n",
       "      <td>27.84</td>\n",
       "    </tr>\n",
       "    <tr>\n",
       "      <th>209</th>\n",
       "      <td>West Bank and Gaza</td>\n",
       "      <td></td>\n",
       "      <td></td>\n",
       "      <td>5.9360854</td>\n",
       "      <td></td>\n",
       "      <td>14241333.3333333</td>\n",
       "      <td>11.3000001907349</td>\n",
       "      <td></td>\n",
       "      <td>36.4227717919075</td>\n",
       "      <td>72.832</td>\n",
       "      <td></td>\n",
       "      <td></td>\n",
       "      <td></td>\n",
       "      <td></td>\n",
       "      <td>32</td>\n",
       "      <td>71.9</td>\n",
       "    </tr>\n",
       "    <tr>\n",
       "      <th>210</th>\n",
       "      <td>Yemen, Rep.</td>\n",
       "      <td>610.3573673206</td>\n",
       "      <td>.2</td>\n",
       "      <td>2.3162346</td>\n",
       "      <td>35.1</td>\n",
       "      <td>234864666.666667</td>\n",
       "      <td>20.2999992370605</td>\n",
       "      <td></td>\n",
       "      <td>12.3497504635596</td>\n",
       "      <td>65.493</td>\n",
       "      <td></td>\n",
       "      <td>-2</td>\n",
       "      <td>130.05783139719</td>\n",
       "      <td>6.26578903198242</td>\n",
       "      <td>39</td>\n",
       "      <td>30.64</td>\n",
       "    </tr>\n",
       "    <tr>\n",
       "      <th>211</th>\n",
       "      <td>Zambia</td>\n",
       "      <td>432.226336974583</td>\n",
       "      <td>3.56</td>\n",
       "      <td>.3413352</td>\n",
       "      <td>13</td>\n",
       "      <td>132025666.666667</td>\n",
       "      <td>53.5</td>\n",
       "      <td>13.5</td>\n",
       "      <td>10.124986462443</td>\n",
       "      <td>49.025</td>\n",
       "      <td></td>\n",
       "      <td>7</td>\n",
       "      <td>168.623030511023</td>\n",
       "      <td>12.0190362930298</td>\n",
       "      <td>61</td>\n",
       "      <td>35.42</td>\n",
       "    </tr>\n",
       "    <tr>\n",
       "      <th>212</th>\n",
       "      <td>Zimbabwe</td>\n",
       "      <td>320.771889948584</td>\n",
       "      <td>4.96</td>\n",
       "      <td>1.0327854</td>\n",
       "      <td>19</td>\n",
       "      <td>590219666.666666</td>\n",
       "      <td>58.0999984741211</td>\n",
       "      <td>14.3</td>\n",
       "      <td>11.5004153209768</td>\n",
       "      <td>51.384</td>\n",
       "      <td></td>\n",
       "      <td>1</td>\n",
       "      <td>297.883200408304</td>\n",
       "      <td>13.9052667617798</td>\n",
       "      <td>66.8000030517578</td>\n",
       "      <td>37.34</td>\n",
       "    </tr>\n",
       "  </tbody>\n",
       "</table>\n",
       "</div>"
      ],
      "text/plain": [
       "                country   incomeperperson alcconsumption armedforcesrate  \\\n",
       "208             Vietnam  722.807558834445           3.91       1.0853671   \n",
       "209  West Bank and Gaza                                        5.9360854   \n",
       "210         Yemen, Rep.    610.3573673206             .2       2.3162346   \n",
       "211              Zambia  432.226336974583           3.56        .3413352   \n",
       "212            Zimbabwe  320.771889948584           4.96       1.0327854   \n",
       "\n",
       "    breastcancerper100th      co2emissions  femaleemployrate hivrate  \\\n",
       "208                 16.2        1425435000  67.5999984741211      .4   \n",
       "209                       14241333.3333333  11.3000001907349           \n",
       "210                 35.1  234864666.666667  20.2999992370605           \n",
       "211                   13  132025666.666667              53.5    13.5   \n",
       "212                   19  590219666.666666  58.0999984741211    14.3   \n",
       "\n",
       "      internetuserate lifeexpectancy oilperperson polityscore  \\\n",
       "208  27.8518215557703         75.181                       -7   \n",
       "209  36.4227717919075         72.832                            \n",
       "210  12.3497504635596         65.493                       -2   \n",
       "211   10.124986462443         49.025                        7   \n",
       "212  11.5004153209768         51.384                        1   \n",
       "\n",
       "    relectricperperson   suicideper100th        employrate urbanrate  \n",
       "208   302.725654656034  11.6533222198486                71     27.84  \n",
       "209                                                     32      71.9  \n",
       "210    130.05783139719  6.26578903198242                39     30.64  \n",
       "211   168.623030511023  12.0190362930298                61     35.42  \n",
       "212   297.883200408304  13.9052667617798  66.8000030517578     37.34  "
      ]
     },
     "execution_count": 10,
     "metadata": {},
     "output_type": "execute_result"
    }
   ],
   "source": [
    "data.tail()"
   ]
  },
  {
   "cell_type": "markdown",
   "metadata": {},
   "source": [
    "Subset the data to remove missing values from the variables of interest."
   ]
  },
  {
   "cell_type": "code",
   "execution_count": 1,
   "metadata": {
    "collapsed": false
   },
   "outputs": [
    {
     "ename": "NameError",
     "evalue": "name 'data' is not defined",
     "output_type": "error",
     "traceback": [
      "\u001b[1;31m---------------------------------------------------------------------------\u001b[0m",
      "\u001b[1;31mNameError\u001b[0m                                 Traceback (most recent call last)",
      "\u001b[1;32m<ipython-input-1-64f211ce58de>\u001b[0m in \u001b[0;36m<module>\u001b[1;34m()\u001b[0m\n\u001b[1;32m----> 1\u001b[1;33m \u001b[0mdata\u001b[0m\u001b[1;33m[\u001b[0m\u001b[1;34m'suicideper100th'\u001b[0m\u001b[1;33m]\u001b[0m \u001b[1;33m=\u001b[0m \u001b[0mdata\u001b[0m\u001b[1;33m[\u001b[0m\u001b[1;34m'suicideper100th'\u001b[0m\u001b[1;33m]\u001b[0m\u001b[1;33m.\u001b[0m\u001b[0mreplace\u001b[0m\u001b[1;33m(\u001b[0m\u001b[1;34mr'\\s+'\u001b[0m\u001b[1;33m,\u001b[0m \u001b[0mnp\u001b[0m\u001b[1;33m.\u001b[0m\u001b[0mnan\u001b[0m\u001b[1;33m,\u001b[0m \u001b[0mregex\u001b[0m\u001b[1;33m=\u001b[0m\u001b[1;32mTrue\u001b[0m\u001b[1;33m)\u001b[0m\u001b[1;33m\u001b[0m\u001b[0m\n\u001b[0m\u001b[0;32m      2\u001b[0m \u001b[0mdata\u001b[0m\u001b[1;33m[\u001b[0m\u001b[1;34m'internetuserate'\u001b[0m\u001b[1;33m]\u001b[0m \u001b[1;33m=\u001b[0m \u001b[0mdata\u001b[0m\u001b[1;33m[\u001b[0m\u001b[1;34m'internetuserate'\u001b[0m\u001b[1;33m]\u001b[0m\u001b[1;33m.\u001b[0m\u001b[0mreplace\u001b[0m\u001b[1;33m(\u001b[0m\u001b[1;34mr'\\s+'\u001b[0m\u001b[1;33m,\u001b[0m \u001b[0mnp\u001b[0m\u001b[1;33m.\u001b[0m\u001b[0mnan\u001b[0m\u001b[1;33m,\u001b[0m \u001b[0mregex\u001b[0m\u001b[1;33m=\u001b[0m\u001b[1;32mTrue\u001b[0m\u001b[1;33m)\u001b[0m\u001b[1;33m\u001b[0m\u001b[0m\n\u001b[0;32m      3\u001b[0m \u001b[0mdata\u001b[0m\u001b[1;33m[\u001b[0m\u001b[1;34m'incomeperperson'\u001b[0m\u001b[1;33m]\u001b[0m\u001b[1;33m=\u001b[0m \u001b[0mdata\u001b[0m\u001b[1;33m[\u001b[0m\u001b[1;34m'incomeperperson'\u001b[0m\u001b[1;33m]\u001b[0m\u001b[1;33m.\u001b[0m\u001b[0mreplace\u001b[0m\u001b[1;33m(\u001b[0m\u001b[1;34mr'\\s+'\u001b[0m\u001b[1;33m,\u001b[0m \u001b[0mnp\u001b[0m\u001b[1;33m.\u001b[0m\u001b[0mnan\u001b[0m\u001b[1;33m,\u001b[0m \u001b[0mregex\u001b[0m\u001b[1;33m=\u001b[0m\u001b[1;32mTrue\u001b[0m\u001b[1;33m)\u001b[0m\u001b[1;33m\u001b[0m\u001b[0m\n\u001b[0;32m      4\u001b[0m \u001b[0msub\u001b[0m \u001b[1;33m=\u001b[0m \u001b[0mdata\u001b[0m\u001b[1;33m.\u001b[0m\u001b[0mdropna\u001b[0m\u001b[1;33m(\u001b[0m\u001b[0msubset\u001b[0m \u001b[1;33m=\u001b[0m \u001b[1;33m[\u001b[0m\u001b[1;34m'suicideper100th'\u001b[0m\u001b[1;33m,\u001b[0m \u001b[1;34m'internetuserate'\u001b[0m\u001b[1;33m,\u001b[0m \u001b[1;34m'incomeperperson'\u001b[0m\u001b[1;33m]\u001b[0m\u001b[1;33m)\u001b[0m\u001b[1;33m\u001b[0m\u001b[0m\n\u001b[0;32m      5\u001b[0m \u001b[0msub1\u001b[0m \u001b[1;33m=\u001b[0m \u001b[0msub\u001b[0m\u001b[1;33m[\u001b[0m\u001b[1;33m[\u001b[0m\u001b[1;34m'suicideper100th'\u001b[0m\u001b[1;33m,\u001b[0m \u001b[1;34m'internetuserate'\u001b[0m\u001b[1;33m,\u001b[0m \u001b[1;34m'incomeperperson'\u001b[0m\u001b[1;33m]\u001b[0m\u001b[1;33m]\u001b[0m\u001b[1;33m\u001b[0m\u001b[0m\n",
      "\u001b[1;31mNameError\u001b[0m: name 'data' is not defined"
     ]
    }
   ],
   "source": [
    "data['suicideper100th'] = data['suicideper100th'].replace(r'\\s+', np.nan, regex=True)\n",
    "data['internetuserate'] = data['internetuserate'].replace(r'\\s+', np.nan, regex=True)\n",
    "data['incomeperperson']= data['incomeperperson'].replace(r'\\s+', np.nan, regex=True)\n",
    "sub = data.dropna(subset = ['suicideper100th', 'internetuserate', 'incomeperperson'])\n",
    "sub1 = sub[['suicideper100th', 'internetuserate', 'incomeperperson']]\n",
    "len(sub1)\n",
    "len(sub)"
   ]
  },
  {
   "cell_type": "markdown",
   "metadata": {},
   "source": [
    "Convert fields to numeric"
   ]
  },
  {
   "cell_type": "code",
   "execution_count": 12,
   "metadata": {
    "collapsed": false
   },
   "outputs": [
    {
     "name": "stderr",
     "output_type": "stream",
     "text": [
      "C:\\Users\\bryan_000\\Anaconda3\\lib\\site-packages\\ipykernel\\__main__.py:1: FutureWarning: convert_objects is deprecated.  Use the data-type specific converters pd.to_datetime, pd.to_timedelta and pd.to_numeric.\n",
      "  if __name__ == '__main__':\n",
      "C:\\Users\\bryan_000\\Anaconda3\\lib\\site-packages\\ipykernel\\__main__.py:1: SettingWithCopyWarning: \n",
      "A value is trying to be set on a copy of a slice from a DataFrame.\n",
      "Try using .loc[row_indexer,col_indexer] = value instead\n",
      "\n",
      "See the caveats in the documentation: http://pandas.pydata.org/pandas-docs/stable/indexing.html#indexing-view-versus-copy\n",
      "  if __name__ == '__main__':\n",
      "C:\\Users\\bryan_000\\Anaconda3\\lib\\site-packages\\ipykernel\\__main__.py:2: FutureWarning: convert_objects is deprecated.  Use the data-type specific converters pd.to_datetime, pd.to_timedelta and pd.to_numeric.\n",
      "  from ipykernel import kernelapp as app\n",
      "C:\\Users\\bryan_000\\Anaconda3\\lib\\site-packages\\ipykernel\\__main__.py:2: SettingWithCopyWarning: \n",
      "A value is trying to be set on a copy of a slice from a DataFrame.\n",
      "Try using .loc[row_indexer,col_indexer] = value instead\n",
      "\n",
      "See the caveats in the documentation: http://pandas.pydata.org/pandas-docs/stable/indexing.html#indexing-view-versus-copy\n",
      "  from ipykernel import kernelapp as app\n",
      "C:\\Users\\bryan_000\\Anaconda3\\lib\\site-packages\\ipykernel\\__main__.py:3: FutureWarning: convert_objects is deprecated.  Use the data-type specific converters pd.to_datetime, pd.to_timedelta and pd.to_numeric.\n",
      "  app.launch_new_instance()\n",
      "C:\\Users\\bryan_000\\Anaconda3\\lib\\site-packages\\ipykernel\\__main__.py:3: SettingWithCopyWarning: \n",
      "A value is trying to be set on a copy of a slice from a DataFrame.\n",
      "Try using .loc[row_indexer,col_indexer] = value instead\n",
      "\n",
      "See the caveats in the documentation: http://pandas.pydata.org/pandas-docs/stable/indexing.html#indexing-view-versus-copy\n",
      "  app.launch_new_instance()\n"
     ]
    }
   ],
   "source": [
    "sub1['suicideper100th'] = sub1['suicideper100th'].convert_objects(convert_numeric=True)\n",
    "sub1['internetuserate'] = sub1['internetuserate'].convert_objects(convert_numeric=True)\n",
    "sub1['incomeperperson'] = sub1['incomeperperson'].convert_objects(convert_numeric=True)"
   ]
  },
  {
   "cell_type": "markdown",
   "metadata": {},
   "source": [
    "Create categorial predictor based on percentiles.  Those in the lowest 25th percentile will be coded 1 to indicate low usage. Those in the upper 75th percentile will be coded as 3 to indicate high usage.  Those in between will be coded as 2 to indicate medium usage."
   ]
  },
  {
   "cell_type": "code",
   "execution_count": 13,
   "metadata": {
    "collapsed": false
   },
   "outputs": [
    {
     "name": "stdout",
     "output_type": "stream",
     "text": [
      "10.0\n",
      "29.0\n",
      "52.0\n"
     ]
    }
   ],
   "source": [
    "print (round(np.percentile(sub1['internetuserate'],25)))\n",
    "print (round(np.percentile(sub1['internetuserate'],50)))\n",
    "print (round(np.percentile(sub1['internetuserate'],75)))"
   ]
  },
  {
   "cell_type": "code",
   "execution_count": 14,
   "metadata": {
    "collapsed": false
   },
   "outputs": [
    {
     "name": "stderr",
     "output_type": "stream",
     "text": [
      "C:\\Users\\bryan_000\\Anaconda3\\lib\\site-packages\\ipykernel\\__main__.py:1: SettingWithCopyWarning: \n",
      "A value is trying to be set on a copy of a slice from a DataFrame.\n",
      "Try using .loc[row_indexer,col_indexer] = value instead\n",
      "\n",
      "See the caveats in the documentation: http://pandas.pydata.org/pandas-docs/stable/indexing.html#indexing-view-versus-copy\n",
      "  if __name__ == '__main__':\n",
      "C:\\Users\\bryan_000\\Anaconda3\\lib\\site-packages\\ipykernel\\__main__.py:2: SettingWithCopyWarning: \n",
      "A value is trying to be set on a copy of a slice from a DataFrame\n",
      "\n",
      "See the caveats in the documentation: http://pandas.pydata.org/pandas-docs/stable/indexing.html#indexing-view-versus-copy\n",
      "  from ipykernel import kernelapp as app\n",
      "C:\\Users\\bryan_000\\Anaconda3\\lib\\site-packages\\pandas\\core\\generic.py:4059: SettingWithCopyWarning: \n",
      "A value is trying to be set on a copy of a slice from a DataFrame\n",
      "\n",
      "See the caveats in the documentation: http://pandas.pydata.org/pandas-docs/stable/indexing.html#indexing-view-versus-copy\n",
      "  self._update_inplace(new_data)\n",
      "C:\\Users\\bryan_000\\Anaconda3\\lib\\site-packages\\IPython\\core\\interactiveshell.py:3066: SettingWithCopyWarning: \n",
      "A value is trying to be set on a copy of a slice from a DataFrame\n",
      "\n",
      "See the caveats in the documentation: http://pandas.pydata.org/pandas-docs/stable/indexing.html#indexing-view-versus-copy\n",
      "  exec(code_obj, self.user_global_ns, self.user_ns)\n",
      "C:\\Users\\bryan_000\\Anaconda3\\lib\\site-packages\\ipykernel\\__main__.py:3: SettingWithCopyWarning: \n",
      "A value is trying to be set on a copy of a slice from a DataFrame\n",
      "\n",
      "See the caveats in the documentation: http://pandas.pydata.org/pandas-docs/stable/indexing.html#indexing-view-versus-copy\n",
      "  app.launch_new_instance()\n",
      "C:\\Users\\bryan_000\\Anaconda3\\lib\\site-packages\\ipykernel\\__main__.py:4: SettingWithCopyWarning: \n",
      "A value is trying to be set on a copy of a slice from a DataFrame\n",
      "\n",
      "See the caveats in the documentation: http://pandas.pydata.org/pandas-docs/stable/indexing.html#indexing-view-versus-copy\n"
     ]
    }
   ],
   "source": [
    "sub1['internetrate'] = 0\n",
    "sub1['internetrate'][(sub1['internetuserate']>52)] = 3\n",
    "sub1['internetrate'][(sub1['internetuserate']<10)] = 1\n",
    "sub1['internetrate'][(sub1['internetuserate']>=10) & (sub1['internetuserate']<=52)] = 2"
   ]
  },
  {
   "cell_type": "markdown",
   "metadata": {},
   "source": [
    "Create categorial response based on percentiles. Those in the lower 50 percentile will be coded 1 to indicate low rate. Those in the upper 50 percentile will be coded as 2 to indicate high rate."
   ]
  },
  {
   "cell_type": "code",
   "execution_count": 15,
   "metadata": {
    "collapsed": false
   },
   "outputs": [
    {
     "name": "stdout",
     "output_type": "stream",
     "text": [
      "5.0\n",
      "8.0\n",
      "12.0\n"
     ]
    }
   ],
   "source": [
    "print (round(np.percentile(sub1['suicideper100th'],25)))\n",
    "print (round(np.percentile(sub1['suicideper100th'],50)))\n",
    "print (round(np.percentile(sub1['suicideper100th'],75)))"
   ]
  },
  {
   "cell_type": "code",
   "execution_count": 16,
   "metadata": {
    "collapsed": false
   },
   "outputs": [
    {
     "name": "stderr",
     "output_type": "stream",
     "text": [
      "C:\\Users\\bryan_000\\Anaconda3\\lib\\site-packages\\ipykernel\\__main__.py:1: SettingWithCopyWarning: \n",
      "A value is trying to be set on a copy of a slice from a DataFrame.\n",
      "Try using .loc[row_indexer,col_indexer] = value instead\n",
      "\n",
      "See the caveats in the documentation: http://pandas.pydata.org/pandas-docs/stable/indexing.html#indexing-view-versus-copy\n",
      "  if __name__ == '__main__':\n",
      "C:\\Users\\bryan_000\\Anaconda3\\lib\\site-packages\\ipykernel\\__main__.py:2: SettingWithCopyWarning: \n",
      "A value is trying to be set on a copy of a slice from a DataFrame\n",
      "\n",
      "See the caveats in the documentation: http://pandas.pydata.org/pandas-docs/stable/indexing.html#indexing-view-versus-copy\n",
      "  from ipykernel import kernelapp as app\n",
      "C:\\Users\\bryan_000\\Anaconda3\\lib\\site-packages\\pandas\\core\\generic.py:4059: SettingWithCopyWarning: \n",
      "A value is trying to be set on a copy of a slice from a DataFrame\n",
      "\n",
      "See the caveats in the documentation: http://pandas.pydata.org/pandas-docs/stable/indexing.html#indexing-view-versus-copy\n",
      "  self._update_inplace(new_data)\n",
      "C:\\Users\\bryan_000\\Anaconda3\\lib\\site-packages\\IPython\\core\\interactiveshell.py:3066: SettingWithCopyWarning: \n",
      "A value is trying to be set on a copy of a slice from a DataFrame\n",
      "\n",
      "See the caveats in the documentation: http://pandas.pydata.org/pandas-docs/stable/indexing.html#indexing-view-versus-copy\n",
      "  exec(code_obj, self.user_global_ns, self.user_ns)\n",
      "C:\\Users\\bryan_000\\Anaconda3\\lib\\site-packages\\ipykernel\\__main__.py:3: SettingWithCopyWarning: \n",
      "A value is trying to be set on a copy of a slice from a DataFrame\n",
      "\n",
      "See the caveats in the documentation: http://pandas.pydata.org/pandas-docs/stable/indexing.html#indexing-view-versus-copy\n",
      "  app.launch_new_instance()\n"
     ]
    }
   ],
   "source": [
    "sub1['suiciderate'] = 0\n",
    "sub1['suiciderate'][(sub1['suicideper100th']>=8)] = 2\n",
    "sub1['suiciderate'][(sub1['suicideper100th']< 8)] = 1"
   ]
  },
  {
   "cell_type": "markdown",
   "metadata": {},
   "source": [
    "Create categorial moderator based on percentiles.  Those in the lowest 25th percentile will be coded 1 to indicate low income. Those in the upper 75th percentile will be coded as 3 to indicate high income.  Those in between will be coded as 2 to indicate medium income."
   ]
  },
  {
   "cell_type": "code",
   "execution_count": 17,
   "metadata": {
    "collapsed": false
   },
   "outputs": [
    {
     "name": "stdout",
     "output_type": "stream",
     "text": [
      "726.0\n",
      "2454.0\n",
      "8572.0\n"
     ]
    }
   ],
   "source": [
    "print (round(np.percentile(sub1['incomeperperson'],25)))\n",
    "print (round(np.percentile(sub1['incomeperperson'],50)))\n",
    "print (round(np.percentile(sub1['incomeperperson'],75)))"
   ]
  },
  {
   "cell_type": "code",
   "execution_count": 18,
   "metadata": {
    "collapsed": false
   },
   "outputs": [
    {
     "name": "stderr",
     "output_type": "stream",
     "text": [
      "C:\\Users\\bryan_000\\Anaconda3\\lib\\site-packages\\ipykernel\\__main__.py:1: SettingWithCopyWarning: \n",
      "A value is trying to be set on a copy of a slice from a DataFrame.\n",
      "Try using .loc[row_indexer,col_indexer] = value instead\n",
      "\n",
      "See the caveats in the documentation: http://pandas.pydata.org/pandas-docs/stable/indexing.html#indexing-view-versus-copy\n",
      "  if __name__ == '__main__':\n",
      "C:\\Users\\bryan_000\\Anaconda3\\lib\\site-packages\\ipykernel\\__main__.py:2: SettingWithCopyWarning: \n",
      "A value is trying to be set on a copy of a slice from a DataFrame\n",
      "\n",
      "See the caveats in the documentation: http://pandas.pydata.org/pandas-docs/stable/indexing.html#indexing-view-versus-copy\n",
      "  from ipykernel import kernelapp as app\n",
      "C:\\Users\\bryan_000\\Anaconda3\\lib\\site-packages\\pandas\\core\\generic.py:4059: SettingWithCopyWarning: \n",
      "A value is trying to be set on a copy of a slice from a DataFrame\n",
      "\n",
      "See the caveats in the documentation: http://pandas.pydata.org/pandas-docs/stable/indexing.html#indexing-view-versus-copy\n",
      "  self._update_inplace(new_data)\n",
      "C:\\Users\\bryan_000\\Anaconda3\\lib\\site-packages\\IPython\\core\\interactiveshell.py:3066: SettingWithCopyWarning: \n",
      "A value is trying to be set on a copy of a slice from a DataFrame\n",
      "\n",
      "See the caveats in the documentation: http://pandas.pydata.org/pandas-docs/stable/indexing.html#indexing-view-versus-copy\n",
      "  exec(code_obj, self.user_global_ns, self.user_ns)\n",
      "C:\\Users\\bryan_000\\Anaconda3\\lib\\site-packages\\ipykernel\\__main__.py:3: SettingWithCopyWarning: \n",
      "A value is trying to be set on a copy of a slice from a DataFrame\n",
      "\n",
      "See the caveats in the documentation: http://pandas.pydata.org/pandas-docs/stable/indexing.html#indexing-view-versus-copy\n",
      "  app.launch_new_instance()\n",
      "C:\\Users\\bryan_000\\Anaconda3\\lib\\site-packages\\ipykernel\\__main__.py:4: SettingWithCopyWarning: \n",
      "A value is trying to be set on a copy of a slice from a DataFrame\n",
      "\n",
      "See the caveats in the documentation: http://pandas.pydata.org/pandas-docs/stable/indexing.html#indexing-view-versus-copy\n"
     ]
    }
   ],
   "source": [
    "sub1['ipp'] = 0\n",
    "sub1['ipp'][(sub1['incomeperperson']>8572.0)] = 3\n",
    "sub1['ipp'][(sub1['incomeperperson']<726)] = 1\n",
    "sub1['ipp'][(sub1['incomeperperson']>=726) & (sub1['incomeperperson']<=8572)] = 2"
   ]
  },
  {
   "cell_type": "markdown",
   "metadata": {},
   "source": [
    "Create categorial moderator based on percentiles.  Those in the lowest 50th percentile will be coded 1 to indicate low income. Those in the upper 50th percentile will be coded as 2 to indicate high income.  "
   ]
  },
  {
   "cell_type": "code",
   "execution_count": 20,
   "metadata": {
    "collapsed": false
   },
   "outputs": [
    {
     "name": "stderr",
     "output_type": "stream",
     "text": [
      "C:\\Users\\bryan_000\\Anaconda3\\lib\\site-packages\\ipykernel\\__main__.py:1: SettingWithCopyWarning: \n",
      "A value is trying to be set on a copy of a slice from a DataFrame.\n",
      "Try using .loc[row_indexer,col_indexer] = value instead\n",
      "\n",
      "See the caveats in the documentation: http://pandas.pydata.org/pandas-docs/stable/indexing.html#indexing-view-versus-copy\n",
      "  if __name__ == '__main__':\n",
      "C:\\Users\\bryan_000\\Anaconda3\\lib\\site-packages\\ipykernel\\__main__.py:2: SettingWithCopyWarning: \n",
      "A value is trying to be set on a copy of a slice from a DataFrame\n",
      "\n",
      "See the caveats in the documentation: http://pandas.pydata.org/pandas-docs/stable/indexing.html#indexing-view-versus-copy\n",
      "  from ipykernel import kernelapp as app\n",
      "C:\\Users\\bryan_000\\Anaconda3\\lib\\site-packages\\pandas\\core\\generic.py:4059: SettingWithCopyWarning: \n",
      "A value is trying to be set on a copy of a slice from a DataFrame\n",
      "\n",
      "See the caveats in the documentation: http://pandas.pydata.org/pandas-docs/stable/indexing.html#indexing-view-versus-copy\n",
      "  self._update_inplace(new_data)\n",
      "C:\\Users\\bryan_000\\Anaconda3\\lib\\site-packages\\IPython\\core\\interactiveshell.py:3066: SettingWithCopyWarning: \n",
      "A value is trying to be set on a copy of a slice from a DataFrame\n",
      "\n",
      "See the caveats in the documentation: http://pandas.pydata.org/pandas-docs/stable/indexing.html#indexing-view-versus-copy\n",
      "  exec(code_obj, self.user_global_ns, self.user_ns)\n",
      "C:\\Users\\bryan_000\\Anaconda3\\lib\\site-packages\\ipykernel\\__main__.py:3: SettingWithCopyWarning: \n",
      "A value is trying to be set on a copy of a slice from a DataFrame\n",
      "\n",
      "See the caveats in the documentation: http://pandas.pydata.org/pandas-docs/stable/indexing.html#indexing-view-versus-copy\n",
      "  app.launch_new_instance()\n"
     ]
    }
   ],
   "source": [
    "sub1['ipp2'] = 0\n",
    "sub1['ipp2'][(sub1['incomeperperson']>=2454)] = 2\n",
    "sub1['ipp2'][(sub1['incomeperperson']< 2454)] = 1"
   ]
  },
  {
   "cell_type": "markdown",
   "metadata": {},
   "source": [
    "Delete blanks"
   ]
  },
  {
   "cell_type": "code",
   "execution_count": 21,
   "metadata": {
    "collapsed": false
   },
   "outputs": [
    {
     "data": {
      "text/plain": [
       "174"
      ]
     },
     "execution_count": 21,
     "metadata": {},
     "output_type": "execute_result"
    }
   ],
   "source": [
    "sub2 = sub1[ (sub1['internetrate'] > 0) & (sub1['suiciderate']  > 0) & (sub1['ipp']  > 0) ]\n",
    "len(sub2)"
   ]
  },
  {
   "cell_type": "markdown",
   "metadata": {},
   "source": [
    "##Numerical Summaries"
   ]
  },
  {
   "cell_type": "markdown",
   "metadata": {},
   "source": [
    "Compute mean and standard deviation for Internet Usage Rate (Independent Variable)"
   ]
  },
  {
   "cell_type": "code",
   "execution_count": 22,
   "metadata": {
    "collapsed": false
   },
   "outputs": [
    {
     "name": "stdout",
     "output_type": "stream",
     "text": [
      "33.97\n",
      "27.67\n"
     ]
    }
   ],
   "source": [
    "print (round(sub2['internetuserate'].mean(),2))\n",
    "print (round(sub2['internetuserate'].std(),2))"
   ]
  },
  {
   "cell_type": "markdown",
   "metadata": {},
   "source": [
    "Compute mean and standard deviation for Suicide Rate (Dependent Variable)"
   ]
  },
  {
   "cell_type": "code",
   "execution_count": 23,
   "metadata": {
    "collapsed": false
   },
   "outputs": [
    {
     "name": "stdout",
     "output_type": "stream",
     "text": [
      "9.71\n",
      "6.3\n"
     ]
    }
   ],
   "source": [
    "print (round(sub2['suicideper100th'].mean(),2))\n",
    "print (round(sub2['suicideper100th'].std(),2))"
   ]
  },
  {
   "cell_type": "markdown",
   "metadata": {},
   "source": [
    "Compute mean and standard deviation for Income per Person (Potential Moderator)"
   ]
  },
  {
   "cell_type": "code",
   "execution_count": 24,
   "metadata": {
    "collapsed": false
   },
   "outputs": [
    {
     "name": "stdout",
     "output_type": "stream",
     "text": [
      "7165.31\n",
      "10229.44\n"
     ]
    }
   ],
   "source": [
    "print (round(sub2['incomeperperson'].mean(),2))\n",
    "print (round(sub2['incomeperperson'].std(),2))"
   ]
  },
  {
   "cell_type": "markdown",
   "metadata": {},
   "source": [
    "Convert new column to numeric"
   ]
  },
  {
   "cell_type": "code",
   "execution_count": 25,
   "metadata": {
    "collapsed": false
   },
   "outputs": [
    {
     "name": "stderr",
     "output_type": "stream",
     "text": [
      "C:\\Users\\bryan_000\\Anaconda3\\lib\\site-packages\\ipykernel\\__main__.py:2: FutureWarning: convert_objects is deprecated.  Use the data-type specific converters pd.to_datetime, pd.to_timedelta and pd.to_numeric.\n",
      "  from ipykernel import kernelapp as app\n"
     ]
    },
    {
     "data": {
      "text/html": [
       "<div>\n",
       "<table border=\"1\" class=\"dataframe\">\n",
       "  <thead>\n",
       "    <tr style=\"text-align: right;\">\n",
       "      <th></th>\n",
       "      <th>suicideper100th</th>\n",
       "      <th>internetuserate</th>\n",
       "      <th>incomeperperson</th>\n",
       "      <th>internetrate</th>\n",
       "      <th>suiciderate</th>\n",
       "      <th>ipp</th>\n",
       "      <th>ipp2</th>\n",
       "    </tr>\n",
       "  </thead>\n",
       "  <tbody>\n",
       "    <tr>\n",
       "      <th>1</th>\n",
       "      <td>7.699330</td>\n",
       "      <td>44.989947</td>\n",
       "      <td>1914.996551</td>\n",
       "      <td>2</td>\n",
       "      <td>1</td>\n",
       "      <td>2</td>\n",
       "      <td>1</td>\n",
       "    </tr>\n",
       "    <tr>\n",
       "      <th>2</th>\n",
       "      <td>4.848770</td>\n",
       "      <td>12.500073</td>\n",
       "      <td>2231.993335</td>\n",
       "      <td>2</td>\n",
       "      <td>1</td>\n",
       "      <td>2</td>\n",
       "      <td>1</td>\n",
       "    </tr>\n",
       "    <tr>\n",
       "      <th>3</th>\n",
       "      <td>5.362179</td>\n",
       "      <td>81.000000</td>\n",
       "      <td>21943.339898</td>\n",
       "      <td>3</td>\n",
       "      <td>1</td>\n",
       "      <td>3</td>\n",
       "      <td>2</td>\n",
       "    </tr>\n",
       "    <tr>\n",
       "      <th>4</th>\n",
       "      <td>14.554677</td>\n",
       "      <td>9.999954</td>\n",
       "      <td>1381.004268</td>\n",
       "      <td>1</td>\n",
       "      <td>2</td>\n",
       "      <td>2</td>\n",
       "      <td>1</td>\n",
       "    </tr>\n",
       "    <tr>\n",
       "      <th>5</th>\n",
       "      <td>2.161843</td>\n",
       "      <td>80.645455</td>\n",
       "      <td>11894.464075</td>\n",
       "      <td>3</td>\n",
       "      <td>1</td>\n",
       "      <td>3</td>\n",
       "      <td>2</td>\n",
       "    </tr>\n",
       "  </tbody>\n",
       "</table>\n",
       "</div>"
      ],
      "text/plain": [
       "   suicideper100th  internetuserate  incomeperperson  internetrate  \\\n",
       "1         7.699330        44.989947      1914.996551             2   \n",
       "2         4.848770        12.500073      2231.993335             2   \n",
       "3         5.362179        81.000000     21943.339898             3   \n",
       "4        14.554677         9.999954      1381.004268             1   \n",
       "5         2.161843        80.645455     11894.464075             3   \n",
       "\n",
       "   suiciderate  ipp  ipp2  \n",
       "1            1    2     1  \n",
       "2            1    2     1  \n",
       "3            1    3     2  \n",
       "4            2    2     1  \n",
       "5            1    3     2  "
      ]
     },
     "execution_count": 25,
     "metadata": {},
     "output_type": "execute_result"
    }
   ],
   "source": [
    "#del sub2['internetuserate']\n",
    "sub2['internetrate']= sub2['internetrate'].convert_objects(convert_numeric=True)\n",
    "sub2.head()"
   ]
  },
  {
   "cell_type": "markdown",
   "metadata": {},
   "source": [
    "## Anova Model\n",
    "Using ols function for calculating the F-statistic and associated p value"
   ]
  },
  {
   "cell_type": "code",
   "execution_count": null,
   "metadata": {
    "collapsed": false,
    "scrolled": true
   },
   "outputs": [],
   "source": [
    "model1=smf.ols(formula='suicideper100th ~ C(internetrate)', data=sub2)\n",
    "results1 = model1.fit()\n",
    "print (results1.summary())"
   ]
  },
  {
   "cell_type": "markdown",
   "metadata": {},
   "source": [
    "##Model Interpretation for ANOVA:\n",
    "\n",
    "When examining the association between suicide rate (quantitative response) and internet usage rate, an Analysis of Variance (ANOVA) revealed that suicide rate (Mean=9.7, s.d. ±6.3) was not related to Internet Usage Rate (Mean=33.97, s.d. ±27.7), F(1, 171)=.8787, p>.05."
   ]
  },
  {
   "cell_type": "markdown",
   "metadata": {},
   "source": [
    "Compute group means & group standard deviations"
   ]
  },
  {
   "cell_type": "code",
   "execution_count": null,
   "metadata": {
    "collapsed": false
   },
   "outputs": [],
   "source": [
    "sub3 = sub2[['suicideper100th', 'internetrate']]\n",
    "print ('Means for Suicide Rates by Internet Use')\n",
    "m2= sub3.groupby('internetrate').mean()\n",
    "print (m2)"
   ]
  },
  {
   "cell_type": "code",
   "execution_count": null,
   "metadata": {
    "collapsed": false
   },
   "outputs": [],
   "source": [
    "print ('Standard deviations for Suicide Rates by Internet Use')\n",
    "sd2 = sub3.groupby('internetrate').std()\n",
    "print (sd2)"
   ]
  },
  {
   "cell_type": "markdown",
   "metadata": {},
   "source": [
    "###Post Hoc Analysis\n",
    "Although significant results were not established, a post hoc analysis was conducted to demonstrate ability to run post hoc analysis."
   ]
  },
  {
   "cell_type": "code",
   "execution_count": null,
   "metadata": {
    "collapsed": false
   },
   "outputs": [],
   "source": [
    "mc1 = multi.MultiComparison(sub2['suicideper100th'], sub2['internetrate'])\n",
    "res1 = mc1.tukeyhsd()\n",
    "print(res1.summary())"
   ]
  },
  {
   "cell_type": "markdown",
   "metadata": {},
   "source": [
    "###Scatter Plot"
   ]
  },
  {
   "cell_type": "code",
   "execution_count": null,
   "metadata": {
    "collapsed": false
   },
   "outputs": [],
   "source": [
    "scat1 = seaborn.regplot(x=\"internetuserate\", y=\"suicideper100th\", fit_reg=True, data=sub2)\n",
    "plt.xlabel('Internet Use Rate')\n",
    "plt.ylabel('Suicide Rate')\n",
    "plt.title('Scatterplot for the Association Between Internet Use Rate and Suicide Rate')"
   ]
  },
  {
   "cell_type": "markdown",
   "metadata": {},
   "source": [
    "##Correlation"
   ]
  },
  {
   "cell_type": "code",
   "execution_count": null,
   "metadata": {
    "collapsed": false
   },
   "outputs": [],
   "source": [
    "print ('Association between Internet Use Rate and Suicide Rate')\n",
    "r = scipy.stats.pearsonr(sub2['internetuserate'], sub2['suicideper100th'])\n",
    "print r"
   ]
  },
  {
   "cell_type": "code",
   "execution_count": null,
   "metadata": {
    "collapsed": false
   },
   "outputs": [],
   "source": [
    "r_squared = r[0] * r[0]\n",
    "print('R Squared = '+str(r_squared))"
   ]
  },
  {
   "cell_type": "markdown",
   "metadata": {},
   "source": [
    "Pearson R was .06 indicating a weak association.  The result was not statistically significant.  R-squared indicated less that 1% of the variation in suicide rates was explained by internet usage rates."
   ]
  },
  {
   "cell_type": "markdown",
   "metadata": {},
   "source": [
    "##Chi-square"
   ]
  },
  {
   "cell_type": "code",
   "execution_count": null,
   "metadata": {
    "collapsed": false,
    "scrolled": true
   },
   "outputs": [],
   "source": [
    "# contingency table of observed counts\n",
    "ct1=pd.crosstab(sub2['internetrate'], sub2['suiciderate'])\n",
    "print (ct1)"
   ]
  },
  {
   "cell_type": "code",
   "execution_count": null,
   "metadata": {
    "collapsed": false
   },
   "outputs": [],
   "source": [
    "# column percentages\n",
    "colsum=ct1.sum(axis=0)\n",
    "colpct=ct1/colsum\n",
    "print(colpct)"
   ]
  },
  {
   "cell_type": "code",
   "execution_count": null,
   "metadata": {
    "collapsed": false
   },
   "outputs": [],
   "source": [
    "# chi-square\n",
    "print ('chi-square value, p value, expected counts')\n",
    "cs1= scipy.stats.chi2_contingency(ct1)\n",
    "print (cs1)"
   ]
  },
  {
   "cell_type": "markdown",
   "metadata": {},
   "source": [
    "###Model Interpretation for Chi-square:\n",
    "\n",
    "When examining the association between suicide rate (coded as high or low) and internet usage rate (coded as high, medium or low) , a Chi Square test concluded that suicide rate was not related to Internet Usage Rate, p > .05."
   ]
  },
  {
   "cell_type": "markdown",
   "metadata": {},
   "source": [
    "### Bar Plot of Results"
   ]
  },
  {
   "cell_type": "code",
   "execution_count": null,
   "metadata": {
    "collapsed": false
   },
   "outputs": [],
   "source": [
    "# set rate to category variable type\n",
    "sub2[\"internetrate\"] = sub2[\"internetrate\"].astype('category')"
   ]
  },
  {
   "cell_type": "code",
   "execution_count": null,
   "metadata": {
    "collapsed": false
   },
   "outputs": [],
   "source": [
    "seaborn.factorplot(x=\"suiciderate\", y=\"internetrate\", data=sub2, kind=\"bar\", ci=None)\n",
    "plt.xlabel('Suicide Rate ')\n",
    "plt.ylabel('Internet Use (1=Low, 2=Medium, 3=High)')"
   ]
  },
  {
   "cell_type": "markdown",
   "metadata": {},
   "source": [
    "###Post Hoc Analysis\n",
    "Although significant results were not established, a post hoc analysis was conducted to demonstrate ability to run post hoc analysis."
   ]
  },
  {
   "cell_type": "code",
   "execution_count": null,
   "metadata": {
    "collapsed": false
   },
   "outputs": [],
   "source": [
    "recode2 = {1: 1, 2: 2}\n",
    "sub2[\"COMP1v2\"] = sub2[\"internetrate\"].map(recode2)\n",
    "\n",
    "# contingency table of observed counts\n",
    "ct2=pd.crosstab(sub2['COMP1v2'], sub2['suiciderate'])\n",
    "print (ct2)\n",
    "\n",
    "# column percentages\n",
    "colsum=ct2.sum(axis=0)\n",
    "colpct=ct2/colsum\n",
    "print(colpct)\n",
    "\n",
    "print ('chi-square value, p value, expected counts')\n",
    "cs2= scipy.stats.chi2_contingency(ct2)\n",
    "print (cs2)"
   ]
  },
  {
   "cell_type": "code",
   "execution_count": null,
   "metadata": {
    "collapsed": false
   },
   "outputs": [],
   "source": [
    "recode3 = {1: 1, 3: 3}\n",
    "sub2[\"COMP1v3\"] = sub2[\"internetrate\"].map(recode3)\n",
    "\n",
    "# contingency table of observed counts\n",
    "ct3=pd.crosstab(sub2['COMP1v3'], sub2['suiciderate'])\n",
    "print (ct3)\n",
    "\n",
    "# column percentages\n",
    "colsum=ct3.sum(axis=0)\n",
    "colpct=ct3/colsum\n",
    "print(colpct)\n",
    "\n",
    "print ('chi-square value, p value, expected counts')\n",
    "cs3= scipy.stats.chi2_contingency(ct3)\n",
    "print (cs3)"
   ]
  },
  {
   "cell_type": "code",
   "execution_count": null,
   "metadata": {
    "collapsed": false
   },
   "outputs": [],
   "source": [
    "recode4 = {2: 2, 3: 3}\n",
    "sub2[\"COMP2v3\"] = sub2[\"internetrate\"].map(recode4)\n",
    "\n",
    "# contingency table of observed counts\n",
    "ct4=pd.crosstab(sub2['COMP2v3'], sub2['suiciderate'])\n",
    "print (ct4)\n",
    "\n",
    "# column percentages\n",
    "colsum=ct4.sum(axis=0)\n",
    "colpct=ct4/colsum\n",
    "print(colpct)\n",
    "\n",
    "print ('chi-square value, p value, expected counts')\n",
    "cs4= scipy.stats.chi2_contingency(ct4)\n",
    "print (cs4)"
   ]
  },
  {
   "cell_type": "markdown",
   "metadata": {
    "collapsed": true
   },
   "source": [
    "###Interpretation for Post-Hoc Chi-square Analysis:\n",
    "\n",
    "When examining the association between suicide rate (coded as high or low) and internet usage rate (coded as high, medium or low) , a Chi Square test concluded that suicide rate was not related to Internet Usage Rate, p > .05.  The post hoc analysis indicated:\n",
    "\n",
    "Cat 1 (Low) to Cat 2 (Medium) p > .05 nonsignificant results\n",
    "\n",
    "Cat 1 (Low) to Cat 3 (High) p > .05 nonsignificant results\n",
    "\n",
    "Cat 2 (Low) to Cat 3 (High) P < = .05 significant results"
   ]
  },
  {
   "cell_type": "markdown",
   "metadata": {},
   "source": [
    "##Testing a Potential Moderator\n",
    "A moderator variable is a third variable that affects the strength of the relationship between a dependent and independent variable.  I used income per person as a potential moderator for the relationship between Interenet Usage Rate and Sucicide Rates."
   ]
  },
  {
   "cell_type": "markdown",
   "metadata": {},
   "source": [
    "### Potential Moderator Correlation\n",
    "Create dataframes for each income group"
   ]
  },
  {
   "cell_type": "code",
   "execution_count": null,
   "metadata": {
    "collapsed": true
   },
   "outputs": [],
   "source": [
    "sub5=sub2[(sub2['ipp']== 1)]\n",
    "sub6=sub2[(sub2['ipp']== 2)]\n",
    "sub7=sub2[(sub2['ipp']== 3)]\n",
    "sub8=sub2[(sub2['ipp2']== 1)]\n",
    "sub9=sub2[(sub2['ipp2']== 2)]"
   ]
  },
  {
   "cell_type": "code",
   "execution_count": null,
   "metadata": {
    "collapsed": false
   },
   "outputs": [],
   "source": [
    "print ('Association between Internet Usage and Suicide Rates for LOW income countries')\n",
    "r1 = scipy.stats.pearsonr(sub5['internetuserate'], sub5['suicideper100th'])\n",
    "print (r1)\n",
    "r_squared = r1[0] * r1[0]\n",
    "print('R Squared = '+str(r_squared))\n",
    "print ('       ')\n",
    "print ('Pearson R was .06 indicating a weak association.  The result was not statistically significant.  R-squared indicated that less 1% of the variation in suicide rates was explained by internet usage rates.')\n",
    "\n",
    "\n",
    "print ('       ')\n",
    "print ('Association between Internet Usage and Suicide Rates for MIDDLE income countries')\n",
    "r2 = scipy.stats.pearsonr(sub6['internetuserate'], sub6['suicideper100th'])\n",
    "print (r2)\n",
    "r_squared = r2[0] * r2[0]\n",
    "print('R Squared = '+str(r_squared))\n",
    "print ('       ')\n",
    "print('Pearson R was .13 indicating a weak association.  The result was not statistically significant.  R-squared indicated that less 1% of the variation in suicide rates was explained by internet usage rates.')\n",
    "\n",
    "print ('       ')\n",
    "print ('Association between Internet Usage and Suicide Rates for HIGH income countries')\n",
    "r3 = scipy.stats.pearsonr(sub7['internetuserate'], sub7['suicideper100th'])\n",
    "print (r2)\n",
    "r_squared = r3[0] * r3[0]\n",
    "print('R Squared = '+str(r_squared))\n",
    "print ('       ')\n",
    "print('Pearson R was .13 indicating a weak association.  The result was not statistically significant.  R-squared indicated that less 1% of the variation in suicide rates was explained by internet usage rates.')"
   ]
  },
  {
   "cell_type": "code",
   "execution_count": null,
   "metadata": {
    "collapsed": false
   },
   "outputs": [],
   "source": [
    "scat1 = seaborn.regplot(x=\"internetuserate\", y=\"suicideper100th\", data=sub5)\n",
    "plt.xlabel('Internet Use Rate')\n",
    "plt.ylabel('Suicide Rate')\n",
    "plt.title('Scatterplot for the Association Between Internet Use Rate and Suicide Rate for LOW income countries')\n",
    "print (scat1)"
   ]
  },
  {
   "cell_type": "code",
   "execution_count": null,
   "metadata": {
    "collapsed": false
   },
   "outputs": [],
   "source": [
    "scat2 = seaborn.regplot(x=\"internetuserate\", y=\"suicideper100th\", data=sub6)\n",
    "plt.xlabel('Internet Use Rate')\n",
    "plt.ylabel('Suicide Rate')\n",
    "plt.title('Scatterplot for the Association Between Internet Use Rate and Suicide Rate for MEDIUM income countries')\n",
    "print (scat2)"
   ]
  },
  {
   "cell_type": "code",
   "execution_count": null,
   "metadata": {
    "collapsed": false
   },
   "outputs": [],
   "source": [
    "scat3 = seaborn.regplot(x=\"internetuserate\", y=\"suicideper100th\", data=sub7)\n",
    "plt.xlabel('Internet Use Rate')\n",
    "plt.ylabel('Suicide Rate')\n",
    "plt.title('Scatterplot for the Association Between Internet Use Rate and Suicide Rate for HIGH income countries')\n",
    "print (scat3)"
   ]
  },
  {
   "cell_type": "markdown",
   "metadata": {
    "collapsed": true
   },
   "source": [
    "### Potential Moderator - Chi-square"
   ]
  },
  {
   "cell_type": "code",
   "execution_count": null,
   "metadata": {
    "collapsed": false
   },
   "outputs": [],
   "source": [
    "print ('Association between Internet Use Rate and Suicide Rate for those in LOW Income Countries')\n",
    "# contingency table of observed counts\n",
    "ct8=pd.crosstab(sub8['internetrate'], sub8['suiciderate'])\n",
    "print (ct8)\n",
    "\n",
    "# column percentages\n",
    "colsum=ct8.sum(axis=0)\n",
    "colpct=ct8/colsum\n",
    "print(colpct)"
   ]
  },
  {
   "cell_type": "code",
   "execution_count": null,
   "metadata": {
    "collapsed": false
   },
   "outputs": [],
   "source": [
    "print ('Association between Internet Use Rate and Suicide Rate for those in HIGH Income Countries')\n",
    "# contingency table of observed counts\n",
    "ct9=pd.crosstab(sub9['internetrate'], sub9['suiciderate'])\n",
    "print (ct9)\n",
    "\n",
    "# column percentages\n",
    "colsum=ct9.sum(axis=0)\n",
    "colpct=ct9/colsum\n",
    "print(colpct)"
   ]
  },
  {
   "cell_type": "code",
   "execution_count": null,
   "metadata": {
    "collapsed": false
   },
   "outputs": [],
   "source": [
    "# chi-square\n",
    "print ('Chi-Square for those in LOW Income Countries')\n",
    "print ('chi-square value, p value, expected counts')\n",
    "cs8= scipy.stats.chi2_contingency(ct8)\n",
    "print (cs8)"
   ]
  },
  {
   "cell_type": "code",
   "execution_count": null,
   "metadata": {
    "collapsed": false
   },
   "outputs": [],
   "source": [
    "# chi-square\n",
    "print ('Chi-Square for those in HIGH Income Countries')\n",
    "print ('chi-square value, p value, expected counts')\n",
    "cs9= scipy.stats.chi2_contingency(ct9)\n",
    "print (cs9)"
   ]
  },
  {
   "cell_type": "markdown",
   "metadata": {},
   "source": [
    "###Model Interpretation for Potential Moderator Chi-square:\n",
    "\n",
    "When examining the association between suicide rate (coded as high or low) and internet usage rate (coded as high, medium or low) using Personal income as, a moderator, the Chi Square test concluded that suicide rate was not related to Internet Usage Rate, p > .05, regardless of the income level."
   ]
  },
  {
   "cell_type": "markdown",
   "metadata": {},
   "source": [
    "###Visual Displays"
   ]
  },
  {
   "cell_type": "code",
   "execution_count": null,
   "metadata": {
    "collapsed": false
   },
   "outputs": [],
   "source": [
    "seaborn.factorplot(x=\"suiciderate\", y=\"internetrate\", data=sub8, kind=\"bar\", ci=None)\n",
    "plt.xlabel('Suicide Rate ')\n",
    "plt.ylabel('Internet Use (1=Low, 2=Medium, 3=High)')\n",
    "plt.title('Association between Internet Usage Rate and Suicide Rate for those with LOW income')"
   ]
  },
  {
   "cell_type": "code",
   "execution_count": null,
   "metadata": {
    "collapsed": false
   },
   "outputs": [],
   "source": [
    "seaborn.factorplot(x=\"suiciderate\", y=\"internetrate\", data=sub9, kind=\"bar\", ci=None)\n",
    "plt.xlabel('Suicide Rate ')\n",
    "plt.ylabel('Internet Use (1=Low, 2=Medium, 3=High)')\n",
    "plt.title('Association between Internet Usage Rate and Suicide Rate for those with HIGH income')"
   ]
  },
  {
   "cell_type": "code",
   "execution_count": null,
   "metadata": {
    "collapsed": false
   },
   "outputs": [],
   "source": [
    "seaborn.factorplot(x='internetrate', y='suiciderate', data=sub8, kind=\"point\", ci=None)\n",
    "plt.xlabel('Internet Usage (Low, Medium, High)')\n",
    "plt.ylabel('Suicide Rate')\n",
    "plt.title('Association between Internet Usage Rate and Suicide Rate for those with LOW income')\n",
    "\n",
    "seaborn.factorplot(x=\"internetrate\", y=\"suiciderate\", data=sub9, kind=\"point\", ci=None)\n",
    "plt.xlabel('Internet Usage (Low, Medium, High)')\n",
    "plt.ylabel('Suicide Rate')\n",
    "plt.title('Association between Internet Usage Rate and Suicide Rate for those with HIGH income')"
   ]
  },
  {
   "cell_type": "markdown",
   "metadata": {},
   "source": [
    "\n"
   ]
  },
  {
   "cell_type": "markdown",
   "metadata": {},
   "source": [
    "### Potential Moderator - ANOVA"
   ]
  },
  {
   "cell_type": "code",
   "execution_count": null,
   "metadata": {
    "collapsed": false
   },
   "outputs": [],
   "source": [
    "sub8['internetrate'] = sub8['internetrate'].convert_objects(convert_numeric=True)\n",
    "sub9['internetrate'] = sub9['internetrate'].convert_objects(convert_numeric=True)"
   ]
  },
  {
   "cell_type": "code",
   "execution_count": null,
   "metadata": {
    "collapsed": false
   },
   "outputs": [],
   "source": [
    "print ('Association between Internet Usage Rates and Suicide Rates for those in LOW income countries')\n",
    "model8 = smf.ols(formula='suicideper100th ~ C(internetrate)', data=sub8).fit()\n",
    "print (model8.summary())"
   ]
  },
  {
   "cell_type": "markdown",
   "metadata": {},
   "source": [
    "###Model Interpretation for ANOVA, LOW income:\n",
    "\n",
    "When examining the association between suicide rate (quantitative response) and internet usage rate, an Analysis of Variance (ANOVA) revealed that suicide rate (Mean=9.7, s.d. ±6.3) was not related to Internet Usage Rate (Mean=33.97, s.d. ±27.7), F(1, 84)=.3319, p>.05."
   ]
  },
  {
   "cell_type": "markdown",
   "metadata": {},
   "source": [
    "print ('Association between Internet Usage Rates and Suicide Rates for those in HIGH income countries')\n",
    "model9 = smf.ols(formula='suicideper100th ~ C(internetrate)', data=sub9).fit()\n",
    "print (model9.summary())"
   ]
  },
  {
   "cell_type": "markdown",
   "metadata": {},
   "source": [
    "###Model Interpretation for ANOVA, HIGH income:\n",
    "\n",
    "When examining the association between suicide rate (quantitative response) and internet usage rate, an Analysis of Variance (ANOVA) revealed that suicide rate (Mean=9.7, s.d. ±6.3) was not related to Internet Usage Rate (Mean=33.97, s.d. ±27.7), F(1, 84)=.8566, p>.05."
   ]
  },
  {
   "cell_type": "markdown",
   "metadata": {},
   "source": [
    "####Compute Group Statistics"
   ]
  },
  {
   "cell_type": "code",
   "execution_count": null,
   "metadata": {
    "collapsed": false
   },
   "outputs": [],
   "source": [
    "sub10 = sub8[['suicideper100th', 'internetrate']]\n",
    "print ('Means for Suicide Rates by Internet Use (LOW Income)')\n",
    "m2= sub10.groupby('internetrate').mean()\n",
    "print (m2)"
   ]
  },
  {
   "cell_type": "code",
   "execution_count": null,
   "metadata": {
    "collapsed": false
   },
   "outputs": [],
   "source": [
    "print ('Standard deviations for Suicide Rates by Internet Use (LOW Income)')\n",
    "sd2 = sub10.groupby('internetrate').std()\n",
    "print (sd2)"
   ]
  },
  {
   "cell_type": "code",
   "execution_count": null,
   "metadata": {
    "collapsed": false
   },
   "outputs": [],
   "source": [
    "sub11 = sub9[['suicideper100th', 'internetrate']]\n",
    "print ('Means for Suicide Rates by Internet Use (HIGH Income)')\n",
    "m2= sub11.groupby('internetrate').mean()\n",
    "print (m2)"
   ]
  },
  {
   "cell_type": "code",
   "execution_count": null,
   "metadata": {
    "collapsed": false
   },
   "outputs": [],
   "source": [
    "print ('Standard deviations for Suicide Rates by Internet Use (HIGH Income)')\n",
    "sd2 = sub11.groupby('internetrate').std()\n",
    "print (sd2)"
   ]
  },
  {
   "cell_type": "code",
   "execution_count": null,
   "metadata": {
    "collapsed": false
   },
   "outputs": [],
   "source": []
  },
  {
   "cell_type": "code",
   "execution_count": null,
   "metadata": {
    "collapsed": false
   },
   "outputs": [],
   "source": [
    "print (\"The minimum value for Internet use rate is: \"), round(sub1[\"internetuserate\"].min(),3)\n",
    "print (\"The maximum value for Internet use rate is: \"), round(sub1[\"internetuserate\"].max(),3)\n",
    "print (\"The average value for Internet use rate is: \"), round(sub1[\"internetuserate\"].mean(),3)\n",
    "print (\"The standard deviation for Internet use rate is: \"), round(sub1[\"internetuserate\"].std(),3)"
   ]
  },
  {
   "cell_type": "code",
   "execution_count": null,
   "metadata": {
    "collapsed": false
   },
   "outputs": [],
   "source": [
    "############################################################################################\n",
    "# BASIC LINEAR REGRESSION USING INTERNET RATE\n",
    "###########################################################################################\n",
    "scat1 = seaborn.regplot(y=\"suicideper100th\", x=\"internetuserate\", scatter=True, data=sub1)\n",
    "plt.xlabel('Internet Use Rate')\n",
    "plt.ylabel('Suicide Rate')\n",
    "plt.title ('Scatterplot for the Association Between Internet Use Rate and Suicide Rate')\n",
    "print(scat1)\n",
    "\n",
    "print (\"OLS regression model for the association between Internet Use Rate and Suicide Rate\")\n",
    "reg1 = smf.ols('suicideper100th ~ internetuserate', data=sub1).fit()\n",
    "print (reg1.summary())"
   ]
  },
  {
   "cell_type": "markdown",
   "metadata": {},
   "source": [
    "The results of the linear regression model indicated that Internet Use Rate (Beta=0.0155, p=.373) was not significantly associated with suicide rates. Lets center Internet Usage Rates."
   ]
  },
  {
   "cell_type": "code",
   "execution_count": null,
   "metadata": {
    "collapsed": false
   },
   "outputs": [],
   "source": [
    "fig1 = sm.qqplot(reg1.resid, line='r')"
   ]
  },
  {
   "cell_type": "code",
   "execution_count": null,
   "metadata": {
    "collapsed": false
   },
   "outputs": [],
   "source": [
    "# simple plot of residuals\n",
    "stdres=pd.DataFrame(reg1.resid_pearson)\n",
    "plt.plot(stdres, 'o', ls='None')\n",
    "l = plt.axhline(y=0, color='r')\n",
    "plt.ylabel('Standardized Residual')\n",
    "plt.xlabel('Observation Number')"
   ]
  },
  {
   "cell_type": "code",
   "execution_count": null,
   "metadata": {
    "collapsed": false
   },
   "outputs": [],
   "source": [
    "print\n",
    "internetuserate_c = sub1[\"internetuserate\"]-sub1[\"internetuserate\"].mean()\n",
    "print (\"The average value for Internet use rate (centered) is: \"), round(internetuserate_c.mean(),2)"
   ]
  },
  {
   "cell_type": "code",
   "execution_count": null,
   "metadata": {
    "collapsed": false
   },
   "outputs": [],
   "source": [
    "############################################################################################\n",
    "# BASIC LINEAR REGRESSION USING CENTERED INTERNET RATE\n",
    "###########################################################################################\n",
    "scat2 = seaborn.regplot(y=\"suicideper100th\", x=\"internetuserate_c\", scatter=True, data=sub1)\n",
    "plt.xlabel('Internet Use Rate (Centered)')\n",
    "plt.ylabel('Suicide Rate')\n",
    "plt.title ('Scatterplot for the Association Between Internet Use Rate (Centered) and Suicide Rate')\n",
    "print(scat2)\n",
    "\n",
    "print (\"OLS regression model for the association between Internet Use Rate (Centered) and Suicide Rate\")\n",
    "reg2 = smf.ols('suicideper100th ~ internetuserate_c', data=sub1).fit()\n",
    "print (reg2.summary())"
   ]
  },
  {
   "cell_type": "markdown",
   "metadata": {},
   "source": [
    "The results of the linear regression model indicated that Internet Use Rate (Beta=0.4275, p=.373) was not significantly associated with suicide rates."
   ]
  },
  {
   "cell_type": "code",
   "execution_count": null,
   "metadata": {
    "collapsed": false
   },
   "outputs": [],
   "source": [
    "fig2= sm.qqplot(reg2.resid, line='r')"
   ]
  },
  {
   "cell_type": "code",
   "execution_count": null,
   "metadata": {
    "collapsed": false
   },
   "outputs": [],
   "source": [
    "# simple plot of residuals\n",
    "stdres=pd.DataFrame(reg2.resid_pearson)\n",
    "plt.plot(stdres, 'o', ls='None')\n",
    "l = plt.axhline(y=0, color='r')\n",
    "plt.ylabel('Standardized Residual')\n",
    "plt.xlabel('Observation Number')"
   ]
  },
  {
   "cell_type": "code",
   "execution_count": null,
   "metadata": {
    "collapsed": false
   },
   "outputs": [],
   "source": [
    "###########################################################################################\n",
    "# QUADRADIC REGRESSION USING CENTERED INTERNET RATE\n",
    "###########################################################################################\n",
    "scat3 = seaborn.regplot(y=\"suicideper100th\", x=\"internetuserate_c\", order=2, scatter=True, data=sub1)\n",
    "plt.xlabel('Internet Use Rate (Centered)')\n",
    "plt.ylabel('Suicide Rate')\n",
    "plt.title ('Scatterplot for the Association Between Internet Use Rate (Centered) and Suicide Rate - Order=2')\n",
    "print(scat3)\n",
    "\n",
    "print (\"OLS regression model for the association between Internet Use Rate (Centered) and Suicide Rate\")\n",
    "reg3 = smf.ols('suicideper100th ~ internetuserate_c+I(internetuserate_c**2)', data=sub1).fit()\n",
    "print (reg3.summary())"
   ]
  },
  {
   "cell_type": "code",
   "execution_count": null,
   "metadata": {
    "collapsed": false
   },
   "outputs": [],
   "source": [
    "fig3 = sm.qqplot(reg3.resid, line='r')"
   ]
  },
  {
   "cell_type": "code",
   "execution_count": null,
   "metadata": {
    "collapsed": false
   },
   "outputs": [],
   "source": [
    "# simple plot of residuals\n",
    "stdres=pd.DataFrame(reg3.resid_pearson)\n",
    "plt.plot(stdres, 'o', ls='None')\n",
    "l = plt.axhline(y=0, color='r')\n",
    "plt.ylabel('Standardized Residual')\n",
    "plt.xlabel('Observation Number')\n",
    "\n",
    "# additional regression diagnostic plots\n",
    "fig3a = plt.figure(figsize(12,8))\n",
    "fig3a = sm.graphics.plot_regress_exog(reg3,  \"internetuserate_c\", fig=fig3a)\n",
    "\n",
    "# leverage plot\n",
    "fig3b=sm.graphics.influence_plot(reg3, size=8)\n",
    "print(fig3b)"
   ]
  },
  {
   "cell_type": "code",
   "execution_count": null,
   "metadata": {
    "collapsed": false
   },
   "outputs": [],
   "source": [
    "fig3a = plt.figure(figsize(12,8))"
   ]
  },
  {
   "cell_type": "code",
   "execution_count": null,
   "metadata": {
    "collapsed": true
   },
   "outputs": [],
   "source": []
  }
 ],
 "metadata": {
  "kernelspec": {
   "display_name": "Python 3",
   "language": "python",
   "name": "python3"
  },
  "language_info": {
   "codemirror_mode": {
    "name": "ipython",
    "version": 3
   },
   "file_extension": ".py",
   "mimetype": "text/x-python",
   "name": "python",
   "nbconvert_exporter": "python",
   "pygments_lexer": "ipython3",
   "version": "3.5.1"
  }
 },
 "nbformat": 4,
 "nbformat_minor": 0
}
