{
 "cells": [
  {
   "cell_type": "code",
   "execution_count": 1,
   "metadata": {
    "collapsed": false
   },
   "outputs": [],
   "source": [
    "# Import needed libraries\n",
    "%matplotlib inline\n",
    "\n",
    "import matplotlib\n",
    "import numpy\n",
    "import matplotlib.pyplot as plt\n",
    "import pandas\n",
    "matplotlib.style.use('ggplot')"
   ]
  },
  {
   "cell_type": "code",
   "execution_count": 2,
   "metadata": {
    "collapsed": false
   },
   "outputs": [
    {
     "name": "stderr",
     "output_type": "stream",
     "text": [
      "C:\\Anaconda\\lib\\site-packages\\pandas\\io\\parsers.py:1170: DtypeWarning: Columns (8,11,22,65,134,135,177,205,206,207,208,346,366,523,532,533,753,755,756,842,843,847,848,849,856,885,886,887,888,889,890,891,892,893,894,895,896,897,898,899,900,901,902,903,904,905,906,908,909,910,911,912,913,914,915,916,917,918,919,920,921,922,923,924,925,926,927,928,929,930,931,932,933,934,935,936,937,938,939,940,941,942,943,944,945,946,966,967,974,979,980,982,986,987,989,991,992,994,1010,1035,1036,1037,1038,1039,1040,1041,1042,1043,1044,1045,1046,1047,1048,1049,1050,1051,1052,1053,1073,1075,1078,1079,1080,1081,1084,1085,1086,1087,1088,1091,1092,1093,1094,1095,1097,1098,1099,1119,1141,1142,1143,1144,1145,1146,1147,1148,1149,1150,1151,1152,1153,1154,1155,1156,1157,1158,1159,1160,1161,1162,1163,1164,1184,1185,1186,1187,1190,1191,1192,1193,1194,1197,1198,1199,1200,1201,1219,1221,1222,1235,1236,1237,1238,1239,1240,1262,1263,1264,1265,1266,1267,1268,1269,1270,1271,1272,1273,1274,1275,1276,1277,1278,1279,1280,1281,1282,1283,1284,1285,1286,1300,1302,1383,1384,1389,1390,1406,1407,1408,1409,1410,1411,1433,1434,1435,1436,1437,1438,1439,1440,1441,1442,1443,1444,1445,1446,1447,1448,1449,1450,1451,1452,1453,1454,1455,1456,1457,1458,1459,1460,1476,1477,1478,1479,1482,1483,1484,1485,1486,1489,1490,1491,1492,1493,1554,1555,1582,1604,1605,1606,1607,1608,1609,1610,1611,1612,1613,1614,1615,1616,1617,1618,1619,1620,1621,1622,1623,1624,1625,1626,1627,1628,1629,1630,1631,1632,1633,1634,1635,1636,1637,1638,1639,1647,1648,1649,1650,1653,1654,1655,1656,1657,1660,1661,1662,1663,1664,1725,1726,1757,1758,1759,1785,1786,1787,1788,1789,1790,1791,1792,1793,1794,1795,1796,1797,1875,1876,1877,1885,1886,1887,2011,2012,2013,2021,2022,2023,2024,2025,2026,2027,2028,2029,2030,2031,2032,2033,2034,2120,2121,2122,2123,2124,2125,2126,2127,2128,2129,2130,2131,2132,2133,2134,2135,2136,2137,2138,2139,2140,2141,2142,2143,2144,2145,2146,2147,2148,2149,2150,2151,2152,2153,2154,2155,2156,2157,2158,2159,2160,2161,2162,2163,2164,2165,2166,2167,2168,2169,2170,2171,2172,2173,2174,2175,2176,2177,2178,2179,2180,2181,2182,2183,2184,2185,2186,2187,2188,2189,2190,2191,2192,2193,2194,2195,2196,2197,2198,2199,2200,2201,2202,2203,2204,2205,2206,2207,2208,2209,2210,2211,2212,2213,2214,2215,2216,2217,2218,2219,2220,2221,2222,2223,2224,2225,2226) have mixed types. Specify dtype option on import or set low_memory=False.\n",
      "  data = self._reader.read(nrows)\n"
     ]
    }
   ],
   "source": [
    "# Load the complete gapminder dataset\n",
    "data = pandas.read_csv('D:/Data/EdX/addhealth_pds.csv')"
   ]
  },
  {
   "cell_type": "code",
   "execution_count": 3,
   "metadata": {
    "collapsed": false
   },
   "outputs": [
    {
     "name": "stdout",
     "output_type": "stream",
     "text": [
      "There are:\n",
      "6504\n",
      "records\n",
      "and\n",
      "2829\n",
      "variables in the dataset\n"
     ]
    }
   ],
   "source": [
    "# Print the number of rows and the number of columns\n",
    "print 'There are:';print(len(data));print'records' #number of observations (rows)\n",
    "print 'and'; print (len(data.columns));print 'variables in the dataset' # number of variables (columns)"
   ]
  },
  {
   "cell_type": "code",
   "execution_count": null,
   "metadata": {
    "collapsed": true
   },
   "outputs": [],
   "source": [
    "We want to determine if age when one first tired smoking is related to one’s stated religion.  \n",
    "\n",
    "Religion codes are:\n",
    "0 none [skip to the next section]\n",
    "1 Adventist*\n",
    "2 AME, AME Zion, CME*\n",
    "3 Assemblies of God*\n",
    "4 Baptist*\n",
    "5 Christian Church (Disciples of Christ)*\n",
    "6 Christian Science\n",
    "7 Congregational*\n",
    "8 Episcopal*\n",
    "9 Friends/Quaker\n",
    "10 Holiness*\n",
    "11 Jehovah’s Witness*\n",
    "12 Latter Day Saints (Mormon)*\n",
    "13 Lutheran*\n",
    "14 Methodist*\n",
    "15 National Baptist*\n",
    "16 Pentecostal*\n",
    "17 Presbyterian*\n",
    "18 United Church of Christ*\n",
    "19 other Protestant*\n",
    "20 Baha’i\n",
    "21 Buddhist\n",
    "22 Catholic\n",
    "23 Eastern Orthodox\n",
    "24 Hindu\n",
    "25 Islam, Moslem, Muslim\n",
    "26 Jewish—Conservative, Reformed, Orthodox, or Reconstructionist\n",
    "27 Unitarian\n",
    "28 other religion\n",
    "96 refused [skip to the next section]\n",
    "98 don’t know [skip to the next section]\n",
    "99 not applicable [skip to the next section]\n"
   ]
  },
  {
   "cell_type": "code",
   "execution_count": 4,
   "metadata": {
    "collapsed": false
   },
   "outputs": [],
   "source": [
    "#counts and percentages (i.e. frequency distributions) for each variable of interest\n",
    "c1 = data['H1RE1'].value_counts(sort=False, dropna=False)\n",
    "p1 = data['H1RE1'].value_counts(sort=False, normalize=True)*100\n",
    "c2 = data['H1TO2'].value_counts(sort=False, dropna=False)\n",
    "p2 = data['H1TO2'].value_counts(sort=False, normalize=True)*100"
   ]
  },
  {
   "cell_type": "code",
   "execution_count": 5,
   "metadata": {
    "collapsed": false
   },
   "outputs": [
    {
     "name": "stdout",
     "output_type": "stream",
     "text": [
      "Counts for Religion\n",
      "0      751\n",
      "4     1590\n",
      "8       95\n",
      "12      80\n",
      "16     192\n",
      "20       1\n",
      "24       5\n",
      "28     182\n",
      "96      25\n",
      "1       27\n",
      "5      569\n",
      "9        8\n",
      "13     236\n",
      "17     134\n",
      "21      27\n",
      "25      25\n",
      "2       64\n",
      "6        9\n",
      "10      67\n",
      "14     370\n",
      "18      17\n",
      "22    1448\n",
      "26      54\n",
      "98     111\n",
      "3       59\n",
      "7       25\n",
      "11      80\n",
      "15       2\n",
      "19     216\n",
      "23      22\n",
      "27      10\n",
      "99       3\n",
      "dtype: int64\n",
      "Percentages for Religion\n",
      "0     11.546740\n",
      "4     24.446494\n",
      "8      1.460640\n",
      "12     1.230012\n",
      "16     2.952030\n",
      "20     0.015375\n",
      "24     0.076876\n",
      "28     2.798278\n",
      "96     0.384379\n",
      "1      0.415129\n",
      "5      8.748462\n",
      "9      0.123001\n",
      "13     3.628536\n",
      "17     2.060271\n",
      "21     0.415129\n",
      "25     0.384379\n",
      "2      0.984010\n",
      "6      0.138376\n",
      "10     1.030135\n",
      "14     5.688807\n",
      "18     0.261378\n",
      "22    22.263223\n",
      "26     0.830258\n",
      "98     1.706642\n",
      "3      0.907134\n",
      "7      0.384379\n",
      "11     1.230012\n",
      "15     0.030750\n",
      "19     3.321033\n",
      "23     0.338253\n",
      "27     0.153752\n",
      "99     0.046125\n",
      "dtype: float64\n",
      "6504\n",
      "records\n"
     ]
    }
   ],
   "source": [
    "#ADDING TITLES\n",
    "print 'Counts for Religion'\n",
    "print (c1)\n",
    "print 'Percentages for Religion'\n",
    "print (p1)\n",
    "print (len(data['H1RE1'])); print 'records' #number of observations (rows)"
   ]
  },
  {
   "cell_type": "code",
   "execution_count": null,
   "metadata": {
    "collapsed": true
   },
   "outputs": [],
   "source": [
    "Most people identified themselves as either baptist (code 4)  (24.4%) or catholic (code 22) (22%)"
   ]
  },
  {
   "cell_type": "code",
   "execution_count": null,
   "metadata": {
    "collapsed": true
   },
   "outputs": [],
   "source": [
    "Ages are coded as follows:\n",
    "0 never smoked a whole cigarette [skip to Q.9]\n",
    "1 one year\n",
    "2 two years\n",
    "4 three to four years\n",
    "5 five years\n",
    "6 six years\n",
    "7 seven years\n",
    "8 eight years\n",
    "9 nine years\n",
    "10 ten years\n",
    "11 eleven years\n",
    "12 twelve years\n",
    "13 thirteen years\n",
    "14 fourteen years\n",
    "15 fifteen years\n",
    "16 sixteen years\n",
    "17 seventeen years\n",
    "18 eighteen years\n",
    "19 nineteen years\n",
    "20 twenty years\n",
    "96 refused\n",
    "97 legitimate skip [never tried smoking cigarettes]\n",
    "98 don’t know"
   ]
  },
  {
   "cell_type": "code",
   "execution_count": 6,
   "metadata": {
    "collapsed": false
   },
   "outputs": [
    {
     "name": "stdout",
     "output_type": "stream",
     "text": [
      "Counts for Smoking\n",
      "0      820\n",
      "4        3\n",
      "8       64\n",
      "12     472\n",
      "16     253\n",
      "20       1\n",
      "96      14\n",
      "1       13\n",
      "5       16\n",
      "9       81\n",
      "13     501\n",
      "17     106\n",
      "97    2918\n",
      "2        6\n",
      "6       24\n",
      "10     165\n",
      "14     434\n",
      "18      24\n",
      "98      19\n",
      "7       37\n",
      "11     204\n",
      "15     328\n",
      "19       1\n",
      "dtype: int64\n",
      "Percentages for Smoking\n",
      "0     12.607626\n",
      "4      0.046125\n",
      "8      0.984010\n",
      "12     7.257073\n",
      "16     3.889914\n",
      "20     0.015375\n",
      "96     0.215252\n",
      "1      0.199877\n",
      "5      0.246002\n",
      "9      1.245387\n",
      "13     7.702952\n",
      "17     1.629766\n",
      "97    44.864699\n",
      "2      0.092251\n",
      "6      0.369004\n",
      "10     2.536900\n",
      "14     6.672817\n",
      "18     0.369004\n",
      "98     0.292128\n",
      "7      0.568881\n",
      "11     3.136531\n",
      "15     5.043050\n",
      "19     0.015375\n",
      "dtype: float64\n",
      "6504\n"
     ]
    }
   ],
   "source": [
    "#ADDING TITLES\n",
    "print 'Counts for Smoking'\n",
    "print (c2)\n",
    "print 'Percentages for Smoking'\n",
    "print (p2)\n",
    "print (len(data['H1TO2'])) #number of observations (rows)"
   ]
  },
  {
   "cell_type": "code",
   "execution_count": 7,
   "metadata": {
    "collapsed": false
   },
   "outputs": [
    {
     "name": "stdout",
     "output_type": "stream",
     "text": [
      "H1RE1\n",
      "0      751\n",
      "1       27\n",
      "2       64\n",
      "3       59\n",
      "4     1590\n",
      "5      569\n",
      "6        9\n",
      "7       25\n",
      "8       95\n",
      "9        8\n",
      "10      67\n",
      "11      80\n",
      "12      80\n",
      "13     236\n",
      "14     370\n",
      "15       2\n",
      "16     192\n",
      "17     134\n",
      "18      17\n",
      "19     216\n",
      "20       1\n",
      "21      27\n",
      "22    1448\n",
      "23      22\n",
      "24       5\n",
      "25      25\n",
      "26      54\n",
      "27      10\n",
      "28     182\n",
      "96      25\n",
      "98     111\n",
      "99       3\n",
      "dtype: int64\n",
      "H1RE1\n",
      "0     11.546740\n",
      "1      0.415129\n",
      "2      0.984010\n",
      "3      0.907134\n",
      "4     24.446494\n",
      "5      8.748462\n",
      "6      0.138376\n",
      "7      0.384379\n",
      "8      1.460640\n",
      "9      0.123001\n",
      "10     1.030135\n",
      "11     1.230012\n",
      "12     1.230012\n",
      "13     3.628536\n",
      "14     5.688807\n",
      "15     0.030750\n",
      "16     2.952030\n",
      "17     2.060271\n",
      "18     0.261378\n",
      "19     3.321033\n",
      "20     0.015375\n",
      "21     0.415129\n",
      "22    22.263223\n",
      "23     0.338253\n",
      "24     0.076876\n",
      "25     0.384379\n",
      "26     0.830258\n",
      "27     0.153752\n",
      "28     2.798278\n",
      "96     0.384379\n",
      "98     1.706642\n",
      "99     0.046125\n",
      "dtype: float64\n",
      "H1TO2\n",
      "0      820\n",
      "1       13\n",
      "2        6\n",
      "4        3\n",
      "5       16\n",
      "6       24\n",
      "7       37\n",
      "8       64\n",
      "9       81\n",
      "10     165\n",
      "11     204\n",
      "12     472\n",
      "13     501\n",
      "14     434\n",
      "15     328\n",
      "16     253\n",
      "17     106\n",
      "18      24\n",
      "19       1\n",
      "20       1\n",
      "96      14\n",
      "97    2918\n",
      "98      19\n",
      "dtype: int64\n",
      "H1TO2\n",
      "0     12.607626\n",
      "1      0.199877\n",
      "2      0.092251\n",
      "4      0.046125\n",
      "5      0.246002\n",
      "6      0.369004\n",
      "7      0.568881\n",
      "8      0.984010\n",
      "9      1.245387\n",
      "10     2.536900\n",
      "11     3.136531\n",
      "12     7.257073\n",
      "13     7.702952\n",
      "14     6.672817\n",
      "15     5.043050\n",
      "16     3.889914\n",
      "17     1.629766\n",
      "18     0.369004\n",
      "19     0.015375\n",
      "20     0.015375\n",
      "96     0.215252\n",
      "97    44.864699\n",
      "98     0.292128\n",
      "dtype: float64\n"
     ]
    }
   ],
   "source": [
    "# freqeuncy disributions using the 'bygroup' function\n",
    "ct1= data.groupby('H1RE1').size()\n",
    "print ct1\n",
    "\n",
    "pt1 = data.groupby('H1RE1').size() * 100 / len(data)\n",
    "print pt1\n",
    "\n",
    "ct2= data.groupby('H1TO2').size()\n",
    "print ct2\n",
    "\n",
    "pt2 = data.groupby('H1TO2').size() * 100 / len(data)\n",
    "print pt2"
   ]
  },
  {
   "cell_type": "code",
   "execution_count": null,
   "metadata": {
    "collapsed": true
   },
   "outputs": [],
   "source": [
    "The majority of the respondents never smoked (44.86%).  \n",
    "Most respondents that reported smoking a full cigarette were 12(7.25%), 13 (7.7%) or 14 (6.67%) years old.\n",
    "\n"
   ]
  },
  {
   "cell_type": "code",
   "execution_count": 8,
   "metadata": {
    "collapsed": false
   },
   "outputs": [
    {
     "data": {
      "text/plain": [
       "<matplotlib.lines.Line2D at 0xb6cf370>"
      ]
     },
     "execution_count": 8,
     "metadata": {},
     "output_type": "execute_result"
    },
    {
     "data": {
      "image/png": "[encoded data removed]",
      "text/plain": [
       "<matplotlib.figure.Figure at 0x12a55b90>"
      ]
     },
     "metadata": {},
     "output_type": "display_data"
    }
   ],
   "source": [
    "plt.figure();\n",
    "data['H1TO2'].plot(kind='bar'); plt.axhline(0, color='k')"
   ]
  },
  {
   "cell_type": "code",
   "execution_count": 9,
   "metadata": {
    "collapsed": false
   },
   "outputs": [
    {
     "data": {
      "text/plain": [
       "<matplotlib.lines.Line2D at 0xe2345f0>"
      ]
     },
     "execution_count": 9,
     "metadata": {},
     "output_type": "execute_result"
    },
    {
     "data": {
      "image/png": "[encoded data removed]",
      "text/plain": [
       "<matplotlib.figure.Figure at 0x1069cdd0>"
      ]
     },
     "metadata": {},
     "output_type": "display_data"
    }
   ],
   "source": [
    "plt.figure();\n",
    "data['H1RE1'].plot(kind='bar'); plt.axhline(0, color='k')"
   ]
  },
  {
   "cell_type": "code",
   "execution_count": null,
   "metadata": {
    "collapsed": true
   },
   "outputs": [],
   "source": []
  }
 ],
 "metadata": {
  "kernelspec": {
   "display_name": "Python 2",
   "language": "python",
   "name": "python2"
  },
  "language_info": {
   "codemirror_mode": {
    "name": "ipython",
    "version": 2
   },
   "file_extension": ".py",
   "mimetype": "text/x-python",
   "name": "python",
   "nbconvert_exporter": "python",
   "pygments_lexer": "ipython2",
   "version": "2.7.10"
  }
 },
 "nbformat": 4,
 "nbformat_minor": 0
}
