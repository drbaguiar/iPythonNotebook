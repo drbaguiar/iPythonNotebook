{
 "cells": [
  {
   "cell_type": "markdown",
   "metadata": {},
   "source": [
    "#Week 4 Logistics Regression\n",
    "\n"
   ]
  },
  {
   "cell_type": "markdown",
   "metadata": {},
   "source": [
    "## Question\n",
    "Are Internet use rates, urban rates, and income per person related to a country's suicide rate?  The Gapminder data set will be used to analyze the data.\n",
    "\n",
    "##Summary of Results\n",
    "\n",
    "After adjusting for potential confounding factors (Urban Rate), the odds of having suicide were no higher for participants with higher Internet Use rates. Income per person was also not shown to be significantly associated with suicide rate.  Odds ratios, 95% confidence intervals and p-values are reported below."
   ]
  },
  {
   "cell_type": "markdown",
   "metadata": {},
   "source": [
    "## Analysis\n",
    "\n",
    "### Import Libraries"
   ]
  },
  {
   "cell_type": "code",
   "execution_count": 29,
   "metadata": {
    "collapsed": false
   },
   "outputs": [
    {
     "name": "stdout",
     "output_type": "stream",
     "text": [
      "numpy version:  1.9.2\n",
      "2.7.10 |Anaconda 2.3.0 (64-bit)| (default, May 28 2015, 16:44:52) [MSC v.1500 64 bit (AMD64)]\n",
      "Using matplotlib backend: Qt4Agg\n",
      "Populating the interactive namespace from numpy and matplotlib\n"
     ]
    },
    {
     "name": "stderr",
     "output_type": "stream",
     "text": [
      "WARNING: pylab import has clobbered these variables: ['pylab']\n",
      "`%matplotlib` prevents importing * from pylab and numpy\n"
     ]
    }
   ],
   "source": [
    "import numpy as np\n",
    "print \"numpy version: \", np.__version__\n",
    "import sys\n",
    "print sys.version\n",
    "import pylab\n",
    "%pylab\n",
    "import matplotlib.pyplot as plt\n",
    "import pandas as pd\n",
    "import statsmodels.api as sm\n",
    "import statsmodels.formula.api as smf\n",
    "import statsmodels.stats.multicomp as multi \n",
    "import seaborn\n",
    "import scipy\n",
    "\n",
    "%matplotlib inline\n",
    "\n",
    "# bug fix for display formats to avoid run time errors\n",
    "pd.set_option('display.float_format', lambda x:'%.2f'%x)\n",
    "\n",
    "# turn off warnings printing to screen\n",
    "import warnings\n",
    "warnings.filterwarnings('ignore')"
   ]
  },
  {
   "cell_type": "markdown",
   "metadata": {},
   "source": [
    "###Load the Data"
   ]
  },
  {
   "cell_type": "code",
   "execution_count": 30,
   "metadata": {
    "collapsed": false
   },
   "outputs": [
    {
     "name": "stdout",
     "output_type": "stream",
     "text": [
      "Number of records loaded:  213\n"
     ]
    }
   ],
   "source": [
    "data = pd.read_csv('D:/Data/CourseraClass/gapminder.csv')\n",
    "print (\"Number of records loaded: \"), len(data)"
   ]
  },
  {
   "cell_type": "markdown",
   "metadata": {},
   "source": [
    "###Data Management\n",
    "\n",
    "Subset the data to remove missing values from the variables of interest."
   ]
  },
  {
   "cell_type": "code",
   "execution_count": 31,
   "metadata": {
    "collapsed": false
   },
   "outputs": [
    {
     "name": "stdout",
     "output_type": "stream",
     "text": [
      "    suicideper100th   internetuserate   incomeperperson urbanrate\n",
      "1  7.69932985305786  44.9899469578783  1914.99655094922     46.72\n",
      "2   4.8487696647644  12.5000733055148  2231.99333515006     65.22\n",
      "3  5.36217880249023                81  21943.3398976022     88.92\n",
      "4  14.5546770095825  9.99995388324075  1381.00426770244      56.7\n",
      "5  2.16184329986572  80.6454545454545  11894.4640745081     30.46\n",
      "      suicideper100th   internetuserate   incomeperperson urbanrate\n",
      "207           4.11962  35.8504369560241  5528.36311387522     93.32\n",
      "208  11.6533222198486  27.8518215557703  722.807558834445     27.84\n",
      "210  6.26578903198242  12.3497504635596    610.3573673206     30.64\n",
      "211  12.0190362930298   10.124986462443  432.226336974583     35.42\n",
      "212  13.9052667617798  11.5004153209768  320.771889948584     37.34\n",
      "Number of records remaining:  173\n"
     ]
    }
   ],
   "source": [
    "data['suicideper100th'] = data['suicideper100th'].replace(r'\\s+', np.nan, regex=True)\n",
    "data['internetuserate'] = data['internetuserate'].replace(r'\\s+', np.nan, regex=True)\n",
    "data['incomeperperson']= data['incomeperperson'].replace(r'\\s+', np.nan, regex=True)\n",
    "data['urbanrate']= data['urbanrate'].replace(r'\\s+', np.nan, regex=True)\n",
    "sub = data.dropna(subset = ['suicideper100th', 'internetuserate', 'incomeperperson', 'urbanrate'])\n",
    "sub1 = sub[['suicideper100th', 'internetuserate', 'incomeperperson', 'urbanrate']]\n",
    "print (sub1.head())\n",
    "print (sub1.tail())\n",
    "print (\"Number of records remaining: \"), len(sub1)"
   ]
  },
  {
   "cell_type": "markdown",
   "metadata": {},
   "source": [
    "Convert fields to numeric"
   ]
  },
  {
   "cell_type": "code",
   "execution_count": 32,
   "metadata": {
    "collapsed": false
   },
   "outputs": [],
   "source": [
    "sub1['suicideper100th'] = sub1['suicideper100th'].convert_objects(convert_numeric=True)\n",
    "sub1['internetuserate'] = sub1['internetuserate'].convert_objects(convert_numeric=True)\n",
    "sub1['incomeperperson'] = sub1['incomeperperson'].convert_objects(convert_numeric=True)\n",
    "sub1['urbanrate'] = sub1['urbanrate'].convert_objects(convert_numeric=True)"
   ]
  },
  {
   "cell_type": "markdown",
   "metadata": {},
   "source": [
    "Create categorial response based on percentiles. Those in the lower 50 percentile will be coded 0 to indicate lack of a high rate. Those in the upper 50 percentile will be coded as 1 to indicate presence of a high rate."
   ]
  },
  {
   "cell_type": "code",
   "execution_count": 33,
   "metadata": {
    "collapsed": false
   },
   "outputs": [
    {
     "name": "stdout",
     "output_type": "stream",
     "text": [
      "The number of records in the upper 50 percentile is:  86\n"
     ]
    }
   ],
   "source": [
    "sub1['suiciderate'] = 0\n",
    "sub1['suiciderate'][(sub1['suicideper100th']>=8.3)] = 1\n",
    "print (\"The number of records in the upper 50 percentile is: \"), sub1['suiciderate'].sum()"
   ]
  },
  {
   "cell_type": "markdown",
   "metadata": {},
   "source": [
    "###Numerical Summaries of the Data"
   ]
  },
  {
   "cell_type": "code",
   "execution_count": 34,
   "metadata": {
    "collapsed": false
   },
   "outputs": [
    {
     "name": "stdout",
     "output_type": "stream",
     "text": [
      "The minimum value for Internet use rate is:  0.21\n",
      "The maximum value for Internet use rate is:  95.638\n",
      "The median value for Internet use rate is:  28.999\n",
      "The mean value for Internet use rate is:  34.018\n",
      "The standard deviation for Internet use rate is:  27.737\n",
      "\n",
      "The minimum value for Income per Person is:  103.776\n",
      "The maximum value for Income per Person is:  52301.587\n",
      "The median value for Income per Person is:  2481.719\n",
      "The mean value for Income per Person is:  7196.814\n",
      "The standard deviation for Income per Person is:  10250.664\n",
      "\n",
      "The minimum value for Urban rate is:  10.4\n",
      "The maximum value for Urban rate is:  100.0\n",
      "The median value for Urban rate is:  56.76\n",
      "The mean value for Urban rate is:  55.148\n",
      "The standard deviation for Urban rate is:  22.89\n",
      "\n",
      "The minimum value for Suicide rate is:  0.201\n",
      "The maximum value for Suicide rate is:  35.753\n",
      "The median value for Suicide rate is:  8.283\n",
      "The mean value for Suicide rate is:  9.721\n",
      "The standard deviation for Suicide rate is:  6.322\n"
     ]
    }
   ],
   "source": [
    "print (\"The minimum value for Internet use rate is: \"), round(sub1[\"internetuserate\"].min(),3)\n",
    "print (\"The maximum value for Internet use rate is: \"), round(sub1[\"internetuserate\"].max(),3)\n",
    "print (\"The median value for Internet use rate is: \"), round(sub1[\"internetuserate\"].median(),3)\n",
    "print (\"The mean value for Internet use rate is: \"), round(sub1[\"internetuserate\"].mean(),3)\n",
    "print (\"The standard deviation for Internet use rate is: \"), round(sub1[\"internetuserate\"].std(),3)\n",
    "print\n",
    "print (\"The minimum value for Income per Person is: \"), round(sub1[\"incomeperperson\"].min(),3)\n",
    "print (\"The maximum value for Income per Person is: \"), round(sub1[\"incomeperperson\"].max(),3)\n",
    "print (\"The median value for Income per Person is: \"), round(sub1[\"incomeperperson\"].median(),3)\n",
    "print (\"The mean value for Income per Person is: \"), round(sub1[\"incomeperperson\"].mean(),3)\n",
    "print (\"The standard deviation for Income per Person is: \"), round(sub1[\"incomeperperson\"].std(),3)\n",
    "print\n",
    "print (\"The minimum value for Urban rate is: \"), round(sub1[\"urbanrate\"].min(),3)\n",
    "print (\"The maximum value for Urban rate is: \"), round(sub1[\"urbanrate\"].max(),3)\n",
    "print (\"The median value for Urban rate is: \"), round(sub1[\"urbanrate\"].median(),3)\n",
    "print (\"The mean value for Urban rate is: \"), round(sub1[\"urbanrate\"].mean(),3)\n",
    "print (\"The standard deviation for Urban rate is: \"), round(sub1[\"urbanrate\"].std(),3)\n",
    "print\n",
    "print (\"The minimum value for Suicide rate is: \"), round(sub1[\"suicideper100th\"].min(),3)\n",
    "print (\"The maximum value for Suicide rate is: \"), round(sub1[\"suicideper100th\"].max(),3)\n",
    "print (\"The median value for Suicide rate is: \"), round(sub1[\"suicideper100th\"].median(),3)\n",
    "print (\"The mean value for Suicide rate is: \"), round(sub1[\"suicideper100th\"].mean(),3)\n",
    "print (\"The standard deviation for Suicide rate is: \"), round(sub1[\"suicideper100th\"].std(),3)"
   ]
  },
  {
   "cell_type": "markdown",
   "metadata": {},
   "source": [
    "##Regression Analysis"
   ]
  },
  {
   "cell_type": "markdown",
   "metadata": {},
   "source": [
    "### Logistic Regression using Internet Use Rate"
   ]
  },
  {
   "cell_type": "code",
   "execution_count": 35,
   "metadata": {
    "collapsed": false
   },
   "outputs": [
    {
     "name": "stdout",
     "output_type": "stream",
     "text": [
      "Optimization terminated successfully.\n",
      "         Current function value: 0.684935\n",
      "         Iterations 4\n",
      "                           Logit Regression Results                           \n",
      "==============================================================================\n",
      "Dep. Variable:            suiciderate   No. Observations:                  173\n",
      "Model:                          Logit   Df Residuals:                      171\n",
      "Method:                           MLE   Df Model:                            1\n",
      "Date:                Sat, 12 Dec 2015   Pseudo R-squ.:                 0.01182\n",
      "Time:                        18:34:37   Log-Likelihood:                -118.49\n",
      "converged:                       True   LL-Null:                       -119.91\n",
      "                                        LLR p-value:                   0.09219\n",
      "===================================================================================\n",
      "                      coef    std err          z      P>|z|      [95.0% Conf. Int.]\n",
      "-----------------------------------------------------------------------------------\n",
      "Intercept          -0.3285      0.243     -1.350      0.177        -0.805     0.148\n",
      "internetuserate     0.0093      0.006      1.670      0.095        -0.002     0.020\n",
      "===================================================================================\n",
      "Odds Ratios\n",
      "Intercept         0.72\n",
      "internetuserate   1.01\n",
      "dtype: float64\n",
      "                 Lower CI  Upper CI   OR\n",
      "Intercept            0.45      1.16 0.72\n",
      "internetuserate      1.00      1.02 1.01\n"
     ]
    }
   ],
   "source": [
    "lreg1 = smf.logit(formula = 'suiciderate ~ internetuserate', data = sub1).fit()\n",
    "print (lreg1.summary())\n",
    "# odds ratios\n",
    "print (\"Odds Ratios\")\n",
    "print (numpy.exp(lreg1.params))\n",
    "\n",
    "# odd ratios with 95% confidence intervals\n",
    "params = lreg1.params\n",
    "conf = lreg1.conf_int()\n",
    "conf['OR'] = params\n",
    "conf.columns = ['Lower CI', 'Upper CI', 'OR']\n",
    "print (numpy.exp(conf))"
   ]
  },
  {
   "cell_type": "markdown",
   "metadata": {},
   "source": [
    "#### Interpret Results\n",
    "The probability of being in the high suicide rate group was no more likely based on Internet Usage (OR=1.01, 95% CI = 1.00 - 1.02, p=.095).   \n",
    "\n",
    "### Logistic Regression using Internet Use Rate and Urban Rate"
   ]
  },
  {
   "cell_type": "code",
   "execution_count": 36,
   "metadata": {
    "collapsed": false
   },
   "outputs": [
    {
     "name": "stdout",
     "output_type": "stream",
     "text": [
      "Optimization terminated successfully.\n",
      "         Current function value: 0.656488\n",
      "         Iterations 5\n",
      "                           Logit Regression Results                           \n",
      "==============================================================================\n",
      "Dep. Variable:            suiciderate   No. Observations:                  173\n",
      "Model:                          Logit   Df Residuals:                      170\n",
      "Method:                           MLE   Df Model:                            2\n",
      "Date:                Sat, 12 Dec 2015   Pseudo R-squ.:                 0.05287\n",
      "Time:                        18:34:37   Log-Likelihood:                -113.57\n",
      "converged:                       True   LL-Null:                       -119.91\n",
      "                                        LLR p-value:                  0.001766\n",
      "===================================================================================\n",
      "                      coef    std err          z      P>|z|      [95.0% Conf. Int.]\n",
      "-----------------------------------------------------------------------------------\n",
      "Intercept           0.7252      0.424      1.711      0.087        -0.105     1.556\n",
      "internetuserate     0.0257      0.008      3.189      0.001         0.010     0.042\n",
      "urbanrate          -0.0292      0.010     -3.002      0.003        -0.048    -0.010\n",
      "===================================================================================\n",
      "Odds Ratios\n",
      "Intercept         2.07\n",
      "internetuserate   1.03\n",
      "urbanrate         0.97\n",
      "dtype: float64\n",
      "                 Lower CI  Upper CI   OR\n",
      "Intercept            0.90      4.74 2.07\n",
      "internetuserate      1.01      1.04 1.03\n",
      "urbanrate            0.95      0.99 0.97\n"
     ]
    }
   ],
   "source": [
    "lreg2 = smf.logit(formula = 'suiciderate ~ internetuserate+urbanrate', data = sub1).fit()\n",
    "print (lreg2.summary())\n",
    "# odds ratios\n",
    "print (\"Odds Ratios\")\n",
    "print (numpy.exp(lreg2.params))\n",
    "\n",
    "# odd ratios with 95% confidence intervals\n",
    "params = lreg2.params\n",
    "conf = lreg2.conf_int()\n",
    "conf['OR'] = params\n",
    "conf.columns = ['Lower CI', 'Upper CI', 'OR']\n",
    "print (numpy.exp(conf))"
   ]
  },
  {
   "cell_type": "markdown",
   "metadata": {},
   "source": [
    "#### Interpret Results\n",
    "The probability of being in the high suicide rate group was no more likely based on Internet Usage (OR=1.03, 95% CI = 1.01 - 1.04, p=.001). Urban Rate, however, was significantly related to suicide rate.  Specifically, the probability of being in the high suicide rate group was less likely as Urban Rate increased (OR=0.97, 95% CI = 0.95 - 0.99, p=.003)\n",
    "\n",
    "### Logistic Regression using Internet Use Rate and Urban Rate and Income Per Person"
   ]
  },
  {
   "cell_type": "code",
   "execution_count": 37,
   "metadata": {
    "collapsed": false
   },
   "outputs": [
    {
     "name": "stdout",
     "output_type": "stream",
     "text": [
      "Optimization terminated successfully.\n",
      "         Current function value: 0.650400\n",
      "         Iterations 5\n",
      "                           Logit Regression Results                           \n",
      "==============================================================================\n",
      "Dep. Variable:            suiciderate   No. Observations:                  173\n",
      "Model:                          Logit   Df Residuals:                      169\n",
      "Method:                           MLE   Df Model:                            3\n",
      "Date:                Sat, 12 Dec 2015   Pseudo R-squ.:                 0.06165\n",
      "Time:                        18:34:37   Log-Likelihood:                -112.52\n",
      "converged:                       True   LL-Null:                       -119.91\n",
      "                                        LLR p-value:                  0.002010\n",
      "===================================================================================\n",
      "                      coef    std err          z      P>|z|      [95.0% Conf. Int.]\n",
      "-----------------------------------------------------------------------------------\n",
      "Intercept           0.8954      0.441      2.029      0.042         0.030     1.760\n",
      "internetuserate     0.0152      0.011      1.406      0.160        -0.006     0.036\n",
      "urbanrate          -0.0309      0.010     -3.149      0.002        -0.050    -0.012\n",
      "incomeperperson  3.961e-05    2.8e-05      1.415      0.157     -1.53e-05  9.45e-05\n",
      "===================================================================================\n",
      "Odds Ratios\n",
      "Intercept         2.45\n",
      "internetuserate   1.02\n",
      "urbanrate         0.97\n",
      "incomeperperson   1.00\n",
      "dtype: float64\n",
      "                 Lower CI  Upper CI   OR\n",
      "Intercept            1.03      5.81 2.45\n",
      "internetuserate      0.99      1.04 1.02\n",
      "urbanrate            0.95      0.99 0.97\n",
      "incomeperperson      1.00      1.00 1.00\n"
     ]
    }
   ],
   "source": [
    "lreg3 = smf.logit(formula = 'suiciderate ~ internetuserate+urbanrate+incomeperperson', data = sub1).fit()\n",
    "print (lreg3.summary())\n",
    "# odds ratios\n",
    "print (\"Odds Ratios\")\n",
    "print (numpy.exp(lreg3.params))\n",
    "\n",
    "# odd ratios with 95% confidence intervals\n",
    "params = lreg3.params\n",
    "conf = lreg3.conf_int()\n",
    "conf['OR'] = params\n",
    "conf.columns = ['Lower CI', 'Upper CI', 'OR']\n",
    "print (numpy.exp(conf))"
   ]
  },
  {
   "cell_type": "markdown",
   "metadata": {},
   "source": [
    "##### Interpret Results\n",
    "The probability of being in the high suicide rate group was no more likely based on Internet Usage (OR=1.02, 95% CI = 0.99 - 1.04, p=.16). Urban Rate, however, was significantly related to suicide rate.  Specifically, the probability of being in the high suicide rate group was less likely as Urban Rate increased (OR=0.97, 95% CI = 0.95 - 0.99, p=.002).  Income per person was not shown to be related to suicide rate (OR=1.00, 95% CI = 1.00 - 1.00, p=.157)."
   ]
  },
  {
   "cell_type": "markdown",
   "metadata": {},
   "source": [
    "###Confounding\n",
    "\n",
    "Urban rate was used in a simple regression to demonstrate that, on its own, it was not related to suicide rate."
   ]
  },
  {
   "cell_type": "code",
   "execution_count": 38,
   "metadata": {
    "collapsed": false
   },
   "outputs": [
    {
     "name": "stdout",
     "output_type": "stream",
     "text": [
      "Optimization terminated successfully.\n",
      "         Current function value: 0.688831\n",
      "         Iterations 4\n",
      "                           Logit Regression Results                           \n",
      "==============================================================================\n",
      "Dep. Variable:            suiciderate   No. Observations:                  173\n",
      "Model:                          Logit   Df Residuals:                      171\n",
      "Method:                           MLE   Df Model:                            1\n",
      "Date:                Sat, 12 Dec 2015   Pseudo R-squ.:                0.006203\n",
      "Time:                        18:34:37   Log-Likelihood:                -119.17\n",
      "converged:                       True   LL-Null:                       -119.91\n",
      "                                        LLR p-value:                    0.2226\n",
      "==============================================================================\n",
      "                 coef    std err          z      P>|z|      [95.0% Conf. Int.]\n",
      "------------------------------------------------------------------------------\n",
      "Intercept      0.4384      0.401      1.094      0.274        -0.347     1.224\n",
      "urbanrate     -0.0082      0.007     -1.215      0.225        -0.021     0.005\n",
      "==============================================================================\n",
      "Odds Ratios\n",
      "Intercept   1.55\n",
      "urbanrate   0.99\n",
      "dtype: float64\n",
      "           Lower CI  Upper CI   OR\n",
      "Intercept      0.71      3.40 1.55\n",
      "urbanrate      0.98      1.01 0.99\n"
     ]
    }
   ],
   "source": [
    "lreg1 = smf.logit(formula = 'suiciderate ~ urbanrate', data = sub1).fit()\n",
    "print (lreg1.summary())\n",
    "# odds ratios\n",
    "print (\"Odds Ratios\")\n",
    "print (numpy.exp(lreg1.params))\n",
    "\n",
    "# odd ratios with 95% confidence intervals\n",
    "params = lreg1.params\n",
    "conf = lreg1.conf_int()\n",
    "conf['OR'] = params\n",
    "conf.columns = ['Lower CI', 'Upper CI', 'OR']\n",
    "print (numpy.exp(conf))"
   ]
  }
 ],
 "metadata": {
  "kernelspec": {
   "display_name": "Python 2",
   "language": "python",
   "name": "python2"
  },
  "language_info": {
   "codemirror_mode": {
    "name": "ipython",
    "version": 2
   },
   "file_extension": ".py",
   "mimetype": "text/x-python",
   "name": "python",
   "nbconvert_exporter": "python",
   "pygments_lexer": "ipython2",
   "version": "2.7.10"
  }
 },
 "nbformat": 4,
 "nbformat_minor": 0
}
