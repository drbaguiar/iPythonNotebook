{
 "cells": [
  {
   "cell_type": "code",
   "execution_count": 2,
   "metadata": {
    "collapsed": false
   },
   "outputs": [
    {
     "data": {
      "text/plain": [
       "True"
      ]
     },
     "execution_count": 2,
     "metadata": {},
     "output_type": "execute_result"
    }
   ],
   "source": [
    "def test_even (a, b):\n",
    "    # calculate the sum of the two numbers\n",
    "    my_sum = a + b\n",
    "    # then check if the sum is an even number or not\n",
    "    if my_sum % 2 == 0:\n",
    "        return True\n",
    "    else:\n",
    "        return False\n",
    "    \n",
    "test_even (6,6)"
   ]
  },
  {
   "cell_type": "code",
   "execution_count": 4,
   "metadata": {
    "collapsed": false
   },
   "outputs": [
    {
     "data": {
      "text/plain": [
       "False"
      ]
     },
     "execution_count": 4,
     "metadata": {},
     "output_type": "execute_result"
    }
   ],
   "source": [
    "def embedded_function(a, b):\n",
    "    # first find the sum of the two numbers\n",
    "    my_sum = a + b\n",
    "\n",
    "    # write a function that accepts a number as parameter and\n",
    "    # returns True or False\n",
    "    def lets_test_for_even(n):\n",
    "        if n % 2 == 0:\n",
    "            return True\n",
    "        else:\n",
    "            return False\n",
    "\n",
    "    # Now here is the important part!\n",
    "    # you need to call your inner function from within the outer function\n",
    "    my_result = lets_test_for_even(my_sum) \n",
    "    # Now return the result\n",
    "    return my_result\n",
    "\n",
    "embedded_function(10, 6)"
   ]
  },
  {
   "cell_type": "markdown",
   "metadata": {},
   "source": [
    "Part 1: Calculate Monthly payments for a loan\n",
    "\n",
    "Write a function that calculates and returns the monthly payments for a loan. This function accepts three parameters in the exact order (principal, annual_interest_rate, duration):\n",
    "\n",
    "principal: The total amount of loan. Assume that the principal is a positive floating point number.\n",
    "\n",
    "annual_interest_rate: This is the percent interest rate per year. Assume that annual_interest_rate is a floating point number. (Notice that 4.5 means that the interest rate is 4.5 percent per year.)\n",
    "\n",
    "duration: number of years to pay the loan back. Assume that duration is a positive integer.\n",
    "\n",
    "To calculate the amount of monthly payment for the loan you should use the following equation\n",
    "\n",
    "MonthlyPayment=Principal∗r(1+r)^n/(1+r)^n−1\n",
    "\n",
    "Where:\n",
    "\n",
    "r is the monthly interest rate (should be calculated by first dividing the annual_interest_rate by 100 and then divide the result by 12 to make it monthly). Notice that if the interest rate is equal to zero then the above equation will give you a ZeroDivisionError. In that case you should use the follwing equation:MonthlyPayment=Principaln\n",
    "n is the total number of monthly payments for the entire duration of the loan (Notice that n is equal to loan duration in years multiplied by 12).\n",
    "\n",
    "Your function should return the monthly payment as a floating point number.\n",
    "\n",
    "Example: if your function is called with the following parameters:\n",
    "\n",
    "(1000.0,4.5,5)\n",
    "\n",
    "Then it should return a floating point number:\n",
    "\n",
    "18.643019241516996\n",
    "\n",
    "Remember that you are not asked to print anything. So, your function should just return the monthly payments. You do not need to call your function, it will automatically be called and tested for correctness with the test cases we provide. You only need to write one function and we will test your program with the first function that appears in your code. So, if you want to write more than one function to help you solve the problem remember to embed the helper functions inside the first function."
   ]
  },
  {
   "cell_type": "code",
   "execution_count": 25,
   "metadata": {
    "collapsed": false
   },
   "outputs": [
    {
     "data": {
      "text/plain": [
       "18.643019241516996"
      ]
     },
     "execution_count": 25,
     "metadata": {},
     "output_type": "execute_result"
    }
   ],
   "source": [
    "def embedded_function(p,r,n):\n",
    "    \n",
    "    # first check for 0 interest rate\n",
    "    n = n*12\n",
    "    r = (r/100)/12\n",
    "    if r == 0:\n",
    "        return p/n\n",
    "\n",
    "    # write a function that accepts a number as parameter and\n",
    "    def compute_r(r,n):\n",
    "        a = r*(1+r)**n\n",
    "        b = (1+r)**n -1\n",
    "        return a/b\n",
    "\n",
    "    # Now here is the important part!\n",
    "    # you need to call your inner function from within the outer function\n",
    "    \n",
    "    my_result = compute_r(r,n) \n",
    "   \n",
    "    # Now return the result\n",
    "    return p* my_result\n",
    "\n",
    "embedded_function(1000.0,4.5,5)"
   ]
  },
  {
   "cell_type": "markdown",
   "metadata": {},
   "source": [
    "Part 2: Calculate the remaining balance of a loan\n",
    "\n",
    "Write a function that calculates and returns the remaining loan balance. This function accepts four parameters in the exact order shown below:\n",
    "\n",
    "(principal, annual_interest_rate, duration , number_of_payments)\n",
    "\n",
    "principal: The total amount of loan. Assume that the principal is positive floating point number.\n",
    "\n",
    "annual_interest_rate: This is the percent interest rate per year. Assume that annual_interest_rate is a floating point number. (Notice that 4.5 means that the interest rate is 4.5 percent per year.)\n",
    "\n",
    "duration: number of years to pay the loan back. Assume that duration is a positive integer.\n",
    "\n",
    "number_of_payments: number of monthly payments that are already paid. Assume that number_of_payments is an integer.\n",
    "\n",
    "To calculate the reamining loan balance use the following equation\n",
    "\n",
    "RemainingLoanBalance=Principal∗(1+r)**n−(1+r)**p/(1+r)**n−1\n",
    "\n",
    "Where:\n",
    "\n",
    "r is the monthly interest rate. r should be calculated by first dividing the annual_interest_rate by 100 and then divide the result by 12 to make it monthly. Notice that if the interest rate is equal to zero then the above equation will give you a ZeroDivisionError. In that case you should use the follwing equation: RemainingLoanBalance=Principal(1−pn)\n",
    "\n",
    "n is the total number of monthly payments for the entire duration of the loan. Notice that n is equal to loan duration in years multiplied by 12.\n",
    "\n",
    "p is the number of payments which are already made.\n",
    "Your function should return the remaining balance as a floating point number.\n",
    "\n",
    "Example: if your function is called with the following parameters:\n",
    "\n",
    "(1000.0,4.5,5,12)\n",
    "\n",
    "Then it should return a floating point number:\n",
    "\n",
    "817.5512804582867"
   ]
  },
  {
   "cell_type": "code",
   "execution_count": 33,
   "metadata": {
    "collapsed": false
   },
   "outputs": [
    {
     "data": {
      "text/plain": [
       "817.5512804582868"
      ]
     },
     "execution_count": 33,
     "metadata": {},
     "output_type": "execute_result"
    }
   ],
   "source": [
    "def embedded_function(p,r,n,z):\n",
    "    \n",
    "    n = n*12\n",
    "    r = (r/100)/12\n",
    "    \n",
    "    # first check for 0 interest rate\n",
    "    if r == 0:\n",
    "        return p*(1-(z/n))\n",
    "\n",
    "    # write a function that accepts three numbers\n",
    "    def compute_r(r,n,z):\n",
    "        a = (1+r)**n \n",
    "        b = (1+r)**n -1\n",
    "        c= (1+r)**z\n",
    "        d = a-c\n",
    "        return d/b\n",
    "\n",
    "    # Now here is the important part!\n",
    "    # you need to call your inner function from within the outer function\n",
    "    \n",
    "    my_result = compute_r(r,n,z) \n",
    "   \n",
    "    # Now return the result\n",
    "    return p* my_result\n",
    "\n",
    "embedded_function(1000.0,4.5,5,12)"
   ]
  },
  {
   "cell_type": "markdown",
   "metadata": {},
   "source": [
    "Part 3: Display Loan Information\n",
    "\n",
    "Write a program for loan calculations. Your program should ask the user for three pieces of information (with three seperate input() functions:)\n",
    "\n",
    "The total amount of loan. Assume that the user enters a floating point number.\n",
    "\n",
    "Annual interest rate. Assume that the user enters a floating point number. (Notice that 4.5 means that the interest rate is 4.5 percent per year.)\n",
    "\n",
    "Total duration of loan in years. This is the number of years to pay the loan back. Assume that the user enters a positive integer. Also remember that the loan is paid back with monthly payments.\n",
    "\n",
    "Your Program should use the two functions that you implented in part 1 and part 2 of this assignment and display the follwoing information about the loan.\n",
    "\n",
    "In the first first line show the amount of loan and interest rate.\n",
    "\n",
    "In the second line show duration of the loan and monthly payment.\n",
    "\n",
    "In each of the following lines show the Loan balance and total amount paid for each year.\n",
    "\n",
    "Example 1: assuming that user inputs the following numbers in response to your questions:\n",
    "\n",
    "Enter loan amount: 1000.0\n",
    "\n",
    "Enter annual interest rate (percent): 4.5\n",
    "\n",
    "Enter loan duration in years: 5\n",
    "\n",
    "The output of your program should be:\n",
    "\n",
    "LOAN AMOUNT: 1000.0 INTEREST RATE (PERCENT): 4.5\n",
    "\n",
    "DURATION (YEARS): 5 MONTHLY PAYMENT: 18\n",
    "\n",
    "YEAR: 1 BALANCE: 817 TOTAL PAYMENT 223\n",
    "\n",
    "YEAR: 2 BALANCE: 626 TOTAL PAYMENT 447\n",
    "\n",
    "YEAR: 3 BALANCE: 427 TOTAL PAYMENT 671\n",
    "\n",
    "YEAR: 4 BALANCE: 218 TOTAL PAYMENT 894\n",
    "\n",
    "YEAR: 5 BALANCE: 0 TOTAL PAYMENT 1118\n",
    "\n",
    "Important notes:\n",
    "\n",
    "Print LOAN AMOUNT and INTEREST RATE as floating point numbers.\n",
    "\n",
    "Convert all the calculated numbers (MONTHLY PAYMENT, BALANCE, TOTAL PAYMENT) to int only for printing them. This means that you should use floating point numbers for all of your calculations and only convert them to int for printing.\n",
    "\n",
    "Pay attention to capitalization and spaces."
   ]
  },
  {
   "cell_type": "code",
   "execution_count": 16,
   "metadata": {
    "collapsed": false
   },
   "outputs": [
    {
     "name": "stdout",
     "output_type": "stream",
     "text": [
      "Enter loan amount: 1000\n",
      "Enter annual interest rate (percent): 4.5\n",
      "Enter loan duration in years: 5\n",
      "LOAN AMOUNT: 1000.0 INTEREST RATE (PERCENT): 4.5\n",
      "DURATION (YEARS): 5 MONTHLY PAYMENT: 18\n",
      "YEAR: 1 BALANCE: 817 TOTAL PAYMENT 223\n",
      "YEAR: 2 BALANCE: 626 TOTAL PAYMENT 447\n",
      "YEAR: 3 BALANCE: 427 TOTAL PAYMENT 671\n",
      "YEAR: 4 BALANCE: 218 TOTAL PAYMENT 894\n",
      "YEAR: 5 BALANCE: 0 TOTAL PAYMENT 1118\n"
     ]
    }
   ],
   "source": [
    "def compute_payment(p,r,n):\n",
    "    \n",
    "    # first check for 0 interest rate\n",
    "    n = n*12\n",
    "    r = (r/100)/12\n",
    "    if r == 0:\n",
    "        return p/n\n",
    "\n",
    "    # write a function that accepts a number as parameter and\n",
    "    def compute_r(r,n):\n",
    "        a = r*(1+r)**n\n",
    "        b = (1+r)**n -1\n",
    "        return a/b\n",
    "\n",
    "    # Now here is the important part!\n",
    "    # you need to call your inner function from within the outer function\n",
    "    \n",
    "    my_result = compute_r(r,n) \n",
    "   \n",
    "    # Now return the result\n",
    "    return p* my_result\n",
    "\n",
    "def compute_balance(p,r,n,z):\n",
    "    \n",
    "    n = n*12\n",
    "    r = (r/100)/12\n",
    "    \n",
    "    # first check for 0 interest rate\n",
    "    if r == 0:\n",
    "        return p*(1-(z/n))\n",
    "\n",
    "    # write a function that accepts three numbers\n",
    "    def compute_r(r,n,z):\n",
    "        a = (1+r)**n \n",
    "        b = (1+r)**n -1\n",
    "        c= (1+r)**z\n",
    "        d = a-c\n",
    "        return d/b\n",
    "\n",
    "    # Now here is the important part!\n",
    "    # you need to call your inner function from within the outer function\n",
    "    \n",
    "    my_result = compute_r(r,n,z) \n",
    "   \n",
    "    # Now return the result\n",
    "    return p* my_result\n",
    "\n",
    "\n",
    "\n",
    "z = 0\n",
    "p = float(input(\"Enter loan amount: \"))\n",
    "r = float(input(\"Enter annual interest rate (percent): \"))\n",
    "n = int(input(\"Enter loan duration in years: \"))\n",
    "\n",
    "payment=compute_payment(p,r,n)\n",
    "\n",
    "print(\"LOAN AMOUNT:\", p, \"INTEREST RATE (PERCENT):\",r)\n",
    "print(\"DURATION (YEARS):\", n, \"MONTHLY PAYMENT:\",int(payment))\n",
    "\n",
    "while z < n:\n",
    "    z +=1\n",
    "    print(\"YEAR:\",z, \"BALANCE:\", int(compute_balance(p,r,n,z*12)), \"TOTAL PAYMENT\", int(payment *(z*12)))"
   ]
  },
  {
   "cell_type": "code",
   "execution_count": null,
   "metadata": {
    "collapsed": true
   },
   "outputs": [],
   "source": []
  }
 ],
 "metadata": {
  "kernelspec": {
   "display_name": "Python 3",
   "language": "python",
   "name": "python3"
  },
  "language_info": {
   "codemirror_mode": {
    "name": "ipython",
    "version": 3
   },
   "file_extension": ".py",
   "mimetype": "text/x-python",
   "name": "python",
   "nbconvert_exporter": "python",
   "pygments_lexer": "ipython3",
   "version": "3.5.1"
  }
 },
 "nbformat": 4,
 "nbformat_minor": 0
}
