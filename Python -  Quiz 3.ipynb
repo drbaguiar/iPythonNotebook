{
 "cells": [
  {
   "cell_type": "markdown",
   "metadata": {},
   "source": [
    "Quiz 3, Part 3\n",
    "\n",
    "Write a program that asks the user for a positive number 'n' as input. Assume that the user enters a number greater than or equal to 3 and print a triangle as described below. \n",
    "\n",
    "For example if the user enters 6 then the output should be:\n",
    "\n",
    "//*\n",
    "**\n",
    "***\n",
    "****\n",
    "*****\n",
    "******\n",
    "*****\n",
    "****\n",
    "***\n",
    "**\n",
    "*//"
   ]
  },
  {
   "cell_type": "code",
   "execution_count": 2,
   "metadata": {
    "collapsed": false
   },
   "outputs": [
    {
     "name": "stdout",
     "output_type": "stream",
     "text": [
      "Enter a positive number 11\n",
      "*\n",
      "**\n",
      "***\n",
      "****\n",
      "*****\n",
      "******\n",
      "*******\n",
      "********\n",
      "*********\n",
      "**********\n",
      "***********\n",
      "**********\n",
      "*********\n",
      "********\n",
      "*******\n",
      "******\n",
      "*****\n",
      "****\n",
      "***\n",
      "**\n",
      "*\n"
     ]
    }
   ],
   "source": [
    "def my_fun(x):\n",
    "    for m in range(1,x+1):\n",
    "        print(\"*\"*m)\n",
    "    \n",
    "    for z in range(m-1,0,-1):\n",
    "        print (\"*\"*z)\n",
    "    \n",
    "    return \n",
    "\n",
    "x = int(input(\"Enter a positive number \"))\n",
    "my_fun(x)"
   ]
  },
  {
   "cell_type": "markdown",
   "metadata": {
    "collapsed": false
   },
   "source": [
    "Quiz 3, Part 7\n",
    "\n",
    "Write a function that accepts two positive integers as function parameters and returns their least common multiple (LCM). The LCM of two integers a and b is the smallest (non zero) positive integer that is divisible by both a and b. For example, the LCM of 4 and 6 is 12, the LCM of 10 and 5 is 10. \n",
    "\n",
    "Remember that you are not asked to print anything. So, your function should return the LCM and not print it. You do not need to call your function, it will automatically be called and tested for correctness with the test cases we provide. You only need to write one function and we will test your program with the first function that appears in your code. So, if you want to write more than one function to help you solve the problem, remember to embed the helper functions inside the first function."
   ]
  },
  {
   "cell_type": "code",
   "execution_count": 10,
   "metadata": {
    "collapsed": false
   },
   "outputs": [
    {
     "data": {
      "text/plain": [
       "60.0"
      ]
     },
     "execution_count": 10,
     "metadata": {},
     "output_type": "execute_result"
    }
   ],
   "source": [
    "def LCM(a,b):\n",
    "    d = a*b\n",
    "    \n",
    "    def my_fun(a,b):\n",
    "        x=0\n",
    "        z=0\n",
    "        y=0\n",
    "        w =0\n",
    "    \n",
    "        if a%b > 0:\n",
    "            x = a%b\n",
    "        else :\n",
    "            return (b)\n",
    "\n",
    "        if b%x > 0:\n",
    "            z=b%x \n",
    "        else:\n",
    "            return (x)\n",
    "\n",
    "        if x%z > 0:\n",
    "            y=x%z \n",
    "        else:\n",
    "            return (z)\n",
    "\n",
    "        if z%y > 0:\n",
    "            w=z%y\n",
    "        else:\n",
    "            return (y)\n",
    "        \n",
    "        return (y*2)\n",
    "\n",
    "\n",
    "    my_result = my_fun(a,b)\n",
    "    return ((a*b/my_result))\n",
    "    \n",
    "    \n",
    "LCM(5,12)"
   ]
  },
  {
   "cell_type": "code",
   "execution_count": 11,
   "metadata": {
    "collapsed": true
   },
   "outputs": [],
   "source": [
    "def lcm(a,b):\n",
    "    my_list = list()\n",
    "    if b%\n",
    "    \n",
    "lcm(5,12)"
   ]
  },
  {
   "cell_type": "code",
   "execution_count": null,
   "metadata": {
    "collapsed": true
   },
   "outputs": [],
   "source": []
  }
 ],
 "metadata": {
  "kernelspec": {
   "display_name": "Python 3",
   "language": "python",
   "name": "python3"
  },
  "language_info": {
   "codemirror_mode": {
    "name": "ipython",
    "version": 3
   },
   "file_extension": ".py",
   "mimetype": "text/x-python",
   "name": "python",
   "nbconvert_exporter": "python",
   "pygments_lexer": "ipython3",
   "version": "3.5.1"
  }
 },
 "nbformat": 4,
 "nbformat_minor": 0
}
