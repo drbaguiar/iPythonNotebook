{
 "cells": [
  {
   "cell_type": "markdown",
   "metadata": {},
   "source": [
    "List Methods With Examples"
   ]
  },
  {
   "cell_type": "markdown",
   "metadata": {},
   "source": [
    "list.append(x)\n",
    "\n",
    "This method adds an item to the end of the list.\n",
    "\n",
    "It is equivalent to doing: a[len(a):] = [x]"
   ]
  },
  {
   "cell_type": "code",
   "execution_count": 6,
   "metadata": {
    "collapsed": false
   },
   "outputs": [
    {
     "name": "stdout",
     "output_type": "stream",
     "text": [
      "['Tom', 'Henry', 'Mickey', 'Juliet', 'Sophie', 'William']\n"
     ]
    }
   ],
   "source": [
    "my_list = [\"Tom\", \"Henry\", \"Mickey\", \"Juliet\", \"Sophie\"]    # Create a List\n",
    "my_list.append(\"William\")                                   # Append \"William\" to the end of the list\n",
    "print(my_list)  "
   ]
  },
  {
   "cell_type": "markdown",
   "metadata": {},
   "source": [
    "ist.extend(x)\n",
    "\n",
    "This method extends the list by appending all the items in the given list.\n",
    "\n",
    "It is equivalent to doing: a[len(a):] = L"
   ]
  },
  {
   "cell_type": "code",
   "execution_count": 7,
   "metadata": {
    "collapsed": false
   },
   "outputs": [
    {
     "name": "stdout",
     "output_type": "stream",
     "text": [
      "[1, 2, 3, 4, 5, 6, 7, 10, 12, 14]\n"
     ]
    }
   ],
   "source": [
    "list_one = [1, 2, 3, 4, 5, 6, 7]                          # This is the first list\n",
    "list_two = [10, 12, 14]                                   # This is the second list\n",
    "list_one.extend(list_two)                                 # Extend list_one by appending all items of list_two\n",
    "print(list_one)"
   ]
  },
  {
   "cell_type": "markdown",
   "metadata": {},
   "source": [
    "list.insert(i, x)\n",
    "\n",
    "This method inserts an item at a given position in the list. Where:\n",
    "   \n",
    "    i : The index at which the item is to be inserted. \n",
    "    \n",
    "    x : The item that is to be inserted. "
   ]
  },
  {
   "cell_type": "code",
   "execution_count": 8,
   "metadata": {
    "collapsed": false
   },
   "outputs": [
    {
     "name": "stdout",
     "output_type": "stream",
     "text": [
      "['Tom', 'Siddhartha', 'Henry', 'Mickey', 'Juliet', 'Sophie']\n"
     ]
    }
   ],
   "source": [
    "my_list = [\"Tom\", \"Henry\", \"Mickey\", \"Juliet\", \"Sophie\"]    # Create a List\n",
    "my_list.insert(1, \"Siddhartha\")                             # Insert the string \"Siddhartha\" at index 1 \n",
    "print(my_list)               "
   ]
  },
  {
   "cell_type": "markdown",
   "metadata": {},
   "source": [
    "list.remove(x)\n",
    "\n",
    "This method removes the first item from the list whose value is x. It is an error if there is no such item. "
   ]
  },
  {
   "cell_type": "code",
   "execution_count": 9,
   "metadata": {
    "collapsed": false
   },
   "outputs": [
    {
     "name": "stdout",
     "output_type": "stream",
     "text": [
      "['Thou', 'precious!', 'art', 'gracious']\n"
     ]
    }
   ],
   "source": [
    "my_list = [\"Thou\", \"art\", \"precious!\", \"art\", \"gracious\"]     # Create a list\n",
    "my_list.remove(\"art\")                                         # Remove the first occurrence of the string \"art\"\n",
    "print(my_list)"
   ]
  },
  {
   "cell_type": "markdown",
   "metadata": {},
   "source": [
    "list.pop([i])\n",
    "\n",
    "This method removes the item at the given position in the list and returns it. \n",
    "\n",
    "If no index is specified , list.pop() removes the last item in the list. \n",
    "\n",
    "Note that the square brackets around the i in the method signature denotes that the parameter is optional, not that you should type square brackets at the position. "
   ]
  },
  {
   "cell_type": "code",
   "execution_count": 10,
   "metadata": {
    "collapsed": false
   },
   "outputs": [
    {
     "name": "stdout",
     "output_type": "stream",
     "text": [
      "The item that was popped was:  precious!\n",
      "my list now looks like =  ['Thou', 'art', 'art', 'gracious']\n"
     ]
    }
   ],
   "source": [
    "my_list = [\"Thou\", \"art\", \"precious!\", \"art\", \"gracious\"]        # Create a list\n",
    "my_item = my_list.pop(2)                                         # Remove item at index 2 and return it\n",
    "print(\"The item that was popped was: \", my_item)                 # Print my_item to see what was returned\n",
    "print(\"my list now looks like = \", my_list)"
   ]
  },
  {
   "cell_type": "markdown",
   "metadata": {},
   "source": [
    "list.clear()\n",
    "\n",
    "This method removes all the items from the list. \n",
    "\n",
    "It is equivalent to doing: del a[:]"
   ]
  },
  {
   "cell_type": "code",
   "execution_count": 11,
   "metadata": {
    "collapsed": false
   },
   "outputs": [
    {
     "name": "stdout",
     "output_type": "stream",
     "text": [
      "[]\n"
     ]
    }
   ],
   "source": [
    "my_list = [2, 3, 5, 7, 11, 13]                                # Create a list\n",
    "my_list.clear()                                               # Remove all the items from the list\n",
    "print(my_list) "
   ]
  },
  {
   "cell_type": "markdown",
   "metadata": {},
   "source": [
    "list.index(x)\n",
    "\n",
    "This method returns the index in the list of the first item whose value is x. It is an error if there is not such item."
   ]
  },
  {
   "cell_type": "code",
   "execution_count": 12,
   "metadata": {
    "collapsed": false
   },
   "outputs": [
    {
     "name": "stdout",
     "output_type": "stream",
     "text": [
      "The item was first found at index: 1\n"
     ]
    }
   ],
   "source": [
    "my_list = [\"Python\", \"is\", \"awesome\", \"Java\", \"is\", \"Alright\"]       # Create a list\n",
    "my_index = my_list.index(\"is\")                                       # Return the index of the first \"is\"\n",
    "print(\"The item was first found at index:\", my_index)"
   ]
  },
  {
   "cell_type": "markdown",
   "metadata": {},
   "source": [
    "list.count(x)\n",
    "\n",
    "This method returns the number of times x appears in the list"
   ]
  },
  {
   "cell_type": "code",
   "execution_count": 13,
   "metadata": {
    "collapsed": false
   },
   "outputs": [
    {
     "name": "stdout",
     "output_type": "stream",
     "text": [
      "The number of times the item appeared was: 4\n"
     ]
    }
   ],
   "source": [
    "my_list = [\"mew\", \"mew\", \"kitten\", \"mew\", \"mew\"]                  # Create a list\n",
    "my_count = my_list.count(\"mew\")                                   # Return the number of times \"mew\" appears\n",
    "print(\"The number of times the item appeared was:\", my_count)  "
   ]
  },
  {
   "cell_type": "markdown",
   "metadata": {},
   "source": [
    "list.sort(key=None, reverse=False)\n",
    "\n",
    "This method sorts the items of the list in place. Note that this method does not return anything. (The arguments are optional and can be used for sort customization, see sorted() for their explanation.) "
   ]
  },
  {
   "cell_type": "code",
   "execution_count": 14,
   "metadata": {
    "collapsed": false
   },
   "outputs": [
    {
     "name": "stdout",
     "output_type": "stream",
     "text": [
      "Sorted list looks like: [1, 2, 3, 4, 5, 6, 7]\n"
     ]
    }
   ],
   "source": [
    "my_list = [5, 3, 6, 1, 2, 4, 7]                  # Create a list\n",
    "my_list.sort()                                   # Sort the items of the list in place\n",
    "print(\"Sorted list looks like:\", my_list) "
   ]
  },
  {
   "cell_type": "markdown",
   "metadata": {},
   "source": [
    "list.reverse()\n",
    "\n",
    "This method reverses the items of the list in place. Note that this method does not return anything."
   ]
  },
  {
   "cell_type": "code",
   "execution_count": 15,
   "metadata": {
    "collapsed": false
   },
   "outputs": [
    {
     "name": "stdout",
     "output_type": "stream",
     "text": [
      "Reversed list looks like: ['five', 'four', 'three', 'two', 'one', 'zero']\n"
     ]
    }
   ],
   "source": [
    "my_list = [\"zero\", \"one\", \"two\", \"three\", \"four\", \"five\"]        # Create a list\n",
    "my_list.reverse()                                                # Reverse the items of the list in place\n",
    "print(\"Reversed list looks like:\", my_list) "
   ]
  },
  {
   "cell_type": "markdown",
   "metadata": {},
   "source": [
    "list.copy()\n",
    "\n",
    "This method returns a shallow copy of the list. \n",
    "It is equivalent to doing: a[:] "
   ]
  },
  {
   "cell_type": "code",
   "execution_count": 16,
   "metadata": {
    "collapsed": false
   },
   "outputs": [
    {
     "name": "stdout",
     "output_type": "stream",
     "text": [
      "Copied list looks like: ['zero', 'one', 'two', 'three']\n"
     ]
    }
   ],
   "source": [
    "original_list = [\"zero\", \"one\", \"two\", \"three\"]        # Create a list\n",
    "copied_list = original_list.copy()                     # Copy the original list and return it.        \n",
    "print(\"Copied list looks like:\", copied_list)  "
   ]
  },
  {
   "cell_type": "markdown",
   "metadata": {},
   "source": [
    "Examples"
   ]
  },
  {
   "cell_type": "code",
   "execution_count": 1,
   "metadata": {
    "collapsed": false
   },
   "outputs": [
    {
     "name": "stdout",
     "output_type": "stream",
     "text": [
      "4\n"
     ]
    }
   ],
   "source": [
    "MyList = [3, \"dog\", 9, \"cat\"]\n",
    "print (len(MyList))"
   ]
  },
  {
   "cell_type": "code",
   "execution_count": 3,
   "metadata": {
    "collapsed": false
   },
   "outputs": [
    {
     "name": "stdout",
     "output_type": "stream",
     "text": [
      "3\n"
     ]
    }
   ],
   "source": [
    "my_list = ['two', 5, ['one', 2]]\n",
    "print(len(my_list))"
   ]
  },
  {
   "cell_type": "code",
   "execution_count": 4,
   "metadata": {
    "collapsed": false
   },
   "outputs": [
    {
     "name": "stdout",
     "output_type": "stream",
     "text": [
      "2\n"
     ]
    }
   ],
   "source": [
    "MyList = ['pet' , 'dog' ,5, 'cat', 'good','dog']\n",
    "print (MyList.count('dog'))"
   ]
  },
  {
   "cell_type": "code",
   "execution_count": 5,
   "metadata": {
    "collapsed": false
   },
   "outputs": [
    {
     "name": "stdout",
     "output_type": "stream",
     "text": [
      "0\n"
     ]
    }
   ],
   "source": [
    "MyList = ['pet' , 'dog' ,5, 'cat', 'good','dog']\n",
    "x = MyList.count('car')\n",
    "print(x)"
   ]
  },
  {
   "cell_type": "code",
   "execution_count": 17,
   "metadata": {
    "collapsed": false
   },
   "outputs": [
    {
     "name": "stdout",
     "output_type": "stream",
     "text": [
      "2\n"
     ]
    }
   ],
   "source": [
    "my_list = [4, 'two' , 'one' ,5,3,2,'bye']\n",
    "print (my_list.index('one'))"
   ]
  },
  {
   "cell_type": "code",
   "execution_count": 18,
   "metadata": {
    "collapsed": false
   },
   "outputs": [
    {
     "name": "stdout",
     "output_type": "stream",
     "text": [
      "2\n"
     ]
    }
   ],
   "source": [
    "MyList = ['pet' , 'dog' ,5, 'cat', 'good','dog']\n",
    "print (MyList.index(5))"
   ]
  },
  {
   "cell_type": "code",
   "execution_count": 19,
   "metadata": {
    "collapsed": false
   },
   "outputs": [
    {
     "name": "stdout",
     "output_type": "stream",
     "text": [
      "1\n"
     ]
    }
   ],
   "source": [
    "MyList = ['pet' , 'dog' ,5, 'cat', 'good','dog']\n",
    "print (MyList.index('dog'))"
   ]
  },
  {
   "cell_type": "code",
   "execution_count": 20,
   "metadata": {
    "collapsed": false
   },
   "outputs": [
    {
     "ename": "ValueError",
     "evalue": "'car' is not in list",
     "output_type": "error",
     "traceback": [
      "\u001b[1;31m---------------------------------------------------------------------------\u001b[0m",
      "\u001b[1;31mValueError\u001b[0m                                Traceback (most recent call last)",
      "\u001b[1;32m<ipython-input-20-fa1f58e5a306>\u001b[0m in \u001b[0;36m<module>\u001b[1;34m()\u001b[0m\n\u001b[0;32m      1\u001b[0m \u001b[0mMyList\u001b[0m \u001b[1;33m=\u001b[0m \u001b[1;33m[\u001b[0m\u001b[1;34m'pet'\u001b[0m \u001b[1;33m,\u001b[0m \u001b[1;34m'dog'\u001b[0m \u001b[1;33m,\u001b[0m\u001b[1;36m5\u001b[0m\u001b[1;33m,\u001b[0m \u001b[1;34m'cat'\u001b[0m\u001b[1;33m,\u001b[0m \u001b[1;34m'good'\u001b[0m\u001b[1;33m,\u001b[0m\u001b[1;34m'dog'\u001b[0m\u001b[1;33m]\u001b[0m\u001b[1;33m\u001b[0m\u001b[0m\n\u001b[1;32m----> 2\u001b[1;33m \u001b[0mprint\u001b[0m \u001b[1;33m(\u001b[0m\u001b[0mMyList\u001b[0m\u001b[1;33m.\u001b[0m\u001b[0mindex\u001b[0m\u001b[1;33m(\u001b[0m\u001b[1;34m'car'\u001b[0m\u001b[1;33m)\u001b[0m\u001b[1;33m)\u001b[0m\u001b[1;33m\u001b[0m\u001b[0m\n\u001b[0m",
      "\u001b[1;31mValueError\u001b[0m: 'car' is not in list"
     ]
    }
   ],
   "source": [
    "MyList = ['pet' , 'dog' ,5, 'cat', 'good','dog']\n",
    "print (MyList.index('car'))"
   ]
  },
  {
   "cell_type": "code",
   "execution_count": 21,
   "metadata": {
    "collapsed": false
   },
   "outputs": [
    {
     "name": "stdout",
     "output_type": "stream",
     "text": [
      "None\n"
     ]
    }
   ],
   "source": [
    "MyList = [1, 5, 67, 3, 4]\n",
    "x = MyList.sort()\n",
    "print (x)"
   ]
  },
  {
   "cell_type": "code",
   "execution_count": 22,
   "metadata": {
    "collapsed": false
   },
   "outputs": [
    {
     "name": "stdout",
     "output_type": "stream",
     "text": [
      "[0, 3, 4, 7, 9]\n"
     ]
    }
   ],
   "source": [
    "MyList = [3, 7, 9, 0, 4]\n",
    "MyList.sort()\n",
    "print (MyList)"
   ]
  },
  {
   "cell_type": "code",
   "execution_count": 23,
   "metadata": {
    "collapsed": false
   },
   "outputs": [
    {
     "name": "stdout",
     "output_type": "stream",
     "text": [
      "['cat', 'cow', 'dog', 'pet']\n"
     ]
    }
   ],
   "source": [
    "MyList = ['cow', 'cat', 'dog', 'pet']\n",
    "MyList.sort()\n",
    "print (MyList)"
   ]
  },
  {
   "cell_type": "code",
   "execution_count": 24,
   "metadata": {
    "collapsed": false
   },
   "outputs": [
    {
     "name": "stdout",
     "output_type": "stream",
     "text": [
      "[3, 'dog', 9, 'cat', 7, 8]\n"
     ]
    }
   ],
   "source": [
    "MyList = [3, \"dog\", 9, \"cat\"]\n",
    "MyList.extend([7,8])\n",
    "print (MyList)"
   ]
  },
  {
   "cell_type": "code",
   "execution_count": 25,
   "metadata": {
    "collapsed": false
   },
   "outputs": [
    {
     "name": "stdout",
     "output_type": "stream",
     "text": [
      "['dog', 3, 'c', 'a', 't']\n"
     ]
    }
   ],
   "source": [
    "MyList = ['dog',3]\n",
    "MyList.extend('cat')\n",
    "print (MyList)"
   ]
  },
  {
   "cell_type": "code",
   "execution_count": 26,
   "metadata": {
    "collapsed": false
   },
   "outputs": [
    {
     "name": "stdout",
     "output_type": "stream",
     "text": [
      "['pet', 'dog', 5, 'cat']\n"
     ]
    }
   ],
   "source": [
    "MyList = ['pet' , 'dog' ,5]\n",
    "MyList.append('cat')\n",
    "print(MyList)"
   ]
  },
  {
   "cell_type": "code",
   "execution_count": 27,
   "metadata": {
    "collapsed": false
   },
   "outputs": [
    {
     "name": "stdout",
     "output_type": "stream",
     "text": [
      "['two', 'one', 5, 3, 2, 'bye', ['one', 2]]\n"
     ]
    }
   ],
   "source": [
    "my_list = ['two' , 'one' ,5,3,2,'bye']\n",
    "my_list.append (['one',2])\n",
    "print(my_list)"
   ]
  },
  {
   "cell_type": "code",
   "execution_count": 28,
   "metadata": {
    "collapsed": false
   },
   "outputs": [
    {
     "name": "stdout",
     "output_type": "stream",
     "text": [
      "[1, 'dog', 'cat', 2.3]\n"
     ]
    }
   ],
   "source": [
    "my_list=[1,'dog',2.3]\n",
    "my_list.insert(2,'cat')\n",
    "print(my_list)"
   ]
  },
  {
   "cell_type": "code",
   "execution_count": 29,
   "metadata": {
    "collapsed": false
   },
   "outputs": [
    {
     "name": "stdout",
     "output_type": "stream",
     "text": [
      "[3, [6, 9], 'dog', 9, 'cat']\n"
     ]
    }
   ],
   "source": [
    "MyList = [3, \"dog\", 9, \"cat\"]\n",
    "MyList.insert(1, [6, 9])\n",
    "print (MyList)"
   ]
  },
  {
   "cell_type": "code",
   "execution_count": 30,
   "metadata": {
    "collapsed": false
   },
   "outputs": [
    {
     "name": "stdout",
     "output_type": "stream",
     "text": [
      "['dog', 9, 'cat']\n"
     ]
    }
   ],
   "source": [
    "MyList = [3, \"dog\", 9, \"cat\"]\n",
    "MyList.remove(3)\n",
    "print (MyList)"
   ]
  },
  {
   "cell_type": "code",
   "execution_count": 31,
   "metadata": {
    "collapsed": false
   },
   "outputs": [
    {
     "name": "stdout",
     "output_type": "stream",
     "text": [
      "[3, 'dog', 9]\n"
     ]
    }
   ],
   "source": [
    "MyList = [3, \"dog\", 9, \"cat\"]\n",
    "MyList.pop()\n",
    "print (MyList)\n",
    "\n"
   ]
  },
  {
   "cell_type": "code",
   "execution_count": 32,
   "metadata": {
    "collapsed": false
   },
   "outputs": [
    {
     "name": "stdout",
     "output_type": "stream",
     "text": [
      "['dog', 0, 'cat']\n"
     ]
    }
   ],
   "source": [
    "MyList = [3, \"dog\", 0, \"cat\"]\n",
    "del MyList[0]\n",
    "print (MyList)\n",
    "  "
   ]
  },
  {
   "cell_type": "code",
   "execution_count": 33,
   "metadata": {
    "collapsed": false
   },
   "outputs": [
    {
     "name": "stdout",
     "output_type": "stream",
     "text": [
      "None\n"
     ]
    }
   ],
   "source": [
    "MyList = [3, \"dog\", 9, \"cat\"]\n",
    "print (MyList.extend([7,8]))"
   ]
  },
  {
   "cell_type": "code",
   "execution_count": 34,
   "metadata": {
    "collapsed": false
   },
   "outputs": [
    {
     "name": "stdout",
     "output_type": "stream",
     "text": [
      "None\n"
     ]
    }
   ],
   "source": [
    "MyList = ['pet' , 'dog' ,5]\n",
    "print (MyList.append('cat'))"
   ]
  },
  {
   "cell_type": "code",
   "execution_count": 35,
   "metadata": {
    "collapsed": false
   },
   "outputs": [
    {
     "name": "stdout",
     "output_type": "stream",
     "text": [
      "None\n"
     ]
    }
   ],
   "source": [
    "my_list=[1,\"dog\",2.3]\n",
    "print(my_list.insert(2,\"pet\"))"
   ]
  },
  {
   "cell_type": "code",
   "execution_count": 36,
   "metadata": {
    "collapsed": false
   },
   "outputs": [
    {
     "name": "stdout",
     "output_type": "stream",
     "text": [
      "None\n"
     ]
    }
   ],
   "source": [
    "my_list = ['two' , 'one' ,5,3,2,'bye']\n",
    "print (my_list.remove('one'))"
   ]
  },
  {
   "cell_type": "code",
   "execution_count": 37,
   "metadata": {
    "collapsed": false
   },
   "outputs": [
    {
     "name": "stdout",
     "output_type": "stream",
     "text": [
      "dog\n"
     ]
    }
   ],
   "source": [
    "MyList = ['pet' , 'dog' ,1]\n",
    "print (MyList.pop(1))\n",
    "\n"
   ]
  },
  {
   "cell_type": "code",
   "execution_count": 38,
   "metadata": {
    "collapsed": false
   },
   "outputs": [
    {
     "ename": "TypeError",
     "evalue": "'str' object cannot be interpreted as an integer",
     "output_type": "error",
     "traceback": [
      "\u001b[1;31m---------------------------------------------------------------------------\u001b[0m",
      "\u001b[1;31mTypeError\u001b[0m                                 Traceback (most recent call last)",
      "\u001b[1;32m<ipython-input-38-5e47e6ebd481>\u001b[0m in \u001b[0;36m<module>\u001b[1;34m()\u001b[0m\n\u001b[0;32m      1\u001b[0m \u001b[0mMyList\u001b[0m \u001b[1;33m=\u001b[0m \u001b[1;33m[\u001b[0m\u001b[1;34m'pet'\u001b[0m \u001b[1;33m,\u001b[0m \u001b[1;34m'dog'\u001b[0m \u001b[1;33m,\u001b[0m\u001b[1;36m5\u001b[0m\u001b[1;33m]\u001b[0m\u001b[1;33m\u001b[0m\u001b[0m\n\u001b[1;32m----> 2\u001b[1;33m \u001b[0mprint\u001b[0m \u001b[1;33m(\u001b[0m\u001b[0mMyList\u001b[0m\u001b[1;33m.\u001b[0m\u001b[0mpop\u001b[0m\u001b[1;33m(\u001b[0m\u001b[1;34m'dog'\u001b[0m\u001b[1;33m)\u001b[0m\u001b[1;33m)\u001b[0m\u001b[1;33m\u001b[0m\u001b[0m\n\u001b[0m",
      "\u001b[1;31mTypeError\u001b[0m: 'str' object cannot be interpreted as an integer"
     ]
    }
   ],
   "source": [
    "MyList = ['pet' , 'dog' ,5]\n",
    "print (MyList.pop('dog'))"
   ]
  },
  {
   "cell_type": "code",
   "execution_count": 39,
   "metadata": {
    "collapsed": false
   },
   "outputs": [
    {
     "name": "stdout",
     "output_type": "stream",
     "text": [
      "[2, 5, 8]\n"
     ]
    }
   ],
   "source": [
    "my_list = []\n",
    "for x in range(2,11,3):\n",
    "    my_list.append(x)\n",
    "print(my_list)\n",
    "  "
   ]
  },
  {
   "cell_type": "code",
   "execution_count": 40,
   "metadata": {
    "collapsed": false
   },
   "outputs": [
    {
     "ename": "TypeError",
     "evalue": "'float' object cannot be interpreted as an integer",
     "output_type": "error",
     "traceback": [
      "\u001b[1;31m---------------------------------------------------------------------------\u001b[0m",
      "\u001b[1;31mTypeError\u001b[0m                                 Traceback (most recent call last)",
      "\u001b[1;32m<ipython-input-40-51146aa0f674>\u001b[0m in \u001b[0;36m<module>\u001b[1;34m()\u001b[0m\n\u001b[0;32m      1\u001b[0m \u001b[0mmy_list\u001b[0m \u001b[1;33m=\u001b[0m \u001b[1;33m[\u001b[0m\u001b[1;33m]\u001b[0m\u001b[1;33m\u001b[0m\u001b[0m\n\u001b[1;32m----> 2\u001b[1;33m \u001b[1;32mfor\u001b[0m \u001b[0mx\u001b[0m \u001b[1;32min\u001b[0m \u001b[0mrange\u001b[0m\u001b[1;33m(\u001b[0m\u001b[1;36m4\u001b[0m\u001b[1;33m,\u001b[0m\u001b[1;36m30\u001b[0m\u001b[1;33m,\u001b[0m\u001b[1;36m3.0\u001b[0m\u001b[1;33m)\u001b[0m\u001b[1;33m:\u001b[0m\u001b[1;33m\u001b[0m\u001b[0m\n\u001b[0m\u001b[0;32m      3\u001b[0m     \u001b[0mmy_list\u001b[0m\u001b[1;33m.\u001b[0m\u001b[0mappend\u001b[0m\u001b[1;33m(\u001b[0m\u001b[0mx\u001b[0m\u001b[1;33m)\u001b[0m\u001b[1;33m\u001b[0m\u001b[0m\n\u001b[0;32m      4\u001b[0m \u001b[0mprint\u001b[0m\u001b[1;33m(\u001b[0m\u001b[0mmy_list\u001b[0m\u001b[1;33m)\u001b[0m\u001b[1;33m\u001b[0m\u001b[0m\n\u001b[0;32m      5\u001b[0m \u001b[1;33m\u001b[0m\u001b[0m\n",
      "\u001b[1;31mTypeError\u001b[0m: 'float' object cannot be interpreted as an integer"
     ]
    }
   ],
   "source": [
    "my_list = []\n",
    "for x in range(4,30,3.0):\n",
    "    my_list.append(x)\n",
    "print(my_list)\n",
    "  "
   ]
  },
  {
   "cell_type": "code",
   "execution_count": 41,
   "metadata": {
    "collapsed": false
   },
   "outputs": [
    {
     "name": "stdout",
     "output_type": "stream",
     "text": [
      "[3, 7, 11, 15, 19]\n"
     ]
    }
   ],
   "source": [
    "a = range(3,20,4)\n",
    "b = []\n",
    "for k in a:\n",
    "    if k % 2:\n",
    "        b.append(k)\n",
    "print (b)"
   ]
  },
  {
   "cell_type": "code",
   "execution_count": 42,
   "metadata": {
    "collapsed": false
   },
   "outputs": [
    {
     "name": "stdout",
     "output_type": "stream",
     "text": [
      "[3, 6, 9]\n"
     ]
    }
   ],
   "source": [
    "my_list = []\n",
    "for x in range(1,10):\n",
    "    if not (x % 3):\n",
    "        my_list.append(x)\n",
    "print(my_list)\n",
    "\n"
   ]
  },
  {
   "cell_type": "markdown",
   "metadata": {},
   "source": [
    "List Methods Exercise 7 (List of Multiples)\n",
    "\n",
    "Write a function that accepts a positive integer k and returns a list that contains the first five multiples of k. The multiples should be calculated starting from 1 to 5 (including both 1 and 5). For example the first five multiples of 3 are 3, 6, 9, 12, and 15"
   ]
  },
  {
   "cell_type": "code",
   "execution_count": 5,
   "metadata": {
    "collapsed": false
   },
   "outputs": [
    {
     "data": {
      "text/plain": [
       "[25, 50, 75, 100, 125]"
      ]
     },
     "execution_count": 5,
     "metadata": {},
     "output_type": "execute_result"
    }
   ],
   "source": [
    "def multiples(x):\n",
    "    ctr = 1\n",
    "    my_list=list()\n",
    "    while ctr <= 5:\n",
    "        my_list.append(ctr*x)\n",
    "        ctr +=1\n",
    "    return my_list\n",
    "\n",
    "multiples(25)"
   ]
  },
  {
   "cell_type": "markdown",
   "metadata": {},
   "source": [
    "List Methods Exercise 8 (List of Even Numbers)\n",
    "\n",
    "Write a function that accepts two positive integers a and b and returns a list of all the even numbers between a and b (including a and not including b)."
   ]
  },
  {
   "cell_type": "code",
   "execution_count": 7,
   "metadata": {
    "collapsed": false
   },
   "outputs": [
    {
     "data": {
      "text/plain": [
       "[2, 4, 6, 8, 10]"
      ]
     },
     "execution_count": 7,
     "metadata": {},
     "output_type": "execute_result"
    }
   ],
   "source": [
    "def even(a,b):\n",
    "    my_list=list()\n",
    "    x = a\n",
    "    while x < b:\n",
    "        if x%2 == 0:\n",
    "            my_list.append(x)\n",
    "        x +=1\n",
    "      \n",
    "    return my_list\n",
    "\n",
    "even(1,11)"
   ]
  },
  {
   "cell_type": "markdown",
   "metadata": {},
   "source": [
    "List Methods Exercise 9 (List of Odd Numbers)\n",
    "\n",
    "Write a function that accepts two positive integers a and b (a is smaller than b)and returns a list that contains all the odd numbers between a and b (including a and including b if applicable) in descending order."
   ]
  },
  {
   "cell_type": "code",
   "execution_count": 23,
   "metadata": {
    "collapsed": false
   },
   "outputs": [
    {
     "data": {
      "text/plain": [
       "[11, 9, 7, 5, 3, 1]"
      ]
     },
     "execution_count": 23,
     "metadata": {},
     "output_type": "execute_result"
    }
   ],
   "source": [
    "def odd(a,b):\n",
    "    my_list=list()\n",
    "    x = a\n",
    "    while x <= b:\n",
    "        if x%2 == 0:\n",
    "            pass\n",
    "        else:\n",
    "            my_list.append(x)\n",
    "        x +=1\n",
    "    my_list.sort(reverse=True) \n",
    "    return my_list\n",
    "  \n",
    "\n",
    "\n",
    "odd(1,11)"
   ]
  },
  {
   "cell_type": "markdown",
   "metadata": {},
   "source": [
    "List Methods Exercise 10 (List of Cube Roots))\n",
    "\n",
    "Write a function that accepts a positive integer k and returns the list of cube root values of all the numbers from 1 to k (including 1 and not including k). [if k is 1, your program should return an empty list]\n"
   ]
  },
  {
   "cell_type": "code",
   "execution_count": 37,
   "metadata": {
    "collapsed": false
   },
   "outputs": [
    {
     "data": {
      "text/plain": [
       "[1.0, 1.2599210498948732, 1.4422495703074083, 1.5874010519681994]"
      ]
     },
     "execution_count": 37,
     "metadata": {},
     "output_type": "execute_result"
    }
   ],
   "source": [
    "def cubes(x):\n",
    "    my_list=list()\n",
    "    if x == 1:\n",
    "        return my_list\n",
    "    ctr = 1\n",
    "   \n",
    "    while ctr < x:\n",
    "        my_list.append(ctr ** (1 / 3))\n",
    "        ctr +=1\n",
    "    return my_list\n",
    "\n",
    "cubes(5)"
   ]
  },
  {
   "cell_type": "markdown",
   "metadata": {},
   "source": [
    "List Methods Exercise 11 (List of Divisors)\n",
    "\n",
    "Write a function that accepts a positive integer k and returns the list of all the divisors of k. Your list should include both 1 and k.\n"
   ]
  },
  {
   "cell_type": "code",
   "execution_count": 42,
   "metadata": {
    "collapsed": false
   },
   "outputs": [
    {
     "data": {
      "text/plain": [
       "[1, 2, 4, 5, 10, 20]"
      ]
     },
     "execution_count": 42,
     "metadata": {},
     "output_type": "execute_result"
    }
   ],
   "source": [
    "def divsors(x):\n",
    "    ctr = 1\n",
    "    my_list=list()\n",
    "    while ctr <= x:\n",
    "        if x%ctr == 0:\n",
    "            my_list.append(ctr)\n",
    "        ctr +=1\n",
    "    return my_list\n",
    "\n",
    "divsors(20)"
   ]
  },
  {
   "cell_type": "code",
   "execution_count": null,
   "metadata": {
    "collapsed": true
   },
   "outputs": [],
   "source": []
  }
 ],
 "metadata": {
  "kernelspec": {
   "display_name": "Python 3",
   "language": "python",
   "name": "python3"
  },
  "language_info": {
   "codemirror_mode": {
    "name": "ipython",
    "version": 3
   },
   "file_extension": ".py",
   "mimetype": "text/x-python",
   "name": "python",
   "nbconvert_exporter": "python",
   "pygments_lexer": "ipython3",
   "version": "3.5.1"
  }
 },
 "nbformat": 4,
 "nbformat_minor": 0
}
