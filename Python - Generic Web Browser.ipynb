{
 "cells": [
  {
   "cell_type": "code",
   "execution_count": null,
   "metadata": {
    "collapsed": true
   },
   "outputs": [],
   "source": [
    "# Create socket\n",
    "import socket\n",
    "import sys"
   ]
  },
  {
   "cell_type": "code",
   "execution_count": null,
   "metadata": {
    "collapsed": true
   },
   "outputs": [],
   "source": [
    "try:\n",
    "    mysock=socket.socket(socket.AF_INET, socket.SOCK_STREAM)\n",
    "\n",
    "except socket.error:\n",
    "    print(\"\\n\",\"Houston we have a problem with the socket!\")\n",
    "    sys.exit() "
   ]
  },
  {
   "cell_type": "code",
   "execution_count": null,
   "metadata": {
    "collapsed": false
   },
   "outputs": [],
   "source": [
    "#Connect to server\n",
    "hostname = input(\"Enter a hostname to search, (For example www.google.com) \")\n",
    "if hostname ==\"\":\n",
    "    hostname=\"www.google.com\"\n",
    "    \n",
    "# Perform DNS lookup \n",
    "try:\n",
    "    host = socket.gethostbyname(hostname) \n",
    "    print (\"\\n\",hostname, \"found at\", host)\n",
    "\n",
    "except socket.gaierror:\n",
    "        print (host, \"not found\")\n",
    "        sys.exit()\n",
    "\n",
    "try:\n",
    "    mysock.connect((host,1234))\n",
    "    \n",
    "except socket.error:\n",
    "    print(\"\\n\",\"Houston we have a problem with the socket!\")\n",
    "    sys.exit() "
   ]
  },
  {
   "cell_type": "code",
   "execution_count": null,
   "metadata": {
    "collapsed": false
   },
   "outputs": [],
   "source": [
    "#Send request\n",
    "#Generic http request\n",
    "message = \"GET / HTTP/1.1\\r\\n\\r\\n\"\n",
    "\n",
    "try:\n",
    "    #Need to encode in python 3.5\n",
    "    mysock.sendall(message.encode('utf-8'))\n",
    "    \n",
    "except socket.error:\n",
    "    print(\"\\n\",\"Houston we have a problem with the socket!\")\n",
    "    sys.exit() "
   ]
  },
  {
   "cell_type": "code",
   "execution_count": null,
   "metadata": {
    "collapsed": false
   },
   "outputs": [],
   "source": [
    "#Receive response \n",
    "\n",
    "try:\n",
    "    # Include number of bytes to recevie to buffer\n",
    "    data = mysock.recv(100000)\n",
    "    \n",
    "except socket.error:\n",
    "    print(\"\\n\",\"Houston we have a problem with the socket!\")\n",
    "    sys.exit() \n",
    "    \n",
    "print (data)"
   ]
  },
  {
   "cell_type": "code",
   "execution_count": null,
   "metadata": {
    "collapsed": false
   },
   "outputs": [],
   "source": [
    "#Close socket\n",
    "\n",
    "try:\n",
    "    mysock.close\n",
    "    \n",
    "except socket.error:\n",
    "    print(\"\\n\",\"Houston we have a problem with the socket!\")\n",
    "    sys.exit() "
   ]
  },
  {
   "cell_type": "code",
   "execution_count": null,
   "metadata": {
    "collapsed": false
   },
   "outputs": [],
   "source": []
  },
  {
   "cell_type": "code",
   "execution_count": null,
   "metadata": {
    "collapsed": true
   },
   "outputs": [],
   "source": []
  },
  {
   "cell_type": "code",
   "execution_count": null,
   "metadata": {
    "collapsed": true
   },
   "outputs": [],
   "source": []
  },
  {
   "cell_type": "code",
   "execution_count": null,
   "metadata": {
    "collapsed": true
   },
   "outputs": [],
   "source": []
  },
  {
   "cell_type": "code",
   "execution_count": null,
   "metadata": {
    "collapsed": true
   },
   "outputs": [],
   "source": []
  },
  {
   "cell_type": "code",
   "execution_count": null,
   "metadata": {
    "collapsed": true
   },
   "outputs": [],
   "source": []
  }
 ],
 "metadata": {
  "kernelspec": {
   "display_name": "Python 3",
   "language": "python",
   "name": "python3"
  },
  "language_info": {
   "codemirror_mode": {
    "name": "ipython",
    "version": 3
   },
   "file_extension": ".py",
   "mimetype": "text/x-python",
   "name": "python",
   "nbconvert_exporter": "python",
   "pygments_lexer": "ipython3",
   "version": "3.5.1"
  }
 },
 "nbformat": 4,
 "nbformat_minor": 0
}
