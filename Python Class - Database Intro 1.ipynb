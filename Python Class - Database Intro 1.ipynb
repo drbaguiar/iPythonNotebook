{
 "cells": [
  {
   "cell_type": "code",
   "execution_count": 1,
   "metadata": {
    "collapsed": false
   },
   "outputs": [
    {
     "name": "stdout",
     "output_type": "stream",
     "text": [
      "\n",
      "Entire database contents:\n",
      "\n",
      "(u'2015-11-13', u'19:49:50', u'kitchen', 20.6)\n",
      "(u'2015-11-13', u'19:50:01', u'greenhouse', 26.3)\n",
      "(u'2015-11-13', u'19:50:12', u'garage', 18.6)\n",
      "(u'2015-11-14', u'07:50:27', u'kitchen', 19.5)\n",
      "(u'2015-11-14', u'07:50:38', u'greenhouse', 15.1)\n",
      "(u'2015-11-14', u'07:50:48', u'garage', 18.1)\n",
      "(u'2015-11-14', u'19:51:07', u'kitchen', 21.2)\n",
      "(u'2015-11-14', u'19:51:15', u'greenhouse', 27.1)\n",
      "(u'2015-11-14', u'19:51:24', u'garage', 19.1)\n",
      "\n",
      "Database entries for the garage:\n",
      "\n",
      "(u'2015-11-13', u'19:50:12', u'garage', 18.6)\n",
      "(u'2015-11-14', u'07:50:48', u'garage', 18.1)\n",
      "(u'2015-11-14', u'19:51:24', u'garage', 19.1)\n"
     ]
    }
   ],
   "source": [
    "import sqlite3\n",
    "\n",
    "# Note My sqlite3 database is located and running on raspberry pi 04, which is mapped to s on this computer\n",
    "conn=sqlite3.connect('s:/mydatabase.db')\n",
    "\n",
    "curs=conn.cursor()\n",
    "\n",
    "print \"\\nEntire database contents:\\n\"\n",
    "for row in curs.execute(\"SELECT * FROM temps\"):\n",
    "    print row\n",
    "\n",
    "print \"\\nDatabase entries for the garage:\\n\"\n",
    "for row in curs.execute(\"SELECT * FROM temps WHERE zone='garage'\"):\n",
    "    print row\n",
    "\n",
    "conn.close()"
   ]
  },
  {
   "cell_type": "code",
   "execution_count": null,
   "metadata": {
    "collapsed": true
   },
   "outputs": [],
   "source": []
  }
 ],
 "metadata": {
  "kernelspec": {
   "display_name": "Python 2",
   "language": "python",
   "name": "python2"
  },
  "language_info": {
   "codemirror_mode": {
    "name": "ipython",
    "version": 2
   },
   "file_extension": ".py",
   "mimetype": "text/x-python",
   "name": "python",
   "nbconvert_exporter": "python",
   "pygments_lexer": "ipython2",
   "version": "2.7.10"
  }
 },
 "nbformat": 4,
 "nbformat_minor": 0
}
