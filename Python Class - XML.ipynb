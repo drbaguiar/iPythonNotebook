{
 "cells": [
  {
   "cell_type": "code",
   "execution_count": 3,
   "metadata": {
    "collapsed": false
   },
   "outputs": [
    {
     "name": "stdout",
     "output_type": "stream",
     "text": [
      "Name: Chuck\n",
      "Phone: \n",
      "     +1 734 303 4456\n",
      "   \n",
      "Attr: yes\n"
     ]
    }
   ],
   "source": [
    "import xml.etree.ElementTree as ET\n",
    "\n",
    "data = '''\n",
    "<person>\n",
    "  <name>Chuck</name>\n",
    "  <phone type=\"intl\">\n",
    "     +1 734 303 4456\n",
    "   </phone>\n",
    "   <email hide=\"yes\"/>\n",
    "</person>'''\n",
    "\n",
    "tree = ET.fromstring(data)\n",
    "print 'Name:',tree.find('name').text\n",
    "print 'Phone:',tree.find('phone').text\n",
    "print 'Attr:',tree.find('email').get('hide')"
   ]
  },
  {
   "cell_type": "code",
   "execution_count": 6,
   "metadata": {
    "collapsed": false
   },
   "outputs": [
    {
     "name": "stdout",
     "output_type": "stream",
     "text": [
      "User count: 2\n",
      "Name Chuck\n",
      "Id 001\n",
      "Attribute 2\n",
      "Name Brent\n",
      "Id 009\n",
      "Attribute 7\n"
     ]
    }
   ],
   "source": [
    "import xml.etree.ElementTree as ET\n",
    "\n",
    "input = '''\n",
    "<stuff>\n",
    "    <users>\n",
    "        <user x=\"2\">\n",
    "            <id>001</id>\n",
    "            <name>Chuck</name>\n",
    "        </user>\n",
    "        <user x=\"7\">\n",
    "            <id>009</id>\n",
    "            <name>Brent</name>\n",
    "            </user>\n",
    "        </users>\n",
    "</stuff>'''\n",
    "\n",
    "stuff = ET.fromstring(input)\n",
    "lst = stuff.findall('users/user')\n",
    "print 'User count:', len(lst)\n",
    "\n",
    "for item in lst:\n",
    "    print 'Name', item.find('name').text\n",
    "    print 'Id', item.find('id').text\n",
    "    print 'Attribute', item.get(\"x\")"
   ]
  },
  {
   "cell_type": "markdown",
   "metadata": {},
   "source": [
    "Extracting Data from XML\n",
    "\n",
    "In this assignment you will write a Python program somewhat similar to http://www.pythonlearn.com/code/geoxml.py. The program will prompt for a URL, read the XML data from that URL using urllib and then parse and extract the comment counts from the XML data, compute the sum of the numbers in the file.\n",
    "\n",
    "We provide two files for this assignment. One is a sample file where we give you the sum for your testing and the other is the actual data you need to process for the assignment.\n",
    "\n",
    "Sample data: http://pr4e.dr-chuck.com/tsugi/mod/python-data/data/comments_42.xml (Sum=2553)\n",
    "Actual data: http://pr4e.dr-chuck.com/tsugi/mod/python-data/data/comments_194061.xml (Sum ends with 81)\n",
    "You do not need to save these files to your folder since your program will read the data directly from the URL. Note: Each student will have a distinct data url for the assignment - so only use your own data url for analysis.\n",
    "Data Format and Approach\n",
    "The data consists of a number of names and comment counts in XML as follows:\n"
   ]
  },
  {
   "cell_type": "markdown",
   "metadata": {},
   "source": [
    "Enter location: http://pr4e.dr-chuck.com/tsugi/mod/python-data/data/comments_42.xml\n",
    "Retrieving http://pr4e.dr-chuck.com/tsugi/mod/python-data/data/comments_42.xml\n",
    "Retrieved 4210 characters\n",
    "Count: 50\n",
    "Sum: 2553"
   ]
  },
  {
   "cell_type": "markdown",
   "metadata": {},
   "source": [
    "Enter location: http://pr4e.dr-chuck.com/tsugi/mod/python-data/data/comments_42.xml\n",
    "Retrieving http://pr4e.dr-chuck.com/tsugi/mod/python-data/data/comments_42.xml\n",
    "Retrieved 4210 characters\n",
    "Count: 50\n",
    "Sum: 2553"
   ]
  },
  {
   "cell_type": "markdown",
   "metadata": {},
   "source": [
    "Enter location: http://pr4e.dr-chuck.com/tsugi/mod/python-data/data/comments_42.xml\n",
    "Retrieving http://pr4e.dr-chuck.com/tsugi/mod/python-data/data/comments_42.xml\n",
    "Retrieved 4210 characters\n",
    "Count: 50\n",
    "Sum: 2553"
   ]
  },
  {
   "cell_type": "markdown",
   "metadata": {},
   "source": [
    "Enter location: http://pr4e.dr-chuck.com/tsugi/mod/python-data/data/comments_42.xml\n",
    "Retrieving http://pr4e.dr-chuck.com/tsugi/mod/python-data/data/comments_42.xml\n",
    "Retrieved 4210 characters\n",
    "Count: 50\n",
    "Sum: 2553\n",
    "\n"
   ]
  },
  {
   "cell_type": "markdown",
   "metadata": {},
   "source": [
    "Enter location: http://pr4e.dr-chuck.com/tsugi/mod/python-data/data/comments_42.xml\n",
    "Retrieving http://pr4e.dr-chuck.com/tsugi/mod/python-data/data/comments_42.xml\n",
    "Retrieved 4210 characters\n",
    "Count: 50\n",
    "Sum: 2553"
   ]
  },
  {
   "cell_type": "code",
   "execution_count": 8,
   "metadata": {
    "collapsed": false,
    "scrolled": true
   },
   "outputs": [
    {
     "name": "stdout",
     "output_type": "stream",
     "text": [
      "Enter location: http://pr4e.dr-chuck.com/tsugi/mod/python-data/data/comments_194061.xml\n",
      "Retrieving http://pr4e.dr-chuck.com/tsugi/mod/python-data/data/comments_194061.xml\n",
      "Retrieved 4228 characters\n",
      "Enter location: \n",
      "2681\n"
     ]
    }
   ],
   "source": [
    "import urllib\n",
    "import xml.etree.ElementTree as ET\n",
    "from bs4 import BeautifulSoup \n",
    "\n",
    "cnt = 0 \n",
    "while True:\n",
    "    url = raw_input('Enter location: ')\n",
    "    if len(url) < 1 : break\n",
    "\n",
    "    print 'Retrieving', url\n",
    "    uh = urllib.urlopen(url)\n",
    "    data = uh.read()\n",
    "    print 'Retrieved',len(data),'characters'\n",
    "    # print data\n",
    "    tree = ET.fromstring(data)\n",
    "\n",
    "    lst = tree.findall('.//comment')\n",
    "    for item in lst:\n",
    "        #print item.find('count').text\n",
    "        cnt = cnt + int(item.find('count').text)\n",
    "print cnt"
   ]
  },
  {
   "cell_type": "code",
   "execution_count": 13,
   "metadata": {
    "collapsed": false
   },
   "outputs": [
    {
     "data": {
      "text/plain": [
       "<Element 'commentinfo' at 0x3776780>"
      ]
     },
     "execution_count": 13,
     "metadata": {},
     "output_type": "execute_result"
    }
   ],
   "source": [
    "stuff"
   ]
  },
  {
   "cell_type": "code",
   "execution_count": null,
   "metadata": {
    "collapsed": true
   },
   "outputs": [],
   "source": []
  },
  {
   "cell_type": "code",
   "execution_count": null,
   "metadata": {
    "collapsed": true
   },
   "outputs": [],
   "source": []
  },
  {
   "cell_type": "code",
   "execution_count": null,
   "metadata": {
    "collapsed": true
   },
   "outputs": [],
   "source": []
  },
  {
   "cell_type": "code",
   "execution_count": null,
   "metadata": {
    "collapsed": true
   },
   "outputs": [],
   "source": []
  }
 ],
 "metadata": {
  "kernelspec": {
   "display_name": "Python 2",
   "language": "python",
   "name": "python2"
  },
  "language_info": {
   "codemirror_mode": {
    "name": "ipython",
    "version": 2
   },
   "file_extension": ".py",
   "mimetype": "text/x-python",
   "name": "python",
   "nbconvert_exporter": "python",
   "pygments_lexer": "ipython2",
   "version": "2.7.10"
  }
 },
 "nbformat": 4,
 "nbformat_minor": 0
}
