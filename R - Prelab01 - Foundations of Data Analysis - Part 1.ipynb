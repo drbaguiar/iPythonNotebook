{
 "cells": [
  {
   "cell_type": "code",
   "execution_count": 1,
   "metadata": {
    "collapsed": false
   },
   "outputs": [
    {
     "data": {
      "text/html": [
       "\"LC_COLLATE=English_United States.1252;LC_CTYPE=English_United States.1252;LC_MONETARY=English_United States.1252;LC_NUMERIC=C;LC_TIME=English_United States.1252\""
      ],
      "text/latex": [
       "\"LC_COLLATE=English_United States.1252;LC_CTYPE=English_United States.1252;LC_MONETARY=English_United States.1252;LC_NUMERIC=C;LC_TIME=English_United States.1252\""
      ],
      "text/markdown": [
       "\"LC_COLLATE=English_United States.1252;LC_CTYPE=English_United States.1252;LC_MONETARY=English_United States.1252;LC_NUMERIC=C;LC_TIME=English_United States.1252\""
      ],
      "text/plain": [
       "[1] \"LC_COLLATE=English_United States.1252;LC_CTYPE=English_United States.1252;LC_MONETARY=English_United States.1252;LC_NUMERIC=C;LC_TIME=English_United States.1252\""
      ]
     },
     "execution_count": 1,
     "metadata": {},
     "output_type": "execute_result"
    }
   ],
   "source": [
    "##Clear the environment\n",
    "rm(list=ls())\n",
    "\n",
    "##Turn off scientific notations for numbers\n",
    "options(scipen = 999)  \n",
    "\n",
    "##Set locale\n",
    "Sys.setlocale(\"LC_ALL\", \"English\") \n",
    "\n",
    "##Set seed for reproducibility\n",
    "set.seed(2345)\n",
    "\n",
    "# Turn off warnings\n",
    "options(warn = -1)\n",
    "\n",
    "getstats <- function(cm){\n",
    "  # Sensititvity a.k.a TPR\n",
    "  tpr <-cm[2,2]/(cm[2,2]+cm[2,1])\n",
    "  fpr <-cm[1,2]/(cm[1,2]+cm[1,1])\n",
    "  \n",
    "  # Specificity a.k.a. TNR\n",
    "  tnr <- cm[1,1]/(cm[1,1]+cm[1,2])\n",
    "  fnr <- cm[2,1]/(cm[2,1]+cm[2,2])\n",
    "  \n",
    "  # Calculate accuracy\n",
    "  acc <-(cm[2,2]+cm[1,1])/sum(cm)\n",
    "  err <-(cm[1,2]+cm[2,1])/sum(cm)\n",
    "  \n",
    "  #Precision - Positive Predictive Value\n",
    "  ppv <- cm[2,2]/(cm[2,2]+cm[1,2])\n",
    "  \n",
    "  # Negative Predictive Value\n",
    "  npv <- cm[1,1]/(cm[1,1]+cm[2,1])\n",
    "  \n",
    "  rbind(TruePos_Sensitivity=tpr, FalsePos=fpr, TrueNeg_Specificty=tnr, FalseNeg=fnr, PositivePredictiveValue=ppv, NegativePredictiveValue=npv, Accuracy = acc, Error = err)\n",
    "}\n",
    "\n",
    "# clean the data names and data\n",
    "# Use: df<-cleanit(df)\n",
    "cleanit <-function(df){\n",
    "  names(df) <-tolower(names(df))\n",
    "  names(df) <- gsub(\"\\\\(\",\"\",names(df))\n",
    "  names(df) <- gsub(\"\\\\)\",\"\",names(df))\n",
    "  names(df) <- gsub(\"\\\\.\",\"\",names(df))\n",
    "  names(df) <- gsub(\"_\",\"\",names(df))\n",
    "  names(df) <- gsub(\"-\",\"\",names(df))\n",
    "  names(df) <- gsub(\",\",\"\",names(df))\n",
    "  return(df)\n",
    "}\n"
   ]
  },
  {
   "cell_type": "code",
   "execution_count": 8,
   "metadata": {
    "collapsed": false
   },
   "outputs": [],
   "source": [
    "bike <- read.csv(\"D:/Data/BikeData.csv\")"
   ]
  },
  {
   "cell_type": "code",
   "execution_count": 9,
   "metadata": {
    "collapsed": false
   },
   "outputs": [
    {
     "data": {
      "text/plain": [
       "    user_id         age        gender    student          employed     \n",
       " Min.   :  1   Min.   :22.00   F:31   Min.   :0.0000   Min.   :0.0000  \n",
       " 1st Qu.: 31   1st Qu.:29.00   M:90   1st Qu.:0.0000   1st Qu.:1.0000  \n",
       " Median : 61   Median :36.00          Median :0.0000   Median :1.0000  \n",
       " Mean   : 61   Mean   :36.45          Mean   :0.1157   Mean   :0.9008  \n",
       " 3rd Qu.: 91   3rd Qu.:42.00          3rd Qu.:0.0000   3rd Qu.:1.0000  \n",
       " Max.   :121   Max.   :63.00          Max.   :1.0000   Max.   :1.0000  \n",
       "                    cyc_freq     distance           time           speed      \n",
       " Daily                  :47   Min.   : 0.520   Min.   : 3.00   Min.   : 4.29  \n",
       " Less than once a month : 2   1st Qu.: 3.220   1st Qu.:15.00   1st Qu.:11.87  \n",
       " Several times per month:14   Median : 5.590   Median :24.00   Median :13.60  \n",
       " Several times per week :58   Mean   : 5.991   Mean   :25.73   Mean   :14.05  \n",
       "                              3rd Qu.: 8.310   3rd Qu.:37.00   3rd Qu.:15.65  \n",
       "                              Max.   :13.950   Max.   :55.00   Max.   :30.84  "
      ]
     },
     "execution_count": 9,
     "metadata": {},
     "output_type": "execute_result"
    }
   ],
   "source": [
    "summary(bike)"
   ]
  },
  {
   "cell_type": "code",
   "execution_count": 6,
   "metadata": {
    "collapsed": false
   },
   "outputs": [
    {
     "ename": "ERROR",
     "evalue": "Error in library(SDSFoundations): there is no package called 'SDSFoundations'\n",
     "output_type": "error",
     "traceback": [
      "Error in library(SDSFoundations): there is no package called 'SDSFoundations'\n"
     ]
    }
   ],
   "source": [
    "#library(SDSFoundations)"
   ]
  },
  {
   "cell_type": "code",
   "execution_count": 11,
   "metadata": {
    "collapsed": false
   },
   "outputs": [
    {
     "data": {
      "text/html": [
       "<table>\n",
       "<thead><tr><th></th><th scope=col>user_id</th><th scope=col>age</th><th scope=col>gender</th><th scope=col>student</th><th scope=col>employed</th><th scope=col>cyc_freq</th><th scope=col>distance</th><th scope=col>time</th><th scope=col>speed</th></tr></thead>\n",
       "<tbody>\n",
       "\t<tr><th scope=row>1</th><td>1</td><td>28</td><td>M</td><td>1</td><td>1</td><td>Daily</td><td>3.25</td><td>15</td><td>13</td></tr>\n",
       "\t<tr><th scope=row>2</th><td>2</td><td>35</td><td>M</td><td>0</td><td>1</td><td>Daily</td><td>1.11</td><td>5</td><td>13.32</td></tr>\n",
       "\t<tr><th scope=row>3</th><td>3</td><td>28</td><td>M</td><td>0</td><td>1</td><td>Daily</td><td>5.59</td><td>23</td><td>14.58</td></tr>\n",
       "\t<tr><th scope=row>4</th><td>4</td><td>44</td><td>F</td><td>0</td><td>1</td><td>Less than once a month</td><td>3.24</td><td>24</td><td>8.1</td></tr>\n",
       "\t<tr><th scope=row>5</th><td>5</td><td>42</td><td>M</td><td>0</td><td>1</td><td>Several times per week</td><td>7.81</td><td>26</td><td>18.02</td></tr>\n",
       "\t<tr><th scope=row>6</th><td>6</td><td>36</td><td>M</td><td>0</td><td>1</td><td>Several times per week</td><td>3</td><td>20</td><td>9</td></tr>\n",
       "\t<tr><th scope=row>7</th><td>7</td><td>45</td><td>M</td><td>0</td><td>1</td><td>Several times per week</td><td>13.03</td><td>51</td><td>15.33</td></tr>\n",
       "\t<tr><th scope=row>8</th><td>8</td><td>54</td><td>M</td><td>0</td><td>1</td><td>Several times per week</td><td>6.21</td><td>39</td><td>9.55</td></tr>\n",
       "\t<tr><th scope=row>9</th><td>9</td><td>39</td><td>M</td><td>0</td><td>1</td><td>Several times per week</td><td>13.95</td><td>50</td><td>16.74</td></tr>\n",
       "\t<tr><th scope=row>10</th><td>10</td><td>44</td><td>M</td><td>0</td><td>0</td><td>Several times per month</td><td>7.4</td><td>44</td><td>10.09</td></tr>\n",
       "</tbody>\n",
       "</table>\n"
      ],
      "text/latex": [
       "\\begin{tabular}{r|lllllllll}\n",
       "  & user_id & age & gender & student & employed & cyc_freq & distance & time & speed\\\\\n",
       "\\hline\n",
       "\t1 & 1 & 28 & M & 1 & 1 & Daily & 3.25 & 15 & 13\\\\\n",
       "\t2 & 2 & 35 & M & 0 & 1 & Daily & 1.11 & 5 & 13.32\\\\\n",
       "\t3 & 3 & 28 & M & 0 & 1 & Daily & 5.59 & 23 & 14.58\\\\\n",
       "\t4 & 4 & 44 & F & 0 & 1 & Less than once a month & 3.24 & 24 & 8.1\\\\\n",
       "\t5 & 5 & 42 & M & 0 & 1 & Several times per week & 7.81 & 26 & 18.02\\\\\n",
       "\t6 & 6 & 36 & M & 0 & 1 & Several times per week & 3 & 20 & 9\\\\\n",
       "\t7 & 7 & 45 & M & 0 & 1 & Several times per week & 13.03 & 51 & 15.33\\\\\n",
       "\t8 & 8 & 54 & M & 0 & 1 & Several times per week & 6.21 & 39 & 9.55\\\\\n",
       "\t9 & 9 & 39 & M & 0 & 1 & Several times per week & 13.95 & 50 & 16.74\\\\\n",
       "\t10 & 10 & 44 & M & 0 & 0 & Several times per month & 7.4 & 44 & 10.09\\\\\n",
       "\\end{tabular}\n"
      ],
      "text/plain": [
       "   user_id age gender student employed                cyc_freq distance time\n",
       "1        1  28      M       1        1                   Daily     3.25   15\n",
       "2        2  35      M       0        1                   Daily     1.11    5\n",
       "3        3  28      M       0        1                   Daily     5.59   23\n",
       "4        4  44      F       0        1  Less than once a month     3.24   24\n",
       "5        5  42      M       0        1  Several times per week     7.81   26\n",
       "6        6  36      M       0        1  Several times per week     3.00   20\n",
       "7        7  45      M       0        1  Several times per week    13.03   51\n",
       "8        8  54      M       0        1  Several times per week     6.21   39\n",
       "9        9  39      M       0        1  Several times per week    13.95   50\n",
       "10      10  44      M       0        0 Several times per month     7.40   44\n",
       "   speed\n",
       "1  13.00\n",
       "2  13.32\n",
       "3  14.58\n",
       "4   8.10\n",
       "5  18.02\n",
       "6   9.00\n",
       "7  15.33\n",
       "8   9.55\n",
       "9  16.74\n",
       "10 10.09"
      ]
     },
     "execution_count": 11,
     "metadata": {},
     "output_type": "execute_result"
    }
   ],
   "source": [
    "head(bike,10)\n"
   ]
  },
  {
   "cell_type": "code",
   "execution_count": 12,
   "metadata": {
    "collapsed": false
   },
   "outputs": [
    {
     "data": {
      "text/plain": [
       "\n",
       "  0   1 \n",
       "107  14 "
      ]
     },
     "execution_count": 12,
     "metadata": {},
     "output_type": "execute_result"
    },
    {
     "data": {
      "text/plain": [
       "\n",
       "                  Daily  Less than once a month Several times per month \n",
       "                      8                       0                       0 \n",
       " Several times per week \n",
       "                      6 "
      ]
     },
     "execution_count": 12,
     "metadata": {},
     "output_type": "execute_result"
    },
    {
     "data": {
      "text/html": [
       "6.25785714285714"
      ],
      "text/latex": [
       "6.25785714285714"
      ],
      "text/markdown": [
       "6.25785714285714"
      ],
      "text/plain": [
       "[1] 6.257857"
      ]
     },
     "execution_count": 12,
     "metadata": {},
     "output_type": "execute_result"
    }
   ],
   "source": [
    "# Find the number of students in the dataset\n",
    "table(bike$student)\n",
    "\n",
    "# Pull out student data into a new dataframe\n",
    "student <-bike[bike$student==1,]\n",
    "\n",
    "# Find how often the students ride, using the new dataframe\n",
    "table(student$cyc_freq)\n",
    "\n",
    "# Create a vector for the distance variable\n",
    "distance <-student$distance\n",
    "\n",
    "# Find average distance ridden\n",
    "mean(distance)"
   ]
  },
  {
   "cell_type": "code",
   "execution_count": 15,
   "metadata": {
    "collapsed": false
   },
   "outputs": [
    {
     "data": {
      "text/html": [
       "<ol class=list-inline>\n",
       "\t<li>15</li>\n",
       "\t<li>5</li>\n",
       "\t<li>23</li>\n",
       "\t<li>24</li>\n",
       "\t<li>26</li>\n",
       "\t<li>20</li>\n",
       "\t<li>51</li>\n",
       "\t<li>39</li>\n",
       "\t<li>50</li>\n",
       "\t<li>44</li>\n",
       "\t<li>20</li>\n",
       "\t<li>27</li>\n",
       "\t<li>23</li>\n",
       "\t<li>15</li>\n",
       "\t<li>34</li>\n",
       "\t<li>40</li>\n",
       "\t<li>45</li>\n",
       "\t<li>40</li>\n",
       "\t<li>28</li>\n",
       "\t<li>12</li>\n",
       "\t<li>21</li>\n",
       "\t<li>21</li>\n",
       "\t<li>17</li>\n",
       "\t<li>19</li>\n",
       "\t<li>10</li>\n",
       "\t<li>31</li>\n",
       "\t<li>6</li>\n",
       "\t<li>26</li>\n",
       "\t<li>22</li>\n",
       "\t<li>32</li>\n",
       "\t<li>6</li>\n",
       "\t<li>21</li>\n",
       "\t<li>50</li>\n",
       "\t<li>35</li>\n",
       "\t<li>5</li>\n",
       "\t<li>20</li>\n",
       "\t<li>7</li>\n",
       "\t<li>35</li>\n",
       "\t<li>25</li>\n",
       "\t<li>15</li>\n",
       "\t<li>11</li>\n",
       "\t<li>38</li>\n",
       "\t<li>18</li>\n",
       "\t<li>22</li>\n",
       "\t<li>23</li>\n",
       "\t<li>36</li>\n",
       "\t<li>18</li>\n",
       "\t<li>19</li>\n",
       "\t<li>41</li>\n",
       "\t<li>26</li>\n",
       "\t<li>25</li>\n",
       "\t<li>4</li>\n",
       "\t<li>9</li>\n",
       "\t<li>34</li>\n",
       "\t<li>14</li>\n",
       "\t<li>23</li>\n",
       "\t<li>18</li>\n",
       "\t<li>16</li>\n",
       "\t<li>22</li>\n",
       "\t<li>12</li>\n",
       "\t<li>51</li>\n",
       "\t<li>38</li>\n",
       "\t<li>5</li>\n",
       "\t<li>43</li>\n",
       "\t<li>8</li>\n",
       "\t<li>35</li>\n",
       "\t<li>15</li>\n",
       "\t<li>14</li>\n",
       "\t<li>31</li>\n",
       "\t<li>55</li>\n",
       "\t<li>23</li>\n",
       "\t<li>36</li>\n",
       "\t<li>37</li>\n",
       "\t<li>41</li>\n",
       "\t<li>21</li>\n",
       "\t<li>24</li>\n",
       "\t<li>40</li>\n",
       "\t<li>17</li>\n",
       "\t<li>31</li>\n",
       "\t<li>37</li>\n",
       "\t<li>28</li>\n",
       "\t<li>10</li>\n",
       "\t<li>11</li>\n",
       "\t<li>35</li>\n",
       "\t<li>10</li>\n",
       "\t<li>4</li>\n",
       "\t<li>38</li>\n",
       "\t<li>29</li>\n",
       "\t<li>21</li>\n",
       "\t<li>16</li>\n",
       "\t<li>13</li>\n",
       "\t<li>5</li>\n",
       "\t<li>3</li>\n",
       "\t<li>14</li>\n",
       "\t<li>21</li>\n",
       "\t<li>49</li>\n",
       "\t<li>15</li>\n",
       "\t<li>12</li>\n",
       "\t<li>45</li>\n",
       "\t<li>15</li>\n",
       "\t<li>50</li>\n",
       "\t<li>32</li>\n",
       "\t<li>37</li>\n",
       "\t<li>41</li>\n",
       "\t<li>6</li>\n",
       "\t<li>43</li>\n",
       "\t<li>41</li>\n",
       "\t<li>35</li>\n",
       "\t<li>27</li>\n",
       "\t<li>27</li>\n",
       "\t<li>26</li>\n",
       "\t<li>36</li>\n",
       "\t<li>4</li>\n",
       "\t<li>25</li>\n",
       "\t<li>42</li>\n",
       "\t<li>14</li>\n",
       "\t<li>40</li>\n",
       "\t<li>42</li>\n",
       "\t<li>48</li>\n",
       "\t<li>26</li>\n",
       "\t<li>41</li>\n",
       "</ol>\n"
      ],
      "text/latex": [
       "\\begin{enumerate*}\n",
       "\\item 15\n",
       "\\item 5\n",
       "\\item 23\n",
       "\\item 24\n",
       "\\item 26\n",
       "\\item 20\n",
       "\\item 51\n",
       "\\item 39\n",
       "\\item 50\n",
       "\\item 44\n",
       "\\item 20\n",
       "\\item 27\n",
       "\\item 23\n",
       "\\item 15\n",
       "\\item 34\n",
       "\\item 40\n",
       "\\item 45\n",
       "\\item 40\n",
       "\\item 28\n",
       "\\item 12\n",
       "\\item 21\n",
       "\\item 21\n",
       "\\item 17\n",
       "\\item 19\n",
       "\\item 10\n",
       "\\item 31\n",
       "\\item 6\n",
       "\\item 26\n",
       "\\item 22\n",
       "\\item 32\n",
       "\\item 6\n",
       "\\item 21\n",
       "\\item 50\n",
       "\\item 35\n",
       "\\item 5\n",
       "\\item 20\n",
       "\\item 7\n",
       "\\item 35\n",
       "\\item 25\n",
       "\\item 15\n",
       "\\item 11\n",
       "\\item 38\n",
       "\\item 18\n",
       "\\item 22\n",
       "\\item 23\n",
       "\\item 36\n",
       "\\item 18\n",
       "\\item 19\n",
       "\\item 41\n",
       "\\item 26\n",
       "\\item 25\n",
       "\\item 4\n",
       "\\item 9\n",
       "\\item 34\n",
       "\\item 14\n",
       "\\item 23\n",
       "\\item 18\n",
       "\\item 16\n",
       "\\item 22\n",
       "\\item 12\n",
       "\\item 51\n",
       "\\item 38\n",
       "\\item 5\n",
       "\\item 43\n",
       "\\item 8\n",
       "\\item 35\n",
       "\\item 15\n",
       "\\item 14\n",
       "\\item 31\n",
       "\\item 55\n",
       "\\item 23\n",
       "\\item 36\n",
       "\\item 37\n",
       "\\item 41\n",
       "\\item 21\n",
       "\\item 24\n",
       "\\item 40\n",
       "\\item 17\n",
       "\\item 31\n",
       "\\item 37\n",
       "\\item 28\n",
       "\\item 10\n",
       "\\item 11\n",
       "\\item 35\n",
       "\\item 10\n",
       "\\item 4\n",
       "\\item 38\n",
       "\\item 29\n",
       "\\item 21\n",
       "\\item 16\n",
       "\\item 13\n",
       "\\item 5\n",
       "\\item 3\n",
       "\\item 14\n",
       "\\item 21\n",
       "\\item 49\n",
       "\\item 15\n",
       "\\item 12\n",
       "\\item 45\n",
       "\\item 15\n",
       "\\item 50\n",
       "\\item 32\n",
       "\\item 37\n",
       "\\item 41\n",
       "\\item 6\n",
       "\\item 43\n",
       "\\item 41\n",
       "\\item 35\n",
       "\\item 27\n",
       "\\item 27\n",
       "\\item 26\n",
       "\\item 36\n",
       "\\item 4\n",
       "\\item 25\n",
       "\\item 42\n",
       "\\item 14\n",
       "\\item 40\n",
       "\\item 42\n",
       "\\item 48\n",
       "\\item 26\n",
       "\\item 41\n",
       "\\end{enumerate*}\n"
      ],
      "text/markdown": [
       "1. 15\n",
       "2. 5\n",
       "3. 23\n",
       "4. 24\n",
       "5. 26\n",
       "6. 20\n",
       "7. 51\n",
       "8. 39\n",
       "9. 50\n",
       "10. 44\n",
       "11. 20\n",
       "12. 27\n",
       "13. 23\n",
       "14. 15\n",
       "15. 34\n",
       "16. 40\n",
       "17. 45\n",
       "18. 40\n",
       "19. 28\n",
       "20. 12\n",
       "21. 21\n",
       "22. 21\n",
       "23. 17\n",
       "24. 19\n",
       "25. 10\n",
       "26. 31\n",
       "27. 6\n",
       "28. 26\n",
       "29. 22\n",
       "30. 32\n",
       "31. 6\n",
       "32. 21\n",
       "33. 50\n",
       "34. 35\n",
       "35. 5\n",
       "36. 20\n",
       "37. 7\n",
       "38. 35\n",
       "39. 25\n",
       "40. 15\n",
       "41. 11\n",
       "42. 38\n",
       "43. 18\n",
       "44. 22\n",
       "45. 23\n",
       "46. 36\n",
       "47. 18\n",
       "48. 19\n",
       "49. 41\n",
       "50. 26\n",
       "51. 25\n",
       "52. 4\n",
       "53. 9\n",
       "54. 34\n",
       "55. 14\n",
       "56. 23\n",
       "57. 18\n",
       "58. 16\n",
       "59. 22\n",
       "60. 12\n",
       "61. 51\n",
       "62. 38\n",
       "63. 5\n",
       "64. 43\n",
       "65. 8\n",
       "66. 35\n",
       "67. 15\n",
       "68. 14\n",
       "69. 31\n",
       "70. 55\n",
       "71. 23\n",
       "72. 36\n",
       "73. 37\n",
       "74. 41\n",
       "75. 21\n",
       "76. 24\n",
       "77. 40\n",
       "78. 17\n",
       "79. 31\n",
       "80. 37\n",
       "81. 28\n",
       "82. 10\n",
       "83. 11\n",
       "84. 35\n",
       "85. 10\n",
       "86. 4\n",
       "87. 38\n",
       "88. 29\n",
       "89. 21\n",
       "90. 16\n",
       "91. 13\n",
       "92. 5\n",
       "93. 3\n",
       "94. 14\n",
       "95. 21\n",
       "96. 49\n",
       "97. 15\n",
       "98. 12\n",
       "99. 45\n",
       "100. 15\n",
       "101. 50\n",
       "102. 32\n",
       "103. 37\n",
       "104. 41\n",
       "105. 6\n",
       "106. 43\n",
       "107. 41\n",
       "108. 35\n",
       "109. 27\n",
       "110. 27\n",
       "111. 26\n",
       "112. 36\n",
       "113. 4\n",
       "114. 25\n",
       "115. 42\n",
       "116. 14\n",
       "117. 40\n",
       "118. 42\n",
       "119. 48\n",
       "120. 26\n",
       "121. 41\n",
       "\n",
       "\n"
      ],
      "text/plain": [
       "  [1] 15  5 23 24 26 20 51 39 50 44 20 27 23 15 34 40 45 40 28 12 21 21 17 19 10\n",
       " [26] 31  6 26 22 32  6 21 50 35  5 20  7 35 25 15 11 38 18 22 23 36 18 19 41 26\n",
       " [51] 25  4  9 34 14 23 18 16 22 12 51 38  5 43  8 35 15 14 31 55 23 36 37 41 21\n",
       " [76] 24 40 17 31 37 28 10 11 35 10  4 38 29 21 16 13  5  3 14 21 49 15 12 45 15\n",
       "[101] 50 32 37 41  6 43 41 35 27 27 26 36  4 25 42 14 40 42 48 26 41"
      ]
     },
     "execution_count": 15,
     "metadata": {},
     "output_type": "execute_result"
    }
   ],
   "source": [
    "#Read in the dataset and name it bike\n",
    "#bike<-BikeData\n",
    "#Create a vector of the times\n",
    "rider_times<-bike$time\n",
    "#Check the contents of our rider_times vector\n",
    "rider_times"
   ]
  },
  {
   "cell_type": "code",
   "execution_count": 16,
   "metadata": {
    "collapsed": false
   },
   "outputs": [
    {
     "data": {
      "text/plain": [
       "\n",
       "  0   1 \n",
       "107  14 "
      ]
     },
     "execution_count": 16,
     "metadata": {},
     "output_type": "execute_result"
    },
    {
     "data": {
      "text/plain": [
       "\n",
       "                  Daily  Less than once a month Several times per month \n",
       "                      8                       0                       0 \n",
       " Several times per week \n",
       "                      6 "
      ]
     },
     "execution_count": 16,
     "metadata": {},
     "output_type": "execute_result"
    },
    {
     "data": {
      "text/html": [
       "6.25785714285714"
      ],
      "text/latex": [
       "6.25785714285714"
      ],
      "text/markdown": [
       "6.25785714285714"
      ],
      "text/plain": [
       "[1] 6.257857"
      ]
     },
     "execution_count": 16,
     "metadata": {},
     "output_type": "execute_result"
    }
   ],
   "source": [
    "# Find the number of students in the dataset\n",
    "table(bike$student)\n",
    "\n",
    "# Pull out student data into a new dataframe\n",
    "student <-bike[bike$student==1,]\n",
    "\n",
    "# Find how often the students ride, using the new dataframe\n",
    "table(student$cyc_freq)\n",
    "\n",
    "# Create a vector for the distance variable\n",
    "distance <-student$distance\n",
    "\n",
    "# Find average distance ridden\n",
    "mean(distance)"
   ]
  },
  {
   "cell_type": "code",
   "execution_count": 19,
   "metadata": {
    "collapsed": false
   },
   "outputs": [
    {
     "name": "stdout",
     "output_type": "stream",
     "text": [
      "'data.frame':\t121 obs. of  9 variables:\n",
      " $ user_id : int  1 2 3 4 5 6 7 8 9 10 ...\n",
      " $ age     : int  28 35 28 44 42 36 45 54 39 44 ...\n",
      " $ gender  : Factor w/ 2 levels \"F\",\"M\": 2 2 2 1 2 2 2 2 2 2 ...\n",
      " $ student : int  1 0 0 0 0 0 0 0 0 0 ...\n",
      " $ employed: int  1 1 1 1 1 1 1 1 1 0 ...\n",
      " $ cyc_freq: Factor w/ 4 levels \"Daily\",\"Less than once a month\",..: 1 1 1 2 4 4 4 4 4 3 ...\n",
      " $ distance: num  3.25 1.11 5.59 3.24 7.81 ...\n",
      " $ time    : int  15 5 23 24 26 20 51 39 50 44 ...\n",
      " $ speed   : num  13 13.3 14.6 8.1 18 ...\n"
     ]
    }
   ],
   "source": [
    "str(bike)"
   ]
  },
  {
   "cell_type": "code",
   "execution_count": 26,
   "metadata": {
    "collapsed": false
   },
   "outputs": [
    {
     "data": {
      "text/plain": [
       "\n",
       "                  Daily  Less than once a month Several times per month \n",
       "                     47                       2                      14 \n",
       " Several times per week \n",
       "                     58 "
      ]
     },
     "execution_count": 26,
     "metadata": {},
     "output_type": "execute_result"
    },
    {
     "data": {
      "text/plain": [
       "\n",
       " F  M \n",
       " 9 38 "
      ]
     },
     "execution_count": 26,
     "metadata": {},
     "output_type": "execute_result"
    },
    {
     "data": {
      "text/plain": [
       "\n",
       "22 23 24 25 26 27 28 29 30 32 33 34 35 36 37 38 39 41 42 43 44 46 51 54 \n",
       " 1  1  1  2  3  2  3  4  2  4  2  3  2  4  2  1  1  1  1  2  1  2  1  1 "
      ]
     },
     "execution_count": 26,
     "metadata": {},
     "output_type": "execute_result"
    },
    {
     "data": {
      "text/html": [
       "<table>\n",
       "<thead><tr><th></th><th scope=col>gender</th><th scope=col>age</th></tr></thead>\n",
       "<tbody>\n",
       "\t<tr><th scope=row>1</th><td>F</td><td>32.55556</td></tr>\n",
       "\t<tr><th scope=row>2</th><td>M</td><td>33.92105</td></tr>\n",
       "</tbody>\n",
       "</table>\n"
      ],
      "text/latex": [
       "\\begin{tabular}{r|ll}\n",
       "  & gender & age\\\\\n",
       "\\hline\n",
       "\t1 & F & 32.55556\\\\\n",
       "\t2 & M & 33.92105\\\\\n",
       "\\end{tabular}\n"
      ],
      "text/plain": [
       "  gender      age\n",
       "1      F 32.55556\n",
       "2      M 33.92105"
      ]
     },
     "execution_count": 26,
     "metadata": {},
     "output_type": "execute_result"
    }
   ],
   "source": [
    "# Find the number of students in the dataset\n",
    "table(bike$cyc_freq)\n",
    "\n",
    "# Pull out student data into a new dataframe\n",
    "student <-bike[bike$cyc_freq==\"Daily\",]\n",
    "\n",
    "# Find how often the students ride, using the new dataframe\n",
    "table(student$gender)\n",
    "\n",
    "# Create a vector for the distance variable\n",
    "distance <-student$distance\n",
    "\n",
    "# Find average distance ridden\n",
    "table(student$age)\n",
    "\n",
    "aggregate(age~gender, student, mean )"
   ]
  },
  {
   "cell_type": "code",
   "execution_count": 28,
   "metadata": {
    "collapsed": false
   },
   "outputs": [],
   "source": [
    "thirty <- student[student$age >= 30,]"
   ]
  },
  {
   "cell_type": "code",
   "execution_count": 30,
   "metadata": {
    "collapsed": false
   },
   "outputs": [
    {
     "data": {
      "text/plain": [
       "\n",
       " F  M \n",
       " 5 25 "
      ]
     },
     "execution_count": 30,
     "metadata": {},
     "output_type": "execute_result"
    }
   ],
   "source": [
    "table(thirty$gender)"
   ]
  },
  {
   "cell_type": "code",
   "execution_count": 31,
   "metadata": {
    "collapsed": false
   },
   "outputs": [
    {
     "data": {
      "text/html": [
       "33.6595744680851"
      ],
      "text/latex": [
       "33.6595744680851"
      ],
      "text/markdown": [
       "33.6595744680851"
      ],
      "text/plain": [
       "[1] 33.65957"
      ]
     },
     "execution_count": 31,
     "metadata": {},
     "output_type": "execute_result"
    }
   ],
   "source": [
    "mean(student$age)"
   ]
  },
  {
   "cell_type": "code",
   "execution_count": null,
   "metadata": {
    "collapsed": true
   },
   "outputs": [],
   "source": []
  }
 ],
 "metadata": {
  "kernelspec": {
   "display_name": "R",
   "language": "R",
   "name": "ir"
  },
  "language_info": {
   "codemirror_mode": "r",
   "file_extension": ".r",
   "mimetype": "text/x-r-source",
   "name": "R",
   "pygments_lexer": "r",
   "version": "3.1.3"
  }
 },
 "nbformat": 4,
 "nbformat_minor": 0
}
