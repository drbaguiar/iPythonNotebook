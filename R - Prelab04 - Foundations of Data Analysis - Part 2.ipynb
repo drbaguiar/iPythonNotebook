{
 "cells": [
  {
   "cell_type": "code",
   "execution_count": 61,
   "metadata": {
    "collapsed": false
   },
   "outputs": [
    {
     "data": {
      "text/html": [
       "\"LC_COLLATE=English_United States.1252;LC_CTYPE=English_United States.1252;LC_MONETARY=English_United States.1252;LC_NUMERIC=C;LC_TIME=English_United States.1252\""
      ],
      "text/latex": [
       "\"LC_COLLATE=English_United States.1252;LC_CTYPE=English_United States.1252;LC_MONETARY=English_United States.1252;LC_NUMERIC=C;LC_TIME=English_United States.1252\""
      ],
      "text/markdown": [
       "\"LC_COLLATE=English_United States.1252;LC_CTYPE=English_United States.1252;LC_MONETARY=English_United States.1252;LC_NUMERIC=C;LC_TIME=English_United States.1252\""
      ],
      "text/plain": [
       "[1] \"LC_COLLATE=English_United States.1252;LC_CTYPE=English_United States.1252;LC_MONETARY=English_United States.1252;LC_NUMERIC=C;LC_TIME=English_United States.1252\""
      ]
     },
     "execution_count": 61,
     "metadata": {},
     "output_type": "execute_result"
    }
   ],
   "source": [
    "##Clear the environment\n",
    "rm(list=ls())\n",
    "\n",
    "##Turn off scientific notations for numbers\n",
    "options(scipen = 999)  \n",
    "\n",
    "##Set locale\n",
    "Sys.setlocale(\"LC_ALL\", \"English\") \n",
    "\n",
    "##Set seed for reproducibility\n",
    "set.seed(2345)\n",
    "\n",
    "# Turn off warnings\n",
    "options(warn = -1)\n",
    "\n",
    "getstats <- function(cm){\n",
    "  # Sensititvity a.k.a TPR\n",
    "  tpr <-cm[2,2]/(cm[2,2]+cm[2,1])\n",
    "  fpr <-cm[1,2]/(cm[1,2]+cm[1,1])\n",
    "  \n",
    "  # Specificity a.k.a. TNR\n",
    "  tnr <- cm[1,1]/(cm[1,1]+cm[1,2])\n",
    "  fnr <- cm[2,1]/(cm[2,1]+cm[2,2])\n",
    "  \n",
    "  # Calculate accuracy\n",
    "  acc <-(cm[2,2]+cm[1,1])/sum(cm)\n",
    "  err <-(cm[1,2]+cm[2,1])/sum(cm)\n",
    "  \n",
    "  #Precision - Positive Predictive Value\n",
    "  ppv <- cm[2,2]/(cm[2,2]+cm[1,2])\n",
    "  \n",
    "  # Negative Predictive Value\n",
    "  npv <- cm[1,1]/(cm[1,1]+cm[2,1])\n",
    "  \n",
    "  rbind(TruePos_Sensitivity=tpr, FalsePos=fpr, TrueNeg_Specificty=tnr, FalseNeg=fnr, PositivePredictiveValue=ppv, NegativePredictiveValue=npv, Accuracy = acc, Error = err)\n",
    "}\n",
    "\n",
    "# clean the data names and data\n",
    "# Use: df<-cleanit(df)\n",
    "cleanit <-function(df){\n",
    "  names(df) <-tolower(names(df))\n",
    "  names(df) <- gsub(\"\\\\(\",\"\",names(df))\n",
    "  names(df) <- gsub(\"\\\\)\",\"\",names(df))\n",
    "  names(df) <- gsub(\"\\\\.\",\"\",names(df))\n",
    "  names(df) <- gsub(\"_\",\"\",names(df))\n",
    "  names(df) <- gsub(\"-\",\"\",names(df))\n",
    "  names(df) <- gsub(\",\",\"\",names(df))\n",
    "  return(df)\n",
    "}\n"
   ]
  },
  {
   "cell_type": "code",
   "execution_count": 62,
   "metadata": {
    "collapsed": true
   },
   "outputs": [],
   "source": [
    "acl <- read.csv(\"D:/Data/AustinCityLimits.csv\")"
   ]
  },
  {
   "cell_type": "code",
   "execution_count": 63,
   "metadata": {
    "collapsed": false
   },
   "outputs": [
    {
     "name": "stdout",
     "output_type": "stream",
     "text": [
      "'data.frame':\t116 obs. of  14 variables:\n",
      " $ Artist       : Factor w/ 116 levels \"Aimee Mann\",\"Alabama Shakes\",..: 1 2 3 4 5 6 7 8 9 10 ...\n",
      " $ Year         : int  2008 2013 2009 2009 2007 2009 2010 2009 2003 2008 ...\n",
      " $ Month        : Factor w/ 6 levels \"December\",\"February\",..: 4 2 3 5 4 4 3 4 3 5 ...\n",
      " $ Season       : Factor w/ 2 levels \"fall\",\"winter\": 1 2 2 1 1 1 2 1 2 1 ...\n",
      " $ Gender       : Factor w/ 2 levels \"F\",\"M\": 1 1 2 2 1 2 2 2 2 1 ...\n",
      " $ Age          : int  52 24 75 39 33 62 37 35 43 67 ...\n",
      " $ Age.Group    : Factor w/ 4 levels \"Fifties or Older\",..: 1 4 1 3 3 1 3 3 2 1 ...\n",
      " $ Grammy       : Factor w/ 2 levels \"N\",\"Y\": 2 1 1 1 2 2 1 1 2 1 ...\n",
      " $ Genre        : Factor w/ 4 levels \"Country\",\"Jazz/Blues\",..: 4 3 2 3 3 1 3 3 3 2 ...\n",
      " $ BB.wk.top10  : int  0 1 NA 1 1 0 1 NA 1 0 ...\n",
      " $ Twitter      : int  101870 73313 308634 56343 404439 3326 125758 8197 158647 690 ...\n",
      " $ Twitter.100k : int  1 0 1 0 1 0 1 0 1 0 ...\n",
      " $ Facebook     : int  113576 298278 10721 318313 1711685 27321 563505 18955 1381051 1715 ...\n",
      " $ Facebook.100k: int  1 1 0 1 1 0 1 0 1 0 ...\n"
     ]
    }
   ],
   "source": [
    "str(acl)"
   ]
  },
  {
   "cell_type": "code",
   "execution_count": 64,
   "metadata": {
    "collapsed": false
   },
   "outputs": [
    {
     "data": {
      "text/html": [
       "<table>\n",
       "<thead><tr><th></th><th scope=col>Artist</th><th scope=col>Year</th><th scope=col>Month</th><th scope=col>Season</th><th scope=col>Gender</th><th scope=col>Age</th><th scope=col>Age.Group</th><th scope=col>Grammy</th><th scope=col>Genre</th><th scope=col>BB.wk.top10</th><th scope=col>Twitter</th><th scope=col>Twitter.100k</th><th scope=col>Facebook</th><th scope=col>Facebook.100k</th></tr></thead>\n",
       "<tbody>\n",
       "\t<tr><th scope=row>3</th><td>Allen Toussaint</td><td>2009</td><td>January</td><td>winter</td><td>M</td><td>75</td><td>Fifties or Older</td><td>N</td><td>Jazz/Blues</td><td>NA</td><td>308634</td><td>1</td><td>10721</td><td>0</td></tr>\n",
       "</tbody>\n",
       "</table>\n"
      ],
      "text/latex": [
       "\\begin{tabular}{r|llllllllllllll}\n",
       "  & Artist & Year & Month & Season & Gender & Age & Age.Group & Grammy & Genre & BB.wk.top10 & Twitter & Twitter.100k & Facebook & Facebook.100k\\\\\n",
       "\\hline\n",
       "\t3 & Allen Toussaint & 2009 & January & winter & M & 75 & Fifties or Older & N & Jazz/Blues & NA & 308634 & 1 & 10721 & 0\\\\\n",
       "\\end{tabular}\n"
      ],
      "text/plain": [
       "           Artist Year   Month Season Gender Age        Age.Group Grammy\n",
       "3 Allen Toussaint 2009 January winter      M  75 Fifties or Older      N\n",
       "       Genre BB.wk.top10 Twitter Twitter.100k Facebook Facebook.100k\n",
       "3 Jazz/Blues          NA  308634            1    10721             0"
      ]
     },
     "execution_count": 64,
     "metadata": {},
     "output_type": "execute_result"
    }
   ],
   "source": [
    "acl[acl$Artist==\"Allen Toussaint\",]"
   ]
  },
  {
   "cell_type": "code",
   "execution_count": 65,
   "metadata": {
    "collapsed": false
   },
   "outputs": [
    {
     "data": {
      "text/html": [
       "<table>\n",
       "<thead><tr><th></th><th scope=col>Artist</th><th scope=col>Year</th><th scope=col>Month</th><th scope=col>Season</th><th scope=col>Gender</th><th scope=col>Age</th><th scope=col>Age.Group</th><th scope=col>Grammy</th><th scope=col>Genre</th><th scope=col>BB.wk.top10</th><th scope=col>Twitter</th><th scope=col>Twitter.100k</th><th scope=col>Facebook</th><th scope=col>Facebook.100k</th></tr></thead>\n",
       "<tbody>\n",
       "\t<tr><th scope=row>1</th><td>Aimee Mann</td><td>2008</td><td>November</td><td>fall</td><td>F</td><td>52</td><td>Fifties or Older</td><td>Y</td><td>Singer-Songwriter</td><td>0</td><td>101870</td><td>1</td><td>113576</td><td>1</td></tr>\n",
       "\t<tr><th scope=row>2</th><td>Alabama Shakes</td><td>2013</td><td>February</td><td>winter</td><td>F</td><td>24</td><td>Twenties</td><td>N</td><td>Rock/Folk/Indie</td><td>1</td><td>73313</td><td>0</td><td>298278</td><td>1</td></tr>\n",
       "\t<tr><th scope=row>3</th><td>Allen Toussaint</td><td>2009</td><td>January</td><td>winter</td><td>M</td><td>75</td><td>Fifties or Older</td><td>N</td><td>Jazz/Blues</td><td>NA</td><td>308634</td><td>1</td><td>10721</td><td>0</td></tr>\n",
       "\t<tr><th scope=row>4</th><td>Andrew Bird</td><td>2009</td><td>October</td><td>fall</td><td>M</td><td>39</td><td>Thirties</td><td>N</td><td>Rock/Folk/Indie</td><td>1</td><td>56343</td><td>0</td><td>318313</td><td>1</td></tr>\n",
       "\t<tr><th scope=row>5</th><td>Arcade Fire</td><td>2007</td><td>November</td><td>fall</td><td>F</td><td>33</td><td>Thirties</td><td>Y</td><td>Rock/Folk/Indie</td><td>1</td><td>404439</td><td>1</td><td>1711685</td><td>1</td></tr>\n",
       "\t<tr><th scope=row>6</th><td>Asleep at the Wheel</td><td>2009</td><td>November</td><td>fall</td><td>M</td><td>62</td><td>Fifties or Older</td><td>Y</td><td>Country</td><td>0</td><td>3326</td><td>0</td><td>27321</td><td>0</td></tr>\n",
       "</tbody>\n",
       "</table>\n"
      ],
      "text/latex": [
       "\\begin{tabular}{r|llllllllllllll}\n",
       "  & Artist & Year & Month & Season & Gender & Age & Age.Group & Grammy & Genre & BB.wk.top10 & Twitter & Twitter.100k & Facebook & Facebook.100k\\\\\n",
       "\\hline\n",
       "\t1 & Aimee Mann & 2008 & November & fall & F & 52 & Fifties or Older & Y & Singer-Songwriter & 0 & 101870 & 1 & 113576 & 1\\\\\n",
       "\t2 & Alabama Shakes & 2013 & February & winter & F & 24 & Twenties & N & Rock/Folk/Indie & 1 & 73313 & 0 & 298278 & 1\\\\\n",
       "\t3 & Allen Toussaint & 2009 & January & winter & M & 75 & Fifties or Older & N & Jazz/Blues & NA & 308634 & 1 & 10721 & 0\\\\\n",
       "\t4 & Andrew Bird & 2009 & October & fall & M & 39 & Thirties & N & Rock/Folk/Indie & 1 & 56343 & 0 & 318313 & 1\\\\\n",
       "\t5 & Arcade Fire & 2007 & November & fall & F & 33 & Thirties & Y & Rock/Folk/Indie & 1 & 404439 & 1 & 1711685 & 1\\\\\n",
       "\t6 & Asleep at the Wheel & 2009 & November & fall & M & 62 & Fifties or Older & Y & Country & 0 & 3326 & 0 & 27321 & 0\\\\\n",
       "\\end{tabular}\n"
      ],
      "text/plain": [
       "               Artist Year    Month Season Gender Age        Age.Group Grammy\n",
       "1          Aimee Mann 2008 November   fall      F  52 Fifties or Older      Y\n",
       "2      Alabama Shakes 2013 February winter      F  24         Twenties      N\n",
       "3     Allen Toussaint 2009  January winter      M  75 Fifties or Older      N\n",
       "4         Andrew Bird 2009  October   fall      M  39         Thirties      N\n",
       "5         Arcade Fire 2007 November   fall      F  33         Thirties      Y\n",
       "6 Asleep at the Wheel 2009 November   fall      M  62 Fifties or Older      Y\n",
       "              Genre BB.wk.top10 Twitter Twitter.100k Facebook Facebook.100k\n",
       "1 Singer-Songwriter           0  101870            1   113576             1\n",
       "2   Rock/Folk/Indie           1   73313            0   298278             1\n",
       "3        Jazz/Blues          NA  308634            1    10721             0\n",
       "4   Rock/Folk/Indie           1   56343            0   318313             1\n",
       "5   Rock/Folk/Indie           1  404439            1  1711685             1\n",
       "6           Country           0    3326            0    27321             0"
      ]
     },
     "execution_count": 65,
     "metadata": {},
     "output_type": "execute_result"
    }
   ],
   "source": [
    "head(acl)"
   ]
  },
  {
   "cell_type": "markdown",
   "metadata": {},
   "source": [
    "Primary Research Questions\n",
    "1. Are there an equal number of male and female performers on Austin City Limits?\n",
    "2. Are male performers just as likely to have had a Top 10 hit as female performers?"
   ]
  },
  {
   "cell_type": "code",
   "execution_count": 66,
   "metadata": {
    "collapsed": false
   },
   "outputs": [
    {
     "data": {
      "text/plain": [
       "\n",
       " F  M \n",
       "35 81 "
      ]
     },
     "execution_count": 66,
     "metadata": {},
     "output_type": "execute_result"
    }
   ],
   "source": [
    "# Create a table of counts for Gender\n",
    "gender_tab <-table(acl$Gender)\n",
    "gender_tab"
   ]
  },
  {
   "cell_type": "code",
   "execution_count": 67,
   "metadata": {
    "collapsed": true
   },
   "outputs": [],
   "source": [
    "# Create vector of expected proportions\n",
    "ExpGender <- c(.50, .50)"
   ]
  },
  {
   "cell_type": "code",
   "execution_count": 68,
   "metadata": {
    "collapsed": false
   },
   "outputs": [
    {
     "data": {
      "text/html": [
       "<dl class=dl-horizontal>\n",
       "\t<dt>F</dt>\n",
       "\t\t<dd>58</dd>\n",
       "\t<dt>M</dt>\n",
       "\t\t<dd>58</dd>\n",
       "</dl>\n"
      ],
      "text/latex": [
       "\\begin{description*}\n",
       "\\item[F] 58\n",
       "\\item[M] 58\n",
       "\\end{description*}\n"
      ],
      "text/markdown": [
       "F\n",
       ":   58M\n",
       ":   58\n",
       "\n"
      ],
      "text/plain": [
       " F  M \n",
       "58 58 "
      ]
     },
     "execution_count": 68,
     "metadata": {},
     "output_type": "execute_result"
    }
   ],
   "source": [
    "# Check expected counts assumption\n",
    "chisq.test(gender_tab, p=ExpGender)$expected"
   ]
  },
  {
   "cell_type": "code",
   "execution_count": 69,
   "metadata": {
    "collapsed": false
   },
   "outputs": [
    {
     "data": {
      "text/plain": [
       "\n",
       "\tChi-squared test for given probabilities\n",
       "\n",
       "data:  gender_tab\n",
       "X-squared = 18.2414, df = 1, p-value = 0.00001946\n"
      ]
     },
     "execution_count": 69,
     "metadata": {},
     "output_type": "execute_result"
    }
   ],
   "source": [
    "# Run goodness of fit\n",
    "chisq.test(gender_tab, p=ExpGender)"
   ]
  },
  {
   "cell_type": "code",
   "execution_count": 70,
   "metadata": {
    "collapsed": false
   },
   "outputs": [
    {
     "data": {
      "text/plain": [
       "   \n",
       "     0  1\n",
       "  F 15 18\n",
       "  M 38 32"
      ]
     },
     "execution_count": 70,
     "metadata": {},
     "output_type": "execute_result"
    }
   ],
   "source": [
    "# Create two-way table\n",
    "gender_top10 <-table(acl$Gender, acl$BB.wk.top10)\n",
    "gender_top10"
   ]
  },
  {
   "cell_type": "code",
   "execution_count": 71,
   "metadata": {
    "collapsed": false
   },
   "outputs": [
    {
     "data": {
      "text/html": [
       "<table>\n",
       "<thead><tr><th></th><th scope=col>0</th><th scope=col>1</th></tr></thead>\n",
       "<tbody>\n",
       "\t<tr><th scope=row>F</th><td>16.98058</td><td>16.01942</td></tr>\n",
       "\t<tr><th scope=row>M</th><td>36.01942</td><td>33.98058</td></tr>\n",
       "</tbody>\n",
       "</table>\n"
      ],
      "text/latex": [
       "\\begin{tabular}{r|ll}\n",
       "  & 0 & 1\\\\\n",
       "\\hline\n",
       "\tF & 16.98058 & 16.01942\\\\\n",
       "\tM & 36.01942 & 33.98058\\\\\n",
       "\\end{tabular}\n"
      ],
      "text/markdown": [
       "1. 16.9805825242718\n",
       "2. 36.0194174757282\n",
       "3. 16.0194174757282\n",
       "4. 33.9805825242718\n",
       "\n",
       "\n"
      ],
      "text/plain": [
       "   \n",
       "           0        1\n",
       "  F 16.98058 16.01942\n",
       "  M 36.01942 33.98058"
      ]
     },
     "execution_count": 71,
     "metadata": {},
     "output_type": "execute_result"
    }
   ],
   "source": [
    "# Generate expected counts\n",
    "chisq.test(gender_top10, correct=FALSE)$expected"
   ]
  },
  {
   "cell_type": "code",
   "execution_count": 72,
   "metadata": {
    "collapsed": false
   },
   "outputs": [
    {
     "data": {
      "text/plain": [
       "\n",
       "\tPearson's Chi-squared test\n",
       "\n",
       "data:  gender_top10\n",
       "X-squared = 0.7002, df = 1, p-value = 0.4027\n"
      ]
     },
     "execution_count": 72,
     "metadata": {},
     "output_type": "execute_result"
    }
   ],
   "source": [
    "# Run test of independence\n",
    "chisq.test(gender_top10, correct=FALSE)"
   ]
  },
  {
   "cell_type": "markdown",
   "metadata": {
    "collapsed": true
   },
   "source": [
    "## Lab\n",
    "\n",
    "Primary Research Question\n",
    "\n",
    "Are each of the four musical genres equally represented on Austin City Limits?   \n",
    "\n",
    "Analysis\n",
    "\n",
    "Goodness of Fit Test:\n",
    "1. Create a table to show the counts of each genre.\n",
    "2. Create a vector of expected proportions.\n",
    "3. Check the expected counts assumption.\n",
    "4. Run a chi square test.\n",
    "5. Interpret the chi square statistic and p-value."
   ]
  },
  {
   "cell_type": "code",
   "execution_count": 73,
   "metadata": {
    "collapsed": false
   },
   "outputs": [
    {
     "data": {
      "text/plain": [
       "\n",
       "          Country        Jazz/Blues   Rock/Folk/Indie Singer-Songwriter \n",
       "               18                13                68                17 "
      ]
     },
     "execution_count": 73,
     "metadata": {},
     "output_type": "execute_result"
    }
   ],
   "source": [
    "# Create a table of counts for Gender\n",
    "genre_tab <-table(acl$Genre)\n",
    "genre_tab"
   ]
  },
  {
   "cell_type": "code",
   "execution_count": 74,
   "metadata": {
    "collapsed": false
   },
   "outputs": [],
   "source": [
    "# Create vector of expected proportions\n",
    "ExpGenre <- c(.25,.25,.25,.25)"
   ]
  },
  {
   "cell_type": "code",
   "execution_count": 75,
   "metadata": {
    "collapsed": false
   },
   "outputs": [
    {
     "data": {
      "text/html": [
       "<dl class=dl-horizontal>\n",
       "\t<dt>Country</dt>\n",
       "\t\t<dd>29</dd>\n",
       "\t<dt>Jazz/Blues</dt>\n",
       "\t\t<dd>29</dd>\n",
       "\t<dt>Rock/Folk/Indie</dt>\n",
       "\t\t<dd>29</dd>\n",
       "\t<dt>Singer-Songwriter</dt>\n",
       "\t\t<dd>29</dd>\n",
       "</dl>\n"
      ],
      "text/latex": [
       "\\begin{description*}\n",
       "\\item[Country] 29\n",
       "\\item[Jazz/Blues] 29\n",
       "\\item[Rock/Folk/Indie] 29\n",
       "\\item[Singer-Songwriter] 29\n",
       "\\end{description*}\n"
      ],
      "text/markdown": [
       "Country\n",
       ":   29Jazz/Blues\n",
       ":   29Rock/Folk/Indie\n",
       ":   29Singer-Songwriter\n",
       ":   29\n",
       "\n"
      ],
      "text/plain": [
       "          Country        Jazz/Blues   Rock/Folk/Indie Singer-Songwriter \n",
       "               29                29                29                29 "
      ]
     },
     "execution_count": 75,
     "metadata": {},
     "output_type": "execute_result"
    }
   ],
   "source": [
    "# Check expected counts assumption\n",
    "chisq.test(genre_tab, p=ExpGenre)$expected"
   ]
  },
  {
   "cell_type": "code",
   "execution_count": 76,
   "metadata": {
    "collapsed": false
   },
   "outputs": [
    {
     "data": {
      "text/plain": [
       "\n",
       "\tChi-squared test for given probabilities\n",
       "\n",
       "data:  genre_tab\n",
       "X-squared = 70.4138, df = 3, p-value = 0.000000000000003481\n"
      ]
     },
     "execution_count": 76,
     "metadata": {},
     "output_type": "execute_result"
    }
   ],
   "source": [
    "# Run goodness of fit\n",
    "chisq.test(genre_tab, p=ExpGenre)"
   ]
  },
  {
   "cell_type": "markdown",
   "metadata": {
    "collapsed": false
   },
   "source": [
    "Primary Research Question\n",
    "\n",
    "Are some genres more likely to draw a large (100K+) Twitter following than others?\n",
    "\n",
    "Analysis\n",
    "\n",
    "Test of Independence:\n",
    "1. Create a two-way table for genre and Twitter following.\n",
    "2. Check the expected counts assumption.\n",
    "3. Run a chi square test.\n",
    "4. Interpret the chi square statistic and p-value."
   ]
  },
  {
   "cell_type": "code",
   "execution_count": 77,
   "metadata": {
    "collapsed": false
   },
   "outputs": [
    {
     "data": {
      "text/html": [
       "<table>\n",
       "<thead><tr><th></th><th scope=col>0</th><th scope=col>1</th><th scope=col>Sum</th></tr></thead>\n",
       "<tbody>\n",
       "\t<tr><th scope=row>Country</th><td>11</td><td> 6</td><td>17</td></tr>\n",
       "\t<tr><th scope=row>Jazz/Blues</th><td> 9</td><td> 2</td><td>11</td></tr>\n",
       "\t<tr><th scope=row>Rock/Folk/Indie</th><td>33</td><td>26</td><td>59</td></tr>\n",
       "\t<tr><th scope=row>Singer-Songwriter</th><td> 6</td><td>10</td><td>16</td></tr>\n",
       "\t<tr><th scope=row>Sum</th><td> 59</td><td> 44</td><td>103</td></tr>\n",
       "</tbody>\n",
       "</table>\n"
      ],
      "text/latex": [
       "\\begin{tabular}{r|lll}\n",
       "  & 0 & 1 & Sum\\\\\n",
       "\\hline\n",
       "\tCountry & 11 &  6 & 17\\\\\n",
       "\tJazz/Blues &  9 &  2 & 11\\\\\n",
       "\tRock/Folk/Indie & 33 & 26 & 59\\\\\n",
       "\tSinger-Songwriter &  6 & 10 & 16\\\\\n",
       "\tSum &  59 &  44 & 103\\\\\n",
       "\\end{tabular}\n"
      ],
      "text/plain": [
       "                   \n",
       "                      0   1 Sum\n",
       "  Country            11   6  17\n",
       "  Jazz/Blues          9   2  11\n",
       "  Rock/Folk/Indie    33  26  59\n",
       "  Singer-Songwriter   6  10  16\n",
       "  Sum                59  44 103"
      ]
     },
     "execution_count": 77,
     "metadata": {},
     "output_type": "execute_result"
    },
    {
     "data": {
      "text/plain": [
       "\n",
       "          Country        Jazz/Blues   Rock/Folk/Indie Singer-Songwriter \n",
       "               17                11                59                16 "
      ]
     },
     "execution_count": 77,
     "metadata": {},
     "output_type": "execute_result"
    },
    {
     "data": {
      "text/plain": [
       "\n",
       " 0  1 \n",
       "59 44 "
      ]
     },
     "execution_count": 77,
     "metadata": {},
     "output_type": "execute_result"
    }
   ],
   "source": [
    "# Create two-way table\n",
    "genre_twitter <-table(acl$Genre, acl$Twitter.100k)\n",
    "addmargins(genre_twitter)\n",
    "margin.table(genre_twitter,1)\n",
    "margin.table(genre_twitter,2)"
   ]
  },
  {
   "cell_type": "code",
   "execution_count": 78,
   "metadata": {
    "collapsed": false
   },
   "outputs": [
    {
     "data": {
      "text/html": [
       "<table>\n",
       "<thead><tr><th></th><th scope=col>0</th><th scope=col>1</th><th scope=col>Sum</th></tr></thead>\n",
       "<tbody>\n",
       "\t<tr><th scope=row>Country</th><td>0.10679612</td><td>0.05825243</td><td>0.16504854</td></tr>\n",
       "\t<tr><th scope=row>Jazz/Blues</th><td>0.08737864</td><td>0.01941748</td><td>0.10679612</td></tr>\n",
       "\t<tr><th scope=row>Rock/Folk/Indie</th><td>0.3203883</td><td>0.2524272</td><td>0.5728155</td></tr>\n",
       "\t<tr><th scope=row>Singer-Songwriter</th><td>0.05825243</td><td>0.09708738</td><td>0.15533981</td></tr>\n",
       "\t<tr><th scope=row>Sum</th><td>0.5728155</td><td>0.4271845</td><td>1.0000000</td></tr>\n",
       "</tbody>\n",
       "</table>\n"
      ],
      "text/latex": [
       "\\begin{tabular}{r|lll}\n",
       "  & 0 & 1 & Sum\\\\\n",
       "\\hline\n",
       "\tCountry & 0.10679612 & 0.05825243 & 0.16504854\\\\\n",
       "\tJazz/Blues & 0.08737864 & 0.01941748 & 0.10679612\\\\\n",
       "\tRock/Folk/Indie & 0.3203883 & 0.2524272 & 0.5728155\\\\\n",
       "\tSinger-Songwriter & 0.05825243 & 0.09708738 & 0.15533981\\\\\n",
       "\tSum & 0.5728155 & 0.4271845 & 1.0000000\\\\\n",
       "\\end{tabular}\n"
      ],
      "text/plain": [
       "                   \n",
       "                             0          1        Sum\n",
       "  Country           0.10679612 0.05825243 0.16504854\n",
       "  Jazz/Blues        0.08737864 0.01941748 0.10679612\n",
       "  Rock/Folk/Indie   0.32038835 0.25242718 0.57281553\n",
       "  Singer-Songwriter 0.05825243 0.09708738 0.15533981\n",
       "  Sum               0.57281553 0.42718447 1.00000000"
      ]
     },
     "execution_count": 78,
     "metadata": {},
     "output_type": "execute_result"
    },
    {
     "data": {
      "text/plain": [
       "\n",
       "          Country        Jazz/Blues   Rock/Folk/Indie Singer-Songwriter \n",
       "        0.1650485         0.1067961         0.5728155         0.1553398 "
      ]
     },
     "execution_count": 78,
     "metadata": {},
     "output_type": "execute_result"
    },
    {
     "data": {
      "text/plain": [
       "\n",
       "        0         1 \n",
       "0.5728155 0.4271845 "
      ]
     },
     "execution_count": 78,
     "metadata": {},
     "output_type": "execute_result"
    },
    {
     "data": {
      "text/html": [
       "<table>\n",
       "<thead><tr><th></th><th scope=col>0</th><th scope=col>1</th><th scope=col>Sum</th></tr></thead>\n",
       "<tbody>\n",
       "\t<tr><th scope=row>Country</th><td>0.6470588</td><td>0.3529412</td><td>1.0000000</td></tr>\n",
       "\t<tr><th scope=row>Jazz/Blues</th><td>0.8181818</td><td>0.1818182</td><td>1.0000000</td></tr>\n",
       "\t<tr><th scope=row>Rock/Folk/Indie</th><td>0.559322</td><td>0.440678</td><td>1.000000</td></tr>\n",
       "\t<tr><th scope=row>Singer-Songwriter</th><td>0.375</td><td>0.625</td><td>1.000</td></tr>\n",
       "\t<tr><th scope=row>Sum</th><td>2.399563</td><td>1.600437</td><td>4.000000</td></tr>\n",
       "</tbody>\n",
       "</table>\n"
      ],
      "text/latex": [
       "\\begin{tabular}{r|lll}\n",
       "  & 0 & 1 & Sum\\\\\n",
       "\\hline\n",
       "\tCountry & 0.6470588 & 0.3529412 & 1.0000000\\\\\n",
       "\tJazz/Blues & 0.8181818 & 0.1818182 & 1.0000000\\\\\n",
       "\tRock/Folk/Indie & 0.559322 & 0.440678 & 1.000000\\\\\n",
       "\tSinger-Songwriter & 0.375 & 0.625 & 1.000\\\\\n",
       "\tSum & 2.399563 & 1.600437 & 4.000000\\\\\n",
       "\\end{tabular}\n"
      ],
      "text/plain": [
       "                   \n",
       "                            0         1       Sum\n",
       "  Country           0.6470588 0.3529412 1.0000000\n",
       "  Jazz/Blues        0.8181818 0.1818182 1.0000000\n",
       "  Rock/Folk/Indie   0.5593220 0.4406780 1.0000000\n",
       "  Singer-Songwriter 0.3750000 0.6250000 1.0000000\n",
       "  Sum               2.3995627 1.6004373 4.0000000"
      ]
     },
     "execution_count": 78,
     "metadata": {},
     "output_type": "execute_result"
    },
    {
     "data": {
      "text/html": [
       "<table>\n",
       "<thead><tr><th></th><th scope=col>0</th><th scope=col>1</th><th scope=col>Sum</th></tr></thead>\n",
       "<tbody>\n",
       "\t<tr><th scope=row>Country</th><td>0.1864407</td><td>0.1363636</td><td>0.3228043</td></tr>\n",
       "\t<tr><th scope=row>Jazz/Blues</th><td>0.15254237</td><td>0.04545455</td><td>0.19799692</td></tr>\n",
       "\t<tr><th scope=row>Rock/Folk/Indie</th><td>0.5593220</td><td>0.5909091</td><td>1.1502311</td></tr>\n",
       "\t<tr><th scope=row>Singer-Songwriter</th><td>0.1016949</td><td>0.2272727</td><td>0.3289676</td></tr>\n",
       "\t<tr><th scope=row>Sum</th><td>1</td><td>1</td><td>2</td></tr>\n",
       "</tbody>\n",
       "</table>\n"
      ],
      "text/latex": [
       "\\begin{tabular}{r|lll}\n",
       "  & 0 & 1 & Sum\\\\\n",
       "\\hline\n",
       "\tCountry & 0.1864407 & 0.1363636 & 0.3228043\\\\\n",
       "\tJazz/Blues & 0.15254237 & 0.04545455 & 0.19799692\\\\\n",
       "\tRock/Folk/Indie & 0.5593220 & 0.5909091 & 1.1502311\\\\\n",
       "\tSinger-Songwriter & 0.1016949 & 0.2272727 & 0.3289676\\\\\n",
       "\tSum & 1 & 1 & 2\\\\\n",
       "\\end{tabular}\n"
      ],
      "text/plain": [
       "                   \n",
       "                             0          1        Sum\n",
       "  Country           0.18644068 0.13636364 0.32280431\n",
       "  Jazz/Blues        0.15254237 0.04545455 0.19799692\n",
       "  Rock/Folk/Indie   0.55932203 0.59090909 1.15023112\n",
       "  Singer-Songwriter 0.10169492 0.22727273 0.32896764\n",
       "  Sum               1.00000000 1.00000000 2.00000000"
      ]
     },
     "execution_count": 78,
     "metadata": {},
     "output_type": "execute_result"
    }
   ],
   "source": [
    "addmargins(prop.table(genre_twitter))\n",
    "margin.table(prop.table(genre_twitter),1) #From total\n",
    "margin.table(prop.table(genre_twitter),2) #From total\n",
    "\n",
    "addmargins(prop.table(genre_twitter,1)) #rows\n",
    "addmargins(prop.table(genre_twitter,2)) #columns"
   ]
  },
  {
   "cell_type": "code",
   "execution_count": 79,
   "metadata": {
    "collapsed": false
   },
   "outputs": [
    {
     "data": {
      "text/html": [
       "<table>\n",
       "<thead><tr><th></th><th scope=col>0</th><th scope=col>1</th></tr></thead>\n",
       "<tbody>\n",
       "\t<tr><th scope=row>Country</th><td>9.737864</td><td>7.262136</td></tr>\n",
       "\t<tr><th scope=row>Jazz/Blues</th><td>6.300971</td><td>4.699029</td></tr>\n",
       "\t<tr><th scope=row>Rock/Folk/Indie</th><td>33.79612</td><td>25.20388</td></tr>\n",
       "\t<tr><th scope=row>Singer-Songwriter</th><td>9.165049</td><td>6.834951</td></tr>\n",
       "</tbody>\n",
       "</table>\n"
      ],
      "text/latex": [
       "\\begin{tabular}{r|ll}\n",
       "  & 0 & 1\\\\\n",
       "\\hline\n",
       "\tCountry & 9.737864 & 7.262136\\\\\n",
       "\tJazz/Blues & 6.300971 & 4.699029\\\\\n",
       "\tRock/Folk/Indie & 33.79612 & 25.20388\\\\\n",
       "\tSinger-Songwriter & 9.165049 & 6.834951\\\\\n",
       "\\end{tabular}\n"
      ],
      "text/markdown": [
       "1. 9.7378640776699\n",
       "2. 6.30097087378641\n",
       "3. 33.7961165048544\n",
       "4. 9.16504854368932\n",
       "5. 7.2621359223301\n",
       "6. 4.69902912621359\n",
       "7. 25.2038834951456\n",
       "8. 6.83495145631068\n",
       "\n",
       "\n"
      ],
      "text/plain": [
       "                   \n",
       "                            0         1\n",
       "  Country            9.737864  7.262136\n",
       "  Jazz/Blues         6.300971  4.699029\n",
       "  Rock/Folk/Indie   33.796117 25.203883\n",
       "  Singer-Songwriter  9.165049  6.834951"
      ]
     },
     "execution_count": 79,
     "metadata": {},
     "output_type": "execute_result"
    }
   ],
   "source": [
    "# Generate expected counts\n",
    "chisq.test(genre_twitter, correct=FALSE)$expected"
   ]
  },
  {
   "cell_type": "code",
   "execution_count": 80,
   "metadata": {
    "collapsed": false
   },
   "outputs": [
    {
     "data": {
      "text/plain": [
       "\n",
       "\tPearson's Chi-squared test\n",
       "\n",
       "data:  genre_twitter\n",
       "X-squared = 5.6919, df = 3, p-value = 0.1276\n"
      ]
     },
     "execution_count": 80,
     "metadata": {},
     "output_type": "execute_result"
    }
   ],
   "source": [
    "# Run test of independence\n",
    "chisq.test(genre_twitter, correct=FALSE)"
   ]
  },
  {
   "cell_type": "markdown",
   "metadata": {},
   "source": [
    "## Problem Set\n",
    "\n",
    "You want to know if the proportion of female performers on Austin City Limits Live has changed in the past two years. \n",
    "\n",
    "1. Create a new variable in the dataset called \"Recent\" that is equal to a 1 for rows from years 2012 or 2013 and is equal to 0 for all other rows.\n",
    "\n",
    "2. Make a table that shows the number of male and female performers in \"recent\" and non-recent years.\n",
    "\n",
    "3. Use this data to answer the following questions.\n",
    "\n",
    "Use the \"AustinCityLimits.csv\" dataset to answer the following questions.  Instructions for installing \"AustinCityLimits.csv\" can be found under the Examine the Data unit in this week's Pre-Lab section.\n",
    "\n",
    "You'll need to use the following code to help:\n",
    "\n",
    "acl$Recent[acl$Year < 2012] <- 0 \n",
    "\n",
    "acl$Recent[acl$Year >= 2012] <- 1"
   ]
  },
  {
   "cell_type": "code",
   "execution_count": 81,
   "metadata": {
    "collapsed": false
   },
   "outputs": [],
   "source": [
    "acl$Recent[acl$Year < 2012] <- 0 \n",
    "acl$Recent[acl$Year >= 2012] <- 1"
   ]
  },
  {
   "cell_type": "code",
   "execution_count": 82,
   "metadata": {
    "collapsed": false
   },
   "outputs": [
    {
     "data": {
      "text/html": [
       "<table>\n",
       "<thead><tr><th></th><th scope=col>0</th><th scope=col>1</th><th scope=col>Sum</th></tr></thead>\n",
       "<tbody>\n",
       "\t<tr><th scope=row>F</th><td>23</td><td>12</td><td>35</td></tr>\n",
       "\t<tr><th scope=row>M</th><td>65</td><td>16</td><td>81</td></tr>\n",
       "\t<tr><th scope=row>Sum</th><td> 88</td><td> 28</td><td>116</td></tr>\n",
       "</tbody>\n",
       "</table>\n"
      ],
      "text/latex": [
       "\\begin{tabular}{r|lll}\n",
       "  & 0 & 1 & Sum\\\\\n",
       "\\hline\n",
       "\tF & 23 & 12 & 35\\\\\n",
       "\tM & 65 & 16 & 81\\\\\n",
       "\tSum &  88 &  28 & 116\\\\\n",
       "\\end{tabular}\n"
      ],
      "text/plain": [
       "     \n",
       "        0   1 Sum\n",
       "  F    23  12  35\n",
       "  M    65  16  81\n",
       "  Sum  88  28 116"
      ]
     },
     "execution_count": 82,
     "metadata": {},
     "output_type": "execute_result"
    },
    {
     "data": {
      "text/plain": [
       "\n",
       " F  M \n",
       "35 81 "
      ]
     },
     "execution_count": 82,
     "metadata": {},
     "output_type": "execute_result"
    },
    {
     "data": {
      "text/plain": [
       "\n",
       " 0  1 \n",
       "88 28 "
      ]
     },
     "execution_count": 82,
     "metadata": {},
     "output_type": "execute_result"
    }
   ],
   "source": [
    "# Create two-way table\n",
    "gender_recent <-table(acl$Gender, acl$Recent)\n",
    "addmargins(gender_recent)\n",
    "margin.table(gender_recent,1)\n",
    "margin.table(gender_recent,2)"
   ]
  },
  {
   "cell_type": "code",
   "execution_count": 83,
   "metadata": {
    "collapsed": false
   },
   "outputs": [
    {
     "data": {
      "text/html": [
       "<table>\n",
       "<thead><tr><th></th><th scope=col>0</th><th scope=col>1</th></tr></thead>\n",
       "<tbody>\n",
       "\t<tr><th scope=row>F</th><td>26.551724</td><td> 8.448276</td></tr>\n",
       "\t<tr><th scope=row>M</th><td>61.44828</td><td>19.55172</td></tr>\n",
       "</tbody>\n",
       "</table>\n"
      ],
      "text/latex": [
       "\\begin{tabular}{r|ll}\n",
       "  & 0 & 1\\\\\n",
       "\\hline\n",
       "\tF & 26.551724 &  8.448276\\\\\n",
       "\tM & 61.44828 & 19.55172\\\\\n",
       "\\end{tabular}\n"
      ],
      "text/markdown": [
       "1. 26.551724137931\n",
       "2. 61.448275862069\n",
       "3. 8.44827586206897\n",
       "4. 19.551724137931\n",
       "\n",
       "\n"
      ],
      "text/plain": [
       "   \n",
       "           0         1\n",
       "  F 26.55172  8.448276\n",
       "  M 61.44828 19.551724"
      ]
     },
     "execution_count": 83,
     "metadata": {},
     "output_type": "execute_result"
    }
   ],
   "source": [
    "# Generate expected counts\n",
    "chisq.test(gender_recent, correct=FALSE)$expected"
   ]
  },
  {
   "cell_type": "code",
   "execution_count": 84,
   "metadata": {
    "collapsed": false
   },
   "outputs": [
    {
     "data": {
      "text/plain": [
       "\n",
       "\tPearson's Chi-squared test\n",
       "\n",
       "data:  gender_recent\n",
       "X-squared = 2.8188, df = 1, p-value = 0.09317\n"
      ]
     },
     "execution_count": 84,
     "metadata": {},
     "output_type": "execute_result"
    }
   ],
   "source": [
    "chisq.test(gender_recent, correct=FALSE)"
   ]
  },
  {
   "cell_type": "markdown",
   "metadata": {
    "collapsed": true
   },
   "source": [
    "When crossing white and yellow summer squash, a genetic model predicts that \n",
    "\n",
    "75% of resulting offspring will be white, \n",
    "\n",
    "15% will be yellow and \n",
    "\n",
    "10% will be green. \n",
    "\n",
    "Below are the results from an experiment run on a random sample of 205 squash offspring.\n",
    "\n",
    "Color              White\tYellow\tGreen\n",
    "\n",
    "Number of Offspring\t152\t      39\t14"
   ]
  },
  {
   "cell_type": "code",
   "execution_count": 89,
   "metadata": {
    "collapsed": true
   },
   "outputs": [],
   "source": [
    "color <-c(152,39,14)"
   ]
  },
  {
   "cell_type": "code",
   "execution_count": 90,
   "metadata": {
    "collapsed": true
   },
   "outputs": [],
   "source": [
    "# Create vector of expected proportions\n",
    "Exp <- c(.75, .15, .10)"
   ]
  },
  {
   "cell_type": "code",
   "execution_count": 91,
   "metadata": {
    "collapsed": false
   },
   "outputs": [
    {
     "data": {
      "text/html": [
       "<ol class=list-inline>\n",
       "\t<li>153.75</li>\n",
       "\t<li>30.75</li>\n",
       "\t<li>20.5</li>\n",
       "</ol>\n"
      ],
      "text/latex": [
       "\\begin{enumerate*}\n",
       "\\item 153.75\n",
       "\\item 30.75\n",
       "\\item 20.5\n",
       "\\end{enumerate*}\n"
      ],
      "text/markdown": [
       "1. 153.75\n",
       "2. 30.75\n",
       "3. 20.5\n",
       "\n",
       "\n"
      ],
      "text/plain": [
       "[1] 153.75  30.75  20.50"
      ]
     },
     "execution_count": 91,
     "metadata": {},
     "output_type": "execute_result"
    }
   ],
   "source": [
    "# Check expected counts assumption\n",
    "chisq.test(color, p=Exp)$expected"
   ]
  },
  {
   "cell_type": "code",
   "execution_count": 92,
   "metadata": {
    "collapsed": false
   },
   "outputs": [
    {
     "data": {
      "text/plain": [
       "\n",
       "\tChi-squared test for given probabilities\n",
       "\n",
       "data:  color\n",
       "X-squared = 4.2943, df = 2, p-value = 0.1168\n"
      ]
     },
     "execution_count": 92,
     "metadata": {},
     "output_type": "execute_result"
    }
   ],
   "source": [
    "chisq.test(color, p=Exp)"
   ]
  },
  {
   "cell_type": "code",
   "execution_count": 98,
   "metadata": {
    "collapsed": false
   },
   "outputs": [
    {
     "data": {
      "text/html": [
       "5.99146454710798"
      ],
      "text/latex": [
       "5.99146454710798"
      ],
      "text/markdown": [
       "5.99146454710798"
      ],
      "text/plain": [
       "[1] 5.991465"
      ]
     },
     "execution_count": 98,
     "metadata": {},
     "output_type": "execute_result"
    }
   ],
   "source": [
    "# Find critical value right tail 5% \n",
    "qchisq(.95,2)"
   ]
  },
  {
   "cell_type": "markdown",
   "metadata": {},
   "source": [
    "Approximately 13% of the world's population is left-handed, but is this proportion the same across men and women?\n",
    "\n",
    "To answer this question, you decide to collect data from a random sample of adults from your neighborhood, with the following results:"
   ]
  },
  {
   "cell_type": "code",
   "execution_count": 101,
   "metadata": {
    "collapsed": false
   },
   "outputs": [
    {
     "data": {
      "text/plain": [
       "gender\n",
       " f  m \n",
       "10 11 "
      ]
     },
     "execution_count": 101,
     "metadata": {},
     "output_type": "execute_result"
    }
   ],
   "source": [
    "gender <-c('m','m','m','m','f','f','f','m','f','f','m','f','m','m','f','m','m','f','f','m','f')\n",
    "table(gender)"
   ]
  },
  {
   "cell_type": "code",
   "execution_count": 102,
   "metadata": {
    "collapsed": false
   },
   "outputs": [
    {
     "data": {
      "text/plain": [
       "hand\n",
       " l  r \n",
       " 5 16 "
      ]
     },
     "execution_count": 102,
     "metadata": {},
     "output_type": "execute_result"
    }
   ],
   "source": [
    "hand <-c('l','r','r','r','r','l','l','r','r','r','l','r','r','r','r','r','r','r','l','r','r')\n",
    "table(hand)"
   ]
  },
  {
   "cell_type": "code",
   "execution_count": 103,
   "metadata": {
    "collapsed": true
   },
   "outputs": [],
   "source": [
    "gender_hand<-table(gender,hand)"
   ]
  },
  {
   "cell_type": "code",
   "execution_count": 104,
   "metadata": {
    "collapsed": false
   },
   "outputs": [
    {
     "data": {
      "text/html": [
       "<table>\n",
       "<thead><tr><th></th><th scope=col>l</th><th scope=col>r</th></tr></thead>\n",
       "<tbody>\n",
       "\t<tr><th scope=row>f</th><td>2.380952</td><td>7.619048</td></tr>\n",
       "\t<tr><th scope=row>m</th><td>2.619048</td><td>8.380952</td></tr>\n",
       "</tbody>\n",
       "</table>\n"
      ],
      "text/latex": [
       "\\begin{tabular}{r|ll}\n",
       "  & l & r\\\\\n",
       "\\hline\n",
       "\tf & 2.380952 & 7.619048\\\\\n",
       "\tm & 2.619048 & 8.380952\\\\\n",
       "\\end{tabular}\n"
      ],
      "text/markdown": [
       "1. 2.38095238095238\n",
       "2. 2.61904761904762\n",
       "3. 7.61904761904762\n",
       "4. 8.38095238095238\n",
       "\n",
       "\n"
      ],
      "text/plain": [
       "      hand\n",
       "gender        l        r\n",
       "     f 2.380952 7.619048\n",
       "     m 2.619048 8.380952"
      ]
     },
     "execution_count": 104,
     "metadata": {},
     "output_type": "execute_result"
    }
   ],
   "source": [
    "chisq.test(gender_hand, correct=FALSE)$expected"
   ]
  },
  {
   "cell_type": "code",
   "execution_count": 105,
   "metadata": {
    "collapsed": false
   },
   "outputs": [
    {
     "data": {
      "text/plain": [
       "\n",
       "\tPearson's Chi-squared test\n",
       "\n",
       "data:  gender_hand\n",
       "X-squared = 0.4033, df = 1, p-value = 0.5254\n"
      ]
     },
     "execution_count": 105,
     "metadata": {},
     "output_type": "execute_result"
    }
   ],
   "source": [
    "chisq.test(gender_hand, correct=FALSE)"
   ]
  },
  {
   "cell_type": "code",
   "execution_count": 106,
   "metadata": {
    "collapsed": false
   },
   "outputs": [
    {
     "data": {
      "text/html": [
       "3.84145882069412"
      ],
      "text/latex": [
       "3.84145882069412"
      ],
      "text/markdown": [
       "3.84145882069412"
      ],
      "text/plain": [
       "[1] 3.841459"
      ]
     },
     "execution_count": 106,
     "metadata": {},
     "output_type": "execute_result"
    }
   ],
   "source": [
    "# Find critical value right tail 5% \n",
    "qchisq(.95,1)"
   ]
  },
  {
   "cell_type": "markdown",
   "metadata": {},
   "source": [
    "Lets build a data frame with data"
   ]
  },
  {
   "cell_type": "markdown",
   "metadata": {},
   "source": [
    "A telephone survey asked a random sample of Indiana voters about their home internet usage, as well as what type of community (rural, suburban or urban) they lived in. \n",
    "\n",
    "Of the 123 survey respondents, 28 were from rural areas, 42 were from suburban areas, and 53 were from urban areas.  Thirteen rural respondents, 35 suburban respondents, and 50 urban respondents said they had access to internet at home. "
   ]
  },
  {
   "cell_type": "code",
   "execution_count": 107,
   "metadata": {
    "collapsed": true
   },
   "outputs": [],
   "source": [
    "rural <-c(15,13)\n",
    "surban<-c(7,35)\n",
    "urban<-c(3,50)"
   ]
  },
  {
   "cell_type": "code",
   "execution_count": 124,
   "metadata": {
    "collapsed": false
   },
   "outputs": [],
   "source": [
    "#Set up the two variables\n",
    "r1<- data.frame(type=rep(\"rural\",15),internet=rep(0,15))\n",
    "r2<- data.frame(type=rep(\"rural\",13),internet=rep(1,13))\n",
    "s1<- data.frame(type=rep(\"surban\",7),internet=rep(0,7))\n",
    "s2<- data.frame(type=rep(\"surban\",35),internet=rep(1,35))\n",
    "u1<- data.frame(type=rep(\"urban\",3),internet=rep(0,3))\n",
    "u2<- data.frame(type=rep(\"urban\",50),internet=rep(1,50))"
   ]
  },
  {
   "cell_type": "code",
   "execution_count": 129,
   "metadata": {
    "collapsed": false
   },
   "outputs": [],
   "source": [
    "#Combine into one dataframe\n",
    "df<-rbind(r1,r2,s1,s2,u1,u2)"
   ]
  },
  {
   "cell_type": "code",
   "execution_count": 131,
   "metadata": {
    "collapsed": false
   },
   "outputs": [],
   "source": [
    "df_tab<-table(df$type,df$internet)"
   ]
  },
  {
   "cell_type": "code",
   "execution_count": 132,
   "metadata": {
    "collapsed": false
   },
   "outputs": [
    {
     "data": {
      "text/html": [
       "<table>\n",
       "<thead><tr><th></th><th scope=col>0</th><th scope=col>1</th><th scope=col>Sum</th></tr></thead>\n",
       "<tbody>\n",
       "\t<tr><th scope=row>rural</th><td>0.1219512</td><td>0.1056911</td><td>0.2276423</td></tr>\n",
       "\t<tr><th scope=row>surban</th><td>0.05691057</td><td>0.28455285</td><td>0.34146341</td></tr>\n",
       "\t<tr><th scope=row>urban</th><td>0.02439024</td><td>0.40650407</td><td>0.43089431</td></tr>\n",
       "\t<tr><th scope=row>Sum</th><td>0.203252</td><td>0.796748</td><td>1.000000</td></tr>\n",
       "</tbody>\n",
       "</table>\n"
      ],
      "text/latex": [
       "\\begin{tabular}{r|lll}\n",
       "  & 0 & 1 & Sum\\\\\n",
       "\\hline\n",
       "\trural & 0.1219512 & 0.1056911 & 0.2276423\\\\\n",
       "\tsurban & 0.05691057 & 0.28455285 & 0.34146341\\\\\n",
       "\turban & 0.02439024 & 0.40650407 & 0.43089431\\\\\n",
       "\tSum & 0.203252 & 0.796748 & 1.000000\\\\\n",
       "\\end{tabular}\n"
      ],
      "text/plain": [
       "        \n",
       "                  0          1        Sum\n",
       "  rural  0.12195122 0.10569106 0.22764228\n",
       "  surban 0.05691057 0.28455285 0.34146341\n",
       "  urban  0.02439024 0.40650407 0.43089431\n",
       "  Sum    0.20325203 0.79674797 1.00000000"
      ]
     },
     "execution_count": 132,
     "metadata": {},
     "output_type": "execute_result"
    },
    {
     "data": {
      "text/plain": [
       "\n",
       "    rural    surban     urban \n",
       "0.2276423 0.3414634 0.4308943 "
      ]
     },
     "execution_count": 132,
     "metadata": {},
     "output_type": "execute_result"
    },
    {
     "data": {
      "text/plain": [
       "\n",
       "       0        1 \n",
       "0.203252 0.796748 "
      ]
     },
     "execution_count": 132,
     "metadata": {},
     "output_type": "execute_result"
    },
    {
     "data": {
      "text/html": [
       "<table>\n",
       "<thead><tr><th></th><th scope=col>0</th><th scope=col>1</th><th scope=col>Sum</th></tr></thead>\n",
       "<tbody>\n",
       "\t<tr><th scope=row>rural</th><td>0.5357143</td><td>0.4642857</td><td>1.0000000</td></tr>\n",
       "\t<tr><th scope=row>surban</th><td>0.1666667</td><td>0.8333333</td><td>1.0000000</td></tr>\n",
       "\t<tr><th scope=row>urban</th><td>0.05660377</td><td>0.94339623</td><td>1.00000000</td></tr>\n",
       "\t<tr><th scope=row>Sum</th><td>0.7589847</td><td>2.2410153</td><td>3.0000000</td></tr>\n",
       "</tbody>\n",
       "</table>\n"
      ],
      "text/latex": [
       "\\begin{tabular}{r|lll}\n",
       "  & 0 & 1 & Sum\\\\\n",
       "\\hline\n",
       "\trural & 0.5357143 & 0.4642857 & 1.0000000\\\\\n",
       "\tsurban & 0.1666667 & 0.8333333 & 1.0000000\\\\\n",
       "\turban & 0.05660377 & 0.94339623 & 1.00000000\\\\\n",
       "\tSum & 0.7589847 & 2.2410153 & 3.0000000\\\\\n",
       "\\end{tabular}\n"
      ],
      "text/plain": [
       "        \n",
       "                  0          1        Sum\n",
       "  rural  0.53571429 0.46428571 1.00000000\n",
       "  surban 0.16666667 0.83333333 1.00000000\n",
       "  urban  0.05660377 0.94339623 1.00000000\n",
       "  Sum    0.75898473 2.24101527 3.00000000"
      ]
     },
     "execution_count": 132,
     "metadata": {},
     "output_type": "execute_result"
    },
    {
     "data": {
      "text/html": [
       "<table>\n",
       "<thead><tr><th></th><th scope=col>0</th><th scope=col>1</th><th scope=col>Sum</th></tr></thead>\n",
       "<tbody>\n",
       "\t<tr><th scope=row>rural</th><td>0.6000000</td><td>0.1326531</td><td>0.7326531</td></tr>\n",
       "\t<tr><th scope=row>surban</th><td>0.2800000</td><td>0.3571429</td><td>0.6371429</td></tr>\n",
       "\t<tr><th scope=row>urban</th><td>0.1200000</td><td>0.5102041</td><td>0.6302041</td></tr>\n",
       "\t<tr><th scope=row>Sum</th><td>1</td><td>1</td><td>2</td></tr>\n",
       "</tbody>\n",
       "</table>\n"
      ],
      "text/latex": [
       "\\begin{tabular}{r|lll}\n",
       "  & 0 & 1 & Sum\\\\\n",
       "\\hline\n",
       "\trural & 0.6000000 & 0.1326531 & 0.7326531\\\\\n",
       "\tsurban & 0.2800000 & 0.3571429 & 0.6371429\\\\\n",
       "\turban & 0.1200000 & 0.5102041 & 0.6302041\\\\\n",
       "\tSum & 1 & 1 & 2\\\\\n",
       "\\end{tabular}\n"
      ],
      "text/plain": [
       "        \n",
       "                 0         1       Sum\n",
       "  rural  0.6000000 0.1326531 0.7326531\n",
       "  surban 0.2800000 0.3571429 0.6371429\n",
       "  urban  0.1200000 0.5102041 0.6302041\n",
       "  Sum    1.0000000 1.0000000 2.0000000"
      ]
     },
     "execution_count": 132,
     "metadata": {},
     "output_type": "execute_result"
    }
   ],
   "source": [
    "addmargins(prop.table(df_tab))\n",
    "margin.table(prop.table(df_tab),1) #From total\n",
    "margin.table(prop.table(df_tab),2) #From total\n",
    "\n",
    "addmargins(prop.table(df_tab,1)) #rows\n",
    "addmargins(prop.table(df_tab,2)) #columns"
   ]
  },
  {
   "cell_type": "markdown",
   "metadata": {},
   "source": [
    "What proportion of respondents had internet access at home? (Round to 3 decimal places.) .796748\n",
    "What proportion of respondents did NOT have internet access at home? (Round to 3 decimal places.) .203252\n",
    "How many rural residents would we expect to have home internet? Please use a rounded proportion you calculated above. (Round to 2 decimal places.) 22.308943\n",
    "How many urban residents would we expect NOT to have home internet? Please use a rounded proportion you calculated above. (Round to 2 decimal places.) 10.77236"
   ]
  },
  {
   "cell_type": "code",
   "execution_count": 134,
   "metadata": {
    "collapsed": false
   },
   "outputs": [
    {
     "data": {
      "text/html": [
       "<table>\n",
       "<thead><tr><th></th><th scope=col>0</th><th scope=col>1</th><th scope=col>Sum</th></tr></thead>\n",
       "<tbody>\n",
       "\t<tr><th scope=row>rural</th><td> 5.691057</td><td>22.308943</td><td>28.000000</td></tr>\n",
       "\t<tr><th scope=row>surban</th><td> 8.536585</td><td>33.463415</td><td>42.000000</td></tr>\n",
       "\t<tr><th scope=row>urban</th><td>10.77236</td><td>42.22764</td><td>53.00000</td></tr>\n",
       "\t<tr><th scope=row>Sum</th><td> 25</td><td> 98</td><td>123</td></tr>\n",
       "</tbody>\n",
       "</table>\n"
      ],
      "text/latex": [
       "\\begin{tabular}{r|lll}\n",
       "  & 0 & 1 & Sum\\\\\n",
       "\\hline\n",
       "\trural &  5.691057 & 22.308943 & 28.000000\\\\\n",
       "\tsurban &  8.536585 & 33.463415 & 42.000000\\\\\n",
       "\turban & 10.77236 & 42.22764 & 53.00000\\\\\n",
       "\tSum &  25 &  98 & 123\\\\\n",
       "\\end{tabular}\n"
      ],
      "text/markdown": [
       "1. 5.69105691056911\n",
       "2. 8.53658536585366\n",
       "3. 10.7723577235772\n",
       "4. 25\n",
       "5. 22.3089430894309\n",
       "6. 33.4634146341463\n",
       "7. 42.2276422764228\n",
       "8. 98\n",
       "9. 28\n",
       "10. 42\n",
       "11. 53\n",
       "12. 123\n",
       "\n",
       "\n"
      ],
      "text/plain": [
       "        \n",
       "                 0        1 Sum\n",
       "  rural   5.691057 22.30894  28\n",
       "  surban  8.536585 33.46341  42\n",
       "  urban  10.772358 42.22764  53\n",
       "  Sum    25.000000 98.00000 123"
      ]
     },
     "execution_count": 134,
     "metadata": {},
     "output_type": "execute_result"
    }
   ],
   "source": [
    "addmargins(chisq.test(df_tab, correct=FALSE)$expected)"
   ]
  },
  {
   "cell_type": "code",
   "execution_count": 136,
   "metadata": {
    "collapsed": false
   },
   "outputs": [
    {
     "data": {
      "text/plain": [
       "\n",
       "\tPearson's Chi-squared test\n",
       "\n",
       "data:  df_tab\n",
       "X-squared = 26.4967, df = 2, p-value = 0.000001763\n"
      ]
     },
     "execution_count": 136,
     "metadata": {},
     "output_type": "execute_result"
    }
   ],
   "source": [
    "chisq.test(df_tab, correct=FALSE)"
   ]
  },
  {
   "cell_type": "code",
   "execution_count": null,
   "metadata": {
    "collapsed": true
   },
   "outputs": [],
   "source": []
  }
 ],
 "metadata": {
  "kernelspec": {
   "display_name": "R",
   "language": "R",
   "name": "ir"
  },
  "language_info": {
   "codemirror_mode": "r",
   "file_extension": ".r",
   "mimetype": "text/x-r-source",
   "name": "R",
   "pygments_lexer": "r",
   "version": "3.1.3"
  }
 },
 "nbformat": 4,
 "nbformat_minor": 0
}
