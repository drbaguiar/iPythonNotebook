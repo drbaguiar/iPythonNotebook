{
 "cells": [
  {
   "cell_type": "markdown",
   "metadata": {},
   "source": [
    "The Normal Distribution Description\n",
    "\n",
    "Density, distribution function, quantile function and random generation for the normal distribution with mean equal to mean and standard deviation equal to sd. \n",
    "\n",
    "Usage\n",
    "dnorm(x, mean = 0, sd = 1, log = FALSE)\n",
    "\n",
    "pnorm(q, mean = 0, sd = 1, lower.tail = TRUE, log.p = FALSE)\n",
    "\n",
    "qnorm(p, mean = 0, sd = 1, lower.tail = TRUE, log.p = FALSE)\n",
    "\n",
    "rnorm(n, mean = 0, sd = 1)"
   ]
  },
  {
   "cell_type": "markdown",
   "metadata": {},
   "source": [
    "While it is often assumed that the probabilities of having a boy or a girl are the same, the actual probability of having a boy is slightly higher at 0.51. Suppose a couple plans to have 3 children. What is the probability that exactly 2 of them will be boys?"
   ]
  },
  {
   "cell_type": "code",
   "execution_count": 2,
   "metadata": {
    "collapsed": false
   },
   "outputs": [
    {
     "data": {
      "text/html": [
       "0.382347"
      ],
      "text/latex": [
       "0.382347"
      ],
      "text/markdown": [
       "0.382347"
      ],
      "text/plain": [
       "[1] 0.382347"
      ]
     },
     "execution_count": 2,
     "metadata": {},
     "output_type": "execute_result"
    }
   ],
   "source": [
    "dbinom(2,3,.51)"
   ]
  },
  {
   "cell_type": "markdown",
   "metadata": {},
   "source": [
    "Your friend is about to begin an introductory chemistry course at his university. The course has collected data from students on their study habits for many years, and the professor reports that study times (in hours) for the final exam closely follow a normal distribution with mean 24 and standard deviation 4. What percentage of students study 34 hours or more?"
   ]
  },
  {
   "cell_type": "code",
   "execution_count": 11,
   "metadata": {
    "collapsed": false
   },
   "outputs": [
    {
     "data": {
      "text/html": [
       "0.995617924876608"
      ],
      "text/latex": [
       "0.995617924876608"
      ],
      "text/markdown": [
       "0.995617924876608"
      ],
      "text/plain": [
       "[1] 0.9956179"
      ]
     },
     "execution_count": 11,
     "metadata": {},
     "output_type": "execute_result"
    }
   ],
   "source": [
    "1 - dnorm (34,24,4)"
   ]
  },
  {
   "cell_type": "code",
   "execution_count": 12,
   "metadata": {
    "collapsed": false
   },
   "outputs": [
    {
     "data": {
      "text/html": [
       "0.114823026558829"
      ],
      "text/latex": [
       "0.114823026558829"
      ],
      "text/markdown": [
       "0.114823026558829"
      ],
      "text/plain": [
       "[1] 0.114823"
      ]
     },
     "execution_count": 12,
     "metadata": {},
     "output_type": "execute_result"
    }
   ],
   "source": [
    "dbinom(92,100,.90)"
   ]
  },
  {
   "cell_type": "code",
   "execution_count": 13,
   "metadata": {
    "collapsed": false
   },
   "outputs": [
    {
     "data": {
      "text/html": [
       "0.0453082755998153"
      ],
      "text/latex": [
       "0.0453082755998153"
      ],
      "text/markdown": [
       "0.0453082755998153"
      ],
      "text/plain": [
       "[1] 0.04530828"
      ]
     },
     "execution_count": 13,
     "metadata": {},
     "output_type": "execute_result"
    }
   ],
   "source": [
    "dbinom(35,3000000,.00001)"
   ]
  },
  {
   "cell_type": "code",
   "execution_count": 16,
   "metadata": {
    "collapsed": false
   },
   "outputs": [
    {
     "data": {
      "text/html": [
       "0.516017692820707"
      ],
      "text/latex": [
       "0.516017692820707"
      ],
      "text/markdown": [
       "0.516017692820707"
      ],
      "text/plain": [
       "[1] 0.5160177"
      ]
     },
     "execution_count": 16,
     "metadata": {},
     "output_type": "execute_result"
    }
   ],
   "source": [
    "1- dbinom(0,10,.07)"
   ]
  },
  {
   "cell_type": "code",
   "execution_count": null,
   "metadata": {
    "collapsed": true
   },
   "outputs": [],
   "source": []
  }
 ],
 "metadata": {
  "kernelspec": {
   "display_name": "R",
   "language": "R",
   "name": "ir"
  },
  "language_info": {
   "codemirror_mode": "r",
   "file_extension": ".r",
   "mimetype": "text/x-r-source",
   "name": "R",
   "pygments_lexer": "r",
   "version": "3.1.3"
  }
 },
 "nbformat": 4,
 "nbformat_minor": 0
}
