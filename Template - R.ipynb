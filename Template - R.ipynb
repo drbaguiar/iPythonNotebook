{
 "cells": [
  {
   "cell_type": "code",
   "execution_count": 1,
   "metadata": {
    "collapsed": false
   },
   "outputs": [
    {
     "data": {
      "text/html": [
       "\"LC_COLLATE=English_United States.1252;LC_CTYPE=English_United States.1252;LC_MONETARY=English_United States.1252;LC_NUMERIC=C;LC_TIME=English_United States.1252\""
      ],
      "text/latex": [
       "\"LC_COLLATE=English_United States.1252;LC_CTYPE=English_United States.1252;LC_MONETARY=English_United States.1252;LC_NUMERIC=C;LC_TIME=English_United States.1252\""
      ],
      "text/markdown": [
       "\"LC_COLLATE=English_United States.1252;LC_CTYPE=English_United States.1252;LC_MONETARY=English_United States.1252;LC_NUMERIC=C;LC_TIME=English_United States.1252\""
      ],
      "text/plain": [
       "[1] \"LC_COLLATE=English_United States.1252;LC_CTYPE=English_United States.1252;LC_MONETARY=English_United States.1252;LC_NUMERIC=C;LC_TIME=English_United States.1252\""
      ]
     },
     "execution_count": 1,
     "metadata": {},
     "output_type": "execute_result"
    }
   ],
   "source": [
    "##Clear the environment\n",
    "rm(list=ls())\n",
    "\n",
    "##Turn off scientific notations for numbers\n",
    "options(scipen = 999)  \n",
    "\n",
    "##Set locale\n",
    "Sys.setlocale(\"LC_ALL\", \"English\") \n",
    "\n",
    "##Set seed for reproducibility\n",
    "set.seed(2345)\n",
    "\n",
    "# Turn off warnings\n",
    "options(warn = -1)\n",
    "\n",
    "getstats <- function(cm){\n",
    "  # Sensititvity a.k.a TPR\n",
    "  tpr <-cm[2,2]/(cm[2,2]+cm[2,1])\n",
    "  fpr <-cm[1,2]/(cm[1,2]+cm[1,1])\n",
    "  \n",
    "  # Specificity a.k.a. TNR\n",
    "  tnr <- cm[1,1]/(cm[1,1]+cm[1,2])\n",
    "  fnr <- cm[2,1]/(cm[2,1]+cm[2,2])\n",
    "  \n",
    "  # Calculate accuracy\n",
    "  acc <-(cm[2,2]+cm[1,1])/sum(cm)\n",
    "  err <-(cm[1,2]+cm[2,1])/sum(cm)\n",
    "  \n",
    "  #Precision - Positive Predictive Value\n",
    "  ppv <- cm[2,2]/(cm[2,2]+cm[1,2])\n",
    "  \n",
    "  # Negative Predictive Value\n",
    "  npv <- cm[1,1]/(cm[1,1]+cm[2,1])\n",
    "  \n",
    "  rbind(TruePos_Sensitivity=tpr, FalsePos=fpr, TrueNeg_Specificty=tnr, FalseNeg=fnr, PositivePredictiveValue=ppv, NegativePredictiveValue=npv, Accuracy = acc, Error = err)\n",
    "}\n",
    "\n",
    "# clean the data names and data\n",
    "# Use: df<-cleanit(df)\n",
    "cleanit <-function(df){\n",
    "  names(df) <-tolower(names(df))\n",
    "  names(df) <- gsub(\"\\\\(\",\"\",names(df))\n",
    "  names(df) <- gsub(\"\\\\)\",\"\",names(df))\n",
    "  names(df) <- gsub(\"\\\\.\",\"\",names(df))\n",
    "  names(df) <- gsub(\"_\",\"\",names(df))\n",
    "  names(df) <- gsub(\"-\",\"\",names(df))\n",
    "  names(df) <- gsub(\",\",\"\",names(df))\n",
    "  return(df)\n",
    "}\n"
   ]
  },
  {
   "cell_type": "code",
   "execution_count": 2,
   "metadata": {
    "collapsed": false
   },
   "outputs": [
    {
     "ename": "ERROR",
     "evalue": "Error in file.choose(): file choice cancelled\n",
     "output_type": "error",
     "traceback": [
      "Error in file.choose(): file choice cancelled\n"
     ]
    }
   ],
   "source": [
    "# Choose\n",
    "fname <- file.choose()"
   ]
  },
  {
   "cell_type": "code",
   "execution_count": 3,
   "metadata": {
    "collapsed": false
   },
   "outputs": [
    {
     "ename": "ERROR",
     "evalue": "Error in df[ix]: object of type 'closure' is not subsettable\n",
     "output_type": "error",
     "traceback": [
      "Error in df[ix]: object of type 'closure' is not subsettable\n"
     ]
    },
    {
     "name": "stdout",
     "output_type": "stream",
     "text": [
      "function (x, df1, df2, ncp, log = FALSE)  \n"
     ]
    }
   ],
   "source": [
    "##Convert Multiple columns in this example to numeric\n",
    "ix <- 1:20\n",
    "df[ix] <- lapply(df[ix], as.numeric) \n",
    "str(df)"
   ]
  },
  {
   "cell_type": "code",
   "execution_count": null,
   "metadata": {
    "collapsed": true
   },
   "outputs": [],
   "source": [
    "# count blanks remove blanks\n",
    "#barplot(colSums(!is.na(df)))\n",
    "colSums(!is.na(df)) ## Count blanks\n",
    "#df <- na.omit(df) ## THis will remove blanks"
   ]
  }
 ],
 "metadata": {
  "kernelspec": {
   "display_name": "R",
   "language": "R",
   "name": "ir"
  },
  "language_info": {
   "codemirror_mode": "r",
   "file_extension": ".r",
   "mimetype": "text/x-r-source",
   "name": "R",
   "pygments_lexer": "r",
   "version": "3.2.1"
  }
 },
 "nbformat": 4,
 "nbformat_minor": 0
}
