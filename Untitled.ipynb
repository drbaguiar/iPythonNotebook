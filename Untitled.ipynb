{
 "cells": [
  {
   "cell_type": "markdown",
   "metadata": {},
   "source": [
    "<div class=\"thetimenow-embeddable-clock\" data-type=\"clock\" data-font-color=\"#000000\" data-border-color=\"#000000\" data-background-color=\"#ffffff\" data-font-size=\"60\"></div> \n",
    "<script type=\"text/javascript\" src=\"//code.jquery.com/jquery-2.1.4.min.js\"></script> \n",
    "<script type=\"text/javascript\" src=\"http://www.thetimenow.com/ttn-embed.min.js\"></script>\n"
   ]
  },
  {
   "cell_type": "code",
   "execution_count": 3,
   "metadata": {
    "collapsed": false
   },
   "outputs": [
    {
     "data": {
      "text/html": [
       "<table>\n",
       "<tbody>\n",
       "\t<tr><th scope=row>x</th><td> 1</td><td> 2</td><td> 3</td><td> 4</td><td> 5</td><td> 6</td><td> 7</td><td> 8</td><td> 9</td><td>10</td></tr>\n",
       "\t<tr><th scope=row></th><td> 2</td><td> 4</td><td> 6</td><td> 8</td><td>10</td><td>12</td><td>14</td><td>16</td><td>18</td><td>20</td></tr>\n",
       "\t<tr><th scope=row></th><td> 3</td><td> 6</td><td> 9</td><td>12</td><td>15</td><td>18</td><td>21</td><td>24</td><td>27</td><td>30</td></tr>\n",
       "\t<tr><th scope=row></th><td> 4</td><td> 8</td><td>12</td><td>16</td><td>20</td><td>24</td><td>28</td><td>32</td><td>36</td><td>40</td></tr>\n",
       "\t<tr><th scope=row></th><td> 5</td><td>10</td><td>15</td><td>20</td><td>25</td><td>30</td><td>35</td><td>40</td><td>45</td><td>50</td></tr>\n",
       "</tbody>\n",
       "</table>\n"
      ],
      "text/latex": [
       "\\begin{tabular}{r|llllllllll}\n",
       "\tx &  1 &  2 &  3 &  4 &  5 &  6 &  7 &  8 &  9 & 10\\\\\n",
       "\t &  2 &  4 &  6 &  8 & 10 & 12 & 14 & 16 & 18 & 20\\\\\n",
       "\t &  3 &  6 &  9 & 12 & 15 & 18 & 21 & 24 & 27 & 30\\\\\n",
       "\t &  4 &  8 & 12 & 16 & 20 & 24 & 28 & 32 & 36 & 40\\\\\n",
       "\t &  5 & 10 & 15 & 20 & 25 & 30 & 35 & 40 & 45 & 50\\\\\n",
       "\\end{tabular}\n"
      ],
      "text/markdown": [
       "1. 1\n",
       "2. 2\n",
       "3. 3\n",
       "4. 4\n",
       "5. 5\n",
       "6. 2\n",
       "7. 4\n",
       "8. 6\n",
       "9. 8\n",
       "10. 10\n",
       "11. 3\n",
       "12. 6\n",
       "13. 9\n",
       "14. 12\n",
       "15. 15\n",
       "16. 4\n",
       "17. 8\n",
       "18. 12\n",
       "19. 16\n",
       "20. 20\n",
       "21. 5\n",
       "22. 10\n",
       "23. 15\n",
       "24. 20\n",
       "25. 25\n",
       "26. 6\n",
       "27. 12\n",
       "28. 18\n",
       "29. 24\n",
       "30. 30\n",
       "31. 7\n",
       "32. 14\n",
       "33. 21\n",
       "34. 28\n",
       "35. 35\n",
       "36. 8\n",
       "37. 16\n",
       "38. 24\n",
       "39. 32\n",
       "40. 40\n",
       "41. 9\n",
       "42. 18\n",
       "43. 27\n",
       "44. 36\n",
       "45. 45\n",
       "46. 10\n",
       "47. 20\n",
       "48. 30\n",
       "49. 40\n",
       "50. 50\n",
       "\n",
       "\n"
      ],
      "text/plain": [
       "  [,1] [,2] [,3] [,4] [,5] [,6] [,7] [,8] [,9] [,10]\n",
       "x    1    2    3    4    5    6    7    8    9    10\n",
       "     2    4    6    8   10   12   14   16   18    20\n",
       "     3    6    9   12   15   18   21   24   27    30\n",
       "     4    8   12   16   20   24   28   32   36    40\n",
       "     5   10   15   20   25   30   35   40   45    50"
      ]
     },
     "execution_count": 3,
     "metadata": {},
     "output_type": "execute_result"
    }
   ],
   "source": [
    "x=1:10\n",
    "y<-rbind(x,2*x,3*x,4*x,5*x)\n",
    "y"
   ]
  },
  {
   "cell_type": "code",
   "execution_count": 4,
   "metadata": {
    "collapsed": false
   },
   "outputs": [
    {
     "data": {
      "text/html": [
       "<table>\n",
       "<thead><tr><th scope=col>x</th><th scope=col></th><th scope=col></th><th scope=col></th><th scope=col></th></tr></thead>\n",
       "<tbody>\n",
       "\t<tr><td>1</td><td>2</td><td>3</td><td>4</td><td>5</td></tr>\n",
       "\t<tr><td> 2</td><td> 4</td><td> 6</td><td> 8</td><td>10</td></tr>\n",
       "\t<tr><td> 3</td><td> 6</td><td> 9</td><td>12</td><td>15</td></tr>\n",
       "\t<tr><td> 4</td><td> 8</td><td>12</td><td>16</td><td>20</td></tr>\n",
       "\t<tr><td> 5</td><td>10</td><td>15</td><td>20</td><td>25</td></tr>\n",
       "\t<tr><td> 6</td><td>12</td><td>18</td><td>24</td><td>30</td></tr>\n",
       "\t<tr><td> 7</td><td>14</td><td>21</td><td>28</td><td>35</td></tr>\n",
       "\t<tr><td> 8</td><td>16</td><td>24</td><td>32</td><td>40</td></tr>\n",
       "\t<tr><td> 9</td><td>18</td><td>27</td><td>36</td><td>45</td></tr>\n",
       "\t<tr><td>10</td><td>20</td><td>30</td><td>40</td><td>50</td></tr>\n",
       "</tbody>\n",
       "</table>\n"
      ],
      "text/latex": [
       "\\begin{tabular}{lllll}\n",
       " x &  &  &  & \\\\\n",
       "\\hline\n",
       "\t 1 & 2 & 3 & 4 & 5\\\\\n",
       "\t  2 &  4 &  6 &  8 & 10\\\\\n",
       "\t  3 &  6 &  9 & 12 & 15\\\\\n",
       "\t  4 &  8 & 12 & 16 & 20\\\\\n",
       "\t  5 & 10 & 15 & 20 & 25\\\\\n",
       "\t  6 & 12 & 18 & 24 & 30\\\\\n",
       "\t  7 & 14 & 21 & 28 & 35\\\\\n",
       "\t  8 & 16 & 24 & 32 & 40\\\\\n",
       "\t  9 & 18 & 27 & 36 & 45\\\\\n",
       "\t 10 & 20 & 30 & 40 & 50\\\\\n",
       "\\end{tabular}\n"
      ],
      "text/markdown": [
       "1. 1\n",
       "2. 2\n",
       "3. 3\n",
       "4. 4\n",
       "5. 5\n",
       "6. 6\n",
       "7. 7\n",
       "8. 8\n",
       "9. 9\n",
       "10. 10\n",
       "11. 2\n",
       "12. 4\n",
       "13. 6\n",
       "14. 8\n",
       "15. 10\n",
       "16. 12\n",
       "17. 14\n",
       "18. 16\n",
       "19. 18\n",
       "20. 20\n",
       "21. 3\n",
       "22. 6\n",
       "23. 9\n",
       "24. 12\n",
       "25. 15\n",
       "26. 18\n",
       "27. 21\n",
       "28. 24\n",
       "29. 27\n",
       "30. 30\n",
       "31. 4\n",
       "32. 8\n",
       "33. 12\n",
       "34. 16\n",
       "35. 20\n",
       "36. 24\n",
       "37. 28\n",
       "38. 32\n",
       "39. 36\n",
       "40. 40\n",
       "41. 5\n",
       "42. 10\n",
       "43. 15\n",
       "44. 20\n",
       "45. 25\n",
       "46. 30\n",
       "47. 35\n",
       "48. 40\n",
       "49. 45\n",
       "50. 50\n",
       "\n",
       "\n"
      ],
      "text/plain": [
       "       x            \n",
       " [1,]  1  2  3  4  5\n",
       " [2,]  2  4  6  8 10\n",
       " [3,]  3  6  9 12 15\n",
       " [4,]  4  8 12 16 20\n",
       " [5,]  5 10 15 20 25\n",
       " [6,]  6 12 18 24 30\n",
       " [7,]  7 14 21 28 35\n",
       " [8,]  8 16 24 32 40\n",
       " [9,]  9 18 27 36 45\n",
       "[10,] 10 20 30 40 50"
      ]
     },
     "execution_count": 4,
     "metadata": {},
     "output_type": "execute_result"
    }
   ],
   "source": [
    "z<-cbind(x,2*x,3*x,4*x,5*x)\n",
    "z"
   ]
  },
  {
   "cell_type": "code",
   "execution_count": 2,
   "metadata": {
    "collapsed": false
   },
   "outputs": [
    {
     "data": {
      "text/html": [
       "<table>\n",
       "<tbody>\n",
       "\t<tr><td>1</td><td>0</td><td>0</td><td>0</td><td>0</td></tr>\n",
       "\t<tr><td>0</td><td>1</td><td>0</td><td>0</td><td>0</td></tr>\n",
       "\t<tr><td>0</td><td>0</td><td>1</td><td>0</td><td>0</td></tr>\n",
       "\t<tr><td>0</td><td>0</td><td>0</td><td>1</td><td>0</td></tr>\n",
       "\t<tr><td>0</td><td>0</td><td>0</td><td>0</td><td>1</td></tr>\n",
       "</tbody>\n",
       "</table>\n"
      ],
      "text/latex": [
       "\\begin{tabular}{lllll}\n",
       "\t 1 & 0 & 0 & 0 & 0\\\\\n",
       "\t 0 & 1 & 0 & 0 & 0\\\\\n",
       "\t 0 & 0 & 1 & 0 & 0\\\\\n",
       "\t 0 & 0 & 0 & 1 & 0\\\\\n",
       "\t 0 & 0 & 0 & 0 & 1\\\\\n",
       "\\end{tabular}\n"
      ],
      "text/markdown": [
       "1. 1\n",
       "2. 0\n",
       "3. 0\n",
       "4. 0\n",
       "5. 0\n",
       "6. 0\n",
       "7. 1\n",
       "8. 0\n",
       "9. 0\n",
       "10. 0\n",
       "11. 0\n",
       "12. 0\n",
       "13. 1\n",
       "14. 0\n",
       "15. 0\n",
       "16. 0\n",
       "17. 0\n",
       "18. 0\n",
       "19. 1\n",
       "20. 0\n",
       "21. 0\n",
       "22. 0\n",
       "23. 0\n",
       "24. 0\n",
       "25. 1\n",
       "\n",
       "\n"
      ],
      "text/plain": [
       "     [,1] [,2] [,3] [,4] [,5]\n",
       "[1,]    1    0    0    0    0\n",
       "[2,]    0    1    0    0    0\n",
       "[3,]    0    0    1    0    0\n",
       "[4,]    0    0    0    1    0\n",
       "[5,]    0    0    0    0    1"
      ]
     },
     "execution_count": 2,
     "metadata": {},
     "output_type": "execute_result"
    }
   ],
   "source": [
    "# Identity Matrix\n",
    "diag(5)"
   ]
  },
  {
   "cell_type": "markdown",
   "metadata": {},
   "source": [
    "###Problems\n",
    "\n",
    "Load the following two matrices into R:\n",
    "\n",
    "a <- matrix(1:12, nrow=4)\n",
    "b <- matrix(1:15, nrow=3)\n",
    "\n",
    "Note the dimension of 'a' and the dimension of 'b'.\n",
    "\n",
    "In the question below, we will use the matrix multiplication operator in R, %*%, to multiply these two matrices."
   ]
  },
  {
   "cell_type": "code",
   "execution_count": 69,
   "metadata": {
    "collapsed": false
   },
   "outputs": [],
   "source": [
    "a <- matrix(1:12, nrow=4)\n",
    "b <- matrix(1:15, nrow=3)"
   ]
  },
  {
   "cell_type": "markdown",
   "metadata": {},
   "source": [
    "What is the value in the 3rd row and the 2nd column of the matrix product of 'a' and 'b'"
   ]
  },
  {
   "cell_type": "code",
   "execution_count": 71,
   "metadata": {
    "collapsed": false
   },
   "outputs": [
    {
     "data": {
      "text/html": [
       "<table>\n",
       "<tbody>\n",
       "\t<tr><td> 38</td><td> 83</td><td>128</td><td>173</td><td>218</td></tr>\n",
       "\t<tr><td> 44</td><td> 98</td><td>152</td><td>206</td><td>260</td></tr>\n",
       "\t<tr><td> 50</td><td>113</td><td>176</td><td>239</td><td>302</td></tr>\n",
       "\t<tr><td> 56</td><td>128</td><td>200</td><td>272</td><td>344</td></tr>\n",
       "</tbody>\n",
       "</table>\n"
      ],
      "text/latex": [
       "\\begin{tabular}{lllll}\n",
       "\t  38 &  83 & 128 & 173 & 218\\\\\n",
       "\t  44 &  98 & 152 & 206 & 260\\\\\n",
       "\t  50 & 113 & 176 & 239 & 302\\\\\n",
       "\t  56 & 128 & 200 & 272 & 344\\\\\n",
       "\\end{tabular}\n"
      ],
      "text/markdown": [
       "1. 38\n",
       "2. 44\n",
       "3. 50\n",
       "4. 56\n",
       "5. 83\n",
       "6. 98\n",
       "7. 113\n",
       "8. 128\n",
       "9. 128\n",
       "10. 152\n",
       "11. 176\n",
       "12. 200\n",
       "13. 173\n",
       "14. 206\n",
       "15. 239\n",
       "16. 272\n",
       "17. 218\n",
       "18. 260\n",
       "19. 302\n",
       "20. 344\n",
       "\n",
       "\n"
      ],
      "text/plain": [
       "     [,1] [,2] [,3] [,4] [,5]\n",
       "[1,]   38   83  128  173  218\n",
       "[2,]   44   98  152  206  260\n",
       "[3,]   50  113  176  239  302\n",
       "[4,]   56  128  200  272  344"
      ]
     },
     "execution_count": 71,
     "metadata": {},
     "output_type": "execute_result"
    }
   ],
   "source": [
    "d = a %*% b\n",
    "d"
   ]
  },
  {
   "cell_type": "markdown",
   "metadata": {},
   "source": [
    "Multiply the 3rd row of 'a' with the 2nd column of 'b', using the element-wise vector multiplication with *.\n",
    "\n",
    "What is the sum of the elements in the resulting vector?"
   ]
  },
  {
   "cell_type": "code",
   "execution_count": 64,
   "metadata": {
    "collapsed": false
   },
   "outputs": [
    {
     "data": {
      "text/html": [
       "113"
      ],
      "text/latex": [
       "113"
      ],
      "text/markdown": [
       "113"
      ],
      "text/plain": [
       "[1] 113"
      ]
     },
     "execution_count": 64,
     "metadata": {},
     "output_type": "execute_result"
    }
   ],
   "source": [
    "sum(a[3,]*b[,2])"
   ]
  },
  {
   "cell_type": "markdown",
   "metadata": {},
   "source": [
    "Solve the following system of equations using R:\n",
    "\n",
    "3a + 4b - 5c + d = 10\n",
    "\n",
    "2a + 2b + 2c - d = 5\n",
    "\n",
    "a -b + 5c - 5d = 7\n",
    "\n",
    "5a + d = 4\n",
    "\n",
    "What is the solution for c:"
   ]
  },
  {
   "cell_type": "code",
   "execution_count": 48,
   "metadata": {
    "collapsed": false
   },
   "outputs": [
    {
     "data": {
      "text/html": [
       "<table>\n",
       "<tbody>\n",
       "\t<tr><td>1.247788</td></tr>\n",
       "\t<tr><td>1.017699</td></tr>\n",
       "\t<tr><td>-0.8849558</td></tr>\n",
       "\t<tr><td>-2.238938</td></tr>\n",
       "</tbody>\n",
       "</table>\n"
      ],
      "text/latex": [
       "\\begin{tabular}{l}\n",
       "\t 1.247788\\\\\n",
       "\t 1.017699\\\\\n",
       "\t -0.8849558\\\\\n",
       "\t -2.238938\\\\\n",
       "\\end{tabular}\n"
      ],
      "text/markdown": [
       "1. 1.24778761061947\n",
       "2. 1.01769911504425\n",
       "3. -0.884955752212389\n",
       "4. -2.23893805309734\n",
       "\n",
       "\n"
      ],
      "text/plain": [
       "           [,1]\n",
       "[1,]  1.2477876\n",
       "[2,]  1.0176991\n",
       "[3,] -0.8849558\n",
       "[4,] -2.2389381"
      ]
     },
     "execution_count": 48,
     "metadata": {},
     "output_type": "execute_result"
    }
   ],
   "source": [
    "X  <- matrix(c(3,2,1,5,4,2,-1,0,-5,2,5,0,1,-1,-5,1),4,4)\n",
    "abcd <-matrix(c(10,5,7,4),4,1)\n",
    "solve(X)%*%abcd #equivalent to solve(X,b)"
   ]
  },
  {
   "cell_type": "code",
   "execution_count": null,
   "metadata": {
    "collapsed": false
   },
   "outputs": [],
   "source": []
  },
  {
   "cell_type": "code",
   "execution_count": null,
   "metadata": {
    "collapsed": true
   },
   "outputs": [],
   "source": []
  }
 ],
 "metadata": {
  "kernelspec": {
   "display_name": "R",
   "language": "R",
   "name": "ir"
  },
  "language_info": {
   "codemirror_mode": "r",
   "file_extension": ".r",
   "mimetype": "text/x-r-source",
   "name": "R",
   "pygments_lexer": "r",
   "version": "3.2.1"
  }
 },
 "nbformat": 4,
 "nbformat_minor": 0
}
