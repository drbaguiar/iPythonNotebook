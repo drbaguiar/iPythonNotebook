{
 "cells": [
  {
   "cell_type": "code",
   "execution_count": 1,
   "metadata": {
    "collapsed": true
   },
   "outputs": [],
   "source": [
    "library(httr)\n",
    "r <- GET(\"http://httpbin.org/get\")"
   ]
  },
  {
   "cell_type": "code",
   "execution_count": 2,
   "metadata": {
    "collapsed": false
   },
   "outputs": [
    {
     "data": {
      "text/plain": [
       "Response [http://httpbin.org/get]\n",
       "  Date: 2015-11-22 04:49\n",
       "  Status: 200\n",
       "  Content-Type: application/json\n",
       "  Size: 359 B\n",
       "{\n",
       "  \"args\": {}, \n",
       "  \"headers\": {\n",
       "    \"Accept\": \"application/json, text/xml, application/xml, */*\", \n",
       "    \"Accept-Encoding\": \"gzip, deflate\", \n",
       "    \"Host\": \"httpbin.org\", \n",
       "    \"User-Agent\": \"libcurl/7.43.0 r-curl/0.9.3 httr/1.0.0\", \n",
       "    \"Via\": \"HTTP/1.1 aln2nz02msp4ts04.wnsnet.attws.com\"\n",
       "  }, \n",
       "  \"origin\": \"166.137.118.113\", \n",
       "..."
      ]
     },
     "execution_count": 2,
     "metadata": {},
     "output_type": "execute_result"
    }
   ],
   "source": [
    "r"
   ]
  },
  {
   "cell_type": "code",
   "execution_count": 3,
   "metadata": {
    "collapsed": false
   },
   "outputs": [
    {
     "data": {
      "text/html": [
       "200"
      ],
      "text/latex": [
       "200"
      ],
      "text/markdown": [
       "200"
      ],
      "text/plain": [
       "[1] 200"
      ]
     },
     "execution_count": 3,
     "metadata": {},
     "output_type": "execute_result"
    }
   ],
   "source": [
    "status_code(r)"
   ]
  },
  {
   "cell_type": "code",
   "execution_count": 4,
   "metadata": {
    "collapsed": false
   },
   "outputs": [
    {
     "data": {
      "text/html": [
       "<dl>\n",
       "\t<dt>$server</dt>\n",
       "\t\t<dd>\"nginx\"</dd>\n",
       "\t<dt>$date</dt>\n",
       "\t\t<dd>\"Sun, 22 Nov 2015 04:49:13 GMT\"</dd>\n",
       "\t<dt>$content-type</dt>\n",
       "\t\t<dd>\"application/json\"</dd>\n",
       "\t<dt>$content-length</dt>\n",
       "\t\t<dd>\"359\"</dd>\n",
       "\t<dt>$connection</dt>\n",
       "\t\t<dd>\"keep-alive\"</dd>\n",
       "\t<dt>$access-control-allow-origin</dt>\n",
       "\t\t<dd>\"*\"</dd>\n",
       "\t<dt>$access-control-allow-credentials</dt>\n",
       "\t\t<dd>\"true\"</dd>\n",
       "</dl>\n"
      ],
      "text/latex": [
       "\\begin{description}\n",
       "\\item[\\$server] \"nginx\"\n",
       "\\item[\\$date] \"Sun, 22 Nov 2015 04:49:13 GMT\"\n",
       "\\item[\\$content-type] \"application/json\"\n",
       "\\item[\\$content-length] \"359\"\n",
       "\\item[\\$connection] \"keep-alive\"\n",
       "\\item[\\$access-control-allow-origin] \"*\"\n",
       "\\item[\\$access-control-allow-credentials] \"true\"\n",
       "\\end{description}\n"
      ],
      "text/markdown": [
       "$server\n",
       ":   \"nginx\"\n",
       "$date\n",
       ":   \"Sun, 22 Nov 2015 04:49:13 GMT\"\n",
       "$content-type\n",
       ":   \"application/json\"\n",
       "$content-length\n",
       ":   \"359\"\n",
       "$connection\n",
       ":   \"keep-alive\"\n",
       "$access-control-allow-origin\n",
       ":   \"*\"\n",
       "$access-control-allow-credentials\n",
       ":   \"true\"\n",
       "\n",
       "\n"
      ],
      "text/plain": [
       "$server\n",
       "[1] \"nginx\"\n",
       "\n",
       "$date\n",
       "[1] \"Sun, 22 Nov 2015 04:49:13 GMT\"\n",
       "\n",
       "$`content-type`\n",
       "[1] \"application/json\"\n",
       "\n",
       "$`content-length`\n",
       "[1] \"359\"\n",
       "\n",
       "$connection\n",
       "[1] \"keep-alive\"\n",
       "\n",
       "$`access-control-allow-origin`\n",
       "[1] \"*\"\n",
       "\n",
       "$`access-control-allow-credentials`\n",
       "[1] \"true\"\n",
       "\n",
       "attr(,\"class\")\n",
       "[1] \"insensitive\" \"list\"       "
      ]
     },
     "execution_count": 4,
     "metadata": {},
     "output_type": "execute_result"
    }
   ],
   "source": [
    "headers(r)"
   ]
  },
  {
   "cell_type": "code",
   "execution_count": null,
   "metadata": {
    "collapsed": true
   },
   "outputs": [],
   "source": []
  }
 ],
 "metadata": {
  "kernelspec": {
   "display_name": "R",
   "language": "R",
   "name": "ir"
  },
  "language_info": {
   "codemirror_mode": "r",
   "file_extension": ".r",
   "mimetype": "text/x-r-source",
   "name": "R",
   "pygments_lexer": "r",
   "version": "3.2.1"
  }
 },
 "nbformat": 4,
 "nbformat_minor": 0
}
