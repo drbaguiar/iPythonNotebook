{
 "cells": [
  {
   "cell_type": "markdown",
   "metadata": {},
   "source": [
    "##Toy Probelm\n",
    "\n",
    "A toy problem is a problem that is not of immediate interest, yet is used as an expository device to illustrate a trait that may be shared by other, more complicated, instances of the problem, or as a way to explain a particular, more general, problem solving technique.  For instance, while engineering a large system, the large problem is often broken down into many smaller toy problems which have been understood in good detail. \n",
    "\n",
    "Often these problems distill a few important aspects of complicated problems so that they can be studied in isolation. Toy problems are thus often very useful in providing intuition about specific phenomena in more complicated problems."
   ]
  },
  {
   "cell_type": "markdown",
   "metadata": {},
   "source": [
    "###Golf\n",
    "\n",
    "Based on some features can we predict:\n",
    "    \n",
    "    Classification: if a person will or will not play golf (nominal)\n",
    "    \n",
    "    Regression: Golf Score (numerical)\n",
    "    \n",
    "Supervised learning (Training)\n",
    "\n",
    "    Given a set of inputs and outputs \"learn\" the relationship between them\n",
    "    \n",
    "Unsupervised learning (Mining)\n",
    "\n",
    "    Given a set of inputs learn labels.  (Clustering, dimension reduction)\n",
    "\n",
    "    "
   ]
  },
  {
   "cell_type": "code",
   "execution_count": null,
   "metadata": {
    "collapsed": true
   },
   "outputs": [],
   "source": []
  },
  {
   "cell_type": "code",
   "execution_count": null,
   "metadata": {
    "collapsed": true
   },
   "outputs": [],
   "source": []
  }
 ],
 "metadata": {
  "kernelspec": {
   "display_name": "Python 2",
   "language": "python",
   "name": "python2"
  },
  "language_info": {
   "codemirror_mode": {
    "name": "ipython",
    "version": 2
   },
   "file_extension": ".py",
   "mimetype": "text/x-python",
   "name": "python",
   "nbconvert_exporter": "python",
   "pygments_lexer": "ipython2",
   "version": "2.7.10"
  }
 },
 "nbformat": 4,
 "nbformat_minor": 0
}
