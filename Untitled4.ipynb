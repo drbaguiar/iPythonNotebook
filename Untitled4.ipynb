{
 "cells": [
  {
   "cell_type": "code",
   "execution_count": 1,
   "metadata": {
    "collapsed": false
   },
   "outputs": [
    {
     "name": "stdout",
     "output_type": "stream",
     "text": [
      "[ 0.1210581   0.44713725  0.4379842   0.5498253   0.35533054  0.29841989\n",
      "  0.56349269  0.1978093   0.49053045  0.46998943  0.02188762  0.12402608\n",
      "  0.3019553   0.24293751  0.13928298  0.03407283  0.07109011  0.14076885\n",
      "  0.14591964  0.08662233  0.19078445  0.68580172  0.46078663  0.10019926\n",
      "  0.02423093  0.70030702  0.20365573  0.05302922  0.49912079  0.3587963\n",
      "  0.23321095  0.23696542  0.023097    0.04203078  0.11415411  0.32963528\n",
      "  0.32529247  0.16440187  0.67882242  0.08161916  0.03461206  0.73180738\n",
      "  0.02967232  0.07997054  0.12352432  0.66417506  0.63460628  0.16117494\n",
      "  0.20943147  0.41010758  0.70658555  0.30696918  0.08195162  0.84797844\n",
      "  0.2312822   0.06319986  0.49347383  0.19010047  0.79915875  0.27740102\n",
      "  0.31922483  0.03592516  0.77006181  0.36544948  0.14534495  0.09718314\n",
      "  0.25118368  0.6241013   0.1411631   0.54200349  0.32588529  0.79877031\n",
      "  0.15145157  0.0815847   0.04422364  0.00469532  0.28293721  0.44475864\n",
      "  0.14136592  0.76945447  0.61224081  0.40875947  0.01355555  0.20140054\n",
      "  0.06907378  0.12648087  0.35905169  0.28568005  0.28823131  0.61265876\n",
      "  0.16366016  0.1017776   0.27190375  0.01603675  0.30000585  0.17504358\n",
      "  0.19500616  0.02306341  0.40006725  0.68095377]\n"
     ]
    }
   ],
   "source": [
    "# demonstrates how to calculate the output of a logistic unit using numpy.\n",
    "# the data X and weight matrix w are randomly generated from a\n",
    "# standard normal distribution.\n",
    "#\n",
    "# the notes for this class can be found at: \n",
    "# https://www.udemy.com/data-science-logistic-regression-in-python\n",
    "\n",
    "import numpy as np\n",
    "\n",
    "N = 100\n",
    "D = 2\n",
    "\n",
    "\n",
    "X = np.random.randn(N,D)\n",
    "ones = np.array([[1]*N]).T\n",
    "Xb = np.concatenate((ones, X), axis=1)\n",
    "\n",
    "w = np.random.randn(D + 1)\n",
    "\n",
    "z = Xb.dot(w)\n",
    "\n",
    "def sigmoid(z):\n",
    "    return 1/(1 + np.exp(-z))\n",
    "\n",
    "print sigmoid(z)"
   ]
  }
 ],
 "metadata": {
  "kernelspec": {
   "display_name": "Python 2",
   "language": "python",
   "name": "python2"
  },
  "language_info": {
   "codemirror_mode": {
    "name": "ipython",
    "version": 2
   },
   "file_extension": ".py",
   "mimetype": "text/x-python",
   "name": "python",
   "nbconvert_exporter": "python",
   "pygments_lexer": "ipython2",
   "version": "2.7.10"
  }
 },
 "nbformat": 4,
 "nbformat_minor": 0
}
