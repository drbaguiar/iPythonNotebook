{
 "metadata": {
  "kernelspec": {
   "display_name": "Python 2",
   "language": "python",
   "name": "python2"
  },
  "language_info": {
   "codemirror_mode": {
    "name": "ipython",
    "version": 2
   },
   "file_extension": ".py",
   "mimetype": "text/x-python",
   "name": "python",
   "nbconvert_exporter": "python",
   "pygments_lexer": "ipython2",
   "version": "2.7.10"
  },
  "name": "",
  "signature": "sha256:4f9fe3b5ca0020a49a047605eab0e743b17fad19ddcc6b33ea35d025f4474999"
 },
 "nbformat": 3,
 "nbformat_minor": 0,
 "worksheets": [
  {
   "cells": [
    {
     "cell_type": "markdown",
     "metadata": {},
     "source": [
      "<h1>Data's messy - clean it up!</h1>"
     ]
    },
    {
     "cell_type": "markdown",
     "metadata": {},
     "source": [
      "Data cleaning is a critical process for improving data quality and ultimately the accuracy of machine learning model output. In this notebook we show how the GraphLab Create Data Matching toolkit can be used to get your data shiny clean.\n",
      "\n",
      "1. Auto-tagging Stack Overflow questions and answers\n",
      "2. Record linkage of house listings\n",
      "3. Composite distances and choosing neighborhood parameters"
     ]
    },
    {
     "cell_type": "markdown",
     "metadata": {},
     "source": [
      "**Note: this notebook requires GraphLab Create 1.6 or higher.**"
     ]
    },
    {
     "cell_type": "markdown",
     "metadata": {},
     "source": [
      "<h2>Auto-tagging Stack Overflow questions *and* answers</h2>"
     ]
    },
    {
     "cell_type": "code",
     "collapsed": true,
     "input": [
      "import os\n",
      "import graphlab as gl"
     ],
     "language": "python",
     "metadata": {},
     "outputs": [],
     "prompt_number": 1
    },
    {
     "cell_type": "markdown",
     "metadata": {},
     "source": [
      "In the first section of this notebook we autotag posts from CrossValidated, the statistics section of the Stack Exchange network. Questions posted on this forum are typically annotated with tags by the authors but responses are not, making it more difficult to quickly scan responses for the most useful information. The raw data is available from the Stack Exchange data dump. For convenience we provide a preprocessed subsample (7.8MB) in the public Dato datasets bucket on Amazon S3, which is downloaded and saved locally with the first code snippet below.\n",
      "\n",
      "For reference tags we use a lightly-curated list of statistics topics from Wikipedia. The preprocessed list is also available in the Dato-datasets S3 bucket.\n",
      "\n",
      "A more extensive explanations of the code can be found in the [Autotagger chapter of the User Guide](https://dato.com/learn/userguide/data_matching/autotagger.html). "
     ]
    },
    {
     "cell_type": "markdown",
     "metadata": {},
     "source": [
      "<h3>Read in the metadata</h3>"
     ]
    },
    {
     "cell_type": "markdown",
     "metadata": {},
     "source": [
      "The data is also saved locally to avoid repeated downloads."
     ]
    },
    {
     "cell_type": "code",
     "collapsed": false,
     "input": [
      "if os.path.exists('statistics_topics.csv'):\n",
      "    stats_topics = gl.SFrame.read_csv('statistics_topics.csv', header=False)\n",
      "else:\n",
      "    stats_topics = gl.SFrame.read_csv('http://s3.amazonaws.com/dato-datasets/tag_lists/statistics_topics.csv',\n",
      "                             header=False)\n",
      "    stats_topics.save('statistics_topics', format='csv')"
     ],
     "language": "python",
     "metadata": {},
     "outputs": [
      {
       "html": [
        "<pre>PROGRESS: Finished parsing file /home/brian/gl-repos/dato.com/src/learn/gallery/notebooks/statistics_topics.csv</pre>"
       ],
       "metadata": {},
       "output_type": "display_data",
       "text": [
        "PROGRESS: Finished parsing file /home/brian/gl-repos/dato.com/src/learn/gallery/notebooks/statistics_topics.csv"
       ]
      },
      {
       "html": [
        "<pre>PROGRESS: Parsing completed. Parsed 100 lines in 0.017293 secs.</pre>"
       ],
       "metadata": {},
       "output_type": "display_data",
       "text": [
        "PROGRESS: Parsing completed. Parsed 100 lines in 0.017293 secs."
       ]
      },
      {
       "output_type": "stream",
       "stream": "stdout",
       "text": [
        "------------------------------------------------------"
       ]
      },
      {
       "html": [
        "<pre>PROGRESS: Finished parsing file /home/brian/gl-repos/dato.com/src/learn/gallery/notebooks/statistics_topics.csv</pre>"
       ],
       "metadata": {},
       "output_type": "display_data",
       "text": [
        "PROGRESS: Finished parsing file /home/brian/gl-repos/dato.com/src/learn/gallery/notebooks/statistics_topics.csv"
       ]
      },
      {
       "html": [
        "<pre>PROGRESS: Parsing completed. Parsed 2736 lines in 0.008665 secs.</pre>"
       ],
       "metadata": {},
       "output_type": "display_data",
       "text": [
        "PROGRESS: Parsing completed. Parsed 2736 lines in 0.008665 secs."
       ]
      },
      {
       "output_type": "stream",
       "stream": "stdout",
       "text": [
        "\n",
        "Inferred types from first line of file as \n",
        "column_type_hints=[str]\n",
        "If parsing fails due to incorrect types, you can correct\n",
        "the inferred type list above and pass it to read_csv in\n",
        "the column_type_hints argument\n",
        "------------------------------------------------------\n"
       ]
      }
     ],
     "prompt_number": 2
    },
    {
     "cell_type": "code",
     "collapsed": false,
     "input": [
      "stats_topics = stats_topics.rename({'X1': 'tag'})\n",
      "stats_topics.tail(10)"
     ],
     "language": "python",
     "metadata": {},
     "outputs": [
      {
       "html": [
        "<div style=\"max-height:1000px;max-width:1500px;overflow:auto;\"><table frame=\"box\" rules=\"cols\">\n",
        "    <tr>\n",
        "        <th style=\"padding-left: 1em; padding-right: 1em; text-align: center\">tag</th>\n",
        "    </tr>\n",
        "    <tr>\n",
        "        <td style=\"padding-left: 1em; padding-right: 1em; text-align: center; vertical-align: top\">z statistic</td>\n",
        "    </tr>\n",
        "    <tr>\n",
        "        <td style=\"padding-left: 1em; padding-right: 1em; text-align: center; vertical-align: top\">Z-test</td>\n",
        "    </tr>\n",
        "    <tr>\n",
        "        <td style=\"padding-left: 1em; padding-right: 1em; text-align: center; vertical-align: top\">Z-transform</td>\n",
        "    </tr>\n",
        "    <tr>\n",
        "        <td style=\"padding-left: 1em; padding-right: 1em; text-align: center; vertical-align: top\">Zakai equation</td>\n",
        "    </tr>\n",
        "    <tr>\n",
        "        <td style=\"padding-left: 1em; padding-right: 1em; text-align: center; vertical-align: top\">Zelen's design</td>\n",
        "    </tr>\n",
        "    <tr>\n",
        "        <td style=\"padding-left: 1em; padding-right: 1em; text-align: center; vertical-align: top\">Zero\u2013one law</td>\n",
        "    </tr>\n",
        "    <tr>\n",
        "        <td style=\"padding-left: 1em; padding-right: 1em; text-align: center; vertical-align: top\">Zeta distribution</td>\n",
        "    </tr>\n",
        "    <tr>\n",
        "        <td style=\"padding-left: 1em; padding-right: 1em; text-align: center; vertical-align: top\">Ziggurat algorithm</td>\n",
        "    </tr>\n",
        "    <tr>\n",
        "        <td style=\"padding-left: 1em; padding-right: 1em; text-align: center; vertical-align: top\">Zipf\u2013Mandelbrot law</td>\n",
        "    </tr>\n",
        "    <tr>\n",
        "        <td style=\"padding-left: 1em; padding-right: 1em; text-align: center; vertical-align: top\">Zipf's law</td>\n",
        "    </tr>\n",
        "</table>\n",
        "[10 rows x 1 columns]<br/>\n",
        "</div>"
       ],
       "metadata": {},
       "output_type": "pyout",
       "prompt_number": 3,
       "text": [
        "Columns:\n",
        "\ttag\tstr\n",
        "\n",
        "Rows: 10\n",
        "\n",
        "Data:\n",
        "+---------------------+\n",
        "|         tag         |\n",
        "+---------------------+\n",
        "|     z statistic     |\n",
        "|        Z-test       |\n",
        "|     Z-transform     |\n",
        "|    Zakai equation   |\n",
        "|    Zelen's design   |\n",
        "|     Zero\u2013one law    |\n",
        "|  Zeta distribution  |\n",
        "|  Ziggurat algorithm |\n",
        "| Zipf\u2013Mandelbrot law |\n",
        "|      Zipf's law     |\n",
        "+---------------------+\n",
        "[10 rows x 1 columns]\n"
       ]
      }
     ],
     "prompt_number": 3
    },
    {
     "cell_type": "markdown",
     "metadata": {},
     "source": [
      "<h3>Create the autotagger model</h3>"
     ]
    },
    {
     "cell_type": "code",
     "collapsed": false,
     "input": [
      "model = gl.autotagger.create(stats_topics)"
     ],
     "language": "python",
     "metadata": {},
     "outputs": [
      {
       "html": [
        "<pre>PROGRESS: Starting brute force nearest neighbors model training.</pre>"
       ],
       "metadata": {},
       "output_type": "display_data",
       "text": [
        "PROGRESS: Starting brute force nearest neighbors model training."
       ]
      },
      {
       "output_type": "stream",
       "stream": "stdout",
       "text": [
        "Class                               : NearestNeighborAutoTagger\n",
        "\n",
        "Settings\n",
        "--------\n",
        "Number of examples                  : 2731\n",
        "Number of feature columns           : 3\n",
        "Total training time (seconds)       : 1.0918\n"
       ]
      },
      {
       "output_type": "stream",
       "stream": "stdout",
       "text": [
        "\n"
       ]
      }
     ],
     "prompt_number": 4
    },
    {
     "cell_type": "code",
     "collapsed": false,
     "input": [
      "model.list_fields()"
     ],
     "language": "python",
     "metadata": {},
     "outputs": [
      {
       "metadata": {},
       "output_type": "pyout",
       "prompt_number": 5,
       "text": [
        "['distance',\n",
        " 'verbose',\n",
        " 'num_features',\n",
        " 'tag_name',\n",
        " 'training_time',\n",
        " 'num_examples',\n",
        " 'features']"
       ]
      }
     ],
     "prompt_number": 5
    },
    {
     "cell_type": "code",
     "collapsed": false,
     "input": [
      "model.tag?"
     ],
     "language": "python",
     "metadata": {},
     "outputs": [],
     "prompt_number": 6
    },
    {
     "cell_type": "markdown",
     "metadata": {},
     "source": [
      "<h3>Read in the document data</h3>"
     ]
    },
    {
     "cell_type": "code",
     "collapsed": false,
     "input": [
      "if os.path.exists('stats_overflow_clean'):\n",
      "    posts = gl.SFrame('stats_overflow_clean')\n",
      "else:\n",
      "    posts = gl.SFrame('http://s3.amazonaws.com/dato-datasets/stats_overflow_clean')\n",
      "    posts.save('stats_overflow_clean')"
     ],
     "language": "python",
     "metadata": {},
     "outputs": [],
     "prompt_number": 7
    },
    {
     "cell_type": "code",
     "collapsed": false,
     "input": [
      "print \"Number of posts:\", posts.num_rows()\n",
      "posts[['Body', 'Title', 'PostTypeId', 'Tags']].tail(5)"
     ],
     "language": "python",
     "metadata": {},
     "outputs": [
      {
       "output_type": "stream",
       "stream": "stdout",
       "text": [
        "Number of posts: 11077\n"
       ]
      },
      {
       "html": [
        "<div style=\"max-height:1000px;max-width:1500px;overflow:auto;\"><table frame=\"box\" rules=\"cols\">\n",
        "    <tr>\n",
        "        <th style=\"padding-left: 1em; padding-right: 1em; text-align: center\">Body</th>\n",
        "        <th style=\"padding-left: 1em; padding-right: 1em; text-align: center\">Title</th>\n",
        "        <th style=\"padding-left: 1em; padding-right: 1em; text-align: center\">PostTypeId</th>\n",
        "        <th style=\"padding-left: 1em; padding-right: 1em; text-align: center\">Tags</th>\n",
        "    </tr>\n",
        "    <tr>\n",
        "        <td style=\"padding-left: 1em; padding-right: 1em; text-align: center; vertical-align: top\">This grew too long for a<br>comment, but I think ...</td>\n",
        "        <td style=\"padding-left: 1em; padding-right: 1em; text-align: center; vertical-align: top\">None</td>\n",
        "        <td style=\"padding-left: 1em; padding-right: 1em; text-align: center; vertical-align: top\">2</td>\n",
        "        <td style=\"padding-left: 1em; padding-right: 1em; text-align: center; vertical-align: top\">None</td>\n",
        "    </tr>\n",
        "    <tr>\n",
        "        <td style=\"padding-left: 1em; padding-right: 1em; text-align: center; vertical-align: top\">Assume a classification<br>problem where there are ...</td>\n",
        "        <td style=\"padding-left: 1em; padding-right: 1em; text-align: center; vertical-align: top\">Detecting a consistent<br>pattern in a dataset via ...</td>\n",
        "        <td style=\"padding-left: 1em; padding-right: 1em; text-align: center; vertical-align: top\">1</td>\n",
        "        <td style=\"padding-left: 1em; padding-right: 1em; text-align: center; vertical-align: top\">&lt;classification&gt;&lt;cross-<br>validation&gt;&lt;decision- ...</td>\n",
        "    </tr>\n",
        "    <tr>\n",
        "        <td style=\"padding-left: 1em; padding-right: 1em; text-align: center; vertical-align: top\">My goal is to create a<br>formula that can give an ...</td>\n",
        "        <td style=\"padding-left: 1em; padding-right: 1em; text-align: center; vertical-align: top\">How to project video<br>viewcount based on ...</td>\n",
        "        <td style=\"padding-left: 1em; padding-right: 1em; text-align: center; vertical-align: top\">1</td>\n",
        "        <td style=\"padding-left: 1em; padding-right: 1em; text-align: center; vertical-align: top\">&lt;summary-statistics&gt;&lt;medi<br>an&gt;&lt;eviews&gt; ...</td>\n",
        "    </tr>\n",
        "    <tr>\n",
        "        <td style=\"padding-left: 1em; padding-right: 1em; text-align: center; vertical-align: top\">As a practical answer to<br>the real questions yo ...</td>\n",
        "        <td style=\"padding-left: 1em; padding-right: 1em; text-align: center; vertical-align: top\">None</td>\n",
        "        <td style=\"padding-left: 1em; padding-right: 1em; text-align: center; vertical-align: top\">2</td>\n",
        "        <td style=\"padding-left: 1em; padding-right: 1em; text-align: center; vertical-align: top\">None</td>\n",
        "    </tr>\n",
        "    <tr>\n",
        "        <td style=\"padding-left: 1em; padding-right: 1em; text-align: center; vertical-align: top\">Decision trees are<br>notoriously &lt;strong&gt;u ...</td>\n",
        "        <td style=\"padding-left: 1em; padding-right: 1em; text-align: center; vertical-align: top\">None</td>\n",
        "        <td style=\"padding-left: 1em; padding-right: 1em; text-align: center; vertical-align: top\">2</td>\n",
        "        <td style=\"padding-left: 1em; padding-right: 1em; text-align: center; vertical-align: top\">None</td>\n",
        "    </tr>\n",
        "</table>\n",
        "[5 rows x 4 columns]<br/>\n",
        "</div>"
       ],
       "metadata": {},
       "output_type": "pyout",
       "prompt_number": 8,
       "text": [
        "Columns:\n",
        "\tBody\tstr\n",
        "\tTitle\tstr\n",
        "\tPostTypeId\tstr\n",
        "\tTags\tstr\n",
        "\n",
        "Rows: 5\n",
        "\n",
        "Data:\n",
        "+-------------------------------+-------------------------------+------------+\n",
        "|              Body             |             Title             | PostTypeId |\n",
        "+-------------------------------+-------------------------------+------------+\n",
        "| This grew too long for a c... |              None             |     2      |\n",
        "| Assume a classification pr... | Detecting a consistent pat... |     1      |\n",
        "| My goal is to create a for... | How to project video viewc... |     1      |\n",
        "| As a practical answer to t... |              None             |     2      |\n",
        "| Decision trees are notorio... |              None             |     2      |\n",
        "+-------------------------------+-------------------------------+------------+\n",
        "+-------------------------------+\n",
        "|              Tags             |\n",
        "+-------------------------------+\n",
        "|              None             |\n",
        "| <classification><cross-val... |\n",
        "| <summary-statistics><media... |\n",
        "|              None             |\n",
        "|              None             |\n",
        "+-------------------------------+\n",
        "[5 rows x 4 columns]\n"
       ]
      }
     ],
     "prompt_number": 8
    },
    {
     "cell_type": "code",
     "collapsed": true,
     "input": [
      "posts['doc'] = posts['Title'] + ' ' + posts['Body']"
     ],
     "language": "python",
     "metadata": {},
     "outputs": [],
     "prompt_number": 9
    },
    {
     "cell_type": "heading",
     "level": 3,
     "metadata": {},
     "source": [
      "<h3>Query the model</h3>"
     ]
    },
    {
     "cell_type": "markdown",
     "metadata": {},
     "source": [
      "There are two key parameters when querying the model: `k`, which indicates the maximum number of tags to return for each query, and `similarity_threshold`, which indicates the maximum distance from a query document to the tag. The most typical usage is to get preliminary results by setting `k` to 5 and leaving `similarity_threshold` unspecified. Use the `similarity_threshold` parameter to tune the final results for optimal precision and recall."
     ]
    },
    {
     "cell_type": "code",
     "collapsed": false,
     "input": [
      "tags = model.tag(posts, query_name='doc', k=5, similarity_threshold=0.1)"
     ],
     "language": "python",
     "metadata": {},
     "outputs": [
      {
       "html": [
        "<pre>PROGRESS: Starting pairwise querying.</pre>"
       ],
       "metadata": {},
       "output_type": "display_data",
       "text": [
        "PROGRESS: Starting pairwise querying."
       ]
      },
      {
       "html": [
        "<pre>PROGRESS: +--------------+---------+-------------+--------------+</pre>"
       ],
       "metadata": {},
       "output_type": "display_data",
       "text": [
        "PROGRESS: +--------------+---------+-------------+--------------+"
       ]
      },
      {
       "html": [
        "<pre>PROGRESS: | Query points | # Pairs | % Complete. | Elapsed Time |</pre>"
       ],
       "metadata": {},
       "output_type": "display_data",
       "text": [
        "PROGRESS: | Query points | # Pairs | % Complete. | Elapsed Time |"
       ]
      },
      {
       "html": [
        "<pre>PROGRESS: +--------------+---------+-------------+--------------+</pre>"
       ],
       "metadata": {},
       "output_type": "display_data",
       "text": [
        "PROGRESS: +--------------+---------+-------------+--------------+"
       ]
      },
      {
       "html": [
        "<pre>PROGRESS: | 0            | 692     | 0.00228751  | 59.188ms     |</pre>"
       ],
       "metadata": {},
       "output_type": "display_data",
       "text": [
        "PROGRESS: | 0            | 692     | 0.00228751  | 59.188ms     |"
       ]
      },
      {
       "html": [
        "<pre>PROGRESS: | 1774         | 4845384 | 16.0171     | 1.05s        |</pre>"
       ],
       "metadata": {},
       "output_type": "display_data",
       "text": [
        "PROGRESS: | 1774         | 4845384 | 16.0171     | 1.05s        |"
       ]
      },
      {
       "html": [
        "<pre>PROGRESS: | 3535         | 9656131 | 31.9197     | 2.05s        |</pre>"
       ],
       "metadata": {},
       "output_type": "display_data",
       "text": [
        "PROGRESS: | 3535         | 9656131 | 31.9197     | 2.05s        |"
       ]
      },
      {
       "html": [
        "<pre>PROGRESS: | 5297         | 1.4e+07 | 47.8269     | 3.05s        |</pre>"
       ],
       "metadata": {},
       "output_type": "display_data",
       "text": [
        "PROGRESS: | 5297         | 1.4e+07 | 47.8269     | 3.05s        |"
       ]
      },
      {
       "html": [
        "<pre>PROGRESS: | 6918         | 1.9e+07 | 62.4599     | 4.05s        |</pre>"
       ],
       "metadata": {},
       "output_type": "display_data",
       "text": [
        "PROGRESS: | 6918         | 1.9e+07 | 62.4599     | 4.05s        |"
       ]
      },
      {
       "html": [
        "<pre>PROGRESS: | 8564         | 2.3e+07 | 77.3207     | 5.06s        |</pre>"
       ],
       "metadata": {},
       "output_type": "display_data",
       "text": [
        "PROGRESS: | 8564         | 2.3e+07 | 77.3207     | 5.06s        |"
       ]
      },
      {
       "html": [
        "<pre>PROGRESS: | 10373        | 2.8e+07 | 93.6523     | 6.06s        |</pre>"
       ],
       "metadata": {},
       "output_type": "display_data",
       "text": [
        "PROGRESS: | 10373        | 2.8e+07 | 93.6523     | 6.06s        |"
       ]
      },
      {
       "html": [
        "<pre>PROGRESS: | Done         |         | 100         | 6.47s        |</pre>"
       ],
       "metadata": {},
       "output_type": "display_data",
       "text": [
        "PROGRESS: | Done         |         | 100         | 6.47s        |"
       ]
      },
      {
       "html": [
        "<pre>PROGRESS: +--------------+---------+-------------+--------------+</pre>"
       ],
       "metadata": {},
       "output_type": "display_data",
       "text": [
        "PROGRESS: +--------------+---------+-------------+--------------+"
       ]
      }
     ],
     "prompt_number": 10
    },
    {
     "cell_type": "code",
     "collapsed": false,
     "input": [
      "tags.print_rows(10, max_row_width=110, max_column_width=40)"
     ],
     "language": "python",
     "metadata": {},
     "outputs": [
      {
       "output_type": "stream",
       "stream": "stdout",
       "text": [
        "+--------+-----------------------------------------+-----------------------------------------+----------------+\n",
        "| doc_id |                   doc                   |                   tag                   |     score      |\n",
        "+--------+-----------------------------------------+-----------------------------------------+----------------+\n",
        "|   13   | neural network output layer for bina... |          Binary classification          | 0.15503875969  |\n",
        "|   13   | neural network output layer for bina... |        Artificial neural network        | 0.107913669065 |\n",
        "|   13   | neural network output layer for bina... |         One-class classification        | 0.101449275362 |\n",
        "|   13   | neural network output layer for bina... |              Neural network             | 0.100775193798 |\n",
        "|   13   | neural network output layer for bina... |        Multiclass classification        | 0.10071942446  |\n",
        "|   37   | Negative predictions for binomial pr... |        Negative predictive value        | 0.104712041885 |\n",
        "|   55   | Estimating entropy of multidimension... |           Dimension reduction           | 0.101123595506 |\n",
        "|   80   | Does the sequence satisfy WLLN? Coul... |           Law of large numbers          | 0.197916666667 |\n",
        "|   80   | Does the sequence satisfy WLLN? Coul... | Independent and identically distribu... | 0.186046511628 |\n",
        "|   80   | Does the sequence satisfy WLLN? Coul... |     Convergence of random variables     | 0.177570093458 |\n",
        "+--------+-----------------------------------------+-----------------------------------------+----------------+\n",
        "[1356 rows x 4 columns]\n",
        "\n"
       ]
      }
     ],
     "prompt_number": 11
    },
    {
     "cell_type": "markdown",
     "metadata": {},
     "source": [
      "-------------------------"
     ]
    },
    {
     "cell_type": "markdown",
     "metadata": {},
     "source": [
      "<h2>Record linkage of house listings</h2>"
     ]
    },
    {
     "cell_type": "markdown",
     "metadata": {},
     "source": [
      "To illustrate usage of the record linker tool, we use synthetic address data generated by and packaged with the [FEBRL program](http://sourceforge.net/projects/febrl/), another data matching tool. For the sake of illustration suppose the dataset called \"post_address\" is a relatively error free set of reference addresses (say, from the Australian postal service). The dataset called \"agent_listings\" contains data with the same schema, but it has many errors; imagine this is data created by real estate agencies."
     ]
    },
    {
     "cell_type": "markdown",
     "metadata": {},
     "source": [
      "<h3>Read in the reference data</h3>"
     ]
    },
    {
     "cell_type": "markdown",
     "metadata": {},
     "source": [
      "As with the autotagger data, the datasets downloaded in this section are saved locally for repeated usage. From prior experience, we know only a handful of features are useful for this illustration, and they are enumerated in the `address_features` list."
     ]
    },
    {
     "cell_type": "code",
     "collapsed": false,
     "input": [
      "col_types = {'street_number': str, 'postcode': str}\n",
      "address_features = ['street_number', 'address_1', 'suburb', 'state', 'postcode']\n",
      "\n",
      "if os.path.exists('febrl_F_org_5000.csv'):\n",
      "    post_address = gl.SFrame.read_csv('febrl_F_org_5000.csv', column_type_hints=col_types)\n",
      "else:\n",
      "    url = 'http://s3.amazonaws.com/dato-datasets/febrl_synthetic/febrl_F_org_5000.csv'\n",
      "    post_address = gl.SFrame.read_csv(url, column_type_hints=col_types)\n",
      "    post_address.save('febrl_F_org_5000.csv')"
     ],
     "language": "python",
     "metadata": {},
     "outputs": [
      {
       "html": [
        "<pre>PROGRESS: Finished parsing file /home/brian/gl-repos/dato.com/src/learn/gallery/notebooks/febrl_F_org_5000.csv</pre>"
       ],
       "metadata": {},
       "output_type": "display_data",
       "text": [
        "PROGRESS: Finished parsing file /home/brian/gl-repos/dato.com/src/learn/gallery/notebooks/febrl_F_org_5000.csv"
       ]
      },
      {
       "html": [
        "<pre>PROGRESS: Parsing completed. Parsed 100 lines in 0.027237 secs.</pre>"
       ],
       "metadata": {},
       "output_type": "display_data",
       "text": [
        "PROGRESS: Parsing completed. Parsed 100 lines in 0.027237 secs."
       ]
      },
      {
       "html": [
        "<pre>PROGRESS: Finished parsing file /home/brian/gl-repos/dato.com/src/learn/gallery/notebooks/febrl_F_org_5000.csv</pre>"
       ],
       "metadata": {},
       "output_type": "display_data",
       "text": [
        "PROGRESS: Finished parsing file /home/brian/gl-repos/dato.com/src/learn/gallery/notebooks/febrl_F_org_5000.csv"
       ]
      },
      {
       "html": [
        "<pre>PROGRESS: Parsing completed. Parsed 3000 lines in 0.01815 secs.</pre>"
       ],
       "metadata": {},
       "output_type": "display_data",
       "text": [
        "PROGRESS: Parsing completed. Parsed 3000 lines in 0.01815 secs."
       ]
      }
     ],
     "prompt_number": 12
    },
    {
     "cell_type": "code",
     "collapsed": false,
     "input": [
      "post_address = post_address[address_features]\n",
      "post_address.print_rows(5)"
     ],
     "language": "python",
     "metadata": {},
     "outputs": [
      {
       "output_type": "stream",
       "stream": "stdout",
       "text": [
        "+---------------+---------------------+---------------+-------+----------+\n",
        "| street_number |      address_1      |     suburb    | state | postcode |\n",
        "+---------------+---------------------+---------------+-------+----------+\n",
        "|       95      |     galway place    |    st marys   |       |   2681   |\n",
        "|       12      |    burnie street    |   wycheproof  |  nsw  |   2234   |\n",
        "|       16      | macrobertson street |    branxton   |  qld  |   3073   |\n",
        "|      170      |    bonrook street   | brighton east |  nsw  |   3087   |\n",
        "|       32      |   proserpine court  |   helensvale  |  qld  |   2067   |\n",
        "+---------------+---------------------+---------------+-------+----------+\n",
        "[3000 rows x 5 columns]\n",
        "\n"
       ]
      }
     ],
     "prompt_number": 13
    },
    {
     "cell_type": "markdown",
     "metadata": {},
     "source": [
      "<h3>Create the record linker model</h3>"
     ]
    },
    {
     "cell_type": "code",
     "collapsed": false,
     "input": [
      "model = gl.record_linker.create(post_address, distance='jaccard')\n",
      "model.summary()"
     ],
     "language": "python",
     "metadata": {},
     "outputs": [
      {
       "html": [
        "<pre>PROGRESS: Starting brute force nearest neighbors model training.</pre>"
       ],
       "metadata": {},
       "output_type": "display_data",
       "text": [
        "PROGRESS: Starting brute force nearest neighbors model training."
       ]
      },
      {
       "output_type": "stream",
       "stream": "stdout",
       "text": [
        "Class                               : RecordLinker\n",
        "\n",
        "Schema\n",
        "------\n",
        "Number of examples                  : 3000\n",
        "Number of feature columns           : 5\n",
        "Number of distance components       : 1\n",
        "Method                              : brute_force\n",
        "\n",
        "Training\n",
        "--------\n",
        "Total training time (seconds)       : 0.6078\n"
       ]
      },
      {
       "output_type": "stream",
       "stream": "stdout",
       "text": [
        "\n"
       ]
      }
     ],
     "prompt_number": 14
    },
    {
     "cell_type": "code",
     "collapsed": false,
     "input": [
      "model.list_fields()"
     ],
     "language": "python",
     "metadata": {},
     "outputs": [
      {
       "metadata": {},
       "output_type": "pyout",
       "prompt_number": 15,
       "text": [
        "['distance',\n",
        " 'verbose',\n",
        " 'num_features',\n",
        " 'num_distance_components',\n",
        " 'training_time',\n",
        " 'num_examples',\n",
        " 'method',\n",
        " 'features']"
       ]
      }
     ],
     "prompt_number": 15
    },
    {
     "cell_type": "markdown",
     "metadata": {},
     "source": [
      "<h3>Read in the query data</h3>"
     ]
    },
    {
     "cell_type": "code",
     "collapsed": false,
     "input": [
      "if os.path.exists('febrl_F_dup_5000.csv'):\n",
      "    agent_listings = gl.SFrame.read_csv('febrl_F_dup_5000.csv',\n",
      "                                        column_type_hints=col_types)\n",
      "else:\n",
      "    url = 'http://s3.amazonaws.com/dato-datasets/febrl_synthetic/febrl_F_dup_5000.csv'\n",
      "    agent_listings = gl.SFrame.read_csv(url, column_type_hints=col_types)\n",
      "    agent_listings.save('febrl_F_dup_5000.csv')"
     ],
     "language": "python",
     "metadata": {},
     "outputs": [
      {
       "html": [
        "<pre>PROGRESS: Finished parsing file /home/brian/gl-repos/dato.com/src/learn/gallery/notebooks/febrl_F_dup_5000.csv</pre>"
       ],
       "metadata": {},
       "output_type": "display_data",
       "text": [
        "PROGRESS: Finished parsing file /home/brian/gl-repos/dato.com/src/learn/gallery/notebooks/febrl_F_dup_5000.csv"
       ]
      },
      {
       "html": [
        "<pre>PROGRESS: Parsing completed. Parsed 100 lines in 0.021774 secs.</pre>"
       ],
       "metadata": {},
       "output_type": "display_data",
       "text": [
        "PROGRESS: Parsing completed. Parsed 100 lines in 0.021774 secs."
       ]
      },
      {
       "html": [
        "<pre>PROGRESS: Finished parsing file /home/brian/gl-repos/dato.com/src/learn/gallery/notebooks/febrl_F_dup_5000.csv</pre>"
       ],
       "metadata": {},
       "output_type": "display_data",
       "text": [
        "PROGRESS: Finished parsing file /home/brian/gl-repos/dato.com/src/learn/gallery/notebooks/febrl_F_dup_5000.csv"
       ]
      },
      {
       "html": [
        "<pre>PROGRESS: Parsing completed. Parsed 2000 lines in 0.016147 secs.</pre>"
       ],
       "metadata": {},
       "output_type": "display_data",
       "text": [
        "PROGRESS: Parsing completed. Parsed 2000 lines in 0.016147 secs."
       ]
      }
     ],
     "prompt_number": 16
    },
    {
     "cell_type": "code",
     "collapsed": false,
     "input": [
      "agent_listings = agent_listings[address_features]\n",
      "agent_listings.print_rows(5)"
     ],
     "language": "python",
     "metadata": {},
     "outputs": [
      {
       "output_type": "stream",
       "stream": "stdout",
       "text": [
        "+---------------+-----------------+-------------------+-------+----------+\n",
        "| street_number |    address_1    |       suburb      | state | postcode |\n",
        "+---------------+-----------------+-------------------+-------+----------+\n",
        "|       31      |                 |     reseevoir     |  qld  |   5265   |\n",
        "|      329      |                 | smithfield plains |  vic  |   5044   |\n",
        "|       37      | kelleway avenue |     burwooast     |  nsw  |   2770   |\n",
        "|       15      |  mawalan street |     kallangur     |  nss  |   2506   |\n",
        "|      380      |   davisktrdet   |    boyne ilsand   |  nss  |   6059   |\n",
        "+---------------+-----------------+-------------------+-------+----------+\n",
        "[2000 rows x 5 columns]\n",
        "\n"
       ]
      }
     ],
     "prompt_number": 17
    },
    {
     "cell_type": "markdown",
     "metadata": {},
     "source": [
      "<h3>Query the model</h3>"
     ]
    },
    {
     "cell_type": "markdown",
     "metadata": {},
     "source": [
      "Results are obtained with the model's `link` method, which matches a new set of queries to the reference data passed in above to the `create` function. For our first pass, we set the `radius` parameter to 0.5, which means that matches must share at least roughly 50% of the information contained in both the `post_address` and `agent_listings` records."
     ]
    },
    {
     "cell_type": "code",
     "collapsed": true,
     "input": [
      "model.link?"
     ],
     "language": "python",
     "metadata": {},
     "outputs": [],
     "prompt_number": 18
    },
    {
     "cell_type": "code",
     "collapsed": false,
     "input": [
      "matches = model.link(agent_listings, k=None, radius=0.5)\n",
      "matches.head(5)"
     ],
     "language": "python",
     "metadata": {},
     "outputs": [
      {
       "html": [
        "<pre>PROGRESS: Starting pairwise querying.</pre>"
       ],
       "metadata": {},
       "output_type": "display_data",
       "text": [
        "PROGRESS: Starting pairwise querying."
       ]
      },
      {
       "html": [
        "<pre>PROGRESS: +--------------+---------+-------------+--------------+</pre>"
       ],
       "metadata": {},
       "output_type": "display_data",
       "text": [
        "PROGRESS: +--------------+---------+-------------+--------------+"
       ]
      },
      {
       "html": [
        "<pre>PROGRESS: | Query points | # Pairs | % Complete. | Elapsed Time |</pre>"
       ],
       "metadata": {},
       "output_type": "display_data",
       "text": [
        "PROGRESS: | Query points | # Pairs | % Complete. | Elapsed Time |"
       ]
      },
      {
       "html": [
        "<pre>PROGRESS: +--------------+---------+-------------+--------------+</pre>"
       ],
       "metadata": {},
       "output_type": "display_data",
       "text": [
        "PROGRESS: +--------------+---------+-------------+--------------+"
       ]
      },
      {
       "html": [
        "<pre>PROGRESS: | 0            | 2000    | 0.0333333   | 4.099ms      |</pre>"
       ],
       "metadata": {},
       "output_type": "display_data",
       "text": [
        "PROGRESS: | 0            | 2000    | 0.0333333   | 4.099ms      |"
       ]
      },
      {
       "html": [
        "<pre>PROGRESS: | Done         |         | 100         | 461.073ms    |</pre>"
       ],
       "metadata": {},
       "output_type": "display_data",
       "text": [
        "PROGRESS: | Done         |         | 100         | 461.073ms    |"
       ]
      },
      {
       "html": [
        "<pre>PROGRESS: +--------------+---------+-------------+--------------+</pre>"
       ],
       "metadata": {},
       "output_type": "display_data",
       "text": [
        "PROGRESS: +--------------+---------+-------------+--------------+"
       ]
      },
      {
       "html": [
        "<div style=\"max-height:1000px;max-width:1500px;overflow:auto;\"><table frame=\"box\" rules=\"cols\">\n",
        "    <tr>\n",
        "        <th style=\"padding-left: 1em; padding-right: 1em; text-align: center\">query_label</th>\n",
        "        <th style=\"padding-left: 1em; padding-right: 1em; text-align: center\">reference_label</th>\n",
        "        <th style=\"padding-left: 1em; padding-right: 1em; text-align: center\">distance</th>\n",
        "        <th style=\"padding-left: 1em; padding-right: 1em; text-align: center\">rank</th>\n",
        "    </tr>\n",
        "    <tr>\n",
        "        <td style=\"padding-left: 1em; padding-right: 1em; text-align: center; vertical-align: top\">1</td>\n",
        "        <td style=\"padding-left: 1em; padding-right: 1em; text-align: center; vertical-align: top\">2438</td>\n",
        "        <td style=\"padding-left: 1em; padding-right: 1em; text-align: center; vertical-align: top\">0.41935483871</td>\n",
        "        <td style=\"padding-left: 1em; padding-right: 1em; text-align: center; vertical-align: top\">1</td>\n",
        "    </tr>\n",
        "    <tr>\n",
        "        <td style=\"padding-left: 1em; padding-right: 1em; text-align: center; vertical-align: top\">1</td>\n",
        "        <td style=\"padding-left: 1em; padding-right: 1em; text-align: center; vertical-align: top\">533</td>\n",
        "        <td style=\"padding-left: 1em; padding-right: 1em; text-align: center; vertical-align: top\">0.5</td>\n",
        "        <td style=\"padding-left: 1em; padding-right: 1em; text-align: center; vertical-align: top\">2</td>\n",
        "    </tr>\n",
        "    <tr>\n",
        "        <td style=\"padding-left: 1em; padding-right: 1em; text-align: center; vertical-align: top\">2</td>\n",
        "        <td style=\"padding-left: 1em; padding-right: 1em; text-align: center; vertical-align: top\">688</td>\n",
        "        <td style=\"padding-left: 1em; padding-right: 1em; text-align: center; vertical-align: top\">0.192307692308</td>\n",
        "        <td style=\"padding-left: 1em; padding-right: 1em; text-align: center; vertical-align: top\">1</td>\n",
        "    </tr>\n",
        "    <tr>\n",
        "        <td style=\"padding-left: 1em; padding-right: 1em; text-align: center; vertical-align: top\">3</td>\n",
        "        <td style=\"padding-left: 1em; padding-right: 1em; text-align: center; vertical-align: top\">2947</td>\n",
        "        <td style=\"padding-left: 1em; padding-right: 1em; text-align: center; vertical-align: top\">0.0454545454545</td>\n",
        "        <td style=\"padding-left: 1em; padding-right: 1em; text-align: center; vertical-align: top\">1</td>\n",
        "    </tr>\n",
        "    <tr>\n",
        "        <td style=\"padding-left: 1em; padding-right: 1em; text-align: center; vertical-align: top\">5</td>\n",
        "        <td style=\"padding-left: 1em; padding-right: 1em; text-align: center; vertical-align: top\">1705</td>\n",
        "        <td style=\"padding-left: 1em; padding-right: 1em; text-align: center; vertical-align: top\">0.047619047619</td>\n",
        "        <td style=\"padding-left: 1em; padding-right: 1em; text-align: center; vertical-align: top\">1</td>\n",
        "    </tr>\n",
        "</table>\n",
        "[5 rows x 4 columns]<br/>\n",
        "</div>"
       ],
       "metadata": {},
       "output_type": "pyout",
       "prompt_number": 19,
       "text": [
        "Columns:\n",
        "\tquery_label\tint\n",
        "\treference_label\tint\n",
        "\tdistance\tfloat\n",
        "\trank\tint\n",
        "\n",
        "Rows: 5\n",
        "\n",
        "Data:\n",
        "+-------------+-----------------+-----------------+------+\n",
        "| query_label | reference_label |     distance    | rank |\n",
        "+-------------+-----------------+-----------------+------+\n",
        "|      1      |       2438      |  0.41935483871  |  1   |\n",
        "|      1      |       533       |       0.5       |  2   |\n",
        "|      2      |       688       |  0.192307692308 |  1   |\n",
        "|      3      |       2947      | 0.0454545454545 |  1   |\n",
        "|      5      |       1705      |  0.047619047619 |  1   |\n",
        "+-------------+-----------------+-----------------+------+\n",
        "[5 rows x 4 columns]\n"
       ]
      }
     ],
     "prompt_number": 19
    },
    {
     "cell_type": "markdown",
     "metadata": {},
     "source": [
      "<h3>Evaluate</h3>"
     ]
    },
    {
     "cell_type": "markdown",
     "metadata": {},
     "source": [
      "The results mean that the address in query row 1 match the address in refs row number 2438, although the Jaccard distance is relatively high at 0.42. Inspecting these records manually we see this is in fact not a good match."
     ]
    },
    {
     "cell_type": "code",
     "collapsed": false,
     "input": [
      "print agent_listings[1]\n",
      "print post_address[2438]"
     ],
     "language": "python",
     "metadata": {},
     "outputs": [
      {
       "output_type": "stream",
       "stream": "stdout",
       "text": [
        "{'suburb': 'smithfield plains', 'state': 'vic', 'address_1': '', 'street_number': '329', 'postcode': '5044'}\n",
        "{'suburb': 'smithfield plains', 'state': 'vic', 'address_1': 'sculptor street', 'street_number': '16', 'postcode': '5044'}\n"
       ]
      }
     ],
     "prompt_number": 20
    },
    {
     "cell_type": "markdown",
     "metadata": {},
     "source": [
      "On the other hand, the match between query number 3 and reference number 2947 has a distance of 0.045, indicating these two records are far more similar. By pulling these records we confirm this to be the case."
     ]
    },
    {
     "cell_type": "code",
     "collapsed": false,
     "input": [
      "print agent_listings[3]\n",
      "print post_address[2947]"
     ],
     "language": "python",
     "metadata": {},
     "outputs": [
      {
       "output_type": "stream",
       "stream": "stdout",
       "text": [
        "{'suburb': 'kallangur', 'state': 'nss', 'address_1': 'mawalan street', 'street_number': '15', 'postcode': '2506'}\n",
        "{'suburb': 'kallangur', 'state': 'nsw', 'address_1': 'mawalan street', 'street_number': '12', 'postcode': '2506'}\n"
       ]
      }
     ],
     "prompt_number": 21
    },
    {
     "cell_type": "markdown",
     "metadata": {},
     "source": [
      "Unfortunately, these records are still not a true match because the street numbers are different (in a way that is not likely to be a typo). Ideally we would like street number differences to be weighted heavily in our distance function, while still allowing for typos and misspellings in the street and city names. To do this we can build a **composite distance** function."
     ]
    },
    {
     "cell_type": "markdown",
     "metadata": {},
     "source": [
      "******"
     ]
    },
    {
     "cell_type": "markdown",
     "metadata": {},
     "source": [
      "<h2>Composite distances and choosing neighborhood parameters</h2>"
     ]
    },
    {
     "cell_type": "markdown",
     "metadata": {},
     "source": [
      "<h3>Create a composite distance and a new model</h3>"
     ]
    },
    {
     "cell_type": "markdown",
     "metadata": {},
     "source": [
      "In this case we'll use Levenshtein distance to measure the dissimilarity in street number, in addition to our existing Jaccard distance measured over all of the address features. Both of these components will be given equal weight. In the summary of the created model, we see the number of distance components is now two---Levenshtein and Jaccard distances---instead of one in our first model."
     ]
    },
    {
     "cell_type": "code",
     "collapsed": false,
     "input": [
      "address_dist = [\n",
      "                [['street_number'], 'levenshtein', 1],\n",
      "                [address_features, 'jaccard', 1]\n",
      "               ]\n",
      "\n",
      "model2 = gl.record_linker.create(post_address, distance=address_dist)\n",
      "model2.summary()"
     ],
     "language": "python",
     "metadata": {},
     "outputs": [
      {
       "html": [
        "<pre>PROGRESS: Starting brute force nearest neighbors model training.</pre>"
       ],
       "metadata": {},
       "output_type": "display_data",
       "text": [
        "PROGRESS: Starting brute force nearest neighbors model training."
       ]
      },
      {
       "output_type": "stream",
       "stream": "stdout",
       "text": [
        "Defaulting to brute force instead of ball tree because there are multiple distance components.\n",
        "Class                               : RecordLinker\n",
        "\n",
        "Schema\n",
        "------\n",
        "Number of examples                  : 3000\n",
        "Number of feature columns           : 5\n",
        "Number of distance components       : 2\n",
        "Method                              : brute_force\n",
        "\n",
        "Training\n",
        "--------\n",
        "Total training time (seconds)       : 0.4195\n"
       ]
      },
      {
       "output_type": "stream",
       "stream": "stdout",
       "text": [
        "\n"
       ]
      }
     ],
     "prompt_number": 22
    },
    {
     "cell_type": "code",
     "collapsed": false,
     "input": [
      "model2['distance']"
     ],
     "language": "python",
     "metadata": {},
     "outputs": [
      {
       "metadata": {},
       "output_type": "pyout",
       "prompt_number": 23,
       "text": [
        "[[['street_number'], 'levenshtein', 1],\n",
        " [['street_number', 'address_1', 'suburb', 'state', 'postcode'], 'jaccard', 1]]"
       ]
      }
     ],
     "prompt_number": 23
    },
    {
     "cell_type": "markdown",
     "metadata": {},
     "source": [
      "<h3>Query the model for a large number of neighbors</h3>"
     ]
    },
    {
     "cell_type": "markdown",
     "metadata": {},
     "source": [
      "One tricky aspect of using a composite distance is figuring out the best threshold for match quality. A simple way to do this is to first return a relatively high number of matches for each query, then look at the distribution of distances for good thresholds using the `radius` parameter. For this notebook, I've captured a screenshot of the canvas output and display it below."
     ]
    },
    {
     "cell_type": "code",
     "collapsed": false,
     "input": [
      "pre_match = model2.link(agent_listings, k=10, verbose=False)\n",
      "pre_match['distance'].show()"
     ],
     "language": "python",
     "metadata": {},
     "outputs": [
      {
       "output_type": "stream",
       "stream": "stdout",
       "text": [
        "Canvas is accessible via web browser at the URL: http://localhost:60810/index.html\n",
        "Opening Canvas in default web browser.\n"
       ]
      }
     ],
     "prompt_number": 24
    },
    {
     "cell_type": "code",
     "collapsed": false,
     "input": [
      "from IPython.display import Image\n",
      "Image(url='https://s3.amazonaws.com/dato-datasets/data_matching/house_link_distances.png')"
     ],
     "language": "python",
     "metadata": {},
     "outputs": [
      {
       "html": [
        "<img src=\"https://s3.amazonaws.com/dato-datasets/data_matching/house_link_distances.png\"/>"
       ],
       "metadata": {},
       "output_type": "pyout",
       "prompt_number": 25,
       "text": [
        "<IPython.core.display.Image at 0x7fc0dd780fd0>"
       ]
      }
     ],
     "prompt_number": 25
    },
    {
     "cell_type": "markdown",
     "metadata": {},
     "source": [
      "<h3>Calibrate the parameters for results quality</h3>"
     ]
    },
    {
     "cell_type": "markdown",
     "metadata": {},
     "source": [
      "In this distribution we see a stark jump at 0.636 in the distribution of distances for the 10-nearest neighbors of every query (remember this is no longer simple Jaccard distance, but a sum of Jaccard and Levenshtein distances over different sets of features). In our final pass, we set the `k` parameter to None, but enforce this distance threshold with the `radius` parameter."
     ]
    },
    {
     "cell_type": "code",
     "collapsed": false,
     "input": [
      "matches = model2.link(agent_listings, k=None, radius=0.64, verbose=False)\n",
      "matches.head(5)"
     ],
     "language": "python",
     "metadata": {},
     "outputs": [
      {
       "html": [
        "<div style=\"max-height:1000px;max-width:1500px;overflow:auto;\"><table frame=\"box\" rules=\"cols\">\n",
        "    <tr>\n",
        "        <th style=\"padding-left: 1em; padding-right: 1em; text-align: center\">query_label</th>\n",
        "        <th style=\"padding-left: 1em; padding-right: 1em; text-align: center\">reference_label</th>\n",
        "        <th style=\"padding-left: 1em; padding-right: 1em; text-align: center\">distance</th>\n",
        "        <th style=\"padding-left: 1em; padding-right: 1em; text-align: center\">rank</th>\n",
        "    </tr>\n",
        "    <tr>\n",
        "        <td style=\"padding-left: 1em; padding-right: 1em; text-align: center; vertical-align: top\">6</td>\n",
        "        <td style=\"padding-left: 1em; padding-right: 1em; text-align: center; vertical-align: top\">1266</td>\n",
        "        <td style=\"padding-left: 1em; padding-right: 1em; text-align: center; vertical-align: top\">0.333333333333</td>\n",
        "        <td style=\"padding-left: 1em; padding-right: 1em; text-align: center; vertical-align: top\">1</td>\n",
        "    </tr>\n",
        "    <tr>\n",
        "        <td style=\"padding-left: 1em; padding-right: 1em; text-align: center; vertical-align: top\">7</td>\n",
        "        <td style=\"padding-left: 1em; padding-right: 1em; text-align: center; vertical-align: top\">2377</td>\n",
        "        <td style=\"padding-left: 1em; padding-right: 1em; text-align: center; vertical-align: top\">0.208333333333</td>\n",
        "        <td style=\"padding-left: 1em; padding-right: 1em; text-align: center; vertical-align: top\">1</td>\n",
        "    </tr>\n",
        "    <tr>\n",
        "        <td style=\"padding-left: 1em; padding-right: 1em; text-align: center; vertical-align: top\">9</td>\n",
        "        <td style=\"padding-left: 1em; padding-right: 1em; text-align: center; vertical-align: top\">2804</td>\n",
        "        <td style=\"padding-left: 1em; padding-right: 1em; text-align: center; vertical-align: top\">0.575757575758</td>\n",
        "        <td style=\"padding-left: 1em; padding-right: 1em; text-align: center; vertical-align: top\">1</td>\n",
        "    </tr>\n",
        "    <tr>\n",
        "        <td style=\"padding-left: 1em; padding-right: 1em; text-align: center; vertical-align: top\">12</td>\n",
        "        <td style=\"padding-left: 1em; padding-right: 1em; text-align: center; vertical-align: top\">2208</td>\n",
        "        <td style=\"padding-left: 1em; padding-right: 1em; text-align: center; vertical-align: top\">0.181818181818</td>\n",
        "        <td style=\"padding-left: 1em; padding-right: 1em; text-align: center; vertical-align: top\">1</td>\n",
        "    </tr>\n",
        "    <tr>\n",
        "        <td style=\"padding-left: 1em; padding-right: 1em; text-align: center; vertical-align: top\">13</td>\n",
        "        <td style=\"padding-left: 1em; padding-right: 1em; text-align: center; vertical-align: top\">1346</td>\n",
        "        <td style=\"padding-left: 1em; padding-right: 1em; text-align: center; vertical-align: top\">0.111111111111</td>\n",
        "        <td style=\"padding-left: 1em; padding-right: 1em; text-align: center; vertical-align: top\">1</td>\n",
        "    </tr>\n",
        "</table>\n",
        "[5 rows x 4 columns]<br/>\n",
        "</div>"
       ],
       "metadata": {},
       "output_type": "pyout",
       "prompt_number": 26,
       "text": [
        "Columns:\n",
        "\tquery_label\tint\n",
        "\treference_label\tint\n",
        "\tdistance\tfloat\n",
        "\trank\tint\n",
        "\n",
        "Rows: 5\n",
        "\n",
        "Data:\n",
        "+-------------+-----------------+----------------+------+\n",
        "| query_label | reference_label |    distance    | rank |\n",
        "+-------------+-----------------+----------------+------+\n",
        "|      6      |       1266      | 0.333333333333 |  1   |\n",
        "|      7      |       2377      | 0.208333333333 |  1   |\n",
        "|      9      |       2804      | 0.575757575758 |  1   |\n",
        "|      12     |       2208      | 0.181818181818 |  1   |\n",
        "|      13     |       1346      | 0.111111111111 |  1   |\n",
        "+-------------+-----------------+----------------+------+\n",
        "[5 rows x 4 columns]\n"
       ]
      }
     ],
     "prompt_number": 26
    },
    {
     "cell_type": "markdown",
     "metadata": {},
     "source": [
      "There are far fewer results now, but they are much more likely to be true matches than with our first model, even while allowing for typos in many of the address fields."
     ]
    },
    {
     "cell_type": "code",
     "collapsed": false,
     "input": [
      "print agent_listings[6]\n",
      "print post_address[1266]"
     ],
     "language": "python",
     "metadata": {},
     "outputs": [
      {
       "output_type": "stream",
       "stream": "stdout",
       "text": [
        "{'suburb': 'clayton south', 'state': '', 'address_1': 'ingham oace', 'street_number': '128', 'postcode': '7520'}\n",
        "{'suburb': 'clayton south', 'state': 'nsw', 'address_1': 'ingham place', 'street_number': '128', 'postcode': '7052'}\n"
       ]
      }
     ],
     "prompt_number": 27
    }
   ],
   "metadata": {}
  }
 ]
}